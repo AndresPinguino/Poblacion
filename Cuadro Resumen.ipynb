{
 "cells": [
  {
   "cell_type": "code",
   "execution_count": 1,
   "metadata": {
    "collapsed": false
   },
   "outputs": [
    {
     "data": {
      "text/html": [
       "<script>\n",
       "code_show=true; \n",
       "function code_toggle() {\n",
       " if (code_show){\n",
       " $('div.input').hide();\n",
       " } else {\n",
       " $('div.input').show();\n",
       " }\n",
       " code_show = !code_show\n",
       "} \n",
       "$( document ).ready(code_toggle);\n",
       "</script>\n",
       "<form action=\"javascript:code_toggle()\"><input type=\"submit\" value=\"Click aquí para ver el código.\"></form>"
      ],
      "text/plain": [
       "<IPython.core.display.HTML object>"
      ]
     },
     "execution_count": 1,
     "metadata": {},
     "output_type": "execute_result"
    }
   ],
   "source": [
    "from IPython.display import HTML\n",
    "\n",
    "HTML('''<script>\n",
    "code_show=true; \n",
    "function code_toggle() {\n",
    " if (code_show){\n",
    " $('div.input').hide();\n",
    " } else {\n",
    " $('div.input').show();\n",
    " }\n",
    " code_show = !code_show\n",
    "} \n",
    "$( document ).ready(code_toggle);\n",
    "</script>\n",
    "<form action=\"javascript:code_toggle()\"><input type=\"submit\" value=\"Click aquí para ver el código.\"></form>''')"
   ]
  },
  {
   "cell_type": "code",
   "execution_count": 2,
   "metadata": {
    "collapsed": false
   },
   "outputs": [
    {
     "data": {
      "text/html": [
       "<p align=\"center\"> <font size=\"5\" color=\"#0404B4\" face=\"sans-serif\"> <b> Tabla Resumen <b> </font> </p>"
      ],
      "text/plain": [
       "<IPython.core.display.HTML object>"
      ]
     },
     "execution_count": 2,
     "metadata": {},
     "output_type": "execute_result"
    }
   ],
   "source": [
    "HTML(\"\"\"<p align=\"center\"> <font size=\"5\" color=\"#0404B4\" face=\"sans-serif\"> <b> Tabla Resumen <b> </font> </p>\"\"\")"
   ]
  },
  {
   "cell_type": "code",
   "execution_count": 3,
   "metadata": {
    "collapsed": true
   },
   "outputs": [],
   "source": [
    "P20_metodo1=[366570,139322,235899,51319,26125,59410,4840,10442,3104,3250,2341,2054,438] # Método de las Tasas Medias Anuales Decrecientes\n",
    "P20_metodo2=[306043,131275,159985,46524,20250,49845,4525,9443,2983,3023,1995,1835,434] # Proyección Aritmética Tasa del Último Período Censal \n",
    "P20_metodo3=[257999,130153,139470,47000,17257,48804,4375,9646,3073,3284,1951,1873,506] # Proyección Aritmética Tasa Dos Últimos Períodos Censales\n",
    "P20_metodo4=[404689,139192,253347,51349,28631,59297,4892,10448,3100,3258,2342,2057,437] # Proyección Geométrica"
   ]
  },
  {
   "cell_type": "code",
   "execution_count": 4,
   "metadata": {
    "collapsed": false
   },
   "outputs": [],
   "source": [
    "Promedio = [0] * len(P20_metodo1)\n",
    "for i in range(len(P20_metodo1)):\n",
    "    Promedio[i]=int(round((P20_metodo1[i]+P20_metodo2[i]+P20_metodo3[i]+P20_metodo4[i])/4,0))"
   ]
  },
  {
   "cell_type": "markdown",
   "metadata": {},
   "source": [
    "# # Tabla resumen de las poblaciones a 20 años por diferentes métodos\n",
    "*  Método 1 = Método de las Tasas Medias Anuales Decrecientes\n",
    "*  Método 2 = Proyección Aritmética Tasa del Último Período Censal \n",
    "*  Método 3 = Proyección Aritmética Tasa Dos Últimos Períodos Censales\n",
    "*  Método 4 = Proyección Geométrica"
   ]
  },
  {
   "cell_type": "code",
   "execution_count": 5,
   "metadata": {
    "collapsed": true
   },
   "outputs": [],
   "source": [
    "import pandas as pd"
   ]
  },
  {
   "cell_type": "code",
   "execution_count": 6,
   "metadata": {
    "collapsed": false
   },
   "outputs": [
    {
     "data": {
      "text/html": [
       "<div>\n",
       "<table border=\"1\" class=\"dataframe\">\n",
       "  <thead>\n",
       "    <tr style=\"text-align: right;\">\n",
       "      <th></th>\n",
       "      <th>Ciudades</th>\n",
       "      <th>Método 1</th>\n",
       "      <th>Método 2</th>\n",
       "      <th>Método 3</th>\n",
       "      <th>Método 4</th>\n",
       "      <th>Promedio</th>\n",
       "    </tr>\n",
       "  </thead>\n",
       "  <tbody>\n",
       "    <tr>\n",
       "      <th>0</th>\n",
       "      <td>Comodoro Rivadavia</td>\n",
       "      <td>366570</td>\n",
       "      <td>306043</td>\n",
       "      <td>257999</td>\n",
       "      <td>404689</td>\n",
       "      <td>333825</td>\n",
       "    </tr>\n",
       "    <tr>\n",
       "      <th>1</th>\n",
       "      <td>Trelew</td>\n",
       "      <td>139322</td>\n",
       "      <td>131275</td>\n",
       "      <td>130153</td>\n",
       "      <td>139192</td>\n",
       "      <td>134986</td>\n",
       "    </tr>\n",
       "    <tr>\n",
       "      <th>2</th>\n",
       "      <td>Puerto Madryn</td>\n",
       "      <td>235899</td>\n",
       "      <td>159985</td>\n",
       "      <td>139470</td>\n",
       "      <td>253347</td>\n",
       "      <td>197175</td>\n",
       "    </tr>\n",
       "    <tr>\n",
       "      <th>3</th>\n",
       "      <td>Esquel</td>\n",
       "      <td>51319</td>\n",
       "      <td>46524</td>\n",
       "      <td>47000</td>\n",
       "      <td>51349</td>\n",
       "      <td>49048</td>\n",
       "    </tr>\n",
       "    <tr>\n",
       "      <th>4</th>\n",
       "      <td>Sarmiento</td>\n",
       "      <td>26125</td>\n",
       "      <td>20250</td>\n",
       "      <td>17257</td>\n",
       "      <td>28631</td>\n",
       "      <td>23066</td>\n",
       "    </tr>\n",
       "    <tr>\n",
       "      <th>5</th>\n",
       "      <td>Rawson</td>\n",
       "      <td>59410</td>\n",
       "      <td>49845</td>\n",
       "      <td>48804</td>\n",
       "      <td>59297</td>\n",
       "      <td>54339</td>\n",
       "    </tr>\n",
       "    <tr>\n",
       "      <th>6</th>\n",
       "      <td>Dolavon</td>\n",
       "      <td>4840</td>\n",
       "      <td>4525</td>\n",
       "      <td>4375</td>\n",
       "      <td>4892</td>\n",
       "      <td>4658</td>\n",
       "    </tr>\n",
       "    <tr>\n",
       "      <th>7</th>\n",
       "      <td>Gaiman</td>\n",
       "      <td>10442</td>\n",
       "      <td>9443</td>\n",
       "      <td>9646</td>\n",
       "      <td>10448</td>\n",
       "      <td>9995</td>\n",
       "    </tr>\n",
       "    <tr>\n",
       "      <th>8</th>\n",
       "      <td>Gobernador Costa</td>\n",
       "      <td>3104</td>\n",
       "      <td>2983</td>\n",
       "      <td>3073</td>\n",
       "      <td>3100</td>\n",
       "      <td>3065</td>\n",
       "    </tr>\n",
       "    <tr>\n",
       "      <th>9</th>\n",
       "      <td>Cholila</td>\n",
       "      <td>3250</td>\n",
       "      <td>3023</td>\n",
       "      <td>3284</td>\n",
       "      <td>3258</td>\n",
       "      <td>3204</td>\n",
       "    </tr>\n",
       "    <tr>\n",
       "      <th>10</th>\n",
       "      <td>Camarones</td>\n",
       "      <td>2341</td>\n",
       "      <td>1995</td>\n",
       "      <td>1951</td>\n",
       "      <td>2342</td>\n",
       "      <td>2157</td>\n",
       "    </tr>\n",
       "    <tr>\n",
       "      <th>11</th>\n",
       "      <td>Paso de Indios</td>\n",
       "      <td>2054</td>\n",
       "      <td>1835</td>\n",
       "      <td>1873</td>\n",
       "      <td>2057</td>\n",
       "      <td>1955</td>\n",
       "    </tr>\n",
       "    <tr>\n",
       "      <th>12</th>\n",
       "      <td>Paso del Sapo</td>\n",
       "      <td>438</td>\n",
       "      <td>434</td>\n",
       "      <td>506</td>\n",
       "      <td>437</td>\n",
       "      <td>454</td>\n",
       "    </tr>\n",
       "  </tbody>\n",
       "</table>\n",
       "</div>"
      ],
      "text/plain": [
       "              Ciudades  Método 1  Método 2  Método 3  Método 4  Promedio\n",
       "0   Comodoro Rivadavia    366570    306043    257999    404689    333825\n",
       "1               Trelew    139322    131275    130153    139192    134986\n",
       "2        Puerto Madryn    235899    159985    139470    253347    197175\n",
       "3               Esquel     51319     46524     47000     51349     49048\n",
       "4            Sarmiento     26125     20250     17257     28631     23066\n",
       "5               Rawson     59410     49845     48804     59297     54339\n",
       "6              Dolavon      4840      4525      4375      4892      4658\n",
       "7               Gaiman     10442      9443      9646     10448      9995\n",
       "8     Gobernador Costa      3104      2983      3073      3100      3065\n",
       "9              Cholila      3250      3023      3284      3258      3204\n",
       "10           Camarones      2341      1995      1951      2342      2157\n",
       "11      Paso de Indios      2054      1835      1873      2057      1955\n",
       "12       Paso del Sapo       438       434       506       437       454"
      ]
     },
     "execution_count": 6,
     "metadata": {},
     "output_type": "execute_result"
    }
   ],
   "source": [
    "ciudades=[\"Comodoro Rivadavia\",\"Trelew\",\"Puerto Madryn\",\"Esquel\",\"Sarmiento\",\"Rawson\",\"Dolavon\",\"Gaiman\",\"Gobernador Costa\",\"Cholila\",\"Camarones\",\"Paso de Indios\",\"Paso del Sapo\"]\n",
    "labels = ['Ciudades']\n",
    "df = pd.DataFrame(ciudades, columns=labels)\n",
    "\n",
    "\n",
    "df2 = pd.DataFrame({'Método 1' :P20_metodo1, \n",
    "                    'Método 2' :P20_metodo2,\n",
    "                    'Método 3' :P20_metodo3,\n",
    "                    'Método 4' :P20_metodo4,\n",
    "                    'Promedio' :Promedio})\n",
    "\n",
    "result = pd.concat([df, df2], axis=1, join_axes=[df.index])\n",
    "result"
   ]
  }
 ],
 "metadata": {
  "anaconda-cloud": {},
  "kernelspec": {
   "display_name": "Python [Root]",
   "language": "python",
   "name": "Python [Root]"
  },
  "language_info": {
   "codemirror_mode": {
    "name": "ipython",
    "version": 3
   },
   "file_extension": ".py",
   "mimetype": "text/x-python",
   "name": "python",
   "nbconvert_exporter": "python",
   "pygments_lexer": "ipython3",
   "version": "3.5.2"
  }
 },
 "nbformat": 4,
 "nbformat_minor": 0
}
