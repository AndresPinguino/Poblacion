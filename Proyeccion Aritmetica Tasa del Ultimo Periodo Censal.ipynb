{
 "cells": [
  {
   "cell_type": "code",
   "execution_count": 23,
   "metadata": {
    "collapsed": false
   },
   "outputs": [
    {
     "data": {
      "text/html": [
       "<script>\n",
       "code_show=true; \n",
       "function code_toggle() {\n",
       " if (code_show){\n",
       " $('div.input').hide();\n",
       " } else {\n",
       " $('div.input').show();\n",
       " }\n",
       " code_show = !code_show\n",
       "} \n",
       "$( document ).ready(code_toggle);\n",
       "</script>\n",
       "<form action=\"javascript:code_toggle()\"><input type=\"submit\" value=\"Click aquí para ver el código.\"></form>"
      ],
      "text/plain": [
       "<IPython.core.display.HTML object>"
      ]
     },
     "execution_count": 23,
     "metadata": {},
     "output_type": "execute_result"
    }
   ],
   "source": [
    "from IPython.display import HTML\n",
    "\n",
    "HTML('''<script>\n",
    "code_show=true; \n",
    "function code_toggle() {\n",
    " if (code_show){\n",
    " $('div.input').hide();\n",
    " } else {\n",
    " $('div.input').show();\n",
    " }\n",
    " code_show = !code_show\n",
    "} \n",
    "$( document ).ready(code_toggle);\n",
    "</script>\n",
    "<form action=\"javascript:code_toggle()\"><input type=\"submit\" value=\"Click aquí para ver el código.\"></form>''')"
   ]
  },
  {
   "cell_type": "code",
   "execution_count": 24,
   "metadata": {
    "collapsed": false
   },
   "outputs": [
    {
     "data": {
      "text/html": [
       "<p align=\"center\"> <font size=\"5\" color=\"#0404B4\" face=\"sans-serif\"> <b> Proyección Aritmética Tasa del Último Período Censal <b> </font> </p>"
      ],
      "text/plain": [
       "<IPython.core.display.HTML object>"
      ]
     },
     "execution_count": 24,
     "metadata": {},
     "output_type": "execute_result"
    }
   ],
   "source": [
    "HTML(\"\"\"<p align=\"center\"> <font size=\"5\" color=\"#0404B4\" face=\"sans-serif\"> <b> Proyección Aritmética Tasa del Último Período Censal <b> </font> </p>\"\"\")"
   ]
  },
  {
   "cell_type": "markdown",
   "metadata": {},
   "source": [
    "# # Entrada de valores de los tres últimos censos"
   ]
  },
  {
   "cell_type": "code",
   "execution_count": 25,
   "metadata": {
    "collapsed": true
   },
   "outputs": [],
   "source": [
    "censos = [1991,2001,2010]\n",
    "\n",
    "poblacion0 = [125725,137061,177083] # Comodoro Rivadavia\n",
    "poblacion1 = [79340,89547,99430] # Trelew\n",
    "poblacion2 = [45047,57791,81995] # Puerto Madryn\n",
    "poblacion3 = [23411,28486,32758] # Esquel\n",
    "poblacion4 = [7209,8292,11124] # Sarmiento\n",
    "poblacion5 = [20674,26183,31787] # Rawson\n",
    "poblacion6 = [2613,2929,3307] # Dolavon\n",
    "poblacion7 = [4642,5753,6627] # Gaiman\n",
    "poblacion8 = [1913,2185,2374] # Gobernador Costa\n",
    "poblacion9 = [1527,1981,2228] # Cholila\n",
    "poblacion10 = [868,1079,1296] # Camarones\n",
    "poblacion11 = [864,1087,1264] # Paso de Indios\n",
    "poblacion12 = [322,384,396] # Paso del sapo\n",
    "poblaciones = [poblacion0, poblacion1, poblacion2, poblacion3, poblacion4, poblacion5, poblacion6, poblacion7, poblacion8, poblacion9, poblacion10, poblacion11, poblacion12]\n",
    "\n",
    "año_actual= 2017"
   ]
  },
  {
   "cell_type": "markdown",
   "metadata": {},
   "source": [
    "# # Armamos una lista de \"tiempos\""
   ]
  },
  {
   "cell_type": "code",
   "execution_count": 26,
   "metadata": {
    "collapsed": true
   },
   "outputs": [],
   "source": [
    "tiempo = [0] * 7\n",
    "for i in range(len(censos)):\n",
    "    tiempo[i] = censos[i]\n",
    "\n",
    "tiempo[3]=año_actual\n",
    "tiempo[4]=tiempo[3]+2\n",
    "tiempo[5]=tiempo[4]+10\n",
    "tiempo[6]=tiempo[5]+10"
   ]
  },
  {
   "cell_type": "markdown",
   "metadata": {},
   "source": [
    "# # Resolvemos el método devolviendo una lista de \"datos\""
   ]
  },
  {
   "cell_type": "code",
   "execution_count": 27,
   "metadata": {
    "collapsed": false
   },
   "outputs": [],
   "source": [
    "def metodo_proyeccion_aritmetica_tasa_ultimo_periodo_censal(poblacion, tiempo):\n",
    "\n",
    "    datos = [0] * 8\n",
    "    for i in range(len(poblacion)):\n",
    "        datos[i] = poblacion[i]\n",
    "\n",
    "\n",
    "    ka=(datos[2]-datos[1])/(tiempo[2]-tiempo[1])\n",
    "    ka=round(ka,4)\n",
    "\n",
    "    Pa=datos[2]+ka*(tiempo[3]-tiempo[2])\n",
    "    Pa=round(Pa,0)\n",
    "    Pa=int(Pa)\n",
    "\n",
    "\n",
    "    P0=Pa+ka*(tiempo[4]-tiempo[3])\n",
    "    P0=round(P0,0)\n",
    "    P0=int(P0)\n",
    "\n",
    "\n",
    "    P10=P0+ka*(tiempo[5]-tiempo[4])\n",
    "    P10=round(P10,0)\n",
    "    P10=int(P10)\n",
    "\n",
    "\n",
    "    P20=P10+ka*(tiempo[6]-tiempo[5])\n",
    "    P20=round(P20,0)\n",
    "    P20=int(P20)\n",
    "\n",
    "\n",
    "    datos[3]=Pa\n",
    "    datos[4]=P0\n",
    "    datos[5]=P10\n",
    "    datos[6]=P20\n",
    "    datos[7]=ka\n",
    "\n",
    "    return datos"
   ]
  },
  {
   "cell_type": "markdown",
   "metadata": {},
   "source": [
    "# # Obtenemos las \"proyecciones\" para cada \"poblacion\""
   ]
  },
  {
   "cell_type": "code",
   "execution_count": 28,
   "metadata": {
    "collapsed": false,
    "scrolled": true
   },
   "outputs": [],
   "source": [
    "proyecciones = [0] * len(poblaciones)\n",
    "\n",
    "for i in range(len(poblaciones)):\n",
    "    proyecciones[i] = metodo_proyeccion_aritmetica_tasa_ultimo_periodo_censal(poblaciones[i], tiempo)\n",
    "    #print (proyecciones[i])"
   ]
  },
  {
   "cell_type": "code",
   "execution_count": 29,
   "metadata": {
    "collapsed": true
   },
   "outputs": [],
   "source": [
    "# Para evitar que las listas se modifiquen y poder graficar, las convertimos a tuplas y de nuevo a listas\n",
    "# recortamos con pop() los datos que no usamos en los gráficos\n",
    "\n",
    "tuple_of_tuples = tuple(tuple(x) for x in proyecciones)\n",
    "\n",
    "lis_of_list = list(list(x) for x in tuple_of_tuples)\n",
    "\n",
    "for i in range(len(lis_of_list)):\n",
    "    lis_of_list[i].pop()"
   ]
  },
  {
   "cell_type": "markdown",
   "metadata": {},
   "source": [
    "# # Armamos una tabla para mostrar los resultados"
   ]
  },
  {
   "cell_type": "code",
   "execution_count": 30,
   "metadata": {
    "collapsed": true
   },
   "outputs": [],
   "source": [
    "import pandas as pd"
   ]
  },
  {
   "cell_type": "code",
   "execution_count": 31,
   "metadata": {
    "collapsed": false
   },
   "outputs": [
    {
     "data": {
      "text/html": [
       "<div>\n",
       "<table border=\"1\" class=\"dataframe\">\n",
       "  <thead>\n",
       "    <tr style=\"text-align: right;\">\n",
       "      <th></th>\n",
       "      <th>Ciudades</th>\n",
       "      <th>Censo 1</th>\n",
       "      <th>Censo 2</th>\n",
       "      <th>Censo 3</th>\n",
       "      <th>Pactual</th>\n",
       "      <th>P0</th>\n",
       "      <th>P10</th>\n",
       "      <th>P20</th>\n",
       "      <th>ka</th>\n",
       "    </tr>\n",
       "  </thead>\n",
       "  <tbody>\n",
       "    <tr>\n",
       "      <th>0</th>\n",
       "      <td>Comodoro Rivadavia</td>\n",
       "      <td>125725</td>\n",
       "      <td>137061</td>\n",
       "      <td>177083</td>\n",
       "      <td>208211</td>\n",
       "      <td>217105</td>\n",
       "      <td>261574</td>\n",
       "      <td>306043</td>\n",
       "      <td>4446.89</td>\n",
       "    </tr>\n",
       "    <tr>\n",
       "      <th>1</th>\n",
       "      <td>Trelew</td>\n",
       "      <td>79340</td>\n",
       "      <td>89547</td>\n",
       "      <td>99430</td>\n",
       "      <td>107117</td>\n",
       "      <td>109313</td>\n",
       "      <td>120294</td>\n",
       "      <td>131275</td>\n",
       "      <td>1098.11</td>\n",
       "    </tr>\n",
       "    <tr>\n",
       "      <th>2</th>\n",
       "      <td>Puerto Madryn</td>\n",
       "      <td>45047</td>\n",
       "      <td>57791</td>\n",
       "      <td>81995</td>\n",
       "      <td>100820</td>\n",
       "      <td>106199</td>\n",
       "      <td>133092</td>\n",
       "      <td>159985</td>\n",
       "      <td>2689.33</td>\n",
       "    </tr>\n",
       "    <tr>\n",
       "      <th>3</th>\n",
       "      <td>Esquel</td>\n",
       "      <td>23411</td>\n",
       "      <td>28486</td>\n",
       "      <td>32758</td>\n",
       "      <td>36081</td>\n",
       "      <td>37030</td>\n",
       "      <td>41777</td>\n",
       "      <td>46524</td>\n",
       "      <td>474.667</td>\n",
       "    </tr>\n",
       "    <tr>\n",
       "      <th>4</th>\n",
       "      <td>Sarmiento</td>\n",
       "      <td>7209</td>\n",
       "      <td>8292</td>\n",
       "      <td>11124</td>\n",
       "      <td>13327</td>\n",
       "      <td>13956</td>\n",
       "      <td>17103</td>\n",
       "      <td>20250</td>\n",
       "      <td>314.667</td>\n",
       "    </tr>\n",
       "    <tr>\n",
       "      <th>5</th>\n",
       "      <td>Rawson</td>\n",
       "      <td>20674</td>\n",
       "      <td>26183</td>\n",
       "      <td>31787</td>\n",
       "      <td>36146</td>\n",
       "      <td>37391</td>\n",
       "      <td>43618</td>\n",
       "      <td>49845</td>\n",
       "      <td>622.667</td>\n",
       "    </tr>\n",
       "    <tr>\n",
       "      <th>6</th>\n",
       "      <td>Dolavon</td>\n",
       "      <td>2613</td>\n",
       "      <td>2929</td>\n",
       "      <td>3307</td>\n",
       "      <td>3601</td>\n",
       "      <td>3685</td>\n",
       "      <td>4105</td>\n",
       "      <td>4525</td>\n",
       "      <td>42</td>\n",
       "    </tr>\n",
       "    <tr>\n",
       "      <th>7</th>\n",
       "      <td>Gaiman</td>\n",
       "      <td>4642</td>\n",
       "      <td>5753</td>\n",
       "      <td>6627</td>\n",
       "      <td>7307</td>\n",
       "      <td>7501</td>\n",
       "      <td>8472</td>\n",
       "      <td>9443</td>\n",
       "      <td>97.1111</td>\n",
       "    </tr>\n",
       "    <tr>\n",
       "      <th>8</th>\n",
       "      <td>Gobernador Costa</td>\n",
       "      <td>1913</td>\n",
       "      <td>2185</td>\n",
       "      <td>2374</td>\n",
       "      <td>2521</td>\n",
       "      <td>2563</td>\n",
       "      <td>2773</td>\n",
       "      <td>2983</td>\n",
       "      <td>21</td>\n",
       "    </tr>\n",
       "    <tr>\n",
       "      <th>9</th>\n",
       "      <td>Cholila</td>\n",
       "      <td>1527</td>\n",
       "      <td>1981</td>\n",
       "      <td>2228</td>\n",
       "      <td>2420</td>\n",
       "      <td>2475</td>\n",
       "      <td>2749</td>\n",
       "      <td>3023</td>\n",
       "      <td>27.4444</td>\n",
       "    </tr>\n",
       "    <tr>\n",
       "      <th>10</th>\n",
       "      <td>Camarones</td>\n",
       "      <td>868</td>\n",
       "      <td>1079</td>\n",
       "      <td>1296</td>\n",
       "      <td>1465</td>\n",
       "      <td>1513</td>\n",
       "      <td>1754</td>\n",
       "      <td>1995</td>\n",
       "      <td>24.1111</td>\n",
       "    </tr>\n",
       "    <tr>\n",
       "      <th>11</th>\n",
       "      <td>Paso de Indios</td>\n",
       "      <td>864</td>\n",
       "      <td>1087</td>\n",
       "      <td>1264</td>\n",
       "      <td>1402</td>\n",
       "      <td>1441</td>\n",
       "      <td>1638</td>\n",
       "      <td>1835</td>\n",
       "      <td>19.6667</td>\n",
       "    </tr>\n",
       "    <tr>\n",
       "      <th>12</th>\n",
       "      <td>Paso del Sapo</td>\n",
       "      <td>322</td>\n",
       "      <td>384</td>\n",
       "      <td>396</td>\n",
       "      <td>405</td>\n",
       "      <td>408</td>\n",
       "      <td>421</td>\n",
       "      <td>434</td>\n",
       "      <td>1.3333</td>\n",
       "    </tr>\n",
       "    <tr>\n",
       "      <th>13</th>\n",
       "      <td>Años</td>\n",
       "      <td>1991</td>\n",
       "      <td>2001</td>\n",
       "      <td>2010</td>\n",
       "      <td>2017</td>\n",
       "      <td>2019</td>\n",
       "      <td>2029</td>\n",
       "      <td>2039</td>\n",
       "      <td></td>\n",
       "    </tr>\n",
       "  </tbody>\n",
       "</table>\n",
       "</div>"
      ],
      "text/plain": [
       "              Ciudades Censo 1 Censo 2 Censo 3 Pactual      P0     P10  \\\n",
       "0   Comodoro Rivadavia  125725  137061  177083  208211  217105  261574   \n",
       "1               Trelew   79340   89547   99430  107117  109313  120294   \n",
       "2        Puerto Madryn   45047   57791   81995  100820  106199  133092   \n",
       "3               Esquel   23411   28486   32758   36081   37030   41777   \n",
       "4            Sarmiento    7209    8292   11124   13327   13956   17103   \n",
       "5               Rawson   20674   26183   31787   36146   37391   43618   \n",
       "6              Dolavon    2613    2929    3307    3601    3685    4105   \n",
       "7               Gaiman    4642    5753    6627    7307    7501    8472   \n",
       "8     Gobernador Costa    1913    2185    2374    2521    2563    2773   \n",
       "9              Cholila    1527    1981    2228    2420    2475    2749   \n",
       "10           Camarones     868    1079    1296    1465    1513    1754   \n",
       "11      Paso de Indios     864    1087    1264    1402    1441    1638   \n",
       "12       Paso del Sapo     322     384     396     405     408     421   \n",
       "13                Años    1991    2001    2010    2017    2019    2029   \n",
       "\n",
       "       P20       ka  \n",
       "0   306043  4446.89  \n",
       "1   131275  1098.11  \n",
       "2   159985  2689.33  \n",
       "3    46524  474.667  \n",
       "4    20250  314.667  \n",
       "5    49845  622.667  \n",
       "6     4525       42  \n",
       "7     9443  97.1111  \n",
       "8     2983       21  \n",
       "9     3023  27.4444  \n",
       "10    1995  24.1111  \n",
       "11    1835  19.6667  \n",
       "12     434   1.3333  \n",
       "13    2039           "
      ]
     },
     "execution_count": 31,
     "metadata": {},
     "output_type": "execute_result"
    }
   ],
   "source": [
    "ciudades=[\"Comodoro Rivadavia\",\"Trelew\",\"Puerto Madryn\",\"Esquel\",\"Sarmiento\",\"Rawson\",\"Dolavon\",\"Gaiman\",\"Gobernador Costa\",\"Cholila\",\"Camarones\",\"Paso de Indios\",\"Paso del Sapo\"]\n",
    "labels = ['Ciudades']\n",
    "df = pd.DataFrame(ciudades, columns=labels)\n",
    "\n",
    "labels2=['Censo 1', 'Censo 2', 'Censo 3', 'Pactual', 'P0', 'P10','P20','ka']\n",
    "df2 = pd.DataFrame.from_records(proyecciones, columns=labels2)\n",
    "\n",
    "result = pd.concat([df, df2], axis=1, join_axes=[df.index])\n",
    "\n",
    "labels3=labels+labels2\n",
    "s2 = pd.Series(['Años', '1991', '2001', '2010', '2017', '2019', '2029', '2039', ' '], index=labels3)\n",
    "\n",
    "result = result.append(s2, ignore_index=True)\n",
    "result"
   ]
  },
  {
   "cell_type": "markdown",
   "metadata": {},
   "source": [
    "# # Importamos librerias para graficar"
   ]
  },
  {
   "cell_type": "code",
   "execution_count": 32,
   "metadata": {
    "collapsed": false
   },
   "outputs": [
    {
     "data": {
      "text/html": [
       "\n",
       "    <div class=\"bk-root\">\n",
       "        <a href=\"http://bokeh.pydata.org\" target=\"_blank\" class=\"bk-logo bk-logo-small bk-logo-notebook\"></a>\n",
       "        <span id=\"abe32d51-d199-4be4-9900-1313d167b1f2\">Loading BokehJS ...</span>\n",
       "    </div>"
      ]
     },
     "metadata": {},
     "output_type": "display_data"
    },
    {
     "data": {
      "application/javascript": [
       "\n",
       "(function(global) {\n",
       "  function now() {\n",
       "    return new Date();\n",
       "  }\n",
       "\n",
       "  if (typeof (window._bokeh_onload_callbacks) === \"undefined\") {\n",
       "    window._bokeh_onload_callbacks = [];\n",
       "  }\n",
       "\n",
       "  function run_callbacks() {\n",
       "    window._bokeh_onload_callbacks.forEach(function(callback) { callback() });\n",
       "    delete window._bokeh_onload_callbacks\n",
       "    console.info(\"Bokeh: all callbacks have finished\");\n",
       "  }\n",
       "\n",
       "  function load_libs(js_urls, callback) {\n",
       "    window._bokeh_onload_callbacks.push(callback);\n",
       "    if (window._bokeh_is_loading > 0) {\n",
       "      console.log(\"Bokeh: BokehJS is being loaded, scheduling callback at\", now());\n",
       "      return null;\n",
       "    }\n",
       "    if (js_urls == null || js_urls.length === 0) {\n",
       "      run_callbacks();\n",
       "      return null;\n",
       "    }\n",
       "    console.log(\"Bokeh: BokehJS not loaded, scheduling load and callback at\", now());\n",
       "    window._bokeh_is_loading = js_urls.length;\n",
       "    for (var i = 0; i < js_urls.length; i++) {\n",
       "      var url = js_urls[i];\n",
       "      var s = document.createElement('script');\n",
       "      s.src = url;\n",
       "      s.async = false;\n",
       "      s.onreadystatechange = s.onload = function() {\n",
       "        window._bokeh_is_loading--;\n",
       "        if (window._bokeh_is_loading === 0) {\n",
       "          console.log(\"Bokeh: all BokehJS libraries loaded\");\n",
       "          run_callbacks()\n",
       "        }\n",
       "      };\n",
       "      s.onerror = function() {\n",
       "        console.warn(\"failed to load library \" + url);\n",
       "      };\n",
       "      console.log(\"Bokeh: injecting script tag for BokehJS library: \", url);\n",
       "      document.getElementsByTagName(\"head\")[0].appendChild(s);\n",
       "    }\n",
       "  };\n",
       "\n",
       "  var js_urls = ['https://cdn.pydata.org/bokeh/release/bokeh-0.12.0.min.js', 'https://cdn.pydata.org/bokeh/release/bokeh-widgets-0.12.0.min.js', 'https://cdn.pydata.org/bokeh/release/bokeh-compiler-0.12.0.min.js'];\n",
       "\n",
       "  var inline_js = [\n",
       "    function(Bokeh) {\n",
       "      Bokeh.set_log_level(\"info\");\n",
       "    },\n",
       "    \n",
       "    function(Bokeh) {\n",
       "      Bokeh.$(\"#abe32d51-d199-4be4-9900-1313d167b1f2\").text(\"BokehJS successfully loaded\");\n",
       "    },\n",
       "    function(Bokeh) {\n",
       "      console.log(\"Bokeh: injecting CSS: https://cdn.pydata.org/bokeh/release/bokeh-0.12.0.min.css\");\n",
       "      Bokeh.embed.inject_css(\"https://cdn.pydata.org/bokeh/release/bokeh-0.12.0.min.css\");\n",
       "      console.log(\"Bokeh: injecting CSS: https://cdn.pydata.org/bokeh/release/bokeh-widgets-0.12.0.min.css\");\n",
       "      Bokeh.embed.inject_css(\"https://cdn.pydata.org/bokeh/release/bokeh-widgets-0.12.0.min.css\");\n",
       "    }\n",
       "  ];\n",
       "\n",
       "  function run_inline_js() {\n",
       "    for (var i = 0; i < inline_js.length; i++) {\n",
       "      inline_js[i](window.Bokeh);\n",
       "    }\n",
       "  }\n",
       "\n",
       "  if (window._bokeh_is_loading === 0) {\n",
       "    console.log(\"Bokeh: BokehJS loaded, going straight to plotting\");\n",
       "    run_inline_js();\n",
       "  } else {\n",
       "    load_libs(js_urls, function() {\n",
       "      console.log(\"Bokeh: BokehJS plotting callback run at\", now());\n",
       "      run_inline_js();\n",
       "    });\n",
       "  }\n",
       "}(this));"
      ]
     },
     "metadata": {},
     "output_type": "display_data"
    }
   ],
   "source": [
    "from bokeh.io import push_notebook, show, output_notebook\n",
    "from bokeh.plotting import figure\n",
    "output_notebook()"
   ]
  },
  {
   "cell_type": "markdown",
   "metadata": {},
   "source": [
    "# # Definimos estilos para usar en los gráficos"
   ]
  },
  {
   "cell_type": "code",
   "execution_count": 33,
   "metadata": {
    "collapsed": false
   },
   "outputs": [
    {
     "data": {
      "text/html": [
       "\n",
       "\n",
       "    <div class=\"bk-root\">\n",
       "        <div class=\"plotdiv\" id=\"20f599c1-4a9c-4eb4-9615-abfb2149452c\"></div>\n",
       "    </div>\n",
       "<script type=\"text/javascript\">\n",
       "  \n",
       "  (function(global) {\n",
       "    function now() {\n",
       "      return new Date();\n",
       "    }\n",
       "  \n",
       "    if (typeof (window._bokeh_onload_callbacks) === \"undefined\") {\n",
       "      window._bokeh_onload_callbacks = [];\n",
       "    }\n",
       "  \n",
       "    function run_callbacks() {\n",
       "      window._bokeh_onload_callbacks.forEach(function(callback) { callback() });\n",
       "      delete window._bokeh_onload_callbacks\n",
       "      console.info(\"Bokeh: all callbacks have finished\");\n",
       "    }\n",
       "  \n",
       "    function load_libs(js_urls, callback) {\n",
       "      window._bokeh_onload_callbacks.push(callback);\n",
       "      if (window._bokeh_is_loading > 0) {\n",
       "        console.log(\"Bokeh: BokehJS is being loaded, scheduling callback at\", now());\n",
       "        return null;\n",
       "      }\n",
       "      if (js_urls == null || js_urls.length === 0) {\n",
       "        run_callbacks();\n",
       "        return null;\n",
       "      }\n",
       "      console.log(\"Bokeh: BokehJS not loaded, scheduling load and callback at\", now());\n",
       "      window._bokeh_is_loading = js_urls.length;\n",
       "      for (var i = 0; i < js_urls.length; i++) {\n",
       "        var url = js_urls[i];\n",
       "        var s = document.createElement('script');\n",
       "        s.src = url;\n",
       "        s.async = false;\n",
       "        s.onreadystatechange = s.onload = function() {\n",
       "          window._bokeh_is_loading--;\n",
       "          if (window._bokeh_is_loading === 0) {\n",
       "            console.log(\"Bokeh: all BokehJS libraries loaded\");\n",
       "            run_callbacks()\n",
       "          }\n",
       "        };\n",
       "        s.onerror = function() {\n",
       "          console.warn(\"failed to load library \" + url);\n",
       "        };\n",
       "        console.log(\"Bokeh: injecting script tag for BokehJS library: \", url);\n",
       "        document.getElementsByTagName(\"head\")[0].appendChild(s);\n",
       "      }\n",
       "    };var element = document.getElementById(\"20f599c1-4a9c-4eb4-9615-abfb2149452c\");\n",
       "    if (element == null) {\n",
       "      console.log(\"Bokeh: ERROR: autoload.js configured with elementid '20f599c1-4a9c-4eb4-9615-abfb2149452c' but no matching script tag was found. \")\n",
       "      return false;\n",
       "    }\n",
       "  \n",
       "    var js_urls = [];\n",
       "  \n",
       "    var inline_js = [\n",
       "      function(Bokeh) {\n",
       "        Bokeh.$(function() {\n",
       "            var docs_json = {\"7ad0419e-3122-460f-ba40-6e4f78a6b6d8\":{\"roots\":{\"references\":[{\"attributes\":{\"line_color\":{\"value\":\"blue\"},\"line_width\":{\"value\":2},\"x\":{\"field\":\"x\"},\"y\":{\"field\":\"y\"}},\"id\":\"3925ec64-00a8-4bce-930f-326612b777fe\",\"type\":\"Line\"},{\"attributes\":{\"fill_alpha\":{\"value\":0.1},\"fill_color\":{\"value\":\"#1f77b4\"},\"line_alpha\":{\"value\":0.1},\"line_color\":{\"value\":\"#1f77b4\"},\"x\":{\"field\":\"x\"},\"y\":{\"field\":\"y\"}},\"id\":\"0de3ec15-39d9-4051-8001-712f82482525\",\"type\":\"Circle\"},{\"attributes\":{\"data_source\":{\"id\":\"69accaeb-8a5d-410b-a885-f8248177c2eb\",\"type\":\"ColumnDataSource\"},\"glyph\":{\"id\":\"3925ec64-00a8-4bce-930f-326612b777fe\",\"type\":\"Line\"},\"hover_glyph\":null,\"nonselection_glyph\":{\"id\":\"8b088b83-0fa0-4853-a858-ad7ac9efb486\",\"type\":\"Line\"},\"selection_glyph\":null},\"id\":\"59a4cbb0-8826-46c5-a089-e88cc9ed3f78\",\"type\":\"GlyphRenderer\"},{\"attributes\":{\"fill_color\":{\"value\":\"red\"},\"line_color\":{\"value\":\"red\"},\"x\":{\"field\":\"x\"},\"y\":{\"field\":\"y\"}},\"id\":\"34447708-79dd-4ec3-8b5e-0f981ce6ebd6\",\"type\":\"Circle\"},{\"attributes\":{\"data_source\":{\"id\":\"cee5d4ef-1c19-42bf-b952-f4815935425c\",\"type\":\"ColumnDataSource\"},\"glyph\":{\"id\":\"d3b126c5-3c0a-46d3-b533-0e1cc4f0f843\",\"type\":\"Circle\"},\"hover_glyph\":null,\"nonselection_glyph\":{\"id\":\"7ca47c85-4f41-4ab5-8703-b9f6a4819c64\",\"type\":\"Circle\"},\"selection_glyph\":null},\"id\":\"06fb19e7-f900-4c08-8318-17d2014dd9da\",\"type\":\"GlyphRenderer\"},{\"attributes\":{\"callback\":null,\"column_names\":[\"y\",\"x\"],\"data\":{\"x\":[1991,2001,2010,2017,2019,2029,2039],\"y\":[7209,8292,11124,13327,13956,17103,20250]}},\"id\":\"fcfa9b6c-c352-4220-ba53-80633432aec5\",\"type\":\"ColumnDataSource\"},{\"attributes\":{\"data_source\":{\"id\":\"e442b83c-634b-4516-8cd4-826f910f1fb4\",\"type\":\"ColumnDataSource\"},\"glyph\":{\"id\":\"ea742f48-6fb4-48b3-a878-9f3b795df99f\",\"type\":\"Circle\"},\"hover_glyph\":null,\"nonselection_glyph\":{\"id\":\"0de3ec15-39d9-4051-8001-712f82482525\",\"type\":\"Circle\"},\"selection_glyph\":null},\"id\":\"bc3010ea-c851-4eb7-8799-a0e1ac016fb9\",\"type\":\"GlyphRenderer\"},{\"attributes\":{\"fill_alpha\":{\"value\":0.1},\"fill_color\":{\"value\":\"#1f77b4\"},\"line_alpha\":{\"value\":0.1},\"line_color\":{\"value\":\"#1f77b4\"},\"x\":{\"field\":\"x\"},\"y\":{\"field\":\"y\"}},\"id\":\"6659bc15-3c43-41fb-b3a5-30b46d98bc7b\",\"type\":\"Circle\"},{\"attributes\":{\"callback\":null,\"column_names\":[\"y\",\"x\"],\"data\":{\"x\":[1991,2001,2010,2017,2019,2029,2039],\"y\":[868,1079,1296,1465,1513,1754,1995]}},\"id\":\"b93994a2-c584-43ac-b5de-8450e6dd7304\",\"type\":\"ColumnDataSource\"},{\"attributes\":{\"callback\":null,\"column_names\":[\"y\",\"x\"],\"data\":{\"x\":[1991,2001,2010,2017,2019,2029,2039],\"y\":[864,1087,1264,1402,1441,1638,1835]}},\"id\":\"e442b83c-634b-4516-8cd4-826f910f1fb4\",\"type\":\"ColumnDataSource\"},{\"attributes\":{\"axis_label\":\"Tiempo\",\"formatter\":{\"id\":\"8d35db97-254d-4880-a8c2-44a4feacd60c\",\"type\":\"BasicTickFormatter\"},\"plot\":{\"id\":\"db44c765-285b-465c-a2ca-9b2332876870\",\"subtype\":\"Figure\",\"type\":\"Plot\"},\"ticker\":{\"id\":\"32ec0c5c-c47a-4a1b-bdc7-d72404dc6a9b\",\"type\":\"BasicTicker\"}},\"id\":\"100b2105-196c-4e99-ba0b-0202a7bdd0d6\",\"type\":\"LinearAxis\"},{\"attributes\":{\"line_color\":{\"value\":\"cyan\"},\"line_width\":{\"value\":2},\"x\":{\"field\":\"x\"},\"y\":{\"field\":\"y\"}},\"id\":\"5d27a67e-3808-4374-981b-15bbcf821e69\",\"type\":\"Line\"},{\"attributes\":{\"callback\":null,\"column_names\":[\"y\",\"x\"],\"data\":{\"x\":[1991,2001,2010,2017,2019,2029,2039],\"y\":[20674,26183,31787,36146,37391,43618,49845]}},\"id\":\"cee5d4ef-1c19-42bf-b952-f4815935425c\",\"type\":\"ColumnDataSource\"},{\"attributes\":{\"plot\":{\"id\":\"db44c765-285b-465c-a2ca-9b2332876870\",\"subtype\":\"Figure\",\"type\":\"Plot\"},\"ticker\":{\"id\":\"32ec0c5c-c47a-4a1b-bdc7-d72404dc6a9b\",\"type\":\"BasicTicker\"}},\"id\":\"c64a0631-1b6e-4e40-a6e1-1c0aca588a2a\",\"type\":\"Grid\"},{\"attributes\":{\"fill_alpha\":{\"value\":0.1},\"fill_color\":{\"value\":\"#1f77b4\"},\"line_alpha\":{\"value\":0.1},\"line_color\":{\"value\":\"#1f77b4\"},\"x\":{\"field\":\"x\"},\"y\":{\"field\":\"y\"}},\"id\":\"7f9884b4-96fd-4729-ada1-b7f9cbfb852c\",\"type\":\"Circle\"},{\"attributes\":{\"axis_label\":\"Poblaci\\u00f3n\",\"formatter\":{\"id\":\"8adcec43-c3f6-4702-a045-b9437b307f8d\",\"type\":\"BasicTickFormatter\"},\"plot\":{\"id\":\"db44c765-285b-465c-a2ca-9b2332876870\",\"subtype\":\"Figure\",\"type\":\"Plot\"},\"ticker\":{\"id\":\"a54fe468-c03f-49aa-8cb3-42d6b965c1a5\",\"type\":\"BasicTicker\"}},\"id\":\"0479a43c-85e6-4679-b931-b90f9cd4ffda\",\"type\":\"LinearAxis\"},{\"attributes\":{\"legends\":[[\"Comodoro Rivadavia\",[{\"id\":\"f173b989-f147-423f-a328-afcf46931f8c\",\"type\":\"GlyphRenderer\"},{\"id\":\"687004dd-36df-455b-8df5-0ff04edd0bc0\",\"type\":\"GlyphRenderer\"}]],[\"Trelew\",[{\"id\":\"de18b496-f8b3-48d6-aa9f-72a5c82eff48\",\"type\":\"GlyphRenderer\"},{\"id\":\"586442ec-b27f-4675-9665-06c8499bd078\",\"type\":\"GlyphRenderer\"}]],[\"Puerto Madryn\",[{\"id\":\"cef2f4e1-ecb2-46e4-9657-afd5a82c1e9b\",\"type\":\"GlyphRenderer\"},{\"id\":\"59a4cbb0-8826-46c5-a089-e88cc9ed3f78\",\"type\":\"GlyphRenderer\"}]],[\"Esquel\",[{\"id\":\"3eaa8e85-040b-4a28-ac58-c16ccfd4fb95\",\"type\":\"GlyphRenderer\"},{\"id\":\"a108a324-6bfe-45dd-8bd3-84c24b8893a5\",\"type\":\"GlyphRenderer\"}]],[\"Sarmiento\",[{\"id\":\"dd93f808-9607-4deb-bf26-1d8c169fe59e\",\"type\":\"GlyphRenderer\"},{\"id\":\"28c1766b-881a-4c5e-8786-3b484b83fecc\",\"type\":\"GlyphRenderer\"}]],[\"Rawson\",[{\"id\":\"06fb19e7-f900-4c08-8318-17d2014dd9da\",\"type\":\"GlyphRenderer\"},{\"id\":\"7b936457-c40b-41bd-9592-15d8e0fb9ef8\",\"type\":\"GlyphRenderer\"}]],[\"Dolavon\",[{\"id\":\"793066f3-dbe7-4424-b535-090d2708ca8f\",\"type\":\"GlyphRenderer\"},{\"id\":\"da0ede21-495f-4e6e-88d9-d54f266c5a8e\",\"type\":\"GlyphRenderer\"}]],[\"Gaiman\",[{\"id\":\"33085df9-0e52-42ed-a539-c8c8eeb5502c\",\"type\":\"GlyphRenderer\"},{\"id\":\"e70baa72-9624-4485-8472-3fdd8611ac9b\",\"type\":\"GlyphRenderer\"}]],[\"Gobernador Costa\",[{\"id\":\"aefb7e08-e4b9-40bb-82c6-3ea5d5a43eff\",\"type\":\"GlyphRenderer\"},{\"id\":\"d1ed9989-f385-40f3-95b3-e464c9a1688e\",\"type\":\"GlyphRenderer\"}]],[\"Cholila\",[{\"id\":\"cc38d604-f073-4bb1-b592-301cc97f84d0\",\"type\":\"GlyphRenderer\"},{\"id\":\"4012694a-60ef-4808-86c2-46d3e1ec9579\",\"type\":\"GlyphRenderer\"}]],[\"Camarones\",[{\"id\":\"82a93fca-431c-4a81-89cd-163c3647e308\",\"type\":\"GlyphRenderer\"},{\"id\":\"42f42644-7a04-4f5b-9d1b-8a6ac5097f35\",\"type\":\"GlyphRenderer\"}]],[\"Paso de Indios\",[{\"id\":\"bc3010ea-c851-4eb7-8799-a0e1ac016fb9\",\"type\":\"GlyphRenderer\"},{\"id\":\"5fc5dedc-5f04-428a-bb87-57d0bf2ef35a\",\"type\":\"GlyphRenderer\"}]],[\"Paso del Sapo\",[{\"id\":\"89b9e578-b99c-4c0f-aeae-51eaf87c5486\",\"type\":\"GlyphRenderer\"},{\"id\":\"4a14c882-ae5c-49d4-8baf-68fff10ff276\",\"type\":\"GlyphRenderer\"}]]],\"plot\":{\"id\":\"db44c765-285b-465c-a2ca-9b2332876870\",\"subtype\":\"Figure\",\"type\":\"Plot\"}},\"id\":\"122f5f81-1136-4d79-9ef9-b685e3e549ce\",\"type\":\"Legend\"},{\"attributes\":{},\"id\":\"8d35db97-254d-4880-a8c2-44a4feacd60c\",\"type\":\"BasicTickFormatter\"},{\"attributes\":{\"line_color\":{\"value\":\"#164c71\"},\"line_width\":{\"value\":2},\"x\":{\"field\":\"x\"},\"y\":{\"field\":\"y\"}},\"id\":\"0f895b08-f1c0-4b1a-b3fb-4b8cef68b32b\",\"type\":\"Line\"},{\"attributes\":{\"line_color\":{\"value\":\"navy\"},\"line_width\":{\"value\":2},\"x\":{\"field\":\"x\"},\"y\":{\"field\":\"y\"}},\"id\":\"01f51f2f-ad2d-4cf1-9952-008ff603e806\",\"type\":\"Line\"},{\"attributes\":{\"line_color\":{\"value\":\"orange\"},\"line_width\":{\"value\":2},\"x\":{\"field\":\"x\"},\"y\":{\"field\":\"y\"}},\"id\":\"05e8771f-02fc-4ddb-b679-a8cd3f702e54\",\"type\":\"Line\"},{\"attributes\":{\"fill_alpha\":{\"value\":0.1},\"fill_color\":{\"value\":\"#1f77b4\"},\"line_alpha\":{\"value\":0.1},\"line_color\":{\"value\":\"#1f77b4\"},\"x\":{\"field\":\"x\"},\"y\":{\"field\":\"y\"}},\"id\":\"0cb7a4ef-c768-4288-9596-aade87dd4393\",\"type\":\"Circle\"},{\"attributes\":{\"data_source\":{\"id\":\"80d05050-c21e-4f18-97ef-1202b22ca844\",\"type\":\"ColumnDataSource\"},\"glyph\":{\"id\":\"05e8771f-02fc-4ddb-b679-a8cd3f702e54\",\"type\":\"Line\"},\"hover_glyph\":null,\"nonselection_glyph\":{\"id\":\"8188507c-cb8a-4d5f-8cbb-6ded774ce33f\",\"type\":\"Line\"},\"selection_glyph\":null},\"id\":\"586442ec-b27f-4675-9665-06c8499bd078\",\"type\":\"GlyphRenderer\"},{\"attributes\":{\"fill_alpha\":{\"value\":0.1},\"fill_color\":{\"value\":\"#1f77b4\"},\"line_alpha\":{\"value\":0.1},\"line_color\":{\"value\":\"#1f77b4\"},\"x\":{\"field\":\"x\"},\"y\":{\"field\":\"y\"}},\"id\":\"b14a4843-6e0d-4da2-8509-06ca24a2d37b\",\"type\":\"Circle\"},{\"attributes\":{\"data_source\":{\"id\":\"1eb4ba3d-4461-4eaa-97e6-6bcabcdf3d08\",\"type\":\"ColumnDataSource\"},\"glyph\":{\"id\":\"e49b5cb8-d587-4013-b5c7-17d256445294\",\"type\":\"Circle\"},\"hover_glyph\":null,\"nonselection_glyph\":{\"id\":\"0cb7a4ef-c768-4288-9596-aade87dd4393\",\"type\":\"Circle\"},\"selection_glyph\":null},\"id\":\"793066f3-dbe7-4424-b535-090d2708ca8f\",\"type\":\"GlyphRenderer\"},{\"attributes\":{\"data_source\":{\"id\":\"5123f026-9f7d-4e36-9b21-b069787274ed\",\"type\":\"ColumnDataSource\"},\"glyph\":{\"id\":\"4a119b2d-0c73-43bc-9120-66649f30e468\",\"type\":\"Line\"},\"hover_glyph\":null,\"nonselection_glyph\":{\"id\":\"9cf911bf-5dc2-422c-b4af-05a8fa982c18\",\"type\":\"Line\"},\"selection_glyph\":null},\"id\":\"42f42644-7a04-4f5b-9d1b-8a6ac5097f35\",\"type\":\"GlyphRenderer\"},{\"attributes\":{\"fill_color\":{\"value\":\"pink\"},\"line_color\":{\"value\":\"pink\"},\"x\":{\"field\":\"x\"},\"y\":{\"field\":\"y\"}},\"id\":\"d3b126c5-3c0a-46d3-b533-0e1cc4f0f843\",\"type\":\"Circle\"},{\"attributes\":{\"callback\":null,\"column_names\":[\"y\",\"x\"],\"data\":{\"x\":[1991,2001,2010,2017,2019,2029,2039],\"y\":[868,1079,1296,1465,1513,1754,1995]}},\"id\":\"5123f026-9f7d-4e36-9b21-b069787274ed\",\"type\":\"ColumnDataSource\"},{\"attributes\":{\"line_color\":{\"value\":\"pink\"},\"line_width\":{\"value\":2},\"x\":{\"field\":\"x\"},\"y\":{\"field\":\"y\"}},\"id\":\"95485019-b70d-4fbc-bfdd-06f37e0c285e\",\"type\":\"Line\"},{\"attributes\":{\"fill_color\":{\"value\":\"blue\"},\"line_color\":{\"value\":\"blue\"},\"x\":{\"field\":\"x\"},\"y\":{\"field\":\"y\"}},\"id\":\"694ab63e-a962-41d3-b57d-ed42a11ab14f\",\"type\":\"Circle\"},{\"attributes\":{\"data_source\":{\"id\":\"fcfa9b6c-c352-4220-ba53-80633432aec5\",\"type\":\"ColumnDataSource\"},\"glyph\":{\"id\":\"32eea15a-fd60-46bc-bce7-1470a8ae353d\",\"type\":\"Circle\"},\"hover_glyph\":null,\"nonselection_glyph\":{\"id\":\"6659bc15-3c43-41fb-b3a5-30b46d98bc7b\",\"type\":\"Circle\"},\"selection_glyph\":null},\"id\":\"dd93f808-9607-4deb-bf26-1d8c169fe59e\",\"type\":\"GlyphRenderer\"},{\"attributes\":{},\"id\":\"32ec0c5c-c47a-4a1b-bdc7-d72404dc6a9b\",\"type\":\"BasicTicker\"},{\"attributes\":{\"overlay\":{\"id\":\"6bea9041-b434-4b39-b4ce-d86fe970e854\",\"type\":\"BoxAnnotation\"},\"plot\":{\"id\":\"db44c765-285b-465c-a2ca-9b2332876870\",\"subtype\":\"Figure\",\"type\":\"Plot\"}},\"id\":\"6109e138-2e4b-4bbf-aeb7-ff131ea7e7b2\",\"type\":\"BoxZoomTool\"},{\"attributes\":{\"callback\":null,\"column_names\":[\"y\",\"x\"],\"data\":{\"x\":[1991,2001,2010,2017,2019,2029,2039],\"y\":[864,1087,1264,1402,1441,1638,1835]}},\"id\":\"5a20ac48-089b-4dd8-86da-a774f7dde865\",\"type\":\"ColumnDataSource\"},{\"attributes\":{\"callback\":null,\"column_names\":[\"y\",\"x\"],\"data\":{\"x\":[1991,2001,2010,2017,2019,2029,2039],\"y\":[7209,8292,11124,13327,13956,17103,20250]}},\"id\":\"ddad4925-14ad-4047-80ca-d9e0c1217e42\",\"type\":\"ColumnDataSource\"},{\"attributes\":{\"line_alpha\":{\"value\":0.1},\"line_color\":{\"value\":\"#1f77b4\"},\"line_width\":{\"value\":2},\"x\":{\"field\":\"x\"},\"y\":{\"field\":\"y\"}},\"id\":\"bf89cea8-617d-4eff-a988-0186549b0f32\",\"type\":\"Line\"},{\"attributes\":{\"line_alpha\":{\"value\":0.1},\"line_color\":{\"value\":\"#1f77b4\"},\"line_width\":{\"value\":2},\"x\":{\"field\":\"x\"},\"y\":{\"field\":\"y\"}},\"id\":\"ee3ec942-1981-4439-a11c-f56bab4eecea\",\"type\":\"Line\"},{\"attributes\":{\"line_alpha\":{\"value\":0.1},\"line_color\":{\"value\":\"#1f77b4\"},\"line_width\":{\"value\":2},\"x\":{\"field\":\"x\"},\"y\":{\"field\":\"y\"}},\"id\":\"8188507c-cb8a-4d5f-8cbb-6ded774ce33f\",\"type\":\"Line\"},{\"attributes\":{\"line_alpha\":{\"value\":0.1},\"line_color\":{\"value\":\"#1f77b4\"},\"line_width\":{\"value\":2},\"x\":{\"field\":\"x\"},\"y\":{\"field\":\"y\"}},\"id\":\"37f8a218-fa40-4496-ba46-23666b15594c\",\"type\":\"Line\"},{\"attributes\":{\"fill_color\":{\"value\":\"#164c71\"},\"line_color\":{\"value\":\"#164c71\"},\"x\":{\"field\":\"x\"},\"y\":{\"field\":\"y\"}},\"id\":\"ea742f48-6fb4-48b3-a878-9f3b795df99f\",\"type\":\"Circle\"},{\"attributes\":{\"fill_alpha\":{\"value\":0.1},\"fill_color\":{\"value\":\"#1f77b4\"},\"line_alpha\":{\"value\":0.1},\"line_color\":{\"value\":\"#1f77b4\"},\"x\":{\"field\":\"x\"},\"y\":{\"field\":\"y\"}},\"id\":\"c420c234-57f4-4aa4-b336-1a6c723ca77d\",\"type\":\"Circle\"},{\"attributes\":{\"data_source\":{\"id\":\"9f0b5441-8f6e-480a-8898-23beb22c23c3\",\"type\":\"ColumnDataSource\"},\"glyph\":{\"id\":\"c5692865-bd74-4a05-a2a9-f707e765dc30\",\"type\":\"Line\"},\"hover_glyph\":null,\"nonselection_glyph\":{\"id\":\"ea8fe326-aada-47ed-8031-6883c0ee66eb\",\"type\":\"Line\"},\"selection_glyph\":null},\"id\":\"e70baa72-9624-4485-8472-3fdd8611ac9b\",\"type\":\"GlyphRenderer\"},{\"attributes\":{\"data_source\":{\"id\":\"6b59b586-4244-4cbf-83d9-5d9593bc7d0c\",\"type\":\"ColumnDataSource\"},\"glyph\":{\"id\":\"9972a30c-bfc9-4dbf-aa79-05e449a7bb39\",\"type\":\"Line\"},\"hover_glyph\":null,\"nonselection_glyph\":{\"id\":\"ee3ec942-1981-4439-a11c-f56bab4eecea\",\"type\":\"Line\"},\"selection_glyph\":null},\"id\":\"687004dd-36df-455b-8df5-0ff04edd0bc0\",\"type\":\"GlyphRenderer\"},{\"attributes\":{\"bottom_units\":\"screen\",\"fill_alpha\":{\"value\":0.5},\"fill_color\":{\"value\":\"lightgrey\"},\"left_units\":\"screen\",\"level\":\"overlay\",\"line_alpha\":{\"value\":1.0},\"line_color\":{\"value\":\"black\"},\"line_dash\":[4,4],\"line_width\":{\"value\":2},\"plot\":null,\"render_mode\":\"css\",\"right_units\":\"screen\",\"top_units\":\"screen\"},\"id\":\"6bea9041-b434-4b39-b4ce-d86fe970e854\",\"type\":\"BoxAnnotation\"},{\"attributes\":{\"data_source\":{\"id\":\"c855bf87-680d-40c7-afeb-4513a327c9b1\",\"type\":\"ColumnDataSource\"},\"glyph\":{\"id\":\"9ad4d965-4943-4d36-b8ab-0c03a001d00b\",\"type\":\"Line\"},\"hover_glyph\":null,\"nonselection_glyph\":{\"id\":\"37f8a218-fa40-4496-ba46-23666b15594c\",\"type\":\"Line\"},\"selection_glyph\":null},\"id\":\"a108a324-6bfe-45dd-8bd3-84c24b8893a5\",\"type\":\"GlyphRenderer\"},{\"attributes\":{\"line_alpha\":{\"value\":0.1},\"line_color\":{\"value\":\"#1f77b4\"},\"line_width\":{\"value\":2},\"x\":{\"field\":\"x\"},\"y\":{\"field\":\"y\"}},\"id\":\"fd18ad87-8528-4eea-8f70-9441098a2677\",\"type\":\"Line\"},{\"attributes\":{\"below\":[{\"id\":\"100b2105-196c-4e99-ba0b-0202a7bdd0d6\",\"type\":\"LinearAxis\"}],\"left\":[{\"id\":\"0479a43c-85e6-4679-b931-b90f9cd4ffda\",\"type\":\"LinearAxis\"}],\"plot_width\":900,\"renderers\":[{\"id\":\"100b2105-196c-4e99-ba0b-0202a7bdd0d6\",\"type\":\"LinearAxis\"},{\"id\":\"c64a0631-1b6e-4e40-a6e1-1c0aca588a2a\",\"type\":\"Grid\"},{\"id\":\"0479a43c-85e6-4679-b931-b90f9cd4ffda\",\"type\":\"LinearAxis\"},{\"id\":\"c1ab1098-9f0e-427d-a8fb-5d5910abd0a4\",\"type\":\"Grid\"},{\"id\":\"6bea9041-b434-4b39-b4ce-d86fe970e854\",\"type\":\"BoxAnnotation\"},{\"id\":\"122f5f81-1136-4d79-9ef9-b685e3e549ce\",\"type\":\"Legend\"},{\"id\":\"f173b989-f147-423f-a328-afcf46931f8c\",\"type\":\"GlyphRenderer\"},{\"id\":\"687004dd-36df-455b-8df5-0ff04edd0bc0\",\"type\":\"GlyphRenderer\"},{\"id\":\"de18b496-f8b3-48d6-aa9f-72a5c82eff48\",\"type\":\"GlyphRenderer\"},{\"id\":\"586442ec-b27f-4675-9665-06c8499bd078\",\"type\":\"GlyphRenderer\"},{\"id\":\"cef2f4e1-ecb2-46e4-9657-afd5a82c1e9b\",\"type\":\"GlyphRenderer\"},{\"id\":\"59a4cbb0-8826-46c5-a089-e88cc9ed3f78\",\"type\":\"GlyphRenderer\"},{\"id\":\"3eaa8e85-040b-4a28-ac58-c16ccfd4fb95\",\"type\":\"GlyphRenderer\"},{\"id\":\"a108a324-6bfe-45dd-8bd3-84c24b8893a5\",\"type\":\"GlyphRenderer\"},{\"id\":\"dd93f808-9607-4deb-bf26-1d8c169fe59e\",\"type\":\"GlyphRenderer\"},{\"id\":\"28c1766b-881a-4c5e-8786-3b484b83fecc\",\"type\":\"GlyphRenderer\"},{\"id\":\"06fb19e7-f900-4c08-8318-17d2014dd9da\",\"type\":\"GlyphRenderer\"},{\"id\":\"7b936457-c40b-41bd-9592-15d8e0fb9ef8\",\"type\":\"GlyphRenderer\"},{\"id\":\"793066f3-dbe7-4424-b535-090d2708ca8f\",\"type\":\"GlyphRenderer\"},{\"id\":\"da0ede21-495f-4e6e-88d9-d54f266c5a8e\",\"type\":\"GlyphRenderer\"},{\"id\":\"33085df9-0e52-42ed-a539-c8c8eeb5502c\",\"type\":\"GlyphRenderer\"},{\"id\":\"e70baa72-9624-4485-8472-3fdd8611ac9b\",\"type\":\"GlyphRenderer\"},{\"id\":\"aefb7e08-e4b9-40bb-82c6-3ea5d5a43eff\",\"type\":\"GlyphRenderer\"},{\"id\":\"d1ed9989-f385-40f3-95b3-e464c9a1688e\",\"type\":\"GlyphRenderer\"},{\"id\":\"cc38d604-f073-4bb1-b592-301cc97f84d0\",\"type\":\"GlyphRenderer\"},{\"id\":\"4012694a-60ef-4808-86c2-46d3e1ec9579\",\"type\":\"GlyphRenderer\"},{\"id\":\"82a93fca-431c-4a81-89cd-163c3647e308\",\"type\":\"GlyphRenderer\"},{\"id\":\"42f42644-7a04-4f5b-9d1b-8a6ac5097f35\",\"type\":\"GlyphRenderer\"},{\"id\":\"bc3010ea-c851-4eb7-8799-a0e1ac016fb9\",\"type\":\"GlyphRenderer\"},{\"id\":\"5fc5dedc-5f04-428a-bb87-57d0bf2ef35a\",\"type\":\"GlyphRenderer\"},{\"id\":\"89b9e578-b99c-4c0f-aeae-51eaf87c5486\",\"type\":\"GlyphRenderer\"},{\"id\":\"4a14c882-ae5c-49d4-8baf-68fff10ff276\",\"type\":\"GlyphRenderer\"}],\"title\":{\"id\":\"beeb9c4e-29cf-4f92-b839-64f32abf7b6b\",\"type\":\"Title\"},\"tool_events\":{\"id\":\"80e27b34-568f-47e0-a246-2d5865a04f66\",\"type\":\"ToolEvents\"},\"toolbar\":{\"id\":\"8103322d-3a99-4ef1-950c-5ee2c35617e5\",\"type\":\"Toolbar\"},\"x_range\":{\"id\":\"8284258a-4cc0-40ca-a087-0d72838a1320\",\"type\":\"DataRange1d\"},\"y_range\":{\"id\":\"de938295-dd94-44d5-811a-51b16612b7d4\",\"type\":\"DataRange1d\"}},\"id\":\"db44c765-285b-465c-a2ca-9b2332876870\",\"subtype\":\"Figure\",\"type\":\"Plot\"},{\"attributes\":{\"plot\":{\"id\":\"db44c765-285b-465c-a2ca-9b2332876870\",\"subtype\":\"Figure\",\"type\":\"Plot\"}},\"id\":\"92f8c0be-1221-44c1-be71-5d51c945f357\",\"type\":\"ResetTool\"},{\"attributes\":{\"fill_alpha\":{\"value\":0.1},\"fill_color\":{\"value\":\"#1f77b4\"},\"line_alpha\":{\"value\":0.1},\"line_color\":{\"value\":\"#1f77b4\"},\"x\":{\"field\":\"x\"},\"y\":{\"field\":\"y\"}},\"id\":\"670aad61-7f22-47b3-af94-b2e6b1912d75\",\"type\":\"Circle\"},{\"attributes\":{\"line_color\":{\"value\":\"firebrick\"},\"line_width\":{\"value\":2},\"x\":{\"field\":\"x\"},\"y\":{\"field\":\"y\"}},\"id\":\"c5692865-bd74-4a05-a2a9-f707e765dc30\",\"type\":\"Line\"},{\"attributes\":{\"plot\":{\"id\":\"db44c765-285b-465c-a2ca-9b2332876870\",\"subtype\":\"Figure\",\"type\":\"Plot\"}},\"id\":\"8e7a855a-4ba2-4842-8c11-5cf5add99fee\",\"type\":\"HelpTool\"},{\"attributes\":{\"callback\":null,\"column_names\":[\"y\",\"x\"],\"data\":{\"x\":[1991,2001,2010,2017,2019,2029,2039],\"y\":[45047,57791,81995,100820,106199,133092,159985]}},\"id\":\"a32d0357-b0c8-493f-a6de-6f5baa259d1c\",\"type\":\"ColumnDataSource\"},{\"attributes\":{\"callback\":null},\"id\":\"de938295-dd94-44d5-811a-51b16612b7d4\",\"type\":\"DataRange1d\"},{\"attributes\":{\"line_alpha\":{\"value\":0.1},\"line_color\":{\"value\":\"#1f77b4\"},\"line_width\":{\"value\":2},\"x\":{\"field\":\"x\"},\"y\":{\"field\":\"y\"}},\"id\":\"faa2b4b5-f0d2-40b9-a583-3bd8e37a58ba\",\"type\":\"Line\"},{\"attributes\":{\"line_color\":{\"value\":\"#7c1b65\"},\"line_width\":{\"value\":2},\"x\":{\"field\":\"x\"},\"y\":{\"field\":\"y\"}},\"id\":\"028d1f4a-9ea9-496a-942a-04de65ce42c1\",\"type\":\"Line\"},{\"attributes\":{\"data_source\":{\"id\":\"5ac3ae92-ba17-4c5b-92e3-56752d810329\",\"type\":\"ColumnDataSource\"},\"glyph\":{\"id\":\"c45d19f5-7cd3-42d0-91d7-c8deacf84d09\",\"type\":\"Circle\"},\"hover_glyph\":null,\"nonselection_glyph\":{\"id\":\"c420c234-57f4-4aa4-b336-1a6c723ca77d\",\"type\":\"Circle\"},\"selection_glyph\":null},\"id\":\"3eaa8e85-040b-4a28-ac58-c16ccfd4fb95\",\"type\":\"GlyphRenderer\"},{\"attributes\":{\"line_color\":{\"value\":\"red\"},\"line_width\":{\"value\":2},\"x\":{\"field\":\"x\"},\"y\":{\"field\":\"y\"}},\"id\":\"9972a30c-bfc9-4dbf-aa79-05e449a7bb39\",\"type\":\"Line\"},{\"attributes\":{\"plot\":{\"id\":\"db44c765-285b-465c-a2ca-9b2332876870\",\"subtype\":\"Figure\",\"type\":\"Plot\"}},\"id\":\"44bd948a-6ffa-4d38-ba5c-5064443baabc\",\"type\":\"WheelZoomTool\"},{\"attributes\":{\"callback\":null,\"column_names\":[\"y\",\"x\"],\"data\":{\"x\":[1991,2001,2010,2017,2019,2029,2039],\"y\":[79340,89547,99430,107117,109313,120294,131275]}},\"id\":\"792ffe67-cf98-43cf-98ca-60984ca9ae76\",\"type\":\"ColumnDataSource\"},{\"attributes\":{\"data_source\":{\"id\":\"d739656b-7e28-4c77-b600-dcad1f276cc4\",\"type\":\"ColumnDataSource\"},\"glyph\":{\"id\":\"01f51f2f-ad2d-4cf1-9952-008ff603e806\",\"type\":\"Line\"},\"hover_glyph\":null,\"nonselection_glyph\":{\"id\":\"fd18ad87-8528-4eea-8f70-9441098a2677\",\"type\":\"Line\"},\"selection_glyph\":null},\"id\":\"da0ede21-495f-4e6e-88d9-d54f266c5a8e\",\"type\":\"GlyphRenderer\"},{\"attributes\":{\"data_source\":{\"id\":\"a0600bcd-ec43-43c4-850b-29b0caa3438c\",\"type\":\"ColumnDataSource\"},\"glyph\":{\"id\":\"525c7517-6e28-4dd7-b89b-50a367b0c826\",\"type\":\"Circle\"},\"hover_glyph\":null,\"nonselection_glyph\":{\"id\":\"7f9884b4-96fd-4729-ada1-b7f9cbfb852c\",\"type\":\"Circle\"},\"selection_glyph\":null},\"id\":\"aefb7e08-e4b9-40bb-82c6-3ea5d5a43eff\",\"type\":\"GlyphRenderer\"},{\"attributes\":{\"data_source\":{\"id\":\"b14c67c7-d204-422f-9a72-501fbac8c60c\",\"type\":\"ColumnDataSource\"},\"glyph\":{\"id\":\"028d1f4a-9ea9-496a-942a-04de65ce42c1\",\"type\":\"Line\"},\"hover_glyph\":null,\"nonselection_glyph\":{\"id\":\"cd2a3ac7-70df-4c8c-b2b4-db603ab80c3b\",\"type\":\"Line\"},\"selection_glyph\":null},\"id\":\"4a14c882-ae5c-49d4-8baf-68fff10ff276\",\"type\":\"GlyphRenderer\"},{\"attributes\":{\"fill_alpha\":{\"value\":0.1},\"fill_color\":{\"value\":\"#1f77b4\"},\"line_alpha\":{\"value\":0.1},\"line_color\":{\"value\":\"#1f77b4\"},\"x\":{\"field\":\"x\"},\"y\":{\"field\":\"y\"}},\"id\":\"d796a5bd-0287-4687-b23f-c6be601c0eed\",\"type\":\"Circle\"},{\"attributes\":{\"fill_alpha\":{\"value\":0.1},\"fill_color\":{\"value\":\"#1f77b4\"},\"line_alpha\":{\"value\":0.1},\"line_color\":{\"value\":\"#1f77b4\"},\"x\":{\"field\":\"x\"},\"y\":{\"field\":\"y\"}},\"id\":\"cff8300b-3373-458a-afdc-efabfc0f10a2\",\"type\":\"Circle\"},{\"attributes\":{\"callback\":null,\"column_names\":[\"y\",\"x\"],\"data\":{\"x\":[1991,2001,2010,2017,2019,2029,2039],\"y\":[1527,1981,2228,2420,2475,2749,3023]}},\"id\":\"64e0de9d-c19b-43fa-a71a-3f72c058710e\",\"type\":\"ColumnDataSource\"},{\"attributes\":{\"plot\":{\"id\":\"db44c765-285b-465c-a2ca-9b2332876870\",\"subtype\":\"Figure\",\"type\":\"Plot\"}},\"id\":\"47a324d8-bd3b-47ce-9f56-30f08b5923a5\",\"type\":\"SaveTool\"},{\"attributes\":{\"callback\":null,\"column_names\":[\"y\",\"x\"],\"data\":{\"x\":[1991,2001,2010,2017,2019,2029,2039],\"y\":[2613,2929,3307,3601,3685,4105,4525]}},\"id\":\"1eb4ba3d-4461-4eaa-97e6-6bcabcdf3d08\",\"type\":\"ColumnDataSource\"},{\"attributes\":{\"align\":\"center\",\"plot\":null,\"text\":\"Poblaci\\u00f3n - Proyecci\\u00f3n Aritm\\u00e9tica Tasa del \\u00daltimo Per\\u00edodo Censal\",\"text_color\":{\"value\":\"blue\"},\"text_font\":\"times\",\"text_font_size\":{\"value\":\"20px\"},\"text_font_style\":\"italic\"},\"id\":\"beeb9c4e-29cf-4f92-b839-64f32abf7b6b\",\"type\":\"Title\"},{\"attributes\":{\"callback\":null,\"column_names\":[\"y\",\"x\"],\"data\":{\"x\":[1991,2001,2010,2017,2019,2029,2039],\"y\":[79340,89547,99430,107117,109313,120294,131275]}},\"id\":\"80d05050-c21e-4f18-97ef-1202b22ca844\",\"type\":\"ColumnDataSource\"},{\"attributes\":{\"fill_color\":{\"value\":\"orange\"},\"line_color\":{\"value\":\"orange\"},\"x\":{\"field\":\"x\"},\"y\":{\"field\":\"y\"}},\"id\":\"f99e7e72-99ab-4217-b831-80a267f6cb75\",\"type\":\"Circle\"},{\"attributes\":{\"fill_color\":{\"value\":\"magenta\"},\"line_color\":{\"value\":\"magenta\"},\"x\":{\"field\":\"x\"},\"y\":{\"field\":\"y\"}},\"id\":\"417e7a9b-177a-4fc8-85b2-e80397a92ee5\",\"type\":\"Circle\"},{\"attributes\":{\"callback\":null,\"column_names\":[\"y\",\"x\"],\"data\":{\"x\":[1991,2001,2010,2017,2019,2029,2039],\"y\":[2613,2929,3307,3601,3685,4105,4525]}},\"id\":\"d739656b-7e28-4c77-b600-dcad1f276cc4\",\"type\":\"ColumnDataSource\"},{\"attributes\":{\"line_alpha\":{\"value\":0.1},\"line_color\":{\"value\":\"#1f77b4\"},\"line_width\":{\"value\":2},\"x\":{\"field\":\"x\"},\"y\":{\"field\":\"y\"}},\"id\":\"3344c162-6eb9-4cd4-8a2a-bb45329ebc6f\",\"type\":\"Line\"},{\"attributes\":{\"callback\":null,\"column_names\":[\"y\",\"x\"],\"data\":{\"x\":[1991,2001,2010,2017,2019,2029,2039],\"y\":[20674,26183,31787,36146,37391,43618,49845]}},\"id\":\"ad19db75-ef36-47fb-a805-096a5430f6e2\",\"type\":\"ColumnDataSource\"},{\"attributes\":{\"data_source\":{\"id\":\"7889f090-1c07-4d86-8c5f-69cdd0fde816\",\"type\":\"ColumnDataSource\"},\"glyph\":{\"id\":\"a7157fbb-bfee-41d3-8245-c7a327c926ff\",\"type\":\"Circle\"},\"hover_glyph\":null,\"nonselection_glyph\":{\"id\":\"ac13318b-1a3e-4db5-b3e1-59d31b0bfa64\",\"type\":\"Circle\"},\"selection_glyph\":null},\"id\":\"33085df9-0e52-42ed-a539-c8c8eeb5502c\",\"type\":\"GlyphRenderer\"},{\"attributes\":{\"data_source\":{\"id\":\"64e0de9d-c19b-43fa-a71a-3f72c058710e\",\"type\":\"ColumnDataSource\"},\"glyph\":{\"id\":\"417e7a9b-177a-4fc8-85b2-e80397a92ee5\",\"type\":\"Circle\"},\"hover_glyph\":null,\"nonselection_glyph\":{\"id\":\"d796a5bd-0287-4687-b23f-c6be601c0eed\",\"type\":\"Circle\"},\"selection_glyph\":null},\"id\":\"cc38d604-f073-4bb1-b592-301cc97f84d0\",\"type\":\"GlyphRenderer\"},{\"attributes\":{\"callback\":null},\"id\":\"8284258a-4cc0-40ca-a087-0d72838a1320\",\"type\":\"DataRange1d\"},{\"attributes\":{\"fill_color\":{\"value\":\"cyan\"},\"line_color\":{\"value\":\"cyan\"},\"x\":{\"field\":\"x\"},\"y\":{\"field\":\"y\"}},\"id\":\"525c7517-6e28-4dd7-b89b-50a367b0c826\",\"type\":\"Circle\"},{\"attributes\":{\"line_color\":{\"value\":\"magenta\"},\"line_width\":{\"value\":2},\"x\":{\"field\":\"x\"},\"y\":{\"field\":\"y\"}},\"id\":\"8e41a63d-c145-4d82-951b-50fd19b6c0b9\",\"type\":\"Line\"},{\"attributes\":{\"fill_color\":{\"value\":\"green\"},\"line_color\":{\"value\":\"green\"},\"x\":{\"field\":\"x\"},\"y\":{\"field\":\"y\"}},\"id\":\"c45d19f5-7cd3-42d0-91d7-c8deacf84d09\",\"type\":\"Circle\"},{\"attributes\":{\"callback\":null,\"column_names\":[\"y\",\"x\"],\"data\":{\"x\":[1991,2001,2010,2017,2019,2029,2039],\"y\":[125725,137061,177083,208211,217105,261574,306043]}},\"id\":\"1abafcc1-8174-4a59-91f2-5bb70c5b1c9a\",\"type\":\"ColumnDataSource\"},{\"attributes\":{\"line_alpha\":{\"value\":0.1},\"line_color\":{\"value\":\"#1f77b4\"},\"line_width\":{\"value\":2},\"x\":{\"field\":\"x\"},\"y\":{\"field\":\"y\"}},\"id\":\"ea8fe326-aada-47ed-8031-6883c0ee66eb\",\"type\":\"Line\"},{\"attributes\":{\"callback\":null,\"column_names\":[\"y\",\"x\"],\"data\":{\"x\":[1991,2001,2010,2017,2019,2029,2039],\"y\":[322,384,396,405,408,421,434]}},\"id\":\"b14c67c7-d204-422f-9a72-501fbac8c60c\",\"type\":\"ColumnDataSource\"},{\"attributes\":{\"data_source\":{\"id\":\"a32d0357-b0c8-493f-a6de-6f5baa259d1c\",\"type\":\"ColumnDataSource\"},\"glyph\":{\"id\":\"694ab63e-a962-41d3-b57d-ed42a11ab14f\",\"type\":\"Circle\"},\"hover_glyph\":null,\"nonselection_glyph\":{\"id\":\"b14a4843-6e0d-4da2-8509-06ca24a2d37b\",\"type\":\"Circle\"},\"selection_glyph\":null},\"id\":\"cef2f4e1-ecb2-46e4-9657-afd5a82c1e9b\",\"type\":\"GlyphRenderer\"},{\"attributes\":{\"fill_alpha\":{\"value\":0.1},\"fill_color\":{\"value\":\"#1f77b4\"},\"line_alpha\":{\"value\":0.1},\"line_color\":{\"value\":\"#1f77b4\"},\"x\":{\"field\":\"x\"},\"y\":{\"field\":\"y\"}},\"id\":\"005a1110-7205-4ac3-bb3f-dca5a87501bc\",\"type\":\"Circle\"},{\"attributes\":{\"fill_color\":{\"value\":\"firebrick\"},\"line_color\":{\"value\":\"firebrick\"},\"x\":{\"field\":\"x\"},\"y\":{\"field\":\"y\"}},\"id\":\"a7157fbb-bfee-41d3-8245-c7a327c926ff\",\"type\":\"Circle\"},{\"attributes\":{\"data_source\":{\"id\":\"792ffe67-cf98-43cf-98ca-60984ca9ae76\",\"type\":\"ColumnDataSource\"},\"glyph\":{\"id\":\"f99e7e72-99ab-4217-b831-80a267f6cb75\",\"type\":\"Circle\"},\"hover_glyph\":null,\"nonselection_glyph\":{\"id\":\"8ed9e785-c892-4d78-befb-affa37bde37d\",\"type\":\"Circle\"},\"selection_glyph\":null},\"id\":\"de18b496-f8b3-48d6-aa9f-72a5c82eff48\",\"type\":\"GlyphRenderer\"},{\"attributes\":{\"data_source\":{\"id\":\"6e727631-a311-450e-8e67-b81853e78e67\",\"type\":\"ColumnDataSource\"},\"glyph\":{\"id\":\"5d27a67e-3808-4374-981b-15bbcf821e69\",\"type\":\"Line\"},\"hover_glyph\":null,\"nonselection_glyph\":{\"id\":\"a6977cd5-2d44-4abf-8007-f351708ea056\",\"type\":\"Line\"},\"selection_glyph\":null},\"id\":\"d1ed9989-f385-40f3-95b3-e464c9a1688e\",\"type\":\"GlyphRenderer\"},{\"attributes\":{\"fill_color\":{\"value\":\"olive\"},\"line_color\":{\"value\":\"olive\"},\"x\":{\"field\":\"x\"},\"y\":{\"field\":\"y\"}},\"id\":\"c2025a92-482a-40b1-8c0b-6dd9cfbc1efe\",\"type\":\"Circle\"},{\"attributes\":{\"callback\":null,\"column_names\":[\"y\",\"x\"],\"data\":{\"x\":[1991,2001,2010,2017,2019,2029,2039],\"y\":[4642,5753,6627,7307,7501,8472,9443]}},\"id\":\"7889f090-1c07-4d86-8c5f-69cdd0fde816\",\"type\":\"ColumnDataSource\"},{\"attributes\":{},\"id\":\"a54fe468-c03f-49aa-8cb3-42d6b965c1a5\",\"type\":\"BasicTicker\"},{\"attributes\":{\"callback\":null,\"column_names\":[\"y\",\"x\"],\"data\":{\"x\":[1991,2001,2010,2017,2019,2029,2039],\"y\":[1913,2185,2374,2521,2563,2773,2983]}},\"id\":\"a0600bcd-ec43-43c4-850b-29b0caa3438c\",\"type\":\"ColumnDataSource\"},{\"attributes\":{\"callback\":null,\"column_names\":[\"y\",\"x\"],\"data\":{\"x\":[1991,2001,2010,2017,2019,2029,2039],\"y\":[1913,2185,2374,2521,2563,2773,2983]}},\"id\":\"6e727631-a311-450e-8e67-b81853e78e67\",\"type\":\"ColumnDataSource\"},{\"attributes\":{\"fill_color\":{\"value\":\"#7c1b65\"},\"line_color\":{\"value\":\"#7c1b65\"},\"x\":{\"field\":\"x\"},\"y\":{\"field\":\"y\"}},\"id\":\"869c6b30-8842-49b4-a33e-232ce00f9d5d\",\"type\":\"Circle\"},{\"attributes\":{\"line_color\":{\"value\":\"green\"},\"line_width\":{\"value\":2},\"x\":{\"field\":\"x\"},\"y\":{\"field\":\"y\"}},\"id\":\"9ad4d965-4943-4d36-b8ab-0c03a001d00b\",\"type\":\"Line\"},{\"attributes\":{\"fill_alpha\":{\"value\":0.1},\"fill_color\":{\"value\":\"#1f77b4\"},\"line_alpha\":{\"value\":0.1},\"line_color\":{\"value\":\"#1f77b4\"},\"x\":{\"field\":\"x\"},\"y\":{\"field\":\"y\"}},\"id\":\"8ed9e785-c892-4d78-befb-affa37bde37d\",\"type\":\"Circle\"},{\"attributes\":{\"fill_color\":{\"value\":\"yellow\"},\"line_color\":{\"value\":\"yellow\"},\"x\":{\"field\":\"x\"},\"y\":{\"field\":\"y\"}},\"id\":\"32eea15a-fd60-46bc-bce7-1470a8ae353d\",\"type\":\"Circle\"},{\"attributes\":{\"data_source\":{\"id\":\"ad19db75-ef36-47fb-a805-096a5430f6e2\",\"type\":\"ColumnDataSource\"},\"glyph\":{\"id\":\"95485019-b70d-4fbc-bfdd-06f37e0c285e\",\"type\":\"Line\"},\"hover_glyph\":null,\"nonselection_glyph\":{\"id\":\"bf89cea8-617d-4eff-a988-0186549b0f32\",\"type\":\"Line\"},\"selection_glyph\":null},\"id\":\"7b936457-c40b-41bd-9592-15d8e0fb9ef8\",\"type\":\"GlyphRenderer\"},{\"attributes\":{\"data_source\":{\"id\":\"fa283393-30f1-479f-b686-6791a161b0a1\",\"type\":\"ColumnDataSource\"},\"glyph\":{\"id\":\"8e41a63d-c145-4d82-951b-50fd19b6c0b9\",\"type\":\"Line\"},\"hover_glyph\":null,\"nonselection_glyph\":{\"id\":\"3344c162-6eb9-4cd4-8a2a-bb45329ebc6f\",\"type\":\"Line\"},\"selection_glyph\":null},\"id\":\"4012694a-60ef-4808-86c2-46d3e1ec9579\",\"type\":\"GlyphRenderer\"},{\"attributes\":{\"data_source\":{\"id\":\"ddad4925-14ad-4047-80ca-d9e0c1217e42\",\"type\":\"ColumnDataSource\"},\"glyph\":{\"id\":\"fda01a2d-0a3f-4766-9e51-527de831d6ef\",\"type\":\"Line\"},\"hover_glyph\":null,\"nonselection_glyph\":{\"id\":\"779cea35-97e9-48f4-b3b8-18762eef8aec\",\"type\":\"Line\"},\"selection_glyph\":null},\"id\":\"28c1766b-881a-4c5e-8786-3b484b83fecc\",\"type\":\"GlyphRenderer\"},{\"attributes\":{\"line_alpha\":{\"value\":0.1},\"line_color\":{\"value\":\"#1f77b4\"},\"line_width\":{\"value\":2},\"x\":{\"field\":\"x\"},\"y\":{\"field\":\"y\"}},\"id\":\"a6977cd5-2d44-4abf-8007-f351708ea056\",\"type\":\"Line\"},{\"attributes\":{\"callback\":null,\"column_names\":[\"y\",\"x\"],\"data\":{\"x\":[1991,2001,2010,2017,2019,2029,2039],\"y\":[322,384,396,405,408,421,434]}},\"id\":\"a8915094-adeb-4f4a-b4ad-20e12d611936\",\"type\":\"ColumnDataSource\"},{\"attributes\":{\"line_alpha\":{\"value\":0.1},\"line_color\":{\"value\":\"#1f77b4\"},\"line_width\":{\"value\":2},\"x\":{\"field\":\"x\"},\"y\":{\"field\":\"y\"}},\"id\":\"8b088b83-0fa0-4853-a858-ad7ac9efb486\",\"type\":\"Line\"},{\"attributes\":{\"line_alpha\":{\"value\":0.1},\"line_color\":{\"value\":\"#1f77b4\"},\"line_width\":{\"value\":2},\"x\":{\"field\":\"x\"},\"y\":{\"field\":\"y\"}},\"id\":\"779cea35-97e9-48f4-b3b8-18762eef8aec\",\"type\":\"Line\"},{\"attributes\":{\"active_drag\":\"auto\",\"active_scroll\":\"auto\",\"active_tap\":\"auto\",\"tools\":[{\"id\":\"4ff668c0-1f89-4b07-a8e2-2e8068897246\",\"type\":\"PanTool\"},{\"id\":\"44bd948a-6ffa-4d38-ba5c-5064443baabc\",\"type\":\"WheelZoomTool\"},{\"id\":\"6109e138-2e4b-4bbf-aeb7-ff131ea7e7b2\",\"type\":\"BoxZoomTool\"},{\"id\":\"47a324d8-bd3b-47ce-9f56-30f08b5923a5\",\"type\":\"SaveTool\"},{\"id\":\"92f8c0be-1221-44c1-be71-5d51c945f357\",\"type\":\"ResetTool\"},{\"id\":\"8e7a855a-4ba2-4842-8c11-5cf5add99fee\",\"type\":\"HelpTool\"}]},\"id\":\"8103322d-3a99-4ef1-950c-5ee2c35617e5\",\"type\":\"Toolbar\"},{\"attributes\":{\"line_color\":{\"value\":\"yellow\"},\"line_width\":{\"value\":2},\"x\":{\"field\":\"x\"},\"y\":{\"field\":\"y\"}},\"id\":\"fda01a2d-0a3f-4766-9e51-527de831d6ef\",\"type\":\"Line\"},{\"attributes\":{\"line_alpha\":{\"value\":0.1},\"line_color\":{\"value\":\"#1f77b4\"},\"line_width\":{\"value\":2},\"x\":{\"field\":\"x\"},\"y\":{\"field\":\"y\"}},\"id\":\"9cf911bf-5dc2-422c-b4af-05a8fa982c18\",\"type\":\"Line\"},{\"attributes\":{\"callback\":null,\"column_names\":[\"y\",\"x\"],\"data\":{\"x\":[1991,2001,2010,2017,2019,2029,2039],\"y\":[45047,57791,81995,100820,106199,133092,159985]}},\"id\":\"69accaeb-8a5d-410b-a885-f8248177c2eb\",\"type\":\"ColumnDataSource\"},{\"attributes\":{\"data_source\":{\"id\":\"a8915094-adeb-4f4a-b4ad-20e12d611936\",\"type\":\"ColumnDataSource\"},\"glyph\":{\"id\":\"869c6b30-8842-49b4-a33e-232ce00f9d5d\",\"type\":\"Circle\"},\"hover_glyph\":null,\"nonselection_glyph\":{\"id\":\"cff8300b-3373-458a-afdc-efabfc0f10a2\",\"type\":\"Circle\"},\"selection_glyph\":null},\"id\":\"89b9e578-b99c-4c0f-aeae-51eaf87c5486\",\"type\":\"GlyphRenderer\"},{\"attributes\":{\"fill_color\":{\"value\":\"navy\"},\"line_color\":{\"value\":\"navy\"},\"x\":{\"field\":\"x\"},\"y\":{\"field\":\"y\"}},\"id\":\"e49b5cb8-d587-4013-b5c7-17d256445294\",\"type\":\"Circle\"},{\"attributes\":{\"line_alpha\":{\"value\":0.1},\"line_color\":{\"value\":\"#1f77b4\"},\"line_width\":{\"value\":2},\"x\":{\"field\":\"x\"},\"y\":{\"field\":\"y\"}},\"id\":\"cd2a3ac7-70df-4c8c-b2b4-db603ab80c3b\",\"type\":\"Line\"},{\"attributes\":{\"callback\":null,\"column_names\":[\"y\",\"x\"],\"data\":{\"x\":[1991,2001,2010,2017,2019,2029,2039],\"y\":[4642,5753,6627,7307,7501,8472,9443]}},\"id\":\"9f0b5441-8f6e-480a-8898-23beb22c23c3\",\"type\":\"ColumnDataSource\"},{\"attributes\":{\"line_color\":{\"value\":\"olive\"},\"line_width\":{\"value\":2},\"x\":{\"field\":\"x\"},\"y\":{\"field\":\"y\"}},\"id\":\"4a119b2d-0c73-43bc-9120-66649f30e468\",\"type\":\"Line\"},{\"attributes\":{\"callback\":null,\"column_names\":[\"y\",\"x\"],\"data\":{\"x\":[1991,2001,2010,2017,2019,2029,2039],\"y\":[23411,28486,32758,36081,37030,41777,46524]}},\"id\":\"5ac3ae92-ba17-4c5b-92e3-56752d810329\",\"type\":\"ColumnDataSource\"},{\"attributes\":{\"data_source\":{\"id\":\"b93994a2-c584-43ac-b5de-8450e6dd7304\",\"type\":\"ColumnDataSource\"},\"glyph\":{\"id\":\"c2025a92-482a-40b1-8c0b-6dd9cfbc1efe\",\"type\":\"Circle\"},\"hover_glyph\":null,\"nonselection_glyph\":{\"id\":\"005a1110-7205-4ac3-bb3f-dca5a87501bc\",\"type\":\"Circle\"},\"selection_glyph\":null},\"id\":\"82a93fca-431c-4a81-89cd-163c3647e308\",\"type\":\"GlyphRenderer\"},{\"attributes\":{\"dimension\":1,\"plot\":{\"id\":\"db44c765-285b-465c-a2ca-9b2332876870\",\"subtype\":\"Figure\",\"type\":\"Plot\"},\"ticker\":{\"id\":\"a54fe468-c03f-49aa-8cb3-42d6b965c1a5\",\"type\":\"BasicTicker\"}},\"id\":\"c1ab1098-9f0e-427d-a8fb-5d5910abd0a4\",\"type\":\"Grid\"},{\"attributes\":{\"data_source\":{\"id\":\"1abafcc1-8174-4a59-91f2-5bb70c5b1c9a\",\"type\":\"ColumnDataSource\"},\"glyph\":{\"id\":\"34447708-79dd-4ec3-8b5e-0f981ce6ebd6\",\"type\":\"Circle\"},\"hover_glyph\":null,\"nonselection_glyph\":{\"id\":\"670aad61-7f22-47b3-af94-b2e6b1912d75\",\"type\":\"Circle\"},\"selection_glyph\":null},\"id\":\"f173b989-f147-423f-a328-afcf46931f8c\",\"type\":\"GlyphRenderer\"},{\"attributes\":{\"callback\":null,\"column_names\":[\"y\",\"x\"],\"data\":{\"x\":[1991,2001,2010,2017,2019,2029,2039],\"y\":[125725,137061,177083,208211,217105,261574,306043]}},\"id\":\"6b59b586-4244-4cbf-83d9-5d9593bc7d0c\",\"type\":\"ColumnDataSource\"},{\"attributes\":{\"data_source\":{\"id\":\"5a20ac48-089b-4dd8-86da-a774f7dde865\",\"type\":\"ColumnDataSource\"},\"glyph\":{\"id\":\"0f895b08-f1c0-4b1a-b3fb-4b8cef68b32b\",\"type\":\"Line\"},\"hover_glyph\":null,\"nonselection_glyph\":{\"id\":\"faa2b4b5-f0d2-40b9-a583-3bd8e37a58ba\",\"type\":\"Line\"},\"selection_glyph\":null},\"id\":\"5fc5dedc-5f04-428a-bb87-57d0bf2ef35a\",\"type\":\"GlyphRenderer\"},{\"attributes\":{\"use_scientific\":false},\"id\":\"8adcec43-c3f6-4702-a045-b9437b307f8d\",\"type\":\"BasicTickFormatter\"},{\"attributes\":{\"fill_alpha\":{\"value\":0.1},\"fill_color\":{\"value\":\"#1f77b4\"},\"line_alpha\":{\"value\":0.1},\"line_color\":{\"value\":\"#1f77b4\"},\"x\":{\"field\":\"x\"},\"y\":{\"field\":\"y\"}},\"id\":\"7ca47c85-4f41-4ab5-8703-b9f6a4819c64\",\"type\":\"Circle\"},{\"attributes\":{\"callback\":null,\"column_names\":[\"y\",\"x\"],\"data\":{\"x\":[1991,2001,2010,2017,2019,2029,2039],\"y\":[1527,1981,2228,2420,2475,2749,3023]}},\"id\":\"fa283393-30f1-479f-b686-6791a161b0a1\",\"type\":\"ColumnDataSource\"},{\"attributes\":{\"plot\":{\"id\":\"db44c765-285b-465c-a2ca-9b2332876870\",\"subtype\":\"Figure\",\"type\":\"Plot\"}},\"id\":\"4ff668c0-1f89-4b07-a8e2-2e8068897246\",\"type\":\"PanTool\"},{\"attributes\":{\"callback\":null,\"column_names\":[\"y\",\"x\"],\"data\":{\"x\":[1991,2001,2010,2017,2019,2029,2039],\"y\":[23411,28486,32758,36081,37030,41777,46524]}},\"id\":\"c855bf87-680d-40c7-afeb-4513a327c9b1\",\"type\":\"ColumnDataSource\"},{\"attributes\":{\"fill_alpha\":{\"value\":0.1},\"fill_color\":{\"value\":\"#1f77b4\"},\"line_alpha\":{\"value\":0.1},\"line_color\":{\"value\":\"#1f77b4\"},\"x\":{\"field\":\"x\"},\"y\":{\"field\":\"y\"}},\"id\":\"ac13318b-1a3e-4db5-b3e1-59d31b0bfa64\",\"type\":\"Circle\"},{\"attributes\":{},\"id\":\"80e27b34-568f-47e0-a246-2d5865a04f66\",\"type\":\"ToolEvents\"}],\"root_ids\":[\"db44c765-285b-465c-a2ca-9b2332876870\"]},\"title\":\"Bokeh Application\",\"version\":\"0.12.0\"}};\n",
       "            var render_items = [{\"docid\":\"7ad0419e-3122-460f-ba40-6e4f78a6b6d8\",\"elementid\":\"20f599c1-4a9c-4eb4-9615-abfb2149452c\",\"modelid\":\"db44c765-285b-465c-a2ca-9b2332876870\",\"notebook_comms_target\":\"0a427a2c-bbc0-44ca-9f8d-220482e65d86\"}];\n",
       "            \n",
       "            Bokeh.embed.embed_items(docs_json, render_items);\n",
       "        });\n",
       "      },\n",
       "      function(Bokeh) {\n",
       "      }\n",
       "    ];\n",
       "  \n",
       "    function run_inline_js() {\n",
       "      for (var i = 0; i < inline_js.length; i++) {\n",
       "        inline_js[i](window.Bokeh);\n",
       "      }\n",
       "    }\n",
       "  \n",
       "    if (window._bokeh_is_loading === 0) {\n",
       "      console.log(\"Bokeh: BokehJS loaded, going straight to plotting\");\n",
       "      run_inline_js();\n",
       "    } else {\n",
       "      load_libs(js_urls, function() {\n",
       "        console.log(\"Bokeh: BokehJS plotting callback run at\", now());\n",
       "        run_inline_js();\n",
       "      });\n",
       "    }\n",
       "  }(this));\n",
       "</script>"
      ]
     },
     "metadata": {},
     "output_type": "display_data"
    },
    {
     "data": {
      "text/html": [
       "<p><code>&lt;Bokeh Notebook handle for <strong>In[33]</strong>&gt;</code></p>"
      ],
      "text/plain": [
       "<bokeh.io._CommsHandle at 0xad9209cc>"
      ]
     },
     "execution_count": 33,
     "metadata": {},
     "output_type": "execute_result"
    }
   ],
   "source": [
    "x = tiempo\n",
    "colores=[\"red\",\"orange\",\"blue\",\"green\",\"yellow\",\"pink\",\"navy\",\"firebrick\",\"cyan\",\"magenta\",\"olive\",\"#164c71\",\"#7c1b65\"]\n",
    "\n",
    "p = figure(title=\"Población - Proyección Aritmética Tasa del Último Período Censal\",plot_width=900)\n",
    "p.title.align = \"center\"\n",
    "p.title.text_color = \"blue\"\n",
    "p.title.text_font = \"times\"\n",
    "p.title.text_font_style = \"italic\"\n",
    "p.title.text_font_size = \"20px\"\n",
    "\n",
    "p.left[0].formatter.use_scientific = False\n",
    "\n",
    "for i in range(len(ciudades)):\n",
    "    p.circle(x,lis_of_list[i], legend=ciudades[i],fill_color=colores[i],line_color=colores[i])\n",
    "    p.line(x, lis_of_list[i], legend=ciudades[i],line_color=colores[i], line_width=2)\n",
    "\n",
    "p.xaxis.axis_label = 'Tiempo'\n",
    "p.yaxis.axis_label = 'Población'\n",
    "\n",
    "show(p)"
   ]
  },
  {
   "cell_type": "code",
   "execution_count": null,
   "metadata": {
    "collapsed": true
   },
   "outputs": [],
   "source": []
  }
 ],
 "metadata": {
  "anaconda-cloud": {},
  "kernelspec": {
   "display_name": "Python [Root]",
   "language": "python",
   "name": "Python [Root]"
  },
  "language_info": {
   "codemirror_mode": {
    "name": "ipython",
    "version": 3
   },
   "file_extension": ".py",
   "mimetype": "text/x-python",
   "name": "python",
   "nbconvert_exporter": "python",
   "pygments_lexer": "ipython3",
   "version": "3.5.2"
  }
 },
 "nbformat": 4,
 "nbformat_minor": 2
}
