{
 "cells": [
  {
   "cell_type": "markdown",
   "metadata": {},
   "source": [
    "# # Entrada de valores de los tres últimos censos"
   ]
  },
  {
   "cell_type": "code",
   "execution_count": 1,
   "metadata": {
    "collapsed": true
   },
   "outputs": [],
   "source": [
    "censos = [1991,2001,2010]\n",
    "\n",
    "poblacion0 = [125725,137061,177083] # Comodoro Rivadavia\n",
    "poblacion1 = [79340,89547,99430] # Trelew\n",
    "poblacion2 = [45047,57791,81995] # Puerto Madryn\n",
    "poblacion3 = [23411,28486,32758] # Esquel\n",
    "poblacion4 = [7209,8292,11124] # Sarmiento\n",
    "poblacion5 = [20674,26183,31787] # Rawson\n",
    "poblacion6 = [2613,2929,3307] # Dolavon\n",
    "poblacion7 = [4642,5753,6627] # Gaiman\n",
    "poblacion8 = [1913,2185,2374] # Gobernador Costa\n",
    "poblacion9 = [1527,1981,2228] # Cholila\n",
    "poblacion10 = [868,1079,1296] # Camarones\n",
    "poblacion11 = [864,1087,1264] # Paso de Indios\n",
    "poblacion12 = [322,384,396] # Paso del sapo\n",
    "poblaciones = [poblacion0, poblacion1, poblacion2, poblacion3, poblacion4, poblacion5, poblacion6, poblacion7, poblacion8, poblacion9, poblacion10, poblacion11, poblacion12]\n",
    "\n",
    "año_actual= 2017"
   ]
  },
  {
   "cell_type": "markdown",
   "metadata": {},
   "source": [
    "# # Armamos una lista de \"tiempos\""
   ]
  },
  {
   "cell_type": "code",
   "execution_count": 2,
   "metadata": {
    "collapsed": true
   },
   "outputs": [],
   "source": [
    "tiempo = [0] * 7\n",
    "for i in range(len(censos)):\n",
    "    tiempo[i] = censos[i]\n",
    "\n",
    "tiempo[3]=año_actual\n",
    "tiempo[4]=tiempo[3]+2\n",
    "tiempo[5]=tiempo[4]+10\n",
    "tiempo[6]=tiempo[5]+10"
   ]
  },
  {
   "cell_type": "markdown",
   "metadata": {},
   "source": [
    "# # Resolvemos el método devolviendo una lista de \"datos\""
   ]
  },
  {
   "cell_type": "code",
   "execution_count": 3,
   "metadata": {
    "collapsed": false
   },
   "outputs": [],
   "source": [
    "def metodo_proyeccion_aritmetica_tasa_ultimo_periodo_censal(poblacion, tiempo):\n",
    "\n",
    "    datos = [0] * 7\n",
    "    for i in range(len(poblacion)):\n",
    "        datos[i] = poblacion[i]\n",
    "\n",
    "\n",
    "    ka=(datos[2]-datos[1])/(tiempo[2]-tiempo[1])\n",
    "    ka=round(ka,4)\n",
    "\n",
    "    Pa=datos[2]+ka*(tiempo[3]-tiempo[2])\n",
    "    Pa=round(Pa,0)\n",
    "    Pa=int(Pa)\n",
    "\n",
    "\n",
    "    P0=Pa+ka*(tiempo[4]-tiempo[3])\n",
    "    P0=round(P0,0)\n",
    "    P0=int(P0)\n",
    "\n",
    "\n",
    "    P10=P0+ka*(tiempo[5]-tiempo[4])\n",
    "    P10=round(P10,0)\n",
    "    P10=int(P10)\n",
    "\n",
    "\n",
    "    P20=P10+ka*(tiempo[6]-tiempo[5])\n",
    "    P20=round(P20,0)\n",
    "    P20=int(P20)\n",
    "\n",
    "\n",
    "    datos[3]=Pa\n",
    "    datos[4]=P0\n",
    "    datos[5]=P10\n",
    "    datos[6]=P20\n",
    "\n",
    "    return datos"
   ]
  },
  {
   "cell_type": "markdown",
   "metadata": {},
   "source": [
    "# # Mostramos las listas de \"tiempo\" y \"proyecciones\" para cada \"poblacion\""
   ]
  },
  {
   "cell_type": "code",
   "execution_count": 4,
   "metadata": {
    "collapsed": false,
    "scrolled": true
   },
   "outputs": [
    {
     "name": "stdout",
     "output_type": "stream",
     "text": [
      "[1991, 2001, 2010, 2017, 2019, 2029, 2039]\n",
      "[125725, 137061, 177083, 208211, 217105, 261574, 306043]\n",
      "[79340, 89547, 99430, 107117, 109313, 120294, 131275]\n",
      "[45047, 57791, 81995, 100820, 106199, 133092, 159985]\n",
      "[23411, 28486, 32758, 36081, 37030, 41777, 46524]\n",
      "[7209, 8292, 11124, 13327, 13956, 17103, 20250]\n",
      "[20674, 26183, 31787, 36146, 37391, 43618, 49845]\n",
      "[2613, 2929, 3307, 3601, 3685, 4105, 4525]\n",
      "[4642, 5753, 6627, 7307, 7501, 8472, 9443]\n",
      "[1913, 2185, 2374, 2521, 2563, 2773, 2983]\n",
      "[1527, 1981, 2228, 2420, 2475, 2749, 3023]\n",
      "[868, 1079, 1296, 1465, 1513, 1754, 1995]\n",
      "[864, 1087, 1264, 1402, 1441, 1638, 1835]\n",
      "[322, 384, 396, 405, 408, 421, 434]\n"
     ]
    }
   ],
   "source": [
    "print (tiempo)\n",
    "proyecciones = [0] * len(poblaciones)\n",
    "\n",
    "for i in range(len(poblaciones)):\n",
    "    proyecciones[i] = metodo_proyeccion_aritmetica_tasa_ultimo_periodo_censal(poblaciones[i], tiempo)\n",
    "    print (proyecciones[i])\n"
   ]
  },
  {
   "cell_type": "markdown",
   "metadata": {},
   "source": [
    "# # Importamos librerias para graficar"
   ]
  },
  {
   "cell_type": "code",
   "execution_count": 5,
   "metadata": {
    "collapsed": false
   },
   "outputs": [
    {
     "data": {
      "text/html": [
       "\n",
       "    <div class=\"bk-root\">\n",
       "        <a href=\"http://bokeh.pydata.org\" target=\"_blank\" class=\"bk-logo bk-logo-small bk-logo-notebook\"></a>\n",
       "        <span id=\"33fba217-e744-4426-bfc7-f0dfb135cff3\">Loading BokehJS ...</span>\n",
       "    </div>"
      ]
     },
     "metadata": {},
     "output_type": "display_data"
    },
    {
     "data": {
      "application/javascript": [
       "\n",
       "(function(global) {\n",
       "  function now() {\n",
       "    return new Date();\n",
       "  }\n",
       "\n",
       "  if (typeof (window._bokeh_onload_callbacks) === \"undefined\") {\n",
       "    window._bokeh_onload_callbacks = [];\n",
       "  }\n",
       "\n",
       "  function run_callbacks() {\n",
       "    window._bokeh_onload_callbacks.forEach(function(callback) { callback() });\n",
       "    delete window._bokeh_onload_callbacks\n",
       "    console.info(\"Bokeh: all callbacks have finished\");\n",
       "  }\n",
       "\n",
       "  function load_libs(js_urls, callback) {\n",
       "    window._bokeh_onload_callbacks.push(callback);\n",
       "    if (window._bokeh_is_loading > 0) {\n",
       "      console.log(\"Bokeh: BokehJS is being loaded, scheduling callback at\", now());\n",
       "      return null;\n",
       "    }\n",
       "    if (js_urls == null || js_urls.length === 0) {\n",
       "      run_callbacks();\n",
       "      return null;\n",
       "    }\n",
       "    console.log(\"Bokeh: BokehJS not loaded, scheduling load and callback at\", now());\n",
       "    window._bokeh_is_loading = js_urls.length;\n",
       "    for (var i = 0; i < js_urls.length; i++) {\n",
       "      var url = js_urls[i];\n",
       "      var s = document.createElement('script');\n",
       "      s.src = url;\n",
       "      s.async = false;\n",
       "      s.onreadystatechange = s.onload = function() {\n",
       "        window._bokeh_is_loading--;\n",
       "        if (window._bokeh_is_loading === 0) {\n",
       "          console.log(\"Bokeh: all BokehJS libraries loaded\");\n",
       "          run_callbacks()\n",
       "        }\n",
       "      };\n",
       "      s.onerror = function() {\n",
       "        console.warn(\"failed to load library \" + url);\n",
       "      };\n",
       "      console.log(\"Bokeh: injecting script tag for BokehJS library: \", url);\n",
       "      document.getElementsByTagName(\"head\")[0].appendChild(s);\n",
       "    }\n",
       "  };\n",
       "\n",
       "  var js_urls = ['https://cdn.pydata.org/bokeh/release/bokeh-0.12.0.min.js', 'https://cdn.pydata.org/bokeh/release/bokeh-widgets-0.12.0.min.js', 'https://cdn.pydata.org/bokeh/release/bokeh-compiler-0.12.0.min.js'];\n",
       "\n",
       "  var inline_js = [\n",
       "    function(Bokeh) {\n",
       "      Bokeh.set_log_level(\"info\");\n",
       "    },\n",
       "    \n",
       "    function(Bokeh) {\n",
       "      Bokeh.$(\"#33fba217-e744-4426-bfc7-f0dfb135cff3\").text(\"BokehJS successfully loaded\");\n",
       "    },\n",
       "    function(Bokeh) {\n",
       "      console.log(\"Bokeh: injecting CSS: https://cdn.pydata.org/bokeh/release/bokeh-0.12.0.min.css\");\n",
       "      Bokeh.embed.inject_css(\"https://cdn.pydata.org/bokeh/release/bokeh-0.12.0.min.css\");\n",
       "      console.log(\"Bokeh: injecting CSS: https://cdn.pydata.org/bokeh/release/bokeh-widgets-0.12.0.min.css\");\n",
       "      Bokeh.embed.inject_css(\"https://cdn.pydata.org/bokeh/release/bokeh-widgets-0.12.0.min.css\");\n",
       "    }\n",
       "  ];\n",
       "\n",
       "  function run_inline_js() {\n",
       "    for (var i = 0; i < inline_js.length; i++) {\n",
       "      inline_js[i](window.Bokeh);\n",
       "    }\n",
       "  }\n",
       "\n",
       "  if (window._bokeh_is_loading === 0) {\n",
       "    console.log(\"Bokeh: BokehJS loaded, going straight to plotting\");\n",
       "    run_inline_js();\n",
       "  } else {\n",
       "    load_libs(js_urls, function() {\n",
       "      console.log(\"Bokeh: BokehJS plotting callback run at\", now());\n",
       "      run_inline_js();\n",
       "    });\n",
       "  }\n",
       "}(this));"
      ]
     },
     "metadata": {},
     "output_type": "display_data"
    }
   ],
   "source": [
    "from bokeh.io import push_notebook, show, output_notebook\n",
    "from bokeh.plotting import figure\n",
    "output_notebook()"
   ]
  },
  {
   "cell_type": "markdown",
   "metadata": {},
   "source": [
    "# # Definimos estilos para usar en los gráficos"
   ]
  },
  {
   "cell_type": "code",
   "execution_count": 6,
   "metadata": {
    "collapsed": false
   },
   "outputs": [
    {
     "data": {
      "text/html": [
       "\n",
       "\n",
       "    <div class=\"bk-root\">\n",
       "        <div class=\"plotdiv\" id=\"29ef5bf9-1a6d-4797-9c53-29e86b13f2b9\"></div>\n",
       "    </div>\n",
       "<script type=\"text/javascript\">\n",
       "  \n",
       "  (function(global) {\n",
       "    function now() {\n",
       "      return new Date();\n",
       "    }\n",
       "  \n",
       "    if (typeof (window._bokeh_onload_callbacks) === \"undefined\") {\n",
       "      window._bokeh_onload_callbacks = [];\n",
       "    }\n",
       "  \n",
       "    function run_callbacks() {\n",
       "      window._bokeh_onload_callbacks.forEach(function(callback) { callback() });\n",
       "      delete window._bokeh_onload_callbacks\n",
       "      console.info(\"Bokeh: all callbacks have finished\");\n",
       "    }\n",
       "  \n",
       "    function load_libs(js_urls, callback) {\n",
       "      window._bokeh_onload_callbacks.push(callback);\n",
       "      if (window._bokeh_is_loading > 0) {\n",
       "        console.log(\"Bokeh: BokehJS is being loaded, scheduling callback at\", now());\n",
       "        return null;\n",
       "      }\n",
       "      if (js_urls == null || js_urls.length === 0) {\n",
       "        run_callbacks();\n",
       "        return null;\n",
       "      }\n",
       "      console.log(\"Bokeh: BokehJS not loaded, scheduling load and callback at\", now());\n",
       "      window._bokeh_is_loading = js_urls.length;\n",
       "      for (var i = 0; i < js_urls.length; i++) {\n",
       "        var url = js_urls[i];\n",
       "        var s = document.createElement('script');\n",
       "        s.src = url;\n",
       "        s.async = false;\n",
       "        s.onreadystatechange = s.onload = function() {\n",
       "          window._bokeh_is_loading--;\n",
       "          if (window._bokeh_is_loading === 0) {\n",
       "            console.log(\"Bokeh: all BokehJS libraries loaded\");\n",
       "            run_callbacks()\n",
       "          }\n",
       "        };\n",
       "        s.onerror = function() {\n",
       "          console.warn(\"failed to load library \" + url);\n",
       "        };\n",
       "        console.log(\"Bokeh: injecting script tag for BokehJS library: \", url);\n",
       "        document.getElementsByTagName(\"head\")[0].appendChild(s);\n",
       "      }\n",
       "    };var element = document.getElementById(\"29ef5bf9-1a6d-4797-9c53-29e86b13f2b9\");\n",
       "    if (element == null) {\n",
       "      console.log(\"Bokeh: ERROR: autoload.js configured with elementid '29ef5bf9-1a6d-4797-9c53-29e86b13f2b9' but no matching script tag was found. \")\n",
       "      return false;\n",
       "    }\n",
       "  \n",
       "    var js_urls = [];\n",
       "  \n",
       "    var inline_js = [\n",
       "      function(Bokeh) {\n",
       "        Bokeh.$(function() {\n",
       "            var docs_json = {\"521f649f-0e38-4e02-8da8-80977cee533c\":{\"roots\":{\"references\":[{\"attributes\":{\"fill_color\":{\"value\":\"olive\"},\"line_color\":{\"value\":\"olive\"},\"x\":{\"field\":\"x\"},\"y\":{\"field\":\"y\"}},\"id\":\"c282f801-7827-45de-a114-5893c9f5aaac\",\"type\":\"Circle\"},{\"attributes\":{\"data_source\":{\"id\":\"4c25052d-cfb2-4a91-b333-e08e85324f1a\",\"type\":\"ColumnDataSource\"},\"glyph\":{\"id\":\"4ee394e5-c694-41b6-8924-e830970c6358\",\"type\":\"Circle\"},\"hover_glyph\":null,\"nonselection_glyph\":{\"id\":\"06f9925b-33bf-4377-856b-d8055749719e\",\"type\":\"Circle\"},\"selection_glyph\":null},\"id\":\"5ef0b3bb-95fe-4676-ba06-7366b44e157e\",\"type\":\"GlyphRenderer\"},{\"attributes\":{\"callback\":null,\"column_names\":[\"x\",\"y\"],\"data\":{\"x\":[1991,2001,2010,2017,2019,2029,2039],\"y\":[125725,137061,177083,208211,217105,261574,306043]}},\"id\":\"73fdae98-bd0e-427c-9fa7-223650a89792\",\"type\":\"ColumnDataSource\"},{\"attributes\":{\"fill_color\":{\"value\":\"red\"},\"line_color\":{\"value\":\"red\"},\"x\":{\"field\":\"x\"},\"y\":{\"field\":\"y\"}},\"id\":\"bfd3e5ef-f495-411c-90b3-79beb55aeb59\",\"type\":\"Circle\"},{\"attributes\":{\"fill_alpha\":{\"value\":0.1},\"fill_color\":{\"value\":\"#1f77b4\"},\"line_alpha\":{\"value\":0.1},\"line_color\":{\"value\":\"#1f77b4\"},\"x\":{\"field\":\"x\"},\"y\":{\"field\":\"y\"}},\"id\":\"6dbba4a7-c1b2-436b-bc99-84b7aad6b160\",\"type\":\"Circle\"},{\"attributes\":{\"data_source\":{\"id\":\"44d3896a-8685-407f-b933-41634ee4e967\",\"type\":\"ColumnDataSource\"},\"glyph\":{\"id\":\"c282f801-7827-45de-a114-5893c9f5aaac\",\"type\":\"Circle\"},\"hover_glyph\":null,\"nonselection_glyph\":{\"id\":\"8e077d9d-49be-4d94-92a6-a46ea3bb3eaf\",\"type\":\"Circle\"},\"selection_glyph\":null},\"id\":\"58be744c-5138-43fe-b4d7-8622d6b4091d\",\"type\":\"GlyphRenderer\"},{\"attributes\":{\"callback\":null,\"column_names\":[\"x\",\"y\"],\"data\":{\"x\":[1991,2001,2010,2017,2019,2029,2039],\"y\":[1527,1981,2228,2420,2475,2749,3023]}},\"id\":\"b0f73bd4-8cb1-492c-a460-b5eb4893f47c\",\"type\":\"ColumnDataSource\"},{\"attributes\":{\"data_source\":{\"id\":\"47ca7be4-8129-4eed-b309-47cf0a9d7815\",\"type\":\"ColumnDataSource\"},\"glyph\":{\"id\":\"9dec8711-95f6-4a05-b8d2-d440ce682c0a\",\"type\":\"Circle\"},\"hover_glyph\":null,\"nonselection_glyph\":{\"id\":\"84881a8a-a74f-4b71-b828-da0f0d1f32e5\",\"type\":\"Circle\"},\"selection_glyph\":null},\"id\":\"62aaacd1-5f7e-41fb-a52f-d4fd1f95ed6b\",\"type\":\"GlyphRenderer\"},{\"attributes\":{\"fill_alpha\":{\"value\":0.1},\"fill_color\":{\"value\":\"#1f77b4\"},\"line_alpha\":{\"value\":0.1},\"line_color\":{\"value\":\"#1f77b4\"},\"x\":{\"field\":\"x\"},\"y\":{\"field\":\"y\"}},\"id\":\"84881a8a-a74f-4b71-b828-da0f0d1f32e5\",\"type\":\"Circle\"},{\"attributes\":{\"callback\":null,\"column_names\":[\"x\",\"y\"],\"data\":{\"x\":[1991,2001,2010,2017,2019,2029,2039],\"y\":[2613,2929,3307,3601,3685,4105,4525]}},\"id\":\"47ca7be4-8129-4eed-b309-47cf0a9d7815\",\"type\":\"ColumnDataSource\"},{\"attributes\":{\"callback\":null,\"column_names\":[\"x\",\"y\"],\"data\":{\"x\":[1991,2001,2010,2017,2019,2029,2039],\"y\":[20674,26183,31787,36146,37391,43618,49845]}},\"id\":\"13357fe6-ab15-4c15-871a-9e92ce18e689\",\"type\":\"ColumnDataSource\"},{\"attributes\":{\"fill_color\":{\"value\":\"cyan\"},\"line_color\":{\"value\":\"cyan\"},\"x\":{\"field\":\"x\"},\"y\":{\"field\":\"y\"}},\"id\":\"1e0f848a-f87f-438c-956c-c8dbf16f22fc\",\"type\":\"Circle\"},{\"attributes\":{\"callback\":null,\"column_names\":[\"x\",\"y\"],\"data\":{\"x\":[1991,2001,2010,2017,2019,2029,2039],\"y\":[45047,57791,81995,100820,106199,133092,159985]}},\"id\":\"c4425c5f-1733-4b1c-88cd-7d44fc58b517\",\"type\":\"ColumnDataSource\"},{\"attributes\":{\"line_color\":{\"value\":\"green\"},\"line_width\":{\"value\":2},\"x\":{\"field\":\"x\"},\"y\":{\"field\":\"y\"}},\"id\":\"a2d92bdf-d4bd-4fe7-9e23-147cfea0c156\",\"type\":\"Line\"},{\"attributes\":{\"fill_alpha\":{\"value\":0.1},\"fill_color\":{\"value\":\"#1f77b4\"},\"line_alpha\":{\"value\":0.1},\"line_color\":{\"value\":\"#1f77b4\"},\"x\":{\"field\":\"x\"},\"y\":{\"field\":\"y\"}},\"id\":\"6c922f67-4656-4bfa-aa33-20f0e65dbb2d\",\"type\":\"Circle\"},{\"attributes\":{\"data_source\":{\"id\":\"30a0e0fb-d5e1-42c7-8912-76e9c8102003\",\"type\":\"ColumnDataSource\"},\"glyph\":{\"id\":\"3c80ece4-6b5d-4b0e-b032-8383cd6329b7\",\"type\":\"Line\"},\"hover_glyph\":null,\"nonselection_glyph\":{\"id\":\"ad4b6073-c181-4342-9731-8ea5b03d2890\",\"type\":\"Line\"},\"selection_glyph\":null},\"id\":\"cb042e85-a05f-4c22-94c7-a7f3d9deba3f\",\"type\":\"GlyphRenderer\"},{\"attributes\":{\"fill_alpha\":{\"value\":0.1},\"fill_color\":{\"value\":\"#1f77b4\"},\"line_alpha\":{\"value\":0.1},\"line_color\":{\"value\":\"#1f77b4\"},\"x\":{\"field\":\"x\"},\"y\":{\"field\":\"y\"}},\"id\":\"2bb9d564-f2c3-49c9-9a97-812532d7aabc\",\"type\":\"Circle\"},{\"attributes\":{\"callback\":null,\"column_names\":[\"x\",\"y\"],\"data\":{\"x\":[1991,2001,2010,2017,2019,2029,2039],\"y\":[2613,2929,3307,3601,3685,4105,4525]}},\"id\":\"30a0e0fb-d5e1-42c7-8912-76e9c8102003\",\"type\":\"ColumnDataSource\"},{\"attributes\":{\"callback\":null,\"column_names\":[\"x\",\"y\"],\"data\":{\"x\":[1991,2001,2010,2017,2019,2029,2039],\"y\":[1913,2185,2374,2521,2563,2773,2983]}},\"id\":\"09b4f31c-7af5-4eac-b8f6-8c915271c35d\",\"type\":\"ColumnDataSource\"},{\"attributes\":{\"fill_color\":{\"value\":\"magenta\"},\"line_color\":{\"value\":\"magenta\"},\"x\":{\"field\":\"x\"},\"y\":{\"field\":\"y\"}},\"id\":\"f0380449-b5f9-4a11-805c-3d75393d03f2\",\"type\":\"Circle\"},{\"attributes\":{\"data_source\":{\"id\":\"16e620ee-d697-4c39-aaa0-8255b8fb6247\",\"type\":\"ColumnDataSource\"},\"glyph\":{\"id\":\"a2d92bdf-d4bd-4fe7-9e23-147cfea0c156\",\"type\":\"Line\"},\"hover_glyph\":null,\"nonselection_glyph\":{\"id\":\"bdcff469-c467-419b-b820-06f3553a073c\",\"type\":\"Line\"},\"selection_glyph\":null},\"id\":\"1370e5cb-7767-466f-9d01-10eaaa32168c\",\"type\":\"GlyphRenderer\"},{\"attributes\":{\"callback\":null,\"column_names\":[\"x\",\"y\"],\"data\":{\"x\":[1991,2001,2010,2017,2019,2029,2039],\"y\":[4642,5753,6627,7307,7501,8472,9443]}},\"id\":\"1beb26b8-0450-4e3d-b887-c2f2daa5f5a3\",\"type\":\"ColumnDataSource\"},{\"attributes\":{\"fill_color\":{\"value\":\"firebrick\"},\"line_color\":{\"value\":\"firebrick\"},\"x\":{\"field\":\"x\"},\"y\":{\"field\":\"y\"}},\"id\":\"240b0597-5b71-42ce-903e-490b0cdb3f68\",\"type\":\"Circle\"},{\"attributes\":{\"fill_color\":{\"value\":\"#7c1b65\"},\"line_color\":{\"value\":\"#7c1b65\"},\"x\":{\"field\":\"x\"},\"y\":{\"field\":\"y\"}},\"id\":\"9177c3eb-7376-4a2a-a07d-5632814de252\",\"type\":\"Circle\"},{\"attributes\":{\"align\":\"center\",\"plot\":null,\"text\":\"Poblaci\\u00f3n - Proyecci\\u00f3n Aritm\\u00e9tica Tasa del \\u00daltimo Per\\u00edodo Censal\",\"text_color\":{\"value\":\"blue\"},\"text_font\":\"times\",\"text_font_size\":{\"value\":\"20px\"},\"text_font_style\":\"italic\"},\"id\":\"a06f0b83-3740-4f28-9bd3-c100b09dd768\",\"type\":\"Title\"},{\"attributes\":{\"below\":[{\"id\":\"a2ca7e2b-59d2-496a-a99a-e7d43e951d9e\",\"type\":\"LinearAxis\"}],\"left\":[{\"id\":\"d176afc7-f8ca-40c4-8e15-e69d19c4adba\",\"type\":\"LinearAxis\"}],\"plot_width\":900,\"renderers\":[{\"id\":\"a2ca7e2b-59d2-496a-a99a-e7d43e951d9e\",\"type\":\"LinearAxis\"},{\"id\":\"27eca380-f81e-493f-9186-a64294100c22\",\"type\":\"Grid\"},{\"id\":\"d176afc7-f8ca-40c4-8e15-e69d19c4adba\",\"type\":\"LinearAxis\"},{\"id\":\"7c5f46a6-d8cf-499a-b901-44156d822452\",\"type\":\"Grid\"},{\"id\":\"e628111f-de0b-43b4-8721-4aefc56df5bc\",\"type\":\"BoxAnnotation\"},{\"id\":\"35e339a7-5394-44e3-ac5a-f84b3f5c13bc\",\"type\":\"Legend\"},{\"id\":\"d720da8a-5067-4c16-a7a4-c234cc4a9cca\",\"type\":\"GlyphRenderer\"},{\"id\":\"6f0973ef-837d-4f63-87c7-40a43e4c0ea8\",\"type\":\"GlyphRenderer\"},{\"id\":\"c781250e-fddc-4c89-bc36-aa3dd62e2f76\",\"type\":\"GlyphRenderer\"},{\"id\":\"ccb903f0-2534-4a7e-a831-b1bc304d9dad\",\"type\":\"GlyphRenderer\"},{\"id\":\"6e8c18eb-7908-423f-8145-be4956e3097f\",\"type\":\"GlyphRenderer\"},{\"id\":\"884494ee-4d06-41c5-aebc-c01b7dca2b90\",\"type\":\"GlyphRenderer\"},{\"id\":\"20a83b1d-fd9e-43e3-a77f-49f531269b84\",\"type\":\"GlyphRenderer\"},{\"id\":\"1370e5cb-7767-466f-9d01-10eaaa32168c\",\"type\":\"GlyphRenderer\"},{\"id\":\"a0e04801-e941-43c2-b5cc-1e8cd96d5755\",\"type\":\"GlyphRenderer\"},{\"id\":\"e13afd64-7bc5-4e0f-a6c1-de602338087c\",\"type\":\"GlyphRenderer\"},{\"id\":\"7ba4c4fc-3ac8-4708-a906-36266bde9fd4\",\"type\":\"GlyphRenderer\"},{\"id\":\"16489b51-d6f5-4d01-8213-0e13853647f5\",\"type\":\"GlyphRenderer\"},{\"id\":\"62aaacd1-5f7e-41fb-a52f-d4fd1f95ed6b\",\"type\":\"GlyphRenderer\"},{\"id\":\"cb042e85-a05f-4c22-94c7-a7f3d9deba3f\",\"type\":\"GlyphRenderer\"},{\"id\":\"1cd250e9-82a1-440f-ab38-cb2cf3b46327\",\"type\":\"GlyphRenderer\"},{\"id\":\"55ba1a46-efce-4391-9219-026465229bf6\",\"type\":\"GlyphRenderer\"},{\"id\":\"c7a449b5-40a7-4a72-bf83-8cf67c80d6ab\",\"type\":\"GlyphRenderer\"},{\"id\":\"27f35d8b-8b81-4546-a8f0-29049a48f57f\",\"type\":\"GlyphRenderer\"},{\"id\":\"697f6a6a-853f-4a83-a1f6-6a3ee49a251e\",\"type\":\"GlyphRenderer\"},{\"id\":\"75bbf1e4-f1ee-4aa1-86e3-5326da61e987\",\"type\":\"GlyphRenderer\"},{\"id\":\"58be744c-5138-43fe-b4d7-8622d6b4091d\",\"type\":\"GlyphRenderer\"},{\"id\":\"2b622200-9623-43a8-9cbe-29a9c6e54e3b\",\"type\":\"GlyphRenderer\"},{\"id\":\"5ef0b3bb-95fe-4676-ba06-7366b44e157e\",\"type\":\"GlyphRenderer\"},{\"id\":\"f9fb16e3-2b48-4540-b29c-fc0fb81e0aee\",\"type\":\"GlyphRenderer\"},{\"id\":\"aacc26ae-9838-4cd3-a620-b3a1af7a00d7\",\"type\":\"GlyphRenderer\"},{\"id\":\"d72ec673-462e-4c22-9f9c-22f1ff0b7f56\",\"type\":\"GlyphRenderer\"}],\"title\":{\"id\":\"a06f0b83-3740-4f28-9bd3-c100b09dd768\",\"type\":\"Title\"},\"tool_events\":{\"id\":\"7e85e62f-ab39-49b4-943b-01590c930c78\",\"type\":\"ToolEvents\"},\"toolbar\":{\"id\":\"5fd3b34b-9923-4941-b25f-6ec93bfbe7e3\",\"type\":\"Toolbar\"},\"x_range\":{\"id\":\"45a49a17-778c-4aac-adef-0f6cc58b06f0\",\"type\":\"DataRange1d\"},\"y_range\":{\"id\":\"09b8df66-36a4-4477-8131-a012c4282c6b\",\"type\":\"DataRange1d\"}},\"id\":\"334f37f7-068e-4078-b4ef-2cd2e5c43a83\",\"subtype\":\"Figure\",\"type\":\"Plot\"},{\"attributes\":{\"line_color\":{\"value\":\"magenta\"},\"line_width\":{\"value\":2},\"x\":{\"field\":\"x\"},\"y\":{\"field\":\"y\"}},\"id\":\"26402d8e-4cc2-4e2e-b3a2-833232e74614\",\"type\":\"Line\"},{\"attributes\":{\"line_alpha\":{\"value\":0.1},\"line_color\":{\"value\":\"#1f77b4\"},\"line_width\":{\"value\":2},\"x\":{\"field\":\"x\"},\"y\":{\"field\":\"y\"}},\"id\":\"5bb408a4-e99a-49c9-bf6c-850786787865\",\"type\":\"Line\"},{\"attributes\":{\"callback\":null,\"column_names\":[\"x\",\"y\"],\"data\":{\"x\":[1991,2001,2010,2017,2019,2029,2039],\"y\":[322,384,396,405,408,421,434]}},\"id\":\"656c4b70-608e-42bb-bd03-6f50e63dea6f\",\"type\":\"ColumnDataSource\"},{\"attributes\":{\"data_source\":{\"id\":\"73fdae98-bd0e-427c-9fa7-223650a89792\",\"type\":\"ColumnDataSource\"},\"glyph\":{\"id\":\"14091eaf-5631-4c3a-965c-237997428026\",\"type\":\"Line\"},\"hover_glyph\":null,\"nonselection_glyph\":{\"id\":\"034e2523-192c-4605-beea-511caa1b18a1\",\"type\":\"Line\"},\"selection_glyph\":null},\"id\":\"6f0973ef-837d-4f63-87c7-40a43e4c0ea8\",\"type\":\"GlyphRenderer\"},{\"attributes\":{\"line_alpha\":{\"value\":0.1},\"line_color\":{\"value\":\"#1f77b4\"},\"line_width\":{\"value\":2},\"x\":{\"field\":\"x\"},\"y\":{\"field\":\"y\"}},\"id\":\"6059cf8d-0951-4891-85f1-1d2d402191e4\",\"type\":\"Line\"},{\"attributes\":{\"fill_color\":{\"value\":\"#164c71\"},\"line_color\":{\"value\":\"#164c71\"},\"x\":{\"field\":\"x\"},\"y\":{\"field\":\"y\"}},\"id\":\"4ee394e5-c694-41b6-8924-e830970c6358\",\"type\":\"Circle\"},{\"attributes\":{\"fill_alpha\":{\"value\":0.1},\"fill_color\":{\"value\":\"#1f77b4\"},\"line_alpha\":{\"value\":0.1},\"line_color\":{\"value\":\"#1f77b4\"},\"x\":{\"field\":\"x\"},\"y\":{\"field\":\"y\"}},\"id\":\"306c7ec3-b529-4679-8b7e-382948f6687a\",\"type\":\"Circle\"},{\"attributes\":{\"fill_color\":{\"value\":\"pink\"},\"line_color\":{\"value\":\"pink\"},\"x\":{\"field\":\"x\"},\"y\":{\"field\":\"y\"}},\"id\":\"9e5d6a14-5a7e-4bce-baa6-41239dbeee2d\",\"type\":\"Circle\"},{\"attributes\":{\"line_alpha\":{\"value\":0.1},\"line_color\":{\"value\":\"#1f77b4\"},\"line_width\":{\"value\":2},\"x\":{\"field\":\"x\"},\"y\":{\"field\":\"y\"}},\"id\":\"39280f57-ac89-45f2-8d40-b9e56ffd51eb\",\"type\":\"Line\"},{\"attributes\":{\"axis_label\":\"Tiempo\",\"formatter\":{\"id\":\"06b1e26d-5d0f-4fe0-a731-cf90f0be79bc\",\"type\":\"BasicTickFormatter\"},\"plot\":{\"id\":\"334f37f7-068e-4078-b4ef-2cd2e5c43a83\",\"subtype\":\"Figure\",\"type\":\"Plot\"},\"ticker\":{\"id\":\"2db968d2-27e4-402a-ba8f-1352d8a262d7\",\"type\":\"BasicTicker\"}},\"id\":\"a2ca7e2b-59d2-496a-a99a-e7d43e951d9e\",\"type\":\"LinearAxis\"},{\"attributes\":{\"line_alpha\":{\"value\":0.1},\"line_color\":{\"value\":\"#1f77b4\"},\"line_width\":{\"value\":2},\"x\":{\"field\":\"x\"},\"y\":{\"field\":\"y\"}},\"id\":\"4d6a16dc-ae47-4808-86a9-d09187178d54\",\"type\":\"Line\"},{\"attributes\":{\"data_source\":{\"id\":\"13357fe6-ab15-4c15-871a-9e92ce18e689\",\"type\":\"ColumnDataSource\"},\"glyph\":{\"id\":\"649c182b-f8e0-41ed-b59f-fd5f19ed7a0d\",\"type\":\"Line\"},\"hover_glyph\":null,\"nonselection_glyph\":{\"id\":\"4d6a16dc-ae47-4808-86a9-d09187178d54\",\"type\":\"Line\"},\"selection_glyph\":null},\"id\":\"16489b51-d6f5-4d01-8213-0e13853647f5\",\"type\":\"GlyphRenderer\"},{\"attributes\":{\"data_source\":{\"id\":\"528604fc-2f62-49f6-acad-d904c5298dc4\",\"type\":\"ColumnDataSource\"},\"glyph\":{\"id\":\"0c42a9ee-3613-417f-b05f-ac1935d9a384\",\"type\":\"Circle\"},\"hover_glyph\":null,\"nonselection_glyph\":{\"id\":\"1c87f833-2271-4124-a315-8553cc8bad0f\",\"type\":\"Circle\"},\"selection_glyph\":null},\"id\":\"c781250e-fddc-4c89-bc36-aa3dd62e2f76\",\"type\":\"GlyphRenderer\"},{\"attributes\":{\"line_color\":{\"value\":\"pink\"},\"line_width\":{\"value\":2},\"x\":{\"field\":\"x\"},\"y\":{\"field\":\"y\"}},\"id\":\"649c182b-f8e0-41ed-b59f-fd5f19ed7a0d\",\"type\":\"Line\"},{\"attributes\":{\"plot\":{\"id\":\"334f37f7-068e-4078-b4ef-2cd2e5c43a83\",\"subtype\":\"Figure\",\"type\":\"Plot\"}},\"id\":\"fdb6e363-7018-4053-aeaf-4f1260816607\",\"type\":\"HelpTool\"},{\"attributes\":{\"data_source\":{\"id\":\"656c4b70-608e-42bb-bd03-6f50e63dea6f\",\"type\":\"ColumnDataSource\"},\"glyph\":{\"id\":\"9177c3eb-7376-4a2a-a07d-5632814de252\",\"type\":\"Circle\"},\"hover_glyph\":null,\"nonselection_glyph\":{\"id\":\"6dbba4a7-c1b2-436b-bc99-84b7aad6b160\",\"type\":\"Circle\"},\"selection_glyph\":null},\"id\":\"aacc26ae-9838-4cd3-a620-b3a1af7a00d7\",\"type\":\"GlyphRenderer\"},{\"attributes\":{\"fill_alpha\":{\"value\":0.1},\"fill_color\":{\"value\":\"#1f77b4\"},\"line_alpha\":{\"value\":0.1},\"line_color\":{\"value\":\"#1f77b4\"},\"x\":{\"field\":\"x\"},\"y\":{\"field\":\"y\"}},\"id\":\"0cf3de54-51d5-4636-bb57-bc81ca947a51\",\"type\":\"Circle\"},{\"attributes\":{\"callback\":null,\"column_names\":[\"x\",\"y\"],\"data\":{\"x\":[1991,2001,2010,2017,2019,2029,2039],\"y\":[7209,8292,11124,13327,13956,17103,20250]}},\"id\":\"ec8f911b-f881-4601-9e9d-970107f7d934\",\"type\":\"ColumnDataSource\"},{\"attributes\":{\"data_source\":{\"id\":\"f2d787be-4f19-4647-898d-0c3d202b1f4a\",\"type\":\"ColumnDataSource\"},\"glyph\":{\"id\":\"83735261-2285-476c-b3f5-620e692208c9\",\"type\":\"Line\"},\"hover_glyph\":null,\"nonselection_glyph\":{\"id\":\"dd71197a-7d8a-42d4-ac53-9f4cd58ed52b\",\"type\":\"Line\"},\"selection_glyph\":null},\"id\":\"55ba1a46-efce-4391-9219-026465229bf6\",\"type\":\"GlyphRenderer\"},{\"attributes\":{\"callback\":null,\"column_names\":[\"x\",\"y\"],\"data\":{\"x\":[1991,2001,2010,2017,2019,2029,2039],\"y\":[79340,89547,99430,107117,109313,120294,131275]}},\"id\":\"528604fc-2f62-49f6-acad-d904c5298dc4\",\"type\":\"ColumnDataSource\"},{\"attributes\":{\"callback\":null,\"column_names\":[\"x\",\"y\"],\"data\":{\"x\":[1991,2001,2010,2017,2019,2029,2039],\"y\":[322,384,396,405,408,421,434]}},\"id\":\"a97b5e75-af88-48e0-916b-f65e9ee16c37\",\"type\":\"ColumnDataSource\"},{\"attributes\":{\"fill_alpha\":{\"value\":0.1},\"fill_color\":{\"value\":\"#1f77b4\"},\"line_alpha\":{\"value\":0.1},\"line_color\":{\"value\":\"#1f77b4\"},\"x\":{\"field\":\"x\"},\"y\":{\"field\":\"y\"}},\"id\":\"c120c735-d6f0-4f4b-a45e-7c36bf7902b7\",\"type\":\"Circle\"},{\"attributes\":{\"data_source\":{\"id\":\"a1f82240-8741-4816-bf80-35143ee16131\",\"type\":\"ColumnDataSource\"},\"glyph\":{\"id\":\"ca2d66a8-c7a8-4143-bc1c-36c2549126be\",\"type\":\"Line\"},\"hover_glyph\":null,\"nonselection_glyph\":{\"id\":\"f20fc60e-4486-40b6-835e-36dfc1dad38a\",\"type\":\"Line\"},\"selection_glyph\":null},\"id\":\"2b622200-9623-43a8-9cbe-29a9c6e54e3b\",\"type\":\"GlyphRenderer\"},{\"attributes\":{\"data_source\":{\"id\":\"257bbff5-f084-4b49-8596-115945faac02\",\"type\":\"ColumnDataSource\"},\"glyph\":{\"id\":\"331c5d4a-c81a-4408-accc-d93e380bdd37\",\"type\":\"Line\"},\"hover_glyph\":null,\"nonselection_glyph\":{\"id\":\"e4d83277-dd3b-4dd6-ae0b-792ce1be6371\",\"type\":\"Line\"},\"selection_glyph\":null},\"id\":\"e13afd64-7bc5-4e0f-a6c1-de602338087c\",\"type\":\"GlyphRenderer\"},{\"attributes\":{\"fill_alpha\":{\"value\":0.1},\"fill_color\":{\"value\":\"#1f77b4\"},\"line_alpha\":{\"value\":0.1},\"line_color\":{\"value\":\"#1f77b4\"},\"x\":{\"field\":\"x\"},\"y\":{\"field\":\"y\"}},\"id\":\"1c87f833-2271-4124-a315-8553cc8bad0f\",\"type\":\"Circle\"},{\"attributes\":{\"axis_label\":\"Poblaci\\u00f3n\",\"formatter\":{\"id\":\"1fabe7c6-89a7-4a69-a2ab-9248726b4c36\",\"type\":\"BasicTickFormatter\"},\"plot\":{\"id\":\"334f37f7-068e-4078-b4ef-2cd2e5c43a83\",\"subtype\":\"Figure\",\"type\":\"Plot\"},\"ticker\":{\"id\":\"c92b59db-f302-4df3-a8ab-8cfcf07a0f72\",\"type\":\"BasicTicker\"}},\"id\":\"d176afc7-f8ca-40c4-8e15-e69d19c4adba\",\"type\":\"LinearAxis\"},{\"attributes\":{\"fill_color\":{\"value\":\"blue\"},\"line_color\":{\"value\":\"blue\"},\"x\":{\"field\":\"x\"},\"y\":{\"field\":\"y\"}},\"id\":\"05f7f27a-42b1-45eb-9c65-5776859aa2d4\",\"type\":\"Circle\"},{\"attributes\":{\"line_color\":{\"value\":\"cyan\"},\"line_width\":{\"value\":2},\"x\":{\"field\":\"x\"},\"y\":{\"field\":\"y\"}},\"id\":\"bde8e4a7-afd2-4776-a1dd-423d4aeb721e\",\"type\":\"Line\"},{\"attributes\":{\"callback\":null},\"id\":\"09b8df66-36a4-4477-8131-a012c4282c6b\",\"type\":\"DataRange1d\"},{\"attributes\":{\"use_scientific\":false},\"id\":\"1fabe7c6-89a7-4a69-a2ab-9248726b4c36\",\"type\":\"BasicTickFormatter\"},{\"attributes\":{},\"id\":\"7e85e62f-ab39-49b4-943b-01590c930c78\",\"type\":\"ToolEvents\"},{\"attributes\":{\"callback\":null,\"column_names\":[\"x\",\"y\"],\"data\":{\"x\":[1991,2001,2010,2017,2019,2029,2039],\"y\":[45047,57791,81995,100820,106199,133092,159985]}},\"id\":\"1f7df9e2-1b81-4af7-8b41-fcc8148a555b\",\"type\":\"ColumnDataSource\"},{\"attributes\":{\"fill_color\":{\"value\":\"yellow\"},\"line_color\":{\"value\":\"yellow\"},\"x\":{\"field\":\"x\"},\"y\":{\"field\":\"y\"}},\"id\":\"8280a513-e893-4252-9659-17d07741444c\",\"type\":\"Circle\"},{\"attributes\":{\"fill_color\":{\"value\":\"green\"},\"line_color\":{\"value\":\"green\"},\"x\":{\"field\":\"x\"},\"y\":{\"field\":\"y\"}},\"id\":\"feaed77e-1005-4147-a6f6-9964a71bbf86\",\"type\":\"Circle\"},{\"attributes\":{\"line_color\":{\"value\":\"firebrick\"},\"line_width\":{\"value\":2},\"x\":{\"field\":\"x\"},\"y\":{\"field\":\"y\"}},\"id\":\"83735261-2285-476c-b3f5-620e692208c9\",\"type\":\"Line\"},{\"attributes\":{\"callback\":null,\"column_names\":[\"x\",\"y\"],\"data\":{\"x\":[1991,2001,2010,2017,2019,2029,2039],\"y\":[23411,28486,32758,36081,37030,41777,46524]}},\"id\":\"4fc7b0ca-ab22-46f6-806d-04e490a35452\",\"type\":\"ColumnDataSource\"},{\"attributes\":{\"plot\":{\"id\":\"334f37f7-068e-4078-b4ef-2cd2e5c43a83\",\"subtype\":\"Figure\",\"type\":\"Plot\"}},\"id\":\"207e40aa-c8e5-496a-a73c-bc1e4456bf19\",\"type\":\"PanTool\"},{\"attributes\":{\"line_color\":{\"value\":\"red\"},\"line_width\":{\"value\":2},\"x\":{\"field\":\"x\"},\"y\":{\"field\":\"y\"}},\"id\":\"14091eaf-5631-4c3a-965c-237997428026\",\"type\":\"Line\"},{\"attributes\":{\"line_alpha\":{\"value\":0.1},\"line_color\":{\"value\":\"#1f77b4\"},\"line_width\":{\"value\":2},\"x\":{\"field\":\"x\"},\"y\":{\"field\":\"y\"}},\"id\":\"f90be224-f6f1-4364-912b-6cee69261b43\",\"type\":\"Line\"},{\"attributes\":{\"line_color\":{\"value\":\"blue\"},\"line_width\":{\"value\":2},\"x\":{\"field\":\"x\"},\"y\":{\"field\":\"y\"}},\"id\":\"567ef8b6-f90b-4548-a198-ab8d78367cc9\",\"type\":\"Line\"},{\"attributes\":{\"callback\":null,\"column_names\":[\"x\",\"y\"],\"data\":{\"x\":[1991,2001,2010,2017,2019,2029,2039],\"y\":[1913,2185,2374,2521,2563,2773,2983]}},\"id\":\"731ad12a-2388-435b-a624-12feddc65edd\",\"type\":\"ColumnDataSource\"},{\"attributes\":{\"data_source\":{\"id\":\"e950dda7-e92d-42a9-a4ea-8a1aa4a73f3b\",\"type\":\"ColumnDataSource\"},\"glyph\":{\"id\":\"fdbc6e06-62b7-44f5-9224-8c2d844cd832\",\"type\":\"Line\"},\"hover_glyph\":null,\"nonselection_glyph\":{\"id\":\"f90be224-f6f1-4364-912b-6cee69261b43\",\"type\":\"Line\"},\"selection_glyph\":null},\"id\":\"ccb903f0-2534-4a7e-a831-b1bc304d9dad\",\"type\":\"GlyphRenderer\"},{\"attributes\":{\"data_source\":{\"id\":\"2f73aeae-9388-476f-9860-2a0da96df74e\",\"type\":\"ColumnDataSource\"},\"glyph\":{\"id\":\"9e5d6a14-5a7e-4bce-baa6-41239dbeee2d\",\"type\":\"Circle\"},\"hover_glyph\":null,\"nonselection_glyph\":{\"id\":\"2bb9d564-f2c3-49c9-9a97-812532d7aabc\",\"type\":\"Circle\"},\"selection_glyph\":null},\"id\":\"7ba4c4fc-3ac8-4708-a906-36266bde9fd4\",\"type\":\"GlyphRenderer\"},{\"attributes\":{\"line_alpha\":{\"value\":0.1},\"line_color\":{\"value\":\"#1f77b4\"},\"line_width\":{\"value\":2},\"x\":{\"field\":\"x\"},\"y\":{\"field\":\"y\"}},\"id\":\"67272bc2-60d1-4f72-b98d-dfd541e9c5b0\",\"type\":\"Line\"},{\"attributes\":{\"callback\":null,\"column_names\":[\"x\",\"y\"],\"data\":{\"x\":[1991,2001,2010,2017,2019,2029,2039],\"y\":[864,1087,1264,1402,1441,1638,1835]}},\"id\":\"c2e51bfb-8ab0-4b34-bb5b-7cd30249e7e3\",\"type\":\"ColumnDataSource\"},{\"attributes\":{\"data_source\":{\"id\":\"731ad12a-2388-435b-a624-12feddc65edd\",\"type\":\"ColumnDataSource\"},\"glyph\":{\"id\":\"1e0f848a-f87f-438c-956c-c8dbf16f22fc\",\"type\":\"Circle\"},\"hover_glyph\":null,\"nonselection_glyph\":{\"id\":\"306c7ec3-b529-4679-8b7e-382948f6687a\",\"type\":\"Circle\"},\"selection_glyph\":null},\"id\":\"c7a449b5-40a7-4a72-bf83-8cf67c80d6ab\",\"type\":\"GlyphRenderer\"},{\"attributes\":{\"data_source\":{\"id\":\"1f7df9e2-1b81-4af7-8b41-fcc8148a555b\",\"type\":\"ColumnDataSource\"},\"glyph\":{\"id\":\"05f7f27a-42b1-45eb-9c65-5776859aa2d4\",\"type\":\"Circle\"},\"hover_glyph\":null,\"nonselection_glyph\":{\"id\":\"59ca7887-e3ea-4942-a5f0-8f6bbfa32606\",\"type\":\"Circle\"},\"selection_glyph\":null},\"id\":\"6e8c18eb-7908-423f-8145-be4956e3097f\",\"type\":\"GlyphRenderer\"},{\"attributes\":{\"callback\":null,\"column_names\":[\"x\",\"y\"],\"data\":{\"x\":[1991,2001,2010,2017,2019,2029,2039],\"y\":[20674,26183,31787,36146,37391,43618,49845]}},\"id\":\"2f73aeae-9388-476f-9860-2a0da96df74e\",\"type\":\"ColumnDataSource\"},{\"attributes\":{\"legends\":[[\"Comodoro Rivadavia\",[{\"id\":\"d720da8a-5067-4c16-a7a4-c234cc4a9cca\",\"type\":\"GlyphRenderer\"},{\"id\":\"6f0973ef-837d-4f63-87c7-40a43e4c0ea8\",\"type\":\"GlyphRenderer\"}]],[\"Trelew\",[{\"id\":\"c781250e-fddc-4c89-bc36-aa3dd62e2f76\",\"type\":\"GlyphRenderer\"},{\"id\":\"ccb903f0-2534-4a7e-a831-b1bc304d9dad\",\"type\":\"GlyphRenderer\"}]],[\"Puerto Madryn\",[{\"id\":\"6e8c18eb-7908-423f-8145-be4956e3097f\",\"type\":\"GlyphRenderer\"},{\"id\":\"884494ee-4d06-41c5-aebc-c01b7dca2b90\",\"type\":\"GlyphRenderer\"}]],[\"Esquel\",[{\"id\":\"20a83b1d-fd9e-43e3-a77f-49f531269b84\",\"type\":\"GlyphRenderer\"},{\"id\":\"1370e5cb-7767-466f-9d01-10eaaa32168c\",\"type\":\"GlyphRenderer\"}]],[\"Sarmiento\",[{\"id\":\"a0e04801-e941-43c2-b5cc-1e8cd96d5755\",\"type\":\"GlyphRenderer\"},{\"id\":\"e13afd64-7bc5-4e0f-a6c1-de602338087c\",\"type\":\"GlyphRenderer\"}]],[\"Rawson\",[{\"id\":\"7ba4c4fc-3ac8-4708-a906-36266bde9fd4\",\"type\":\"GlyphRenderer\"},{\"id\":\"16489b51-d6f5-4d01-8213-0e13853647f5\",\"type\":\"GlyphRenderer\"}]],[\"Dolavon\",[{\"id\":\"62aaacd1-5f7e-41fb-a52f-d4fd1f95ed6b\",\"type\":\"GlyphRenderer\"},{\"id\":\"cb042e85-a05f-4c22-94c7-a7f3d9deba3f\",\"type\":\"GlyphRenderer\"}]],[\"Gaiman\",[{\"id\":\"1cd250e9-82a1-440f-ab38-cb2cf3b46327\",\"type\":\"GlyphRenderer\"},{\"id\":\"55ba1a46-efce-4391-9219-026465229bf6\",\"type\":\"GlyphRenderer\"}]],[\"Gobernador Costa\",[{\"id\":\"c7a449b5-40a7-4a72-bf83-8cf67c80d6ab\",\"type\":\"GlyphRenderer\"},{\"id\":\"27f35d8b-8b81-4546-a8f0-29049a48f57f\",\"type\":\"GlyphRenderer\"}]],[\"Cholila\",[{\"id\":\"697f6a6a-853f-4a83-a1f6-6a3ee49a251e\",\"type\":\"GlyphRenderer\"},{\"id\":\"75bbf1e4-f1ee-4aa1-86e3-5326da61e987\",\"type\":\"GlyphRenderer\"}]],[\"Camarones\",[{\"id\":\"58be744c-5138-43fe-b4d7-8622d6b4091d\",\"type\":\"GlyphRenderer\"},{\"id\":\"2b622200-9623-43a8-9cbe-29a9c6e54e3b\",\"type\":\"GlyphRenderer\"}]],[\"Paso de Indios\",[{\"id\":\"5ef0b3bb-95fe-4676-ba06-7366b44e157e\",\"type\":\"GlyphRenderer\"},{\"id\":\"f9fb16e3-2b48-4540-b29c-fc0fb81e0aee\",\"type\":\"GlyphRenderer\"}]],[\"Paso del Sapo\",[{\"id\":\"aacc26ae-9838-4cd3-a620-b3a1af7a00d7\",\"type\":\"GlyphRenderer\"},{\"id\":\"d72ec673-462e-4c22-9f9c-22f1ff0b7f56\",\"type\":\"GlyphRenderer\"}]]],\"plot\":{\"id\":\"334f37f7-068e-4078-b4ef-2cd2e5c43a83\",\"subtype\":\"Figure\",\"type\":\"Plot\"}},\"id\":\"35e339a7-5394-44e3-ac5a-f84b3f5c13bc\",\"type\":\"Legend\"},{\"attributes\":{\"plot\":{\"id\":\"334f37f7-068e-4078-b4ef-2cd2e5c43a83\",\"subtype\":\"Figure\",\"type\":\"Plot\"},\"ticker\":{\"id\":\"2db968d2-27e4-402a-ba8f-1352d8a262d7\",\"type\":\"BasicTicker\"}},\"id\":\"27eca380-f81e-493f-9186-a64294100c22\",\"type\":\"Grid\"},{\"attributes\":{\"data_source\":{\"id\":\"cfb17912-b0eb-4deb-8a79-8c90a763e6e7\",\"type\":\"ColumnDataSource\"},\"glyph\":{\"id\":\"bfd3e5ef-f495-411c-90b3-79beb55aeb59\",\"type\":\"Circle\"},\"hover_glyph\":null,\"nonselection_glyph\":{\"id\":\"f54eda4e-154b-4281-acde-6ac869e688ec\",\"type\":\"Circle\"},\"selection_glyph\":null},\"id\":\"d720da8a-5067-4c16-a7a4-c234cc4a9cca\",\"type\":\"GlyphRenderer\"},{\"attributes\":{\"data_source\":{\"id\":\"4fc7b0ca-ab22-46f6-806d-04e490a35452\",\"type\":\"ColumnDataSource\"},\"glyph\":{\"id\":\"feaed77e-1005-4147-a6f6-9964a71bbf86\",\"type\":\"Circle\"},\"hover_glyph\":null,\"nonselection_glyph\":{\"id\":\"0cf3de54-51d5-4636-bb57-bc81ca947a51\",\"type\":\"Circle\"},\"selection_glyph\":null},\"id\":\"20a83b1d-fd9e-43e3-a77f-49f531269b84\",\"type\":\"GlyphRenderer\"},{\"attributes\":{\"callback\":null,\"column_names\":[\"x\",\"y\"],\"data\":{\"x\":[1991,2001,2010,2017,2019,2029,2039],\"y\":[7209,8292,11124,13327,13956,17103,20250]}},\"id\":\"257bbff5-f084-4b49-8596-115945faac02\",\"type\":\"ColumnDataSource\"},{\"attributes\":{\"data_source\":{\"id\":\"1beb26b8-0450-4e3d-b887-c2f2daa5f5a3\",\"type\":\"ColumnDataSource\"},\"glyph\":{\"id\":\"240b0597-5b71-42ce-903e-490b0cdb3f68\",\"type\":\"Circle\"},\"hover_glyph\":null,\"nonselection_glyph\":{\"id\":\"6c922f67-4656-4bfa-aa33-20f0e65dbb2d\",\"type\":\"Circle\"},\"selection_glyph\":null},\"id\":\"1cd250e9-82a1-440f-ab38-cb2cf3b46327\",\"type\":\"GlyphRenderer\"},{\"attributes\":{\"line_alpha\":{\"value\":0.1},\"line_color\":{\"value\":\"#1f77b4\"},\"line_width\":{\"value\":2},\"x\":{\"field\":\"x\"},\"y\":{\"field\":\"y\"}},\"id\":\"dd71197a-7d8a-42d4-ac53-9f4cd58ed52b\",\"type\":\"Line\"},{\"attributes\":{\"callback\":null,\"column_names\":[\"x\",\"y\"],\"data\":{\"x\":[1991,2001,2010,2017,2019,2029,2039],\"y\":[23411,28486,32758,36081,37030,41777,46524]}},\"id\":\"16e620ee-d697-4c39-aaa0-8255b8fb6247\",\"type\":\"ColumnDataSource\"},{\"attributes\":{\"fill_color\":{\"value\":\"orange\"},\"line_color\":{\"value\":\"orange\"},\"x\":{\"field\":\"x\"},\"y\":{\"field\":\"y\"}},\"id\":\"0c42a9ee-3613-417f-b05f-ac1935d9a384\",\"type\":\"Circle\"},{\"attributes\":{\"line_alpha\":{\"value\":0.1},\"line_color\":{\"value\":\"#1f77b4\"},\"line_width\":{\"value\":2},\"x\":{\"field\":\"x\"},\"y\":{\"field\":\"y\"}},\"id\":\"c9c46c5a-e941-47c3-b83a-1466423dded0\",\"type\":\"Line\"},{\"attributes\":{\"fill_alpha\":{\"value\":0.1},\"fill_color\":{\"value\":\"#1f77b4\"},\"line_alpha\":{\"value\":0.1},\"line_color\":{\"value\":\"#1f77b4\"},\"x\":{\"field\":\"x\"},\"y\":{\"field\":\"y\"}},\"id\":\"8e077d9d-49be-4d94-92a6-a46ea3bb3eaf\",\"type\":\"Circle\"},{\"attributes\":{\"callback\":null,\"column_names\":[\"x\",\"y\"],\"data\":{\"x\":[1991,2001,2010,2017,2019,2029,2039],\"y\":[868,1079,1296,1465,1513,1754,1995]}},\"id\":\"44d3896a-8685-407f-b933-41634ee4e967\",\"type\":\"ColumnDataSource\"},{\"attributes\":{\"line_color\":{\"value\":\"navy\"},\"line_width\":{\"value\":2},\"x\":{\"field\":\"x\"},\"y\":{\"field\":\"y\"}},\"id\":\"3c80ece4-6b5d-4b0e-b032-8383cd6329b7\",\"type\":\"Line\"},{\"attributes\":{\"line_color\":{\"value\":\"orange\"},\"line_width\":{\"value\":2},\"x\":{\"field\":\"x\"},\"y\":{\"field\":\"y\"}},\"id\":\"fdbc6e06-62b7-44f5-9224-8c2d844cd832\",\"type\":\"Line\"},{\"attributes\":{\"callback\":null,\"column_names\":[\"x\",\"y\"],\"data\":{\"x\":[1991,2001,2010,2017,2019,2029,2039],\"y\":[79340,89547,99430,107117,109313,120294,131275]}},\"id\":\"e950dda7-e92d-42a9-a4ea-8a1aa4a73f3b\",\"type\":\"ColumnDataSource\"},{\"attributes\":{},\"id\":\"06b1e26d-5d0f-4fe0-a731-cf90f0be79bc\",\"type\":\"BasicTickFormatter\"},{\"attributes\":{\"data_source\":{\"id\":\"4172e153-f83a-4acd-acf7-935baf09e8a9\",\"type\":\"ColumnDataSource\"},\"glyph\":{\"id\":\"f0380449-b5f9-4a11-805c-3d75393d03f2\",\"type\":\"Circle\"},\"hover_glyph\":null,\"nonselection_glyph\":{\"id\":\"8c59080a-2c8d-4d8c-a43a-13fae5707d35\",\"type\":\"Circle\"},\"selection_glyph\":null},\"id\":\"697f6a6a-853f-4a83-a1f6-6a3ee49a251e\",\"type\":\"GlyphRenderer\"},{\"attributes\":{},\"id\":\"c92b59db-f302-4df3-a8ab-8cfcf07a0f72\",\"type\":\"BasicTicker\"},{\"attributes\":{\"plot\":{\"id\":\"334f37f7-068e-4078-b4ef-2cd2e5c43a83\",\"subtype\":\"Figure\",\"type\":\"Plot\"}},\"id\":\"a0225ff3-9170-462e-8d1c-a3e8d904786d\",\"type\":\"WheelZoomTool\"},{\"attributes\":{\"fill_alpha\":{\"value\":0.1},\"fill_color\":{\"value\":\"#1f77b4\"},\"line_alpha\":{\"value\":0.1},\"line_color\":{\"value\":\"#1f77b4\"},\"x\":{\"field\":\"x\"},\"y\":{\"field\":\"y\"}},\"id\":\"8c59080a-2c8d-4d8c-a43a-13fae5707d35\",\"type\":\"Circle\"},{\"attributes\":{\"line_color\":{\"value\":\"yellow\"},\"line_width\":{\"value\":2},\"x\":{\"field\":\"x\"},\"y\":{\"field\":\"y\"}},\"id\":\"331c5d4a-c81a-4408-accc-d93e380bdd37\",\"type\":\"Line\"},{\"attributes\":{\"bottom_units\":\"screen\",\"fill_alpha\":{\"value\":0.5},\"fill_color\":{\"value\":\"lightgrey\"},\"left_units\":\"screen\",\"level\":\"overlay\",\"line_alpha\":{\"value\":1.0},\"line_color\":{\"value\":\"black\"},\"line_dash\":[4,4],\"line_width\":{\"value\":2},\"plot\":null,\"render_mode\":\"css\",\"right_units\":\"screen\",\"top_units\":\"screen\"},\"id\":\"e628111f-de0b-43b4-8721-4aefc56df5bc\",\"type\":\"BoxAnnotation\"},{\"attributes\":{\"plot\":{\"id\":\"334f37f7-068e-4078-b4ef-2cd2e5c43a83\",\"subtype\":\"Figure\",\"type\":\"Plot\"}},\"id\":\"cb4cba16-58e2-4d83-9658-1d63e0f439f1\",\"type\":\"SaveTool\"},{\"attributes\":{\"line_color\":{\"value\":\"#164c71\"},\"line_width\":{\"value\":2},\"x\":{\"field\":\"x\"},\"y\":{\"field\":\"y\"}},\"id\":\"93ef34f7-c387-406a-a327-56f201528d0f\",\"type\":\"Line\"},{\"attributes\":{\"data_source\":{\"id\":\"ec8f911b-f881-4601-9e9d-970107f7d934\",\"type\":\"ColumnDataSource\"},\"glyph\":{\"id\":\"8280a513-e893-4252-9659-17d07741444c\",\"type\":\"Circle\"},\"hover_glyph\":null,\"nonselection_glyph\":{\"id\":\"c120c735-d6f0-4f4b-a45e-7c36bf7902b7\",\"type\":\"Circle\"},\"selection_glyph\":null},\"id\":\"a0e04801-e941-43c2-b5cc-1e8cd96d5755\",\"type\":\"GlyphRenderer\"},{\"attributes\":{\"line_alpha\":{\"value\":0.1},\"line_color\":{\"value\":\"#1f77b4\"},\"line_width\":{\"value\":2},\"x\":{\"field\":\"x\"},\"y\":{\"field\":\"y\"}},\"id\":\"ad4b6073-c181-4342-9731-8ea5b03d2890\",\"type\":\"Line\"},{\"attributes\":{\"line_alpha\":{\"value\":0.1},\"line_color\":{\"value\":\"#1f77b4\"},\"line_width\":{\"value\":2},\"x\":{\"field\":\"x\"},\"y\":{\"field\":\"y\"}},\"id\":\"f20fc60e-4486-40b6-835e-36dfc1dad38a\",\"type\":\"Line\"},{\"attributes\":{\"line_color\":{\"value\":\"olive\"},\"line_width\":{\"value\":2},\"x\":{\"field\":\"x\"},\"y\":{\"field\":\"y\"}},\"id\":\"ca2d66a8-c7a8-4143-bc1c-36c2549126be\",\"type\":\"Line\"},{\"attributes\":{\"data_source\":{\"id\":\"09b4f31c-7af5-4eac-b8f6-8c915271c35d\",\"type\":\"ColumnDataSource\"},\"glyph\":{\"id\":\"bde8e4a7-afd2-4776-a1dd-423d4aeb721e\",\"type\":\"Line\"},\"hover_glyph\":null,\"nonselection_glyph\":{\"id\":\"c9c46c5a-e941-47c3-b83a-1466423dded0\",\"type\":\"Line\"},\"selection_glyph\":null},\"id\":\"27f35d8b-8b81-4546-a8f0-29049a48f57f\",\"type\":\"GlyphRenderer\"},{\"attributes\":{\"line_alpha\":{\"value\":0.1},\"line_color\":{\"value\":\"#1f77b4\"},\"line_width\":{\"value\":2},\"x\":{\"field\":\"x\"},\"y\":{\"field\":\"y\"}},\"id\":\"e4d83277-dd3b-4dd6-ae0b-792ce1be6371\",\"type\":\"Line\"},{\"attributes\":{\"callback\":null,\"column_names\":[\"x\",\"y\"],\"data\":{\"x\":[1991,2001,2010,2017,2019,2029,2039],\"y\":[125725,137061,177083,208211,217105,261574,306043]}},\"id\":\"cfb17912-b0eb-4deb-8a79-8c90a763e6e7\",\"type\":\"ColumnDataSource\"},{\"attributes\":{\"plot\":{\"id\":\"334f37f7-068e-4078-b4ef-2cd2e5c43a83\",\"subtype\":\"Figure\",\"type\":\"Plot\"}},\"id\":\"35889a62-a999-4fc8-ae06-5782fb6ce10a\",\"type\":\"ResetTool\"},{\"attributes\":{\"data_source\":{\"id\":\"a97b5e75-af88-48e0-916b-f65e9ee16c37\",\"type\":\"ColumnDataSource\"},\"glyph\":{\"id\":\"613dbe65-cb1b-4fcf-bf41-91969db622a8\",\"type\":\"Line\"},\"hover_glyph\":null,\"nonselection_glyph\":{\"id\":\"67272bc2-60d1-4f72-b98d-dfd541e9c5b0\",\"type\":\"Line\"},\"selection_glyph\":null},\"id\":\"d72ec673-462e-4c22-9f9c-22f1ff0b7f56\",\"type\":\"GlyphRenderer\"},{\"attributes\":{\"callback\":null,\"column_names\":[\"x\",\"y\"],\"data\":{\"x\":[1991,2001,2010,2017,2019,2029,2039],\"y\":[868,1079,1296,1465,1513,1754,1995]}},\"id\":\"a1f82240-8741-4816-bf80-35143ee16131\",\"type\":\"ColumnDataSource\"},{\"attributes\":{\"callback\":null,\"column_names\":[\"x\",\"y\"],\"data\":{\"x\":[1991,2001,2010,2017,2019,2029,2039],\"y\":[1527,1981,2228,2420,2475,2749,3023]}},\"id\":\"4172e153-f83a-4acd-acf7-935baf09e8a9\",\"type\":\"ColumnDataSource\"},{\"attributes\":{\"dimension\":1,\"plot\":{\"id\":\"334f37f7-068e-4078-b4ef-2cd2e5c43a83\",\"subtype\":\"Figure\",\"type\":\"Plot\"},\"ticker\":{\"id\":\"c92b59db-f302-4df3-a8ab-8cfcf07a0f72\",\"type\":\"BasicTicker\"}},\"id\":\"7c5f46a6-d8cf-499a-b901-44156d822452\",\"type\":\"Grid\"},{\"attributes\":{\"line_color\":{\"value\":\"#7c1b65\"},\"line_width\":{\"value\":2},\"x\":{\"field\":\"x\"},\"y\":{\"field\":\"y\"}},\"id\":\"613dbe65-cb1b-4fcf-bf41-91969db622a8\",\"type\":\"Line\"},{\"attributes\":{},\"id\":\"2db968d2-27e4-402a-ba8f-1352d8a262d7\",\"type\":\"BasicTicker\"},{\"attributes\":{\"data_source\":{\"id\":\"b0f73bd4-8cb1-492c-a460-b5eb4893f47c\",\"type\":\"ColumnDataSource\"},\"glyph\":{\"id\":\"26402d8e-4cc2-4e2e-b3a2-833232e74614\",\"type\":\"Line\"},\"hover_glyph\":null,\"nonselection_glyph\":{\"id\":\"39280f57-ac89-45f2-8d40-b9e56ffd51eb\",\"type\":\"Line\"},\"selection_glyph\":null},\"id\":\"75bbf1e4-f1ee-4aa1-86e3-5326da61e987\",\"type\":\"GlyphRenderer\"},{\"attributes\":{\"active_drag\":\"auto\",\"active_scroll\":\"auto\",\"active_tap\":\"auto\",\"tools\":[{\"id\":\"207e40aa-c8e5-496a-a73c-bc1e4456bf19\",\"type\":\"PanTool\"},{\"id\":\"a0225ff3-9170-462e-8d1c-a3e8d904786d\",\"type\":\"WheelZoomTool\"},{\"id\":\"551bf5b7-2e0e-4868-a325-ada4320e7278\",\"type\":\"BoxZoomTool\"},{\"id\":\"cb4cba16-58e2-4d83-9658-1d63e0f439f1\",\"type\":\"SaveTool\"},{\"id\":\"35889a62-a999-4fc8-ae06-5782fb6ce10a\",\"type\":\"ResetTool\"},{\"id\":\"fdb6e363-7018-4053-aeaf-4f1260816607\",\"type\":\"HelpTool\"}]},\"id\":\"5fd3b34b-9923-4941-b25f-6ec93bfbe7e3\",\"type\":\"Toolbar\"},{\"attributes\":{\"overlay\":{\"id\":\"e628111f-de0b-43b4-8721-4aefc56df5bc\",\"type\":\"BoxAnnotation\"},\"plot\":{\"id\":\"334f37f7-068e-4078-b4ef-2cd2e5c43a83\",\"subtype\":\"Figure\",\"type\":\"Plot\"}},\"id\":\"551bf5b7-2e0e-4868-a325-ada4320e7278\",\"type\":\"BoxZoomTool\"},{\"attributes\":{\"callback\":null,\"column_names\":[\"x\",\"y\"],\"data\":{\"x\":[1991,2001,2010,2017,2019,2029,2039],\"y\":[864,1087,1264,1402,1441,1638,1835]}},\"id\":\"4c25052d-cfb2-4a91-b333-e08e85324f1a\",\"type\":\"ColumnDataSource\"},{\"attributes\":{\"callback\":null,\"column_names\":[\"x\",\"y\"],\"data\":{\"x\":[1991,2001,2010,2017,2019,2029,2039],\"y\":[4642,5753,6627,7307,7501,8472,9443]}},\"id\":\"f2d787be-4f19-4647-898d-0c3d202b1f4a\",\"type\":\"ColumnDataSource\"},{\"attributes\":{\"fill_alpha\":{\"value\":0.1},\"fill_color\":{\"value\":\"#1f77b4\"},\"line_alpha\":{\"value\":0.1},\"line_color\":{\"value\":\"#1f77b4\"},\"x\":{\"field\":\"x\"},\"y\":{\"field\":\"y\"}},\"id\":\"06f9925b-33bf-4377-856b-d8055749719e\",\"type\":\"Circle\"},{\"attributes\":{\"fill_color\":{\"value\":\"navy\"},\"line_color\":{\"value\":\"navy\"},\"x\":{\"field\":\"x\"},\"y\":{\"field\":\"y\"}},\"id\":\"9dec8711-95f6-4a05-b8d2-d440ce682c0a\",\"type\":\"Circle\"},{\"attributes\":{\"data_source\":{\"id\":\"c4425c5f-1733-4b1c-88cd-7d44fc58b517\",\"type\":\"ColumnDataSource\"},\"glyph\":{\"id\":\"567ef8b6-f90b-4548-a198-ab8d78367cc9\",\"type\":\"Line\"},\"hover_glyph\":null,\"nonselection_glyph\":{\"id\":\"6059cf8d-0951-4891-85f1-1d2d402191e4\",\"type\":\"Line\"},\"selection_glyph\":null},\"id\":\"884494ee-4d06-41c5-aebc-c01b7dca2b90\",\"type\":\"GlyphRenderer\"},{\"attributes\":{\"line_alpha\":{\"value\":0.1},\"line_color\":{\"value\":\"#1f77b4\"},\"line_width\":{\"value\":2},\"x\":{\"field\":\"x\"},\"y\":{\"field\":\"y\"}},\"id\":\"034e2523-192c-4605-beea-511caa1b18a1\",\"type\":\"Line\"},{\"attributes\":{\"fill_alpha\":{\"value\":0.1},\"fill_color\":{\"value\":\"#1f77b4\"},\"line_alpha\":{\"value\":0.1},\"line_color\":{\"value\":\"#1f77b4\"},\"x\":{\"field\":\"x\"},\"y\":{\"field\":\"y\"}},\"id\":\"f54eda4e-154b-4281-acde-6ac869e688ec\",\"type\":\"Circle\"},{\"attributes\":{\"callback\":null},\"id\":\"45a49a17-778c-4aac-adef-0f6cc58b06f0\",\"type\":\"DataRange1d\"},{\"attributes\":{\"data_source\":{\"id\":\"c2e51bfb-8ab0-4b34-bb5b-7cd30249e7e3\",\"type\":\"ColumnDataSource\"},\"glyph\":{\"id\":\"93ef34f7-c387-406a-a327-56f201528d0f\",\"type\":\"Line\"},\"hover_glyph\":null,\"nonselection_glyph\":{\"id\":\"5bb408a4-e99a-49c9-bf6c-850786787865\",\"type\":\"Line\"},\"selection_glyph\":null},\"id\":\"f9fb16e3-2b48-4540-b29c-fc0fb81e0aee\",\"type\":\"GlyphRenderer\"},{\"attributes\":{\"line_alpha\":{\"value\":0.1},\"line_color\":{\"value\":\"#1f77b4\"},\"line_width\":{\"value\":2},\"x\":{\"field\":\"x\"},\"y\":{\"field\":\"y\"}},\"id\":\"bdcff469-c467-419b-b820-06f3553a073c\",\"type\":\"Line\"},{\"attributes\":{\"fill_alpha\":{\"value\":0.1},\"fill_color\":{\"value\":\"#1f77b4\"},\"line_alpha\":{\"value\":0.1},\"line_color\":{\"value\":\"#1f77b4\"},\"x\":{\"field\":\"x\"},\"y\":{\"field\":\"y\"}},\"id\":\"59ca7887-e3ea-4942-a5f0-8f6bbfa32606\",\"type\":\"Circle\"}],\"root_ids\":[\"334f37f7-068e-4078-b4ef-2cd2e5c43a83\"]},\"title\":\"Bokeh Application\",\"version\":\"0.12.0\"}};\n",
       "            var render_items = [{\"docid\":\"521f649f-0e38-4e02-8da8-80977cee533c\",\"elementid\":\"29ef5bf9-1a6d-4797-9c53-29e86b13f2b9\",\"modelid\":\"334f37f7-068e-4078-b4ef-2cd2e5c43a83\",\"notebook_comms_target\":\"ad5f0b91-ac81-403d-b101-0d92c2f82e80\"}];\n",
       "            \n",
       "            Bokeh.embed.embed_items(docs_json, render_items);\n",
       "        });\n",
       "      },\n",
       "      function(Bokeh) {\n",
       "      }\n",
       "    ];\n",
       "  \n",
       "    function run_inline_js() {\n",
       "      for (var i = 0; i < inline_js.length; i++) {\n",
       "        inline_js[i](window.Bokeh);\n",
       "      }\n",
       "    }\n",
       "  \n",
       "    if (window._bokeh_is_loading === 0) {\n",
       "      console.log(\"Bokeh: BokehJS loaded, going straight to plotting\");\n",
       "      run_inline_js();\n",
       "    } else {\n",
       "      load_libs(js_urls, function() {\n",
       "        console.log(\"Bokeh: BokehJS plotting callback run at\", now());\n",
       "        run_inline_js();\n",
       "      });\n",
       "    }\n",
       "  }(this));\n",
       "</script>"
      ]
     },
     "metadata": {},
     "output_type": "display_data"
    },
    {
     "data": {
      "text/html": [
       "<p><code>&lt;Bokeh Notebook handle for <strong>In[6]</strong>&gt;</code></p>"
      ],
      "text/plain": [
       "<bokeh.io._CommsHandle at 0xaf4ceeac>"
      ]
     },
     "execution_count": 6,
     "metadata": {},
     "output_type": "execute_result"
    }
   ],
   "source": [
    "x = tiempo\n",
    "ciudades=[\"Comodoro Rivadavia\",\"Trelew\",\"Puerto Madryn\",\"Esquel\",\"Sarmiento\",\"Rawson\",\"Dolavon\",\"Gaiman\",\"Gobernador Costa\",\"Cholila\",\"Camarones\",\"Paso de Indios\",\"Paso del Sapo\"]\n",
    "colores=[\"red\",\"orange\",\"blue\",\"green\",\"yellow\",\"pink\",\"navy\",\"firebrick\",\"cyan\",\"magenta\",\"olive\",\"#164c71\",\"#7c1b65\"]\n",
    "\n",
    "p = figure(title=\"Población - Proyección Aritmética Tasa del Último Período Censal\",plot_width=900)\n",
    "p.title.align = \"center\"\n",
    "p.title.text_color = \"blue\"\n",
    "p.title.text_font = \"times\"\n",
    "p.title.text_font_style = \"italic\"\n",
    "p.title.text_font_size = \"20px\"\n",
    "\n",
    "p.left[0].formatter.use_scientific = False\n",
    "\n",
    "for i in range(len(ciudades)):\n",
    "    p.circle(x, proyecciones[i], legend=ciudades[i],fill_color=colores[i],line_color=colores[i])\n",
    "    p.line(x, proyecciones[i], legend=ciudades[i],line_color=colores[i], line_width=2)\n",
    "\n",
    "p.xaxis.axis_label = 'Tiempo'\n",
    "p.yaxis.axis_label = 'Población'\n",
    "\n",
    "show(p)"
   ]
  },
  {
   "cell_type": "code",
   "execution_count": null,
   "metadata": {
    "collapsed": true
   },
   "outputs": [],
   "source": []
  }
 ],
 "metadata": {
  "anaconda-cloud": {},
  "kernelspec": {
   "display_name": "Python [Root]",
   "language": "python",
   "name": "Python [Root]"
  },
  "language_info": {
   "codemirror_mode": {
    "name": "ipython",
    "version": 3
   },
   "file_extension": ".py",
   "mimetype": "text/x-python",
   "name": "python",
   "nbconvert_exporter": "python",
   "pygments_lexer": "ipython3",
   "version": "3.5.2"
  }
 },
 "nbformat": 4,
 "nbformat_minor": 2
}
