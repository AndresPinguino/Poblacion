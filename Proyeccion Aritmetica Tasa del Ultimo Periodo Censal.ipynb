{
 "cells": [
  {
   "cell_type": "code",
   "execution_count": 1,
   "metadata": {
    "collapsed": false
   },
   "outputs": [
    {
     "data": {
      "text/html": [
       "<script>\n",
       "code_show=true; \n",
       "function code_toggle() {\n",
       " if (code_show){\n",
       " $('div.input').hide();\n",
       " } else {\n",
       " $('div.input').show();\n",
       " }\n",
       " code_show = !code_show\n",
       "} \n",
       "$( document ).ready(code_toggle);\n",
       "</script>\n",
       "<form action=\"javascript:code_toggle()\"><input type=\"submit\" value=\"Click aquí para ver el código.\"></form>"
      ],
      "text/plain": [
       "<IPython.core.display.HTML object>"
      ]
     },
     "execution_count": 1,
     "metadata": {},
     "output_type": "execute_result"
    }
   ],
   "source": [
    "from IPython.display import HTML\n",
    "\n",
    "HTML('''<script>\n",
    "code_show=true; \n",
    "function code_toggle() {\n",
    " if (code_show){\n",
    " $('div.input').hide();\n",
    " } else {\n",
    " $('div.input').show();\n",
    " }\n",
    " code_show = !code_show\n",
    "} \n",
    "$( document ).ready(code_toggle);\n",
    "</script>\n",
    "<form action=\"javascript:code_toggle()\"><input type=\"submit\" value=\"Click aquí para ver el código.\"></form>''')"
   ]
  },
  {
   "cell_type": "code",
   "execution_count": 2,
   "metadata": {
    "collapsed": false
   },
   "outputs": [
    {
     "data": {
      "text/html": [
       "<p align=\"center\"> <font size=\"5\" color=\"#0404B4\" face=\"sans-serif\"> <b> Proyección Aritmética Tasa del Último Período Censal <b> </font> </p>"
      ],
      "text/plain": [
       "<IPython.core.display.HTML object>"
      ]
     },
     "execution_count": 2,
     "metadata": {},
     "output_type": "execute_result"
    }
   ],
   "source": [
    "HTML(\"\"\"<p align=\"center\"> <font size=\"5\" color=\"#0404B4\" face=\"sans-serif\"> <b> Proyección Aritmética Tasa del Último Período Censal <b> </font> </p>\"\"\")"
   ]
  },
  {
   "cell_type": "markdown",
   "metadata": {},
   "source": [
    "# # Entrada de valores de los tres últimos censos"
   ]
  },
  {
   "cell_type": "code",
   "execution_count": 3,
   "metadata": {
    "collapsed": true
   },
   "outputs": [],
   "source": [
    "censos = [1991,2001,2010]\n",
    "\n",
    "poblacion0 = [125725,137061,177083] # Comodoro Rivadavia\n",
    "poblacion1 = [79340,89547,99430] # Trelew\n",
    "poblacion2 = [45047,57791,81995] # Puerto Madryn\n",
    "poblacion3 = [23411,28486,32758] # Esquel\n",
    "poblacion4 = [7209,8292,11124] # Sarmiento\n",
    "poblacion5 = [20674,26183,31787] # Rawson\n",
    "poblacion6 = [2613,2929,3307] # Dolavon\n",
    "poblacion7 = [4642,5753,6627] # Gaiman\n",
    "poblacion8 = [1913,2185,2374] # Gobernador Costa\n",
    "poblacion9 = [1527,1981,2228] # Cholila\n",
    "poblacion10 = [868,1079,1296] # Camarones\n",
    "poblacion11 = [864,1087,1264] # Paso de Indios\n",
    "poblacion12 = [322,384,396] # Paso del sapo\n",
    "poblaciones = [poblacion0, poblacion1, poblacion2, poblacion3, poblacion4, poblacion5, poblacion6, poblacion7, poblacion8, poblacion9, poblacion10, poblacion11, poblacion12]\n",
    "\n",
    "año_actual= 2017"
   ]
  },
  {
   "cell_type": "markdown",
   "metadata": {},
   "source": [
    "# # Armamos una lista de \"tiempos\""
   ]
  },
  {
   "cell_type": "code",
   "execution_count": 4,
   "metadata": {
    "collapsed": true
   },
   "outputs": [],
   "source": [
    "tiempo = [0] * 7\n",
    "for i in range(len(censos)):\n",
    "    tiempo[i] = censos[i]\n",
    "\n",
    "tiempo[3]=año_actual\n",
    "tiempo[4]=tiempo[3]+2\n",
    "tiempo[5]=tiempo[4]+10\n",
    "tiempo[6]=tiempo[5]+10"
   ]
  },
  {
   "cell_type": "markdown",
   "metadata": {},
   "source": [
    "# # Resolvemos el método devolviendo una lista de \"datos\""
   ]
  },
  {
   "cell_type": "code",
   "execution_count": 5,
   "metadata": {
    "collapsed": false
   },
   "outputs": [],
   "source": [
    "def metodo_proyeccion_aritmetica_tasa_ultimo_periodo_censal(poblacion, tiempo):\n",
    "\n",
    "    datos = [0] * 7\n",
    "    for i in range(len(poblacion)):\n",
    "        datos[i] = poblacion[i]\n",
    "\n",
    "\n",
    "    ka=(datos[2]-datos[1])/(tiempo[2]-tiempo[1])\n",
    "    ka=round(ka,4)\n",
    "\n",
    "    Pa=datos[2]+ka*(tiempo[3]-tiempo[2])\n",
    "    Pa=round(Pa,0)\n",
    "    Pa=int(Pa)\n",
    "\n",
    "\n",
    "    P0=Pa+ka*(tiempo[4]-tiempo[3])\n",
    "    P0=round(P0,0)\n",
    "    P0=int(P0)\n",
    "\n",
    "\n",
    "    P10=P0+ka*(tiempo[5]-tiempo[4])\n",
    "    P10=round(P10,0)\n",
    "    P10=int(P10)\n",
    "\n",
    "\n",
    "    P20=P10+ka*(tiempo[6]-tiempo[5])\n",
    "    P20=round(P20,0)\n",
    "    P20=int(P20)\n",
    "\n",
    "\n",
    "    datos[3]=Pa\n",
    "    datos[4]=P0\n",
    "    datos[5]=P10\n",
    "    datos[6]=P20\n",
    "\n",
    "    return datos"
   ]
  },
  {
   "cell_type": "markdown",
   "metadata": {},
   "source": [
    "# # Mostramos las listas de \"tiempo\" y \"proyecciones\" para cada \"poblacion\""
   ]
  },
  {
   "cell_type": "code",
   "execution_count": 6,
   "metadata": {
    "collapsed": false,
    "scrolled": true
   },
   "outputs": [],
   "source": [
    "proyecciones = [0] * len(poblaciones)\n",
    "\n",
    "for i in range(len(poblaciones)):\n",
    "    proyecciones[i] = metodo_proyeccion_aritmetica_tasa_ultimo_periodo_censal(poblaciones[i], tiempo)\n",
    "    #print (proyecciones[i])\n"
   ]
  },
  {
   "cell_type": "markdown",
   "metadata": {},
   "source": [
    "# # Armamos una tabla para mostrar los resultados"
   ]
  },
  {
   "cell_type": "code",
   "execution_count": 7,
   "metadata": {
    "collapsed": true
   },
   "outputs": [],
   "source": [
    "tabla = proyecciones\n",
    "tabla.reverse()\n",
    "tabla.append(tiempo)\n",
    "tabla.reverse()"
   ]
  },
  {
   "cell_type": "code",
   "execution_count": 8,
   "metadata": {
    "collapsed": true
   },
   "outputs": [],
   "source": [
    "ciudades=[\"Ciudades\",\"Comodoro Rivadavia\",\"Trelew\",\"Puerto Madryn\",\"Esquel\",\"Sarmiento\",\"Rawson\",\"Dolavon\",\"Gaiman\",\"Gobernador Costa\",\"Cholila\",\"Camarones\",\"Paso de Indios\",\"Paso del Sapo\"]"
   ]
  },
  {
   "cell_type": "code",
   "execution_count": 9,
   "metadata": {
    "collapsed": true
   },
   "outputs": [],
   "source": [
    "for i in range(len(ciudades)):\n",
    "    tabla[i].insert(0, ciudades[i])"
   ]
  },
  {
   "cell_type": "code",
   "execution_count": 10,
   "metadata": {
    "collapsed": false
   },
   "outputs": [
    {
     "data": {
      "text/html": [
       "<table><tr><td>Ciudades</td><td>1991</td><td>2001</td><td>2010</td><td>2017</td><td>2019</td><td>2029</td><td>2039</td></tr><tr><td>Comodoro Rivadavia</td><td>125725</td><td>137061</td><td>177083</td><td>208211</td><td>217105</td><td>261574</td><td>306043</td></tr><tr><td>Trelew</td><td>79340</td><td>89547</td><td>99430</td><td>107117</td><td>109313</td><td>120294</td><td>131275</td></tr><tr><td>Puerto Madryn</td><td>45047</td><td>57791</td><td>81995</td><td>100820</td><td>106199</td><td>133092</td><td>159985</td></tr><tr><td>Esquel</td><td>23411</td><td>28486</td><td>32758</td><td>36081</td><td>37030</td><td>41777</td><td>46524</td></tr><tr><td>Sarmiento</td><td>7209</td><td>8292</td><td>11124</td><td>13327</td><td>13956</td><td>17103</td><td>20250</td></tr><tr><td>Rawson</td><td>20674</td><td>26183</td><td>31787</td><td>36146</td><td>37391</td><td>43618</td><td>49845</td></tr><tr><td>Dolavon</td><td>2613</td><td>2929</td><td>3307</td><td>3601</td><td>3685</td><td>4105</td><td>4525</td></tr><tr><td>Gaiman</td><td>4642</td><td>5753</td><td>6627</td><td>7307</td><td>7501</td><td>8472</td><td>9443</td></tr><tr><td>Gobernador Costa</td><td>1913</td><td>2185</td><td>2374</td><td>2521</td><td>2563</td><td>2773</td><td>2983</td></tr><tr><td>Cholila</td><td>1527</td><td>1981</td><td>2228</td><td>2420</td><td>2475</td><td>2749</td><td>3023</td></tr><tr><td>Camarones</td><td>868</td><td>1079</td><td>1296</td><td>1465</td><td>1513</td><td>1754</td><td>1995</td></tr><tr><td>Paso de Indios</td><td>864</td><td>1087</td><td>1264</td><td>1402</td><td>1441</td><td>1638</td><td>1835</td></tr><tr><td>Paso del Sapo</td><td>322</td><td>384</td><td>396</td><td>405</td><td>408</td><td>421</td><td>434</td></tr></table>"
      ],
      "text/plain": [
       "<IPython.core.display.HTML object>"
      ]
     },
     "metadata": {},
     "output_type": "display_data"
    }
   ],
   "source": [
    "from IPython.display import HTML, display\n",
    "\n",
    "display(HTML(\n",
    "    '<table><tr>{}</tr></table>'.format(\n",
    "        '</tr><tr>'.join(\n",
    "            '<td>{}</td>'.format('</td><td>'.join(str(_) for _ in row)) for row in tabla)\n",
    "        )\n",
    " ))"
   ]
  },
  {
   "cell_type": "markdown",
   "metadata": {},
   "source": [
    "# # Importamos librerias para graficar"
   ]
  },
  {
   "cell_type": "code",
   "execution_count": 11,
   "metadata": {
    "collapsed": false
   },
   "outputs": [
    {
     "data": {
      "text/html": [
       "\n",
       "    <div class=\"bk-root\">\n",
       "        <a href=\"http://bokeh.pydata.org\" target=\"_blank\" class=\"bk-logo bk-logo-small bk-logo-notebook\"></a>\n",
       "        <span id=\"cd783773-16ee-4de8-9dcd-422b212761a6\">Loading BokehJS ...</span>\n",
       "    </div>"
      ]
     },
     "metadata": {},
     "output_type": "display_data"
    },
    {
     "data": {
      "application/javascript": [
       "\n",
       "(function(global) {\n",
       "  function now() {\n",
       "    return new Date();\n",
       "  }\n",
       "\n",
       "  if (typeof (window._bokeh_onload_callbacks) === \"undefined\") {\n",
       "    window._bokeh_onload_callbacks = [];\n",
       "  }\n",
       "\n",
       "  function run_callbacks() {\n",
       "    window._bokeh_onload_callbacks.forEach(function(callback) { callback() });\n",
       "    delete window._bokeh_onload_callbacks\n",
       "    console.info(\"Bokeh: all callbacks have finished\");\n",
       "  }\n",
       "\n",
       "  function load_libs(js_urls, callback) {\n",
       "    window._bokeh_onload_callbacks.push(callback);\n",
       "    if (window._bokeh_is_loading > 0) {\n",
       "      console.log(\"Bokeh: BokehJS is being loaded, scheduling callback at\", now());\n",
       "      return null;\n",
       "    }\n",
       "    if (js_urls == null || js_urls.length === 0) {\n",
       "      run_callbacks();\n",
       "      return null;\n",
       "    }\n",
       "    console.log(\"Bokeh: BokehJS not loaded, scheduling load and callback at\", now());\n",
       "    window._bokeh_is_loading = js_urls.length;\n",
       "    for (var i = 0; i < js_urls.length; i++) {\n",
       "      var url = js_urls[i];\n",
       "      var s = document.createElement('script');\n",
       "      s.src = url;\n",
       "      s.async = false;\n",
       "      s.onreadystatechange = s.onload = function() {\n",
       "        window._bokeh_is_loading--;\n",
       "        if (window._bokeh_is_loading === 0) {\n",
       "          console.log(\"Bokeh: all BokehJS libraries loaded\");\n",
       "          run_callbacks()\n",
       "        }\n",
       "      };\n",
       "      s.onerror = function() {\n",
       "        console.warn(\"failed to load library \" + url);\n",
       "      };\n",
       "      console.log(\"Bokeh: injecting script tag for BokehJS library: \", url);\n",
       "      document.getElementsByTagName(\"head\")[0].appendChild(s);\n",
       "    }\n",
       "  };\n",
       "\n",
       "  var js_urls = ['https://cdn.pydata.org/bokeh/release/bokeh-0.12.0.min.js', 'https://cdn.pydata.org/bokeh/release/bokeh-widgets-0.12.0.min.js', 'https://cdn.pydata.org/bokeh/release/bokeh-compiler-0.12.0.min.js'];\n",
       "\n",
       "  var inline_js = [\n",
       "    function(Bokeh) {\n",
       "      Bokeh.set_log_level(\"info\");\n",
       "    },\n",
       "    \n",
       "    function(Bokeh) {\n",
       "      Bokeh.$(\"#cd783773-16ee-4de8-9dcd-422b212761a6\").text(\"BokehJS successfully loaded\");\n",
       "    },\n",
       "    function(Bokeh) {\n",
       "      console.log(\"Bokeh: injecting CSS: https://cdn.pydata.org/bokeh/release/bokeh-0.12.0.min.css\");\n",
       "      Bokeh.embed.inject_css(\"https://cdn.pydata.org/bokeh/release/bokeh-0.12.0.min.css\");\n",
       "      console.log(\"Bokeh: injecting CSS: https://cdn.pydata.org/bokeh/release/bokeh-widgets-0.12.0.min.css\");\n",
       "      Bokeh.embed.inject_css(\"https://cdn.pydata.org/bokeh/release/bokeh-widgets-0.12.0.min.css\");\n",
       "    }\n",
       "  ];\n",
       "\n",
       "  function run_inline_js() {\n",
       "    for (var i = 0; i < inline_js.length; i++) {\n",
       "      inline_js[i](window.Bokeh);\n",
       "    }\n",
       "  }\n",
       "\n",
       "  if (window._bokeh_is_loading === 0) {\n",
       "    console.log(\"Bokeh: BokehJS loaded, going straight to plotting\");\n",
       "    run_inline_js();\n",
       "  } else {\n",
       "    load_libs(js_urls, function() {\n",
       "      console.log(\"Bokeh: BokehJS plotting callback run at\", now());\n",
       "      run_inline_js();\n",
       "    });\n",
       "  }\n",
       "}(this));"
      ]
     },
     "metadata": {},
     "output_type": "display_data"
    }
   ],
   "source": [
    "from bokeh.io import push_notebook, show, output_notebook\n",
    "from bokeh.plotting import figure\n",
    "output_notebook()"
   ]
  },
  {
   "cell_type": "markdown",
   "metadata": {},
   "source": [
    "# # Definimos estilos para usar en los gráficos"
   ]
  },
  {
   "cell_type": "code",
   "execution_count": 12,
   "metadata": {
    "collapsed": false
   },
   "outputs": [
    {
     "data": {
      "text/html": [
       "\n",
       "\n",
       "    <div class=\"bk-root\">\n",
       "        <div class=\"plotdiv\" id=\"502304e8-3720-40d3-8ac1-1c769952db6c\"></div>\n",
       "    </div>\n",
       "<script type=\"text/javascript\">\n",
       "  \n",
       "  (function(global) {\n",
       "    function now() {\n",
       "      return new Date();\n",
       "    }\n",
       "  \n",
       "    if (typeof (window._bokeh_onload_callbacks) === \"undefined\") {\n",
       "      window._bokeh_onload_callbacks = [];\n",
       "    }\n",
       "  \n",
       "    function run_callbacks() {\n",
       "      window._bokeh_onload_callbacks.forEach(function(callback) { callback() });\n",
       "      delete window._bokeh_onload_callbacks\n",
       "      console.info(\"Bokeh: all callbacks have finished\");\n",
       "    }\n",
       "  \n",
       "    function load_libs(js_urls, callback) {\n",
       "      window._bokeh_onload_callbacks.push(callback);\n",
       "      if (window._bokeh_is_loading > 0) {\n",
       "        console.log(\"Bokeh: BokehJS is being loaded, scheduling callback at\", now());\n",
       "        return null;\n",
       "      }\n",
       "      if (js_urls == null || js_urls.length === 0) {\n",
       "        run_callbacks();\n",
       "        return null;\n",
       "      }\n",
       "      console.log(\"Bokeh: BokehJS not loaded, scheduling load and callback at\", now());\n",
       "      window._bokeh_is_loading = js_urls.length;\n",
       "      for (var i = 0; i < js_urls.length; i++) {\n",
       "        var url = js_urls[i];\n",
       "        var s = document.createElement('script');\n",
       "        s.src = url;\n",
       "        s.async = false;\n",
       "        s.onreadystatechange = s.onload = function() {\n",
       "          window._bokeh_is_loading--;\n",
       "          if (window._bokeh_is_loading === 0) {\n",
       "            console.log(\"Bokeh: all BokehJS libraries loaded\");\n",
       "            run_callbacks()\n",
       "          }\n",
       "        };\n",
       "        s.onerror = function() {\n",
       "          console.warn(\"failed to load library \" + url);\n",
       "        };\n",
       "        console.log(\"Bokeh: injecting script tag for BokehJS library: \", url);\n",
       "        document.getElementsByTagName(\"head\")[0].appendChild(s);\n",
       "      }\n",
       "    };var element = document.getElementById(\"502304e8-3720-40d3-8ac1-1c769952db6c\");\n",
       "    if (element == null) {\n",
       "      console.log(\"Bokeh: ERROR: autoload.js configured with elementid '502304e8-3720-40d3-8ac1-1c769952db6c' but no matching script tag was found. \")\n",
       "      return false;\n",
       "    }\n",
       "  \n",
       "    var js_urls = [];\n",
       "  \n",
       "    var inline_js = [\n",
       "      function(Bokeh) {\n",
       "        Bokeh.$(function() {\n",
       "            var docs_json = {\"9236c88e-346d-4850-87a0-0ccf28af2296\":{\"roots\":{\"references\":[{\"attributes\":{\"line_alpha\":{\"value\":0.1},\"line_color\":{\"value\":\"#1f77b4\"},\"line_width\":{\"value\":2},\"x\":{\"field\":\"x\"},\"y\":{\"field\":\"y\"}},\"id\":\"88826dde-6d0e-4928-a03f-2f773f4f5a7c\",\"type\":\"Line\"},{\"attributes\":{\"plot\":{\"id\":\"ea88e8df-36db-48ca-a87c-6f2c5b357f45\",\"subtype\":\"Figure\",\"type\":\"Plot\"}},\"id\":\"e08d1091-0926-4181-8847-0952eb2c1f85\",\"type\":\"SaveTool\"},{\"attributes\":{\"fill_alpha\":{\"value\":0.1},\"fill_color\":{\"value\":\"#1f77b4\"},\"line_alpha\":{\"value\":0.1},\"line_color\":{\"value\":\"#1f77b4\"},\"x\":{\"field\":\"x\"},\"y\":{\"field\":\"y\"}},\"id\":\"120124a5-2e13-49f5-8826-2534270293cd\",\"type\":\"Circle\"},{\"attributes\":{\"data_source\":{\"id\":\"90701739-d675-4b71-a995-53b3cfb3b723\",\"type\":\"ColumnDataSource\"},\"glyph\":{\"id\":\"73689846-2682-4d2d-950a-a27700fa20cd\",\"type\":\"Circle\"},\"hover_glyph\":null,\"nonselection_glyph\":{\"id\":\"80fe5a3f-df2e-47d5-ba1e-1d33ab79c4f2\",\"type\":\"Circle\"},\"selection_glyph\":null},\"id\":\"be990252-78f0-4d25-9bf6-8a6b2c2d4bfa\",\"type\":\"GlyphRenderer\"},{\"attributes\":{\"callback\":null,\"column_names\":[\"y\",\"x\"],\"data\":{\"x\":[\"Ciudades\",\"1991\",\"2001\",\"2010\",\"2017\",\"2019\",\"2029\",\"2039\"],\"y\":[\"Sarmiento\",\"7209\",\"8292\",\"11124\",\"13327\",\"13956\",\"17103\",\"20250\"]}},\"id\":\"9c9572b8-668c-42aa-987c-36d0e6e23cff\",\"type\":\"ColumnDataSource\"},{\"attributes\":{\"line_color\":{\"value\":\"#7c1b65\"},\"line_width\":{\"value\":2},\"x\":{\"field\":\"x\"},\"y\":{\"field\":\"y\"}},\"id\":\"671f79b2-f97b-4f8b-ae3a-fb5bb8b1e97c\",\"type\":\"Line\"},{\"attributes\":{\"plot\":{\"id\":\"ea88e8df-36db-48ca-a87c-6f2c5b357f45\",\"subtype\":\"Figure\",\"type\":\"Plot\"}},\"id\":\"851e4ba8-3289-406a-8847-2222f518e674\",\"type\":\"WheelZoomTool\"},{\"attributes\":{\"callback\":null},\"id\":\"00a477d4-3f6e-4fbe-a9fb-c314bb914a54\",\"type\":\"DataRange1d\"},{\"attributes\":{\"line_color\":{\"value\":\"blue\"},\"line_width\":{\"value\":2},\"x\":{\"field\":\"x\"},\"y\":{\"field\":\"y\"}},\"id\":\"29ee65e8-3b5c-488d-83d6-85c26c4c3479\",\"type\":\"Line\"},{\"attributes\":{},\"id\":\"671f6353-b1c3-4ae5-93cc-6ad23cb0158b\",\"type\":\"BasicTicker\"},{\"attributes\":{\"fill_color\":{\"value\":\"red\"},\"line_color\":{\"value\":\"red\"},\"x\":{\"field\":\"x\"},\"y\":{\"field\":\"y\"}},\"id\":\"c7bbd5e0-8a30-4d7d-a2a2-f9ccaeac5fcc\",\"type\":\"Circle\"},{\"attributes\":{\"fill_alpha\":{\"value\":0.1},\"fill_color\":{\"value\":\"#1f77b4\"},\"line_alpha\":{\"value\":0.1},\"line_color\":{\"value\":\"#1f77b4\"},\"x\":{\"field\":\"x\"},\"y\":{\"field\":\"y\"}},\"id\":\"b1c03a3f-0c4e-4ac3-8f5c-c3b722b7cc14\",\"type\":\"Circle\"},{\"attributes\":{\"data_source\":{\"id\":\"d12c6ad9-be3b-4e6f-b139-e46117c28c91\",\"type\":\"ColumnDataSource\"},\"glyph\":{\"id\":\"aabec402-9a28-4988-9cea-a9d06b6aef29\",\"type\":\"Line\"},\"hover_glyph\":null,\"nonselection_glyph\":{\"id\":\"46b22f56-b6d4-472e-a20a-ba2d99d11f73\",\"type\":\"Line\"},\"selection_glyph\":null},\"id\":\"a31327aa-35dc-44f7-aab3-83a1bdf36871\",\"type\":\"GlyphRenderer\"},{\"attributes\":{\"align\":\"center\",\"plot\":null,\"text\":\"Poblaci\\u00f3n - Proyecci\\u00f3n Aritm\\u00e9tica Tasa del \\u00daltimo Per\\u00edodo Censal\",\"text_color\":{\"value\":\"blue\"},\"text_font\":\"times\",\"text_font_size\":{\"value\":\"20px\"},\"text_font_style\":\"italic\"},\"id\":\"2d257c52-b375-4dec-9391-d69929388bab\",\"type\":\"Title\"},{\"attributes\":{\"line_color\":{\"value\":\"cyan\"},\"line_width\":{\"value\":2},\"x\":{\"field\":\"x\"},\"y\":{\"field\":\"y\"}},\"id\":\"ac22b3db-1ca9-44df-9317-6793a1eb082a\",\"type\":\"Line\"},{\"attributes\":{\"callback\":null,\"column_names\":[\"y\",\"x\"],\"data\":{\"x\":[\"Ciudades\",\"1991\",\"2001\",\"2010\",\"2017\",\"2019\",\"2029\",\"2039\"],\"y\":[\"Dolavon\",\"2613\",\"2929\",\"3307\",\"3601\",\"3685\",\"4105\",\"4525\"]}},\"id\":\"7f91bfdf-978f-434e-9981-5e4b62d84eac\",\"type\":\"ColumnDataSource\"},{\"attributes\":{\"data_source\":{\"id\":\"7f91bfdf-978f-434e-9981-5e4b62d84eac\",\"type\":\"ColumnDataSource\"},\"glyph\":{\"id\":\"fe85bf1b-17a0-4e1d-805c-2c8f5098c1df\",\"type\":\"Circle\"},\"hover_glyph\":null,\"nonselection_glyph\":{\"id\":\"6103cc4e-1d7d-4dbc-adad-495dd996806e\",\"type\":\"Circle\"},\"selection_glyph\":null},\"id\":\"c427946f-625c-4ccf-bb48-40993d63c698\",\"type\":\"GlyphRenderer\"},{\"attributes\":{\"fill_color\":{\"value\":\"firebrick\"},\"line_color\":{\"value\":\"firebrick\"},\"x\":{\"field\":\"x\"},\"y\":{\"field\":\"y\"}},\"id\":\"fe85bf1b-17a0-4e1d-805c-2c8f5098c1df\",\"type\":\"Circle\"},{\"attributes\":{\"data_source\":{\"id\":\"c6436c03-eca2-4f9d-9269-673dd8c852d9\",\"type\":\"ColumnDataSource\"},\"glyph\":{\"id\":\"29ee65e8-3b5c-488d-83d6-85c26c4c3479\",\"type\":\"Line\"},\"hover_glyph\":null,\"nonselection_glyph\":{\"id\":\"e28c1ab8-f702-4996-9f3a-7a0f7ae77562\",\"type\":\"Line\"},\"selection_glyph\":null},\"id\":\"fa25fff3-92f4-4cea-a631-b6bf8791451d\",\"type\":\"GlyphRenderer\"},{\"attributes\":{\"fill_color\":{\"value\":\"yellow\"},\"line_color\":{\"value\":\"yellow\"},\"x\":{\"field\":\"x\"},\"y\":{\"field\":\"y\"}},\"id\":\"da44950e-06a2-4841-99f5-14f8bc94f63d\",\"type\":\"Circle\"},{\"attributes\":{\"callback\":null,\"column_names\":[\"y\",\"x\"],\"data\":{\"x\":[\"Ciudades\",\"1991\",\"2001\",\"2010\",\"2017\",\"2019\",\"2029\",\"2039\"],\"y\":[\"Rawson\",\"20674\",\"26183\",\"31787\",\"36146\",\"37391\",\"43618\",\"49845\"]}},\"id\":\"2d7ccccd-3394-4f3f-a8fd-9e1a0afa515d\",\"type\":\"ColumnDataSource\"},{\"attributes\":{\"callback\":null,\"column_names\":[\"y\",\"x\"],\"data\":{\"x\":[\"Ciudades\",\"1991\",\"2001\",\"2010\",\"2017\",\"2019\",\"2029\",\"2039\"],\"y\":[\"Ciudades\",\"1991\",\"2001\",\"2010\",\"2017\",\"2019\",\"2029\",\"2039\"]}},\"id\":\"68657fe7-562e-4067-a09e-ce4161348826\",\"type\":\"ColumnDataSource\"},{\"attributes\":{\"callback\":null,\"column_names\":[\"y\",\"x\"],\"data\":{\"x\":[\"Ciudades\",\"1991\",\"2001\",\"2010\",\"2017\",\"2019\",\"2029\",\"2039\"],\"y\":[\"Esquel\",\"23411\",\"28486\",\"32758\",\"36081\",\"37030\",\"41777\",\"46524\"]}},\"id\":\"9797cf17-4a26-4367-8677-15534c6facfc\",\"type\":\"ColumnDataSource\"},{\"attributes\":{\"line_color\":{\"value\":\"navy\"},\"line_width\":{\"value\":2},\"x\":{\"field\":\"x\"},\"y\":{\"field\":\"y\"}},\"id\":\"3eac7b8d-53e5-43f6-aace-03eaa2a14473\",\"type\":\"Line\"},{\"attributes\":{\"fill_color\":{\"value\":\"blue\"},\"line_color\":{\"value\":\"blue\"},\"x\":{\"field\":\"x\"},\"y\":{\"field\":\"y\"}},\"id\":\"73689846-2682-4d2d-950a-a27700fa20cd\",\"type\":\"Circle\"},{\"attributes\":{\"line_alpha\":{\"value\":0.1},\"line_color\":{\"value\":\"#1f77b4\"},\"line_width\":{\"value\":2},\"x\":{\"field\":\"x\"},\"y\":{\"field\":\"y\"}},\"id\":\"59f033da-eb69-409c-a3ee-d1bacd85b8fa\",\"type\":\"Line\"},{\"attributes\":{\"fill_alpha\":{\"value\":0.1},\"fill_color\":{\"value\":\"#1f77b4\"},\"line_alpha\":{\"value\":0.1},\"line_color\":{\"value\":\"#1f77b4\"},\"x\":{\"field\":\"x\"},\"y\":{\"field\":\"y\"}},\"id\":\"16ab45e9-41de-4d55-a5f2-17bf067ba972\",\"type\":\"Circle\"},{\"attributes\":{\"fill_alpha\":{\"value\":0.1},\"fill_color\":{\"value\":\"#1f77b4\"},\"line_alpha\":{\"value\":0.1},\"line_color\":{\"value\":\"#1f77b4\"},\"x\":{\"field\":\"x\"},\"y\":{\"field\":\"y\"}},\"id\":\"7da1fc00-cf19-4bea-95f8-5a5f3fa04d5c\",\"type\":\"Circle\"},{\"attributes\":{\"data_source\":{\"id\":\"68e524f0-36b5-430b-aa3c-d8701166b546\",\"type\":\"ColumnDataSource\"},\"glyph\":{\"id\":\"d1c916fa-dcf3-4635-b32c-89fd0f9742a4\",\"type\":\"Line\"},\"hover_glyph\":null,\"nonselection_glyph\":{\"id\":\"65224de7-7aa9-42f2-9803-e46fe26ec9d9\",\"type\":\"Line\"},\"selection_glyph\":null},\"id\":\"55d911ab-9638-4d5a-acfb-6ddafc619e76\",\"type\":\"GlyphRenderer\"},{\"attributes\":{\"fill_alpha\":{\"value\":0.1},\"fill_color\":{\"value\":\"#1f77b4\"},\"line_alpha\":{\"value\":0.1},\"line_color\":{\"value\":\"#1f77b4\"},\"x\":{\"field\":\"x\"},\"y\":{\"field\":\"y\"}},\"id\":\"a9aff2f8-ec8d-410c-8e59-be802df0260f\",\"type\":\"Circle\"},{\"attributes\":{\"callback\":null,\"column_names\":[\"y\",\"x\"],\"data\":{\"x\":[\"Ciudades\",\"1991\",\"2001\",\"2010\",\"2017\",\"2019\",\"2029\",\"2039\"],\"y\":[\"Comodoro Rivadavia\",\"125725\",\"137061\",\"177083\",\"208211\",\"217105\",\"261574\",\"306043\"]}},\"id\":\"a01373cd-3354-4575-a5f5-6c07f33ed36d\",\"type\":\"ColumnDataSource\"},{\"attributes\":{\"fill_alpha\":{\"value\":0.1},\"fill_color\":{\"value\":\"#1f77b4\"},\"line_alpha\":{\"value\":0.1},\"line_color\":{\"value\":\"#1f77b4\"},\"x\":{\"field\":\"x\"},\"y\":{\"field\":\"y\"}},\"id\":\"6d1b6061-55f0-4c96-832c-cecea1f87e2b\",\"type\":\"Circle\"},{\"attributes\":{\"fill_color\":{\"value\":\"orange\"},\"line_color\":{\"value\":\"orange\"},\"x\":{\"field\":\"x\"},\"y\":{\"field\":\"y\"}},\"id\":\"e57efebb-4e25-49f2-b134-bf03678b49da\",\"type\":\"Circle\"},{\"attributes\":{\"plot\":{\"id\":\"ea88e8df-36db-48ca-a87c-6f2c5b357f45\",\"subtype\":\"Figure\",\"type\":\"Plot\"}},\"id\":\"34d53d88-49c2-4280-97cf-e67440b2916a\",\"type\":\"HelpTool\"},{\"attributes\":{\"below\":[{\"id\":\"7205640d-f414-437c-a0e8-b292e332be33\",\"type\":\"LinearAxis\"}],\"left\":[{\"id\":\"fbd54806-34b0-4339-bfd7-9d534a51c7f5\",\"type\":\"LinearAxis\"}],\"plot_width\":900,\"renderers\":[{\"id\":\"7205640d-f414-437c-a0e8-b292e332be33\",\"type\":\"LinearAxis\"},{\"id\":\"5a2bc892-3208-4795-9cf2-067dd438bb09\",\"type\":\"Grid\"},{\"id\":\"fbd54806-34b0-4339-bfd7-9d534a51c7f5\",\"type\":\"LinearAxis\"},{\"id\":\"2702225b-7eb5-4ea4-8c51-0dd3d3c3bea7\",\"type\":\"Grid\"},{\"id\":\"5d236802-cacd-4113-834d-0188f4de74e8\",\"type\":\"BoxAnnotation\"},{\"id\":\"7e8795f2-af77-436d-81c7-aa5b8ed658ea\",\"type\":\"Legend\"},{\"id\":\"6faae7a4-29c9-4a0a-a227-48534b27e66b\",\"type\":\"GlyphRenderer\"},{\"id\":\"e5418166-9b35-4bc4-9a98-06fda39e80fb\",\"type\":\"GlyphRenderer\"},{\"id\":\"9edde72e-7103-4948-a2ba-534512a95ef0\",\"type\":\"GlyphRenderer\"},{\"id\":\"05944063-6515-4294-9184-b8804dd802f6\",\"type\":\"GlyphRenderer\"},{\"id\":\"be990252-78f0-4d25-9bf6-8a6b2c2d4bfa\",\"type\":\"GlyphRenderer\"},{\"id\":\"fa25fff3-92f4-4cea-a631-b6bf8791451d\",\"type\":\"GlyphRenderer\"},{\"id\":\"464aa259-16e6-44fc-8c84-d7a16dc94c6e\",\"type\":\"GlyphRenderer\"},{\"id\":\"06f892ca-a15e-4083-b699-b802c05d1eb6\",\"type\":\"GlyphRenderer\"},{\"id\":\"4811385b-33d2-439c-acd4-7c7292a50132\",\"type\":\"GlyphRenderer\"},{\"id\":\"26b7774a-f586-403f-9d60-dcfa49a17fe2\",\"type\":\"GlyphRenderer\"},{\"id\":\"a57a30a9-a7f0-4af2-a872-18a79608243b\",\"type\":\"GlyphRenderer\"},{\"id\":\"f1ff51b7-3465-4217-8efa-5d44ff78376a\",\"type\":\"GlyphRenderer\"},{\"id\":\"1b21f037-b5c1-468c-a29f-7cf6bbe30a79\",\"type\":\"GlyphRenderer\"},{\"id\":\"741ef31b-894f-4526-9bfe-f31e26251ad2\",\"type\":\"GlyphRenderer\"},{\"id\":\"c427946f-625c-4ccf-bb48-40993d63c698\",\"type\":\"GlyphRenderer\"},{\"id\":\"ec2ef976-1d6e-42e2-a1f2-572ba531fbf5\",\"type\":\"GlyphRenderer\"},{\"id\":\"ec2eda73-815b-4a13-ae03-0b86e3ab1553\",\"type\":\"GlyphRenderer\"},{\"id\":\"76f04937-0444-4027-99b8-304134d079f0\",\"type\":\"GlyphRenderer\"},{\"id\":\"9fa280ff-e5f7-4294-8140-ca100ebf9e5d\",\"type\":\"GlyphRenderer\"},{\"id\":\"55d911ab-9638-4d5a-acfb-6ddafc619e76\",\"type\":\"GlyphRenderer\"},{\"id\":\"5881de18-e1ed-47fd-8c57-f321a25750c5\",\"type\":\"GlyphRenderer\"},{\"id\":\"d70a6aa6-a74d-4807-a8eb-fa34b16cb0c7\",\"type\":\"GlyphRenderer\"},{\"id\":\"1b52461e-d0b7-4805-a0a3-c4d0fa50a7e1\",\"type\":\"GlyphRenderer\"},{\"id\":\"a31327aa-35dc-44f7-aab3-83a1bdf36871\",\"type\":\"GlyphRenderer\"},{\"id\":\"1adc5664-4084-46ed-ad1c-a13bd549d61e\",\"type\":\"GlyphRenderer\"},{\"id\":\"9b0de8a5-06d1-4040-93ae-f056c1e626ec\",\"type\":\"GlyphRenderer\"}],\"title\":{\"id\":\"2d257c52-b375-4dec-9391-d69929388bab\",\"type\":\"Title\"},\"tool_events\":{\"id\":\"a4a7089a-91b1-4d3f-bab5-44b745c8ea2d\",\"type\":\"ToolEvents\"},\"toolbar\":{\"id\":\"fdef315b-f1bc-4520-89a9-265f171d5c69\",\"type\":\"Toolbar\"},\"x_range\":{\"id\":\"00a477d4-3f6e-4fbe-a9fb-c314bb914a54\",\"type\":\"DataRange1d\"},\"y_range\":{\"id\":\"ac35b517-dbaf-4527-bc9b-b52df659a7eb\",\"type\":\"DataRange1d\"}},\"id\":\"ea88e8df-36db-48ca-a87c-6f2c5b357f45\",\"subtype\":\"Figure\",\"type\":\"Plot\"},{\"attributes\":{\"plot\":{\"id\":\"ea88e8df-36db-48ca-a87c-6f2c5b357f45\",\"subtype\":\"Figure\",\"type\":\"Plot\"}},\"id\":\"e970f412-e921-4ae8-b5e7-024239ba17fc\",\"type\":\"ResetTool\"},{\"attributes\":{\"bottom_units\":\"screen\",\"fill_alpha\":{\"value\":0.5},\"fill_color\":{\"value\":\"lightgrey\"},\"left_units\":\"screen\",\"level\":\"overlay\",\"line_alpha\":{\"value\":1.0},\"line_color\":{\"value\":\"black\"},\"line_dash\":[4,4],\"line_width\":{\"value\":2},\"plot\":null,\"render_mode\":\"css\",\"right_units\":\"screen\",\"top_units\":\"screen\"},\"id\":\"5d236802-cacd-4113-834d-0188f4de74e8\",\"type\":\"BoxAnnotation\"},{\"attributes\":{},\"id\":\"bbd352a0-c5f8-46da-a9e7-c367a82ebd69\",\"type\":\"BasicTicker\"},{\"attributes\":{\"callback\":null,\"column_names\":[\"y\",\"x\"],\"data\":{\"x\":[\"Ciudades\",\"1991\",\"2001\",\"2010\",\"2017\",\"2019\",\"2029\",\"2039\"],\"y\":[\"Gobernador Costa\",\"1913\",\"2185\",\"2374\",\"2521\",\"2563\",\"2773\",\"2983\"]}},\"id\":\"68e524f0-36b5-430b-aa3c-d8701166b546\",\"type\":\"ColumnDataSource\"},{\"attributes\":{\"plot\":{\"id\":\"ea88e8df-36db-48ca-a87c-6f2c5b357f45\",\"subtype\":\"Figure\",\"type\":\"Plot\"},\"ticker\":{\"id\":\"bbd352a0-c5f8-46da-a9e7-c367a82ebd69\",\"type\":\"BasicTicker\"}},\"id\":\"5a2bc892-3208-4795-9cf2-067dd438bb09\",\"type\":\"Grid\"},{\"attributes\":{\"callback\":null},\"id\":\"ac35b517-dbaf-4527-bc9b-b52df659a7eb\",\"type\":\"DataRange1d\"},{\"attributes\":{\"data_source\":{\"id\":\"8ba0e338-d233-4f8f-bb8c-8523ed821bb9\",\"type\":\"ColumnDataSource\"},\"glyph\":{\"id\":\"671f79b2-f97b-4f8b-ae3a-fb5bb8b1e97c\",\"type\":\"Line\"},\"hover_glyph\":null,\"nonselection_glyph\":{\"id\":\"5cf19cb2-18de-4165-bb53-8c0103bc53d9\",\"type\":\"Line\"},\"selection_glyph\":null},\"id\":\"9b0de8a5-06d1-4040-93ae-f056c1e626ec\",\"type\":\"GlyphRenderer\"},{\"attributes\":{\"callback\":null,\"column_names\":[\"y\",\"x\"],\"data\":{\"x\":[\"Ciudades\",\"1991\",\"2001\",\"2010\",\"2017\",\"2019\",\"2029\",\"2039\"],\"y\":[\"Camarones\",\"868\",\"1079\",\"1296\",\"1465\",\"1513\",\"1754\",\"1995\"]}},\"id\":\"d12c6ad9-be3b-4e6f-b139-e46117c28c91\",\"type\":\"ColumnDataSource\"},{\"attributes\":{\"callback\":null,\"column_names\":[\"y\",\"x\"],\"data\":{\"x\":[\"Ciudades\",\"1991\",\"2001\",\"2010\",\"2017\",\"2019\",\"2029\",\"2039\"],\"y\":[\"Gaiman\",\"4642\",\"5753\",\"6627\",\"7307\",\"7501\",\"8472\",\"9443\"]}},\"id\":\"55d5b755-ebea-4577-b864-808f7a767284\",\"type\":\"ColumnDataSource\"},{\"attributes\":{\"line_alpha\":{\"value\":0.1},\"line_color\":{\"value\":\"#1f77b4\"},\"line_width\":{\"value\":2},\"x\":{\"field\":\"x\"},\"y\":{\"field\":\"y\"}},\"id\":\"12bad586-2d9d-438a-a485-4aaafdb0a7bf\",\"type\":\"Line\"},{\"attributes\":{\"callback\":null,\"column_names\":[\"y\",\"x\"],\"data\":{\"x\":[\"Ciudades\",\"1991\",\"2001\",\"2010\",\"2017\",\"2019\",\"2029\",\"2039\"],\"y\":[\"Esquel\",\"23411\",\"28486\",\"32758\",\"36081\",\"37030\",\"41777\",\"46524\"]}},\"id\":\"43ec775c-2443-4c12-bd64-043ef61e1cee\",\"type\":\"ColumnDataSource\"},{\"attributes\":{\"callback\":null,\"column_names\":[\"y\",\"x\"],\"data\":{\"x\":[\"Ciudades\",\"1991\",\"2001\",\"2010\",\"2017\",\"2019\",\"2029\",\"2039\"],\"y\":[\"Gobernador Costa\",\"1913\",\"2185\",\"2374\",\"2521\",\"2563\",\"2773\",\"2983\"]}},\"id\":\"54090a8a-379f-454a-9349-a05ea675d96c\",\"type\":\"ColumnDataSource\"},{\"attributes\":{\"data_source\":{\"id\":\"2cc2a8d7-b853-4ae4-92f7-ae930eb0ba47\",\"type\":\"ColumnDataSource\"},\"glyph\":{\"id\":\"d11437c7-65fa-49bf-9b22-097ded2029bb\",\"type\":\"Line\"},\"hover_glyph\":null,\"nonselection_glyph\":{\"id\":\"818f51f7-bade-4950-b267-407531810519\",\"type\":\"Line\"},\"selection_glyph\":null},\"id\":\"05944063-6515-4294-9184-b8804dd802f6\",\"type\":\"GlyphRenderer\"},{\"attributes\":{\"fill_color\":{\"value\":\"#164c71\"},\"line_color\":{\"value\":\"#164c71\"},\"x\":{\"field\":\"x\"},\"y\":{\"field\":\"y\"}},\"id\":\"77b78d85-4be8-4732-9fe9-2540c7c396a7\",\"type\":\"Circle\"},{\"attributes\":{\"line_alpha\":{\"value\":0.1},\"line_color\":{\"value\":\"#1f77b4\"},\"line_width\":{\"value\":2},\"x\":{\"field\":\"x\"},\"y\":{\"field\":\"y\"}},\"id\":\"0db44e0f-9b44-42e0-837c-68fdb8f36fb7\",\"type\":\"Line\"},{\"attributes\":{\"data_source\":{\"id\":\"a01373cd-3354-4575-a5f5-6c07f33ed36d\",\"type\":\"ColumnDataSource\"},\"glyph\":{\"id\":\"e57efebb-4e25-49f2-b134-bf03678b49da\",\"type\":\"Circle\"},\"hover_glyph\":null,\"nonselection_glyph\":{\"id\":\"223784ea-94fb-42df-9276-a6ddcf7f2f11\",\"type\":\"Circle\"},\"selection_glyph\":null},\"id\":\"9edde72e-7103-4948-a2ba-534512a95ef0\",\"type\":\"GlyphRenderer\"},{\"attributes\":{\"line_color\":{\"value\":\"yellow\"},\"line_width\":{\"value\":2},\"x\":{\"field\":\"x\"},\"y\":{\"field\":\"y\"}},\"id\":\"a9cdb16b-9ebd-47eb-9e4b-3898cbdc5bd7\",\"type\":\"Line\"},{\"attributes\":{\"fill_color\":{\"value\":\"magenta\"},\"line_color\":{\"value\":\"magenta\"},\"x\":{\"field\":\"x\"},\"y\":{\"field\":\"y\"}},\"id\":\"9ffbed43-a548-4faf-8fa7-f7352da25b94\",\"type\":\"Circle\"},{\"attributes\":{\"line_alpha\":{\"value\":0.1},\"line_color\":{\"value\":\"#1f77b4\"},\"line_width\":{\"value\":2},\"x\":{\"field\":\"x\"},\"y\":{\"field\":\"y\"}},\"id\":\"818f51f7-bade-4950-b267-407531810519\",\"type\":\"Line\"},{\"attributes\":{\"callback\":null,\"column_names\":[\"y\",\"x\"],\"data\":{\"x\":[\"Ciudades\",\"1991\",\"2001\",\"2010\",\"2017\",\"2019\",\"2029\",\"2039\"],\"y\":[\"Puerto Madryn\",\"45047\",\"57791\",\"81995\",\"100820\",\"106199\",\"133092\",\"159985\"]}},\"id\":\"f1c5d30d-7ec1-4bbc-a32c-909483c7e971\",\"type\":\"ColumnDataSource\"},{\"attributes\":{\"line_alpha\":{\"value\":0.1},\"line_color\":{\"value\":\"#1f77b4\"},\"line_width\":{\"value\":2},\"x\":{\"field\":\"x\"},\"y\":{\"field\":\"y\"}},\"id\":\"65224de7-7aa9-42f2-9803-e46fe26ec9d9\",\"type\":\"Line\"},{\"attributes\":{\"axis_label\":\"Tiempo\",\"formatter\":{\"id\":\"7adb65a5-70a9-4b53-af7f-c1480f8e7468\",\"type\":\"BasicTickFormatter\"},\"plot\":{\"id\":\"ea88e8df-36db-48ca-a87c-6f2c5b357f45\",\"subtype\":\"Figure\",\"type\":\"Plot\"},\"ticker\":{\"id\":\"bbd352a0-c5f8-46da-a9e7-c367a82ebd69\",\"type\":\"BasicTicker\"}},\"id\":\"7205640d-f414-437c-a0e8-b292e332be33\",\"type\":\"LinearAxis\"},{\"attributes\":{\"line_alpha\":{\"value\":0.1},\"line_color\":{\"value\":\"#1f77b4\"},\"line_width\":{\"value\":2},\"x\":{\"field\":\"x\"},\"y\":{\"field\":\"y\"}},\"id\":\"e9619fce-665e-46a9-acee-294caf33d292\",\"type\":\"Line\"},{\"attributes\":{\"data_source\":{\"id\":\"55d5b755-ebea-4577-b864-808f7a767284\",\"type\":\"ColumnDataSource\"},\"glyph\":{\"id\":\"f8f99654-d7c9-4acb-a8de-76aaee5cc543\",\"type\":\"Circle\"},\"hover_glyph\":null,\"nonselection_glyph\":{\"id\":\"120124a5-2e13-49f5-8826-2534270293cd\",\"type\":\"Circle\"},\"selection_glyph\":null},\"id\":\"ec2eda73-815b-4a13-ae03-0b86e3ab1553\",\"type\":\"GlyphRenderer\"},{\"attributes\":{\"data_source\":{\"id\":\"bcfc1f6c-fb7b-4275-ab9c-7756394bf0dc\",\"type\":\"ColumnDataSource\"},\"glyph\":{\"id\":\"008b03e0-0fa9-4fac-81ef-6be16047b382\",\"type\":\"Line\"},\"hover_glyph\":null,\"nonselection_glyph\":{\"id\":\"0db44e0f-9b44-42e0-837c-68fdb8f36fb7\",\"type\":\"Line\"},\"selection_glyph\":null},\"id\":\"ec2ef976-1d6e-42e2-a1f2-572ba531fbf5\",\"type\":\"GlyphRenderer\"},{\"attributes\":{\"plot\":{\"id\":\"ea88e8df-36db-48ca-a87c-6f2c5b357f45\",\"subtype\":\"Figure\",\"type\":\"Plot\"}},\"id\":\"1216d6ab-3605-4594-bdb3-7aad24e39fbf\",\"type\":\"PanTool\"},{\"attributes\":{\"active_drag\":\"auto\",\"active_scroll\":\"auto\",\"active_tap\":\"auto\",\"tools\":[{\"id\":\"1216d6ab-3605-4594-bdb3-7aad24e39fbf\",\"type\":\"PanTool\"},{\"id\":\"851e4ba8-3289-406a-8847-2222f518e674\",\"type\":\"WheelZoomTool\"},{\"id\":\"fbc57dc9-fc88-4d4a-b35f-8035dbdfe853\",\"type\":\"BoxZoomTool\"},{\"id\":\"e08d1091-0926-4181-8847-0952eb2c1f85\",\"type\":\"SaveTool\"},{\"id\":\"e970f412-e921-4ae8-b5e7-024239ba17fc\",\"type\":\"ResetTool\"},{\"id\":\"34d53d88-49c2-4280-97cf-e67440b2916a\",\"type\":\"HelpTool\"}]},\"id\":\"fdef315b-f1bc-4520-89a9-265f171d5c69\",\"type\":\"Toolbar\"},{\"attributes\":{\"line_color\":{\"value\":\"pink\"},\"line_width\":{\"value\":2},\"x\":{\"field\":\"x\"},\"y\":{\"field\":\"y\"}},\"id\":\"a6ed4fe2-0245-4da5-a076-aa615ef32d1e\",\"type\":\"Line\"},{\"attributes\":{\"dimension\":1,\"plot\":{\"id\":\"ea88e8df-36db-48ca-a87c-6f2c5b357f45\",\"subtype\":\"Figure\",\"type\":\"Plot\"},\"ticker\":{\"id\":\"671f6353-b1c3-4ae5-93cc-6ad23cb0158b\",\"type\":\"BasicTicker\"}},\"id\":\"2702225b-7eb5-4ea4-8c51-0dd3d3c3bea7\",\"type\":\"Grid\"},{\"attributes\":{\"data_source\":{\"id\":\"12105cc7-68ea-41eb-9811-7007d269cc71\",\"type\":\"ColumnDataSource\"},\"glyph\":{\"id\":\"ac22b3db-1ca9-44df-9317-6793a1eb082a\",\"type\":\"Line\"},\"hover_glyph\":null,\"nonselection_glyph\":{\"id\":\"88826dde-6d0e-4928-a03f-2f773f4f5a7c\",\"type\":\"Line\"},\"selection_glyph\":null},\"id\":\"76f04937-0444-4027-99b8-304134d079f0\",\"type\":\"GlyphRenderer\"},{\"attributes\":{\"fill_alpha\":{\"value\":0.1},\"fill_color\":{\"value\":\"#1f77b4\"},\"line_alpha\":{\"value\":0.1},\"line_color\":{\"value\":\"#1f77b4\"},\"x\":{\"field\":\"x\"},\"y\":{\"field\":\"y\"}},\"id\":\"649bd33e-5e85-48cf-af23-2226758ae32c\",\"type\":\"Circle\"},{\"attributes\":{\"data_source\":{\"id\":\"68657fe7-562e-4067-a09e-ce4161348826\",\"type\":\"ColumnDataSource\"},\"glyph\":{\"id\":\"6b88c394-62e2-44b4-9c4c-c0afafa7c805\",\"type\":\"Line\"},\"hover_glyph\":null,\"nonselection_glyph\":{\"id\":\"e9619fce-665e-46a9-acee-294caf33d292\",\"type\":\"Line\"},\"selection_glyph\":null},\"id\":\"e5418166-9b35-4bc4-9a98-06fda39e80fb\",\"type\":\"GlyphRenderer\"},{\"attributes\":{\"callback\":null,\"column_names\":[\"y\",\"x\"],\"data\":{\"x\":[\"Ciudades\",\"1991\",\"2001\",\"2010\",\"2017\",\"2019\",\"2029\",\"2039\"],\"y\":[\"Gaiman\",\"4642\",\"5753\",\"6627\",\"7307\",\"7501\",\"8472\",\"9443\"]}},\"id\":\"12105cc7-68ea-41eb-9811-7007d269cc71\",\"type\":\"ColumnDataSource\"},{\"attributes\":{\"callback\":null,\"column_names\":[\"y\",\"x\"],\"data\":{\"x\":[\"Ciudades\",\"1991\",\"2001\",\"2010\",\"2017\",\"2019\",\"2029\",\"2039\"],\"y\":[\"Comodoro Rivadavia\",\"125725\",\"137061\",\"177083\",\"208211\",\"217105\",\"261574\",\"306043\"]}},\"id\":\"2cc2a8d7-b853-4ae4-92f7-ae930eb0ba47\",\"type\":\"ColumnDataSource\"},{\"attributes\":{\"fill_alpha\":{\"value\":0.1},\"fill_color\":{\"value\":\"#1f77b4\"},\"line_alpha\":{\"value\":0.1},\"line_color\":{\"value\":\"#1f77b4\"},\"x\":{\"field\":\"x\"},\"y\":{\"field\":\"y\"}},\"id\":\"223784ea-94fb-42df-9276-a6ddcf7f2f11\",\"type\":\"Circle\"},{\"attributes\":{},\"id\":\"a4a7089a-91b1-4d3f-bab5-44b745c8ea2d\",\"type\":\"ToolEvents\"},{\"attributes\":{\"fill_color\":{\"value\":\"olive\"},\"line_color\":{\"value\":\"olive\"},\"x\":{\"field\":\"x\"},\"y\":{\"field\":\"y\"}},\"id\":\"368bfdb8-cb2f-4be8-a810-19d7138fe8c6\",\"type\":\"Circle\"},{\"attributes\":{\"data_source\":{\"id\":\"2d7ccccd-3394-4f3f-a8fd-9e1a0afa515d\",\"type\":\"ColumnDataSource\"},\"glyph\":{\"id\":\"3eac7b8d-53e5-43f6-aace-03eaa2a14473\",\"type\":\"Line\"},\"hover_glyph\":null,\"nonselection_glyph\":{\"id\":\"12bad586-2d9d-438a-a485-4aaafdb0a7bf\",\"type\":\"Line\"},\"selection_glyph\":null},\"id\":\"741ef31b-894f-4526-9bfe-f31e26251ad2\",\"type\":\"GlyphRenderer\"},{\"attributes\":{\"fill_alpha\":{\"value\":0.1},\"fill_color\":{\"value\":\"#1f77b4\"},\"line_alpha\":{\"value\":0.1},\"line_color\":{\"value\":\"#1f77b4\"},\"x\":{\"field\":\"x\"},\"y\":{\"field\":\"y\"}},\"id\":\"5495d2df-1187-4c60-9d5d-0c512ef514e8\",\"type\":\"Circle\"},{\"attributes\":{\"data_source\":{\"id\":\"55ae9e39-9c12-4755-8aeb-048eb4504335\",\"type\":\"ColumnDataSource\"},\"glyph\":{\"id\":\"a6ed4fe2-0245-4da5-a076-aa615ef32d1e\",\"type\":\"Line\"},\"hover_glyph\":null,\"nonselection_glyph\":{\"id\":\"3c6a32dd-3d8d-4a4a-8e88-e897cfda78b7\",\"type\":\"Line\"},\"selection_glyph\":null},\"id\":\"f1ff51b7-3465-4217-8efa-5d44ff78376a\",\"type\":\"GlyphRenderer\"},{\"attributes\":{\"data_source\":{\"id\":\"e6c5606f-1dc7-444a-a294-b4821a5df5ec\",\"type\":\"ColumnDataSource\"},\"glyph\":{\"id\":\"71d1b281-ba6d-422d-b7ff-3a60db098eba\",\"type\":\"Line\"},\"hover_glyph\":null,\"nonselection_glyph\":{\"id\":\"453de667-671f-46e0-8895-0bc1a2c3cf24\",\"type\":\"Line\"},\"selection_glyph\":null},\"id\":\"06f892ca-a15e-4083-b699-b802c05d1eb6\",\"type\":\"GlyphRenderer\"},{\"attributes\":{\"line_color\":{\"value\":\"magenta\"},\"line_width\":{\"value\":2},\"x\":{\"field\":\"x\"},\"y\":{\"field\":\"y\"}},\"id\":\"d1c916fa-dcf3-4635-b32c-89fd0f9742a4\",\"type\":\"Line\"},{\"attributes\":{\"line_alpha\":{\"value\":0.1},\"line_color\":{\"value\":\"#1f77b4\"},\"line_width\":{\"value\":2},\"x\":{\"field\":\"x\"},\"y\":{\"field\":\"y\"}},\"id\":\"3c6a32dd-3d8d-4a4a-8e88-e897cfda78b7\",\"type\":\"Line\"},{\"attributes\":{\"data_source\":{\"id\":\"1cb0e117-01ce-4830-8de9-08cb81612761\",\"type\":\"ColumnDataSource\"},\"glyph\":{\"id\":\"c7bbd5e0-8a30-4d7d-a2a2-f9ccaeac5fcc\",\"type\":\"Circle\"},\"hover_glyph\":null,\"nonselection_glyph\":{\"id\":\"16ab45e9-41de-4d55-a5f2-17bf067ba972\",\"type\":\"Circle\"},\"selection_glyph\":null},\"id\":\"6faae7a4-29c9-4a0a-a227-48534b27e66b\",\"type\":\"GlyphRenderer\"},{\"attributes\":{\"data_source\":{\"id\":\"43ec775c-2443-4c12-bd64-043ef61e1cee\",\"type\":\"ColumnDataSource\"},\"glyph\":{\"id\":\"da44950e-06a2-4841-99f5-14f8bc94f63d\",\"type\":\"Circle\"},\"hover_glyph\":null,\"nonselection_glyph\":{\"id\":\"6d1b6061-55f0-4c96-832c-cecea1f87e2b\",\"type\":\"Circle\"},\"selection_glyph\":null},\"id\":\"4811385b-33d2-439c-acd4-7c7292a50132\",\"type\":\"GlyphRenderer\"},{\"attributes\":{\"callback\":null,\"column_names\":[\"y\",\"x\"],\"data\":{\"x\":[\"Ciudades\",\"1991\",\"2001\",\"2010\",\"2017\",\"2019\",\"2029\",\"2039\"],\"y\":[\"Cholila\",\"1527\",\"1981\",\"2228\",\"2420\",\"2475\",\"2749\",\"3023\"]}},\"id\":\"3969a8e5-0eee-461b-a86c-569af9058bba\",\"type\":\"ColumnDataSource\"},{\"attributes\":{\"fill_color\":{\"value\":\"green\"},\"line_color\":{\"value\":\"green\"},\"x\":{\"field\":\"x\"},\"y\":{\"field\":\"y\"}},\"id\":\"6312bfa2-013a-4bdb-afd5-0e3835d5f83f\",\"type\":\"Circle\"},{\"attributes\":{\"line_alpha\":{\"value\":0.1},\"line_color\":{\"value\":\"#1f77b4\"},\"line_width\":{\"value\":2},\"x\":{\"field\":\"x\"},\"y\":{\"field\":\"y\"}},\"id\":\"e28c1ab8-f702-4996-9f3a-7a0f7ae77562\",\"type\":\"Line\"},{\"attributes\":{\"callback\":null,\"column_names\":[\"y\",\"x\"],\"data\":{\"x\":[\"Ciudades\",\"1991\",\"2001\",\"2010\",\"2017\",\"2019\",\"2029\",\"2039\"],\"y\":[\"Camarones\",\"868\",\"1079\",\"1296\",\"1465\",\"1513\",\"1754\",\"1995\"]}},\"id\":\"a3c04944-792f-418d-b8c8-4261fa927075\",\"type\":\"ColumnDataSource\"},{\"attributes\":{\"callback\":null,\"column_names\":[\"y\",\"x\"],\"data\":{\"x\":[\"Ciudades\",\"1991\",\"2001\",\"2010\",\"2017\",\"2019\",\"2029\",\"2039\"],\"y\":[\"Trelew\",\"79340\",\"89547\",\"99430\",\"107117\",\"109313\",\"120294\",\"131275\"]}},\"id\":\"90701739-d675-4b71-a995-53b3cfb3b723\",\"type\":\"ColumnDataSource\"},{\"attributes\":{\"fill_color\":{\"value\":\"navy\"},\"line_color\":{\"value\":\"navy\"},\"x\":{\"field\":\"x\"},\"y\":{\"field\":\"y\"}},\"id\":\"d9ace2c9-6683-4d23-b2ea-4be4c6b3d45d\",\"type\":\"Circle\"},{\"attributes\":{\"fill_alpha\":{\"value\":0.1},\"fill_color\":{\"value\":\"#1f77b4\"},\"line_alpha\":{\"value\":0.1},\"line_color\":{\"value\":\"#1f77b4\"},\"x\":{\"field\":\"x\"},\"y\":{\"field\":\"y\"}},\"id\":\"37a33d6a-7efe-4df8-b141-4e64245a77fa\",\"type\":\"Circle\"},{\"attributes\":{\"fill_alpha\":{\"value\":0.1},\"fill_color\":{\"value\":\"#1f77b4\"},\"line_alpha\":{\"value\":0.1},\"line_color\":{\"value\":\"#1f77b4\"},\"x\":{\"field\":\"x\"},\"y\":{\"field\":\"y\"}},\"id\":\"646580ef-4d9d-4368-9a18-0743c3c7ece0\",\"type\":\"Circle\"},{\"attributes\":{\"data_source\":{\"id\":\"a5438a67-d884-4072-b762-23e384c24f36\",\"type\":\"ColumnDataSource\"},\"glyph\":{\"id\":\"368bfdb8-cb2f-4be8-a810-19d7138fe8c6\",\"type\":\"Circle\"},\"hover_glyph\":null,\"nonselection_glyph\":{\"id\":\"b1c03a3f-0c4e-4ac3-8f5c-c3b722b7cc14\",\"type\":\"Circle\"},\"selection_glyph\":null},\"id\":\"5881de18-e1ed-47fd-8c57-f321a25750c5\",\"type\":\"GlyphRenderer\"},{\"attributes\":{\"data_source\":{\"id\":\"9c9572b8-668c-42aa-987c-36d0e6e23cff\",\"type\":\"ColumnDataSource\"},\"glyph\":{\"id\":\"88e2c2e7-287a-47cf-a94c-cc85faca283f\",\"type\":\"Circle\"},\"hover_glyph\":null,\"nonselection_glyph\":{\"id\":\"5495d2df-1187-4c60-9d5d-0c512ef514e8\",\"type\":\"Circle\"},\"selection_glyph\":null},\"id\":\"a57a30a9-a7f0-4af2-a872-18a79608243b\",\"type\":\"GlyphRenderer\"},{\"attributes\":{\"line_alpha\":{\"value\":0.1},\"line_color\":{\"value\":\"#1f77b4\"},\"line_width\":{\"value\":2},\"x\":{\"field\":\"x\"},\"y\":{\"field\":\"y\"}},\"id\":\"453de667-671f-46e0-8895-0bc1a2c3cf24\",\"type\":\"Line\"},{\"attributes\":{\"fill_alpha\":{\"value\":0.1},\"fill_color\":{\"value\":\"#1f77b4\"},\"line_alpha\":{\"value\":0.1},\"line_color\":{\"value\":\"#1f77b4\"},\"x\":{\"field\":\"x\"},\"y\":{\"field\":\"y\"}},\"id\":\"6103cc4e-1d7d-4dbc-adad-495dd996806e\",\"type\":\"Circle\"},{\"attributes\":{\"use_scientific\":false},\"id\":\"39de5579-1376-46da-b4c9-36599bc96892\",\"type\":\"BasicTickFormatter\"},{\"attributes\":{\"callback\":null,\"column_names\":[\"y\",\"x\"],\"data\":{\"x\":[\"Ciudades\",\"1991\",\"2001\",\"2010\",\"2017\",\"2019\",\"2029\",\"2039\"],\"y\":[\"Dolavon\",\"2613\",\"2929\",\"3307\",\"3601\",\"3685\",\"4105\",\"4525\"]}},\"id\":\"bcfc1f6c-fb7b-4275-ab9c-7756394bf0dc\",\"type\":\"ColumnDataSource\"},{\"attributes\":{\"fill_color\":{\"value\":\"#7c1b65\"},\"line_color\":{\"value\":\"#7c1b65\"},\"x\":{\"field\":\"x\"},\"y\":{\"field\":\"y\"}},\"id\":\"80fc02a6-9962-4bc0-a4a9-544b835e1d44\",\"type\":\"Circle\"},{\"attributes\":{\"line_color\":{\"value\":\"#164c71\"},\"line_width\":{\"value\":2},\"x\":{\"field\":\"x\"},\"y\":{\"field\":\"y\"}},\"id\":\"aabec402-9a28-4988-9cea-a9d06b6aef29\",\"type\":\"Line\"},{\"attributes\":{\"callback\":null,\"column_names\":[\"y\",\"x\"],\"data\":{\"x\":[\"Ciudades\",\"1991\",\"2001\",\"2010\",\"2017\",\"2019\",\"2029\",\"2039\"],\"y\":[\"Puerto Madryn\",\"45047\",\"57791\",\"81995\",\"100820\",\"106199\",\"133092\",\"159985\"]}},\"id\":\"e6c5606f-1dc7-444a-a294-b4821a5df5ec\",\"type\":\"ColumnDataSource\"},{\"attributes\":{\"callback\":null,\"column_names\":[\"y\",\"x\"],\"data\":{\"x\":[\"Ciudades\",\"1991\",\"2001\",\"2010\",\"2017\",\"2019\",\"2029\",\"2039\"],\"y\":[\"Trelew\",\"79340\",\"89547\",\"99430\",\"107117\",\"109313\",\"120294\",\"131275\"]}},\"id\":\"c6436c03-eca2-4f9d-9269-673dd8c852d9\",\"type\":\"ColumnDataSource\"},{\"attributes\":{\"data_source\":{\"id\":\"f1c5d30d-7ec1-4bbc-a32c-909483c7e971\",\"type\":\"ColumnDataSource\"},\"glyph\":{\"id\":\"6312bfa2-013a-4bdb-afd5-0e3835d5f83f\",\"type\":\"Circle\"},\"hover_glyph\":null,\"nonselection_glyph\":{\"id\":\"a9aff2f8-ec8d-410c-8e59-be802df0260f\",\"type\":\"Circle\"},\"selection_glyph\":null},\"id\":\"464aa259-16e6-44fc-8c84-d7a16dc94c6e\",\"type\":\"GlyphRenderer\"},{\"attributes\":{\"fill_color\":{\"value\":\"pink\"},\"line_color\":{\"value\":\"pink\"},\"x\":{\"field\":\"x\"},\"y\":{\"field\":\"y\"}},\"id\":\"88e2c2e7-287a-47cf-a94c-cc85faca283f\",\"type\":\"Circle\"},{\"attributes\":{\"line_color\":{\"value\":\"red\"},\"line_width\":{\"value\":2},\"x\":{\"field\":\"x\"},\"y\":{\"field\":\"y\"}},\"id\":\"6b88c394-62e2-44b4-9c4c-c0afafa7c805\",\"type\":\"Line\"},{\"attributes\":{\"data_source\":{\"id\":\"9797cf17-4a26-4367-8677-15534c6facfc\",\"type\":\"ColumnDataSource\"},\"glyph\":{\"id\":\"a9cdb16b-9ebd-47eb-9e4b-3898cbdc5bd7\",\"type\":\"Line\"},\"hover_glyph\":null,\"nonselection_glyph\":{\"id\":\"59f033da-eb69-409c-a3ee-d1bacd85b8fa\",\"type\":\"Line\"},\"selection_glyph\":null},\"id\":\"26b7774a-f586-403f-9d60-dcfa49a17fe2\",\"type\":\"GlyphRenderer\"},{\"attributes\":{\"callback\":null,\"column_names\":[\"y\",\"x\"],\"data\":{\"x\":[\"Ciudades\",\"1991\",\"2001\",\"2010\",\"2017\",\"2019\",\"2029\",\"2039\"],\"y\":[\"Rawson\",\"20674\",\"26183\",\"31787\",\"36146\",\"37391\",\"43618\",\"49845\"]}},\"id\":\"567881ff-362f-47ad-bd0a-a58a627ea961\",\"type\":\"ColumnDataSource\"},{\"attributes\":{\"data_source\":{\"id\":\"438238da-69a5-44da-ae2f-e8d80bfc2b7b\",\"type\":\"ColumnDataSource\"},\"glyph\":{\"id\":\"80fc02a6-9962-4bc0-a4a9-544b835e1d44\",\"type\":\"Circle\"},\"hover_glyph\":null,\"nonselection_glyph\":{\"id\":\"37a33d6a-7efe-4df8-b141-4e64245a77fa\",\"type\":\"Circle\"},\"selection_glyph\":null},\"id\":\"1adc5664-4084-46ed-ad1c-a13bd549d61e\",\"type\":\"GlyphRenderer\"},{\"attributes\":{\"legends\":[[\"Comodoro Rivadavia\",[{\"id\":\"6faae7a4-29c9-4a0a-a227-48534b27e66b\",\"type\":\"GlyphRenderer\"},{\"id\":\"e5418166-9b35-4bc4-9a98-06fda39e80fb\",\"type\":\"GlyphRenderer\"}]],[\"Trelew\",[{\"id\":\"9edde72e-7103-4948-a2ba-534512a95ef0\",\"type\":\"GlyphRenderer\"},{\"id\":\"05944063-6515-4294-9184-b8804dd802f6\",\"type\":\"GlyphRenderer\"}]],[\"Puerto Madryn\",[{\"id\":\"be990252-78f0-4d25-9bf6-8a6b2c2d4bfa\",\"type\":\"GlyphRenderer\"},{\"id\":\"fa25fff3-92f4-4cea-a631-b6bf8791451d\",\"type\":\"GlyphRenderer\"}]],[\"Esquel\",[{\"id\":\"464aa259-16e6-44fc-8c84-d7a16dc94c6e\",\"type\":\"GlyphRenderer\"},{\"id\":\"06f892ca-a15e-4083-b699-b802c05d1eb6\",\"type\":\"GlyphRenderer\"}]],[\"Sarmiento\",[{\"id\":\"4811385b-33d2-439c-acd4-7c7292a50132\",\"type\":\"GlyphRenderer\"},{\"id\":\"26b7774a-f586-403f-9d60-dcfa49a17fe2\",\"type\":\"GlyphRenderer\"}]],[\"Rawson\",[{\"id\":\"a57a30a9-a7f0-4af2-a872-18a79608243b\",\"type\":\"GlyphRenderer\"},{\"id\":\"f1ff51b7-3465-4217-8efa-5d44ff78376a\",\"type\":\"GlyphRenderer\"}]],[\"Dolavon\",[{\"id\":\"1b21f037-b5c1-468c-a29f-7cf6bbe30a79\",\"type\":\"GlyphRenderer\"},{\"id\":\"741ef31b-894f-4526-9bfe-f31e26251ad2\",\"type\":\"GlyphRenderer\"}]],[\"Gaiman\",[{\"id\":\"c427946f-625c-4ccf-bb48-40993d63c698\",\"type\":\"GlyphRenderer\"},{\"id\":\"ec2ef976-1d6e-42e2-a1f2-572ba531fbf5\",\"type\":\"GlyphRenderer\"}]],[\"Gobernador Costa\",[{\"id\":\"ec2eda73-815b-4a13-ae03-0b86e3ab1553\",\"type\":\"GlyphRenderer\"},{\"id\":\"76f04937-0444-4027-99b8-304134d079f0\",\"type\":\"GlyphRenderer\"}]],[\"Cholila\",[{\"id\":\"9fa280ff-e5f7-4294-8140-ca100ebf9e5d\",\"type\":\"GlyphRenderer\"},{\"id\":\"55d911ab-9638-4d5a-acfb-6ddafc619e76\",\"type\":\"GlyphRenderer\"}]],[\"Camarones\",[{\"id\":\"5881de18-e1ed-47fd-8c57-f321a25750c5\",\"type\":\"GlyphRenderer\"},{\"id\":\"d70a6aa6-a74d-4807-a8eb-fa34b16cb0c7\",\"type\":\"GlyphRenderer\"}]],[\"Paso de Indios\",[{\"id\":\"1b52461e-d0b7-4805-a0a3-c4d0fa50a7e1\",\"type\":\"GlyphRenderer\"},{\"id\":\"a31327aa-35dc-44f7-aab3-83a1bdf36871\",\"type\":\"GlyphRenderer\"}]],[\"Paso del Sapo\",[{\"id\":\"1adc5664-4084-46ed-ad1c-a13bd549d61e\",\"type\":\"GlyphRenderer\"},{\"id\":\"9b0de8a5-06d1-4040-93ae-f056c1e626ec\",\"type\":\"GlyphRenderer\"}]]],\"plot\":{\"id\":\"ea88e8df-36db-48ca-a87c-6f2c5b357f45\",\"subtype\":\"Figure\",\"type\":\"Plot\"}},\"id\":\"7e8795f2-af77-436d-81c7-aa5b8ed658ea\",\"type\":\"Legend\"},{\"attributes\":{\"line_alpha\":{\"value\":0.1},\"line_color\":{\"value\":\"#1f77b4\"},\"line_width\":{\"value\":2},\"x\":{\"field\":\"x\"},\"y\":{\"field\":\"y\"}},\"id\":\"46b22f56-b6d4-472e-a20a-ba2d99d11f73\",\"type\":\"Line\"},{\"attributes\":{\"callback\":null,\"column_names\":[\"y\",\"x\"],\"data\":{\"x\":[\"Ciudades\",\"1991\",\"2001\",\"2010\",\"2017\",\"2019\",\"2029\",\"2039\"],\"y\":[\"Cholila\",\"1527\",\"1981\",\"2228\",\"2420\",\"2475\",\"2749\",\"3023\"]}},\"id\":\"a5438a67-d884-4072-b762-23e384c24f36\",\"type\":\"ColumnDataSource\"},{\"attributes\":{},\"id\":\"7adb65a5-70a9-4b53-af7f-c1480f8e7468\",\"type\":\"BasicTickFormatter\"},{\"attributes\":{\"callback\":null,\"column_names\":[\"y\",\"x\"],\"data\":{\"x\":[\"Ciudades\",\"1991\",\"2001\",\"2010\",\"2017\",\"2019\",\"2029\",\"2039\"],\"y\":[\"Paso de Indios\",\"864\",\"1087\",\"1264\",\"1402\",\"1441\",\"1638\",\"1835\"]}},\"id\":\"8ba0e338-d233-4f8f-bb8c-8523ed821bb9\",\"type\":\"ColumnDataSource\"},{\"attributes\":{\"line_color\":{\"value\":\"olive\"},\"line_width\":{\"value\":2},\"x\":{\"field\":\"x\"},\"y\":{\"field\":\"y\"}},\"id\":\"0b073ecc-f4a3-45e3-be7b-a96b15342402\",\"type\":\"Line\"},{\"attributes\":{\"callback\":null,\"column_names\":[\"y\",\"x\"],\"data\":{\"x\":[\"Ciudades\",\"1991\",\"2001\",\"2010\",\"2017\",\"2019\",\"2029\",\"2039\"],\"y\":[\"Sarmiento\",\"7209\",\"8292\",\"11124\",\"13327\",\"13956\",\"17103\",\"20250\"]}},\"id\":\"55ae9e39-9c12-4755-8aeb-048eb4504335\",\"type\":\"ColumnDataSource\"},{\"attributes\":{\"line_alpha\":{\"value\":0.1},\"line_color\":{\"value\":\"#1f77b4\"},\"line_width\":{\"value\":2},\"x\":{\"field\":\"x\"},\"y\":{\"field\":\"y\"}},\"id\":\"6e377a1f-97c4-4892-8c17-3292aa9009db\",\"type\":\"Line\"},{\"attributes\":{\"overlay\":{\"id\":\"5d236802-cacd-4113-834d-0188f4de74e8\",\"type\":\"BoxAnnotation\"},\"plot\":{\"id\":\"ea88e8df-36db-48ca-a87c-6f2c5b357f45\",\"subtype\":\"Figure\",\"type\":\"Plot\"}},\"id\":\"fbc57dc9-fc88-4d4a-b35f-8035dbdfe853\",\"type\":\"BoxZoomTool\"},{\"attributes\":{\"data_source\":{\"id\":\"a3c04944-792f-418d-b8c8-4261fa927075\",\"type\":\"ColumnDataSource\"},\"glyph\":{\"id\":\"77b78d85-4be8-4732-9fe9-2540c7c396a7\",\"type\":\"Circle\"},\"hover_glyph\":null,\"nonselection_glyph\":{\"id\":\"646580ef-4d9d-4368-9a18-0743c3c7ece0\",\"type\":\"Circle\"},\"selection_glyph\":null},\"id\":\"1b52461e-d0b7-4805-a0a3-c4d0fa50a7e1\",\"type\":\"GlyphRenderer\"},{\"attributes\":{\"line_color\":{\"value\":\"firebrick\"},\"line_width\":{\"value\":2},\"x\":{\"field\":\"x\"},\"y\":{\"field\":\"y\"}},\"id\":\"008b03e0-0fa9-4fac-81ef-6be16047b382\",\"type\":\"Line\"},{\"attributes\":{\"data_source\":{\"id\":\"3969a8e5-0eee-461b-a86c-569af9058bba\",\"type\":\"ColumnDataSource\"},\"glyph\":{\"id\":\"0b073ecc-f4a3-45e3-be7b-a96b15342402\",\"type\":\"Line\"},\"hover_glyph\":null,\"nonselection_glyph\":{\"id\":\"6e377a1f-97c4-4892-8c17-3292aa9009db\",\"type\":\"Line\"},\"selection_glyph\":null},\"id\":\"d70a6aa6-a74d-4807-a8eb-fa34b16cb0c7\",\"type\":\"GlyphRenderer\"},{\"attributes\":{\"line_color\":{\"value\":\"orange\"},\"line_width\":{\"value\":2},\"x\":{\"field\":\"x\"},\"y\":{\"field\":\"y\"}},\"id\":\"d11437c7-65fa-49bf-9b22-097ded2029bb\",\"type\":\"Line\"},{\"attributes\":{\"callback\":null,\"column_names\":[\"y\",\"x\"],\"data\":{\"x\":[\"Ciudades\",\"1991\",\"2001\",\"2010\",\"2017\",\"2019\",\"2029\",\"2039\"],\"y\":[\"Ciudades\",\"1991\",\"2001\",\"2010\",\"2017\",\"2019\",\"2029\",\"2039\"]}},\"id\":\"1cb0e117-01ce-4830-8de9-08cb81612761\",\"type\":\"ColumnDataSource\"},{\"attributes\":{\"callback\":null,\"column_names\":[\"y\",\"x\"],\"data\":{\"x\":[\"Ciudades\",\"1991\",\"2001\",\"2010\",\"2017\",\"2019\",\"2029\",\"2039\"],\"y\":[\"Paso de Indios\",\"864\",\"1087\",\"1264\",\"1402\",\"1441\",\"1638\",\"1835\"]}},\"id\":\"438238da-69a5-44da-ae2f-e8d80bfc2b7b\",\"type\":\"ColumnDataSource\"},{\"attributes\":{\"axis_label\":\"Poblaci\\u00f3n\",\"formatter\":{\"id\":\"39de5579-1376-46da-b4c9-36599bc96892\",\"type\":\"BasicTickFormatter\"},\"plot\":{\"id\":\"ea88e8df-36db-48ca-a87c-6f2c5b357f45\",\"subtype\":\"Figure\",\"type\":\"Plot\"},\"ticker\":{\"id\":\"671f6353-b1c3-4ae5-93cc-6ad23cb0158b\",\"type\":\"BasicTicker\"}},\"id\":\"fbd54806-34b0-4339-bfd7-9d534a51c7f5\",\"type\":\"LinearAxis\"},{\"attributes\":{\"line_color\":{\"value\":\"green\"},\"line_width\":{\"value\":2},\"x\":{\"field\":\"x\"},\"y\":{\"field\":\"y\"}},\"id\":\"71d1b281-ba6d-422d-b7ff-3a60db098eba\",\"type\":\"Line\"},{\"attributes\":{\"fill_alpha\":{\"value\":0.1},\"fill_color\":{\"value\":\"#1f77b4\"},\"line_alpha\":{\"value\":0.1},\"line_color\":{\"value\":\"#1f77b4\"},\"x\":{\"field\":\"x\"},\"y\":{\"field\":\"y\"}},\"id\":\"80fe5a3f-df2e-47d5-ba1e-1d33ab79c4f2\",\"type\":\"Circle\"},{\"attributes\":{\"data_source\":{\"id\":\"567881ff-362f-47ad-bd0a-a58a627ea961\",\"type\":\"ColumnDataSource\"},\"glyph\":{\"id\":\"d9ace2c9-6683-4d23-b2ea-4be4c6b3d45d\",\"type\":\"Circle\"},\"hover_glyph\":null,\"nonselection_glyph\":{\"id\":\"7da1fc00-cf19-4bea-95f8-5a5f3fa04d5c\",\"type\":\"Circle\"},\"selection_glyph\":null},\"id\":\"1b21f037-b5c1-468c-a29f-7cf6bbe30a79\",\"type\":\"GlyphRenderer\"},{\"attributes\":{\"fill_color\":{\"value\":\"cyan\"},\"line_color\":{\"value\":\"cyan\"},\"x\":{\"field\":\"x\"},\"y\":{\"field\":\"y\"}},\"id\":\"f8f99654-d7c9-4acb-a8de-76aaee5cc543\",\"type\":\"Circle\"},{\"attributes\":{\"data_source\":{\"id\":\"54090a8a-379f-454a-9349-a05ea675d96c\",\"type\":\"ColumnDataSource\"},\"glyph\":{\"id\":\"9ffbed43-a548-4faf-8fa7-f7352da25b94\",\"type\":\"Circle\"},\"hover_glyph\":null,\"nonselection_glyph\":{\"id\":\"649bd33e-5e85-48cf-af23-2226758ae32c\",\"type\":\"Circle\"},\"selection_glyph\":null},\"id\":\"9fa280ff-e5f7-4294-8140-ca100ebf9e5d\",\"type\":\"GlyphRenderer\"},{\"attributes\":{\"line_alpha\":{\"value\":0.1},\"line_color\":{\"value\":\"#1f77b4\"},\"line_width\":{\"value\":2},\"x\":{\"field\":\"x\"},\"y\":{\"field\":\"y\"}},\"id\":\"5cf19cb2-18de-4165-bb53-8c0103bc53d9\",\"type\":\"Line\"}],\"root_ids\":[\"ea88e8df-36db-48ca-a87c-6f2c5b357f45\"]},\"title\":\"Bokeh Application\",\"version\":\"0.12.0\"}};\n",
       "            var render_items = [{\"docid\":\"9236c88e-346d-4850-87a0-0ccf28af2296\",\"elementid\":\"502304e8-3720-40d3-8ac1-1c769952db6c\",\"modelid\":\"ea88e8df-36db-48ca-a87c-6f2c5b357f45\",\"notebook_comms_target\":\"dbc1648e-caa8-453f-b81b-2a82f13f04aa\"}];\n",
       "            \n",
       "            Bokeh.embed.embed_items(docs_json, render_items);\n",
       "        });\n",
       "      },\n",
       "      function(Bokeh) {\n",
       "      }\n",
       "    ];\n",
       "  \n",
       "    function run_inline_js() {\n",
       "      for (var i = 0; i < inline_js.length; i++) {\n",
       "        inline_js[i](window.Bokeh);\n",
       "      }\n",
       "    }\n",
       "  \n",
       "    if (window._bokeh_is_loading === 0) {\n",
       "      console.log(\"Bokeh: BokehJS loaded, going straight to plotting\");\n",
       "      run_inline_js();\n",
       "    } else {\n",
       "      load_libs(js_urls, function() {\n",
       "        console.log(\"Bokeh: BokehJS plotting callback run at\", now());\n",
       "        run_inline_js();\n",
       "      });\n",
       "    }\n",
       "  }(this));\n",
       "</script>"
      ]
     },
     "metadata": {},
     "output_type": "display_data"
    },
    {
     "data": {
      "text/html": [
       "<p><code>&lt;Bokeh Notebook handle for <strong>In[12]</strong>&gt;</code></p>"
      ],
      "text/plain": [
       "<bokeh.io._CommsHandle at 0xaf4d920c>"
      ]
     },
     "execution_count": 12,
     "metadata": {},
     "output_type": "execute_result"
    }
   ],
   "source": [
    "x = tiempo\n",
    "ciudades=[\"Comodoro Rivadavia\",\"Trelew\",\"Puerto Madryn\",\"Esquel\",\"Sarmiento\",\"Rawson\",\"Dolavon\",\"Gaiman\",\"Gobernador Costa\",\"Cholila\",\"Camarones\",\"Paso de Indios\",\"Paso del Sapo\"]\n",
    "colores=[\"red\",\"orange\",\"blue\",\"green\",\"yellow\",\"pink\",\"navy\",\"firebrick\",\"cyan\",\"magenta\",\"olive\",\"#164c71\",\"#7c1b65\"]\n",
    "\n",
    "p = figure(title=\"Población - Proyección Aritmética Tasa del Último Período Censal\",plot_width=900)\n",
    "p.title.align = \"center\"\n",
    "p.title.text_color = \"blue\"\n",
    "p.title.text_font = \"times\"\n",
    "p.title.text_font_style = \"italic\"\n",
    "p.title.text_font_size = \"20px\"\n",
    "\n",
    "p.left[0].formatter.use_scientific = False\n",
    "\n",
    "for i in range(len(ciudades)):\n",
    "    p.circle(x, proyecciones[i], legend=ciudades[i],fill_color=colores[i],line_color=colores[i])\n",
    "    p.line(x, proyecciones[i], legend=ciudades[i],line_color=colores[i], line_width=2)\n",
    "\n",
    "p.xaxis.axis_label = 'Tiempo'\n",
    "p.yaxis.axis_label = 'Población'\n",
    "\n",
    "show(p)"
   ]
  },
  {
   "cell_type": "code",
   "execution_count": null,
   "metadata": {
    "collapsed": true
   },
   "outputs": [],
   "source": []
  }
 ],
 "metadata": {
  "anaconda-cloud": {},
  "kernelspec": {
   "display_name": "Python [Root]",
   "language": "python",
   "name": "Python [Root]"
  },
  "language_info": {
   "codemirror_mode": {
    "name": "ipython",
    "version": 3
   },
   "file_extension": ".py",
   "mimetype": "text/x-python",
   "name": "python",
   "nbconvert_exporter": "python",
   "pygments_lexer": "ipython3",
   "version": "3.5.2"
  }
 },
 "nbformat": 4,
 "nbformat_minor": 2
}
