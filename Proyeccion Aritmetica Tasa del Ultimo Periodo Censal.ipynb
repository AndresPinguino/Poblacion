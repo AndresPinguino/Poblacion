{
 "cells": [
  {
   "cell_type": "code",
   "execution_count": 3,
   "metadata": {
    "collapsed": false
   },
   "outputs": [
    {
     "data": {
      "text/html": [
       "<script>\n",
       "code_show=true; \n",
       "function code_toggle() {\n",
       " if (code_show){\n",
       " $('div.input').hide();\n",
       " } else {\n",
       " $('div.input').show();\n",
       " }\n",
       " code_show = !code_show\n",
       "} \n",
       "$( document ).ready(code_toggle);\n",
       "</script>\n",
       "<form action=\"javascript:code_toggle()\"><input type=\"submit\" value=\"Click aquí para ver el código.\"></form>"
      ],
      "text/plain": [
       "<IPython.core.display.HTML object>"
      ]
     },
     "execution_count": 3,
     "metadata": {},
     "output_type": "execute_result"
    }
   ],
   "source": [
    "from IPython.display import HTML\n",
    "\n",
    "HTML('''<script>\n",
    "code_show=true; \n",
    "function code_toggle() {\n",
    " if (code_show){\n",
    " $('div.input').hide();\n",
    " } else {\n",
    " $('div.input').show();\n",
    " }\n",
    " code_show = !code_show\n",
    "} \n",
    "$( document ).ready(code_toggle);\n",
    "</script>\n",
    "<form action=\"javascript:code_toggle()\"><input type=\"submit\" value=\"Click aquí para ver el código.\"></form>''')"
   ]
  },
  {
   "cell_type": "code",
   "execution_count": 4,
   "metadata": {
    "collapsed": false
   },
   "outputs": [
    {
     "data": {
      "text/html": [
       "<p align=\"center\"> <font size=\"6\" color=\"#0404B4\" face=\"sans-serif\"> <b> Proyección Aritmética Tasa del Último Período Censal <b> </font> </p>"
      ],
      "text/plain": [
       "<IPython.core.display.HTML object>"
      ]
     },
     "execution_count": 4,
     "metadata": {},
     "output_type": "execute_result"
    }
   ],
   "source": [
    "HTML(\"\"\"<p align=\"center\"> <font size=\"6\" color=\"#0404B4\" face=\"sans-serif\"> <b> Proyección Aritmética Tasa del Último Período Censal <b> </font> </p>\"\"\")"
   ]
  },
  {
   "cell_type": "markdown",
   "metadata": {},
   "source": [
    "# # Entrada de valores de los tres últimos censos"
   ]
  },
  {
   "cell_type": "code",
   "execution_count": 5,
   "metadata": {
    "collapsed": true
   },
   "outputs": [],
   "source": [
    "censos = [1991,2001,2010]\n",
    "\n",
    "poblacion0 = [125725,137061,177083] # Comodoro Rivadavia\n",
    "poblacion1 = [79340,89547,99430] # Trelew\n",
    "poblacion2 = [45047,57791,81995] # Puerto Madryn\n",
    "poblacion3 = [23411,28486,32758] # Esquel\n",
    "poblacion4 = [7209,8292,11124] # Sarmiento\n",
    "poblacion5 = [20674,26183,31787] # Rawson\n",
    "poblacion6 = [2613,2929,3307] # Dolavon\n",
    "poblacion7 = [4642,5753,6627] # Gaiman\n",
    "poblacion8 = [1913,2185,2374] # Gobernador Costa\n",
    "poblacion9 = [1527,1981,2228] # Cholila\n",
    "poblacion10 = [868,1079,1296] # Camarones\n",
    "poblacion11 = [864,1087,1264] # Paso de Indios\n",
    "poblacion12 = [322,384,396] # Paso del sapo\n",
    "poblaciones = [poblacion0, poblacion1, poblacion2, poblacion3, poblacion4, poblacion5, poblacion6, poblacion7, poblacion8, poblacion9, poblacion10, poblacion11, poblacion12]\n",
    "\n",
    "año_actual= 2017"
   ]
  },
  {
   "cell_type": "markdown",
   "metadata": {},
   "source": [
    "# # Armamos una lista de \"tiempos\""
   ]
  },
  {
   "cell_type": "code",
   "execution_count": 6,
   "metadata": {
    "collapsed": true
   },
   "outputs": [],
   "source": [
    "tiempo = [0] * 7\n",
    "for i in range(len(censos)):\n",
    "    tiempo[i] = censos[i]\n",
    "\n",
    "tiempo[3]=año_actual\n",
    "tiempo[4]=tiempo[3]+2\n",
    "tiempo[5]=tiempo[4]+10\n",
    "tiempo[6]=tiempo[5]+10"
   ]
  },
  {
   "cell_type": "markdown",
   "metadata": {},
   "source": [
    "# # Resolvemos el método devolviendo una lista de \"datos\""
   ]
  },
  {
   "cell_type": "code",
   "execution_count": 7,
   "metadata": {
    "collapsed": false
   },
   "outputs": [],
   "source": [
    "def metodo_proyeccion_aritmetica_tasa_ultimo_periodo_censal(poblacion, tiempo):\n",
    "\n",
    "    datos = [0] * 7\n",
    "    for i in range(len(poblacion)):\n",
    "        datos[i] = poblacion[i]\n",
    "\n",
    "\n",
    "    ka=(datos[2]-datos[1])/(tiempo[2]-tiempo[1])\n",
    "    ka=round(ka,4)\n",
    "\n",
    "    Pa=datos[2]+ka*(tiempo[3]-tiempo[2])\n",
    "    Pa=round(Pa,0)\n",
    "    Pa=int(Pa)\n",
    "\n",
    "\n",
    "    P0=Pa+ka*(tiempo[4]-tiempo[3])\n",
    "    P0=round(P0,0)\n",
    "    P0=int(P0)\n",
    "\n",
    "\n",
    "    P10=P0+ka*(tiempo[5]-tiempo[4])\n",
    "    P10=round(P10,0)\n",
    "    P10=int(P10)\n",
    "\n",
    "\n",
    "    P20=P10+ka*(tiempo[6]-tiempo[5])\n",
    "    P20=round(P20,0)\n",
    "    P20=int(P20)\n",
    "\n",
    "\n",
    "    datos[3]=Pa\n",
    "    datos[4]=P0\n",
    "    datos[5]=P10\n",
    "    datos[6]=P20\n",
    "\n",
    "    return datos"
   ]
  },
  {
   "cell_type": "markdown",
   "metadata": {},
   "source": [
    "# # Mostramos las listas de \"tiempo\" y \"proyecciones\" para cada \"poblacion\""
   ]
  },
  {
   "cell_type": "code",
   "execution_count": 8,
   "metadata": {
    "collapsed": false,
    "scrolled": true
   },
   "outputs": [],
   "source": [
    "proyecciones = [0] * len(poblaciones)\n",
    "\n",
    "for i in range(len(poblaciones)):\n",
    "    proyecciones[i] = metodo_proyeccion_aritmetica_tasa_ultimo_periodo_censal(poblaciones[i], tiempo)\n",
    "    #print (proyecciones[i])\n"
   ]
  },
  {
   "cell_type": "markdown",
   "metadata": {},
   "source": [
    "# # Armamos una tabla para mostrar los resultados"
   ]
  },
  {
   "cell_type": "code",
   "execution_count": 9,
   "metadata": {
    "collapsed": true
   },
   "outputs": [],
   "source": [
    "tabla = proyecciones\n",
    "tabla.reverse()\n",
    "tabla.append(tiempo)\n",
    "tabla.reverse()"
   ]
  },
  {
   "cell_type": "code",
   "execution_count": 10,
   "metadata": {
    "collapsed": true
   },
   "outputs": [],
   "source": [
    "ciudades=[\"Ciudades\",\"Comodoro Rivadavia\",\"Trelew\",\"Puerto Madryn\",\"Esquel\",\"Sarmiento\",\"Rawson\",\"Dolavon\",\"Gaiman\",\"Gobernador Costa\",\"Cholila\",\"Camarones\",\"Paso de Indios\",\"Paso del Sapo\"]"
   ]
  },
  {
   "cell_type": "code",
   "execution_count": 11,
   "metadata": {
    "collapsed": true
   },
   "outputs": [],
   "source": [
    "for i in range(len(ciudades)):\n",
    "    tabla[i].insert(0, ciudades[i])"
   ]
  },
  {
   "cell_type": "code",
   "execution_count": 12,
   "metadata": {
    "collapsed": false
   },
   "outputs": [
    {
     "data": {
      "text/html": [
       "<table><tr><td>Ciudades</td><td>1991</td><td>2001</td><td>2010</td><td>2017</td><td>2019</td><td>2029</td><td>2039</td></tr><tr><td>Comodoro Rivadavia</td><td>125725</td><td>137061</td><td>177083</td><td>208211</td><td>217105</td><td>261574</td><td>306043</td></tr><tr><td>Trelew</td><td>79340</td><td>89547</td><td>99430</td><td>107117</td><td>109313</td><td>120294</td><td>131275</td></tr><tr><td>Puerto Madryn</td><td>45047</td><td>57791</td><td>81995</td><td>100820</td><td>106199</td><td>133092</td><td>159985</td></tr><tr><td>Esquel</td><td>23411</td><td>28486</td><td>32758</td><td>36081</td><td>37030</td><td>41777</td><td>46524</td></tr><tr><td>Sarmiento</td><td>7209</td><td>8292</td><td>11124</td><td>13327</td><td>13956</td><td>17103</td><td>20250</td></tr><tr><td>Rawson</td><td>20674</td><td>26183</td><td>31787</td><td>36146</td><td>37391</td><td>43618</td><td>49845</td></tr><tr><td>Dolavon</td><td>2613</td><td>2929</td><td>3307</td><td>3601</td><td>3685</td><td>4105</td><td>4525</td></tr><tr><td>Gaiman</td><td>4642</td><td>5753</td><td>6627</td><td>7307</td><td>7501</td><td>8472</td><td>9443</td></tr><tr><td>Gobernador Costa</td><td>1913</td><td>2185</td><td>2374</td><td>2521</td><td>2563</td><td>2773</td><td>2983</td></tr><tr><td>Cholila</td><td>1527</td><td>1981</td><td>2228</td><td>2420</td><td>2475</td><td>2749</td><td>3023</td></tr><tr><td>Camarones</td><td>868</td><td>1079</td><td>1296</td><td>1465</td><td>1513</td><td>1754</td><td>1995</td></tr><tr><td>Paso de Indios</td><td>864</td><td>1087</td><td>1264</td><td>1402</td><td>1441</td><td>1638</td><td>1835</td></tr><tr><td>Paso del Sapo</td><td>322</td><td>384</td><td>396</td><td>405</td><td>408</td><td>421</td><td>434</td></tr></table>"
      ],
      "text/plain": [
       "<IPython.core.display.HTML object>"
      ]
     },
     "metadata": {},
     "output_type": "display_data"
    }
   ],
   "source": [
    "from IPython.display import HTML, display\n",
    "\n",
    "display(HTML(\n",
    "    '<table><tr>{}</tr></table>'.format(\n",
    "        '</tr><tr>'.join(\n",
    "            '<td>{}</td>'.format('</td><td>'.join(str(_) for _ in row)) for row in tabla)\n",
    "        )\n",
    " ))"
   ]
  },
  {
   "cell_type": "markdown",
   "metadata": {},
   "source": [
    "# # Importamos librerias para graficar"
   ]
  },
  {
   "cell_type": "code",
   "execution_count": 13,
   "metadata": {
    "collapsed": false
   },
   "outputs": [
    {
     "data": {
      "text/html": [
       "\n",
       "    <div class=\"bk-root\">\n",
       "        <a href=\"http://bokeh.pydata.org\" target=\"_blank\" class=\"bk-logo bk-logo-small bk-logo-notebook\"></a>\n",
       "        <span id=\"16fa77c8-c824-4d7b-95b3-a9ed5cd0e6dd\">Loading BokehJS ...</span>\n",
       "    </div>"
      ]
     },
     "metadata": {},
     "output_type": "display_data"
    },
    {
     "data": {
      "application/javascript": [
       "\n",
       "(function(global) {\n",
       "  function now() {\n",
       "    return new Date();\n",
       "  }\n",
       "\n",
       "  if (typeof (window._bokeh_onload_callbacks) === \"undefined\") {\n",
       "    window._bokeh_onload_callbacks = [];\n",
       "  }\n",
       "\n",
       "  function run_callbacks() {\n",
       "    window._bokeh_onload_callbacks.forEach(function(callback) { callback() });\n",
       "    delete window._bokeh_onload_callbacks\n",
       "    console.info(\"Bokeh: all callbacks have finished\");\n",
       "  }\n",
       "\n",
       "  function load_libs(js_urls, callback) {\n",
       "    window._bokeh_onload_callbacks.push(callback);\n",
       "    if (window._bokeh_is_loading > 0) {\n",
       "      console.log(\"Bokeh: BokehJS is being loaded, scheduling callback at\", now());\n",
       "      return null;\n",
       "    }\n",
       "    if (js_urls == null || js_urls.length === 0) {\n",
       "      run_callbacks();\n",
       "      return null;\n",
       "    }\n",
       "    console.log(\"Bokeh: BokehJS not loaded, scheduling load and callback at\", now());\n",
       "    window._bokeh_is_loading = js_urls.length;\n",
       "    for (var i = 0; i < js_urls.length; i++) {\n",
       "      var url = js_urls[i];\n",
       "      var s = document.createElement('script');\n",
       "      s.src = url;\n",
       "      s.async = false;\n",
       "      s.onreadystatechange = s.onload = function() {\n",
       "        window._bokeh_is_loading--;\n",
       "        if (window._bokeh_is_loading === 0) {\n",
       "          console.log(\"Bokeh: all BokehJS libraries loaded\");\n",
       "          run_callbacks()\n",
       "        }\n",
       "      };\n",
       "      s.onerror = function() {\n",
       "        console.warn(\"failed to load library \" + url);\n",
       "      };\n",
       "      console.log(\"Bokeh: injecting script tag for BokehJS library: \", url);\n",
       "      document.getElementsByTagName(\"head\")[0].appendChild(s);\n",
       "    }\n",
       "  };\n",
       "\n",
       "  var js_urls = ['https://cdn.pydata.org/bokeh/release/bokeh-0.12.0.min.js', 'https://cdn.pydata.org/bokeh/release/bokeh-widgets-0.12.0.min.js', 'https://cdn.pydata.org/bokeh/release/bokeh-compiler-0.12.0.min.js'];\n",
       "\n",
       "  var inline_js = [\n",
       "    function(Bokeh) {\n",
       "      Bokeh.set_log_level(\"info\");\n",
       "    },\n",
       "    \n",
       "    function(Bokeh) {\n",
       "      Bokeh.$(\"#16fa77c8-c824-4d7b-95b3-a9ed5cd0e6dd\").text(\"BokehJS successfully loaded\");\n",
       "    },\n",
       "    function(Bokeh) {\n",
       "      console.log(\"Bokeh: injecting CSS: https://cdn.pydata.org/bokeh/release/bokeh-0.12.0.min.css\");\n",
       "      Bokeh.embed.inject_css(\"https://cdn.pydata.org/bokeh/release/bokeh-0.12.0.min.css\");\n",
       "      console.log(\"Bokeh: injecting CSS: https://cdn.pydata.org/bokeh/release/bokeh-widgets-0.12.0.min.css\");\n",
       "      Bokeh.embed.inject_css(\"https://cdn.pydata.org/bokeh/release/bokeh-widgets-0.12.0.min.css\");\n",
       "    }\n",
       "  ];\n",
       "\n",
       "  function run_inline_js() {\n",
       "    for (var i = 0; i < inline_js.length; i++) {\n",
       "      inline_js[i](window.Bokeh);\n",
       "    }\n",
       "  }\n",
       "\n",
       "  if (window._bokeh_is_loading === 0) {\n",
       "    console.log(\"Bokeh: BokehJS loaded, going straight to plotting\");\n",
       "    run_inline_js();\n",
       "  } else {\n",
       "    load_libs(js_urls, function() {\n",
       "      console.log(\"Bokeh: BokehJS plotting callback run at\", now());\n",
       "      run_inline_js();\n",
       "    });\n",
       "  }\n",
       "}(this));"
      ]
     },
     "metadata": {},
     "output_type": "display_data"
    }
   ],
   "source": [
    "from bokeh.io import push_notebook, show, output_notebook\n",
    "from bokeh.plotting import figure\n",
    "output_notebook()"
   ]
  },
  {
   "cell_type": "markdown",
   "metadata": {},
   "source": [
    "# # Definimos estilos para usar en los gráficos"
   ]
  },
  {
   "cell_type": "code",
   "execution_count": 14,
   "metadata": {
    "collapsed": false
   },
   "outputs": [
    {
     "data": {
      "text/html": [
       "\n",
       "\n",
       "    <div class=\"bk-root\">\n",
       "        <div class=\"plotdiv\" id=\"de95d886-50d3-4eef-9835-1da5b39bfc1c\"></div>\n",
       "    </div>\n",
       "<script type=\"text/javascript\">\n",
       "  \n",
       "  (function(global) {\n",
       "    function now() {\n",
       "      return new Date();\n",
       "    }\n",
       "  \n",
       "    if (typeof (window._bokeh_onload_callbacks) === \"undefined\") {\n",
       "      window._bokeh_onload_callbacks = [];\n",
       "    }\n",
       "  \n",
       "    function run_callbacks() {\n",
       "      window._bokeh_onload_callbacks.forEach(function(callback) { callback() });\n",
       "      delete window._bokeh_onload_callbacks\n",
       "      console.info(\"Bokeh: all callbacks have finished\");\n",
       "    }\n",
       "  \n",
       "    function load_libs(js_urls, callback) {\n",
       "      window._bokeh_onload_callbacks.push(callback);\n",
       "      if (window._bokeh_is_loading > 0) {\n",
       "        console.log(\"Bokeh: BokehJS is being loaded, scheduling callback at\", now());\n",
       "        return null;\n",
       "      }\n",
       "      if (js_urls == null || js_urls.length === 0) {\n",
       "        run_callbacks();\n",
       "        return null;\n",
       "      }\n",
       "      console.log(\"Bokeh: BokehJS not loaded, scheduling load and callback at\", now());\n",
       "      window._bokeh_is_loading = js_urls.length;\n",
       "      for (var i = 0; i < js_urls.length; i++) {\n",
       "        var url = js_urls[i];\n",
       "        var s = document.createElement('script');\n",
       "        s.src = url;\n",
       "        s.async = false;\n",
       "        s.onreadystatechange = s.onload = function() {\n",
       "          window._bokeh_is_loading--;\n",
       "          if (window._bokeh_is_loading === 0) {\n",
       "            console.log(\"Bokeh: all BokehJS libraries loaded\");\n",
       "            run_callbacks()\n",
       "          }\n",
       "        };\n",
       "        s.onerror = function() {\n",
       "          console.warn(\"failed to load library \" + url);\n",
       "        };\n",
       "        console.log(\"Bokeh: injecting script tag for BokehJS library: \", url);\n",
       "        document.getElementsByTagName(\"head\")[0].appendChild(s);\n",
       "      }\n",
       "    };var element = document.getElementById(\"de95d886-50d3-4eef-9835-1da5b39bfc1c\");\n",
       "    if (element == null) {\n",
       "      console.log(\"Bokeh: ERROR: autoload.js configured with elementid 'de95d886-50d3-4eef-9835-1da5b39bfc1c' but no matching script tag was found. \")\n",
       "      return false;\n",
       "    }\n",
       "  \n",
       "    var js_urls = [];\n",
       "  \n",
       "    var inline_js = [\n",
       "      function(Bokeh) {\n",
       "        Bokeh.$(function() {\n",
       "            var docs_json = {\"c63fe3b5-aa12-4123-804e-82041300f6c0\":{\"roots\":{\"references\":[{\"attributes\":{\"callback\":null,\"column_names\":[\"y\",\"x\"],\"data\":{\"x\":[\"Ciudades\",\"1991\",\"2001\",\"2010\",\"2017\",\"2019\",\"2029\",\"2039\"],\"y\":[\"Gaiman\",\"4642\",\"5753\",\"6627\",\"7307\",\"7501\",\"8472\",\"9443\"]}},\"id\":\"62eed29b-fe9c-40e9-848b-7f868534b952\",\"type\":\"ColumnDataSource\"},{\"attributes\":{\"axis_label\":\"Poblaci\\u00f3n\",\"formatter\":{\"id\":\"d6d69cfb-48d1-450e-afe7-73b1906d138d\",\"type\":\"BasicTickFormatter\"},\"plot\":{\"id\":\"29e81ace-f0e1-431a-81c3-7b4d70bb38b8\",\"subtype\":\"Figure\",\"type\":\"Plot\"},\"ticker\":{\"id\":\"c3d9fdbe-adce-42a6-9c54-84f89639de2c\",\"type\":\"BasicTicker\"}},\"id\":\"8d23b90e-698f-4f6c-b225-ecaa25b7cacb\",\"type\":\"LinearAxis\"},{\"attributes\":{\"line_color\":{\"value\":\"navy\"},\"line_width\":{\"value\":2},\"x\":{\"field\":\"x\"},\"y\":{\"field\":\"y\"}},\"id\":\"8fd0721e-053a-4d6f-8ad4-5bf088857873\",\"type\":\"Line\"},{\"attributes\":{\"fill_alpha\":{\"value\":0.1},\"fill_color\":{\"value\":\"#1f77b4\"},\"line_alpha\":{\"value\":0.1},\"line_color\":{\"value\":\"#1f77b4\"},\"x\":{\"field\":\"x\"},\"y\":{\"field\":\"y\"}},\"id\":\"6a075614-eb04-4af0-a19e-bd201013af65\",\"type\":\"Circle\"},{\"attributes\":{\"data_source\":{\"id\":\"6c1e0a59-d30b-4f08-9982-d3dba0bd4d09\",\"type\":\"ColumnDataSource\"},\"glyph\":{\"id\":\"660ce4de-759a-4c13-b60e-51388eab48b4\",\"type\":\"Circle\"},\"hover_glyph\":null,\"nonselection_glyph\":{\"id\":\"62b4de00-0dc3-452e-b079-61ae8917564d\",\"type\":\"Circle\"},\"selection_glyph\":null},\"id\":\"622eee83-ae0e-4940-aa72-60135f7288e4\",\"type\":\"GlyphRenderer\"},{\"attributes\":{\"line_color\":{\"value\":\"yellow\"},\"line_width\":{\"value\":2},\"x\":{\"field\":\"x\"},\"y\":{\"field\":\"y\"}},\"id\":\"59952b7a-a436-4883-97b2-e5179c1dac37\",\"type\":\"Line\"},{\"attributes\":{\"fill_color\":{\"value\":\"green\"},\"line_color\":{\"value\":\"green\"},\"x\":{\"field\":\"x\"},\"y\":{\"field\":\"y\"}},\"id\":\"a37b8a2d-4ec5-4907-b8c2-6c642666c3e8\",\"type\":\"Circle\"},{\"attributes\":{\"line_alpha\":{\"value\":0.1},\"line_color\":{\"value\":\"#1f77b4\"},\"line_width\":{\"value\":2},\"x\":{\"field\":\"x\"},\"y\":{\"field\":\"y\"}},\"id\":\"9fc73298-c82d-4731-beb9-20ffe0ea369a\",\"type\":\"Line\"},{\"attributes\":{\"callback\":null,\"column_names\":[\"y\",\"x\"],\"data\":{\"x\":[\"Ciudades\",\"1991\",\"2001\",\"2010\",\"2017\",\"2019\",\"2029\",\"2039\"],\"y\":[\"Trelew\",\"79340\",\"89547\",\"99430\",\"107117\",\"109313\",\"120294\",\"131275\"]}},\"id\":\"27a5799b-c0a9-4766-9570-d6b7be477228\",\"type\":\"ColumnDataSource\"},{\"attributes\":{\"fill_color\":{\"value\":\"#7c1b65\"},\"line_color\":{\"value\":\"#7c1b65\"},\"x\":{\"field\":\"x\"},\"y\":{\"field\":\"y\"}},\"id\":\"7f56cb00-d784-4b23-a7e5-e883767cfc77\",\"type\":\"Circle\"},{\"attributes\":{\"callback\":null,\"column_names\":[\"y\",\"x\"],\"data\":{\"x\":[\"Ciudades\",\"1991\",\"2001\",\"2010\",\"2017\",\"2019\",\"2029\",\"2039\"],\"y\":[\"Paso de Indios\",\"864\",\"1087\",\"1264\",\"1402\",\"1441\",\"1638\",\"1835\"]}},\"id\":\"d9294c68-5d78-4842-a052-e45197991c4f\",\"type\":\"ColumnDataSource\"},{\"attributes\":{\"fill_alpha\":{\"value\":0.1},\"fill_color\":{\"value\":\"#1f77b4\"},\"line_alpha\":{\"value\":0.1},\"line_color\":{\"value\":\"#1f77b4\"},\"x\":{\"field\":\"x\"},\"y\":{\"field\":\"y\"}},\"id\":\"c55c6310-84e9-4ee1-9042-1cd231e65d25\",\"type\":\"Circle\"},{\"attributes\":{\"line_color\":{\"value\":\"cyan\"},\"line_width\":{\"value\":2},\"x\":{\"field\":\"x\"},\"y\":{\"field\":\"y\"}},\"id\":\"37bdcf17-c78e-46cd-bee3-6647f1df8148\",\"type\":\"Line\"},{\"attributes\":{\"fill_color\":{\"value\":\"firebrick\"},\"line_color\":{\"value\":\"firebrick\"},\"x\":{\"field\":\"x\"},\"y\":{\"field\":\"y\"}},\"id\":\"0217a307-3ac6-4f2d-b32c-51e8462f8a8b\",\"type\":\"Circle\"},{\"attributes\":{\"callback\":null,\"column_names\":[\"y\",\"x\"],\"data\":{\"x\":[\"Ciudades\",\"1991\",\"2001\",\"2010\",\"2017\",\"2019\",\"2029\",\"2039\"],\"y\":[\"Comodoro Rivadavia\",\"125725\",\"137061\",\"177083\",\"208211\",\"217105\",\"261574\",\"306043\"]}},\"id\":\"4e1ee720-fd48-4829-a3b8-2e74ffbcd267\",\"type\":\"ColumnDataSource\"},{\"attributes\":{\"line_alpha\":{\"value\":0.1},\"line_color\":{\"value\":\"#1f77b4\"},\"line_width\":{\"value\":2},\"x\":{\"field\":\"x\"},\"y\":{\"field\":\"y\"}},\"id\":\"d594ae26-9c75-458e-bc08-9f1fd455be93\",\"type\":\"Line\"},{\"attributes\":{},\"id\":\"c3d9fdbe-adce-42a6-9c54-84f89639de2c\",\"type\":\"BasicTicker\"},{\"attributes\":{\"legends\":[[\"Comodoro Rivadavia\",[{\"id\":\"6e942e84-12f3-4eb3-9887-19d7925d0c65\",\"type\":\"GlyphRenderer\"},{\"id\":\"8def37a1-2330-40fc-8956-56bef4584b64\",\"type\":\"GlyphRenderer\"}]],[\"Trelew\",[{\"id\":\"76c7b90b-66a5-4f21-a708-921aa956269b\",\"type\":\"GlyphRenderer\"},{\"id\":\"49cefd07-bccb-454a-8b58-66e312237543\",\"type\":\"GlyphRenderer\"}]],[\"Puerto Madryn\",[{\"id\":\"bd8b54bf-b6c4-4809-b9d6-b48a4889735d\",\"type\":\"GlyphRenderer\"},{\"id\":\"412f454d-3dbc-4909-9b01-728fcdbaee45\",\"type\":\"GlyphRenderer\"}]],[\"Esquel\",[{\"id\":\"c64f0a3d-eb4a-48c8-aeac-dfe9ce06d43a\",\"type\":\"GlyphRenderer\"},{\"id\":\"c93ab714-abca-42e3-8912-866329560416\",\"type\":\"GlyphRenderer\"}]],[\"Sarmiento\",[{\"id\":\"1d74f5e3-10f8-4730-97d4-a8dfd308d42d\",\"type\":\"GlyphRenderer\"},{\"id\":\"04e24f9e-fc54-4c65-b771-263ecbb8d352\",\"type\":\"GlyphRenderer\"}]],[\"Rawson\",[{\"id\":\"99fa2351-6923-47b5-b2cb-6483b29f8abc\",\"type\":\"GlyphRenderer\"},{\"id\":\"e801303b-acf7-4037-9966-8ede248f253b\",\"type\":\"GlyphRenderer\"}]],[\"Dolavon\",[{\"id\":\"04329f05-0a4d-46bf-87c1-bab24e9e024b\",\"type\":\"GlyphRenderer\"},{\"id\":\"d46bd684-b091-4849-af4f-5a59fe9720c5\",\"type\":\"GlyphRenderer\"}]],[\"Gaiman\",[{\"id\":\"12eeb2fe-f91f-47d9-b619-312015700f3b\",\"type\":\"GlyphRenderer\"},{\"id\":\"c2d5f2a7-15d6-47d3-b577-bb4fe6a97416\",\"type\":\"GlyphRenderer\"}]],[\"Gobernador Costa\",[{\"id\":\"842ed46a-9f5e-4cd3-8a89-bdbdbe9dceab\",\"type\":\"GlyphRenderer\"},{\"id\":\"8a1b2ac6-f2e2-4794-89db-733039eff1f5\",\"type\":\"GlyphRenderer\"}]],[\"Cholila\",[{\"id\":\"eafbb9e5-77aa-4d42-a4af-e2b2662b90fd\",\"type\":\"GlyphRenderer\"},{\"id\":\"aa79cc36-bf1e-44b0-8881-0b157d14bb22\",\"type\":\"GlyphRenderer\"}]],[\"Camarones\",[{\"id\":\"622eee83-ae0e-4940-aa72-60135f7288e4\",\"type\":\"GlyphRenderer\"},{\"id\":\"0633e06a-2db1-4278-a2d6-64335b308727\",\"type\":\"GlyphRenderer\"}]],[\"Paso de Indios\",[{\"id\":\"9c243578-934c-4e5c-96d1-85557876ce43\",\"type\":\"GlyphRenderer\"},{\"id\":\"12307034-ff9f-41b1-89e5-a29ba8975a5c\",\"type\":\"GlyphRenderer\"}]],[\"Paso del Sapo\",[{\"id\":\"5499f44b-eb87-4b42-9bd7-b9f4d05c63e8\",\"type\":\"GlyphRenderer\"},{\"id\":\"ceab888c-027c-4a0b-81be-834793c2e42f\",\"type\":\"GlyphRenderer\"}]]],\"plot\":{\"id\":\"29e81ace-f0e1-431a-81c3-7b4d70bb38b8\",\"subtype\":\"Figure\",\"type\":\"Plot\"}},\"id\":\"ecf72ad6-589f-403e-b638-3ede09254af4\",\"type\":\"Legend\"},{\"attributes\":{\"data_source\":{\"id\":\"1d5faa9b-28c5-4d37-b870-a0eec48056f3\",\"type\":\"ColumnDataSource\"},\"glyph\":{\"id\":\"85eb6e38-6629-465a-9cf0-5ecbb5315e46\",\"type\":\"Circle\"},\"hover_glyph\":null,\"nonselection_glyph\":{\"id\":\"6ec87caf-7db1-4940-bf92-9c69aeeef0d0\",\"type\":\"Circle\"},\"selection_glyph\":null},\"id\":\"6e942e84-12f3-4eb3-9887-19d7925d0c65\",\"type\":\"GlyphRenderer\"},{\"attributes\":{\"callback\":null,\"column_names\":[\"y\",\"x\"],\"data\":{\"x\":[\"Ciudades\",\"1991\",\"2001\",\"2010\",\"2017\",\"2019\",\"2029\",\"2039\"],\"y\":[\"Rawson\",\"20674\",\"26183\",\"31787\",\"36146\",\"37391\",\"43618\",\"49845\"]}},\"id\":\"b70ff854-7c72-4c9a-9769-90f8bff9106d\",\"type\":\"ColumnDataSource\"},{\"attributes\":{\"align\":\"center\",\"plot\":null,\"text\":\"Poblaci\\u00f3n - Proyecci\\u00f3n Aritm\\u00e9tica Tasa del \\u00daltimo Per\\u00edodo Censal\",\"text_color\":{\"value\":\"blue\"},\"text_font\":\"times\",\"text_font_size\":{\"value\":\"20px\"},\"text_font_style\":\"italic\"},\"id\":\"07e65a5f-612c-4cdc-a9b7-6d373676e319\",\"type\":\"Title\"},{\"attributes\":{\"data_source\":{\"id\":\"d9294c68-5d78-4842-a052-e45197991c4f\",\"type\":\"ColumnDataSource\"},\"glyph\":{\"id\":\"a522e935-3b41-4410-bf26-a0452b990c1b\",\"type\":\"Line\"},\"hover_glyph\":null,\"nonselection_glyph\":{\"id\":\"50b30035-236a-4152-82d7-97ab97a0eb83\",\"type\":\"Line\"},\"selection_glyph\":null},\"id\":\"ceab888c-027c-4a0b-81be-834793c2e42f\",\"type\":\"GlyphRenderer\"},{\"attributes\":{\"fill_alpha\":{\"value\":0.1},\"fill_color\":{\"value\":\"#1f77b4\"},\"line_alpha\":{\"value\":0.1},\"line_color\":{\"value\":\"#1f77b4\"},\"x\":{\"field\":\"x\"},\"y\":{\"field\":\"y\"}},\"id\":\"21b7f9ab-d07b-4f03-91c9-59dea24eee4b\",\"type\":\"Circle\"},{\"attributes\":{\"plot\":{\"id\":\"29e81ace-f0e1-431a-81c3-7b4d70bb38b8\",\"subtype\":\"Figure\",\"type\":\"Plot\"}},\"id\":\"9abfacb4-a02c-4915-95f8-73279404c918\",\"type\":\"ResetTool\"},{\"attributes\":{\"below\":[{\"id\":\"50cdbc10-b1d3-4824-b17b-f6a1a2dd17e5\",\"type\":\"LinearAxis\"}],\"left\":[{\"id\":\"8d23b90e-698f-4f6c-b225-ecaa25b7cacb\",\"type\":\"LinearAxis\"}],\"plot_width\":900,\"renderers\":[{\"id\":\"50cdbc10-b1d3-4824-b17b-f6a1a2dd17e5\",\"type\":\"LinearAxis\"},{\"id\":\"0a7c843a-a217-4e55-9d1e-056d9e9e2caf\",\"type\":\"Grid\"},{\"id\":\"8d23b90e-698f-4f6c-b225-ecaa25b7cacb\",\"type\":\"LinearAxis\"},{\"id\":\"9ac7a6d0-b01f-4544-8ff8-6e15ba009bc9\",\"type\":\"Grid\"},{\"id\":\"b1890f9c-6f43-42b5-9eac-b5bb50a3f13a\",\"type\":\"BoxAnnotation\"},{\"id\":\"ecf72ad6-589f-403e-b638-3ede09254af4\",\"type\":\"Legend\"},{\"id\":\"6e942e84-12f3-4eb3-9887-19d7925d0c65\",\"type\":\"GlyphRenderer\"},{\"id\":\"8def37a1-2330-40fc-8956-56bef4584b64\",\"type\":\"GlyphRenderer\"},{\"id\":\"76c7b90b-66a5-4f21-a708-921aa956269b\",\"type\":\"GlyphRenderer\"},{\"id\":\"49cefd07-bccb-454a-8b58-66e312237543\",\"type\":\"GlyphRenderer\"},{\"id\":\"bd8b54bf-b6c4-4809-b9d6-b48a4889735d\",\"type\":\"GlyphRenderer\"},{\"id\":\"412f454d-3dbc-4909-9b01-728fcdbaee45\",\"type\":\"GlyphRenderer\"},{\"id\":\"c64f0a3d-eb4a-48c8-aeac-dfe9ce06d43a\",\"type\":\"GlyphRenderer\"},{\"id\":\"c93ab714-abca-42e3-8912-866329560416\",\"type\":\"GlyphRenderer\"},{\"id\":\"1d74f5e3-10f8-4730-97d4-a8dfd308d42d\",\"type\":\"GlyphRenderer\"},{\"id\":\"04e24f9e-fc54-4c65-b771-263ecbb8d352\",\"type\":\"GlyphRenderer\"},{\"id\":\"99fa2351-6923-47b5-b2cb-6483b29f8abc\",\"type\":\"GlyphRenderer\"},{\"id\":\"e801303b-acf7-4037-9966-8ede248f253b\",\"type\":\"GlyphRenderer\"},{\"id\":\"04329f05-0a4d-46bf-87c1-bab24e9e024b\",\"type\":\"GlyphRenderer\"},{\"id\":\"d46bd684-b091-4849-af4f-5a59fe9720c5\",\"type\":\"GlyphRenderer\"},{\"id\":\"12eeb2fe-f91f-47d9-b619-312015700f3b\",\"type\":\"GlyphRenderer\"},{\"id\":\"c2d5f2a7-15d6-47d3-b577-bb4fe6a97416\",\"type\":\"GlyphRenderer\"},{\"id\":\"842ed46a-9f5e-4cd3-8a89-bdbdbe9dceab\",\"type\":\"GlyphRenderer\"},{\"id\":\"8a1b2ac6-f2e2-4794-89db-733039eff1f5\",\"type\":\"GlyphRenderer\"},{\"id\":\"eafbb9e5-77aa-4d42-a4af-e2b2662b90fd\",\"type\":\"GlyphRenderer\"},{\"id\":\"aa79cc36-bf1e-44b0-8881-0b157d14bb22\",\"type\":\"GlyphRenderer\"},{\"id\":\"622eee83-ae0e-4940-aa72-60135f7288e4\",\"type\":\"GlyphRenderer\"},{\"id\":\"0633e06a-2db1-4278-a2d6-64335b308727\",\"type\":\"GlyphRenderer\"},{\"id\":\"9c243578-934c-4e5c-96d1-85557876ce43\",\"type\":\"GlyphRenderer\"},{\"id\":\"12307034-ff9f-41b1-89e5-a29ba8975a5c\",\"type\":\"GlyphRenderer\"},{\"id\":\"5499f44b-eb87-4b42-9bd7-b9f4d05c63e8\",\"type\":\"GlyphRenderer\"},{\"id\":\"ceab888c-027c-4a0b-81be-834793c2e42f\",\"type\":\"GlyphRenderer\"}],\"title\":{\"id\":\"07e65a5f-612c-4cdc-a9b7-6d373676e319\",\"type\":\"Title\"},\"tool_events\":{\"id\":\"b6af1678-3c5f-43c9-880c-4981734e78a3\",\"type\":\"ToolEvents\"},\"toolbar\":{\"id\":\"1ccf5578-051e-4286-ba66-7e1102dbe11e\",\"type\":\"Toolbar\"},\"x_range\":{\"id\":\"65e44352-a8a2-4c01-8aaf-3f7720928304\",\"type\":\"DataRange1d\"},\"y_range\":{\"id\":\"506288be-c296-41a0-8503-84cfe6940d5a\",\"type\":\"DataRange1d\"}},\"id\":\"29e81ace-f0e1-431a-81c3-7b4d70bb38b8\",\"subtype\":\"Figure\",\"type\":\"Plot\"},{\"attributes\":{\"callback\":null,\"column_names\":[\"y\",\"x\"],\"data\":{\"x\":[\"Ciudades\",\"1991\",\"2001\",\"2010\",\"2017\",\"2019\",\"2029\",\"2039\"],\"y\":[\"Sarmiento\",\"7209\",\"8292\",\"11124\",\"13327\",\"13956\",\"17103\",\"20250\"]}},\"id\":\"bb551509-68f9-4782-b810-ad97f5346153\",\"type\":\"ColumnDataSource\"},{\"attributes\":{\"data_source\":{\"id\":\"14269849-985f-45fd-beba-da9e9180f925\",\"type\":\"ColumnDataSource\"},\"glyph\":{\"id\":\"c2ba71b5-5a55-4f10-bc48-4e0c73fff702\",\"type\":\"Line\"},\"hover_glyph\":null,\"nonselection_glyph\":{\"id\":\"af2b1999-a71f-4e75-a2a7-0dd0c61e2ebf\",\"type\":\"Line\"},\"selection_glyph\":null},\"id\":\"8def37a1-2330-40fc-8956-56bef4584b64\",\"type\":\"GlyphRenderer\"},{\"attributes\":{\"fill_alpha\":{\"value\":0.1},\"fill_color\":{\"value\":\"#1f77b4\"},\"line_alpha\":{\"value\":0.1},\"line_color\":{\"value\":\"#1f77b4\"},\"x\":{\"field\":\"x\"},\"y\":{\"field\":\"y\"}},\"id\":\"f84d5a09-230b-4cbc-820b-e03fd5705519\",\"type\":\"Circle\"},{\"attributes\":{\"line_color\":{\"value\":\"orange\"},\"line_width\":{\"value\":2},\"x\":{\"field\":\"x\"},\"y\":{\"field\":\"y\"}},\"id\":\"be958e85-e9a7-4273-8876-fed59e41bad8\",\"type\":\"Line\"},{\"attributes\":{},\"id\":\"0086b292-5193-42ae-b593-0e6884f6143f\",\"type\":\"BasicTickFormatter\"},{\"attributes\":{\"callback\":null,\"column_names\":[\"y\",\"x\"],\"data\":{\"x\":[\"Ciudades\",\"1991\",\"2001\",\"2010\",\"2017\",\"2019\",\"2029\",\"2039\"],\"y\":[\"Gaiman\",\"4642\",\"5753\",\"6627\",\"7307\",\"7501\",\"8472\",\"9443\"]}},\"id\":\"54c8ec0d-25d4-40c4-962f-998b59782be1\",\"type\":\"ColumnDataSource\"},{\"attributes\":{\"data_source\":{\"id\":\"8f83ec6f-6e76-4e26-bee9-ae092ac38764\",\"type\":\"ColumnDataSource\"},\"glyph\":{\"id\":\"e7927764-83bc-45de-a11b-896a904b26d0\",\"type\":\"Line\"},\"hover_glyph\":null,\"nonselection_glyph\":{\"id\":\"a82f82b7-4cf2-4ad1-b9d8-2b8c1bbe40ce\",\"type\":\"Line\"},\"selection_glyph\":null},\"id\":\"aa79cc36-bf1e-44b0-8881-0b157d14bb22\",\"type\":\"GlyphRenderer\"},{\"attributes\":{\"callback\":null,\"column_names\":[\"y\",\"x\"],\"data\":{\"x\":[\"Ciudades\",\"1991\",\"2001\",\"2010\",\"2017\",\"2019\",\"2029\",\"2039\"],\"y\":[\"Sarmiento\",\"7209\",\"8292\",\"11124\",\"13327\",\"13956\",\"17103\",\"20250\"]}},\"id\":\"0371084c-b630-477c-ba96-65abe5d0eba5\",\"type\":\"ColumnDataSource\"},{\"attributes\":{\"plot\":{\"id\":\"29e81ace-f0e1-431a-81c3-7b4d70bb38b8\",\"subtype\":\"Figure\",\"type\":\"Plot\"}},\"id\":\"ad6e8392-fe68-43cc-acde-c404a1b5209a\",\"type\":\"PanTool\"},{\"attributes\":{\"line_color\":{\"value\":\"pink\"},\"line_width\":{\"value\":2},\"x\":{\"field\":\"x\"},\"y\":{\"field\":\"y\"}},\"id\":\"ae943520-358e-4c83-9dd9-210e962a1499\",\"type\":\"Line\"},{\"attributes\":{\"bottom_units\":\"screen\",\"fill_alpha\":{\"value\":0.5},\"fill_color\":{\"value\":\"lightgrey\"},\"left_units\":\"screen\",\"level\":\"overlay\",\"line_alpha\":{\"value\":1.0},\"line_color\":{\"value\":\"black\"},\"line_dash\":[4,4],\"line_width\":{\"value\":2},\"plot\":null,\"render_mode\":\"css\",\"right_units\":\"screen\",\"top_units\":\"screen\"},\"id\":\"b1890f9c-6f43-42b5-9eac-b5bb50a3f13a\",\"type\":\"BoxAnnotation\"},{\"attributes\":{\"callback\":null,\"column_names\":[\"y\",\"x\"],\"data\":{\"x\":[\"Ciudades\",\"1991\",\"2001\",\"2010\",\"2017\",\"2019\",\"2029\",\"2039\"],\"y\":[\"Ciudades\",\"1991\",\"2001\",\"2010\",\"2017\",\"2019\",\"2029\",\"2039\"]}},\"id\":\"1d5faa9b-28c5-4d37-b870-a0eec48056f3\",\"type\":\"ColumnDataSource\"},{\"attributes\":{\"data_source\":{\"id\":\"009b162d-ff7e-411f-a234-de6ca9c16468\",\"type\":\"ColumnDataSource\"},\"glyph\":{\"id\":\"be958e85-e9a7-4273-8876-fed59e41bad8\",\"type\":\"Line\"},\"hover_glyph\":null,\"nonselection_glyph\":{\"id\":\"a102e6ba-5b76-49a5-83b5-3e78a2588b4d\",\"type\":\"Line\"},\"selection_glyph\":null},\"id\":\"49cefd07-bccb-454a-8b58-66e312237543\",\"type\":\"GlyphRenderer\"},{\"attributes\":{\"fill_alpha\":{\"value\":0.1},\"fill_color\":{\"value\":\"#1f77b4\"},\"line_alpha\":{\"value\":0.1},\"line_color\":{\"value\":\"#1f77b4\"},\"x\":{\"field\":\"x\"},\"y\":{\"field\":\"y\"}},\"id\":\"cf607846-e230-4574-a571-07d0fbf26833\",\"type\":\"Circle\"},{\"attributes\":{\"fill_color\":{\"value\":\"yellow\"},\"line_color\":{\"value\":\"yellow\"},\"x\":{\"field\":\"x\"},\"y\":{\"field\":\"y\"}},\"id\":\"de16d830-cdf3-4c4d-b6c5-eb70c4f1b13a\",\"type\":\"Circle\"},{\"attributes\":{\"fill_alpha\":{\"value\":0.1},\"fill_color\":{\"value\":\"#1f77b4\"},\"line_alpha\":{\"value\":0.1},\"line_color\":{\"value\":\"#1f77b4\"},\"x\":{\"field\":\"x\"},\"y\":{\"field\":\"y\"}},\"id\":\"97710f7c-142e-4a6c-92e9-f6653ce2645d\",\"type\":\"Circle\"},{\"attributes\":{\"callback\":null,\"column_names\":[\"y\",\"x\"],\"data\":{\"x\":[\"Ciudades\",\"1991\",\"2001\",\"2010\",\"2017\",\"2019\",\"2029\",\"2039\"],\"y\":[\"Trelew\",\"79340\",\"89547\",\"99430\",\"107117\",\"109313\",\"120294\",\"131275\"]}},\"id\":\"7e19f213-fa86-4cb9-86d3-8e7a5959e5a9\",\"type\":\"ColumnDataSource\"},{\"attributes\":{\"data_source\":{\"id\":\"0371084c-b630-477c-ba96-65abe5d0eba5\",\"type\":\"ColumnDataSource\"},\"glyph\":{\"id\":\"ae943520-358e-4c83-9dd9-210e962a1499\",\"type\":\"Line\"},\"hover_glyph\":null,\"nonselection_glyph\":{\"id\":\"c9a0b853-8ec0-4977-8bb1-f1cf86e23643\",\"type\":\"Line\"},\"selection_glyph\":null},\"id\":\"e801303b-acf7-4037-9966-8ede248f253b\",\"type\":\"GlyphRenderer\"},{\"attributes\":{\"line_color\":{\"value\":\"#164c71\"},\"line_width\":{\"value\":2},\"x\":{\"field\":\"x\"},\"y\":{\"field\":\"y\"}},\"id\":\"d403f58d-4ba2-4bf2-a9d8-9f0e2871839d\",\"type\":\"Line\"},{\"attributes\":{\"fill_color\":{\"value\":\"cyan\"},\"line_color\":{\"value\":\"cyan\"},\"x\":{\"field\":\"x\"},\"y\":{\"field\":\"y\"}},\"id\":\"ed063282-fcec-42d3-9509-26bb17557720\",\"type\":\"Circle\"},{\"attributes\":{\"fill_color\":{\"value\":\"magenta\"},\"line_color\":{\"value\":\"magenta\"},\"x\":{\"field\":\"x\"},\"y\":{\"field\":\"y\"}},\"id\":\"4580c0ec-8f9f-4dce-9db3-7913dc9522af\",\"type\":\"Circle\"},{\"attributes\":{\"line_alpha\":{\"value\":0.1},\"line_color\":{\"value\":\"#1f77b4\"},\"line_width\":{\"value\":2},\"x\":{\"field\":\"x\"},\"y\":{\"field\":\"y\"}},\"id\":\"c9a0b853-8ec0-4977-8bb1-f1cf86e23643\",\"type\":\"Line\"},{\"attributes\":{\"callback\":null,\"column_names\":[\"y\",\"x\"],\"data\":{\"x\":[\"Ciudades\",\"1991\",\"2001\",\"2010\",\"2017\",\"2019\",\"2029\",\"2039\"],\"y\":[\"Esquel\",\"23411\",\"28486\",\"32758\",\"36081\",\"37030\",\"41777\",\"46524\"]}},\"id\":\"3fa7908d-3137-439e-8ed2-a3ec1ba8fae9\",\"type\":\"ColumnDataSource\"},{\"attributes\":{\"callback\":null,\"column_names\":[\"y\",\"x\"],\"data\":{\"x\":[\"Ciudades\",\"1991\",\"2001\",\"2010\",\"2017\",\"2019\",\"2029\",\"2039\"],\"y\":[\"Rawson\",\"20674\",\"26183\",\"31787\",\"36146\",\"37391\",\"43618\",\"49845\"]}},\"id\":\"f1eb8c24-cc3a-4103-8913-91fe44fb28c1\",\"type\":\"ColumnDataSource\"},{\"attributes\":{\"active_drag\":\"auto\",\"active_scroll\":\"auto\",\"active_tap\":\"auto\",\"tools\":[{\"id\":\"ad6e8392-fe68-43cc-acde-c404a1b5209a\",\"type\":\"PanTool\"},{\"id\":\"14f2617e-93e7-4ef8-a33d-11f482f6109c\",\"type\":\"WheelZoomTool\"},{\"id\":\"df71afef-0a87-4932-a035-588e3de4a9e0\",\"type\":\"BoxZoomTool\"},{\"id\":\"e1c1d6ee-ba50-47da-8518-38594571bfc5\",\"type\":\"SaveTool\"},{\"id\":\"9abfacb4-a02c-4915-95f8-73279404c918\",\"type\":\"ResetTool\"},{\"id\":\"786fdec8-5488-4b05-adfb-ba83de8db700\",\"type\":\"HelpTool\"}]},\"id\":\"1ccf5578-051e-4286-ba66-7e1102dbe11e\",\"type\":\"Toolbar\"},{\"attributes\":{\"line_alpha\":{\"value\":0.1},\"line_color\":{\"value\":\"#1f77b4\"},\"line_width\":{\"value\":2},\"x\":{\"field\":\"x\"},\"y\":{\"field\":\"y\"}},\"id\":\"fd7d95e3-60df-40c0-a17e-ebd8fab0f726\",\"type\":\"Line\"},{\"attributes\":{\"line_alpha\":{\"value\":0.1},\"line_color\":{\"value\":\"#1f77b4\"},\"line_width\":{\"value\":2},\"x\":{\"field\":\"x\"},\"y\":{\"field\":\"y\"}},\"id\":\"a102e6ba-5b76-49a5-83b5-3e78a2588b4d\",\"type\":\"Line\"},{\"attributes\":{\"line_color\":{\"value\":\"olive\"},\"line_width\":{\"value\":2},\"x\":{\"field\":\"x\"},\"y\":{\"field\":\"y\"}},\"id\":\"e5c48706-ffbc-480a-b0df-fbdafd58f61a\",\"type\":\"Line\"},{\"attributes\":{\"data_source\":{\"id\":\"3fa7908d-3137-439e-8ed2-a3ec1ba8fae9\",\"type\":\"ColumnDataSource\"},\"glyph\":{\"id\":\"de16d830-cdf3-4c4d-b6c5-eb70c4f1b13a\",\"type\":\"Circle\"},\"hover_glyph\":null,\"nonselection_glyph\":{\"id\":\"97710f7c-142e-4a6c-92e9-f6653ce2645d\",\"type\":\"Circle\"},\"selection_glyph\":null},\"id\":\"1d74f5e3-10f8-4730-97d4-a8dfd308d42d\",\"type\":\"GlyphRenderer\"},{\"attributes\":{\"data_source\":{\"id\":\"f477661e-f9d2-41ca-8534-cf3ebae1bd56\",\"type\":\"ColumnDataSource\"},\"glyph\":{\"id\":\"0217a307-3ac6-4f2d-b32c-51e8462f8a8b\",\"type\":\"Circle\"},\"hover_glyph\":null,\"nonselection_glyph\":{\"id\":\"4de26f4a-978e-43b0-8db1-2e0a28c65613\",\"type\":\"Circle\"},\"selection_glyph\":null},\"id\":\"12eeb2fe-f91f-47d9-b619-312015700f3b\",\"type\":\"GlyphRenderer\"},{\"attributes\":{\"fill_alpha\":{\"value\":0.1},\"fill_color\":{\"value\":\"#1f77b4\"},\"line_alpha\":{\"value\":0.1},\"line_color\":{\"value\":\"#1f77b4\"},\"x\":{\"field\":\"x\"},\"y\":{\"field\":\"y\"}},\"id\":\"4de26f4a-978e-43b0-8db1-2e0a28c65613\",\"type\":\"Circle\"},{\"attributes\":{\"callback\":null,\"column_names\":[\"y\",\"x\"],\"data\":{\"x\":[\"Ciudades\",\"1991\",\"2001\",\"2010\",\"2017\",\"2019\",\"2029\",\"2039\"],\"y\":[\"Cholila\",\"1527\",\"1981\",\"2228\",\"2420\",\"2475\",\"2749\",\"3023\"]}},\"id\":\"6c1e0a59-d30b-4f08-9982-d3dba0bd4d09\",\"type\":\"ColumnDataSource\"},{\"attributes\":{\"callback\":null},\"id\":\"65e44352-a8a2-4c01-8aaf-3f7720928304\",\"type\":\"DataRange1d\"},{\"attributes\":{\"callback\":null,\"column_names\":[\"y\",\"x\"],\"data\":{\"x\":[\"Ciudades\",\"1991\",\"2001\",\"2010\",\"2017\",\"2019\",\"2029\",\"2039\"],\"y\":[\"Gobernador Costa\",\"1913\",\"2185\",\"2374\",\"2521\",\"2563\",\"2773\",\"2983\"]}},\"id\":\"8f83ec6f-6e76-4e26-bee9-ae092ac38764\",\"type\":\"ColumnDataSource\"},{\"attributes\":{\"data_source\":{\"id\":\"7e19f213-fa86-4cb9-86d3-8e7a5959e5a9\",\"type\":\"ColumnDataSource\"},\"glyph\":{\"id\":\"6e883495-4fc9-40de-ad70-dfe48cf7209f\",\"type\":\"Circle\"},\"hover_glyph\":null,\"nonselection_glyph\":{\"id\":\"21b7f9ab-d07b-4f03-91c9-59dea24eee4b\",\"type\":\"Circle\"},\"selection_glyph\":null},\"id\":\"bd8b54bf-b6c4-4809-b9d6-b48a4889735d\",\"type\":\"GlyphRenderer\"},{\"attributes\":{\"callback\":null},\"id\":\"506288be-c296-41a0-8503-84cfe6940d5a\",\"type\":\"DataRange1d\"},{\"attributes\":{\"data_source\":{\"id\":\"62eed29b-fe9c-40e9-848b-7f868534b952\",\"type\":\"ColumnDataSource\"},\"glyph\":{\"id\":\"ed063282-fcec-42d3-9509-26bb17557720\",\"type\":\"Circle\"},\"hover_glyph\":null,\"nonselection_glyph\":{\"id\":\"6a075614-eb04-4af0-a19e-bd201013af65\",\"type\":\"Circle\"},\"selection_glyph\":null},\"id\":\"842ed46a-9f5e-4cd3-8a89-bdbdbe9dceab\",\"type\":\"GlyphRenderer\"},{\"attributes\":{\"plot\":{\"id\":\"29e81ace-f0e1-431a-81c3-7b4d70bb38b8\",\"subtype\":\"Figure\",\"type\":\"Plot\"}},\"id\":\"786fdec8-5488-4b05-adfb-ba83de8db700\",\"type\":\"HelpTool\"},{\"attributes\":{\"fill_alpha\":{\"value\":0.1},\"fill_color\":{\"value\":\"#1f77b4\"},\"line_alpha\":{\"value\":0.1},\"line_color\":{\"value\":\"#1f77b4\"},\"x\":{\"field\":\"x\"},\"y\":{\"field\":\"y\"}},\"id\":\"fc3efa07-5b06-4e39-b3a1-5d85c672e4d0\",\"type\":\"Circle\"},{\"attributes\":{\"callback\":null,\"column_names\":[\"y\",\"x\"],\"data\":{\"x\":[\"Ciudades\",\"1991\",\"2001\",\"2010\",\"2017\",\"2019\",\"2029\",\"2039\"],\"y\":[\"Cholila\",\"1527\",\"1981\",\"2228\",\"2420\",\"2475\",\"2749\",\"3023\"]}},\"id\":\"28bce951-aad7-478b-b1a4-94d6d9267f44\",\"type\":\"ColumnDataSource\"},{\"attributes\":{\"dimension\":1,\"plot\":{\"id\":\"29e81ace-f0e1-431a-81c3-7b4d70bb38b8\",\"subtype\":\"Figure\",\"type\":\"Plot\"},\"ticker\":{\"id\":\"c3d9fdbe-adce-42a6-9c54-84f89639de2c\",\"type\":\"BasicTicker\"}},\"id\":\"9ac7a6d0-b01f-4544-8ff8-6e15ba009bc9\",\"type\":\"Grid\"},{\"attributes\":{\"fill_color\":{\"value\":\"orange\"},\"line_color\":{\"value\":\"orange\"},\"x\":{\"field\":\"x\"},\"y\":{\"field\":\"y\"}},\"id\":\"cb7b22fc-94e3-4654-a2a2-5f3cd9fdf602\",\"type\":\"Circle\"},{\"attributes\":{\"axis_label\":\"Tiempo\",\"formatter\":{\"id\":\"0086b292-5193-42ae-b593-0e6884f6143f\",\"type\":\"BasicTickFormatter\"},\"plot\":{\"id\":\"29e81ace-f0e1-431a-81c3-7b4d70bb38b8\",\"subtype\":\"Figure\",\"type\":\"Plot\"},\"ticker\":{\"id\":\"f1f1b59f-8c78-43b6-898d-c3550c9e7ce6\",\"type\":\"BasicTicker\"}},\"id\":\"50cdbc10-b1d3-4824-b17b-f6a1a2dd17e5\",\"type\":\"LinearAxis\"},{\"attributes\":{\"line_color\":{\"value\":\"firebrick\"},\"line_width\":{\"value\":2},\"x\":{\"field\":\"x\"},\"y\":{\"field\":\"y\"}},\"id\":\"823939bf-62e3-4433-801e-da3c79dc9ec1\",\"type\":\"Line\"},{\"attributes\":{\"fill_alpha\":{\"value\":0.1},\"fill_color\":{\"value\":\"#1f77b4\"},\"line_alpha\":{\"value\":0.1},\"line_color\":{\"value\":\"#1f77b4\"},\"x\":{\"field\":\"x\"},\"y\":{\"field\":\"y\"}},\"id\":\"6c87ed50-a136-415a-b53b-d720e067c873\",\"type\":\"Circle\"},{\"attributes\":{\"line_alpha\":{\"value\":0.1},\"line_color\":{\"value\":\"#1f77b4\"},\"line_width\":{\"value\":2},\"x\":{\"field\":\"x\"},\"y\":{\"field\":\"y\"}},\"id\":\"50b30035-236a-4152-82d7-97ab97a0eb83\",\"type\":\"Line\"},{\"attributes\":{\"line_color\":{\"value\":\"magenta\"},\"line_width\":{\"value\":2},\"x\":{\"field\":\"x\"},\"y\":{\"field\":\"y\"}},\"id\":\"e7927764-83bc-45de-a11b-896a904b26d0\",\"type\":\"Line\"},{\"attributes\":{\"fill_alpha\":{\"value\":0.1},\"fill_color\":{\"value\":\"#1f77b4\"},\"line_alpha\":{\"value\":0.1},\"line_color\":{\"value\":\"#1f77b4\"},\"x\":{\"field\":\"x\"},\"y\":{\"field\":\"y\"}},\"id\":\"81d37b0e-0ab9-48e2-aaaf-c079ad17bdc6\",\"type\":\"Circle\"},{\"attributes\":{\"line_alpha\":{\"value\":0.1},\"line_color\":{\"value\":\"#1f77b4\"},\"line_width\":{\"value\":2},\"x\":{\"field\":\"x\"},\"y\":{\"field\":\"y\"}},\"id\":\"af2b1999-a71f-4e75-a2a7-0dd0c61e2ebf\",\"type\":\"Line\"},{\"attributes\":{\"callback\":null,\"column_names\":[\"y\",\"x\"],\"data\":{\"x\":[\"Ciudades\",\"1991\",\"2001\",\"2010\",\"2017\",\"2019\",\"2029\",\"2039\"],\"y\":[\"Camarones\",\"868\",\"1079\",\"1296\",\"1465\",\"1513\",\"1754\",\"1995\"]}},\"id\":\"82595f89-f8ab-4fa1-b788-f6c2f5d5fd7d\",\"type\":\"ColumnDataSource\"},{\"attributes\":{\"line_alpha\":{\"value\":0.1},\"line_color\":{\"value\":\"#1f77b4\"},\"line_width\":{\"value\":2},\"x\":{\"field\":\"x\"},\"y\":{\"field\":\"y\"}},\"id\":\"7f494598-b748-4fb7-a791-d16699c29d83\",\"type\":\"Line\"},{\"attributes\":{\"line_alpha\":{\"value\":0.1},\"line_color\":{\"value\":\"#1f77b4\"},\"line_width\":{\"value\":2},\"x\":{\"field\":\"x\"},\"y\":{\"field\":\"y\"}},\"id\":\"f7fe57a8-26b7-4039-88cf-886c73bc8c92\",\"type\":\"Line\"},{\"attributes\":{\"line_alpha\":{\"value\":0.1},\"line_color\":{\"value\":\"#1f77b4\"},\"line_width\":{\"value\":2},\"x\":{\"field\":\"x\"},\"y\":{\"field\":\"y\"}},\"id\":\"3ff41a76-9c43-4f16-97d4-342c8e1e8853\",\"type\":\"Line\"},{\"attributes\":{\"data_source\":{\"id\":\"1083a5c3-7234-4dae-87fd-d3c6fd50854d\",\"type\":\"ColumnDataSource\"},\"glyph\":{\"id\":\"7f56cb00-d784-4b23-a7e5-e883767cfc77\",\"type\":\"Circle\"},\"hover_glyph\":null,\"nonselection_glyph\":{\"id\":\"cf607846-e230-4574-a571-07d0fbf26833\",\"type\":\"Circle\"},\"selection_glyph\":null},\"id\":\"5499f44b-eb87-4b42-9bd7-b9f4d05c63e8\",\"type\":\"GlyphRenderer\"},{\"attributes\":{\"line_color\":{\"value\":\"blue\"},\"line_width\":{\"value\":2},\"x\":{\"field\":\"x\"},\"y\":{\"field\":\"y\"}},\"id\":\"721212d6-d14e-4aeb-ae75-a72999a675b0\",\"type\":\"Line\"},{\"attributes\":{\"callback\":null,\"column_names\":[\"y\",\"x\"],\"data\":{\"x\":[\"Ciudades\",\"1991\",\"2001\",\"2010\",\"2017\",\"2019\",\"2029\",\"2039\"],\"y\":[\"Puerto Madryn\",\"45047\",\"57791\",\"81995\",\"100820\",\"106199\",\"133092\",\"159985\"]}},\"id\":\"bb307ad9-fd34-4801-8f46-477c704407fa\",\"type\":\"ColumnDataSource\"},{\"attributes\":{\"data_source\":{\"id\":\"bb551509-68f9-4782-b810-ad97f5346153\",\"type\":\"ColumnDataSource\"},\"glyph\":{\"id\":\"46212f63-e003-4a2e-90ca-690d0d183909\",\"type\":\"Circle\"},\"hover_glyph\":null,\"nonselection_glyph\":{\"id\":\"fc3efa07-5b06-4e39-b3a1-5d85c672e4d0\",\"type\":\"Circle\"},\"selection_glyph\":null},\"id\":\"99fa2351-6923-47b5-b2cb-6483b29f8abc\",\"type\":\"GlyphRenderer\"},{\"attributes\":{\"data_source\":{\"id\":\"54c8ec0d-25d4-40c4-962f-998b59782be1\",\"type\":\"ColumnDataSource\"},\"glyph\":{\"id\":\"37bdcf17-c78e-46cd-bee3-6647f1df8148\",\"type\":\"Line\"},\"hover_glyph\":null,\"nonselection_glyph\":{\"id\":\"d594ae26-9c75-458e-bc08-9f1fd455be93\",\"type\":\"Line\"},\"selection_glyph\":null},\"id\":\"8a1b2ac6-f2e2-4794-89db-733039eff1f5\",\"type\":\"GlyphRenderer\"},{\"attributes\":{\"fill_color\":{\"value\":\"navy\"},\"line_color\":{\"value\":\"navy\"},\"x\":{\"field\":\"x\"},\"y\":{\"field\":\"y\"}},\"id\":\"6103592c-7ded-421d-8139-290dda62ba7a\",\"type\":\"Circle\"},{\"attributes\":{\"data_source\":{\"id\":\"187302c8-6f56-466c-8e3d-bb666fba50e3\",\"type\":\"ColumnDataSource\"},\"glyph\":{\"id\":\"4580c0ec-8f9f-4dce-9db3-7913dc9522af\",\"type\":\"Circle\"},\"hover_glyph\":null,\"nonselection_glyph\":{\"id\":\"81d37b0e-0ab9-48e2-aaaf-c079ad17bdc6\",\"type\":\"Circle\"},\"selection_glyph\":null},\"id\":\"eafbb9e5-77aa-4d42-a4af-e2b2662b90fd\",\"type\":\"GlyphRenderer\"},{\"attributes\":{\"fill_color\":{\"value\":\"red\"},\"line_color\":{\"value\":\"red\"},\"x\":{\"field\":\"x\"},\"y\":{\"field\":\"y\"}},\"id\":\"85eb6e38-6629-465a-9cf0-5ecbb5315e46\",\"type\":\"Circle\"},{\"attributes\":{\"data_source\":{\"id\":\"27a5799b-c0a9-4766-9570-d6b7be477228\",\"type\":\"ColumnDataSource\"},\"glyph\":{\"id\":\"721212d6-d14e-4aeb-ae75-a72999a675b0\",\"type\":\"Line\"},\"hover_glyph\":null,\"nonselection_glyph\":{\"id\":\"f7fe57a8-26b7-4039-88cf-886c73bc8c92\",\"type\":\"Line\"},\"selection_glyph\":null},\"id\":\"412f454d-3dbc-4909-9b01-728fcdbaee45\",\"type\":\"GlyphRenderer\"},{\"attributes\":{\"data_source\":{\"id\":\"bb307ad9-fd34-4801-8f46-477c704407fa\",\"type\":\"ColumnDataSource\"},\"glyph\":{\"id\":\"54e61d1b-2f01-4144-ba7c-802f0da7b38e\",\"type\":\"Line\"},\"hover_glyph\":null,\"nonselection_glyph\":{\"id\":\"9fc73298-c82d-4731-beb9-20ffe0ea369a\",\"type\":\"Line\"},\"selection_glyph\":null},\"id\":\"c93ab714-abca-42e3-8912-866329560416\",\"type\":\"GlyphRenderer\"},{\"attributes\":{\"data_source\":{\"id\":\"4a9f5cfd-b714-4508-be69-a8ead68058d8\",\"type\":\"ColumnDataSource\"},\"glyph\":{\"id\":\"a37b8a2d-4ec5-4907-b8c2-6c642666c3e8\",\"type\":\"Circle\"},\"hover_glyph\":null,\"nonselection_glyph\":{\"id\":\"96581b9f-fa01-4d7d-8b40-625f442efac2\",\"type\":\"Circle\"},\"selection_glyph\":null},\"id\":\"c64f0a3d-eb4a-48c8-aeac-dfe9ce06d43a\",\"type\":\"GlyphRenderer\"},{\"attributes\":{\"overlay\":{\"id\":\"b1890f9c-6f43-42b5-9eac-b5bb50a3f13a\",\"type\":\"BoxAnnotation\"},\"plot\":{\"id\":\"29e81ace-f0e1-431a-81c3-7b4d70bb38b8\",\"subtype\":\"Figure\",\"type\":\"Plot\"}},\"id\":\"df71afef-0a87-4932-a035-588e3de4a9e0\",\"type\":\"BoxZoomTool\"},{\"attributes\":{\"plot\":{\"id\":\"29e81ace-f0e1-431a-81c3-7b4d70bb38b8\",\"subtype\":\"Figure\",\"type\":\"Plot\"}},\"id\":\"e1c1d6ee-ba50-47da-8518-38594571bfc5\",\"type\":\"SaveTool\"},{\"attributes\":{\"callback\":null,\"column_names\":[\"y\",\"x\"],\"data\":{\"x\":[\"Ciudades\",\"1991\",\"2001\",\"2010\",\"2017\",\"2019\",\"2029\",\"2039\"],\"y\":[\"Paso de Indios\",\"864\",\"1087\",\"1264\",\"1402\",\"1441\",\"1638\",\"1835\"]}},\"id\":\"1083a5c3-7234-4dae-87fd-d3c6fd50854d\",\"type\":\"ColumnDataSource\"},{\"attributes\":{\"line_color\":{\"value\":\"red\"},\"line_width\":{\"value\":2},\"x\":{\"field\":\"x\"},\"y\":{\"field\":\"y\"}},\"id\":\"c2ba71b5-5a55-4f10-bc48-4e0c73fff702\",\"type\":\"Line\"},{\"attributes\":{\"data_source\":{\"id\":\"28bce951-aad7-478b-b1a4-94d6d9267f44\",\"type\":\"ColumnDataSource\"},\"glyph\":{\"id\":\"e5c48706-ffbc-480a-b0df-fbdafd58f61a\",\"type\":\"Line\"},\"hover_glyph\":null,\"nonselection_glyph\":{\"id\":\"cbfb2b7d-fcd8-4b74-aeb7-8c2ff9f8b1eb\",\"type\":\"Line\"},\"selection_glyph\":null},\"id\":\"0633e06a-2db1-4278-a2d6-64335b308727\",\"type\":\"GlyphRenderer\"},{\"attributes\":{\"use_scientific\":false},\"id\":\"d6d69cfb-48d1-450e-afe7-73b1906d138d\",\"type\":\"BasicTickFormatter\"},{\"attributes\":{\"data_source\":{\"id\":\"3d17193b-6469-4d90-b8e7-193dee7e2136\",\"type\":\"ColumnDataSource\"},\"glyph\":{\"id\":\"59952b7a-a436-4883-97b2-e5179c1dac37\",\"type\":\"Line\"},\"hover_glyph\":null,\"nonselection_glyph\":{\"id\":\"fd7d95e3-60df-40c0-a17e-ebd8fab0f726\",\"type\":\"Line\"},\"selection_glyph\":null},\"id\":\"04e24f9e-fc54-4c65-b771-263ecbb8d352\",\"type\":\"GlyphRenderer\"},{\"attributes\":{\"fill_color\":{\"value\":\"olive\"},\"line_color\":{\"value\":\"olive\"},\"x\":{\"field\":\"x\"},\"y\":{\"field\":\"y\"}},\"id\":\"660ce4de-759a-4c13-b60e-51388eab48b4\",\"type\":\"Circle\"},{\"attributes\":{\"callback\":null,\"column_names\":[\"y\",\"x\"],\"data\":{\"x\":[\"Ciudades\",\"1991\",\"2001\",\"2010\",\"2017\",\"2019\",\"2029\",\"2039\"],\"y\":[\"Puerto Madryn\",\"45047\",\"57791\",\"81995\",\"100820\",\"106199\",\"133092\",\"159985\"]}},\"id\":\"4a9f5cfd-b714-4508-be69-a8ead68058d8\",\"type\":\"ColumnDataSource\"},{\"attributes\":{\"data_source\":{\"id\":\"82595f89-f8ab-4fa1-b788-f6c2f5d5fd7d\",\"type\":\"ColumnDataSource\"},\"glyph\":{\"id\":\"843fd3c3-318e-4fc1-ba67-abcfb5609a59\",\"type\":\"Circle\"},\"hover_glyph\":null,\"nonselection_glyph\":{\"id\":\"6c87ed50-a136-415a-b53b-d720e067c873\",\"type\":\"Circle\"},\"selection_glyph\":null},\"id\":\"9c243578-934c-4e5c-96d1-85557876ce43\",\"type\":\"GlyphRenderer\"},{\"attributes\":{\"line_alpha\":{\"value\":0.1},\"line_color\":{\"value\":\"#1f77b4\"},\"line_width\":{\"value\":2},\"x\":{\"field\":\"x\"},\"y\":{\"field\":\"y\"}},\"id\":\"a82f82b7-4cf2-4ad1-b9d8-2b8c1bbe40ce\",\"type\":\"Line\"},{\"attributes\":{\"data_source\":{\"id\":\"f1eb8c24-cc3a-4103-8913-91fe44fb28c1\",\"type\":\"ColumnDataSource\"},\"glyph\":{\"id\":\"6103592c-7ded-421d-8139-290dda62ba7a\",\"type\":\"Circle\"},\"hover_glyph\":null,\"nonselection_glyph\":{\"id\":\"f84d5a09-230b-4cbc-820b-e03fd5705519\",\"type\":\"Circle\"},\"selection_glyph\":null},\"id\":\"04329f05-0a4d-46bf-87c1-bab24e9e024b\",\"type\":\"GlyphRenderer\"},{\"attributes\":{\"fill_alpha\":{\"value\":0.1},\"fill_color\":{\"value\":\"#1f77b4\"},\"line_alpha\":{\"value\":0.1},\"line_color\":{\"value\":\"#1f77b4\"},\"x\":{\"field\":\"x\"},\"y\":{\"field\":\"y\"}},\"id\":\"6ec87caf-7db1-4940-bf92-9c69aeeef0d0\",\"type\":\"Circle\"},{\"attributes\":{\"callback\":null,\"column_names\":[\"y\",\"x\"],\"data\":{\"x\":[\"Ciudades\",\"1991\",\"2001\",\"2010\",\"2017\",\"2019\",\"2029\",\"2039\"],\"y\":[\"Comodoro Rivadavia\",\"125725\",\"137061\",\"177083\",\"208211\",\"217105\",\"261574\",\"306043\"]}},\"id\":\"009b162d-ff7e-411f-a234-de6ca9c16468\",\"type\":\"ColumnDataSource\"},{\"attributes\":{\"fill_color\":{\"value\":\"pink\"},\"line_color\":{\"value\":\"pink\"},\"x\":{\"field\":\"x\"},\"y\":{\"field\":\"y\"}},\"id\":\"46212f63-e003-4a2e-90ca-690d0d183909\",\"type\":\"Circle\"},{\"attributes\":{\"callback\":null,\"column_names\":[\"y\",\"x\"],\"data\":{\"x\":[\"Ciudades\",\"1991\",\"2001\",\"2010\",\"2017\",\"2019\",\"2029\",\"2039\"],\"y\":[\"Gobernador Costa\",\"1913\",\"2185\",\"2374\",\"2521\",\"2563\",\"2773\",\"2983\"]}},\"id\":\"187302c8-6f56-466c-8e3d-bb666fba50e3\",\"type\":\"ColumnDataSource\"},{\"attributes\":{\"line_color\":{\"value\":\"#7c1b65\"},\"line_width\":{\"value\":2},\"x\":{\"field\":\"x\"},\"y\":{\"field\":\"y\"}},\"id\":\"a522e935-3b41-4410-bf26-a0452b990c1b\",\"type\":\"Line\"},{\"attributes\":{\"plot\":{\"id\":\"29e81ace-f0e1-431a-81c3-7b4d70bb38b8\",\"subtype\":\"Figure\",\"type\":\"Plot\"},\"ticker\":{\"id\":\"f1f1b59f-8c78-43b6-898d-c3550c9e7ce6\",\"type\":\"BasicTicker\"}},\"id\":\"0a7c843a-a217-4e55-9d1e-056d9e9e2caf\",\"type\":\"Grid\"},{\"attributes\":{\"line_alpha\":{\"value\":0.1},\"line_color\":{\"value\":\"#1f77b4\"},\"line_width\":{\"value\":2},\"x\":{\"field\":\"x\"},\"y\":{\"field\":\"y\"}},\"id\":\"cbfb2b7d-fcd8-4b74-aeb7-8c2ff9f8b1eb\",\"type\":\"Line\"},{\"attributes\":{\"line_color\":{\"value\":\"green\"},\"line_width\":{\"value\":2},\"x\":{\"field\":\"x\"},\"y\":{\"field\":\"y\"}},\"id\":\"54e61d1b-2f01-4144-ba7c-802f0da7b38e\",\"type\":\"Line\"},{\"attributes\":{\"callback\":null,\"column_names\":[\"y\",\"x\"],\"data\":{\"x\":[\"Ciudades\",\"1991\",\"2001\",\"2010\",\"2017\",\"2019\",\"2029\",\"2039\"],\"y\":[\"Ciudades\",\"1991\",\"2001\",\"2010\",\"2017\",\"2019\",\"2029\",\"2039\"]}},\"id\":\"14269849-985f-45fd-beba-da9e9180f925\",\"type\":\"ColumnDataSource\"},{\"attributes\":{\"line_alpha\":{\"value\":0.1},\"line_color\":{\"value\":\"#1f77b4\"},\"line_width\":{\"value\":2},\"x\":{\"field\":\"x\"},\"y\":{\"field\":\"y\"}},\"id\":\"9ea55b04-19b7-49bb-812c-7e4345aaf031\",\"type\":\"Line\"},{\"attributes\":{\"fill_alpha\":{\"value\":0.1},\"fill_color\":{\"value\":\"#1f77b4\"},\"line_alpha\":{\"value\":0.1},\"line_color\":{\"value\":\"#1f77b4\"},\"x\":{\"field\":\"x\"},\"y\":{\"field\":\"y\"}},\"id\":\"96581b9f-fa01-4d7d-8b40-625f442efac2\",\"type\":\"Circle\"},{\"attributes\":{\"callback\":null,\"column_names\":[\"y\",\"x\"],\"data\":{\"x\":[\"Ciudades\",\"1991\",\"2001\",\"2010\",\"2017\",\"2019\",\"2029\",\"2039\"],\"y\":[\"Dolavon\",\"2613\",\"2929\",\"3307\",\"3601\",\"3685\",\"4105\",\"4525\"]}},\"id\":\"0457afde-e21a-4dbc-acaa-c6091f7c5d11\",\"type\":\"ColumnDataSource\"},{\"attributes\":{\"callback\":null,\"column_names\":[\"y\",\"x\"],\"data\":{\"x\":[\"Ciudades\",\"1991\",\"2001\",\"2010\",\"2017\",\"2019\",\"2029\",\"2039\"],\"y\":[\"Dolavon\",\"2613\",\"2929\",\"3307\",\"3601\",\"3685\",\"4105\",\"4525\"]}},\"id\":\"f477661e-f9d2-41ca-8534-cf3ebae1bd56\",\"type\":\"ColumnDataSource\"},{\"attributes\":{\"callback\":null,\"column_names\":[\"y\",\"x\"],\"data\":{\"x\":[\"Ciudades\",\"1991\",\"2001\",\"2010\",\"2017\",\"2019\",\"2029\",\"2039\"],\"y\":[\"Camarones\",\"868\",\"1079\",\"1296\",\"1465\",\"1513\",\"1754\",\"1995\"]}},\"id\":\"3819ee37-4640-4326-9543-5fd1af7e4142\",\"type\":\"ColumnDataSource\"},{\"attributes\":{\"callback\":null,\"column_names\":[\"y\",\"x\"],\"data\":{\"x\":[\"Ciudades\",\"1991\",\"2001\",\"2010\",\"2017\",\"2019\",\"2029\",\"2039\"],\"y\":[\"Esquel\",\"23411\",\"28486\",\"32758\",\"36081\",\"37030\",\"41777\",\"46524\"]}},\"id\":\"3d17193b-6469-4d90-b8e7-193dee7e2136\",\"type\":\"ColumnDataSource\"},{\"attributes\":{\"data_source\":{\"id\":\"4e1ee720-fd48-4829-a3b8-2e74ffbcd267\",\"type\":\"ColumnDataSource\"},\"glyph\":{\"id\":\"cb7b22fc-94e3-4654-a2a2-5f3cd9fdf602\",\"type\":\"Circle\"},\"hover_glyph\":null,\"nonselection_glyph\":{\"id\":\"c55c6310-84e9-4ee1-9042-1cd231e65d25\",\"type\":\"Circle\"},\"selection_glyph\":null},\"id\":\"76c7b90b-66a5-4f21-a708-921aa956269b\",\"type\":\"GlyphRenderer\"},{\"attributes\":{\"data_source\":{\"id\":\"3819ee37-4640-4326-9543-5fd1af7e4142\",\"type\":\"ColumnDataSource\"},\"glyph\":{\"id\":\"d403f58d-4ba2-4bf2-a9d8-9f0e2871839d\",\"type\":\"Line\"},\"hover_glyph\":null,\"nonselection_glyph\":{\"id\":\"3ff41a76-9c43-4f16-97d4-342c8e1e8853\",\"type\":\"Line\"},\"selection_glyph\":null},\"id\":\"12307034-ff9f-41b1-89e5-a29ba8975a5c\",\"type\":\"GlyphRenderer\"},{\"attributes\":{\"fill_color\":{\"value\":\"blue\"},\"line_color\":{\"value\":\"blue\"},\"x\":{\"field\":\"x\"},\"y\":{\"field\":\"y\"}},\"id\":\"6e883495-4fc9-40de-ad70-dfe48cf7209f\",\"type\":\"Circle\"},{\"attributes\":{\"plot\":{\"id\":\"29e81ace-f0e1-431a-81c3-7b4d70bb38b8\",\"subtype\":\"Figure\",\"type\":\"Plot\"}},\"id\":\"14f2617e-93e7-4ef8-a33d-11f482f6109c\",\"type\":\"WheelZoomTool\"},{\"attributes\":{},\"id\":\"f1f1b59f-8c78-43b6-898d-c3550c9e7ce6\",\"type\":\"BasicTicker\"},{\"attributes\":{\"fill_color\":{\"value\":\"#164c71\"},\"line_color\":{\"value\":\"#164c71\"},\"x\":{\"field\":\"x\"},\"y\":{\"field\":\"y\"}},\"id\":\"843fd3c3-318e-4fc1-ba67-abcfb5609a59\",\"type\":\"Circle\"},{\"attributes\":{\"fill_alpha\":{\"value\":0.1},\"fill_color\":{\"value\":\"#1f77b4\"},\"line_alpha\":{\"value\":0.1},\"line_color\":{\"value\":\"#1f77b4\"},\"x\":{\"field\":\"x\"},\"y\":{\"field\":\"y\"}},\"id\":\"62b4de00-0dc3-452e-b079-61ae8917564d\",\"type\":\"Circle\"},{\"attributes\":{},\"id\":\"b6af1678-3c5f-43c9-880c-4981734e78a3\",\"type\":\"ToolEvents\"},{\"attributes\":{\"data_source\":{\"id\":\"0457afde-e21a-4dbc-acaa-c6091f7c5d11\",\"type\":\"ColumnDataSource\"},\"glyph\":{\"id\":\"823939bf-62e3-4433-801e-da3c79dc9ec1\",\"type\":\"Line\"},\"hover_glyph\":null,\"nonselection_glyph\":{\"id\":\"7f494598-b748-4fb7-a791-d16699c29d83\",\"type\":\"Line\"},\"selection_glyph\":null},\"id\":\"c2d5f2a7-15d6-47d3-b577-bb4fe6a97416\",\"type\":\"GlyphRenderer\"},{\"attributes\":{\"data_source\":{\"id\":\"b70ff854-7c72-4c9a-9769-90f8bff9106d\",\"type\":\"ColumnDataSource\"},\"glyph\":{\"id\":\"8fd0721e-053a-4d6f-8ad4-5bf088857873\",\"type\":\"Line\"},\"hover_glyph\":null,\"nonselection_glyph\":{\"id\":\"9ea55b04-19b7-49bb-812c-7e4345aaf031\",\"type\":\"Line\"},\"selection_glyph\":null},\"id\":\"d46bd684-b091-4849-af4f-5a59fe9720c5\",\"type\":\"GlyphRenderer\"}],\"root_ids\":[\"29e81ace-f0e1-431a-81c3-7b4d70bb38b8\"]},\"title\":\"Bokeh Application\",\"version\":\"0.12.0\"}};\n",
       "            var render_items = [{\"docid\":\"c63fe3b5-aa12-4123-804e-82041300f6c0\",\"elementid\":\"de95d886-50d3-4eef-9835-1da5b39bfc1c\",\"modelid\":\"29e81ace-f0e1-431a-81c3-7b4d70bb38b8\",\"notebook_comms_target\":\"8a33b00f-80b2-44f9-8dcf-6fe7ace47056\"}];\n",
       "            \n",
       "            Bokeh.embed.embed_items(docs_json, render_items);\n",
       "        });\n",
       "      },\n",
       "      function(Bokeh) {\n",
       "      }\n",
       "    ];\n",
       "  \n",
       "    function run_inline_js() {\n",
       "      for (var i = 0; i < inline_js.length; i++) {\n",
       "        inline_js[i](window.Bokeh);\n",
       "      }\n",
       "    }\n",
       "  \n",
       "    if (window._bokeh_is_loading === 0) {\n",
       "      console.log(\"Bokeh: BokehJS loaded, going straight to plotting\");\n",
       "      run_inline_js();\n",
       "    } else {\n",
       "      load_libs(js_urls, function() {\n",
       "        console.log(\"Bokeh: BokehJS plotting callback run at\", now());\n",
       "        run_inline_js();\n",
       "      });\n",
       "    }\n",
       "  }(this));\n",
       "</script>"
      ]
     },
     "metadata": {},
     "output_type": "display_data"
    },
    {
     "data": {
      "text/html": [
       "<p><code>&lt;Bokeh Notebook handle for <strong>In[14]</strong>&gt;</code></p>"
      ],
      "text/plain": [
       "<bokeh.io._CommsHandle at 0xaf4c236c>"
      ]
     },
     "execution_count": 14,
     "metadata": {},
     "output_type": "execute_result"
    }
   ],
   "source": [
    "x = tiempo\n",
    "ciudades=[\"Comodoro Rivadavia\",\"Trelew\",\"Puerto Madryn\",\"Esquel\",\"Sarmiento\",\"Rawson\",\"Dolavon\",\"Gaiman\",\"Gobernador Costa\",\"Cholila\",\"Camarones\",\"Paso de Indios\",\"Paso del Sapo\"]\n",
    "colores=[\"red\",\"orange\",\"blue\",\"green\",\"yellow\",\"pink\",\"navy\",\"firebrick\",\"cyan\",\"magenta\",\"olive\",\"#164c71\",\"#7c1b65\"]\n",
    "\n",
    "p = figure(title=\"Población - Proyección Aritmética Tasa del Último Período Censal\",plot_width=900)\n",
    "p.title.align = \"center\"\n",
    "p.title.text_color = \"blue\"\n",
    "p.title.text_font = \"times\"\n",
    "p.title.text_font_style = \"italic\"\n",
    "p.title.text_font_size = \"20px\"\n",
    "\n",
    "p.left[0].formatter.use_scientific = False\n",
    "\n",
    "for i in range(len(ciudades)):\n",
    "    p.circle(x, proyecciones[i], legend=ciudades[i],fill_color=colores[i],line_color=colores[i])\n",
    "    p.line(x, proyecciones[i], legend=ciudades[i],line_color=colores[i], line_width=2)\n",
    "\n",
    "p.xaxis.axis_label = 'Tiempo'\n",
    "p.yaxis.axis_label = 'Población'\n",
    "\n",
    "show(p)"
   ]
  },
  {
   "cell_type": "code",
   "execution_count": null,
   "metadata": {
    "collapsed": true
   },
   "outputs": [],
   "source": []
  }
 ],
 "metadata": {
  "anaconda-cloud": {},
  "kernelspec": {
   "display_name": "Python [Root]",
   "language": "python",
   "name": "Python [Root]"
  },
  "language_info": {
   "codemirror_mode": {
    "name": "ipython",
    "version": 3
   },
   "file_extension": ".py",
   "mimetype": "text/x-python",
   "name": "python",
   "nbconvert_exporter": "python",
   "pygments_lexer": "ipython3",
   "version": "3.5.2"
  }
 },
 "nbformat": 4,
 "nbformat_minor": 2
}
