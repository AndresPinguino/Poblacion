{
 "cells": [
  {
   "cell_type": "code",
   "execution_count": 26,
   "metadata": {
    "collapsed": false
   },
   "outputs": [
    {
     "data": {
      "text/html": [
       "<script>\n",
       "code_show=true; \n",
       "function code_toggle() {\n",
       " if (code_show){\n",
       " $('div.input').hide();\n",
       " } else {\n",
       " $('div.input').show();\n",
       " }\n",
       " code_show = !code_show\n",
       "} \n",
       "$( document ).ready(code_toggle);\n",
       "</script>\n",
       "<form action=\"javascript:code_toggle()\"><input type=\"submit\" value=\"Click aquí para ver el código.\"></form>"
      ],
      "text/plain": [
       "<IPython.core.display.HTML object>"
      ]
     },
     "execution_count": 26,
     "metadata": {},
     "output_type": "execute_result"
    }
   ],
   "source": [
    "from IPython.display import HTML\n",
    "\n",
    "HTML('''<script>\n",
    "code_show=true; \n",
    "function code_toggle() {\n",
    " if (code_show){\n",
    " $('div.input').hide();\n",
    " } else {\n",
    " $('div.input').show();\n",
    " }\n",
    " code_show = !code_show\n",
    "} \n",
    "$( document ).ready(code_toggle);\n",
    "</script>\n",
    "<form action=\"javascript:code_toggle()\"><input type=\"submit\" value=\"Click aquí para ver el código.\"></form>''')"
   ]
  },
  {
   "cell_type": "code",
   "execution_count": 27,
   "metadata": {
    "collapsed": false
   },
   "outputs": [
    {
     "data": {
      "text/html": [
       "<p align=\"center\"> <font size=\"5\" color=\"#0404B4\" face=\"sans-serif\"> <b> Proyección Geométrica <b> </font> </p>"
      ],
      "text/plain": [
       "<IPython.core.display.HTML object>"
      ]
     },
     "execution_count": 27,
     "metadata": {},
     "output_type": "execute_result"
    }
   ],
   "source": [
    "HTML(\"\"\"<p align=\"center\"> <font size=\"5\" color=\"#0404B4\" face=\"sans-serif\"> <b> Proyección Geométrica <b> </font> </p>\"\"\")"
   ]
  },
  {
   "cell_type": "markdown",
   "metadata": {},
   "source": [
    "# # Entrada de valores de los tres últimos censos"
   ]
  },
  {
   "cell_type": "code",
   "execution_count": 28,
   "metadata": {
    "collapsed": false
   },
   "outputs": [],
   "source": [
    "censos = [1991,2001,2010]\n",
    "\n",
    "poblacion0 = [125725,137061,177083] # Comodoro Rivadavia\n",
    "poblacion1 = [79340,89547,99430] # Trelew\n",
    "poblacion2 = [45047,57791,81995] # Puerto Madryn\n",
    "poblacion3 = [23411,28486,32758] # Esquel\n",
    "poblacion4 = [7209,8292,11124] # Sarmiento\n",
    "poblacion5 = [20674,26183,31787] # Rawson\n",
    "poblacion6 = [2613,2929,3307] # Dolavon\n",
    "poblacion7 = [4642,5753,6627] # Gaiman\n",
    "poblacion8 = [1913,2185,2374] # Gobernador Costa\n",
    "poblacion9 = [1527,1981,2228] # Cholila\n",
    "poblacion10 = [868,1079,1296] # Camarones\n",
    "poblacion11 = [864,1087,1264] # Paso de Indios\n",
    "poblacion12 = [322,384,396] # Paso del sapo\n",
    "poblaciones = [poblacion0, poblacion1, poblacion2, poblacion3, poblacion4, poblacion5, poblacion6, poblacion7, poblacion8, poblacion9, poblacion10, poblacion11, poblacion12]\n",
    "\n",
    "año_actual= 2017"
   ]
  },
  {
   "cell_type": "markdown",
   "metadata": {},
   "source": [
    "# # Armamos una lista de \"tiempos\""
   ]
  },
  {
   "cell_type": "code",
   "execution_count": 29,
   "metadata": {
    "collapsed": true
   },
   "outputs": [],
   "source": [
    "tiempo = [0] * 7\n",
    "for i in range(len(censos)):\n",
    "    tiempo[i] = censos[i]\n",
    "\n",
    "tiempo[3]=año_actual\n",
    "tiempo[4]=tiempo[3]+2\n",
    "tiempo[5]=tiempo[4]+10\n",
    "tiempo[6]=tiempo[5]+10"
   ]
  },
  {
   "cell_type": "markdown",
   "metadata": {},
   "source": [
    "# # Resolvemos el método devolviendo una lista de \"datos\""
   ]
  },
  {
   "cell_type": "code",
   "execution_count": 30,
   "metadata": {
    "collapsed": true
   },
   "outputs": [],
   "source": [
    "from math import log, exp     #log es el logaritmo en base e y log10 es en base 10"
   ]
  },
  {
   "cell_type": "code",
   "execution_count": 31,
   "metadata": {
    "collapsed": false
   },
   "outputs": [],
   "source": [
    "def metodo_proyeccion_geometrica(poblacion, tiempo):\n",
    "\n",
    "    datos = [0] * 8\n",
    "    for i in range(len(poblacion)):\n",
    "        datos[i] = poblacion[i]\n",
    "\n",
    "\n",
    "    kg=(log(datos[2])-log(datos[1]))/(tiempo[2]-tiempo[1])\n",
    "    kg=round(kg,4)\n",
    "\n",
    "    Pa=exp(log(datos[2])+kg*(tiempo[3]-tiempo[2]))\n",
    "    Pa=round(Pa,0)\n",
    "    Pa=int(Pa)\n",
    "\n",
    "\n",
    "    P0=exp(log(datos[2])+kg*(tiempo[4]-tiempo[2]))\n",
    "    P0=round(P0,0)\n",
    "    P0=int(P0)\n",
    "\n",
    "\n",
    "    P10=exp(log(datos[2])+kg*(tiempo[5]-tiempo[2]))\n",
    "    P10=round(P10,0)\n",
    "    P10=int(P10)\n",
    "\n",
    "\n",
    "    P20=exp(log(datos[2])+kg*(tiempo[6]-tiempo[2]))\n",
    "    P20=round(P20,0)\n",
    "    P20=int(P20)\n",
    "\n",
    "\n",
    "    datos[3]=Pa\n",
    "    datos[4]=P0\n",
    "    datos[5]=P10\n",
    "    datos[6]=P20\n",
    "    datos[7]=kg\n",
    "\n",
    "    return datos"
   ]
  },
  {
   "cell_type": "markdown",
   "metadata": {},
   "source": [
    "# # Obtenemos las \"proyecciones\" para cada \"poblacion\""
   ]
  },
  {
   "cell_type": "code",
   "execution_count": 32,
   "metadata": {
    "collapsed": true
   },
   "outputs": [],
   "source": [
    "proyecciones = [0] * len(poblaciones)\n",
    "\n",
    "for i in range(len(poblaciones)):\n",
    "    proyecciones[i] = metodo_proyeccion_geometrica(poblaciones[i], tiempo)\n",
    "    #print (proyecciones[i])"
   ]
  },
  {
   "cell_type": "code",
   "execution_count": 33,
   "metadata": {
    "collapsed": true
   },
   "outputs": [],
   "source": [
    "# Para evitar que las listas se modifiquen y poder graficar, las convertimos a tuplas y de nuevo a listas\n",
    "# recortamos con pop() los datos que no usamos en los gráficos\n",
    "\n",
    "tuple_of_tuples = tuple(tuple(x) for x in proyecciones)\n",
    "\n",
    "lis_of_list = list(list(x) for x in tuple_of_tuples)\n",
    "\n",
    "for i in range(len(lis_of_list)):\n",
    "    lis_of_list[i].pop()"
   ]
  },
  {
   "cell_type": "markdown",
   "metadata": {
    "collapsed": false,
    "scrolled": true
   },
   "source": [
    "# # Armamos una tabla para mostrar los resultados"
   ]
  },
  {
   "cell_type": "code",
   "execution_count": 34,
   "metadata": {
    "collapsed": true
   },
   "outputs": [],
   "source": [
    "import pandas as pd"
   ]
  },
  {
   "cell_type": "code",
   "execution_count": 35,
   "metadata": {
    "collapsed": false
   },
   "outputs": [
    {
     "data": {
      "text/html": [
       "<div>\n",
       "<table border=\"1\" class=\"dataframe\">\n",
       "  <thead>\n",
       "    <tr style=\"text-align: right;\">\n",
       "      <th></th>\n",
       "      <th>Ciudades</th>\n",
       "      <th>Censo 1</th>\n",
       "      <th>Censo 2</th>\n",
       "      <th>Censo 3</th>\n",
       "      <th>Pactual</th>\n",
       "      <th>P0</th>\n",
       "      <th>P10</th>\n",
       "      <th>P20</th>\n",
       "      <th>kg</th>\n",
       "    </tr>\n",
       "  </thead>\n",
       "  <tbody>\n",
       "    <tr>\n",
       "      <th>0</th>\n",
       "      <td>Comodoro Rivadavia</td>\n",
       "      <td>125725</td>\n",
       "      <td>137061</td>\n",
       "      <td>177083</td>\n",
       "      <td>216182</td>\n",
       "      <td>228862</td>\n",
       "      <td>304332</td>\n",
       "      <td>404689</td>\n",
       "      <td>0.0285</td>\n",
       "    </tr>\n",
       "    <tr>\n",
       "      <th>1</th>\n",
       "      <td>Trelew</td>\n",
       "      <td>79340</td>\n",
       "      <td>89547</td>\n",
       "      <td>99430</td>\n",
       "      <td>107841</td>\n",
       "      <td>110372</td>\n",
       "      <td>123947</td>\n",
       "      <td>139192</td>\n",
       "      <td>0.0116</td>\n",
       "    </tr>\n",
       "    <tr>\n",
       "      <th>2</th>\n",
       "      <td>Puerto Madryn</td>\n",
       "      <td>45047</td>\n",
       "      <td>57791</td>\n",
       "      <td>81995</td>\n",
       "      <td>107658</td>\n",
       "      <td>116368</td>\n",
       "      <td>171702</td>\n",
       "      <td>253347</td>\n",
       "      <td>0.0389</td>\n",
       "    </tr>\n",
       "    <tr>\n",
       "      <th>3</th>\n",
       "      <td>Esquel</td>\n",
       "      <td>23411</td>\n",
       "      <td>28486</td>\n",
       "      <td>32758</td>\n",
       "      <td>36512</td>\n",
       "      <td>37662</td>\n",
       "      <td>43976</td>\n",
       "      <td>51349</td>\n",
       "      <td>0.0155</td>\n",
       "    </tr>\n",
       "    <tr>\n",
       "      <th>4</th>\n",
       "      <td>Sarmiento</td>\n",
       "      <td>7209</td>\n",
       "      <td>8292</td>\n",
       "      <td>11124</td>\n",
       "      <td>13975</td>\n",
       "      <td>14917</td>\n",
       "      <td>20666</td>\n",
       "      <td>28631</td>\n",
       "      <td>0.0326</td>\n",
       "    </tr>\n",
       "    <tr>\n",
       "      <th>5</th>\n",
       "      <td>Rawson</td>\n",
       "      <td>20674</td>\n",
       "      <td>26183</td>\n",
       "      <td>31787</td>\n",
       "      <td>36950</td>\n",
       "      <td>38573</td>\n",
       "      <td>47825</td>\n",
       "      <td>59297</td>\n",
       "      <td>0.0215</td>\n",
       "    </tr>\n",
       "    <tr>\n",
       "      <th>6</th>\n",
       "      <td>Dolavon</td>\n",
       "      <td>2613</td>\n",
       "      <td>2929</td>\n",
       "      <td>3307</td>\n",
       "      <td>3635</td>\n",
       "      <td>3734</td>\n",
       "      <td>4274</td>\n",
       "      <td>4892</td>\n",
       "      <td>0.0135</td>\n",
       "    </tr>\n",
       "    <tr>\n",
       "      <th>7</th>\n",
       "      <td>Gaiman</td>\n",
       "      <td>4642</td>\n",
       "      <td>5753</td>\n",
       "      <td>6627</td>\n",
       "      <td>7397</td>\n",
       "      <td>7633</td>\n",
       "      <td>8930</td>\n",
       "      <td>10448</td>\n",
       "      <td>0.0157</td>\n",
       "    </tr>\n",
       "    <tr>\n",
       "      <th>8</th>\n",
       "      <td>Gobernador Costa</td>\n",
       "      <td>1913</td>\n",
       "      <td>2185</td>\n",
       "      <td>2374</td>\n",
       "      <td>2532</td>\n",
       "      <td>2579</td>\n",
       "      <td>2827</td>\n",
       "      <td>3100</td>\n",
       "      <td>0.0092</td>\n",
       "    </tr>\n",
       "    <tr>\n",
       "      <th>9</th>\n",
       "      <td>Cholila</td>\n",
       "      <td>1527</td>\n",
       "      <td>1981</td>\n",
       "      <td>2228</td>\n",
       "      <td>2442</td>\n",
       "      <td>2507</td>\n",
       "      <td>2858</td>\n",
       "      <td>3258</td>\n",
       "      <td>0.0131</td>\n",
       "    </tr>\n",
       "    <tr>\n",
       "      <th>10</th>\n",
       "      <td>Camarones</td>\n",
       "      <td>868</td>\n",
       "      <td>1079</td>\n",
       "      <td>1296</td>\n",
       "      <td>1495</td>\n",
       "      <td>1557</td>\n",
       "      <td>1910</td>\n",
       "      <td>2342</td>\n",
       "      <td>0.0204</td>\n",
       "    </tr>\n",
       "    <tr>\n",
       "      <th>11</th>\n",
       "      <td>Paso de Indios</td>\n",
       "      <td>864</td>\n",
       "      <td>1087</td>\n",
       "      <td>1264</td>\n",
       "      <td>1422</td>\n",
       "      <td>1470</td>\n",
       "      <td>1739</td>\n",
       "      <td>2057</td>\n",
       "      <td>0.0168</td>\n",
       "    </tr>\n",
       "    <tr>\n",
       "      <th>12</th>\n",
       "      <td>Paso del Sapo</td>\n",
       "      <td>322</td>\n",
       "      <td>384</td>\n",
       "      <td>396</td>\n",
       "      <td>406</td>\n",
       "      <td>408</td>\n",
       "      <td>422</td>\n",
       "      <td>437</td>\n",
       "      <td>0.0034</td>\n",
       "    </tr>\n",
       "    <tr>\n",
       "      <th>13</th>\n",
       "      <td>Años</td>\n",
       "      <td>1991</td>\n",
       "      <td>2001</td>\n",
       "      <td>2010</td>\n",
       "      <td>2017</td>\n",
       "      <td>2019</td>\n",
       "      <td>2029</td>\n",
       "      <td>2039</td>\n",
       "      <td></td>\n",
       "    </tr>\n",
       "  </tbody>\n",
       "</table>\n",
       "</div>"
      ],
      "text/plain": [
       "              Ciudades Censo 1 Censo 2 Censo 3 Pactual      P0     P10  \\\n",
       "0   Comodoro Rivadavia  125725  137061  177083  216182  228862  304332   \n",
       "1               Trelew   79340   89547   99430  107841  110372  123947   \n",
       "2        Puerto Madryn   45047   57791   81995  107658  116368  171702   \n",
       "3               Esquel   23411   28486   32758   36512   37662   43976   \n",
       "4            Sarmiento    7209    8292   11124   13975   14917   20666   \n",
       "5               Rawson   20674   26183   31787   36950   38573   47825   \n",
       "6              Dolavon    2613    2929    3307    3635    3734    4274   \n",
       "7               Gaiman    4642    5753    6627    7397    7633    8930   \n",
       "8     Gobernador Costa    1913    2185    2374    2532    2579    2827   \n",
       "9              Cholila    1527    1981    2228    2442    2507    2858   \n",
       "10           Camarones     868    1079    1296    1495    1557    1910   \n",
       "11      Paso de Indios     864    1087    1264    1422    1470    1739   \n",
       "12       Paso del Sapo     322     384     396     406     408     422   \n",
       "13                Años    1991    2001    2010    2017    2019    2029   \n",
       "\n",
       "       P20      kg  \n",
       "0   404689  0.0285  \n",
       "1   139192  0.0116  \n",
       "2   253347  0.0389  \n",
       "3    51349  0.0155  \n",
       "4    28631  0.0326  \n",
       "5    59297  0.0215  \n",
       "6     4892  0.0135  \n",
       "7    10448  0.0157  \n",
       "8     3100  0.0092  \n",
       "9     3258  0.0131  \n",
       "10    2342  0.0204  \n",
       "11    2057  0.0168  \n",
       "12     437  0.0034  \n",
       "13    2039          "
      ]
     },
     "execution_count": 35,
     "metadata": {},
     "output_type": "execute_result"
    }
   ],
   "source": [
    "ciudades=[\"Comodoro Rivadavia\",\"Trelew\",\"Puerto Madryn\",\"Esquel\",\"Sarmiento\",\"Rawson\",\"Dolavon\",\"Gaiman\",\"Gobernador Costa\",\"Cholila\",\"Camarones\",\"Paso de Indios\",\"Paso del Sapo\"]\n",
    "labels = ['Ciudades']\n",
    "df = pd.DataFrame(ciudades, columns=labels)\n",
    "\n",
    "labels2=['Censo 1', 'Censo 2', 'Censo 3', 'Pactual', 'P0', 'P10','P20','kg']\n",
    "df2 = pd.DataFrame.from_records(proyecciones, columns=labels2)\n",
    "\n",
    "result = pd.concat([df, df2], axis=1, join_axes=[df.index])\n",
    "\n",
    "labels3=labels+labels2\n",
    "s2 = pd.Series(['Años', '1991', '2001', '2010', '2017', '2019', '2029', '2039', ' '], index=labels3)\n",
    "\n",
    "result = result.append(s2, ignore_index=True)\n",
    "result"
   ]
  },
  {
   "cell_type": "markdown",
   "metadata": {},
   "source": [
    "# # Importamos librerias para graficar"
   ]
  },
  {
   "cell_type": "code",
   "execution_count": 36,
   "metadata": {
    "collapsed": false
   },
   "outputs": [
    {
     "data": {
      "text/html": [
       "\n",
       "    <div class=\"bk-root\">\n",
       "        <a href=\"http://bokeh.pydata.org\" target=\"_blank\" class=\"bk-logo bk-logo-small bk-logo-notebook\"></a>\n",
       "        <span id=\"1e9fd81c-e60a-4d4e-9e89-0b71c2634cf2\">Loading BokehJS ...</span>\n",
       "    </div>"
      ]
     },
     "metadata": {},
     "output_type": "display_data"
    },
    {
     "data": {
      "application/javascript": [
       "\n",
       "(function(global) {\n",
       "  function now() {\n",
       "    return new Date();\n",
       "  }\n",
       "\n",
       "  if (typeof (window._bokeh_onload_callbacks) === \"undefined\") {\n",
       "    window._bokeh_onload_callbacks = [];\n",
       "  }\n",
       "\n",
       "  function run_callbacks() {\n",
       "    window._bokeh_onload_callbacks.forEach(function(callback) { callback() });\n",
       "    delete window._bokeh_onload_callbacks\n",
       "    console.info(\"Bokeh: all callbacks have finished\");\n",
       "  }\n",
       "\n",
       "  function load_libs(js_urls, callback) {\n",
       "    window._bokeh_onload_callbacks.push(callback);\n",
       "    if (window._bokeh_is_loading > 0) {\n",
       "      console.log(\"Bokeh: BokehJS is being loaded, scheduling callback at\", now());\n",
       "      return null;\n",
       "    }\n",
       "    if (js_urls == null || js_urls.length === 0) {\n",
       "      run_callbacks();\n",
       "      return null;\n",
       "    }\n",
       "    console.log(\"Bokeh: BokehJS not loaded, scheduling load and callback at\", now());\n",
       "    window._bokeh_is_loading = js_urls.length;\n",
       "    for (var i = 0; i < js_urls.length; i++) {\n",
       "      var url = js_urls[i];\n",
       "      var s = document.createElement('script');\n",
       "      s.src = url;\n",
       "      s.async = false;\n",
       "      s.onreadystatechange = s.onload = function() {\n",
       "        window._bokeh_is_loading--;\n",
       "        if (window._bokeh_is_loading === 0) {\n",
       "          console.log(\"Bokeh: all BokehJS libraries loaded\");\n",
       "          run_callbacks()\n",
       "        }\n",
       "      };\n",
       "      s.onerror = function() {\n",
       "        console.warn(\"failed to load library \" + url);\n",
       "      };\n",
       "      console.log(\"Bokeh: injecting script tag for BokehJS library: \", url);\n",
       "      document.getElementsByTagName(\"head\")[0].appendChild(s);\n",
       "    }\n",
       "  };\n",
       "\n",
       "  var js_urls = ['https://cdn.pydata.org/bokeh/release/bokeh-0.12.0.min.js', 'https://cdn.pydata.org/bokeh/release/bokeh-widgets-0.12.0.min.js', 'https://cdn.pydata.org/bokeh/release/bokeh-compiler-0.12.0.min.js'];\n",
       "\n",
       "  var inline_js = [\n",
       "    function(Bokeh) {\n",
       "      Bokeh.set_log_level(\"info\");\n",
       "    },\n",
       "    \n",
       "    function(Bokeh) {\n",
       "      Bokeh.$(\"#1e9fd81c-e60a-4d4e-9e89-0b71c2634cf2\").text(\"BokehJS successfully loaded\");\n",
       "    },\n",
       "    function(Bokeh) {\n",
       "      console.log(\"Bokeh: injecting CSS: https://cdn.pydata.org/bokeh/release/bokeh-0.12.0.min.css\");\n",
       "      Bokeh.embed.inject_css(\"https://cdn.pydata.org/bokeh/release/bokeh-0.12.0.min.css\");\n",
       "      console.log(\"Bokeh: injecting CSS: https://cdn.pydata.org/bokeh/release/bokeh-widgets-0.12.0.min.css\");\n",
       "      Bokeh.embed.inject_css(\"https://cdn.pydata.org/bokeh/release/bokeh-widgets-0.12.0.min.css\");\n",
       "    }\n",
       "  ];\n",
       "\n",
       "  function run_inline_js() {\n",
       "    for (var i = 0; i < inline_js.length; i++) {\n",
       "      inline_js[i](window.Bokeh);\n",
       "    }\n",
       "  }\n",
       "\n",
       "  if (window._bokeh_is_loading === 0) {\n",
       "    console.log(\"Bokeh: BokehJS loaded, going straight to plotting\");\n",
       "    run_inline_js();\n",
       "  } else {\n",
       "    load_libs(js_urls, function() {\n",
       "      console.log(\"Bokeh: BokehJS plotting callback run at\", now());\n",
       "      run_inline_js();\n",
       "    });\n",
       "  }\n",
       "}(this));"
      ]
     },
     "metadata": {},
     "output_type": "display_data"
    }
   ],
   "source": [
    "from bokeh.io import push_notebook, show, output_notebook\n",
    "from bokeh.plotting import figure\n",
    "output_notebook()"
   ]
  },
  {
   "cell_type": "markdown",
   "metadata": {},
   "source": [
    "# # Definimos estilos para usar en los gráficos"
   ]
  },
  {
   "cell_type": "code",
   "execution_count": 37,
   "metadata": {
    "collapsed": false
   },
   "outputs": [
    {
     "data": {
      "text/html": [
       "\n",
       "\n",
       "    <div class=\"bk-root\">\n",
       "        <div class=\"plotdiv\" id=\"2c3d67c9-4b42-47ec-ba10-4eeba15701a0\"></div>\n",
       "    </div>\n",
       "<script type=\"text/javascript\">\n",
       "  \n",
       "  (function(global) {\n",
       "    function now() {\n",
       "      return new Date();\n",
       "    }\n",
       "  \n",
       "    if (typeof (window._bokeh_onload_callbacks) === \"undefined\") {\n",
       "      window._bokeh_onload_callbacks = [];\n",
       "    }\n",
       "  \n",
       "    function run_callbacks() {\n",
       "      window._bokeh_onload_callbacks.forEach(function(callback) { callback() });\n",
       "      delete window._bokeh_onload_callbacks\n",
       "      console.info(\"Bokeh: all callbacks have finished\");\n",
       "    }\n",
       "  \n",
       "    function load_libs(js_urls, callback) {\n",
       "      window._bokeh_onload_callbacks.push(callback);\n",
       "      if (window._bokeh_is_loading > 0) {\n",
       "        console.log(\"Bokeh: BokehJS is being loaded, scheduling callback at\", now());\n",
       "        return null;\n",
       "      }\n",
       "      if (js_urls == null || js_urls.length === 0) {\n",
       "        run_callbacks();\n",
       "        return null;\n",
       "      }\n",
       "      console.log(\"Bokeh: BokehJS not loaded, scheduling load and callback at\", now());\n",
       "      window._bokeh_is_loading = js_urls.length;\n",
       "      for (var i = 0; i < js_urls.length; i++) {\n",
       "        var url = js_urls[i];\n",
       "        var s = document.createElement('script');\n",
       "        s.src = url;\n",
       "        s.async = false;\n",
       "        s.onreadystatechange = s.onload = function() {\n",
       "          window._bokeh_is_loading--;\n",
       "          if (window._bokeh_is_loading === 0) {\n",
       "            console.log(\"Bokeh: all BokehJS libraries loaded\");\n",
       "            run_callbacks()\n",
       "          }\n",
       "        };\n",
       "        s.onerror = function() {\n",
       "          console.warn(\"failed to load library \" + url);\n",
       "        };\n",
       "        console.log(\"Bokeh: injecting script tag for BokehJS library: \", url);\n",
       "        document.getElementsByTagName(\"head\")[0].appendChild(s);\n",
       "      }\n",
       "    };var element = document.getElementById(\"2c3d67c9-4b42-47ec-ba10-4eeba15701a0\");\n",
       "    if (element == null) {\n",
       "      console.log(\"Bokeh: ERROR: autoload.js configured with elementid '2c3d67c9-4b42-47ec-ba10-4eeba15701a0' but no matching script tag was found. \")\n",
       "      return false;\n",
       "    }\n",
       "  \n",
       "    var js_urls = [];\n",
       "  \n",
       "    var inline_js = [\n",
       "      function(Bokeh) {\n",
       "        Bokeh.$(function() {\n",
       "            var docs_json = {\"f21bef68-24ef-4baf-9aca-382896aae40f\":{\"roots\":{\"references\":[{\"attributes\":{\"fill_alpha\":{\"value\":0.1},\"fill_color\":{\"value\":\"#1f77b4\"},\"line_alpha\":{\"value\":0.1},\"line_color\":{\"value\":\"#1f77b4\"},\"x\":{\"field\":\"x\"},\"y\":{\"field\":\"y\"}},\"id\":\"737edd7b-7467-4129-a296-c6f9d0103742\",\"type\":\"Circle\"},{\"attributes\":{\"plot\":{\"id\":\"e171ba59-1cfc-4a8b-b966-84bfc52cc038\",\"subtype\":\"Figure\",\"type\":\"Plot\"}},\"id\":\"de13c77f-f640-4dc2-84e0-223d762ab8ac\",\"type\":\"ResetTool\"},{\"attributes\":{\"fill_alpha\":{\"value\":0.1},\"fill_color\":{\"value\":\"#1f77b4\"},\"line_alpha\":{\"value\":0.1},\"line_color\":{\"value\":\"#1f77b4\"},\"x\":{\"field\":\"x\"},\"y\":{\"field\":\"y\"}},\"id\":\"cd058263-1c88-4bcf-8c5a-ca6f2c0f2935\",\"type\":\"Circle\"},{\"attributes\":{\"fill_color\":{\"value\":\"orange\"},\"line_color\":{\"value\":\"orange\"},\"x\":{\"field\":\"x\"},\"y\":{\"field\":\"y\"}},\"id\":\"9465c740-e40f-4e32-a5ea-fc52fd2477dc\",\"type\":\"Circle\"},{\"attributes\":{\"data_source\":{\"id\":\"8eff5284-8b6a-4732-aed4-0fefb8bf2fda\",\"type\":\"ColumnDataSource\"},\"glyph\":{\"id\":\"e56c6b95-33b4-4084-838d-49b0a1084312\",\"type\":\"Line\"},\"hover_glyph\":null,\"nonselection_glyph\":{\"id\":\"300959cd-d043-4b32-9daa-32ab34701cdf\",\"type\":\"Line\"},\"selection_glyph\":null},\"id\":\"53699f26-0e9c-41de-bb5b-0ab7a6ada7b5\",\"type\":\"GlyphRenderer\"},{\"attributes\":{\"data_source\":{\"id\":\"468da93b-6cf7-4586-80b1-37cb632e4e4f\",\"type\":\"ColumnDataSource\"},\"glyph\":{\"id\":\"be98d1e9-bc9c-4e33-bd2e-3c16d5f61647\",\"type\":\"Line\"},\"hover_glyph\":null,\"nonselection_glyph\":{\"id\":\"12e8cd00-d65a-4bfd-ad46-b255368d0a14\",\"type\":\"Line\"},\"selection_glyph\":null},\"id\":\"dde20482-0a73-4aeb-9142-80e0013920b1\",\"type\":\"GlyphRenderer\"},{\"attributes\":{\"fill_alpha\":{\"value\":0.1},\"fill_color\":{\"value\":\"#1f77b4\"},\"line_alpha\":{\"value\":0.1},\"line_color\":{\"value\":\"#1f77b4\"},\"x\":{\"field\":\"x\"},\"y\":{\"field\":\"y\"}},\"id\":\"acb76507-3f31-4f25-b8b1-0d3f65d158a1\",\"type\":\"Circle\"},{\"attributes\":{\"data_source\":{\"id\":\"687fb3d0-606c-4e44-8a5a-a5d2b14c968c\",\"type\":\"ColumnDataSource\"},\"glyph\":{\"id\":\"9465c740-e40f-4e32-a5ea-fc52fd2477dc\",\"type\":\"Circle\"},\"hover_glyph\":null,\"nonselection_glyph\":{\"id\":\"35fff5a7-2d12-41e4-b954-7480d3fdc83a\",\"type\":\"Circle\"},\"selection_glyph\":null},\"id\":\"74f9fca9-82cd-4b50-ab3b-48121629d683\",\"type\":\"GlyphRenderer\"},{\"attributes\":{\"data_source\":{\"id\":\"11a38019-38af-46f9-aae1-34fa142053a5\",\"type\":\"ColumnDataSource\"},\"glyph\":{\"id\":\"81ea09bc-2f31-4c26-9e4e-1f6bc42e21e0\",\"type\":\"Circle\"},\"hover_glyph\":null,\"nonselection_glyph\":{\"id\":\"13432826-fe2b-4ffb-bb4b-891d578509b5\",\"type\":\"Circle\"},\"selection_glyph\":null},\"id\":\"56869256-a401-41a9-8dab-946e1e8a4c3f\",\"type\":\"GlyphRenderer\"},{\"attributes\":{\"fill_alpha\":{\"value\":0.1},\"fill_color\":{\"value\":\"#1f77b4\"},\"line_alpha\":{\"value\":0.1},\"line_color\":{\"value\":\"#1f77b4\"},\"x\":{\"field\":\"x\"},\"y\":{\"field\":\"y\"}},\"id\":\"35fff5a7-2d12-41e4-b954-7480d3fdc83a\",\"type\":\"Circle\"},{\"attributes\":{\"line_alpha\":{\"value\":0.1},\"line_color\":{\"value\":\"#1f77b4\"},\"line_width\":{\"value\":2},\"x\":{\"field\":\"x\"},\"y\":{\"field\":\"y\"}},\"id\":\"db28386a-aa80-46ae-8b5b-e1197ee23033\",\"type\":\"Line\"},{\"attributes\":{\"callback\":null,\"column_names\":[\"x\",\"y\"],\"data\":{\"x\":[1991,2001,2010,2017,2019,2029,2039],\"y\":[1913,2185,2374,2532,2579,2827,3100]}},\"id\":\"953c52cb-559e-436a-aa52-26bf7da929c0\",\"type\":\"ColumnDataSource\"},{\"attributes\":{\"plot\":{\"id\":\"e171ba59-1cfc-4a8b-b966-84bfc52cc038\",\"subtype\":\"Figure\",\"type\":\"Plot\"},\"ticker\":{\"id\":\"92777b61-dccf-4b59-843b-2d7481d88e77\",\"type\":\"BasicTicker\"}},\"id\":\"eb5e9391-51d8-443f-b74d-9bb998238245\",\"type\":\"Grid\"},{\"attributes\":{\"callback\":null,\"column_names\":[\"y\",\"x\"],\"data\":{\"x\":[1991,2001,2010,2017,2019,2029,2039],\"y\":[4642,5753,6627,7397,7633,8930,10448]}},\"id\":\"f76df5ed-b17d-48e1-a795-4fbf923a9b8e\",\"type\":\"ColumnDataSource\"},{\"attributes\":{\"line_alpha\":{\"value\":0.1},\"line_color\":{\"value\":\"#1f77b4\"},\"line_width\":{\"value\":2},\"x\":{\"field\":\"x\"},\"y\":{\"field\":\"y\"}},\"id\":\"300959cd-d043-4b32-9daa-32ab34701cdf\",\"type\":\"Line\"},{\"attributes\":{\"callback\":null,\"column_names\":[\"y\",\"x\"],\"data\":{\"x\":[1991,2001,2010,2017,2019,2029,2039],\"y\":[868,1079,1296,1495,1557,1910,2342]}},\"id\":\"e9293d4d-03ed-4aa2-b2e0-a9aa1d766fef\",\"type\":\"ColumnDataSource\"},{\"attributes\":{\"line_alpha\":{\"value\":0.1},\"line_color\":{\"value\":\"#1f77b4\"},\"line_width\":{\"value\":2},\"x\":{\"field\":\"x\"},\"y\":{\"field\":\"y\"}},\"id\":\"20022c7a-71eb-481e-b90c-e8de7fe27df4\",\"type\":\"Line\"},{\"attributes\":{\"data_source\":{\"id\":\"666eca67-18cd-4af9-bd69-2a1caf72b7be\",\"type\":\"ColumnDataSource\"},\"glyph\":{\"id\":\"cc52314f-97ec-4df0-82c8-5b3515dea764\",\"type\":\"Line\"},\"hover_glyph\":null,\"nonselection_glyph\":{\"id\":\"ca6034fe-f0e4-478e-af0c-30b8cccc650b\",\"type\":\"Line\"},\"selection_glyph\":null},\"id\":\"13be021a-7234-4237-8b5a-1c73b7ced9c9\",\"type\":\"GlyphRenderer\"},{\"attributes\":{\"callback\":null,\"column_names\":[\"y\",\"x\"],\"data\":{\"x\":[1991,2001,2010,2017,2019,2029,2039],\"y\":[125725,137061,177083,216182,228862,304332,404689]}},\"id\":\"2ee3ae57-5670-4470-b42f-dd516f45de42\",\"type\":\"ColumnDataSource\"},{\"attributes\":{\"line_alpha\":{\"value\":0.1},\"line_color\":{\"value\":\"#1f77b4\"},\"line_width\":{\"value\":2},\"x\":{\"field\":\"x\"},\"y\":{\"field\":\"y\"}},\"id\":\"f4e63120-b096-4145-90db-6ddae9cea729\",\"type\":\"Line\"},{\"attributes\":{\"line_alpha\":{\"value\":0.1},\"line_color\":{\"value\":\"#1f77b4\"},\"line_width\":{\"value\":2},\"x\":{\"field\":\"x\"},\"y\":{\"field\":\"y\"}},\"id\":\"1e599f13-1bb4-4b0d-9ba9-012135d5632a\",\"type\":\"Line\"},{\"attributes\":{\"callback\":null,\"column_names\":[\"y\",\"x\"],\"data\":{\"x\":[1991,2001,2010,2017,2019,2029,2039],\"y\":[20674,26183,31787,36950,38573,47825,59297]}},\"id\":\"11a38019-38af-46f9-aae1-34fa142053a5\",\"type\":\"ColumnDataSource\"},{\"attributes\":{\"callback\":null,\"column_names\":[\"x\",\"y\"],\"data\":{\"x\":[1991,2001,2010,2017,2019,2029,2039],\"y\":[864,1087,1264,1422,1470,1739,2057]}},\"id\":\"f2e055be-b728-4f7a-9ada-d2b8102f6690\",\"type\":\"ColumnDataSource\"},{\"attributes\":{\"callback\":null},\"id\":\"da73ed26-d1ed-4b37-9548-2500e143377e\",\"type\":\"DataRange1d\"},{\"attributes\":{\"below\":[{\"id\":\"dc965db2-68be-4351-9502-46cf5b22f306\",\"type\":\"LinearAxis\"}],\"left\":[{\"id\":\"4871f3d3-5a4a-4117-8d26-220b90a5b34f\",\"type\":\"LinearAxis\"}],\"plot_width\":900,\"renderers\":[{\"id\":\"dc965db2-68be-4351-9502-46cf5b22f306\",\"type\":\"LinearAxis\"},{\"id\":\"eb5e9391-51d8-443f-b74d-9bb998238245\",\"type\":\"Grid\"},{\"id\":\"4871f3d3-5a4a-4117-8d26-220b90a5b34f\",\"type\":\"LinearAxis\"},{\"id\":\"889b2836-af29-4bcb-ad09-8b5a6f330416\",\"type\":\"Grid\"},{\"id\":\"d9efb395-25af-4d6a-9b85-9399dd43a228\",\"type\":\"BoxAnnotation\"},{\"id\":\"6edd759d-fdd3-4b78-97b2-e1738ae27af2\",\"type\":\"Legend\"},{\"id\":\"476c4fc4-8ad8-4481-a709-3ecc58ad3d59\",\"type\":\"GlyphRenderer\"},{\"id\":\"13be021a-7234-4237-8b5a-1c73b7ced9c9\",\"type\":\"GlyphRenderer\"},{\"id\":\"74f9fca9-82cd-4b50-ab3b-48121629d683\",\"type\":\"GlyphRenderer\"},{\"id\":\"dde20482-0a73-4aeb-9142-80e0013920b1\",\"type\":\"GlyphRenderer\"},{\"id\":\"e87eee3c-726a-487d-8d8e-3bd90cde95aa\",\"type\":\"GlyphRenderer\"},{\"id\":\"aea2bdff-9f68-475c-a428-8b12fddb7db7\",\"type\":\"GlyphRenderer\"},{\"id\":\"1fe921f1-5fee-448d-bb68-76efbe91702f\",\"type\":\"GlyphRenderer\"},{\"id\":\"f68ef56f-48f3-4136-9b33-754e4072d532\",\"type\":\"GlyphRenderer\"},{\"id\":\"fe8ecc66-ea1f-4e3f-92cf-856c688021a1\",\"type\":\"GlyphRenderer\"},{\"id\":\"53699f26-0e9c-41de-bb5b-0ab7a6ada7b5\",\"type\":\"GlyphRenderer\"},{\"id\":\"56869256-a401-41a9-8dab-946e1e8a4c3f\",\"type\":\"GlyphRenderer\"},{\"id\":\"df72643d-e6d2-436f-84cb-fcf0c63a6d31\",\"type\":\"GlyphRenderer\"},{\"id\":\"60c53465-bd76-4422-9f7e-e983d23a00ca\",\"type\":\"GlyphRenderer\"},{\"id\":\"a47859dc-3ede-4a51-a78e-b81dc859637c\",\"type\":\"GlyphRenderer\"},{\"id\":\"2a53e1dc-673b-4ebd-902a-f951f63f4c80\",\"type\":\"GlyphRenderer\"},{\"id\":\"10d15e52-d4ee-4a0b-b3a9-e359493576c4\",\"type\":\"GlyphRenderer\"},{\"id\":\"fd7adfa3-e4d6-4c39-a7c6-35eaab5809df\",\"type\":\"GlyphRenderer\"},{\"id\":\"636f3458-65d6-4d9d-bb2f-26132dcc7379\",\"type\":\"GlyphRenderer\"},{\"id\":\"7dd964e1-c8d7-45d5-9ed0-77cb12f175b1\",\"type\":\"GlyphRenderer\"},{\"id\":\"a23e5d21-78d2-4d6c-bb58-55cfcee74a26\",\"type\":\"GlyphRenderer\"},{\"id\":\"1c7a6023-980f-472e-9faa-3da8dc5fb2bf\",\"type\":\"GlyphRenderer\"},{\"id\":\"f442bc7b-4003-4a6f-a02f-c0ce95333889\",\"type\":\"GlyphRenderer\"},{\"id\":\"f2e02761-5552-4afd-a685-5f40ba344920\",\"type\":\"GlyphRenderer\"},{\"id\":\"b6dd40e3-89f1-4327-a07e-de9dd770bd72\",\"type\":\"GlyphRenderer\"},{\"id\":\"7a8ac56c-3730-47c0-aac0-364e5db05de4\",\"type\":\"GlyphRenderer\"},{\"id\":\"757dca43-db0e-4ae8-96dc-d0b5633df7af\",\"type\":\"GlyphRenderer\"}],\"title\":{\"id\":\"fa8d7c12-697e-437b-9ec1-e1a5b3168403\",\"type\":\"Title\"},\"tool_events\":{\"id\":\"13e1a338-e7b9-4e55-a411-453bfcd0ac52\",\"type\":\"ToolEvents\"},\"toolbar\":{\"id\":\"96402557-dc91-472b-997c-faa94a5b4cfd\",\"type\":\"Toolbar\"},\"x_range\":{\"id\":\"da73ed26-d1ed-4b37-9548-2500e143377e\",\"type\":\"DataRange1d\"},\"y_range\":{\"id\":\"e573d703-4a10-4a45-8d1b-6e5260c03002\",\"type\":\"DataRange1d\"}},\"id\":\"e171ba59-1cfc-4a8b-b966-84bfc52cc038\",\"subtype\":\"Figure\",\"type\":\"Plot\"},{\"attributes\":{\"fill_alpha\":{\"value\":0.1},\"fill_color\":{\"value\":\"#1f77b4\"},\"line_alpha\":{\"value\":0.1},\"line_color\":{\"value\":\"#1f77b4\"},\"x\":{\"field\":\"x\"},\"y\":{\"field\":\"y\"}},\"id\":\"6a26ffb6-d8e7-473f-88d0-35fb252a8cd1\",\"type\":\"Circle\"},{\"attributes\":{\"plot\":{\"id\":\"e171ba59-1cfc-4a8b-b966-84bfc52cc038\",\"subtype\":\"Figure\",\"type\":\"Plot\"}},\"id\":\"958dec0d-4dc4-4312-9c5b-36590da7e678\",\"type\":\"SaveTool\"},{\"attributes\":{\"fill_color\":{\"value\":\"#7c1b65\"},\"line_color\":{\"value\":\"#7c1b65\"},\"x\":{\"field\":\"x\"},\"y\":{\"field\":\"y\"}},\"id\":\"ac68af68-e658-4470-a37b-b79171a32c7b\",\"type\":\"Circle\"},{\"attributes\":{\"axis_label\":\"Poblaci\\u00f3n\",\"formatter\":{\"id\":\"465522df-e03d-4ce5-b236-5cb1fb185eec\",\"type\":\"BasicTickFormatter\"},\"plot\":{\"id\":\"e171ba59-1cfc-4a8b-b966-84bfc52cc038\",\"subtype\":\"Figure\",\"type\":\"Plot\"},\"ticker\":{\"id\":\"f099c306-fab8-47d8-ae16-dec79ab5b1f3\",\"type\":\"BasicTicker\"}},\"id\":\"4871f3d3-5a4a-4117-8d26-220b90a5b34f\",\"type\":\"LinearAxis\"},{\"attributes\":{\"dimension\":1,\"plot\":{\"id\":\"e171ba59-1cfc-4a8b-b966-84bfc52cc038\",\"subtype\":\"Figure\",\"type\":\"Plot\"},\"ticker\":{\"id\":\"f099c306-fab8-47d8-ae16-dec79ab5b1f3\",\"type\":\"BasicTicker\"}},\"id\":\"889b2836-af29-4bcb-ad09-8b5a6f330416\",\"type\":\"Grid\"},{\"attributes\":{\"line_alpha\":{\"value\":0.1},\"line_color\":{\"value\":\"#1f77b4\"},\"line_width\":{\"value\":2},\"x\":{\"field\":\"x\"},\"y\":{\"field\":\"y\"}},\"id\":\"4b08e29a-b918-4e90-8f36-89197194931f\",\"type\":\"Line\"},{\"attributes\":{\"fill_alpha\":{\"value\":0.1},\"fill_color\":{\"value\":\"#1f77b4\"},\"line_alpha\":{\"value\":0.1},\"line_color\":{\"value\":\"#1f77b4\"},\"x\":{\"field\":\"x\"},\"y\":{\"field\":\"y\"}},\"id\":\"c174e761-fee6-452e-a88d-d5fff7be2816\",\"type\":\"Circle\"},{\"attributes\":{\"fill_color\":{\"value\":\"firebrick\"},\"line_color\":{\"value\":\"firebrick\"},\"x\":{\"field\":\"x\"},\"y\":{\"field\":\"y\"}},\"id\":\"cdad3ac8-1803-43d3-be1a-4033cebc4b32\",\"type\":\"Circle\"},{\"attributes\":{\"callback\":null,\"column_names\":[\"x\",\"y\"],\"data\":{\"x\":[1991,2001,2010,2017,2019,2029,2039],\"y\":[7209,8292,11124,13975,14917,20666,28631]}},\"id\":\"8eff5284-8b6a-4732-aed4-0fefb8bf2fda\",\"type\":\"ColumnDataSource\"},{\"attributes\":{\"fill_color\":{\"value\":\"olive\"},\"line_color\":{\"value\":\"olive\"},\"x\":{\"field\":\"x\"},\"y\":{\"field\":\"y\"}},\"id\":\"cafab83e-90cf-4ab9-a88b-78d666c86058\",\"type\":\"Circle\"},{\"attributes\":{\"data_source\":{\"id\":\"20c11cef-dd62-4567-9d00-8cf1bb3d6f1b\",\"type\":\"ColumnDataSource\"},\"glyph\":{\"id\":\"86a7bb51-76b4-4f44-a45c-6158023675f2\",\"type\":\"Circle\"},\"hover_glyph\":null,\"nonselection_glyph\":{\"id\":\"acb76507-3f31-4f25-b8b1-0d3f65d158a1\",\"type\":\"Circle\"},\"selection_glyph\":null},\"id\":\"1fe921f1-5fee-448d-bb68-76efbe91702f\",\"type\":\"GlyphRenderer\"},{\"attributes\":{\"line_color\":{\"value\":\"navy\"},\"line_width\":{\"value\":2},\"x\":{\"field\":\"x\"},\"y\":{\"field\":\"y\"}},\"id\":\"91d40992-15bc-4dc0-99fc-4fc265eaf37f\",\"type\":\"Line\"},{\"attributes\":{\"fill_color\":{\"value\":\"navy\"},\"line_color\":{\"value\":\"navy\"},\"x\":{\"field\":\"x\"},\"y\":{\"field\":\"y\"}},\"id\":\"10f73258-7aa7-4478-8c3f-aeeb94073755\",\"type\":\"Circle\"},{\"attributes\":{\"fill_alpha\":{\"value\":0.1},\"fill_color\":{\"value\":\"#1f77b4\"},\"line_alpha\":{\"value\":0.1},\"line_color\":{\"value\":\"#1f77b4\"},\"x\":{\"field\":\"x\"},\"y\":{\"field\":\"y\"}},\"id\":\"13432826-fe2b-4ffb-bb4b-891d578509b5\",\"type\":\"Circle\"},{\"attributes\":{\"callback\":null,\"column_names\":[\"x\",\"y\"],\"data\":{\"x\":[1991,2001,2010,2017,2019,2029,2039],\"y\":[79340,89547,99430,107841,110372,123947,139192]}},\"id\":\"468da93b-6cf7-4586-80b1-37cb632e4e4f\",\"type\":\"ColumnDataSource\"},{\"attributes\":{\"fill_color\":{\"value\":\"cyan\"},\"line_color\":{\"value\":\"cyan\"},\"x\":{\"field\":\"x\"},\"y\":{\"field\":\"y\"}},\"id\":\"f75a2970-60e2-47ac-8b6a-004924ce8464\",\"type\":\"Circle\"},{\"attributes\":{},\"id\":\"13e1a338-e7b9-4e55-a411-453bfcd0ac52\",\"type\":\"ToolEvents\"},{\"attributes\":{\"callback\":null,\"column_names\":[\"x\",\"y\"],\"data\":{\"x\":[1991,2001,2010,2017,2019,2029,2039],\"y\":[2613,2929,3307,3635,3734,4274,4892]}},\"id\":\"6fd06019-55b9-42e5-bee9-03c8608e88f2\",\"type\":\"ColumnDataSource\"},{\"attributes\":{\"data_source\":{\"id\":\"2ee21b0c-6da4-44e8-a303-c14803fc9f1b\",\"type\":\"ColumnDataSource\"},\"glyph\":{\"id\":\"a59b3726-85b1-4585-bb25-0824e2d3362f\",\"type\":\"Circle\"},\"hover_glyph\":null,\"nonselection_glyph\":{\"id\":\"2a0a3b6e-66c6-40ea-869a-6e7d620ea2dd\",\"type\":\"Circle\"},\"selection_glyph\":null},\"id\":\"fe8ecc66-ea1f-4e3f-92cf-856c688021a1\",\"type\":\"GlyphRenderer\"},{\"attributes\":{\"data_source\":{\"id\":\"6fd06019-55b9-42e5-bee9-03c8608e88f2\",\"type\":\"ColumnDataSource\"},\"glyph\":{\"id\":\"91d40992-15bc-4dc0-99fc-4fc265eaf37f\",\"type\":\"Line\"},\"hover_glyph\":null,\"nonselection_glyph\":{\"id\":\"4b08e29a-b918-4e90-8f36-89197194931f\",\"type\":\"Line\"},\"selection_glyph\":null},\"id\":\"a47859dc-3ede-4a51-a78e-b81dc859637c\",\"type\":\"GlyphRenderer\"},{\"attributes\":{\"line_alpha\":{\"value\":0.1},\"line_color\":{\"value\":\"#1f77b4\"},\"line_width\":{\"value\":2},\"x\":{\"field\":\"x\"},\"y\":{\"field\":\"y\"}},\"id\":\"6837267b-a43e-4c19-80f5-0871a3f3fef4\",\"type\":\"Line\"},{\"attributes\":{\"overlay\":{\"id\":\"d9efb395-25af-4d6a-9b85-9399dd43a228\",\"type\":\"BoxAnnotation\"},\"plot\":{\"id\":\"e171ba59-1cfc-4a8b-b966-84bfc52cc038\",\"subtype\":\"Figure\",\"type\":\"Plot\"}},\"id\":\"ac0bdf47-e86c-4ba5-a1d1-99d18098adc7\",\"type\":\"BoxZoomTool\"},{\"attributes\":{\"fill_color\":{\"value\":\"red\"},\"line_color\":{\"value\":\"red\"},\"x\":{\"field\":\"x\"},\"y\":{\"field\":\"y\"}},\"id\":\"ec11c5ad-8892-4ebb-a4bb-75e4a88c8bbb\",\"type\":\"Circle\"},{\"attributes\":{\"callback\":null,\"column_names\":[\"y\",\"x\"],\"data\":{\"x\":[1991,2001,2010,2017,2019,2029,2039],\"y\":[864,1087,1264,1422,1470,1739,2057]}},\"id\":\"02443952-08d9-4f96-a9a3-b1e0a795f91d\",\"type\":\"ColumnDataSource\"},{\"attributes\":{\"fill_alpha\":{\"value\":0.1},\"fill_color\":{\"value\":\"#1f77b4\"},\"line_alpha\":{\"value\":0.1},\"line_color\":{\"value\":\"#1f77b4\"},\"x\":{\"field\":\"x\"},\"y\":{\"field\":\"y\"}},\"id\":\"4ca23560-cd4b-4833-ae82-f570363d1632\",\"type\":\"Circle\"},{\"attributes\":{\"line_color\":{\"value\":\"blue\"},\"line_width\":{\"value\":2},\"x\":{\"field\":\"x\"},\"y\":{\"field\":\"y\"}},\"id\":\"64f4e172-a97c-403b-8c8f-ad6e49d69ee4\",\"type\":\"Line\"},{\"attributes\":{\"plot\":{\"id\":\"e171ba59-1cfc-4a8b-b966-84bfc52cc038\",\"subtype\":\"Figure\",\"type\":\"Plot\"}},\"id\":\"6d22c845-d7f1-4bd0-807d-3928a50450d3\",\"type\":\"PanTool\"},{\"attributes\":{\"callback\":null,\"column_names\":[\"y\",\"x\"],\"data\":{\"x\":[1991,2001,2010,2017,2019,2029,2039],\"y\":[45047,57791,81995,107658,116368,171702,253347]}},\"id\":\"1e570bba-36f3-4c39-9a98-6047ed26bb89\",\"type\":\"ColumnDataSource\"},{\"attributes\":{\"callback\":null,\"column_names\":[\"x\",\"y\"],\"data\":{\"x\":[1991,2001,2010,2017,2019,2029,2039],\"y\":[1527,1981,2228,2442,2507,2858,3258]}},\"id\":\"18dc1215-e6ac-414b-aa5a-d9d1f83ebb8c\",\"type\":\"ColumnDataSource\"},{\"attributes\":{\"fill_alpha\":{\"value\":0.1},\"fill_color\":{\"value\":\"#1f77b4\"},\"line_alpha\":{\"value\":0.1},\"line_color\":{\"value\":\"#1f77b4\"},\"x\":{\"field\":\"x\"},\"y\":{\"field\":\"y\"}},\"id\":\"92f5d8a3-de8d-4a73-8b02-46a3862905c3\",\"type\":\"Circle\"},{\"attributes\":{\"data_source\":{\"id\":\"2ee3ae57-5670-4470-b42f-dd516f45de42\",\"type\":\"ColumnDataSource\"},\"glyph\":{\"id\":\"ec11c5ad-8892-4ebb-a4bb-75e4a88c8bbb\",\"type\":\"Circle\"},\"hover_glyph\":null,\"nonselection_glyph\":{\"id\":\"4ca23560-cd4b-4833-ae82-f570363d1632\",\"type\":\"Circle\"},\"selection_glyph\":null},\"id\":\"476c4fc4-8ad8-4481-a709-3ecc58ad3d59\",\"type\":\"GlyphRenderer\"},{\"attributes\":{\"callback\":null,\"column_names\":[\"x\",\"y\"],\"data\":{\"x\":[1991,2001,2010,2017,2019,2029,2039],\"y\":[20674,26183,31787,36950,38573,47825,59297]}},\"id\":\"57a69a8a-445b-405b-9ec0-33fe746bb850\",\"type\":\"ColumnDataSource\"},{\"attributes\":{\"data_source\":{\"id\":\"18dc1215-e6ac-414b-aa5a-d9d1f83ebb8c\",\"type\":\"ColumnDataSource\"},\"glyph\":{\"id\":\"eefd80d8-8e80-42a9-a872-7877d30fcc9a\",\"type\":\"Line\"},\"hover_glyph\":null,\"nonselection_glyph\":{\"id\":\"1e599f13-1bb4-4b0d-9ba9-012135d5632a\",\"type\":\"Line\"},\"selection_glyph\":null},\"id\":\"a23e5d21-78d2-4d6c-bb58-55cfcee74a26\",\"type\":\"GlyphRenderer\"},{\"attributes\":{\"callback\":null,\"column_names\":[\"x\",\"y\"],\"data\":{\"x\":[1991,2001,2010,2017,2019,2029,2039],\"y\":[45047,57791,81995,107658,116368,171702,253347]}},\"id\":\"51feb61d-ed0b-4183-b1b5-c56841593756\",\"type\":\"ColumnDataSource\"},{\"attributes\":{\"callback\":null,\"column_names\":[\"y\",\"x\"],\"data\":{\"x\":[1991,2001,2010,2017,2019,2029,2039],\"y\":[79340,89547,99430,107841,110372,123947,139192]}},\"id\":\"687fb3d0-606c-4e44-8a5a-a5d2b14c968c\",\"type\":\"ColumnDataSource\"},{\"attributes\":{\"line_alpha\":{\"value\":0.1},\"line_color\":{\"value\":\"#1f77b4\"},\"line_width\":{\"value\":2},\"x\":{\"field\":\"x\"},\"y\":{\"field\":\"y\"}},\"id\":\"1a5b170c-1e8d-421e-b01b-2f3dd7502661\",\"type\":\"Line\"},{\"attributes\":{\"fill_color\":{\"value\":\"green\"},\"line_color\":{\"value\":\"green\"},\"x\":{\"field\":\"x\"},\"y\":{\"field\":\"y\"}},\"id\":\"86a7bb51-76b4-4f44-a45c-6158023675f2\",\"type\":\"Circle\"},{\"attributes\":{\"line_color\":{\"value\":\"orange\"},\"line_width\":{\"value\":2},\"x\":{\"field\":\"x\"},\"y\":{\"field\":\"y\"}},\"id\":\"be98d1e9-bc9c-4e33-bd2e-3c16d5f61647\",\"type\":\"Line\"},{\"attributes\":{\"line_color\":{\"value\":\"olive\"},\"line_width\":{\"value\":2},\"x\":{\"field\":\"x\"},\"y\":{\"field\":\"y\"}},\"id\":\"17c6261f-38ca-4a51-8771-46b5ae108a9c\",\"type\":\"Line\"},{\"attributes\":{\"data_source\":{\"id\":\"02443952-08d9-4f96-a9a3-b1e0a795f91d\",\"type\":\"ColumnDataSource\"},\"glyph\":{\"id\":\"37e2eb39-6b3d-4a04-8416-9471896eb25f\",\"type\":\"Circle\"},\"hover_glyph\":null,\"nonselection_glyph\":{\"id\":\"c174e761-fee6-452e-a88d-d5fff7be2816\",\"type\":\"Circle\"},\"selection_glyph\":null},\"id\":\"f2e02761-5552-4afd-a685-5f40ba344920\",\"type\":\"GlyphRenderer\"},{\"attributes\":{\"callback\":null,\"column_names\":[\"y\",\"x\"],\"data\":{\"x\":[1991,2001,2010,2017,2019,2029,2039],\"y\":[7209,8292,11124,13975,14917,20666,28631]}},\"id\":\"2ee21b0c-6da4-44e8-a303-c14803fc9f1b\",\"type\":\"ColumnDataSource\"},{\"attributes\":{\"data_source\":{\"id\":\"11f2decb-658e-470f-8413-3fae2c8f1118\",\"type\":\"ColumnDataSource\"},\"glyph\":{\"id\":\"17c6261f-38ca-4a51-8771-46b5ae108a9c\",\"type\":\"Line\"},\"hover_glyph\":null,\"nonselection_glyph\":{\"id\":\"6837267b-a43e-4c19-80f5-0871a3f3fef4\",\"type\":\"Line\"},\"selection_glyph\":null},\"id\":\"f442bc7b-4003-4a6f-a02f-c0ce95333889\",\"type\":\"GlyphRenderer\"},{\"attributes\":{\"callback\":null},\"id\":\"e573d703-4a10-4a45-8d1b-6e5260c03002\",\"type\":\"DataRange1d\"},{\"attributes\":{\"line_alpha\":{\"value\":0.1},\"line_color\":{\"value\":\"#1f77b4\"},\"line_width\":{\"value\":2},\"x\":{\"field\":\"x\"},\"y\":{\"field\":\"y\"}},\"id\":\"8db36467-4f76-4b20-8067-416a4d58c523\",\"type\":\"Line\"},{\"attributes\":{\"fill_alpha\":{\"value\":0.1},\"fill_color\":{\"value\":\"#1f77b4\"},\"line_alpha\":{\"value\":0.1},\"line_color\":{\"value\":\"#1f77b4\"},\"x\":{\"field\":\"x\"},\"y\":{\"field\":\"y\"}},\"id\":\"017f55d7-3155-4589-86ee-4d2c53463935\",\"type\":\"Circle\"},{\"attributes\":{\"plot\":{\"id\":\"e171ba59-1cfc-4a8b-b966-84bfc52cc038\",\"subtype\":\"Figure\",\"type\":\"Plot\"}},\"id\":\"b9a3ac4e-746d-41c9-bd50-22cb2cdca983\",\"type\":\"WheelZoomTool\"},{\"attributes\":{\"plot\":{\"id\":\"e171ba59-1cfc-4a8b-b966-84bfc52cc038\",\"subtype\":\"Figure\",\"type\":\"Plot\"}},\"id\":\"a62afe90-101b-4653-aa2d-29330009741c\",\"type\":\"HelpTool\"},{\"attributes\":{\"data_source\":{\"id\":\"51feb61d-ed0b-4183-b1b5-c56841593756\",\"type\":\"ColumnDataSource\"},\"glyph\":{\"id\":\"64f4e172-a97c-403b-8c8f-ad6e49d69ee4\",\"type\":\"Line\"},\"hover_glyph\":null,\"nonselection_glyph\":{\"id\":\"db28386a-aa80-46ae-8b5b-e1197ee23033\",\"type\":\"Line\"},\"selection_glyph\":null},\"id\":\"aea2bdff-9f68-475c-a428-8b12fddb7db7\",\"type\":\"GlyphRenderer\"},{\"attributes\":{\"line_alpha\":{\"value\":0.1},\"line_color\":{\"value\":\"#1f77b4\"},\"line_width\":{\"value\":2},\"x\":{\"field\":\"x\"},\"y\":{\"field\":\"y\"}},\"id\":\"ca6034fe-f0e4-478e-af0c-30b8cccc650b\",\"type\":\"Line\"},{\"attributes\":{\"callback\":null,\"column_names\":[\"x\",\"y\"],\"data\":{\"x\":[1991,2001,2010,2017,2019,2029,2039],\"y\":[322,384,396,406,408,422,437]}},\"id\":\"eb0712b7-78d4-40f1-8f8b-eaf36dd2bc05\",\"type\":\"ColumnDataSource\"},{\"attributes\":{\"line_color\":{\"value\":\"pink\"},\"line_width\":{\"value\":2},\"x\":{\"field\":\"x\"},\"y\":{\"field\":\"y\"}},\"id\":\"e2c6eec7-d048-448f-93f2-30d4297802a4\",\"type\":\"Line\"},{\"attributes\":{\"line_color\":{\"value\":\"#164c71\"},\"line_width\":{\"value\":2},\"x\":{\"field\":\"x\"},\"y\":{\"field\":\"y\"}},\"id\":\"f096c91e-549e-4586-9e1c-7c29fe38bd69\",\"type\":\"Line\"},{\"attributes\":{\"line_color\":{\"value\":\"cyan\"},\"line_width\":{\"value\":2},\"x\":{\"field\":\"x\"},\"y\":{\"field\":\"y\"}},\"id\":\"94b2e737-1ec3-4ca9-95ab-e07117b8981c\",\"type\":\"Line\"},{\"attributes\":{\"data_source\":{\"id\":\"631c8753-eaa2-432e-95f2-43e0445d0b80\",\"type\":\"ColumnDataSource\"},\"glyph\":{\"id\":\"121f00a3-93e8-461a-9d32-ef60bbfe7bf6\",\"type\":\"Line\"},\"hover_glyph\":null,\"nonselection_glyph\":{\"id\":\"55db2f87-dd3a-40e5-bcf3-d995fb5b43de\",\"type\":\"Line\"},\"selection_glyph\":null},\"id\":\"f68ef56f-48f3-4136-9b33-754e4072d532\",\"type\":\"GlyphRenderer\"},{\"attributes\":{\"use_scientific\":false},\"id\":\"465522df-e03d-4ce5-b236-5cb1fb185eec\",\"type\":\"BasicTickFormatter\"},{\"attributes\":{\"fill_color\":{\"value\":\"pink\"},\"line_color\":{\"value\":\"pink\"},\"x\":{\"field\":\"x\"},\"y\":{\"field\":\"y\"}},\"id\":\"81ea09bc-2f31-4c26-9e4e-1f6bc42e21e0\",\"type\":\"Circle\"},{\"attributes\":{\"data_source\":{\"id\":\"57a69a8a-445b-405b-9ec0-33fe746bb850\",\"type\":\"ColumnDataSource\"},\"glyph\":{\"id\":\"e2c6eec7-d048-448f-93f2-30d4297802a4\",\"type\":\"Line\"},\"hover_glyph\":null,\"nonselection_glyph\":{\"id\":\"f4e63120-b096-4145-90db-6ddae9cea729\",\"type\":\"Line\"},\"selection_glyph\":null},\"id\":\"df72643d-e6d2-436f-84cb-fcf0c63a6d31\",\"type\":\"GlyphRenderer\"},{\"attributes\":{\"callback\":null,\"column_names\":[\"x\",\"y\"],\"data\":{\"x\":[1991,2001,2010,2017,2019,2029,2039],\"y\":[4642,5753,6627,7397,7633,8930,10448]}},\"id\":\"114bb813-c445-4b15-be82-3e0e28e61bff\",\"type\":\"ColumnDataSource\"},{\"attributes\":{\"callback\":null,\"column_names\":[\"x\",\"y\"],\"data\":{\"x\":[1991,2001,2010,2017,2019,2029,2039],\"y\":[23411,28486,32758,36512,37662,43976,51349]}},\"id\":\"631c8753-eaa2-432e-95f2-43e0445d0b80\",\"type\":\"ColumnDataSource\"},{\"attributes\":{\"line_alpha\":{\"value\":0.1},\"line_color\":{\"value\":\"#1f77b4\"},\"line_width\":{\"value\":2},\"x\":{\"field\":\"x\"},\"y\":{\"field\":\"y\"}},\"id\":\"55db2f87-dd3a-40e5-bcf3-d995fb5b43de\",\"type\":\"Line\"},{\"attributes\":{\"line_alpha\":{\"value\":0.1},\"line_color\":{\"value\":\"#1f77b4\"},\"line_width\":{\"value\":2},\"x\":{\"field\":\"x\"},\"y\":{\"field\":\"y\"}},\"id\":\"2b79756d-ce3d-4c04-b6fc-beccb342bc02\",\"type\":\"Line\"},{\"attributes\":{\"fill_color\":{\"value\":\"#164c71\"},\"line_color\":{\"value\":\"#164c71\"},\"x\":{\"field\":\"x\"},\"y\":{\"field\":\"y\"}},\"id\":\"37e2eb39-6b3d-4a04-8416-9471896eb25f\",\"type\":\"Circle\"},{\"attributes\":{\"fill_color\":{\"value\":\"blue\"},\"line_color\":{\"value\":\"blue\"},\"x\":{\"field\":\"x\"},\"y\":{\"field\":\"y\"}},\"id\":\"3b601986-f5d1-431e-b896-c427c8a92d9c\",\"type\":\"Circle\"},{\"attributes\":{\"line_alpha\":{\"value\":0.1},\"line_color\":{\"value\":\"#1f77b4\"},\"line_width\":{\"value\":2},\"x\":{\"field\":\"x\"},\"y\":{\"field\":\"y\"}},\"id\":\"12e8cd00-d65a-4bfd-ad46-b255368d0a14\",\"type\":\"Line\"},{\"attributes\":{\"bottom_units\":\"screen\",\"fill_alpha\":{\"value\":0.5},\"fill_color\":{\"value\":\"lightgrey\"},\"left_units\":\"screen\",\"level\":\"overlay\",\"line_alpha\":{\"value\":1.0},\"line_color\":{\"value\":\"black\"},\"line_dash\":[4,4],\"line_width\":{\"value\":2},\"plot\":null,\"render_mode\":\"css\",\"right_units\":\"screen\",\"top_units\":\"screen\"},\"id\":\"d9efb395-25af-4d6a-9b85-9399dd43a228\",\"type\":\"BoxAnnotation\"},{\"attributes\":{\"callback\":null,\"column_names\":[\"x\",\"y\"],\"data\":{\"x\":[1991,2001,2010,2017,2019,2029,2039],\"y\":[868,1079,1296,1495,1557,1910,2342]}},\"id\":\"11f2decb-658e-470f-8413-3fae2c8f1118\",\"type\":\"ColumnDataSource\"},{\"attributes\":{\"data_source\":{\"id\":\"953c52cb-559e-436a-aa52-26bf7da929c0\",\"type\":\"ColumnDataSource\"},\"glyph\":{\"id\":\"94b2e737-1ec3-4ca9-95ab-e07117b8981c\",\"type\":\"Line\"},\"hover_glyph\":null,\"nonselection_glyph\":{\"id\":\"2b79756d-ce3d-4c04-b6fc-beccb342bc02\",\"type\":\"Line\"},\"selection_glyph\":null},\"id\":\"636f3458-65d6-4d9d-bb2f-26132dcc7379\",\"type\":\"GlyphRenderer\"},{\"attributes\":{\"callback\":null,\"column_names\":[\"y\",\"x\"],\"data\":{\"x\":[1991,2001,2010,2017,2019,2029,2039],\"y\":[1913,2185,2374,2532,2579,2827,3100]}},\"id\":\"593d28e0-21e7-4410-8d1c-943d17646067\",\"type\":\"ColumnDataSource\"},{\"attributes\":{},\"id\":\"f099c306-fab8-47d8-ae16-dec79ab5b1f3\",\"type\":\"BasicTicker\"},{\"attributes\":{\"callback\":null,\"column_names\":[\"x\",\"y\"],\"data\":{\"x\":[1991,2001,2010,2017,2019,2029,2039],\"y\":[125725,137061,177083,216182,228862,304332,404689]}},\"id\":\"666eca67-18cd-4af9-bd69-2a1caf72b7be\",\"type\":\"ColumnDataSource\"},{\"attributes\":{\"data_source\":{\"id\":\"eb0712b7-78d4-40f1-8f8b-eaf36dd2bc05\",\"type\":\"ColumnDataSource\"},\"glyph\":{\"id\":\"0d263f35-0d13-4349-911c-9dc3794ae194\",\"type\":\"Line\"},\"hover_glyph\":null,\"nonselection_glyph\":{\"id\":\"8db36467-4f76-4b20-8067-416a4d58c523\",\"type\":\"Line\"},\"selection_glyph\":null},\"id\":\"757dca43-db0e-4ae8-96dc-d0b5633df7af\",\"type\":\"GlyphRenderer\"},{\"attributes\":{\"line_color\":{\"value\":\"green\"},\"line_width\":{\"value\":2},\"x\":{\"field\":\"x\"},\"y\":{\"field\":\"y\"}},\"id\":\"121f00a3-93e8-461a-9d32-ef60bbfe7bf6\",\"type\":\"Line\"},{\"attributes\":{},\"id\":\"bdd261de-673c-4bab-b3c5-386e254789c5\",\"type\":\"BasicTickFormatter\"},{\"attributes\":{\"axis_label\":\"Tiempo\",\"formatter\":{\"id\":\"bdd261de-673c-4bab-b3c5-386e254789c5\",\"type\":\"BasicTickFormatter\"},\"plot\":{\"id\":\"e171ba59-1cfc-4a8b-b966-84bfc52cc038\",\"subtype\":\"Figure\",\"type\":\"Plot\"},\"ticker\":{\"id\":\"92777b61-dccf-4b59-843b-2d7481d88e77\",\"type\":\"BasicTicker\"}},\"id\":\"dc965db2-68be-4351-9502-46cf5b22f306\",\"type\":\"LinearAxis\"},{\"attributes\":{\"data_source\":{\"id\":\"114bb813-c445-4b15-be82-3e0e28e61bff\",\"type\":\"ColumnDataSource\"},\"glyph\":{\"id\":\"55156d98-3d56-4db1-ab84-28a330a33495\",\"type\":\"Line\"},\"hover_glyph\":null,\"nonselection_glyph\":{\"id\":\"20022c7a-71eb-481e-b90c-e8de7fe27df4\",\"type\":\"Line\"},\"selection_glyph\":null},\"id\":\"10d15e52-d4ee-4a0b-b3a9-e359493576c4\",\"type\":\"GlyphRenderer\"},{\"attributes\":{\"data_source\":{\"id\":\"6b44abdf-a43c-4fb6-9efe-f427f2bc1896\",\"type\":\"ColumnDataSource\"},\"glyph\":{\"id\":\"10f73258-7aa7-4478-8c3f-aeeb94073755\",\"type\":\"Circle\"},\"hover_glyph\":null,\"nonselection_glyph\":{\"id\":\"cd058263-1c88-4bcf-8c5a-ca6f2c0f2935\",\"type\":\"Circle\"},\"selection_glyph\":null},\"id\":\"60c53465-bd76-4422-9f7e-e983d23a00ca\",\"type\":\"GlyphRenderer\"},{\"attributes\":{\"data_source\":{\"id\":\"f0306bb3-f579-495d-819a-b4083f1b19ae\",\"type\":\"ColumnDataSource\"},\"glyph\":{\"id\":\"af859d2c-0256-45cf-8c15-b59eb722252f\",\"type\":\"Circle\"},\"hover_glyph\":null,\"nonselection_glyph\":{\"id\":\"6a26ffb6-d8e7-473f-88d0-35fb252a8cd1\",\"type\":\"Circle\"},\"selection_glyph\":null},\"id\":\"7dd964e1-c8d7-45d5-9ed0-77cb12f175b1\",\"type\":\"GlyphRenderer\"},{\"attributes\":{\"callback\":null,\"column_names\":[\"y\",\"x\"],\"data\":{\"x\":[1991,2001,2010,2017,2019,2029,2039],\"y\":[322,384,396,406,408,422,437]}},\"id\":\"67bdd473-3938-4a56-99d4-532a2c9d6d98\",\"type\":\"ColumnDataSource\"},{\"attributes\":{\"fill_color\":{\"value\":\"magenta\"},\"line_color\":{\"value\":\"magenta\"},\"x\":{\"field\":\"x\"},\"y\":{\"field\":\"y\"}},\"id\":\"af859d2c-0256-45cf-8c15-b59eb722252f\",\"type\":\"Circle\"},{\"attributes\":{\"data_source\":{\"id\":\"f2e055be-b728-4f7a-9ada-d2b8102f6690\",\"type\":\"ColumnDataSource\"},\"glyph\":{\"id\":\"f096c91e-549e-4586-9e1c-7c29fe38bd69\",\"type\":\"Line\"},\"hover_glyph\":null,\"nonselection_glyph\":{\"id\":\"1a5b170c-1e8d-421e-b01b-2f3dd7502661\",\"type\":\"Line\"},\"selection_glyph\":null},\"id\":\"b6dd40e3-89f1-4327-a07e-de9dd770bd72\",\"type\":\"GlyphRenderer\"},{\"attributes\":{\"line_color\":{\"value\":\"yellow\"},\"line_width\":{\"value\":2},\"x\":{\"field\":\"x\"},\"y\":{\"field\":\"y\"}},\"id\":\"e56c6b95-33b4-4084-838d-49b0a1084312\",\"type\":\"Line\"},{\"attributes\":{},\"id\":\"92777b61-dccf-4b59-843b-2d7481d88e77\",\"type\":\"BasicTicker\"},{\"attributes\":{\"callback\":null,\"column_names\":[\"y\",\"x\"],\"data\":{\"x\":[1991,2001,2010,2017,2019,2029,2039],\"y\":[1527,1981,2228,2442,2507,2858,3258]}},\"id\":\"f0306bb3-f579-495d-819a-b4083f1b19ae\",\"type\":\"ColumnDataSource\"},{\"attributes\":{\"callback\":null,\"column_names\":[\"y\",\"x\"],\"data\":{\"x\":[1991,2001,2010,2017,2019,2029,2039],\"y\":[23411,28486,32758,36512,37662,43976,51349]}},\"id\":\"20c11cef-dd62-4567-9d00-8cf1bb3d6f1b\",\"type\":\"ColumnDataSource\"},{\"attributes\":{\"line_color\":{\"value\":\"firebrick\"},\"line_width\":{\"value\":2},\"x\":{\"field\":\"x\"},\"y\":{\"field\":\"y\"}},\"id\":\"55156d98-3d56-4db1-ab84-28a330a33495\",\"type\":\"Line\"},{\"attributes\":{\"fill_alpha\":{\"value\":0.1},\"fill_color\":{\"value\":\"#1f77b4\"},\"line_alpha\":{\"value\":0.1},\"line_color\":{\"value\":\"#1f77b4\"},\"x\":{\"field\":\"x\"},\"y\":{\"field\":\"y\"}},\"id\":\"2a0a3b6e-66c6-40ea-869a-6e7d620ea2dd\",\"type\":\"Circle\"},{\"attributes\":{\"data_source\":{\"id\":\"67bdd473-3938-4a56-99d4-532a2c9d6d98\",\"type\":\"ColumnDataSource\"},\"glyph\":{\"id\":\"ac68af68-e658-4470-a37b-b79171a32c7b\",\"type\":\"Circle\"},\"hover_glyph\":null,\"nonselection_glyph\":{\"id\":\"017f55d7-3155-4589-86ee-4d2c53463935\",\"type\":\"Circle\"},\"selection_glyph\":null},\"id\":\"7a8ac56c-3730-47c0-aac0-364e5db05de4\",\"type\":\"GlyphRenderer\"},{\"attributes\":{\"fill_color\":{\"value\":\"yellow\"},\"line_color\":{\"value\":\"yellow\"},\"x\":{\"field\":\"x\"},\"y\":{\"field\":\"y\"}},\"id\":\"a59b3726-85b1-4585-bb25-0824e2d3362f\",\"type\":\"Circle\"},{\"attributes\":{\"fill_alpha\":{\"value\":0.1},\"fill_color\":{\"value\":\"#1f77b4\"},\"line_alpha\":{\"value\":0.1},\"line_color\":{\"value\":\"#1f77b4\"},\"x\":{\"field\":\"x\"},\"y\":{\"field\":\"y\"}},\"id\":\"690bfcd2-c5e3-4e82-87a7-593c6e048d02\",\"type\":\"Circle\"},{\"attributes\":{\"data_source\":{\"id\":\"f76df5ed-b17d-48e1-a795-4fbf923a9b8e\",\"type\":\"ColumnDataSource\"},\"glyph\":{\"id\":\"cdad3ac8-1803-43d3-be1a-4033cebc4b32\",\"type\":\"Circle\"},\"hover_glyph\":null,\"nonselection_glyph\":{\"id\":\"d0177793-ea5e-4489-b831-0a66040c1705\",\"type\":\"Circle\"},\"selection_glyph\":null},\"id\":\"2a53e1dc-673b-4ebd-902a-f951f63f4c80\",\"type\":\"GlyphRenderer\"},{\"attributes\":{\"line_color\":{\"value\":\"magenta\"},\"line_width\":{\"value\":2},\"x\":{\"field\":\"x\"},\"y\":{\"field\":\"y\"}},\"id\":\"eefd80d8-8e80-42a9-a872-7877d30fcc9a\",\"type\":\"Line\"},{\"attributes\":{\"align\":\"center\",\"plot\":null,\"text\":\"Poblaci\\u00f3n - Proyecci\\u00f3n Geom\\u00e9trica\",\"text_color\":{\"value\":\"blue\"},\"text_font\":\"times\",\"text_font_size\":{\"value\":\"20px\"},\"text_font_style\":\"italic\"},\"id\":\"fa8d7c12-697e-437b-9ec1-e1a5b3168403\",\"type\":\"Title\"},{\"attributes\":{\"data_source\":{\"id\":\"1e570bba-36f3-4c39-9a98-6047ed26bb89\",\"type\":\"ColumnDataSource\"},\"glyph\":{\"id\":\"3b601986-f5d1-431e-b896-c427c8a92d9c\",\"type\":\"Circle\"},\"hover_glyph\":null,\"nonselection_glyph\":{\"id\":\"92f5d8a3-de8d-4a73-8b02-46a3862905c3\",\"type\":\"Circle\"},\"selection_glyph\":null},\"id\":\"e87eee3c-726a-487d-8d8e-3bd90cde95aa\",\"type\":\"GlyphRenderer\"},{\"attributes\":{\"line_color\":{\"value\":\"red\"},\"line_width\":{\"value\":2},\"x\":{\"field\":\"x\"},\"y\":{\"field\":\"y\"}},\"id\":\"cc52314f-97ec-4df0-82c8-5b3515dea764\",\"type\":\"Line\"},{\"attributes\":{\"data_source\":{\"id\":\"e9293d4d-03ed-4aa2-b2e0-a9aa1d766fef\",\"type\":\"ColumnDataSource\"},\"glyph\":{\"id\":\"cafab83e-90cf-4ab9-a88b-78d666c86058\",\"type\":\"Circle\"},\"hover_glyph\":null,\"nonselection_glyph\":{\"id\":\"737edd7b-7467-4129-a296-c6f9d0103742\",\"type\":\"Circle\"},\"selection_glyph\":null},\"id\":\"1c7a6023-980f-472e-9faa-3da8dc5fb2bf\",\"type\":\"GlyphRenderer\"},{\"attributes\":{\"legends\":[[\"Comodoro Rivadavia\",[{\"id\":\"476c4fc4-8ad8-4481-a709-3ecc58ad3d59\",\"type\":\"GlyphRenderer\"},{\"id\":\"13be021a-7234-4237-8b5a-1c73b7ced9c9\",\"type\":\"GlyphRenderer\"}]],[\"Trelew\",[{\"id\":\"74f9fca9-82cd-4b50-ab3b-48121629d683\",\"type\":\"GlyphRenderer\"},{\"id\":\"dde20482-0a73-4aeb-9142-80e0013920b1\",\"type\":\"GlyphRenderer\"}]],[\"Puerto Madryn\",[{\"id\":\"e87eee3c-726a-487d-8d8e-3bd90cde95aa\",\"type\":\"GlyphRenderer\"},{\"id\":\"aea2bdff-9f68-475c-a428-8b12fddb7db7\",\"type\":\"GlyphRenderer\"}]],[\"Esquel\",[{\"id\":\"1fe921f1-5fee-448d-bb68-76efbe91702f\",\"type\":\"GlyphRenderer\"},{\"id\":\"f68ef56f-48f3-4136-9b33-754e4072d532\",\"type\":\"GlyphRenderer\"}]],[\"Sarmiento\",[{\"id\":\"fe8ecc66-ea1f-4e3f-92cf-856c688021a1\",\"type\":\"GlyphRenderer\"},{\"id\":\"53699f26-0e9c-41de-bb5b-0ab7a6ada7b5\",\"type\":\"GlyphRenderer\"}]],[\"Rawson\",[{\"id\":\"56869256-a401-41a9-8dab-946e1e8a4c3f\",\"type\":\"GlyphRenderer\"},{\"id\":\"df72643d-e6d2-436f-84cb-fcf0c63a6d31\",\"type\":\"GlyphRenderer\"}]],[\"Dolavon\",[{\"id\":\"60c53465-bd76-4422-9f7e-e983d23a00ca\",\"type\":\"GlyphRenderer\"},{\"id\":\"a47859dc-3ede-4a51-a78e-b81dc859637c\",\"type\":\"GlyphRenderer\"}]],[\"Gaiman\",[{\"id\":\"2a53e1dc-673b-4ebd-902a-f951f63f4c80\",\"type\":\"GlyphRenderer\"},{\"id\":\"10d15e52-d4ee-4a0b-b3a9-e359493576c4\",\"type\":\"GlyphRenderer\"}]],[\"Gobernador Costa\",[{\"id\":\"fd7adfa3-e4d6-4c39-a7c6-35eaab5809df\",\"type\":\"GlyphRenderer\"},{\"id\":\"636f3458-65d6-4d9d-bb2f-26132dcc7379\",\"type\":\"GlyphRenderer\"}]],[\"Cholila\",[{\"id\":\"7dd964e1-c8d7-45d5-9ed0-77cb12f175b1\",\"type\":\"GlyphRenderer\"},{\"id\":\"a23e5d21-78d2-4d6c-bb58-55cfcee74a26\",\"type\":\"GlyphRenderer\"}]],[\"Camarones\",[{\"id\":\"1c7a6023-980f-472e-9faa-3da8dc5fb2bf\",\"type\":\"GlyphRenderer\"},{\"id\":\"f442bc7b-4003-4a6f-a02f-c0ce95333889\",\"type\":\"GlyphRenderer\"}]],[\"Paso de Indios\",[{\"id\":\"f2e02761-5552-4afd-a685-5f40ba344920\",\"type\":\"GlyphRenderer\"},{\"id\":\"b6dd40e3-89f1-4327-a07e-de9dd770bd72\",\"type\":\"GlyphRenderer\"}]],[\"Paso del Sapo\",[{\"id\":\"7a8ac56c-3730-47c0-aac0-364e5db05de4\",\"type\":\"GlyphRenderer\"},{\"id\":\"757dca43-db0e-4ae8-96dc-d0b5633df7af\",\"type\":\"GlyphRenderer\"}]]],\"plot\":{\"id\":\"e171ba59-1cfc-4a8b-b966-84bfc52cc038\",\"subtype\":\"Figure\",\"type\":\"Plot\"}},\"id\":\"6edd759d-fdd3-4b78-97b2-e1738ae27af2\",\"type\":\"Legend\"},{\"attributes\":{\"data_source\":{\"id\":\"593d28e0-21e7-4410-8d1c-943d17646067\",\"type\":\"ColumnDataSource\"},\"glyph\":{\"id\":\"f75a2970-60e2-47ac-8b6a-004924ce8464\",\"type\":\"Circle\"},\"hover_glyph\":null,\"nonselection_glyph\":{\"id\":\"690bfcd2-c5e3-4e82-87a7-593c6e048d02\",\"type\":\"Circle\"},\"selection_glyph\":null},\"id\":\"fd7adfa3-e4d6-4c39-a7c6-35eaab5809df\",\"type\":\"GlyphRenderer\"},{\"attributes\":{\"line_color\":{\"value\":\"#7c1b65\"},\"line_width\":{\"value\":2},\"x\":{\"field\":\"x\"},\"y\":{\"field\":\"y\"}},\"id\":\"0d263f35-0d13-4349-911c-9dc3794ae194\",\"type\":\"Line\"},{\"attributes\":{\"fill_alpha\":{\"value\":0.1},\"fill_color\":{\"value\":\"#1f77b4\"},\"line_alpha\":{\"value\":0.1},\"line_color\":{\"value\":\"#1f77b4\"},\"x\":{\"field\":\"x\"},\"y\":{\"field\":\"y\"}},\"id\":\"d0177793-ea5e-4489-b831-0a66040c1705\",\"type\":\"Circle\"},{\"attributes\":{\"callback\":null,\"column_names\":[\"y\",\"x\"],\"data\":{\"x\":[1991,2001,2010,2017,2019,2029,2039],\"y\":[2613,2929,3307,3635,3734,4274,4892]}},\"id\":\"6b44abdf-a43c-4fb6-9efe-f427f2bc1896\",\"type\":\"ColumnDataSource\"},{\"attributes\":{\"active_drag\":\"auto\",\"active_scroll\":\"auto\",\"active_tap\":\"auto\",\"tools\":[{\"id\":\"6d22c845-d7f1-4bd0-807d-3928a50450d3\",\"type\":\"PanTool\"},{\"id\":\"b9a3ac4e-746d-41c9-bd50-22cb2cdca983\",\"type\":\"WheelZoomTool\"},{\"id\":\"ac0bdf47-e86c-4ba5-a1d1-99d18098adc7\",\"type\":\"BoxZoomTool\"},{\"id\":\"958dec0d-4dc4-4312-9c5b-36590da7e678\",\"type\":\"SaveTool\"},{\"id\":\"de13c77f-f640-4dc2-84e0-223d762ab8ac\",\"type\":\"ResetTool\"},{\"id\":\"a62afe90-101b-4653-aa2d-29330009741c\",\"type\":\"HelpTool\"}]},\"id\":\"96402557-dc91-472b-997c-faa94a5b4cfd\",\"type\":\"Toolbar\"}],\"root_ids\":[\"e171ba59-1cfc-4a8b-b966-84bfc52cc038\"]},\"title\":\"Bokeh Application\",\"version\":\"0.12.0\"}};\n",
       "            var render_items = [{\"docid\":\"f21bef68-24ef-4baf-9aca-382896aae40f\",\"elementid\":\"2c3d67c9-4b42-47ec-ba10-4eeba15701a0\",\"modelid\":\"e171ba59-1cfc-4a8b-b966-84bfc52cc038\",\"notebook_comms_target\":\"f3b2e290-54a0-464b-8138-ea52dd9ce504\"}];\n",
       "            \n",
       "            Bokeh.embed.embed_items(docs_json, render_items);\n",
       "        });\n",
       "      },\n",
       "      function(Bokeh) {\n",
       "      }\n",
       "    ];\n",
       "  \n",
       "    function run_inline_js() {\n",
       "      for (var i = 0; i < inline_js.length; i++) {\n",
       "        inline_js[i](window.Bokeh);\n",
       "      }\n",
       "    }\n",
       "  \n",
       "    if (window._bokeh_is_loading === 0) {\n",
       "      console.log(\"Bokeh: BokehJS loaded, going straight to plotting\");\n",
       "      run_inline_js();\n",
       "    } else {\n",
       "      load_libs(js_urls, function() {\n",
       "        console.log(\"Bokeh: BokehJS plotting callback run at\", now());\n",
       "        run_inline_js();\n",
       "      });\n",
       "    }\n",
       "  }(this));\n",
       "</script>"
      ]
     },
     "metadata": {},
     "output_type": "display_data"
    },
    {
     "data": {
      "text/html": [
       "<p><code>&lt;Bokeh Notebook handle for <strong>In[37]</strong>&gt;</code></p>"
      ],
      "text/plain": [
       "<bokeh.io._CommsHandle at 0xada28b2c>"
      ]
     },
     "execution_count": 37,
     "metadata": {},
     "output_type": "execute_result"
    }
   ],
   "source": [
    "x = tiempo\n",
    "colores=[\"red\",\"orange\",\"blue\",\"green\",\"yellow\",\"pink\",\"navy\",\"firebrick\",\"cyan\",\"magenta\",\"olive\",\"#164c71\",\"#7c1b65\"]\n",
    "\n",
    "p = figure(title=\"Población - Proyección Geométrica\",plot_width=900)\n",
    "p.title.align = \"center\"\n",
    "p.title.text_color = \"blue\"\n",
    "p.title.text_font = \"times\"\n",
    "p.title.text_font_style = \"italic\"\n",
    "p.title.text_font_size = \"20px\"\n",
    "\n",
    "p.left[0].formatter.use_scientific = False\n",
    "\n",
    "for i in range(len(ciudades)):\n",
    "    p.circle(x,lis_of_list[i], legend=ciudades[i],fill_color=colores[i],line_color=colores[i])\n",
    "    p.line(x, lis_of_list[i], legend=ciudades[i],line_color=colores[i], line_width=2)\n",
    "\n",
    "p.xaxis.axis_label = 'Tiempo'\n",
    "p.yaxis.axis_label = 'Población'\n",
    "\n",
    "show(p)"
   ]
  },
  {
   "cell_type": "code",
   "execution_count": null,
   "metadata": {
    "collapsed": true
   },
   "outputs": [],
   "source": []
  }
 ],
 "metadata": {
  "anaconda-cloud": {},
  "kernelspec": {
   "display_name": "Python [Root]",
   "language": "python",
   "name": "Python [Root]"
  },
  "language_info": {
   "codemirror_mode": {
    "name": "ipython",
    "version": 3
   },
   "file_extension": ".py",
   "mimetype": "text/x-python",
   "name": "python",
   "nbconvert_exporter": "python",
   "pygments_lexer": "ipython3",
   "version": "3.5.2"
  }
 },
 "nbformat": 4,
 "nbformat_minor": 2
}
