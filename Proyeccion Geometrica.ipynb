{
 "cells": [
  {
   "cell_type": "code",
   "execution_count": 24,
   "metadata": {
    "collapsed": false
   },
   "outputs": [
    {
     "data": {
      "text/html": [
       "<script>\n",
       "code_show=true; \n",
       "function code_toggle() {\n",
       " if (code_show){\n",
       " $('div.input').hide();\n",
       " } else {\n",
       " $('div.input').show();\n",
       " }\n",
       " code_show = !code_show\n",
       "} \n",
       "$( document ).ready(code_toggle);\n",
       "</script>\n",
       "<form action=\"javascript:code_toggle()\"><input type=\"submit\" value=\"Click aquí para ver el código.\"></form>"
      ],
      "text/plain": [
       "<IPython.core.display.HTML object>"
      ]
     },
     "execution_count": 24,
     "metadata": {},
     "output_type": "execute_result"
    }
   ],
   "source": [
    "from IPython.display import HTML\n",
    "\n",
    "HTML('''<script>\n",
    "code_show=true; \n",
    "function code_toggle() {\n",
    " if (code_show){\n",
    " $('div.input').hide();\n",
    " } else {\n",
    " $('div.input').show();\n",
    " }\n",
    " code_show = !code_show\n",
    "} \n",
    "$( document ).ready(code_toggle);\n",
    "</script>\n",
    "<form action=\"javascript:code_toggle()\"><input type=\"submit\" value=\"Click aquí para ver el código.\"></form>''')"
   ]
  },
  {
   "cell_type": "code",
   "execution_count": 25,
   "metadata": {
    "collapsed": false
   },
   "outputs": [
    {
     "data": {
      "text/html": [
       "<p align=\"center\"> <font size=\"6\" color=\"#0404B4\" face=\"sans-serif\"> <b> Proyección Geométrica <b> </font> </p>"
      ],
      "text/plain": [
       "<IPython.core.display.HTML object>"
      ]
     },
     "execution_count": 25,
     "metadata": {},
     "output_type": "execute_result"
    }
   ],
   "source": [
    "HTML(\"\"\"<p align=\"center\"> <font size=\"6\" color=\"#0404B4\" face=\"sans-serif\"> <b> Proyección Geométrica <b> </font> </p>\"\"\")"
   ]
  },
  {
   "cell_type": "markdown",
   "metadata": {},
   "source": [
    "# # Entrada de valores de los tres últimos censos"
   ]
  },
  {
   "cell_type": "code",
   "execution_count": 26,
   "metadata": {
    "collapsed": true
   },
   "outputs": [],
   "source": [
    "censos = [1991,2001,2010]\n",
    "\n",
    "poblacion0 = [125725,137061,177083] # Comodoro Rivadavia\n",
    "poblacion1 = [79340,89547,99430] # Trelew\n",
    "poblacion2 = [45047,57791,81995] # Puerto Madryn\n",
    "poblacion3 = [23411,28486,32758] # Esquel\n",
    "poblacion4 = [7209,8292,11124] # Sarmiento\n",
    "poblacion5 = [20674,26183,31787] # Rawson\n",
    "poblacion6 = [2613,2929,3307] # Dolavon\n",
    "poblacion7 = [4642,5753,6627] # Gaiman\n",
    "poblacion8 = [1913,2185,2374] # Gobernador Costa\n",
    "poblacion9 = [1527,1981,2228] # Cholila\n",
    "poblacion10 = [868,1079,1296] # Camarones\n",
    "poblacion11 = [864,1087,1264] # Paso de Indios\n",
    "poblacion12 = [322,384,396] # Paso del sapo\n",
    "poblaciones = [poblacion0, poblacion1, poblacion2, poblacion3, poblacion4, poblacion5, poblacion6, poblacion7, poblacion8, poblacion9, poblacion10, poblacion11, poblacion12]\n",
    "\n",
    "año_actual= 2017"
   ]
  },
  {
   "cell_type": "markdown",
   "metadata": {},
   "source": [
    "# # Armamos una lista de \"tiempos\""
   ]
  },
  {
   "cell_type": "code",
   "execution_count": 27,
   "metadata": {
    "collapsed": true
   },
   "outputs": [],
   "source": [
    "tiempo = [0] * 7\n",
    "for i in range(len(censos)):\n",
    "    tiempo[i] = censos[i]\n",
    "\n",
    "tiempo[3]=año_actual\n",
    "tiempo[4]=tiempo[3]+2\n",
    "tiempo[5]=tiempo[4]+10\n",
    "tiempo[6]=tiempo[5]+10"
   ]
  },
  {
   "cell_type": "markdown",
   "metadata": {},
   "source": [
    "# # Resolvemos el método devolviendo una lista de \"datos\""
   ]
  },
  {
   "cell_type": "code",
   "execution_count": 28,
   "metadata": {
    "collapsed": true
   },
   "outputs": [],
   "source": [
    "from math import e, log, exp     #log es el logaritmo en base e y log10 es en base 10"
   ]
  },
  {
   "cell_type": "code",
   "execution_count": 29,
   "metadata": {
    "collapsed": false
   },
   "outputs": [],
   "source": [
    "def metodo_proyeccion_geometrica(poblacion, tiempo):\n",
    "\n",
    "    datos = [0] * 7\n",
    "    for i in range(len(poblacion)):\n",
    "        datos[i] = poblacion[i]\n",
    "\n",
    "\n",
    "    kg=(log(datos[2])-log(datos[1]))/(tiempo[2]-tiempo[1])\n",
    "    kg=round(kg,4)\n",
    "\n",
    "    Pa=exp(log(datos[2])+kg*(tiempo[3]-tiempo[2]))\n",
    "    Pa=round(Pa,0)\n",
    "    Pa=int(Pa)\n",
    "\n",
    "\n",
    "    P0=exp(log(datos[2])+kg*(tiempo[4]-tiempo[2]))\n",
    "    P0=round(P0,0)\n",
    "    P0=int(P0)\n",
    "\n",
    "\n",
    "    P10=exp(log(datos[2])+kg*(tiempo[5]-tiempo[2]))\n",
    "    P10=round(P10,0)\n",
    "    P10=int(P10)\n",
    "\n",
    "\n",
    "    P20=exp(log(datos[2])+kg*(tiempo[6]-tiempo[2]))\n",
    "    P20=round(P20,0)\n",
    "    P20=int(P20)\n",
    "\n",
    "\n",
    "    datos[3]=Pa\n",
    "    datos[4]=P0\n",
    "    datos[5]=P10\n",
    "    datos[6]=P20\n",
    "\n",
    "    return datos"
   ]
  },
  {
   "cell_type": "markdown",
   "metadata": {},
   "source": [
    "# # Mostramos las listas de \"tiempo\" y \"proyecciones\" para cada \"poblacion\""
   ]
  },
  {
   "cell_type": "code",
   "execution_count": 30,
   "metadata": {
    "collapsed": false
   },
   "outputs": [],
   "source": [
    "proyecciones = [0] * len(poblaciones)\n",
    "\n",
    "for i in range(len(poblaciones)):\n",
    "    proyecciones[i] = metodo_proyeccion_geometrica(poblaciones[i], tiempo)\n",
    "    #print (proyecciones[i])\n"
   ]
  },
  {
   "cell_type": "markdown",
   "metadata": {},
   "source": [
    "# # Armamos una tabla para mostrar los resultados"
   ]
  },
  {
   "cell_type": "code",
   "execution_count": 31,
   "metadata": {
    "collapsed": true
   },
   "outputs": [],
   "source": [
    "tabla = proyecciones\n",
    "tabla.reverse()\n",
    "tabla.append(tiempo)\n",
    "tabla.reverse()"
   ]
  },
  {
   "cell_type": "code",
   "execution_count": 32,
   "metadata": {
    "collapsed": true
   },
   "outputs": [],
   "source": [
    "ciudades=[\"Ciudades\",\"Comodoro Rivadavia\",\"Trelew\",\"Puerto Madryn\",\"Esquel\",\"Sarmiento\",\"Rawson\",\"Dolavon\",\"Gaiman\",\"Gobernador Costa\",\"Cholila\",\"Camarones\",\"Paso de Indios\",\"Paso del Sapo\"]"
   ]
  },
  {
   "cell_type": "code",
   "execution_count": 33,
   "metadata": {
    "collapsed": true
   },
   "outputs": [],
   "source": [
    "for i in range(len(ciudades)):\n",
    "    tabla[i].insert(0, ciudades[i])"
   ]
  },
  {
   "cell_type": "code",
   "execution_count": 34,
   "metadata": {
    "collapsed": false
   },
   "outputs": [
    {
     "data": {
      "text/html": [
       "<table><tr><td>Ciudades</td><td>1991</td><td>2001</td><td>2010</td><td>2017</td><td>2019</td><td>2029</td><td>2039</td></tr><tr><td>Comodoro Rivadavia</td><td>125725</td><td>137061</td><td>177083</td><td>216182</td><td>228862</td><td>304332</td><td>404689</td></tr><tr><td>Trelew</td><td>79340</td><td>89547</td><td>99430</td><td>107841</td><td>110372</td><td>123947</td><td>139192</td></tr><tr><td>Puerto Madryn</td><td>45047</td><td>57791</td><td>81995</td><td>107658</td><td>116368</td><td>171702</td><td>253347</td></tr><tr><td>Esquel</td><td>23411</td><td>28486</td><td>32758</td><td>36512</td><td>37662</td><td>43976</td><td>51349</td></tr><tr><td>Sarmiento</td><td>7209</td><td>8292</td><td>11124</td><td>13975</td><td>14917</td><td>20666</td><td>28631</td></tr><tr><td>Rawson</td><td>20674</td><td>26183</td><td>31787</td><td>36950</td><td>38573</td><td>47825</td><td>59297</td></tr><tr><td>Dolavon</td><td>2613</td><td>2929</td><td>3307</td><td>3635</td><td>3734</td><td>4274</td><td>4892</td></tr><tr><td>Gaiman</td><td>4642</td><td>5753</td><td>6627</td><td>7397</td><td>7633</td><td>8930</td><td>10448</td></tr><tr><td>Gobernador Costa</td><td>1913</td><td>2185</td><td>2374</td><td>2532</td><td>2579</td><td>2827</td><td>3100</td></tr><tr><td>Cholila</td><td>1527</td><td>1981</td><td>2228</td><td>2442</td><td>2507</td><td>2858</td><td>3258</td></tr><tr><td>Camarones</td><td>868</td><td>1079</td><td>1296</td><td>1495</td><td>1557</td><td>1910</td><td>2342</td></tr><tr><td>Paso de Indios</td><td>864</td><td>1087</td><td>1264</td><td>1422</td><td>1470</td><td>1739</td><td>2057</td></tr><tr><td>Paso del Sapo</td><td>322</td><td>384</td><td>396</td><td>406</td><td>408</td><td>422</td><td>437</td></tr></table>"
      ],
      "text/plain": [
       "<IPython.core.display.HTML object>"
      ]
     },
     "metadata": {},
     "output_type": "display_data"
    }
   ],
   "source": [
    "from IPython.display import HTML, display\n",
    "\n",
    "display(HTML(\n",
    "    '<table><tr>{}</tr></table>'.format(\n",
    "        '</tr><tr>'.join(\n",
    "            '<td>{}</td>'.format('</td><td>'.join(str(_) for _ in row)) for row in tabla)\n",
    "        )\n",
    " ))"
   ]
  },
  {
   "cell_type": "markdown",
   "metadata": {},
   "source": [
    "# # Importamos librerias para graficar"
   ]
  },
  {
   "cell_type": "code",
   "execution_count": 35,
   "metadata": {
    "collapsed": false
   },
   "outputs": [
    {
     "data": {
      "text/html": [
       "\n",
       "    <div class=\"bk-root\">\n",
       "        <a href=\"http://bokeh.pydata.org\" target=\"_blank\" class=\"bk-logo bk-logo-small bk-logo-notebook\"></a>\n",
       "        <span id=\"1e6d9731-2a21-4fd6-9e86-8141b63e4108\">Loading BokehJS ...</span>\n",
       "    </div>"
      ]
     },
     "metadata": {},
     "output_type": "display_data"
    },
    {
     "data": {
      "application/javascript": [
       "\n",
       "(function(global) {\n",
       "  function now() {\n",
       "    return new Date();\n",
       "  }\n",
       "\n",
       "  if (typeof (window._bokeh_onload_callbacks) === \"undefined\") {\n",
       "    window._bokeh_onload_callbacks = [];\n",
       "  }\n",
       "\n",
       "  function run_callbacks() {\n",
       "    window._bokeh_onload_callbacks.forEach(function(callback) { callback() });\n",
       "    delete window._bokeh_onload_callbacks\n",
       "    console.info(\"Bokeh: all callbacks have finished\");\n",
       "  }\n",
       "\n",
       "  function load_libs(js_urls, callback) {\n",
       "    window._bokeh_onload_callbacks.push(callback);\n",
       "    if (window._bokeh_is_loading > 0) {\n",
       "      console.log(\"Bokeh: BokehJS is being loaded, scheduling callback at\", now());\n",
       "      return null;\n",
       "    }\n",
       "    if (js_urls == null || js_urls.length === 0) {\n",
       "      run_callbacks();\n",
       "      return null;\n",
       "    }\n",
       "    console.log(\"Bokeh: BokehJS not loaded, scheduling load and callback at\", now());\n",
       "    window._bokeh_is_loading = js_urls.length;\n",
       "    for (var i = 0; i < js_urls.length; i++) {\n",
       "      var url = js_urls[i];\n",
       "      var s = document.createElement('script');\n",
       "      s.src = url;\n",
       "      s.async = false;\n",
       "      s.onreadystatechange = s.onload = function() {\n",
       "        window._bokeh_is_loading--;\n",
       "        if (window._bokeh_is_loading === 0) {\n",
       "          console.log(\"Bokeh: all BokehJS libraries loaded\");\n",
       "          run_callbacks()\n",
       "        }\n",
       "      };\n",
       "      s.onerror = function() {\n",
       "        console.warn(\"failed to load library \" + url);\n",
       "      };\n",
       "      console.log(\"Bokeh: injecting script tag for BokehJS library: \", url);\n",
       "      document.getElementsByTagName(\"head\")[0].appendChild(s);\n",
       "    }\n",
       "  };\n",
       "\n",
       "  var js_urls = ['https://cdn.pydata.org/bokeh/release/bokeh-0.12.0.min.js', 'https://cdn.pydata.org/bokeh/release/bokeh-widgets-0.12.0.min.js', 'https://cdn.pydata.org/bokeh/release/bokeh-compiler-0.12.0.min.js'];\n",
       "\n",
       "  var inline_js = [\n",
       "    function(Bokeh) {\n",
       "      Bokeh.set_log_level(\"info\");\n",
       "    },\n",
       "    \n",
       "    function(Bokeh) {\n",
       "      Bokeh.$(\"#1e6d9731-2a21-4fd6-9e86-8141b63e4108\").text(\"BokehJS successfully loaded\");\n",
       "    },\n",
       "    function(Bokeh) {\n",
       "      console.log(\"Bokeh: injecting CSS: https://cdn.pydata.org/bokeh/release/bokeh-0.12.0.min.css\");\n",
       "      Bokeh.embed.inject_css(\"https://cdn.pydata.org/bokeh/release/bokeh-0.12.0.min.css\");\n",
       "      console.log(\"Bokeh: injecting CSS: https://cdn.pydata.org/bokeh/release/bokeh-widgets-0.12.0.min.css\");\n",
       "      Bokeh.embed.inject_css(\"https://cdn.pydata.org/bokeh/release/bokeh-widgets-0.12.0.min.css\");\n",
       "    }\n",
       "  ];\n",
       "\n",
       "  function run_inline_js() {\n",
       "    for (var i = 0; i < inline_js.length; i++) {\n",
       "      inline_js[i](window.Bokeh);\n",
       "    }\n",
       "  }\n",
       "\n",
       "  if (window._bokeh_is_loading === 0) {\n",
       "    console.log(\"Bokeh: BokehJS loaded, going straight to plotting\");\n",
       "    run_inline_js();\n",
       "  } else {\n",
       "    load_libs(js_urls, function() {\n",
       "      console.log(\"Bokeh: BokehJS plotting callback run at\", now());\n",
       "      run_inline_js();\n",
       "    });\n",
       "  }\n",
       "}(this));"
      ]
     },
     "metadata": {},
     "output_type": "display_data"
    }
   ],
   "source": [
    "from bokeh.io import push_notebook, show, output_notebook\n",
    "from bokeh.plotting import figure\n",
    "output_notebook()"
   ]
  },
  {
   "cell_type": "markdown",
   "metadata": {},
   "source": [
    "# # Definimos estilos para usar en los gráficos"
   ]
  },
  {
   "cell_type": "code",
   "execution_count": 36,
   "metadata": {
    "collapsed": false
   },
   "outputs": [
    {
     "data": {
      "text/html": [
       "\n",
       "\n",
       "    <div class=\"bk-root\">\n",
       "        <div class=\"plotdiv\" id=\"b26b8731-8b35-4459-8624-36aa035f94d0\"></div>\n",
       "    </div>\n",
       "<script type=\"text/javascript\">\n",
       "  \n",
       "  (function(global) {\n",
       "    function now() {\n",
       "      return new Date();\n",
       "    }\n",
       "  \n",
       "    if (typeof (window._bokeh_onload_callbacks) === \"undefined\") {\n",
       "      window._bokeh_onload_callbacks = [];\n",
       "    }\n",
       "  \n",
       "    function run_callbacks() {\n",
       "      window._bokeh_onload_callbacks.forEach(function(callback) { callback() });\n",
       "      delete window._bokeh_onload_callbacks\n",
       "      console.info(\"Bokeh: all callbacks have finished\");\n",
       "    }\n",
       "  \n",
       "    function load_libs(js_urls, callback) {\n",
       "      window._bokeh_onload_callbacks.push(callback);\n",
       "      if (window._bokeh_is_loading > 0) {\n",
       "        console.log(\"Bokeh: BokehJS is being loaded, scheduling callback at\", now());\n",
       "        return null;\n",
       "      }\n",
       "      if (js_urls == null || js_urls.length === 0) {\n",
       "        run_callbacks();\n",
       "        return null;\n",
       "      }\n",
       "      console.log(\"Bokeh: BokehJS not loaded, scheduling load and callback at\", now());\n",
       "      window._bokeh_is_loading = js_urls.length;\n",
       "      for (var i = 0; i < js_urls.length; i++) {\n",
       "        var url = js_urls[i];\n",
       "        var s = document.createElement('script');\n",
       "        s.src = url;\n",
       "        s.async = false;\n",
       "        s.onreadystatechange = s.onload = function() {\n",
       "          window._bokeh_is_loading--;\n",
       "          if (window._bokeh_is_loading === 0) {\n",
       "            console.log(\"Bokeh: all BokehJS libraries loaded\");\n",
       "            run_callbacks()\n",
       "          }\n",
       "        };\n",
       "        s.onerror = function() {\n",
       "          console.warn(\"failed to load library \" + url);\n",
       "        };\n",
       "        console.log(\"Bokeh: injecting script tag for BokehJS library: \", url);\n",
       "        document.getElementsByTagName(\"head\")[0].appendChild(s);\n",
       "      }\n",
       "    };var element = document.getElementById(\"b26b8731-8b35-4459-8624-36aa035f94d0\");\n",
       "    if (element == null) {\n",
       "      console.log(\"Bokeh: ERROR: autoload.js configured with elementid 'b26b8731-8b35-4459-8624-36aa035f94d0' but no matching script tag was found. \")\n",
       "      return false;\n",
       "    }\n",
       "  \n",
       "    var js_urls = [];\n",
       "  \n",
       "    var inline_js = [\n",
       "      function(Bokeh) {\n",
       "        Bokeh.$(function() {\n",
       "            var docs_json = {\"13e52304-0765-4238-8416-bf03fd9054d3\":{\"roots\":{\"references\":[{\"attributes\":{\"line_alpha\":{\"value\":0.1},\"line_color\":{\"value\":\"#1f77b4\"},\"line_width\":{\"value\":2},\"x\":{\"field\":\"x\"},\"y\":{\"field\":\"y\"}},\"id\":\"e30ec161-7798-4075-9b86-13387b0300c9\",\"type\":\"Line\"},{\"attributes\":{\"callback\":null,\"column_names\":[\"x\",\"y\"],\"data\":{\"x\":[\"Ciudades\",\"1991\",\"2001\",\"2010\",\"2017\",\"2019\",\"2029\",\"2039\"],\"y\":[\"Camarones\",\"868\",\"1079\",\"1296\",\"1495\",\"1557\",\"1910\",\"2342\"]}},\"id\":\"d747adb1-c0da-4842-b530-7357f076434e\",\"type\":\"ColumnDataSource\"},{\"attributes\":{\"data_source\":{\"id\":\"c118b2cb-d904-46cb-b78f-bdccaa502cba\",\"type\":\"ColumnDataSource\"},\"glyph\":{\"id\":\"76884426-e734-4fce-a411-eb9501518efd\",\"type\":\"Circle\"},\"hover_glyph\":null,\"nonselection_glyph\":{\"id\":\"18545ee7-72b0-4a85-ab24-8c792cb9d39c\",\"type\":\"Circle\"},\"selection_glyph\":null},\"id\":\"05749298-e4f3-4ef1-8a8a-80d1aed13a0d\",\"type\":\"GlyphRenderer\"},{\"attributes\":{\"fill_alpha\":{\"value\":0.1},\"fill_color\":{\"value\":\"#1f77b4\"},\"line_alpha\":{\"value\":0.1},\"line_color\":{\"value\":\"#1f77b4\"},\"x\":{\"field\":\"x\"},\"y\":{\"field\":\"y\"}},\"id\":\"c10247c0-31bd-4c5b-9aad-6ab6527cdbf3\",\"type\":\"Circle\"},{\"attributes\":{\"callback\":null,\"column_names\":[\"x\",\"y\"],\"data\":{\"x\":[\"Ciudades\",\"1991\",\"2001\",\"2010\",\"2017\",\"2019\",\"2029\",\"2039\"],\"y\":[\"Sarmiento\",\"7209\",\"8292\",\"11124\",\"13975\",\"14917\",\"20666\",\"28631\"]}},\"id\":\"5e20f38a-c286-428d-a8e8-da8e98e44b04\",\"type\":\"ColumnDataSource\"},{\"attributes\":{\"axis_label\":\"Poblaci\\u00f3n\",\"formatter\":{\"id\":\"00983d7a-cce9-4cd4-8ade-37ef2dbbe935\",\"type\":\"BasicTickFormatter\"},\"plot\":{\"id\":\"80ccba95-a22e-4a70-ae0a-eccf7fe1feef\",\"subtype\":\"Figure\",\"type\":\"Plot\"},\"ticker\":{\"id\":\"6c39bba7-e349-499f-ad7e-9d2af911608d\",\"type\":\"BasicTicker\"}},\"id\":\"3efb6acf-89ec-4de1-93d3-9a0e2099435f\",\"type\":\"LinearAxis\"},{\"attributes\":{\"fill_color\":{\"value\":\"#7c1b65\"},\"line_color\":{\"value\":\"#7c1b65\"},\"x\":{\"field\":\"x\"},\"y\":{\"field\":\"y\"}},\"id\":\"d9cf83e2-e442-480c-89cc-42257fb66964\",\"type\":\"Circle\"},{\"attributes\":{\"data_source\":{\"id\":\"39cea5f0-c16f-41cf-84a5-728ad94cef3b\",\"type\":\"ColumnDataSource\"},\"glyph\":{\"id\":\"64ef8cb7-064f-41ab-97f6-fac15333f3b2\",\"type\":\"Line\"},\"hover_glyph\":null,\"nonselection_glyph\":{\"id\":\"317e7967-7fd9-420c-9667-aa537e3f4cf2\",\"type\":\"Line\"},\"selection_glyph\":null},\"id\":\"99653bb5-dca1-4e58-a3a6-3104f28b235a\",\"type\":\"GlyphRenderer\"},{\"attributes\":{\"callback\":null,\"column_names\":[\"x\",\"y\"],\"data\":{\"x\":[\"Ciudades\",\"1991\",\"2001\",\"2010\",\"2017\",\"2019\",\"2029\",\"2039\"],\"y\":[\"Dolavon\",\"2613\",\"2929\",\"3307\",\"3635\",\"3734\",\"4274\",\"4892\"]}},\"id\":\"8dfdaf33-7ae0-49fd-ba19-24bfeef0d4ca\",\"type\":\"ColumnDataSource\"},{\"attributes\":{\"dimension\":1,\"plot\":{\"id\":\"80ccba95-a22e-4a70-ae0a-eccf7fe1feef\",\"subtype\":\"Figure\",\"type\":\"Plot\"},\"ticker\":{\"id\":\"6c39bba7-e349-499f-ad7e-9d2af911608d\",\"type\":\"BasicTicker\"}},\"id\":\"246be185-726d-4d2e-a1f5-6219089c3c57\",\"type\":\"Grid\"},{\"attributes\":{\"data_source\":{\"id\":\"82acf59f-fb07-4fd8-8258-f31329863b1a\",\"type\":\"ColumnDataSource\"},\"glyph\":{\"id\":\"585519b8-806a-45bf-9afe-c6f3103989fe\",\"type\":\"Line\"},\"hover_glyph\":null,\"nonselection_glyph\":{\"id\":\"ecf33a4b-8669-4e3c-a9b7-15fca4260385\",\"type\":\"Line\"},\"selection_glyph\":null},\"id\":\"16d7ffe9-8036-45a3-9ece-918aa6aaafad\",\"type\":\"GlyphRenderer\"},{\"attributes\":{\"fill_alpha\":{\"value\":0.1},\"fill_color\":{\"value\":\"#1f77b4\"},\"line_alpha\":{\"value\":0.1},\"line_color\":{\"value\":\"#1f77b4\"},\"x\":{\"field\":\"x\"},\"y\":{\"field\":\"y\"}},\"id\":\"b1538749-ee8b-4090-ac3a-58e8fdba0a42\",\"type\":\"Circle\"},{\"attributes\":{\"line_color\":{\"value\":\"green\"},\"line_width\":{\"value\":2},\"x\":{\"field\":\"x\"},\"y\":{\"field\":\"y\"}},\"id\":\"5d6ffc1a-7fd4-4c51-924c-11c0206b9d0e\",\"type\":\"Line\"},{\"attributes\":{\"fill_color\":{\"value\":\"magenta\"},\"line_color\":{\"value\":\"magenta\"},\"x\":{\"field\":\"x\"},\"y\":{\"field\":\"y\"}},\"id\":\"6fe70d7f-c52c-42fb-b2a1-9fb1a9e3d71d\",\"type\":\"Circle\"},{\"attributes\":{\"callback\":null,\"column_names\":[\"x\",\"y\"],\"data\":{\"x\":[\"Ciudades\",\"1991\",\"2001\",\"2010\",\"2017\",\"2019\",\"2029\",\"2039\"],\"y\":[\"Cholila\",\"1527\",\"1981\",\"2228\",\"2442\",\"2507\",\"2858\",\"3258\"]}},\"id\":\"2cb28c04-8ce8-4176-82b6-c2b380b32ed2\",\"type\":\"ColumnDataSource\"},{\"attributes\":{\"line_color\":{\"value\":\"yellow\"},\"line_width\":{\"value\":2},\"x\":{\"field\":\"x\"},\"y\":{\"field\":\"y\"}},\"id\":\"b394a038-ad48-4ce4-bfba-7882886bfbba\",\"type\":\"Line\"},{\"attributes\":{\"active_drag\":\"auto\",\"active_scroll\":\"auto\",\"active_tap\":\"auto\",\"tools\":[{\"id\":\"da04cc95-502c-4016-a0d1-3726165c74f0\",\"type\":\"PanTool\"},{\"id\":\"8469ad72-90ca-4f4f-af09-43ef82f21fec\",\"type\":\"WheelZoomTool\"},{\"id\":\"7b7f4479-c113-47c0-a4b0-4193360632f8\",\"type\":\"BoxZoomTool\"},{\"id\":\"f03ef5fe-56d8-4684-b5a3-0e373b010890\",\"type\":\"SaveTool\"},{\"id\":\"218e685c-6c38-4910-9dd4-4249b2a4a83c\",\"type\":\"ResetTool\"},{\"id\":\"a9774a48-77ef-4836-a586-2b8aaaa96ca9\",\"type\":\"HelpTool\"}]},\"id\":\"30d08b1d-1f9a-49fd-9db8-5e7f30bcca12\",\"type\":\"Toolbar\"},{\"attributes\":{\"fill_alpha\":{\"value\":0.1},\"fill_color\":{\"value\":\"#1f77b4\"},\"line_alpha\":{\"value\":0.1},\"line_color\":{\"value\":\"#1f77b4\"},\"x\":{\"field\":\"x\"},\"y\":{\"field\":\"y\"}},\"id\":\"9004a951-9ab6-4dd4-be59-e27b264cd2bd\",\"type\":\"Circle\"},{\"attributes\":{\"data_source\":{\"id\":\"70ce5a16-9651-44bd-b2df-4affbf8cd37e\",\"type\":\"ColumnDataSource\"},\"glyph\":{\"id\":\"7a1d1eb0-d391-4bdd-82f4-5bb3c2983c64\",\"type\":\"Line\"},\"hover_glyph\":null,\"nonselection_glyph\":{\"id\":\"de5115af-20fc-4351-b6a1-c1b4095f2e6f\",\"type\":\"Line\"},\"selection_glyph\":null},\"id\":\"726f703e-f885-4c86-937b-e72a08973ef1\",\"type\":\"GlyphRenderer\"},{\"attributes\":{\"fill_alpha\":{\"value\":0.1},\"fill_color\":{\"value\":\"#1f77b4\"},\"line_alpha\":{\"value\":0.1},\"line_color\":{\"value\":\"#1f77b4\"},\"x\":{\"field\":\"x\"},\"y\":{\"field\":\"y\"}},\"id\":\"6979e020-6fc6-4b5e-a351-3358dcddfad6\",\"type\":\"Circle\"},{\"attributes\":{\"callback\":null},\"id\":\"66645e4d-4c31-4885-a859-22edd814bea9\",\"type\":\"DataRange1d\"},{\"attributes\":{\"callback\":null,\"column_names\":[\"x\",\"y\"],\"data\":{\"x\":[\"Ciudades\",\"1991\",\"2001\",\"2010\",\"2017\",\"2019\",\"2029\",\"2039\"],\"y\":[\"Puerto Madryn\",\"45047\",\"57791\",\"81995\",\"107658\",\"116368\",\"171702\",\"253347\"]}},\"id\":\"40d7e0b9-fd31-422b-8be4-8bba66bc36d5\",\"type\":\"ColumnDataSource\"},{\"attributes\":{\"callback\":null,\"column_names\":[\"x\",\"y\"],\"data\":{\"x\":[\"Ciudades\",\"1991\",\"2001\",\"2010\",\"2017\",\"2019\",\"2029\",\"2039\"],\"y\":[\"Esquel\",\"23411\",\"28486\",\"32758\",\"36512\",\"37662\",\"43976\",\"51349\"]}},\"id\":\"74bb477c-d69c-4810-9416-f953f6c4344d\",\"type\":\"ColumnDataSource\"},{\"attributes\":{\"data_source\":{\"id\":\"5e20f38a-c286-428d-a8e8-da8e98e44b04\",\"type\":\"ColumnDataSource\"},\"glyph\":{\"id\":\"eab04dbe-ed52-4561-89e6-e32b93343e3b\",\"type\":\"Circle\"},\"hover_glyph\":null,\"nonselection_glyph\":{\"id\":\"917757d7-f677-4c66-98f8-7c870d991338\",\"type\":\"Circle\"},\"selection_glyph\":null},\"id\":\"e6a32cf8-afc9-444b-bfc9-379ac3732c54\",\"type\":\"GlyphRenderer\"},{\"attributes\":{\"line_alpha\":{\"value\":0.1},\"line_color\":{\"value\":\"#1f77b4\"},\"line_width\":{\"value\":2},\"x\":{\"field\":\"x\"},\"y\":{\"field\":\"y\"}},\"id\":\"4e2d731c-327f-4223-86b7-fe906a88231e\",\"type\":\"Line\"},{\"attributes\":{\"callback\":null,\"column_names\":[\"x\",\"y\"],\"data\":{\"x\":[\"Ciudades\",\"1991\",\"2001\",\"2010\",\"2017\",\"2019\",\"2029\",\"2039\"],\"y\":[\"Paso de Indios\",\"864\",\"1087\",\"1264\",\"1422\",\"1470\",\"1739\",\"2057\"]}},\"id\":\"2529839b-de1d-47f7-b411-130a1df5d9b5\",\"type\":\"ColumnDataSource\"},{\"attributes\":{\"fill_color\":{\"value\":\"blue\"},\"line_color\":{\"value\":\"blue\"},\"x\":{\"field\":\"x\"},\"y\":{\"field\":\"y\"}},\"id\":\"11b804bb-2be6-4f40-bdac-9c746e28f6dd\",\"type\":\"Circle\"},{\"attributes\":{\"data_source\":{\"id\":\"a4ae0dba-d9ed-4098-95b3-848d17db5969\",\"type\":\"ColumnDataSource\"},\"glyph\":{\"id\":\"0009f7b8-3116-4e73-9f04-9fd0082d6fcc\",\"type\":\"Circle\"},\"hover_glyph\":null,\"nonselection_glyph\":{\"id\":\"39ec5d0d-10c1-48b1-a99c-5f525cf44f98\",\"type\":\"Circle\"},\"selection_glyph\":null},\"id\":\"82c5b991-981d-4439-9e1a-697d4f345d69\",\"type\":\"GlyphRenderer\"},{\"attributes\":{\"line_color\":{\"value\":\"navy\"},\"line_width\":{\"value\":2},\"x\":{\"field\":\"x\"},\"y\":{\"field\":\"y\"}},\"id\":\"7a1d1eb0-d391-4bdd-82f4-5bb3c2983c64\",\"type\":\"Line\"},{\"attributes\":{\"plot\":{\"id\":\"80ccba95-a22e-4a70-ae0a-eccf7fe1feef\",\"subtype\":\"Figure\",\"type\":\"Plot\"}},\"id\":\"f03ef5fe-56d8-4684-b5a3-0e373b010890\",\"type\":\"SaveTool\"},{\"attributes\":{\"fill_alpha\":{\"value\":0.1},\"fill_color\":{\"value\":\"#1f77b4\"},\"line_alpha\":{\"value\":0.1},\"line_color\":{\"value\":\"#1f77b4\"},\"x\":{\"field\":\"x\"},\"y\":{\"field\":\"y\"}},\"id\":\"39ec5d0d-10c1-48b1-a99c-5f525cf44f98\",\"type\":\"Circle\"},{\"attributes\":{\"data_source\":{\"id\":\"d747adb1-c0da-4842-b530-7357f076434e\",\"type\":\"ColumnDataSource\"},\"glyph\":{\"id\":\"82c5b8ee-9b1c-4651-8de1-39517175c733\",\"type\":\"Line\"},\"hover_glyph\":null,\"nonselection_glyph\":{\"id\":\"4e2d731c-327f-4223-86b7-fe906a88231e\",\"type\":\"Line\"},\"selection_glyph\":null},\"id\":\"d58805a1-68ea-46fa-9e1b-39c7ba479b0e\",\"type\":\"GlyphRenderer\"},{\"attributes\":{\"fill_color\":{\"value\":\"#164c71\"},\"line_color\":{\"value\":\"#164c71\"},\"x\":{\"field\":\"x\"},\"y\":{\"field\":\"y\"}},\"id\":\"39d82ea0-53f7-4e52-85c5-fd1d562c0691\",\"type\":\"Circle\"},{\"attributes\":{\"line_color\":{\"value\":\"pink\"},\"line_width\":{\"value\":2},\"x\":{\"field\":\"x\"},\"y\":{\"field\":\"y\"}},\"id\":\"64ef8cb7-064f-41ab-97f6-fac15333f3b2\",\"type\":\"Line\"},{\"attributes\":{\"callback\":null},\"id\":\"6aa9d89e-83e3-4a70-88ca-05e0dec4dd1d\",\"type\":\"DataRange1d\"},{\"attributes\":{\"fill_color\":{\"value\":\"olive\"},\"line_color\":{\"value\":\"olive\"},\"x\":{\"field\":\"x\"},\"y\":{\"field\":\"y\"}},\"id\":\"a8beec70-2cef-4e77-9ae4-56ec00269e2d\",\"type\":\"Circle\"},{\"attributes\":{\"callback\":null,\"column_names\":[\"x\",\"y\"],\"data\":{\"x\":[\"Ciudades\",\"1991\",\"2001\",\"2010\",\"2017\",\"2019\",\"2029\",\"2039\"],\"y\":[\"Esquel\",\"23411\",\"28486\",\"32758\",\"36512\",\"37662\",\"43976\",\"51349\"]}},\"id\":\"a4ae0dba-d9ed-4098-95b3-848d17db5969\",\"type\":\"ColumnDataSource\"},{\"attributes\":{\"callback\":null,\"column_names\":[\"x\",\"y\"],\"data\":{\"x\":[\"Ciudades\",\"1991\",\"2001\",\"2010\",\"2017\",\"2019\",\"2029\",\"2039\"],\"y\":[\"Ciudades\",\"1991\",\"2001\",\"2010\",\"2017\",\"2019\",\"2029\",\"2039\"]}},\"id\":\"c118b2cb-d904-46cb-b78f-bdccaa502cba\",\"type\":\"ColumnDataSource\"},{\"attributes\":{\"axis_label\":\"Tiempo\",\"formatter\":{\"id\":\"f2f80b10-6956-41f7-9f97-9aa3474b2c4d\",\"type\":\"BasicTickFormatter\"},\"plot\":{\"id\":\"80ccba95-a22e-4a70-ae0a-eccf7fe1feef\",\"subtype\":\"Figure\",\"type\":\"Plot\"},\"ticker\":{\"id\":\"56ea6b28-7e47-4237-b8ea-ee7e49bd1866\",\"type\":\"BasicTicker\"}},\"id\":\"8730e430-8ee4-4354-b1fa-ea2667b961c4\",\"type\":\"LinearAxis\"},{\"attributes\":{\"fill_alpha\":{\"value\":0.1},\"fill_color\":{\"value\":\"#1f77b4\"},\"line_alpha\":{\"value\":0.1},\"line_color\":{\"value\":\"#1f77b4\"},\"x\":{\"field\":\"x\"},\"y\":{\"field\":\"y\"}},\"id\":\"529a2d89-b94e-4a36-a226-f35d767b9236\",\"type\":\"Circle\"},{\"attributes\":{\"data_source\":{\"id\":\"a2edb90f-4e4a-4d57-b98e-64d9271bf964\",\"type\":\"ColumnDataSource\"},\"glyph\":{\"id\":\"9e3a452e-41d9-4cd2-8746-6608933ddf17\",\"type\":\"Line\"},\"hover_glyph\":null,\"nonselection_glyph\":{\"id\":\"f3b691b1-ca60-4721-b78e-b5e3cd7a9517\",\"type\":\"Line\"},\"selection_glyph\":null},\"id\":\"e05c6194-8bc7-4a23-8f69-7d3d22b3f254\",\"type\":\"GlyphRenderer\"},{\"attributes\":{\"overlay\":{\"id\":\"dc8ff129-45ee-4627-a19f-3970fdc0e9ec\",\"type\":\"BoxAnnotation\"},\"plot\":{\"id\":\"80ccba95-a22e-4a70-ae0a-eccf7fe1feef\",\"subtype\":\"Figure\",\"type\":\"Plot\"}},\"id\":\"7b7f4479-c113-47c0-a4b0-4193360632f8\",\"type\":\"BoxZoomTool\"},{\"attributes\":{\"callback\":null,\"column_names\":[\"x\",\"y\"],\"data\":{\"x\":[\"Ciudades\",\"1991\",\"2001\",\"2010\",\"2017\",\"2019\",\"2029\",\"2039\"],\"y\":[\"Trelew\",\"79340\",\"89547\",\"99430\",\"107841\",\"110372\",\"123947\",\"139192\"]}},\"id\":\"691b8a70-fa71-4855-883b-e19efb5a4f29\",\"type\":\"ColumnDataSource\"},{\"attributes\":{\"line_alpha\":{\"value\":0.1},\"line_color\":{\"value\":\"#1f77b4\"},\"line_width\":{\"value\":2},\"x\":{\"field\":\"x\"},\"y\":{\"field\":\"y\"}},\"id\":\"ecf33a4b-8669-4e3c-a9b7-15fca4260385\",\"type\":\"Line\"},{\"attributes\":{\"line_alpha\":{\"value\":0.1},\"line_color\":{\"value\":\"#1f77b4\"},\"line_width\":{\"value\":2},\"x\":{\"field\":\"x\"},\"y\":{\"field\":\"y\"}},\"id\":\"f099c284-e6be-4c61-8960-44be3cf66c23\",\"type\":\"Line\"},{\"attributes\":{\"use_scientific\":false},\"id\":\"00983d7a-cce9-4cd4-8ade-37ef2dbbe935\",\"type\":\"BasicTickFormatter\"},{\"attributes\":{\"data_source\":{\"id\":\"0ffc233b-ad41-4cb6-815a-30f198096d03\",\"type\":\"ColumnDataSource\"},\"glyph\":{\"id\":\"39d82ea0-53f7-4e52-85c5-fd1d562c0691\",\"type\":\"Circle\"},\"hover_glyph\":null,\"nonselection_glyph\":{\"id\":\"0145b95b-ff99-48b8-b6fb-7fb89108592f\",\"type\":\"Circle\"},\"selection_glyph\":null},\"id\":\"ca11b113-647c-414d-8cf9-5442637da4b5\",\"type\":\"GlyphRenderer\"},{\"attributes\":{\"plot\":{\"id\":\"80ccba95-a22e-4a70-ae0a-eccf7fe1feef\",\"subtype\":\"Figure\",\"type\":\"Plot\"}},\"id\":\"a9774a48-77ef-4836-a586-2b8aaaa96ca9\",\"type\":\"HelpTool\"},{\"attributes\":{\"line_color\":{\"value\":\"red\"},\"line_width\":{\"value\":2},\"x\":{\"field\":\"x\"},\"y\":{\"field\":\"y\"}},\"id\":\"3a56ff71-0c84-4f57-a9ee-29533aa40471\",\"type\":\"Line\"},{\"attributes\":{\"data_source\":{\"id\":\"7143687a-5ba3-437f-9a16-1fcd6484df5f\",\"type\":\"ColumnDataSource\"},\"glyph\":{\"id\":\"a850d14b-d95c-4a0e-8603-6263fa90e653\",\"type\":\"Line\"},\"hover_glyph\":null,\"nonselection_glyph\":{\"id\":\"cbca4917-5fcc-463c-9c25-5f2dc8551283\",\"type\":\"Line\"},\"selection_glyph\":null},\"id\":\"3330ada7-6344-4499-b76c-9ef8d74306e6\",\"type\":\"GlyphRenderer\"},{\"attributes\":{\"line_color\":{\"value\":\"#164c71\"},\"line_width\":{\"value\":2},\"x\":{\"field\":\"x\"},\"y\":{\"field\":\"y\"}},\"id\":\"82c5b8ee-9b1c-4651-8de1-39517175c733\",\"type\":\"Line\"},{\"attributes\":{\"plot\":{\"id\":\"80ccba95-a22e-4a70-ae0a-eccf7fe1feef\",\"subtype\":\"Figure\",\"type\":\"Plot\"}},\"id\":\"8469ad72-90ca-4f4f-af09-43ef82f21fec\",\"type\":\"WheelZoomTool\"},{\"attributes\":{\"callback\":null,\"column_names\":[\"x\",\"y\"],\"data\":{\"x\":[\"Ciudades\",\"1991\",\"2001\",\"2010\",\"2017\",\"2019\",\"2029\",\"2039\"],\"y\":[\"Cholila\",\"1527\",\"1981\",\"2228\",\"2442\",\"2507\",\"2858\",\"3258\"]}},\"id\":\"28147ea0-782b-493c-974a-742e7f02ea74\",\"type\":\"ColumnDataSource\"},{\"attributes\":{\"callback\":null,\"column_names\":[\"x\",\"y\"],\"data\":{\"x\":[\"Ciudades\",\"1991\",\"2001\",\"2010\",\"2017\",\"2019\",\"2029\",\"2039\"],\"y\":[\"Rawson\",\"20674\",\"26183\",\"31787\",\"36950\",\"38573\",\"47825\",\"59297\"]}},\"id\":\"70ce5a16-9651-44bd-b2df-4affbf8cd37e\",\"type\":\"ColumnDataSource\"},{\"attributes\":{\"legends\":[[\"Comodoro Rivadavia\",[{\"id\":\"05749298-e4f3-4ef1-8a8a-80d1aed13a0d\",\"type\":\"GlyphRenderer\"},{\"id\":\"efe0f2f8-71f5-465d-ac42-2522da6a14e1\",\"type\":\"GlyphRenderer\"}]],[\"Trelew\",[{\"id\":\"e1f5e6f6-5289-4c0e-944e-55c7451f3358\",\"type\":\"GlyphRenderer\"},{\"id\":\"58e17552-3128-43a0-9c65-ee90d550f1f6\",\"type\":\"GlyphRenderer\"}]],[\"Puerto Madryn\",[{\"id\":\"77a5f414-e9c8-4d9b-86f1-0ed1ae4c3358\",\"type\":\"GlyphRenderer\"},{\"id\":\"4d19ed8e-01d1-4a56-b436-21cb74be4642\",\"type\":\"GlyphRenderer\"}]],[\"Esquel\",[{\"id\":\"68e78cea-64f1-487c-a26b-1aa5a470500c\",\"type\":\"GlyphRenderer\"},{\"id\":\"4448b359-bb71-45a1-aea0-0c031faee12a\",\"type\":\"GlyphRenderer\"}]],[\"Sarmiento\",[{\"id\":\"82c5b991-981d-4439-9e1a-697d4f345d69\",\"type\":\"GlyphRenderer\"},{\"id\":\"2cff3d2c-42a4-4039-aa3f-4b43d326e071\",\"type\":\"GlyphRenderer\"}]],[\"Rawson\",[{\"id\":\"e6a32cf8-afc9-444b-bfc9-379ac3732c54\",\"type\":\"GlyphRenderer\"},{\"id\":\"99653bb5-dca1-4e58-a3a6-3104f28b235a\",\"type\":\"GlyphRenderer\"}]],[\"Dolavon\",[{\"id\":\"c6da02d4-011a-4aac-bc03-426e393509de\",\"type\":\"GlyphRenderer\"},{\"id\":\"726f703e-f885-4c86-937b-e72a08973ef1\",\"type\":\"GlyphRenderer\"}]],[\"Gaiman\",[{\"id\":\"a7c4c12b-edc2-40e8-b37d-dbabd37b4840\",\"type\":\"GlyphRenderer\"},{\"id\":\"16d7ffe9-8036-45a3-9ece-918aa6aaafad\",\"type\":\"GlyphRenderer\"}]],[\"Gobernador Costa\",[{\"id\":\"0b248204-88c2-4b73-9cde-9d9eb1e2ea0d\",\"type\":\"GlyphRenderer\"},{\"id\":\"4d2da214-b4c1-490f-83f4-f0cc2167b487\",\"type\":\"GlyphRenderer\"}]],[\"Cholila\",[{\"id\":\"63ba8f14-8441-4b52-995b-2fb45d8c1c11\",\"type\":\"GlyphRenderer\"},{\"id\":\"e05c6194-8bc7-4a23-8f69-7d3d22b3f254\",\"type\":\"GlyphRenderer\"}]],[\"Camarones\",[{\"id\":\"ac18e585-25e8-4987-9598-4f435e31a8aa\",\"type\":\"GlyphRenderer\"},{\"id\":\"11704c22-66ea-4b41-9f74-9e5d22073689\",\"type\":\"GlyphRenderer\"}]],[\"Paso de Indios\",[{\"id\":\"ca11b113-647c-414d-8cf9-5442637da4b5\",\"type\":\"GlyphRenderer\"},{\"id\":\"d58805a1-68ea-46fa-9e1b-39c7ba479b0e\",\"type\":\"GlyphRenderer\"}]],[\"Paso del Sapo\",[{\"id\":\"feee4c6b-8b98-447a-9c18-8cf61320d148\",\"type\":\"GlyphRenderer\"},{\"id\":\"3330ada7-6344-4499-b76c-9ef8d74306e6\",\"type\":\"GlyphRenderer\"}]]],\"plot\":{\"id\":\"80ccba95-a22e-4a70-ae0a-eccf7fe1feef\",\"subtype\":\"Figure\",\"type\":\"Plot\"}},\"id\":\"4ff39061-c54b-4949-b4b8-d375b37d2747\",\"type\":\"Legend\"},{\"attributes\":{},\"id\":\"6c39bba7-e349-499f-ad7e-9d2af911608d\",\"type\":\"BasicTicker\"},{\"attributes\":{\"line_alpha\":{\"value\":0.1},\"line_color\":{\"value\":\"#1f77b4\"},\"line_width\":{\"value\":2},\"x\":{\"field\":\"x\"},\"y\":{\"field\":\"y\"}},\"id\":\"317e7967-7fd9-420c-9667-aa537e3f4cf2\",\"type\":\"Line\"},{\"attributes\":{\"plot\":{\"id\":\"80ccba95-a22e-4a70-ae0a-eccf7fe1feef\",\"subtype\":\"Figure\",\"type\":\"Plot\"}},\"id\":\"218e685c-6c38-4910-9dd4-4249b2a4a83c\",\"type\":\"ResetTool\"},{\"attributes\":{\"callback\":null,\"column_names\":[\"x\",\"y\"],\"data\":{\"x\":[\"Ciudades\",\"1991\",\"2001\",\"2010\",\"2017\",\"2019\",\"2029\",\"2039\"],\"y\":[\"Dolavon\",\"2613\",\"2929\",\"3307\",\"3635\",\"3734\",\"4274\",\"4892\"]}},\"id\":\"82acf59f-fb07-4fd8-8258-f31329863b1a\",\"type\":\"ColumnDataSource\"},{\"attributes\":{\"fill_color\":{\"value\":\"pink\"},\"line_color\":{\"value\":\"pink\"},\"x\":{\"field\":\"x\"},\"y\":{\"field\":\"y\"}},\"id\":\"eab04dbe-ed52-4561-89e6-e32b93343e3b\",\"type\":\"Circle\"},{\"attributes\":{\"data_source\":{\"id\":\"40d7e0b9-fd31-422b-8be4-8bba66bc36d5\",\"type\":\"ColumnDataSource\"},\"glyph\":{\"id\":\"5d6ffc1a-7fd4-4c51-924c-11c0206b9d0e\",\"type\":\"Line\"},\"hover_glyph\":null,\"nonselection_glyph\":{\"id\":\"a3cf72c2-4161-4e6b-a09c-0fb99307fb08\",\"type\":\"Line\"},\"selection_glyph\":null},\"id\":\"4448b359-bb71-45a1-aea0-0c031faee12a\",\"type\":\"GlyphRenderer\"},{\"attributes\":{\"callback\":null,\"column_names\":[\"x\",\"y\"],\"data\":{\"x\":[\"Ciudades\",\"1991\",\"2001\",\"2010\",\"2017\",\"2019\",\"2029\",\"2039\"],\"y\":[\"Trelew\",\"79340\",\"89547\",\"99430\",\"107841\",\"110372\",\"123947\",\"139192\"]}},\"id\":\"bff7b8bb-0817-4b4f-8b8c-74817f932d66\",\"type\":\"ColumnDataSource\"},{\"attributes\":{\"plot\":{\"id\":\"80ccba95-a22e-4a70-ae0a-eccf7fe1feef\",\"subtype\":\"Figure\",\"type\":\"Plot\"},\"ticker\":{\"id\":\"56ea6b28-7e47-4237-b8ea-ee7e49bd1866\",\"type\":\"BasicTicker\"}},\"id\":\"4edef148-bf48-4ada-9c07-aed0f8c5d573\",\"type\":\"Grid\"},{\"attributes\":{\"callback\":null,\"column_names\":[\"x\",\"y\"],\"data\":{\"x\":[\"Ciudades\",\"1991\",\"2001\",\"2010\",\"2017\",\"2019\",\"2029\",\"2039\"],\"y\":[\"Comodoro Rivadavia\",\"125725\",\"137061\",\"177083\",\"216182\",\"228862\",\"304332\",\"404689\"]}},\"id\":\"96f69f8f-63ea-49ea-87f6-09008d87a79a\",\"type\":\"ColumnDataSource\"},{\"attributes\":{\"data_source\":{\"id\":\"28147ea0-782b-493c-974a-742e7f02ea74\",\"type\":\"ColumnDataSource\"},\"glyph\":{\"id\":\"a463e4d6-c8aa-4df6-9f68-ac5b656319f6\",\"type\":\"Line\"},\"hover_glyph\":null,\"nonselection_glyph\":{\"id\":\"f099c284-e6be-4c61-8960-44be3cf66c23\",\"type\":\"Line\"},\"selection_glyph\":null},\"id\":\"11704c22-66ea-4b41-9f74-9e5d22073689\",\"type\":\"GlyphRenderer\"},{\"attributes\":{\"callback\":null,\"column_names\":[\"x\",\"y\"],\"data\":{\"x\":[\"Ciudades\",\"1991\",\"2001\",\"2010\",\"2017\",\"2019\",\"2029\",\"2039\"],\"y\":[\"Puerto Madryn\",\"45047\",\"57791\",\"81995\",\"107658\",\"116368\",\"171702\",\"253347\"]}},\"id\":\"e0a4bdb8-5288-43ff-925f-0a0f530ef0ec\",\"type\":\"ColumnDataSource\"},{\"attributes\":{\"line_color\":{\"value\":\"#7c1b65\"},\"line_width\":{\"value\":2},\"x\":{\"field\":\"x\"},\"y\":{\"field\":\"y\"}},\"id\":\"a850d14b-d95c-4a0e-8603-6263fa90e653\",\"type\":\"Line\"},{\"attributes\":{\"data_source\":{\"id\":\"77efdf49-8588-4db6-afd2-a94d17063499\",\"type\":\"ColumnDataSource\"},\"glyph\":{\"id\":\"448f3226-573e-452b-80b8-2cb818347c7c\",\"type\":\"Line\"},\"hover_glyph\":null,\"nonselection_glyph\":{\"id\":\"bd205de5-344d-4c3b-8b38-bf4618cebaab\",\"type\":\"Line\"},\"selection_glyph\":null},\"id\":\"4d2da214-b4c1-490f-83f4-f0cc2167b487\",\"type\":\"GlyphRenderer\"},{\"attributes\":{\"fill_alpha\":{\"value\":0.1},\"fill_color\":{\"value\":\"#1f77b4\"},\"line_alpha\":{\"value\":0.1},\"line_color\":{\"value\":\"#1f77b4\"},\"x\":{\"field\":\"x\"},\"y\":{\"field\":\"y\"}},\"id\":\"18545ee7-72b0-4a85-ab24-8c792cb9d39c\",\"type\":\"Circle\"},{\"attributes\":{\"fill_alpha\":{\"value\":0.1},\"fill_color\":{\"value\":\"#1f77b4\"},\"line_alpha\":{\"value\":0.1},\"line_color\":{\"value\":\"#1f77b4\"},\"x\":{\"field\":\"x\"},\"y\":{\"field\":\"y\"}},\"id\":\"2a78c14e-bb80-4e9f-8873-d6aacb157ac2\",\"type\":\"Circle\"},{\"attributes\":{\"line_color\":{\"value\":\"firebrick\"},\"line_width\":{\"value\":2},\"x\":{\"field\":\"x\"},\"y\":{\"field\":\"y\"}},\"id\":\"585519b8-806a-45bf-9afe-c6f3103989fe\",\"type\":\"Line\"},{\"attributes\":{\"line_alpha\":{\"value\":0.1},\"line_color\":{\"value\":\"#1f77b4\"},\"line_width\":{\"value\":2},\"x\":{\"field\":\"x\"},\"y\":{\"field\":\"y\"}},\"id\":\"bd205de5-344d-4c3b-8b38-bf4618cebaab\",\"type\":\"Line\"},{\"attributes\":{\"data_source\":{\"id\":\"2529839b-de1d-47f7-b411-130a1df5d9b5\",\"type\":\"ColumnDataSource\"},\"glyph\":{\"id\":\"d9cf83e2-e442-480c-89cc-42257fb66964\",\"type\":\"Circle\"},\"hover_glyph\":null,\"nonselection_glyph\":{\"id\":\"b0485f05-61a9-4422-829c-988091505f49\",\"type\":\"Circle\"},\"selection_glyph\":null},\"id\":\"feee4c6b-8b98-447a-9c18-8cf61320d148\",\"type\":\"GlyphRenderer\"},{\"attributes\":{\"line_color\":{\"value\":\"orange\"},\"line_width\":{\"value\":2},\"x\":{\"field\":\"x\"},\"y\":{\"field\":\"y\"}},\"id\":\"a11ae3b2-3115-4a1e-aea9-096533cf5873\",\"type\":\"Line\"},{\"attributes\":{\"data_source\":{\"id\":\"3f7a3176-b05a-49e3-8345-6f38f42c36f2\",\"type\":\"ColumnDataSource\"},\"glyph\":{\"id\":\"a11ae3b2-3115-4a1e-aea9-096533cf5873\",\"type\":\"Line\"},\"hover_glyph\":null,\"nonselection_glyph\":{\"id\":\"4cd91fee-2731-43c7-9698-27567fab1189\",\"type\":\"Line\"},\"selection_glyph\":null},\"id\":\"58e17552-3128-43a0-9c65-ee90d550f1f6\",\"type\":\"GlyphRenderer\"},{\"attributes\":{\"line_alpha\":{\"value\":0.1},\"line_color\":{\"value\":\"#1f77b4\"},\"line_width\":{\"value\":2},\"x\":{\"field\":\"x\"},\"y\":{\"field\":\"y\"}},\"id\":\"de5115af-20fc-4351-b6a1-c1b4095f2e6f\",\"type\":\"Line\"},{\"attributes\":{\"line_color\":{\"value\":\"magenta\"},\"line_width\":{\"value\":2},\"x\":{\"field\":\"x\"},\"y\":{\"field\":\"y\"}},\"id\":\"9e3a452e-41d9-4cd2-8746-6608933ddf17\",\"type\":\"Line\"},{\"attributes\":{\"below\":[{\"id\":\"8730e430-8ee4-4354-b1fa-ea2667b961c4\",\"type\":\"LinearAxis\"}],\"left\":[{\"id\":\"3efb6acf-89ec-4de1-93d3-9a0e2099435f\",\"type\":\"LinearAxis\"}],\"plot_width\":900,\"renderers\":[{\"id\":\"8730e430-8ee4-4354-b1fa-ea2667b961c4\",\"type\":\"LinearAxis\"},{\"id\":\"4edef148-bf48-4ada-9c07-aed0f8c5d573\",\"type\":\"Grid\"},{\"id\":\"3efb6acf-89ec-4de1-93d3-9a0e2099435f\",\"type\":\"LinearAxis\"},{\"id\":\"246be185-726d-4d2e-a1f5-6219089c3c57\",\"type\":\"Grid\"},{\"id\":\"dc8ff129-45ee-4627-a19f-3970fdc0e9ec\",\"type\":\"BoxAnnotation\"},{\"id\":\"4ff39061-c54b-4949-b4b8-d375b37d2747\",\"type\":\"Legend\"},{\"id\":\"05749298-e4f3-4ef1-8a8a-80d1aed13a0d\",\"type\":\"GlyphRenderer\"},{\"id\":\"efe0f2f8-71f5-465d-ac42-2522da6a14e1\",\"type\":\"GlyphRenderer\"},{\"id\":\"e1f5e6f6-5289-4c0e-944e-55c7451f3358\",\"type\":\"GlyphRenderer\"},{\"id\":\"58e17552-3128-43a0-9c65-ee90d550f1f6\",\"type\":\"GlyphRenderer\"},{\"id\":\"77a5f414-e9c8-4d9b-86f1-0ed1ae4c3358\",\"type\":\"GlyphRenderer\"},{\"id\":\"4d19ed8e-01d1-4a56-b436-21cb74be4642\",\"type\":\"GlyphRenderer\"},{\"id\":\"68e78cea-64f1-487c-a26b-1aa5a470500c\",\"type\":\"GlyphRenderer\"},{\"id\":\"4448b359-bb71-45a1-aea0-0c031faee12a\",\"type\":\"GlyphRenderer\"},{\"id\":\"82c5b991-981d-4439-9e1a-697d4f345d69\",\"type\":\"GlyphRenderer\"},{\"id\":\"2cff3d2c-42a4-4039-aa3f-4b43d326e071\",\"type\":\"GlyphRenderer\"},{\"id\":\"e6a32cf8-afc9-444b-bfc9-379ac3732c54\",\"type\":\"GlyphRenderer\"},{\"id\":\"99653bb5-dca1-4e58-a3a6-3104f28b235a\",\"type\":\"GlyphRenderer\"},{\"id\":\"c6da02d4-011a-4aac-bc03-426e393509de\",\"type\":\"GlyphRenderer\"},{\"id\":\"726f703e-f885-4c86-937b-e72a08973ef1\",\"type\":\"GlyphRenderer\"},{\"id\":\"a7c4c12b-edc2-40e8-b37d-dbabd37b4840\",\"type\":\"GlyphRenderer\"},{\"id\":\"16d7ffe9-8036-45a3-9ece-918aa6aaafad\",\"type\":\"GlyphRenderer\"},{\"id\":\"0b248204-88c2-4b73-9cde-9d9eb1e2ea0d\",\"type\":\"GlyphRenderer\"},{\"id\":\"4d2da214-b4c1-490f-83f4-f0cc2167b487\",\"type\":\"GlyphRenderer\"},{\"id\":\"63ba8f14-8441-4b52-995b-2fb45d8c1c11\",\"type\":\"GlyphRenderer\"},{\"id\":\"e05c6194-8bc7-4a23-8f69-7d3d22b3f254\",\"type\":\"GlyphRenderer\"},{\"id\":\"ac18e585-25e8-4987-9598-4f435e31a8aa\",\"type\":\"GlyphRenderer\"},{\"id\":\"11704c22-66ea-4b41-9f74-9e5d22073689\",\"type\":\"GlyphRenderer\"},{\"id\":\"ca11b113-647c-414d-8cf9-5442637da4b5\",\"type\":\"GlyphRenderer\"},{\"id\":\"d58805a1-68ea-46fa-9e1b-39c7ba479b0e\",\"type\":\"GlyphRenderer\"},{\"id\":\"feee4c6b-8b98-447a-9c18-8cf61320d148\",\"type\":\"GlyphRenderer\"},{\"id\":\"3330ada7-6344-4499-b76c-9ef8d74306e6\",\"type\":\"GlyphRenderer\"}],\"title\":{\"id\":\"39695830-f744-4b18-8668-723aba46dd29\",\"type\":\"Title\"},\"tool_events\":{\"id\":\"da811173-8590-472d-8b0c-0453ec7d634c\",\"type\":\"ToolEvents\"},\"toolbar\":{\"id\":\"30d08b1d-1f9a-49fd-9db8-5e7f30bcca12\",\"type\":\"Toolbar\"},\"x_range\":{\"id\":\"6aa9d89e-83e3-4a70-88ca-05e0dec4dd1d\",\"type\":\"DataRange1d\"},\"y_range\":{\"id\":\"66645e4d-4c31-4885-a859-22edd814bea9\",\"type\":\"DataRange1d\"}},\"id\":\"80ccba95-a22e-4a70-ae0a-eccf7fe1feef\",\"subtype\":\"Figure\",\"type\":\"Plot\"},{\"attributes\":{\"line_alpha\":{\"value\":0.1},\"line_color\":{\"value\":\"#1f77b4\"},\"line_width\":{\"value\":2},\"x\":{\"field\":\"x\"},\"y\":{\"field\":\"y\"}},\"id\":\"f3b691b1-ca60-4721-b78e-b5e3cd7a9517\",\"type\":\"Line\"},{\"attributes\":{\"data_source\":{\"id\":\"3fbf3b21-c511-4183-aa0e-be60b95e4c83\",\"type\":\"ColumnDataSource\"},\"glyph\":{\"id\":\"6fe70d7f-c52c-42fb-b2a1-9fb1a9e3d71d\",\"type\":\"Circle\"},\"hover_glyph\":null,\"nonselection_glyph\":{\"id\":\"529a2d89-b94e-4a36-a226-f35d767b9236\",\"type\":\"Circle\"},\"selection_glyph\":null},\"id\":\"63ba8f14-8441-4b52-995b-2fb45d8c1c11\",\"type\":\"GlyphRenderer\"},{\"attributes\":{\"line_alpha\":{\"value\":0.1},\"line_color\":{\"value\":\"#1f77b4\"},\"line_width\":{\"value\":2},\"x\":{\"field\":\"x\"},\"y\":{\"field\":\"y\"}},\"id\":\"4cd91fee-2731-43c7-9698-27567fab1189\",\"type\":\"Line\"},{\"attributes\":{\"fill_alpha\":{\"value\":0.1},\"fill_color\":{\"value\":\"#1f77b4\"},\"line_alpha\":{\"value\":0.1},\"line_color\":{\"value\":\"#1f77b4\"},\"x\":{\"field\":\"x\"},\"y\":{\"field\":\"y\"}},\"id\":\"b0485f05-61a9-4422-829c-988091505f49\",\"type\":\"Circle\"},{\"attributes\":{\"line_alpha\":{\"value\":0.1},\"line_color\":{\"value\":\"#1f77b4\"},\"line_width\":{\"value\":2},\"x\":{\"field\":\"x\"},\"y\":{\"field\":\"y\"}},\"id\":\"ea22bb25-dcca-470e-ad79-428ca30fd479\",\"type\":\"Line\"},{\"attributes\":{\"line_alpha\":{\"value\":0.1},\"line_color\":{\"value\":\"#1f77b4\"},\"line_width\":{\"value\":2},\"x\":{\"field\":\"x\"},\"y\":{\"field\":\"y\"}},\"id\":\"fe55a774-be29-4410-b109-d1a178b668c5\",\"type\":\"Line\"},{\"attributes\":{\"callback\":null,\"column_names\":[\"x\",\"y\"],\"data\":{\"x\":[\"Ciudades\",\"1991\",\"2001\",\"2010\",\"2017\",\"2019\",\"2029\",\"2039\"],\"y\":[\"Gaiman\",\"4642\",\"5753\",\"6627\",\"7397\",\"7633\",\"8930\",\"10448\"]}},\"id\":\"77efdf49-8588-4db6-afd2-a94d17063499\",\"type\":\"ColumnDataSource\"},{\"attributes\":{\"line_color\":{\"value\":\"cyan\"},\"line_width\":{\"value\":2},\"x\":{\"field\":\"x\"},\"y\":{\"field\":\"y\"}},\"id\":\"448f3226-573e-452b-80b8-2cb818347c7c\",\"type\":\"Line\"},{\"attributes\":{},\"id\":\"f2f80b10-6956-41f7-9f97-9aa3474b2c4d\",\"type\":\"BasicTickFormatter\"},{\"attributes\":{\"callback\":null,\"column_names\":[\"x\",\"y\"],\"data\":{\"x\":[\"Ciudades\",\"1991\",\"2001\",\"2010\",\"2017\",\"2019\",\"2029\",\"2039\"],\"y\":[\"Camarones\",\"868\",\"1079\",\"1296\",\"1495\",\"1557\",\"1910\",\"2342\"]}},\"id\":\"0ffc233b-ad41-4cb6-815a-30f198096d03\",\"type\":\"ColumnDataSource\"},{\"attributes\":{\"callback\":null,\"column_names\":[\"x\",\"y\"],\"data\":{\"x\":[\"Ciudades\",\"1991\",\"2001\",\"2010\",\"2017\",\"2019\",\"2029\",\"2039\"],\"y\":[\"Gaiman\",\"4642\",\"5753\",\"6627\",\"7397\",\"7633\",\"8930\",\"10448\"]}},\"id\":\"9ab7b0d2-fb69-45a5-ad66-bd2f6d08a525\",\"type\":\"ColumnDataSource\"},{\"attributes\":{\"fill_alpha\":{\"value\":0.1},\"fill_color\":{\"value\":\"#1f77b4\"},\"line_alpha\":{\"value\":0.1},\"line_color\":{\"value\":\"#1f77b4\"},\"x\":{\"field\":\"x\"},\"y\":{\"field\":\"y\"}},\"id\":\"29ef86ff-9caa-4520-96aa-ab2b613e868c\",\"type\":\"Circle\"},{\"attributes\":{\"line_color\":{\"value\":\"blue\"},\"line_width\":{\"value\":2},\"x\":{\"field\":\"x\"},\"y\":{\"field\":\"y\"}},\"id\":\"1241eb5b-57e7-4c59-b3d5-594876fc4c95\",\"type\":\"Line\"},{\"attributes\":{\"data_source\":{\"id\":\"9f48b7b9-bf39-4a6c-9a06-5c4d051275e9\",\"type\":\"ColumnDataSource\"},\"glyph\":{\"id\":\"e79ac29f-83e3-451e-9d2a-dcccdabf5cbf\",\"type\":\"Circle\"},\"hover_glyph\":null,\"nonselection_glyph\":{\"id\":\"2a78c14e-bb80-4e9f-8873-d6aacb157ac2\",\"type\":\"Circle\"},\"selection_glyph\":null},\"id\":\"c6da02d4-011a-4aac-bc03-426e393509de\",\"type\":\"GlyphRenderer\"},{\"attributes\":{\"fill_color\":{\"value\":\"cyan\"},\"line_color\":{\"value\":\"cyan\"},\"x\":{\"field\":\"x\"},\"y\":{\"field\":\"y\"}},\"id\":\"32d64964-7c96-4392-a8db-41a95167e376\",\"type\":\"Circle\"},{\"attributes\":{\"data_source\":{\"id\":\"9ab7b0d2-fb69-45a5-ad66-bd2f6d08a525\",\"type\":\"ColumnDataSource\"},\"glyph\":{\"id\":\"32d64964-7c96-4392-a8db-41a95167e376\",\"type\":\"Circle\"},\"hover_glyph\":null,\"nonselection_glyph\":{\"id\":\"6979e020-6fc6-4b5e-a351-3358dcddfad6\",\"type\":\"Circle\"},\"selection_glyph\":null},\"id\":\"0b248204-88c2-4b73-9cde-9d9eb1e2ea0d\",\"type\":\"GlyphRenderer\"},{\"attributes\":{\"line_color\":{\"value\":\"olive\"},\"line_width\":{\"value\":2},\"x\":{\"field\":\"x\"},\"y\":{\"field\":\"y\"}},\"id\":\"a463e4d6-c8aa-4df6-9f68-ac5b656319f6\",\"type\":\"Line\"},{\"attributes\":{\"line_alpha\":{\"value\":0.1},\"line_color\":{\"value\":\"#1f77b4\"},\"line_width\":{\"value\":2},\"x\":{\"field\":\"x\"},\"y\":{\"field\":\"y\"}},\"id\":\"cbca4917-5fcc-463c-9c25-5f2dc8551283\",\"type\":\"Line\"},{\"attributes\":{\"fill_color\":{\"value\":\"red\"},\"line_color\":{\"value\":\"red\"},\"x\":{\"field\":\"x\"},\"y\":{\"field\":\"y\"}},\"id\":\"76884426-e734-4fce-a411-eb9501518efd\",\"type\":\"Circle\"},{\"attributes\":{\"data_source\":{\"id\":\"e0a4bdb8-5288-43ff-925f-0a0f530ef0ec\",\"type\":\"ColumnDataSource\"},\"glyph\":{\"id\":\"06d5e2e7-15e1-49cc-ae16-797b01baabed\",\"type\":\"Circle\"},\"hover_glyph\":null,\"nonselection_glyph\":{\"id\":\"9004a951-9ab6-4dd4-be59-e27b264cd2bd\",\"type\":\"Circle\"},\"selection_glyph\":null},\"id\":\"68e78cea-64f1-487c-a26b-1aa5a470500c\",\"type\":\"GlyphRenderer\"},{\"attributes\":{},\"id\":\"56ea6b28-7e47-4237-b8ea-ee7e49bd1866\",\"type\":\"BasicTicker\"},{\"attributes\":{\"data_source\":{\"id\":\"bff7b8bb-0817-4b4f-8b8c-74817f932d66\",\"type\":\"ColumnDataSource\"},\"glyph\":{\"id\":\"1241eb5b-57e7-4c59-b3d5-594876fc4c95\",\"type\":\"Line\"},\"hover_glyph\":null,\"nonselection_glyph\":{\"id\":\"ea22bb25-dcca-470e-ad79-428ca30fd479\",\"type\":\"Line\"},\"selection_glyph\":null},\"id\":\"4d19ed8e-01d1-4a56-b436-21cb74be4642\",\"type\":\"GlyphRenderer\"},{\"attributes\":{\"data_source\":{\"id\":\"2cb28c04-8ce8-4176-82b6-c2b380b32ed2\",\"type\":\"ColumnDataSource\"},\"glyph\":{\"id\":\"a8beec70-2cef-4e77-9ae4-56ec00269e2d\",\"type\":\"Circle\"},\"hover_glyph\":null,\"nonselection_glyph\":{\"id\":\"29ef86ff-9caa-4520-96aa-ab2b613e868c\",\"type\":\"Circle\"},\"selection_glyph\":null},\"id\":\"ac18e585-25e8-4987-9598-4f435e31a8aa\",\"type\":\"GlyphRenderer\"},{\"attributes\":{\"callback\":null,\"column_names\":[\"x\",\"y\"],\"data\":{\"x\":[\"Ciudades\",\"1991\",\"2001\",\"2010\",\"2017\",\"2019\",\"2029\",\"2039\"],\"y\":[\"Paso de Indios\",\"864\",\"1087\",\"1264\",\"1422\",\"1470\",\"1739\",\"2057\"]}},\"id\":\"7143687a-5ba3-437f-9a16-1fcd6484df5f\",\"type\":\"ColumnDataSource\"},{\"attributes\":{\"fill_color\":{\"value\":\"orange\"},\"line_color\":{\"value\":\"orange\"},\"x\":{\"field\":\"x\"},\"y\":{\"field\":\"y\"}},\"id\":\"392113df-9aa9-4931-b945-0fa05af848c0\",\"type\":\"Circle\"},{\"attributes\":{\"plot\":{\"id\":\"80ccba95-a22e-4a70-ae0a-eccf7fe1feef\",\"subtype\":\"Figure\",\"type\":\"Plot\"}},\"id\":\"da04cc95-502c-4016-a0d1-3726165c74f0\",\"type\":\"PanTool\"},{\"attributes\":{\"callback\":null,\"column_names\":[\"x\",\"y\"],\"data\":{\"x\":[\"Ciudades\",\"1991\",\"2001\",\"2010\",\"2017\",\"2019\",\"2029\",\"2039\"],\"y\":[\"Rawson\",\"20674\",\"26183\",\"31787\",\"36950\",\"38573\",\"47825\",\"59297\"]}},\"id\":\"9f48b7b9-bf39-4a6c-9a06-5c4d051275e9\",\"type\":\"ColumnDataSource\"},{\"attributes\":{\"bottom_units\":\"screen\",\"fill_alpha\":{\"value\":0.5},\"fill_color\":{\"value\":\"lightgrey\"},\"left_units\":\"screen\",\"level\":\"overlay\",\"line_alpha\":{\"value\":1.0},\"line_color\":{\"value\":\"black\"},\"line_dash\":[4,4],\"line_width\":{\"value\":2},\"plot\":null,\"render_mode\":\"css\",\"right_units\":\"screen\",\"top_units\":\"screen\"},\"id\":\"dc8ff129-45ee-4627-a19f-3970fdc0e9ec\",\"type\":\"BoxAnnotation\"},{\"attributes\":{\"callback\":null,\"column_names\":[\"x\",\"y\"],\"data\":{\"x\":[\"Ciudades\",\"1991\",\"2001\",\"2010\",\"2017\",\"2019\",\"2029\",\"2039\"],\"y\":[\"Gobernador Costa\",\"1913\",\"2185\",\"2374\",\"2532\",\"2579\",\"2827\",\"3100\"]}},\"id\":\"a2edb90f-4e4a-4d57-b98e-64d9271bf964\",\"type\":\"ColumnDataSource\"},{\"attributes\":{\"data_source\":{\"id\":\"96f69f8f-63ea-49ea-87f6-09008d87a79a\",\"type\":\"ColumnDataSource\"},\"glyph\":{\"id\":\"392113df-9aa9-4931-b945-0fa05af848c0\",\"type\":\"Circle\"},\"hover_glyph\":null,\"nonselection_glyph\":{\"id\":\"b1538749-ee8b-4090-ac3a-58e8fdba0a42\",\"type\":\"Circle\"},\"selection_glyph\":null},\"id\":\"e1f5e6f6-5289-4c0e-944e-55c7451f3358\",\"type\":\"GlyphRenderer\"},{\"attributes\":{\"fill_color\":{\"value\":\"green\"},\"line_color\":{\"value\":\"green\"},\"x\":{\"field\":\"x\"},\"y\":{\"field\":\"y\"}},\"id\":\"06d5e2e7-15e1-49cc-ae16-797b01baabed\",\"type\":\"Circle\"},{\"attributes\":{\"data_source\":{\"id\":\"7f56bcfb-6c09-49d1-bd39-e18e974ad667\",\"type\":\"ColumnDataSource\"},\"glyph\":{\"id\":\"3a56ff71-0c84-4f57-a9ee-29533aa40471\",\"type\":\"Line\"},\"hover_glyph\":null,\"nonselection_glyph\":{\"id\":\"e30ec161-7798-4075-9b86-13387b0300c9\",\"type\":\"Line\"},\"selection_glyph\":null},\"id\":\"efe0f2f8-71f5-465d-ac42-2522da6a14e1\",\"type\":\"GlyphRenderer\"},{\"attributes\":{\"callback\":null,\"column_names\":[\"x\",\"y\"],\"data\":{\"x\":[\"Ciudades\",\"1991\",\"2001\",\"2010\",\"2017\",\"2019\",\"2029\",\"2039\"],\"y\":[\"Sarmiento\",\"7209\",\"8292\",\"11124\",\"13975\",\"14917\",\"20666\",\"28631\"]}},\"id\":\"39cea5f0-c16f-41cf-84a5-728ad94cef3b\",\"type\":\"ColumnDataSource\"},{\"attributes\":{},\"id\":\"da811173-8590-472d-8b0c-0453ec7d634c\",\"type\":\"ToolEvents\"},{\"attributes\":{\"data_source\":{\"id\":\"74bb477c-d69c-4810-9416-f953f6c4344d\",\"type\":\"ColumnDataSource\"},\"glyph\":{\"id\":\"b394a038-ad48-4ce4-bfba-7882886bfbba\",\"type\":\"Line\"},\"hover_glyph\":null,\"nonselection_glyph\":{\"id\":\"fe55a774-be29-4410-b109-d1a178b668c5\",\"type\":\"Line\"},\"selection_glyph\":null},\"id\":\"2cff3d2c-42a4-4039-aa3f-4b43d326e071\",\"type\":\"GlyphRenderer\"},{\"attributes\":{\"fill_color\":{\"value\":\"firebrick\"},\"line_color\":{\"value\":\"firebrick\"},\"x\":{\"field\":\"x\"},\"y\":{\"field\":\"y\"}},\"id\":\"97c5b291-4872-4a21-94a3-1e90ca2e13ea\",\"type\":\"Circle\"},{\"attributes\":{\"line_alpha\":{\"value\":0.1},\"line_color\":{\"value\":\"#1f77b4\"},\"line_width\":{\"value\":2},\"x\":{\"field\":\"x\"},\"y\":{\"field\":\"y\"}},\"id\":\"a3cf72c2-4161-4e6b-a09c-0fb99307fb08\",\"type\":\"Line\"},{\"attributes\":{\"callback\":null,\"column_names\":[\"x\",\"y\"],\"data\":{\"x\":[\"Ciudades\",\"1991\",\"2001\",\"2010\",\"2017\",\"2019\",\"2029\",\"2039\"],\"y\":[\"Gobernador Costa\",\"1913\",\"2185\",\"2374\",\"2532\",\"2579\",\"2827\",\"3100\"]}},\"id\":\"3fbf3b21-c511-4183-aa0e-be60b95e4c83\",\"type\":\"ColumnDataSource\"},{\"attributes\":{\"fill_color\":{\"value\":\"yellow\"},\"line_color\":{\"value\":\"yellow\"},\"x\":{\"field\":\"x\"},\"y\":{\"field\":\"y\"}},\"id\":\"0009f7b8-3116-4e73-9f04-9fd0082d6fcc\",\"type\":\"Circle\"},{\"attributes\":{\"align\":\"center\",\"plot\":null,\"text\":\"Poblaci\\u00f3n - Proyecci\\u00f3n Geom\\u00e9trica\",\"text_color\":{\"value\":\"blue\"},\"text_font\":\"times\",\"text_font_size\":{\"value\":\"20px\"},\"text_font_style\":\"italic\"},\"id\":\"39695830-f744-4b18-8668-723aba46dd29\",\"type\":\"Title\"},{\"attributes\":{\"data_source\":{\"id\":\"691b8a70-fa71-4855-883b-e19efb5a4f29\",\"type\":\"ColumnDataSource\"},\"glyph\":{\"id\":\"11b804bb-2be6-4f40-bdac-9c746e28f6dd\",\"type\":\"Circle\"},\"hover_glyph\":null,\"nonselection_glyph\":{\"id\":\"660c96ec-5927-48f8-a69d-a42ce05d34f4\",\"type\":\"Circle\"},\"selection_glyph\":null},\"id\":\"77a5f414-e9c8-4d9b-86f1-0ed1ae4c3358\",\"type\":\"GlyphRenderer\"},{\"attributes\":{\"data_source\":{\"id\":\"8dfdaf33-7ae0-49fd-ba19-24bfeef0d4ca\",\"type\":\"ColumnDataSource\"},\"glyph\":{\"id\":\"97c5b291-4872-4a21-94a3-1e90ca2e13ea\",\"type\":\"Circle\"},\"hover_glyph\":null,\"nonselection_glyph\":{\"id\":\"c10247c0-31bd-4c5b-9aad-6ab6527cdbf3\",\"type\":\"Circle\"},\"selection_glyph\":null},\"id\":\"a7c4c12b-edc2-40e8-b37d-dbabd37b4840\",\"type\":\"GlyphRenderer\"},{\"attributes\":{\"fill_color\":{\"value\":\"navy\"},\"line_color\":{\"value\":\"navy\"},\"x\":{\"field\":\"x\"},\"y\":{\"field\":\"y\"}},\"id\":\"e79ac29f-83e3-451e-9d2a-dcccdabf5cbf\",\"type\":\"Circle\"},{\"attributes\":{\"callback\":null,\"column_names\":[\"x\",\"y\"],\"data\":{\"x\":[\"Ciudades\",\"1991\",\"2001\",\"2010\",\"2017\",\"2019\",\"2029\",\"2039\"],\"y\":[\"Ciudades\",\"1991\",\"2001\",\"2010\",\"2017\",\"2019\",\"2029\",\"2039\"]}},\"id\":\"7f56bcfb-6c09-49d1-bd39-e18e974ad667\",\"type\":\"ColumnDataSource\"},{\"attributes\":{\"fill_alpha\":{\"value\":0.1},\"fill_color\":{\"value\":\"#1f77b4\"},\"line_alpha\":{\"value\":0.1},\"line_color\":{\"value\":\"#1f77b4\"},\"x\":{\"field\":\"x\"},\"y\":{\"field\":\"y\"}},\"id\":\"0145b95b-ff99-48b8-b6fb-7fb89108592f\",\"type\":\"Circle\"},{\"attributes\":{\"fill_alpha\":{\"value\":0.1},\"fill_color\":{\"value\":\"#1f77b4\"},\"line_alpha\":{\"value\":0.1},\"line_color\":{\"value\":\"#1f77b4\"},\"x\":{\"field\":\"x\"},\"y\":{\"field\":\"y\"}},\"id\":\"917757d7-f677-4c66-98f8-7c870d991338\",\"type\":\"Circle\"},{\"attributes\":{\"fill_alpha\":{\"value\":0.1},\"fill_color\":{\"value\":\"#1f77b4\"},\"line_alpha\":{\"value\":0.1},\"line_color\":{\"value\":\"#1f77b4\"},\"x\":{\"field\":\"x\"},\"y\":{\"field\":\"y\"}},\"id\":\"660c96ec-5927-48f8-a69d-a42ce05d34f4\",\"type\":\"Circle\"},{\"attributes\":{\"callback\":null,\"column_names\":[\"x\",\"y\"],\"data\":{\"x\":[\"Ciudades\",\"1991\",\"2001\",\"2010\",\"2017\",\"2019\",\"2029\",\"2039\"],\"y\":[\"Comodoro Rivadavia\",\"125725\",\"137061\",\"177083\",\"216182\",\"228862\",\"304332\",\"404689\"]}},\"id\":\"3f7a3176-b05a-49e3-8345-6f38f42c36f2\",\"type\":\"ColumnDataSource\"}],\"root_ids\":[\"80ccba95-a22e-4a70-ae0a-eccf7fe1feef\"]},\"title\":\"Bokeh Application\",\"version\":\"0.12.0\"}};\n",
       "            var render_items = [{\"docid\":\"13e52304-0765-4238-8416-bf03fd9054d3\",\"elementid\":\"b26b8731-8b35-4459-8624-36aa035f94d0\",\"modelid\":\"80ccba95-a22e-4a70-ae0a-eccf7fe1feef\",\"notebook_comms_target\":\"42300404-e08b-458e-8471-e9035f81c7cd\"}];\n",
       "            \n",
       "            Bokeh.embed.embed_items(docs_json, render_items);\n",
       "        });\n",
       "      },\n",
       "      function(Bokeh) {\n",
       "      }\n",
       "    ];\n",
       "  \n",
       "    function run_inline_js() {\n",
       "      for (var i = 0; i < inline_js.length; i++) {\n",
       "        inline_js[i](window.Bokeh);\n",
       "      }\n",
       "    }\n",
       "  \n",
       "    if (window._bokeh_is_loading === 0) {\n",
       "      console.log(\"Bokeh: BokehJS loaded, going straight to plotting\");\n",
       "      run_inline_js();\n",
       "    } else {\n",
       "      load_libs(js_urls, function() {\n",
       "        console.log(\"Bokeh: BokehJS plotting callback run at\", now());\n",
       "        run_inline_js();\n",
       "      });\n",
       "    }\n",
       "  }(this));\n",
       "</script>"
      ]
     },
     "metadata": {},
     "output_type": "display_data"
    },
    {
     "data": {
      "text/html": [
       "<p><code>&lt;Bokeh Notebook handle for <strong>In[36]</strong>&gt;</code></p>"
      ],
      "text/plain": [
       "<bokeh.io._CommsHandle at 0xaf4235ac>"
      ]
     },
     "execution_count": 36,
     "metadata": {},
     "output_type": "execute_result"
    }
   ],
   "source": [
    "x = tiempo\n",
    "ciudades=[\"Comodoro Rivadavia\",\"Trelew\",\"Puerto Madryn\",\"Esquel\",\"Sarmiento\",\"Rawson\",\"Dolavon\",\"Gaiman\",\"Gobernador Costa\",\"Cholila\",\"Camarones\",\"Paso de Indios\",\"Paso del Sapo\"]\n",
    "colores=[\"red\",\"orange\",\"blue\",\"green\",\"yellow\",\"pink\",\"navy\",\"firebrick\",\"cyan\",\"magenta\",\"olive\",\"#164c71\",\"#7c1b65\"]\n",
    "\n",
    "p = figure(title=\"Población - Proyección Geométrica\",plot_width=900)\n",
    "p.title.align = \"center\"\n",
    "p.title.text_color = \"blue\"\n",
    "p.title.text_font = \"times\"\n",
    "p.title.text_font_style = \"italic\"\n",
    "p.title.text_font_size = \"20px\"\n",
    "\n",
    "p.left[0].formatter.use_scientific = False\n",
    "\n",
    "for i in range(len(ciudades)):\n",
    "    p.circle(x, proyecciones[i], legend=ciudades[i],fill_color=colores[i],line_color=colores[i])\n",
    "    p.line(x, proyecciones[i], legend=ciudades[i],line_color=colores[i], line_width=2)\n",
    "\n",
    "p.xaxis.axis_label = 'Tiempo'\n",
    "p.yaxis.axis_label = 'Población'\n",
    "\n",
    "show(p)"
   ]
  }
 ],
 "metadata": {
  "anaconda-cloud": {},
  "kernelspec": {
   "display_name": "Python [Root]",
   "language": "python",
   "name": "Python [Root]"
  },
  "language_info": {
   "codemirror_mode": {
    "name": "ipython",
    "version": 3
   },
   "file_extension": ".py",
   "mimetype": "text/x-python",
   "name": "python",
   "nbconvert_exporter": "python",
   "pygments_lexer": "ipython3",
   "version": "3.5.2"
  }
 },
 "nbformat": 4,
 "nbformat_minor": 2
}
