{
 "cells": [
  {
   "cell_type": "code",
   "execution_count": 1,
   "metadata": {
    "collapsed": false
   },
   "outputs": [
    {
     "data": {
      "text/html": [
       "<script>\n",
       "code_show=true; \n",
       "function code_toggle() {\n",
       " if (code_show){\n",
       " $('div.input').hide();\n",
       " } else {\n",
       " $('div.input').show();\n",
       " }\n",
       " code_show = !code_show\n",
       "} \n",
       "$( document ).ready(code_toggle);\n",
       "</script>\n",
       "<form action=\"javascript:code_toggle()\"><input type=\"submit\" value=\"Click aquí para ver el código.\"></form>"
      ],
      "text/plain": [
       "<IPython.core.display.HTML object>"
      ]
     },
     "execution_count": 1,
     "metadata": {},
     "output_type": "execute_result"
    }
   ],
   "source": [
    "from IPython.display import HTML\n",
    "\n",
    "HTML('''<script>\n",
    "code_show=true; \n",
    "function code_toggle() {\n",
    " if (code_show){\n",
    " $('div.input').hide();\n",
    " } else {\n",
    " $('div.input').show();\n",
    " }\n",
    " code_show = !code_show\n",
    "} \n",
    "$( document ).ready(code_toggle);\n",
    "</script>\n",
    "<form action=\"javascript:code_toggle()\"><input type=\"submit\" value=\"Click aquí para ver el código.\"></form>''')"
   ]
  },
  {
   "cell_type": "code",
   "execution_count": 2,
   "metadata": {
    "collapsed": false
   },
   "outputs": [
    {
     "data": {
      "text/html": [
       "<p align=\"center\"> <font size=\"5\" color=\"#0404B4\" face=\"sans-serif\"> <b> Proyección Geométrica <b> </font> </p>"
      ],
      "text/plain": [
       "<IPython.core.display.HTML object>"
      ]
     },
     "execution_count": 2,
     "metadata": {},
     "output_type": "execute_result"
    }
   ],
   "source": [
    "HTML(\"\"\"<p align=\"center\"> <font size=\"5\" color=\"#0404B4\" face=\"sans-serif\"> <b> Proyección Geométrica <b> </font> </p>\"\"\")"
   ]
  },
  {
   "cell_type": "markdown",
   "metadata": {},
   "source": [
    "# # Entrada de valores de los tres últimos censos"
   ]
  },
  {
   "cell_type": "code",
   "execution_count": 3,
   "metadata": {
    "collapsed": true
   },
   "outputs": [],
   "source": [
    "censos = [1991,2001,2010]\n",
    "\n",
    "poblacion0 = [125725,137061,177083] # Comodoro Rivadavia\n",
    "poblacion1 = [79340,89547,99430] # Trelew\n",
    "poblacion2 = [45047,57791,81995] # Puerto Madryn\n",
    "poblacion3 = [23411,28486,32758] # Esquel\n",
    "poblacion4 = [7209,8292,11124] # Sarmiento\n",
    "poblacion5 = [20674,26183,31787] # Rawson\n",
    "poblacion6 = [2613,2929,3307] # Dolavon\n",
    "poblacion7 = [4642,5753,6627] # Gaiman\n",
    "poblacion8 = [1913,2185,2374] # Gobernador Costa\n",
    "poblacion9 = [1527,1981,2228] # Cholila\n",
    "poblacion10 = [868,1079,1296] # Camarones\n",
    "poblacion11 = [864,1087,1264] # Paso de Indios\n",
    "poblacion12 = [322,384,396] # Paso del sapo\n",
    "poblaciones = [poblacion0, poblacion1, poblacion2, poblacion3, poblacion4, poblacion5, poblacion6, poblacion7, poblacion8, poblacion9, poblacion10, poblacion11, poblacion12]\n",
    "\n",
    "año_actual= 2017"
   ]
  },
  {
   "cell_type": "markdown",
   "metadata": {},
   "source": [
    "# # Armamos una lista de \"tiempos\""
   ]
  },
  {
   "cell_type": "code",
   "execution_count": 4,
   "metadata": {
    "collapsed": true
   },
   "outputs": [],
   "source": [
    "tiempo = [0] * 7\n",
    "for i in range(len(censos)):\n",
    "    tiempo[i] = censos[i]\n",
    "\n",
    "tiempo[3]=año_actual\n",
    "tiempo[4]=tiempo[3]+2\n",
    "tiempo[5]=tiempo[4]+10\n",
    "tiempo[6]=tiempo[5]+10"
   ]
  },
  {
   "cell_type": "markdown",
   "metadata": {},
   "source": [
    "# # Resolvemos el método devolviendo una lista de \"datos\""
   ]
  },
  {
   "cell_type": "code",
   "execution_count": 5,
   "metadata": {
    "collapsed": true
   },
   "outputs": [],
   "source": [
    "from math import e, log, exp     #log es el logaritmo en base e y log10 es en base 10"
   ]
  },
  {
   "cell_type": "code",
   "execution_count": 6,
   "metadata": {
    "collapsed": false
   },
   "outputs": [],
   "source": [
    "def metodo_proyeccion_geometrica(poblacion, tiempo):\n",
    "\n",
    "    datos = [0] * 7\n",
    "    for i in range(len(poblacion)):\n",
    "        datos[i] = poblacion[i]\n",
    "\n",
    "\n",
    "    kg=(log(datos[2])-log(datos[1]))/(tiempo[2]-tiempo[1])\n",
    "    kg=round(kg,4)\n",
    "\n",
    "    Pa=exp(log(datos[2])+kg*(tiempo[3]-tiempo[2]))\n",
    "    Pa=round(Pa,0)\n",
    "    Pa=int(Pa)\n",
    "\n",
    "\n",
    "    P0=exp(log(datos[2])+kg*(tiempo[4]-tiempo[2]))\n",
    "    P0=round(P0,0)\n",
    "    P0=int(P0)\n",
    "\n",
    "\n",
    "    P10=exp(log(datos[2])+kg*(tiempo[5]-tiempo[2]))\n",
    "    P10=round(P10,0)\n",
    "    P10=int(P10)\n",
    "\n",
    "\n",
    "    P20=exp(log(datos[2])+kg*(tiempo[6]-tiempo[2]))\n",
    "    P20=round(P20,0)\n",
    "    P20=int(P20)\n",
    "\n",
    "\n",
    "    datos[3]=Pa\n",
    "    datos[4]=P0\n",
    "    datos[5]=P10\n",
    "    datos[6]=P20\n",
    "\n",
    "    return datos"
   ]
  },
  {
   "cell_type": "markdown",
   "metadata": {},
   "source": [
    "# # Mostramos las listas de \"tiempo\" y \"proyecciones\" para cada \"poblacion\""
   ]
  },
  {
   "cell_type": "code",
   "execution_count": 7,
   "metadata": {
    "collapsed": false
   },
   "outputs": [],
   "source": [
    "proyecciones = [0] * len(poblaciones)\n",
    "\n",
    "for i in range(len(poblaciones)):\n",
    "    proyecciones[i] = metodo_proyeccion_geometrica(poblaciones[i], tiempo)\n",
    "    #print (proyecciones[i])\n"
   ]
  },
  {
   "cell_type": "markdown",
   "metadata": {},
   "source": [
    "# # Armamos una tabla para mostrar los resultados"
   ]
  },
  {
   "cell_type": "code",
   "execution_count": 8,
   "metadata": {
    "collapsed": true
   },
   "outputs": [],
   "source": [
    "tabla = proyecciones\n",
    "tabla.reverse()\n",
    "tabla.append(tiempo)\n",
    "tabla.reverse()"
   ]
  },
  {
   "cell_type": "code",
   "execution_count": 9,
   "metadata": {
    "collapsed": true
   },
   "outputs": [],
   "source": [
    "ciudades=[\"Ciudades\",\"Comodoro Rivadavia\",\"Trelew\",\"Puerto Madryn\",\"Esquel\",\"Sarmiento\",\"Rawson\",\"Dolavon\",\"Gaiman\",\"Gobernador Costa\",\"Cholila\",\"Camarones\",\"Paso de Indios\",\"Paso del Sapo\"]"
   ]
  },
  {
   "cell_type": "code",
   "execution_count": 10,
   "metadata": {
    "collapsed": true
   },
   "outputs": [],
   "source": [
    "for i in range(len(ciudades)):\n",
    "    tabla[i].insert(0, ciudades[i])"
   ]
  },
  {
   "cell_type": "code",
   "execution_count": 11,
   "metadata": {
    "collapsed": false
   },
   "outputs": [
    {
     "data": {
      "text/html": [
       "<table><tr><td>Ciudades</td><td>1991</td><td>2001</td><td>2010</td><td>2017</td><td>2019</td><td>2029</td><td>2039</td></tr><tr><td>Comodoro Rivadavia</td><td>125725</td><td>137061</td><td>177083</td><td>216182</td><td>228862</td><td>304332</td><td>404689</td></tr><tr><td>Trelew</td><td>79340</td><td>89547</td><td>99430</td><td>107841</td><td>110372</td><td>123947</td><td>139192</td></tr><tr><td>Puerto Madryn</td><td>45047</td><td>57791</td><td>81995</td><td>107658</td><td>116368</td><td>171702</td><td>253347</td></tr><tr><td>Esquel</td><td>23411</td><td>28486</td><td>32758</td><td>36512</td><td>37662</td><td>43976</td><td>51349</td></tr><tr><td>Sarmiento</td><td>7209</td><td>8292</td><td>11124</td><td>13975</td><td>14917</td><td>20666</td><td>28631</td></tr><tr><td>Rawson</td><td>20674</td><td>26183</td><td>31787</td><td>36950</td><td>38573</td><td>47825</td><td>59297</td></tr><tr><td>Dolavon</td><td>2613</td><td>2929</td><td>3307</td><td>3635</td><td>3734</td><td>4274</td><td>4892</td></tr><tr><td>Gaiman</td><td>4642</td><td>5753</td><td>6627</td><td>7397</td><td>7633</td><td>8930</td><td>10448</td></tr><tr><td>Gobernador Costa</td><td>1913</td><td>2185</td><td>2374</td><td>2532</td><td>2579</td><td>2827</td><td>3100</td></tr><tr><td>Cholila</td><td>1527</td><td>1981</td><td>2228</td><td>2442</td><td>2507</td><td>2858</td><td>3258</td></tr><tr><td>Camarones</td><td>868</td><td>1079</td><td>1296</td><td>1495</td><td>1557</td><td>1910</td><td>2342</td></tr><tr><td>Paso de Indios</td><td>864</td><td>1087</td><td>1264</td><td>1422</td><td>1470</td><td>1739</td><td>2057</td></tr><tr><td>Paso del Sapo</td><td>322</td><td>384</td><td>396</td><td>406</td><td>408</td><td>422</td><td>437</td></tr></table>"
      ],
      "text/plain": [
       "<IPython.core.display.HTML object>"
      ]
     },
     "metadata": {},
     "output_type": "display_data"
    }
   ],
   "source": [
    "from IPython.display import HTML, display\n",
    "\n",
    "display(HTML(\n",
    "    '<table><tr>{}</tr></table>'.format(\n",
    "        '</tr><tr>'.join(\n",
    "            '<td>{}</td>'.format('</td><td>'.join(str(_) for _ in row)) for row in tabla)\n",
    "        )\n",
    " ))"
   ]
  },
  {
   "cell_type": "markdown",
   "metadata": {},
   "source": [
    "# # Importamos librerias para graficar"
   ]
  },
  {
   "cell_type": "code",
   "execution_count": 12,
   "metadata": {
    "collapsed": false
   },
   "outputs": [
    {
     "data": {
      "text/html": [
       "\n",
       "    <div class=\"bk-root\">\n",
       "        <a href=\"http://bokeh.pydata.org\" target=\"_blank\" class=\"bk-logo bk-logo-small bk-logo-notebook\"></a>\n",
       "        <span id=\"d2540daf-a6e8-456e-b783-fd205db11e4e\">Loading BokehJS ...</span>\n",
       "    </div>"
      ]
     },
     "metadata": {},
     "output_type": "display_data"
    },
    {
     "data": {
      "application/javascript": [
       "\n",
       "(function(global) {\n",
       "  function now() {\n",
       "    return new Date();\n",
       "  }\n",
       "\n",
       "  if (typeof (window._bokeh_onload_callbacks) === \"undefined\") {\n",
       "    window._bokeh_onload_callbacks = [];\n",
       "  }\n",
       "\n",
       "  function run_callbacks() {\n",
       "    window._bokeh_onload_callbacks.forEach(function(callback) { callback() });\n",
       "    delete window._bokeh_onload_callbacks\n",
       "    console.info(\"Bokeh: all callbacks have finished\");\n",
       "  }\n",
       "\n",
       "  function load_libs(js_urls, callback) {\n",
       "    window._bokeh_onload_callbacks.push(callback);\n",
       "    if (window._bokeh_is_loading > 0) {\n",
       "      console.log(\"Bokeh: BokehJS is being loaded, scheduling callback at\", now());\n",
       "      return null;\n",
       "    }\n",
       "    if (js_urls == null || js_urls.length === 0) {\n",
       "      run_callbacks();\n",
       "      return null;\n",
       "    }\n",
       "    console.log(\"Bokeh: BokehJS not loaded, scheduling load and callback at\", now());\n",
       "    window._bokeh_is_loading = js_urls.length;\n",
       "    for (var i = 0; i < js_urls.length; i++) {\n",
       "      var url = js_urls[i];\n",
       "      var s = document.createElement('script');\n",
       "      s.src = url;\n",
       "      s.async = false;\n",
       "      s.onreadystatechange = s.onload = function() {\n",
       "        window._bokeh_is_loading--;\n",
       "        if (window._bokeh_is_loading === 0) {\n",
       "          console.log(\"Bokeh: all BokehJS libraries loaded\");\n",
       "          run_callbacks()\n",
       "        }\n",
       "      };\n",
       "      s.onerror = function() {\n",
       "        console.warn(\"failed to load library \" + url);\n",
       "      };\n",
       "      console.log(\"Bokeh: injecting script tag for BokehJS library: \", url);\n",
       "      document.getElementsByTagName(\"head\")[0].appendChild(s);\n",
       "    }\n",
       "  };\n",
       "\n",
       "  var js_urls = ['https://cdn.pydata.org/bokeh/release/bokeh-0.12.0.min.js', 'https://cdn.pydata.org/bokeh/release/bokeh-widgets-0.12.0.min.js', 'https://cdn.pydata.org/bokeh/release/bokeh-compiler-0.12.0.min.js'];\n",
       "\n",
       "  var inline_js = [\n",
       "    function(Bokeh) {\n",
       "      Bokeh.set_log_level(\"info\");\n",
       "    },\n",
       "    \n",
       "    function(Bokeh) {\n",
       "      Bokeh.$(\"#d2540daf-a6e8-456e-b783-fd205db11e4e\").text(\"BokehJS successfully loaded\");\n",
       "    },\n",
       "    function(Bokeh) {\n",
       "      console.log(\"Bokeh: injecting CSS: https://cdn.pydata.org/bokeh/release/bokeh-0.12.0.min.css\");\n",
       "      Bokeh.embed.inject_css(\"https://cdn.pydata.org/bokeh/release/bokeh-0.12.0.min.css\");\n",
       "      console.log(\"Bokeh: injecting CSS: https://cdn.pydata.org/bokeh/release/bokeh-widgets-0.12.0.min.css\");\n",
       "      Bokeh.embed.inject_css(\"https://cdn.pydata.org/bokeh/release/bokeh-widgets-0.12.0.min.css\");\n",
       "    }\n",
       "  ];\n",
       "\n",
       "  function run_inline_js() {\n",
       "    for (var i = 0; i < inline_js.length; i++) {\n",
       "      inline_js[i](window.Bokeh);\n",
       "    }\n",
       "  }\n",
       "\n",
       "  if (window._bokeh_is_loading === 0) {\n",
       "    console.log(\"Bokeh: BokehJS loaded, going straight to plotting\");\n",
       "    run_inline_js();\n",
       "  } else {\n",
       "    load_libs(js_urls, function() {\n",
       "      console.log(\"Bokeh: BokehJS plotting callback run at\", now());\n",
       "      run_inline_js();\n",
       "    });\n",
       "  }\n",
       "}(this));"
      ]
     },
     "metadata": {},
     "output_type": "display_data"
    }
   ],
   "source": [
    "from bokeh.io import push_notebook, show, output_notebook\n",
    "from bokeh.plotting import figure\n",
    "output_notebook()"
   ]
  },
  {
   "cell_type": "markdown",
   "metadata": {},
   "source": [
    "# # Definimos estilos para usar en los gráficos"
   ]
  },
  {
   "cell_type": "code",
   "execution_count": 13,
   "metadata": {
    "collapsed": false
   },
   "outputs": [
    {
     "data": {
      "text/html": [
       "\n",
       "\n",
       "    <div class=\"bk-root\">\n",
       "        <div class=\"plotdiv\" id=\"21338e81-370e-41d2-8fb2-31724edd8e9f\"></div>\n",
       "    </div>\n",
       "<script type=\"text/javascript\">\n",
       "  \n",
       "  (function(global) {\n",
       "    function now() {\n",
       "      return new Date();\n",
       "    }\n",
       "  \n",
       "    if (typeof (window._bokeh_onload_callbacks) === \"undefined\") {\n",
       "      window._bokeh_onload_callbacks = [];\n",
       "    }\n",
       "  \n",
       "    function run_callbacks() {\n",
       "      window._bokeh_onload_callbacks.forEach(function(callback) { callback() });\n",
       "      delete window._bokeh_onload_callbacks\n",
       "      console.info(\"Bokeh: all callbacks have finished\");\n",
       "    }\n",
       "  \n",
       "    function load_libs(js_urls, callback) {\n",
       "      window._bokeh_onload_callbacks.push(callback);\n",
       "      if (window._bokeh_is_loading > 0) {\n",
       "        console.log(\"Bokeh: BokehJS is being loaded, scheduling callback at\", now());\n",
       "        return null;\n",
       "      }\n",
       "      if (js_urls == null || js_urls.length === 0) {\n",
       "        run_callbacks();\n",
       "        return null;\n",
       "      }\n",
       "      console.log(\"Bokeh: BokehJS not loaded, scheduling load and callback at\", now());\n",
       "      window._bokeh_is_loading = js_urls.length;\n",
       "      for (var i = 0; i < js_urls.length; i++) {\n",
       "        var url = js_urls[i];\n",
       "        var s = document.createElement('script');\n",
       "        s.src = url;\n",
       "        s.async = false;\n",
       "        s.onreadystatechange = s.onload = function() {\n",
       "          window._bokeh_is_loading--;\n",
       "          if (window._bokeh_is_loading === 0) {\n",
       "            console.log(\"Bokeh: all BokehJS libraries loaded\");\n",
       "            run_callbacks()\n",
       "          }\n",
       "        };\n",
       "        s.onerror = function() {\n",
       "          console.warn(\"failed to load library \" + url);\n",
       "        };\n",
       "        console.log(\"Bokeh: injecting script tag for BokehJS library: \", url);\n",
       "        document.getElementsByTagName(\"head\")[0].appendChild(s);\n",
       "      }\n",
       "    };var element = document.getElementById(\"21338e81-370e-41d2-8fb2-31724edd8e9f\");\n",
       "    if (element == null) {\n",
       "      console.log(\"Bokeh: ERROR: autoload.js configured with elementid '21338e81-370e-41d2-8fb2-31724edd8e9f' but no matching script tag was found. \")\n",
       "      return false;\n",
       "    }\n",
       "  \n",
       "    var js_urls = [];\n",
       "  \n",
       "    var inline_js = [\n",
       "      function(Bokeh) {\n",
       "        Bokeh.$(function() {\n",
       "            var docs_json = {\"d31b32cd-59c1-43af-b2ac-d75a4dfa29d8\":{\"roots\":{\"references\":[{\"attributes\":{\"fill_alpha\":{\"value\":0.1},\"fill_color\":{\"value\":\"#1f77b4\"},\"line_alpha\":{\"value\":0.1},\"line_color\":{\"value\":\"#1f77b4\"},\"x\":{\"field\":\"x\"},\"y\":{\"field\":\"y\"}},\"id\":\"743f37e1-07d1-4d67-b1b5-4e9f49eaabb7\",\"type\":\"Circle\"},{\"attributes\":{\"line_color\":{\"value\":\"navy\"},\"line_width\":{\"value\":2},\"x\":{\"field\":\"x\"},\"y\":{\"field\":\"y\"}},\"id\":\"8c487240-5ef3-4bd6-8bf2-9c5567a369b5\",\"type\":\"Line\"},{\"attributes\":{\"fill_alpha\":{\"value\":0.1},\"fill_color\":{\"value\":\"#1f77b4\"},\"line_alpha\":{\"value\":0.1},\"line_color\":{\"value\":\"#1f77b4\"},\"x\":{\"field\":\"x\"},\"y\":{\"field\":\"y\"}},\"id\":\"f6b98fb0-5475-475e-b266-adcf892ca9be\",\"type\":\"Circle\"},{\"attributes\":{\"line_color\":{\"value\":\"green\"},\"line_width\":{\"value\":2},\"x\":{\"field\":\"x\"},\"y\":{\"field\":\"y\"}},\"id\":\"77f32826-b0fd-49bc-96d3-b307d870cf95\",\"type\":\"Line\"},{\"attributes\":{\"data_source\":{\"id\":\"52dc2517-b244-427a-ab36-92d466e1cdf4\",\"type\":\"ColumnDataSource\"},\"glyph\":{\"id\":\"77f32826-b0fd-49bc-96d3-b307d870cf95\",\"type\":\"Line\"},\"hover_glyph\":null,\"nonselection_glyph\":{\"id\":\"0f16c2be-5e23-4eaf-a695-e19a29fb8ed9\",\"type\":\"Line\"},\"selection_glyph\":null},\"id\":\"4657a43c-fe46-492e-9863-e17ca9c25cfb\",\"type\":\"GlyphRenderer\"},{\"attributes\":{\"data_source\":{\"id\":\"eb238cb0-5f00-4b4b-b976-45df65e9a01c\",\"type\":\"ColumnDataSource\"},\"glyph\":{\"id\":\"dc995150-92e7-4bea-a2cc-8a4917ba4617\",\"type\":\"Circle\"},\"hover_glyph\":null,\"nonselection_glyph\":{\"id\":\"743f37e1-07d1-4d67-b1b5-4e9f49eaabb7\",\"type\":\"Circle\"},\"selection_glyph\":null},\"id\":\"74516629-feee-4d41-8b0b-34b71b349ae5\",\"type\":\"GlyphRenderer\"},{\"attributes\":{\"fill_color\":{\"value\":\"blue\"},\"line_color\":{\"value\":\"blue\"},\"x\":{\"field\":\"x\"},\"y\":{\"field\":\"y\"}},\"id\":\"5c7789c3-d377-4f9a-8f05-3fe35d067e91\",\"type\":\"Circle\"},{\"attributes\":{\"bottom_units\":\"screen\",\"fill_alpha\":{\"value\":0.5},\"fill_color\":{\"value\":\"lightgrey\"},\"left_units\":\"screen\",\"level\":\"overlay\",\"line_alpha\":{\"value\":1.0},\"line_color\":{\"value\":\"black\"},\"line_dash\":[4,4],\"line_width\":{\"value\":2},\"plot\":null,\"render_mode\":\"css\",\"right_units\":\"screen\",\"top_units\":\"screen\"},\"id\":\"9caad977-f748-4afd-813f-6ed62b62a2bb\",\"type\":\"BoxAnnotation\"},{\"attributes\":{\"data_source\":{\"id\":\"8c479013-b401-41c3-af0d-017eb94f2500\",\"type\":\"ColumnDataSource\"},\"glyph\":{\"id\":\"df9bc28e-548b-46ed-b3e4-727ff8efdc15\",\"type\":\"Circle\"},\"hover_glyph\":null,\"nonselection_glyph\":{\"id\":\"d6b3a012-6a25-41d4-aacf-b599595a551e\",\"type\":\"Circle\"},\"selection_glyph\":null},\"id\":\"3a5bd439-13af-446e-af7a-6b5ad9f41a8e\",\"type\":\"GlyphRenderer\"},{\"attributes\":{\"line_alpha\":{\"value\":0.1},\"line_color\":{\"value\":\"#1f77b4\"},\"line_width\":{\"value\":2},\"x\":{\"field\":\"x\"},\"y\":{\"field\":\"y\"}},\"id\":\"53726a44-0550-487e-a7c9-6297068ed4de\",\"type\":\"Line\"},{\"attributes\":{\"fill_color\":{\"value\":\"cyan\"},\"line_color\":{\"value\":\"cyan\"},\"x\":{\"field\":\"x\"},\"y\":{\"field\":\"y\"}},\"id\":\"df9bc28e-548b-46ed-b3e4-727ff8efdc15\",\"type\":\"Circle\"},{\"attributes\":{\"line_alpha\":{\"value\":0.1},\"line_color\":{\"value\":\"#1f77b4\"},\"line_width\":{\"value\":2},\"x\":{\"field\":\"x\"},\"y\":{\"field\":\"y\"}},\"id\":\"05138f1f-5f81-4b0e-92c0-02cd579a41f4\",\"type\":\"Line\"},{\"attributes\":{\"data_source\":{\"id\":\"f2338221-c921-43ea-8a8c-9322f0e3643a\",\"type\":\"ColumnDataSource\"},\"glyph\":{\"id\":\"bd9a61d1-a92b-4549-9f3c-242b187a1054\",\"type\":\"Line\"},\"hover_glyph\":null,\"nonselection_glyph\":{\"id\":\"13c32f85-4951-4fb2-9215-3b9da796de83\",\"type\":\"Line\"},\"selection_glyph\":null},\"id\":\"db4ade4b-5b5e-4115-9ea7-7d5ba90a3777\",\"type\":\"GlyphRenderer\"},{\"attributes\":{\"fill_alpha\":{\"value\":0.1},\"fill_color\":{\"value\":\"#1f77b4\"},\"line_alpha\":{\"value\":0.1},\"line_color\":{\"value\":\"#1f77b4\"},\"x\":{\"field\":\"x\"},\"y\":{\"field\":\"y\"}},\"id\":\"4c172d0b-6fb9-40a4-8578-7867ec77b9c3\",\"type\":\"Circle\"},{\"attributes\":{\"line_alpha\":{\"value\":0.1},\"line_color\":{\"value\":\"#1f77b4\"},\"line_width\":{\"value\":2},\"x\":{\"field\":\"x\"},\"y\":{\"field\":\"y\"}},\"id\":\"aa15e2fb-1a76-4924-8a2d-ed6c37f4298c\",\"type\":\"Line\"},{\"attributes\":{\"plot\":{\"id\":\"1aa24e8c-8018-4553-93bb-49a3dfb9e4a6\",\"subtype\":\"Figure\",\"type\":\"Plot\"}},\"id\":\"bed7b447-33e8-47cf-b7f2-402eee65327a\",\"type\":\"HelpTool\"},{\"attributes\":{\"fill_color\":{\"value\":\"firebrick\"},\"line_color\":{\"value\":\"firebrick\"},\"x\":{\"field\":\"x\"},\"y\":{\"field\":\"y\"}},\"id\":\"4119a6e9-6297-494d-a65a-9dd8da67fe03\",\"type\":\"Circle\"},{\"attributes\":{\"data_source\":{\"id\":\"1ef78557-370b-4b57-9d5d-48d12bfb7a92\",\"type\":\"ColumnDataSource\"},\"glyph\":{\"id\":\"f0e0ca26-0108-4ec8-b53e-0c7e2427874e\",\"type\":\"Circle\"},\"hover_glyph\":null,\"nonselection_glyph\":{\"id\":\"234a7c95-c88a-4026-8812-9bb3fc5dffb7\",\"type\":\"Circle\"},\"selection_glyph\":null},\"id\":\"08682479-6adf-419e-9ffc-3f7462de076f\",\"type\":\"GlyphRenderer\"},{\"attributes\":{},\"id\":\"780b195a-8e93-4c6e-bfa3-3c74b42acdd2\",\"type\":\"BasicTickFormatter\"},{\"attributes\":{\"callback\":null,\"column_names\":[\"y\",\"x\"],\"data\":{\"x\":[\"Ciudades\",\"1991\",\"2001\",\"2010\",\"2017\",\"2019\",\"2029\",\"2039\"],\"y\":[\"Paso de Indios\",\"864\",\"1087\",\"1264\",\"1422\",\"1470\",\"1739\",\"2057\"]}},\"id\":\"78f83a3a-21f9-4aec-8561-dfce722b81fd\",\"type\":\"ColumnDataSource\"},{\"attributes\":{\"data_source\":{\"id\":\"157557ae-5800-47c8-a42d-3f5311a548a1\",\"type\":\"ColumnDataSource\"},\"glyph\":{\"id\":\"2986199b-e044-4407-864c-e8df3a369df7\",\"type\":\"Line\"},\"hover_glyph\":null,\"nonselection_glyph\":{\"id\":\"e28889d9-bdb1-4ac3-a78a-5edf230c4e93\",\"type\":\"Line\"},\"selection_glyph\":null},\"id\":\"8665cdb2-88c9-44ea-b3a4-5d6d89f91843\",\"type\":\"GlyphRenderer\"},{\"attributes\":{\"align\":\"center\",\"plot\":null,\"text\":\"Poblaci\\u00f3n - Proyecci\\u00f3n Geom\\u00e9trica\",\"text_color\":{\"value\":\"blue\"},\"text_font\":\"times\",\"text_font_size\":{\"value\":\"20px\"},\"text_font_style\":\"italic\"},\"id\":\"e6d8222c-4519-4e57-94f1-7a327912ebb6\",\"type\":\"Title\"},{\"attributes\":{\"active_drag\":\"auto\",\"active_scroll\":\"auto\",\"active_tap\":\"auto\",\"tools\":[{\"id\":\"ed531c48-930a-4206-93d4-e634c12319de\",\"type\":\"PanTool\"},{\"id\":\"c2d9e845-64a9-4203-b94a-be32a3e9c1d2\",\"type\":\"WheelZoomTool\"},{\"id\":\"d09af095-c7f0-4028-8cfa-9478d20c9538\",\"type\":\"BoxZoomTool\"},{\"id\":\"9c24a6eb-e09d-4575-8e09-99405347a5a9\",\"type\":\"SaveTool\"},{\"id\":\"fba0b38e-5f65-4635-ae9c-db5955b46ece\",\"type\":\"ResetTool\"},{\"id\":\"bed7b447-33e8-47cf-b7f2-402eee65327a\",\"type\":\"HelpTool\"}]},\"id\":\"6408f69c-02ff-46b2-94c2-542b5507f303\",\"type\":\"Toolbar\"},{\"attributes\":{\"callback\":null},\"id\":\"5423e7a5-41a9-4a3b-abca-22c1d807d9d8\",\"type\":\"DataRange1d\"},{\"attributes\":{\"plot\":{\"id\":\"1aa24e8c-8018-4553-93bb-49a3dfb9e4a6\",\"subtype\":\"Figure\",\"type\":\"Plot\"}},\"id\":\"9c24a6eb-e09d-4575-8e09-99405347a5a9\",\"type\":\"SaveTool\"},{\"attributes\":{\"data_source\":{\"id\":\"f5c75a83-a2dd-4adc-acf5-83ff605690b0\",\"type\":\"ColumnDataSource\"},\"glyph\":{\"id\":\"2db5f783-b460-416f-93a0-8b40b87c3f48\",\"type\":\"Line\"},\"hover_glyph\":null,\"nonselection_glyph\":{\"id\":\"36e708f6-160a-4598-8b7a-c330757034dc\",\"type\":\"Line\"},\"selection_glyph\":null},\"id\":\"b189262c-22c5-40c0-88ea-9aa48d8ee179\",\"type\":\"GlyphRenderer\"},{\"attributes\":{\"fill_color\":{\"value\":\"orange\"},\"line_color\":{\"value\":\"orange\"},\"x\":{\"field\":\"x\"},\"y\":{\"field\":\"y\"}},\"id\":\"b530a1f7-b4f0-4413-a02c-aa9012c8f8b6\",\"type\":\"Circle\"},{\"attributes\":{},\"id\":\"21a507a5-a891-4b40-9043-8d1f9e4021fe\",\"type\":\"BasicTicker\"},{\"attributes\":{\"data_source\":{\"id\":\"c91d7c29-df7c-487c-b24a-ba199f39886d\",\"type\":\"ColumnDataSource\"},\"glyph\":{\"id\":\"8c487240-5ef3-4bd6-8bf2-9c5567a369b5\",\"type\":\"Line\"},\"hover_glyph\":null,\"nonselection_glyph\":{\"id\":\"fe433960-4a15-4690-b0c0-6f52c4de9b91\",\"type\":\"Line\"},\"selection_glyph\":null},\"id\":\"e4855406-23ec-43eb-8180-d8aa089be245\",\"type\":\"GlyphRenderer\"},{\"attributes\":{\"data_source\":{\"id\":\"98104a04-1c76-4743-849b-92f88ecc314b\",\"type\":\"ColumnDataSource\"},\"glyph\":{\"id\":\"d2b21c07-5acd-4e8f-8d06-3f1000a6f481\",\"type\":\"Line\"},\"hover_glyph\":null,\"nonselection_glyph\":{\"id\":\"1c6ff583-6131-46a7-83c0-efc91bc16c11\",\"type\":\"Line\"},\"selection_glyph\":null},\"id\":\"5f886bd9-193f-46cb-9c3a-f15bffa19248\",\"type\":\"GlyphRenderer\"},{\"attributes\":{\"line_alpha\":{\"value\":0.1},\"line_color\":{\"value\":\"#1f77b4\"},\"line_width\":{\"value\":2},\"x\":{\"field\":\"x\"},\"y\":{\"field\":\"y\"}},\"id\":\"fee23142-8c32-405a-9421-12c5f7e3557b\",\"type\":\"Line\"},{\"attributes\":{\"line_alpha\":{\"value\":0.1},\"line_color\":{\"value\":\"#1f77b4\"},\"line_width\":{\"value\":2},\"x\":{\"field\":\"x\"},\"y\":{\"field\":\"y\"}},\"id\":\"fd220f7b-f2ae-423e-a1c2-80a3d47a5e7e\",\"type\":\"Line\"},{\"attributes\":{\"line_alpha\":{\"value\":0.1},\"line_color\":{\"value\":\"#1f77b4\"},\"line_width\":{\"value\":2},\"x\":{\"field\":\"x\"},\"y\":{\"field\":\"y\"}},\"id\":\"36e708f6-160a-4598-8b7a-c330757034dc\",\"type\":\"Line\"},{\"attributes\":{\"fill_alpha\":{\"value\":0.1},\"fill_color\":{\"value\":\"#1f77b4\"},\"line_alpha\":{\"value\":0.1},\"line_color\":{\"value\":\"#1f77b4\"},\"x\":{\"field\":\"x\"},\"y\":{\"field\":\"y\"}},\"id\":\"92957819-c1be-4aa1-882a-057013893826\",\"type\":\"Circle\"},{\"attributes\":{\"data_source\":{\"id\":\"1c2bf2d0-353f-4d60-a363-fea3ab67de5d\",\"type\":\"ColumnDataSource\"},\"glyph\":{\"id\":\"291db983-7a32-4013-9786-85b7826252fd\",\"type\":\"Circle\"},\"hover_glyph\":null,\"nonselection_glyph\":{\"id\":\"795f8b88-809f-4105-8f1c-2597862aff98\",\"type\":\"Circle\"},\"selection_glyph\":null},\"id\":\"cc89b56f-8d63-4964-8c1f-902f043807c9\",\"type\":\"GlyphRenderer\"},{\"attributes\":{\"callback\":null,\"column_names\":[\"y\",\"x\"],\"data\":{\"x\":[\"Ciudades\",\"1991\",\"2001\",\"2010\",\"2017\",\"2019\",\"2029\",\"2039\"],\"y\":[\"Esquel\",\"23411\",\"28486\",\"32758\",\"36512\",\"37662\",\"43976\",\"51349\"]}},\"id\":\"fff0ab6a-8580-4457-8055-c7cf92a71479\",\"type\":\"ColumnDataSource\"},{\"attributes\":{\"callback\":null,\"column_names\":[\"y\",\"x\"],\"data\":{\"x\":[\"Ciudades\",\"1991\",\"2001\",\"2010\",\"2017\",\"2019\",\"2029\",\"2039\"],\"y\":[\"Comodoro Rivadavia\",\"125725\",\"137061\",\"177083\",\"216182\",\"228862\",\"304332\",\"404689\"]}},\"id\":\"bec2d821-8066-4fe5-ba8c-6c9beb85697e\",\"type\":\"ColumnDataSource\"},{\"attributes\":{\"dimension\":1,\"plot\":{\"id\":\"1aa24e8c-8018-4553-93bb-49a3dfb9e4a6\",\"subtype\":\"Figure\",\"type\":\"Plot\"},\"ticker\":{\"id\":\"21a507a5-a891-4b40-9043-8d1f9e4021fe\",\"type\":\"BasicTicker\"}},\"id\":\"b6776447-3bee-467f-8969-183be5fca32a\",\"type\":\"Grid\"},{\"attributes\":{\"data_source\":{\"id\":\"422ba997-7a21-4f26-ae80-590e317d61b3\",\"type\":\"ColumnDataSource\"},\"glyph\":{\"id\":\"342b5d21-8c23-4ac6-8424-2dae8c979dc5\",\"type\":\"Line\"},\"hover_glyph\":null,\"nonselection_glyph\":{\"id\":\"53726a44-0550-487e-a7c9-6297068ed4de\",\"type\":\"Line\"},\"selection_glyph\":null},\"id\":\"2e98f223-bfcc-4b35-94f1-5b3b3fbae9f0\",\"type\":\"GlyphRenderer\"},{\"attributes\":{\"data_source\":{\"id\":\"7a497924-2ef6-4211-a683-57a08f684c54\",\"type\":\"ColumnDataSource\"},\"glyph\":{\"id\":\"4119a6e9-6297-494d-a65a-9dd8da67fe03\",\"type\":\"Circle\"},\"hover_glyph\":null,\"nonselection_glyph\":{\"id\":\"d760d710-f55c-4978-87f1-6f6b6aa3afcf\",\"type\":\"Circle\"},\"selection_glyph\":null},\"id\":\"ac15e41f-a06b-4115-b564-e3d452c1c2e5\",\"type\":\"GlyphRenderer\"},{\"attributes\":{\"callback\":null,\"column_names\":[\"x\",\"y\"],\"data\":{\"x\":[\"Ciudades\",\"1991\",\"2001\",\"2010\",\"2017\",\"2019\",\"2029\",\"2039\"],\"y\":[\"Esquel\",\"23411\",\"28486\",\"32758\",\"36512\",\"37662\",\"43976\",\"51349\"]}},\"id\":\"422ba997-7a21-4f26-ae80-590e317d61b3\",\"type\":\"ColumnDataSource\"},{\"attributes\":{\"line_color\":{\"value\":\"#7c1b65\"},\"line_width\":{\"value\":2},\"x\":{\"field\":\"x\"},\"y\":{\"field\":\"y\"}},\"id\":\"ee9a7cba-aaa3-4851-9453-0f85d5e34cb6\",\"type\":\"Line\"},{\"attributes\":{\"legends\":[[\"Comodoro Rivadavia\",[{\"id\":\"1843c16f-8292-4be4-9717-3a97969d9d87\",\"type\":\"GlyphRenderer\"},{\"id\":\"ee32e1fa-c930-4a63-8f77-821d4e4bf719\",\"type\":\"GlyphRenderer\"}]],[\"Trelew\",[{\"id\":\"fb663cf5-b55e-4286-b2b9-b52a22ea96a9\",\"type\":\"GlyphRenderer\"},{\"id\":\"b189262c-22c5-40c0-88ea-9aa48d8ee179\",\"type\":\"GlyphRenderer\"}]],[\"Puerto Madryn\",[{\"id\":\"f6e99831-f811-4d06-93c6-b4b58525b946\",\"type\":\"GlyphRenderer\"},{\"id\":\"8665cdb2-88c9-44ea-b3a4-5d6d89f91843\",\"type\":\"GlyphRenderer\"}]],[\"Esquel\",[{\"id\":\"dc12710a-5772-45ab-a1f1-516821fe5a51\",\"type\":\"GlyphRenderer\"},{\"id\":\"4657a43c-fe46-492e-9863-e17ca9c25cfb\",\"type\":\"GlyphRenderer\"}]],[\"Sarmiento\",[{\"id\":\"402e8f14-9f2b-4915-92da-cf2539da8641\",\"type\":\"GlyphRenderer\"},{\"id\":\"2e98f223-bfcc-4b35-94f1-5b3b3fbae9f0\",\"type\":\"GlyphRenderer\"}]],[\"Rawson\",[{\"id\":\"7400feb9-e6bf-4109-acaa-a8873b36a6c6\",\"type\":\"GlyphRenderer\"},{\"id\":\"415054c4-9c7f-46f8-84de-2f3f3cf12c49\",\"type\":\"GlyphRenderer\"}]],[\"Dolavon\",[{\"id\":\"74516629-feee-4d41-8b0b-34b71b349ae5\",\"type\":\"GlyphRenderer\"},{\"id\":\"e4855406-23ec-43eb-8180-d8aa089be245\",\"type\":\"GlyphRenderer\"}]],[\"Gaiman\",[{\"id\":\"ac15e41f-a06b-4115-b564-e3d452c1c2e5\",\"type\":\"GlyphRenderer\"},{\"id\":\"5f886bd9-193f-46cb-9c3a-f15bffa19248\",\"type\":\"GlyphRenderer\"}]],[\"Gobernador Costa\",[{\"id\":\"3a5bd439-13af-446e-af7a-6b5ad9f41a8e\",\"type\":\"GlyphRenderer\"},{\"id\":\"db4ade4b-5b5e-4115-9ea7-7d5ba90a3777\",\"type\":\"GlyphRenderer\"}]],[\"Cholila\",[{\"id\":\"7d757cfc-cb97-4e30-97ec-190a4bb1af65\",\"type\":\"GlyphRenderer\"},{\"id\":\"70e50407-ffed-4466-8c04-fa24471db073\",\"type\":\"GlyphRenderer\"}]],[\"Camarones\",[{\"id\":\"cc89b56f-8d63-4964-8c1f-902f043807c9\",\"type\":\"GlyphRenderer\"},{\"id\":\"893dc4a4-a0a3-41cf-bd9c-166a63a00881\",\"type\":\"GlyphRenderer\"}]],[\"Paso de Indios\",[{\"id\":\"08682479-6adf-419e-9ffc-3f7462de076f\",\"type\":\"GlyphRenderer\"},{\"id\":\"47e9fc49-9ac0-4ebc-8cc7-867337a9b918\",\"type\":\"GlyphRenderer\"}]],[\"Paso del Sapo\",[{\"id\":\"db234a39-74a3-4461-aad0-123df00b46bf\",\"type\":\"GlyphRenderer\"},{\"id\":\"5f9c8ace-a010-4ce3-8847-f6dbf42f98f3\",\"type\":\"GlyphRenderer\"}]]],\"plot\":{\"id\":\"1aa24e8c-8018-4553-93bb-49a3dfb9e4a6\",\"subtype\":\"Figure\",\"type\":\"Plot\"}},\"id\":\"c6bf9d4e-fcd9-469d-9149-378e7edc18d8\",\"type\":\"Legend\"},{\"attributes\":{\"data_source\":{\"id\":\"bec2d821-8066-4fe5-ba8c-6c9beb85697e\",\"type\":\"ColumnDataSource\"},\"glyph\":{\"id\":\"b530a1f7-b4f0-4413-a02c-aa9012c8f8b6\",\"type\":\"Circle\"},\"hover_glyph\":null,\"nonselection_glyph\":{\"id\":\"9a28a6c5-beea-44b9-a55d-8853d848369b\",\"type\":\"Circle\"},\"selection_glyph\":null},\"id\":\"fb663cf5-b55e-4286-b2b9-b52a22ea96a9\",\"type\":\"GlyphRenderer\"},{\"attributes\":{\"data_source\":{\"id\":\"78f83a3a-21f9-4aec-8561-dfce722b81fd\",\"type\":\"ColumnDataSource\"},\"glyph\":{\"id\":\"a6bc59ce-fcea-4c38-a2fc-68a5eb1cc4ef\",\"type\":\"Circle\"},\"hover_glyph\":null,\"nonselection_glyph\":{\"id\":\"4c172d0b-6fb9-40a4-8578-7867ec77b9c3\",\"type\":\"Circle\"},\"selection_glyph\":null},\"id\":\"db234a39-74a3-4461-aad0-123df00b46bf\",\"type\":\"GlyphRenderer\"},{\"attributes\":{\"line_alpha\":{\"value\":0.1},\"line_color\":{\"value\":\"#1f77b4\"},\"line_width\":{\"value\":2},\"x\":{\"field\":\"x\"},\"y\":{\"field\":\"y\"}},\"id\":\"13c32f85-4951-4fb2-9215-3b9da796de83\",\"type\":\"Line\"},{\"attributes\":{\"fill_alpha\":{\"value\":0.1},\"fill_color\":{\"value\":\"#1f77b4\"},\"line_alpha\":{\"value\":0.1},\"line_color\":{\"value\":\"#1f77b4\"},\"x\":{\"field\":\"x\"},\"y\":{\"field\":\"y\"}},\"id\":\"4f1d9cdf-e1e0-440b-91a5-83dfd69b22fb\",\"type\":\"Circle\"},{\"attributes\":{\"callback\":null,\"column_names\":[\"x\",\"y\"],\"data\":{\"x\":[\"Ciudades\",\"1991\",\"2001\",\"2010\",\"2017\",\"2019\",\"2029\",\"2039\"],\"y\":[\"Comodoro Rivadavia\",\"125725\",\"137061\",\"177083\",\"216182\",\"228862\",\"304332\",\"404689\"]}},\"id\":\"f5c75a83-a2dd-4adc-acf5-83ff605690b0\",\"type\":\"ColumnDataSource\"},{\"attributes\":{\"line_color\":{\"value\":\"magenta\"},\"line_width\":{\"value\":2},\"x\":{\"field\":\"x\"},\"y\":{\"field\":\"y\"}},\"id\":\"e7c485cc-cc59-4b26-93f4-57dcc3bb5fc4\",\"type\":\"Line\"},{\"attributes\":{\"line_color\":{\"value\":\"firebrick\"},\"line_width\":{\"value\":2},\"x\":{\"field\":\"x\"},\"y\":{\"field\":\"y\"}},\"id\":\"d2b21c07-5acd-4e8f-8d06-3f1000a6f481\",\"type\":\"Line\"},{\"attributes\":{\"fill_color\":{\"value\":\"navy\"},\"line_color\":{\"value\":\"navy\"},\"x\":{\"field\":\"x\"},\"y\":{\"field\":\"y\"}},\"id\":\"dc995150-92e7-4bea-a2cc-8a4917ba4617\",\"type\":\"Circle\"},{\"attributes\":{\"fill_color\":{\"value\":\"green\"},\"line_color\":{\"value\":\"green\"},\"x\":{\"field\":\"x\"},\"y\":{\"field\":\"y\"}},\"id\":\"048e47f1-28c3-461a-9aa9-5a2f68ee18d1\",\"type\":\"Circle\"},{\"attributes\":{\"callback\":null,\"column_names\":[\"y\",\"x\"],\"data\":{\"x\":[\"Ciudades\",\"1991\",\"2001\",\"2010\",\"2017\",\"2019\",\"2029\",\"2039\"],\"y\":[\"Puerto Madryn\",\"45047\",\"57791\",\"81995\",\"107658\",\"116368\",\"171702\",\"253347\"]}},\"id\":\"6aeba8d8-3b79-47d9-a53b-8da12e68be9f\",\"type\":\"ColumnDataSource\"},{\"attributes\":{\"fill_alpha\":{\"value\":0.1},\"fill_color\":{\"value\":\"#1f77b4\"},\"line_alpha\":{\"value\":0.1},\"line_color\":{\"value\":\"#1f77b4\"},\"x\":{\"field\":\"x\"},\"y\":{\"field\":\"y\"}},\"id\":\"795f8b88-809f-4105-8f1c-2597862aff98\",\"type\":\"Circle\"},{\"attributes\":{\"line_color\":{\"value\":\"pink\"},\"line_width\":{\"value\":2},\"x\":{\"field\":\"x\"},\"y\":{\"field\":\"y\"}},\"id\":\"758c84d3-2ef2-4fda-b23f-0f0031540f8e\",\"type\":\"Line\"},{\"attributes\":{\"axis_label\":\"Tiempo\",\"formatter\":{\"id\":\"780b195a-8e93-4c6e-bfa3-3c74b42acdd2\",\"type\":\"BasicTickFormatter\"},\"plot\":{\"id\":\"1aa24e8c-8018-4553-93bb-49a3dfb9e4a6\",\"subtype\":\"Figure\",\"type\":\"Plot\"},\"ticker\":{\"id\":\"ff57a3e0-be4c-46ae-954c-740104a09708\",\"type\":\"BasicTicker\"}},\"id\":\"ca03f2b8-b8bc-4b6e-8e07-fb878a455b4c\",\"type\":\"LinearAxis\"},{\"attributes\":{\"data_source\":{\"id\":\"254b6c96-d113-418c-8ef7-d857a35420ab\",\"type\":\"ColumnDataSource\"},\"glyph\":{\"id\":\"1db6615c-3421-42ad-87ce-24ed25ffcebd\",\"type\":\"Circle\"},\"hover_glyph\":null,\"nonselection_glyph\":{\"id\":\"92957819-c1be-4aa1-882a-057013893826\",\"type\":\"Circle\"},\"selection_glyph\":null},\"id\":\"1843c16f-8292-4be4-9717-3a97969d9d87\",\"type\":\"GlyphRenderer\"},{\"attributes\":{\"callback\":null,\"column_names\":[\"y\",\"x\"],\"data\":{\"x\":[\"Ciudades\",\"1991\",\"2001\",\"2010\",\"2017\",\"2019\",\"2029\",\"2039\"],\"y\":[\"Sarmiento\",\"7209\",\"8292\",\"11124\",\"13975\",\"14917\",\"20666\",\"28631\"]}},\"id\":\"4409d56b-f1a6-42b2-91e8-5d4d7534802c\",\"type\":\"ColumnDataSource\"},{\"attributes\":{\"callback\":null,\"column_names\":[\"x\",\"y\"],\"data\":{\"x\":[\"Ciudades\",\"1991\",\"2001\",\"2010\",\"2017\",\"2019\",\"2029\",\"2039\"],\"y\":[\"Ciudades\",\"1991\",\"2001\",\"2010\",\"2017\",\"2019\",\"2029\",\"2039\"]}},\"id\":\"e5cc3b3d-69cb-4ab4-8f7e-111a39a352f1\",\"type\":\"ColumnDataSource\"},{\"attributes\":{\"data_source\":{\"id\":\"8f1a634e-0f30-43cb-90c9-e574a1b983dd\",\"type\":\"ColumnDataSource\"},\"glyph\":{\"id\":\"758c84d3-2ef2-4fda-b23f-0f0031540f8e\",\"type\":\"Line\"},\"hover_glyph\":null,\"nonselection_glyph\":{\"id\":\"fd220f7b-f2ae-423e-a1c2-80a3d47a5e7e\",\"type\":\"Line\"},\"selection_glyph\":null},\"id\":\"415054c4-9c7f-46f8-84de-2f3f3cf12c49\",\"type\":\"GlyphRenderer\"},{\"attributes\":{\"callback\":null,\"column_names\":[\"y\",\"x\"],\"data\":{\"x\":[\"Ciudades\",\"1991\",\"2001\",\"2010\",\"2017\",\"2019\",\"2029\",\"2039\"],\"y\":[\"Trelew\",\"79340\",\"89547\",\"99430\",\"107841\",\"110372\",\"123947\",\"139192\"]}},\"id\":\"da878f10-2de4-4a79-ab2b-9cc7848231e5\",\"type\":\"ColumnDataSource\"},{\"attributes\":{\"callback\":null,\"column_names\":[\"x\",\"y\"],\"data\":{\"x\":[\"Ciudades\",\"1991\",\"2001\",\"2010\",\"2017\",\"2019\",\"2029\",\"2039\"],\"y\":[\"Cholila\",\"1527\",\"1981\",\"2228\",\"2442\",\"2507\",\"2858\",\"3258\"]}},\"id\":\"c6290db1-bbd6-4a13-8724-0746ed607741\",\"type\":\"ColumnDataSource\"},{\"attributes\":{\"data_source\":{\"id\":\"da878f10-2de4-4a79-ab2b-9cc7848231e5\",\"type\":\"ColumnDataSource\"},\"glyph\":{\"id\":\"5c7789c3-d377-4f9a-8f05-3fe35d067e91\",\"type\":\"Circle\"},\"hover_glyph\":null,\"nonselection_glyph\":{\"id\":\"f6b98fb0-5475-475e-b266-adcf892ca9be\",\"type\":\"Circle\"},\"selection_glyph\":null},\"id\":\"f6e99831-f811-4d06-93c6-b4b58525b946\",\"type\":\"GlyphRenderer\"},{\"attributes\":{\"line_alpha\":{\"value\":0.1},\"line_color\":{\"value\":\"#1f77b4\"},\"line_width\":{\"value\":2},\"x\":{\"field\":\"x\"},\"y\":{\"field\":\"y\"}},\"id\":\"1c6ff583-6131-46a7-83c0-efc91bc16c11\",\"type\":\"Line\"},{\"attributes\":{\"callback\":null,\"column_names\":[\"x\",\"y\"],\"data\":{\"x\":[\"Ciudades\",\"1991\",\"2001\",\"2010\",\"2017\",\"2019\",\"2029\",\"2039\"],\"y\":[\"Rawson\",\"20674\",\"26183\",\"31787\",\"36950\",\"38573\",\"47825\",\"59297\"]}},\"id\":\"c91d7c29-df7c-487c-b24a-ba199f39886d\",\"type\":\"ColumnDataSource\"},{\"attributes\":{},\"id\":\"ff57a3e0-be4c-46ae-954c-740104a09708\",\"type\":\"BasicTicker\"},{\"attributes\":{\"line_color\":{\"value\":\"#164c71\"},\"line_width\":{\"value\":2},\"x\":{\"field\":\"x\"},\"y\":{\"field\":\"y\"}},\"id\":\"bfab91d2-06f4-4542-8335-26211cd45e74\",\"type\":\"Line\"},{\"attributes\":{\"line_alpha\":{\"value\":0.1},\"line_color\":{\"value\":\"#1f77b4\"},\"line_width\":{\"value\":2},\"x\":{\"field\":\"x\"},\"y\":{\"field\":\"y\"}},\"id\":\"e28889d9-bdb1-4ac3-a78a-5edf230c4e93\",\"type\":\"Line\"},{\"attributes\":{\"fill_alpha\":{\"value\":0.1},\"fill_color\":{\"value\":\"#1f77b4\"},\"line_alpha\":{\"value\":0.1},\"line_color\":{\"value\":\"#1f77b4\"},\"x\":{\"field\":\"x\"},\"y\":{\"field\":\"y\"}},\"id\":\"d6b3a012-6a25-41d4-aacf-b599595a551e\",\"type\":\"Circle\"},{\"attributes\":{\"line_color\":{\"value\":\"red\"},\"line_width\":{\"value\":2},\"x\":{\"field\":\"x\"},\"y\":{\"field\":\"y\"}},\"id\":\"00b0ebed-e88d-4226-9b88-ac7a6da684de\",\"type\":\"Line\"},{\"attributes\":{\"data_source\":{\"id\":\"e5cc3b3d-69cb-4ab4-8f7e-111a39a352f1\",\"type\":\"ColumnDataSource\"},\"glyph\":{\"id\":\"00b0ebed-e88d-4226-9b88-ac7a6da684de\",\"type\":\"Line\"},\"hover_glyph\":null,\"nonselection_glyph\":{\"id\":\"05138f1f-5f81-4b0e-92c0-02cd579a41f4\",\"type\":\"Line\"},\"selection_glyph\":null},\"id\":\"ee32e1fa-c930-4a63-8f77-821d4e4bf719\",\"type\":\"GlyphRenderer\"},{\"attributes\":{\"line_color\":{\"value\":\"yellow\"},\"line_width\":{\"value\":2},\"x\":{\"field\":\"x\"},\"y\":{\"field\":\"y\"}},\"id\":\"342b5d21-8c23-4ac6-8424-2dae8c979dc5\",\"type\":\"Line\"},{\"attributes\":{\"line_alpha\":{\"value\":0.1},\"line_color\":{\"value\":\"#1f77b4\"},\"line_width\":{\"value\":2},\"x\":{\"field\":\"x\"},\"y\":{\"field\":\"y\"}},\"id\":\"82654eab-5e30-4ca4-8822-bcf9441e3f1b\",\"type\":\"Line\"},{\"attributes\":{\"fill_color\":{\"value\":\"yellow\"},\"line_color\":{\"value\":\"yellow\"},\"x\":{\"field\":\"x\"},\"y\":{\"field\":\"y\"}},\"id\":\"01142730-24c2-4805-8181-9c61749a1a9e\",\"type\":\"Circle\"},{\"attributes\":{\"fill_color\":{\"value\":\"#7c1b65\"},\"line_color\":{\"value\":\"#7c1b65\"},\"x\":{\"field\":\"x\"},\"y\":{\"field\":\"y\"}},\"id\":\"a6bc59ce-fcea-4c38-a2fc-68a5eb1cc4ef\",\"type\":\"Circle\"},{\"attributes\":{\"data_source\":{\"id\":\"c6290db1-bbd6-4a13-8724-0746ed607741\",\"type\":\"ColumnDataSource\"},\"glyph\":{\"id\":\"9bef10a4-96a8-47d9-a603-0ddf0c121046\",\"type\":\"Line\"},\"hover_glyph\":null,\"nonselection_glyph\":{\"id\":\"529fb5c4-96b6-482c-8621-f00bdfe9c270\",\"type\":\"Line\"},\"selection_glyph\":null},\"id\":\"893dc4a4-a0a3-41cf-bd9c-166a63a00881\",\"type\":\"GlyphRenderer\"},{\"attributes\":{\"callback\":null,\"column_names\":[\"x\",\"y\"],\"data\":{\"x\":[\"Ciudades\",\"1991\",\"2001\",\"2010\",\"2017\",\"2019\",\"2029\",\"2039\"],\"y\":[\"Paso de Indios\",\"864\",\"1087\",\"1264\",\"1422\",\"1470\",\"1739\",\"2057\"]}},\"id\":\"7a532ca7-3b53-43d6-8e3c-ba52de1a32b2\",\"type\":\"ColumnDataSource\"},{\"attributes\":{\"data_source\":{\"id\":\"265c1471-2533-407d-8141-0954b89ce309\",\"type\":\"ColumnDataSource\"},\"glyph\":{\"id\":\"e7c485cc-cc59-4b26-93f4-57dcc3bb5fc4\",\"type\":\"Line\"},\"hover_glyph\":null,\"nonselection_glyph\":{\"id\":\"aa15e2fb-1a76-4924-8a2d-ed6c37f4298c\",\"type\":\"Line\"},\"selection_glyph\":null},\"id\":\"70e50407-ffed-4466-8c04-fa24471db073\",\"type\":\"GlyphRenderer\"},{\"attributes\":{\"callback\":null,\"column_names\":[\"y\",\"x\"],\"data\":{\"x\":[\"Ciudades\",\"1991\",\"2001\",\"2010\",\"2017\",\"2019\",\"2029\",\"2039\"],\"y\":[\"Ciudades\",\"1991\",\"2001\",\"2010\",\"2017\",\"2019\",\"2029\",\"2039\"]}},\"id\":\"254b6c96-d113-418c-8ef7-d857a35420ab\",\"type\":\"ColumnDataSource\"},{\"attributes\":{\"data_source\":{\"id\":\"fff0ab6a-8580-4457-8055-c7cf92a71479\",\"type\":\"ColumnDataSource\"},\"glyph\":{\"id\":\"01142730-24c2-4805-8181-9c61749a1a9e\",\"type\":\"Circle\"},\"hover_glyph\":null,\"nonselection_glyph\":{\"id\":\"87307c2f-9a94-4a14-b36a-f7c1ee05ad87\",\"type\":\"Circle\"},\"selection_glyph\":null},\"id\":\"402e8f14-9f2b-4915-92da-cf2539da8641\",\"type\":\"GlyphRenderer\"},{\"attributes\":{\"fill_alpha\":{\"value\":0.1},\"fill_color\":{\"value\":\"#1f77b4\"},\"line_alpha\":{\"value\":0.1},\"line_color\":{\"value\":\"#1f77b4\"},\"x\":{\"field\":\"x\"},\"y\":{\"field\":\"y\"}},\"id\":\"987b1a2b-3a7a-4dc1-b35c-594ce35077a4\",\"type\":\"Circle\"},{\"attributes\":{\"callback\":null,\"column_names\":[\"x\",\"y\"],\"data\":{\"x\":[\"Ciudades\",\"1991\",\"2001\",\"2010\",\"2017\",\"2019\",\"2029\",\"2039\"],\"y\":[\"Sarmiento\",\"7209\",\"8292\",\"11124\",\"13975\",\"14917\",\"20666\",\"28631\"]}},\"id\":\"8f1a634e-0f30-43cb-90c9-e574a1b983dd\",\"type\":\"ColumnDataSource\"},{\"attributes\":{\"line_alpha\":{\"value\":0.1},\"line_color\":{\"value\":\"#1f77b4\"},\"line_width\":{\"value\":2},\"x\":{\"field\":\"x\"},\"y\":{\"field\":\"y\"}},\"id\":\"fe433960-4a15-4690-b0c0-6f52c4de9b91\",\"type\":\"Line\"},{\"attributes\":{\"use_scientific\":false},\"id\":\"8d50d057-9502-45ab-895a-39a2786eab81\",\"type\":\"BasicTickFormatter\"},{\"attributes\":{\"data_source\":{\"id\":\"4409d56b-f1a6-42b2-91e8-5d4d7534802c\",\"type\":\"ColumnDataSource\"},\"glyph\":{\"id\":\"edf951d9-f0d3-4c52-9f3a-864e6d6544b6\",\"type\":\"Circle\"},\"hover_glyph\":null,\"nonselection_glyph\":{\"id\":\"72105d1c-afa0-4fba-94dc-6531eed84226\",\"type\":\"Circle\"},\"selection_glyph\":null},\"id\":\"7400feb9-e6bf-4109-acaa-a8873b36a6c6\",\"type\":\"GlyphRenderer\"},{\"attributes\":{\"line_color\":{\"value\":\"orange\"},\"line_width\":{\"value\":2},\"x\":{\"field\":\"x\"},\"y\":{\"field\":\"y\"}},\"id\":\"2db5f783-b460-416f-93a0-8b40b87c3f48\",\"type\":\"Line\"},{\"attributes\":{\"data_source\":{\"id\":\"6aeba8d8-3b79-47d9-a53b-8da12e68be9f\",\"type\":\"ColumnDataSource\"},\"glyph\":{\"id\":\"048e47f1-28c3-461a-9aa9-5a2f68ee18d1\",\"type\":\"Circle\"},\"hover_glyph\":null,\"nonselection_glyph\":{\"id\":\"4f1d9cdf-e1e0-440b-91a5-83dfd69b22fb\",\"type\":\"Circle\"},\"selection_glyph\":null},\"id\":\"dc12710a-5772-45ab-a1f1-516821fe5a51\",\"type\":\"GlyphRenderer\"},{\"attributes\":{\"callback\":null,\"column_names\":[\"y\",\"x\"],\"data\":{\"x\":[\"Ciudades\",\"1991\",\"2001\",\"2010\",\"2017\",\"2019\",\"2029\",\"2039\"],\"y\":[\"Gobernador Costa\",\"1913\",\"2185\",\"2374\",\"2532\",\"2579\",\"2827\",\"3100\"]}},\"id\":\"ab42e8a0-ac2d-4334-8f64-f402a9882b3e\",\"type\":\"ColumnDataSource\"},{\"attributes\":{\"fill_color\":{\"value\":\"red\"},\"line_color\":{\"value\":\"red\"},\"x\":{\"field\":\"x\"},\"y\":{\"field\":\"y\"}},\"id\":\"1db6615c-3421-42ad-87ce-24ed25ffcebd\",\"type\":\"Circle\"},{\"attributes\":{\"plot\":{\"id\":\"1aa24e8c-8018-4553-93bb-49a3dfb9e4a6\",\"subtype\":\"Figure\",\"type\":\"Plot\"},\"ticker\":{\"id\":\"ff57a3e0-be4c-46ae-954c-740104a09708\",\"type\":\"BasicTicker\"}},\"id\":\"894206ad-e5bc-4808-8b93-3d677b93a5f8\",\"type\":\"Grid\"},{\"attributes\":{\"callback\":null},\"id\":\"9d3cee4d-4b42-482b-8ab6-94982e2f9aac\",\"type\":\"DataRange1d\"},{\"attributes\":{\"callback\":null,\"column_names\":[\"x\",\"y\"],\"data\":{\"x\":[\"Ciudades\",\"1991\",\"2001\",\"2010\",\"2017\",\"2019\",\"2029\",\"2039\"],\"y\":[\"Trelew\",\"79340\",\"89547\",\"99430\",\"107841\",\"110372\",\"123947\",\"139192\"]}},\"id\":\"157557ae-5800-47c8-a42d-3f5311a548a1\",\"type\":\"ColumnDataSource\"},{\"attributes\":{\"callback\":null,\"column_names\":[\"x\",\"y\"],\"data\":{\"x\":[\"Ciudades\",\"1991\",\"2001\",\"2010\",\"2017\",\"2019\",\"2029\",\"2039\"],\"y\":[\"Dolavon\",\"2613\",\"2929\",\"3307\",\"3635\",\"3734\",\"4274\",\"4892\"]}},\"id\":\"98104a04-1c76-4743-849b-92f88ecc314b\",\"type\":\"ColumnDataSource\"},{\"attributes\":{\"plot\":{\"id\":\"1aa24e8c-8018-4553-93bb-49a3dfb9e4a6\",\"subtype\":\"Figure\",\"type\":\"Plot\"}},\"id\":\"fba0b38e-5f65-4635-ae9c-db5955b46ece\",\"type\":\"ResetTool\"},{\"attributes\":{\"fill_alpha\":{\"value\":0.1},\"fill_color\":{\"value\":\"#1f77b4\"},\"line_alpha\":{\"value\":0.1},\"line_color\":{\"value\":\"#1f77b4\"},\"x\":{\"field\":\"x\"},\"y\":{\"field\":\"y\"}},\"id\":\"72105d1c-afa0-4fba-94dc-6531eed84226\",\"type\":\"Circle\"},{\"attributes\":{\"below\":[{\"id\":\"ca03f2b8-b8bc-4b6e-8e07-fb878a455b4c\",\"type\":\"LinearAxis\"}],\"left\":[{\"id\":\"9e7f2ed3-1a9d-43e7-aca5-0bb386781b43\",\"type\":\"LinearAxis\"}],\"plot_width\":900,\"renderers\":[{\"id\":\"ca03f2b8-b8bc-4b6e-8e07-fb878a455b4c\",\"type\":\"LinearAxis\"},{\"id\":\"894206ad-e5bc-4808-8b93-3d677b93a5f8\",\"type\":\"Grid\"},{\"id\":\"9e7f2ed3-1a9d-43e7-aca5-0bb386781b43\",\"type\":\"LinearAxis\"},{\"id\":\"b6776447-3bee-467f-8969-183be5fca32a\",\"type\":\"Grid\"},{\"id\":\"9caad977-f748-4afd-813f-6ed62b62a2bb\",\"type\":\"BoxAnnotation\"},{\"id\":\"c6bf9d4e-fcd9-469d-9149-378e7edc18d8\",\"type\":\"Legend\"},{\"id\":\"1843c16f-8292-4be4-9717-3a97969d9d87\",\"type\":\"GlyphRenderer\"},{\"id\":\"ee32e1fa-c930-4a63-8f77-821d4e4bf719\",\"type\":\"GlyphRenderer\"},{\"id\":\"fb663cf5-b55e-4286-b2b9-b52a22ea96a9\",\"type\":\"GlyphRenderer\"},{\"id\":\"b189262c-22c5-40c0-88ea-9aa48d8ee179\",\"type\":\"GlyphRenderer\"},{\"id\":\"f6e99831-f811-4d06-93c6-b4b58525b946\",\"type\":\"GlyphRenderer\"},{\"id\":\"8665cdb2-88c9-44ea-b3a4-5d6d89f91843\",\"type\":\"GlyphRenderer\"},{\"id\":\"dc12710a-5772-45ab-a1f1-516821fe5a51\",\"type\":\"GlyphRenderer\"},{\"id\":\"4657a43c-fe46-492e-9863-e17ca9c25cfb\",\"type\":\"GlyphRenderer\"},{\"id\":\"402e8f14-9f2b-4915-92da-cf2539da8641\",\"type\":\"GlyphRenderer\"},{\"id\":\"2e98f223-bfcc-4b35-94f1-5b3b3fbae9f0\",\"type\":\"GlyphRenderer\"},{\"id\":\"7400feb9-e6bf-4109-acaa-a8873b36a6c6\",\"type\":\"GlyphRenderer\"},{\"id\":\"415054c4-9c7f-46f8-84de-2f3f3cf12c49\",\"type\":\"GlyphRenderer\"},{\"id\":\"74516629-feee-4d41-8b0b-34b71b349ae5\",\"type\":\"GlyphRenderer\"},{\"id\":\"e4855406-23ec-43eb-8180-d8aa089be245\",\"type\":\"GlyphRenderer\"},{\"id\":\"ac15e41f-a06b-4115-b564-e3d452c1c2e5\",\"type\":\"GlyphRenderer\"},{\"id\":\"5f886bd9-193f-46cb-9c3a-f15bffa19248\",\"type\":\"GlyphRenderer\"},{\"id\":\"3a5bd439-13af-446e-af7a-6b5ad9f41a8e\",\"type\":\"GlyphRenderer\"},{\"id\":\"db4ade4b-5b5e-4115-9ea7-7d5ba90a3777\",\"type\":\"GlyphRenderer\"},{\"id\":\"7d757cfc-cb97-4e30-97ec-190a4bb1af65\",\"type\":\"GlyphRenderer\"},{\"id\":\"70e50407-ffed-4466-8c04-fa24471db073\",\"type\":\"GlyphRenderer\"},{\"id\":\"cc89b56f-8d63-4964-8c1f-902f043807c9\",\"type\":\"GlyphRenderer\"},{\"id\":\"893dc4a4-a0a3-41cf-bd9c-166a63a00881\",\"type\":\"GlyphRenderer\"},{\"id\":\"08682479-6adf-419e-9ffc-3f7462de076f\",\"type\":\"GlyphRenderer\"},{\"id\":\"47e9fc49-9ac0-4ebc-8cc7-867337a9b918\",\"type\":\"GlyphRenderer\"},{\"id\":\"db234a39-74a3-4461-aad0-123df00b46bf\",\"type\":\"GlyphRenderer\"},{\"id\":\"5f9c8ace-a010-4ce3-8847-f6dbf42f98f3\",\"type\":\"GlyphRenderer\"}],\"title\":{\"id\":\"e6d8222c-4519-4e57-94f1-7a327912ebb6\",\"type\":\"Title\"},\"tool_events\":{\"id\":\"67438c7d-e980-4e46-98c7-5ec1aa14c356\",\"type\":\"ToolEvents\"},\"toolbar\":{\"id\":\"6408f69c-02ff-46b2-94c2-542b5507f303\",\"type\":\"Toolbar\"},\"x_range\":{\"id\":\"5423e7a5-41a9-4a3b-abca-22c1d807d9d8\",\"type\":\"DataRange1d\"},\"y_range\":{\"id\":\"9d3cee4d-4b42-482b-8ab6-94982e2f9aac\",\"type\":\"DataRange1d\"}},\"id\":\"1aa24e8c-8018-4553-93bb-49a3dfb9e4a6\",\"subtype\":\"Figure\",\"type\":\"Plot\"},{\"attributes\":{\"fill_color\":{\"value\":\"pink\"},\"line_color\":{\"value\":\"pink\"},\"x\":{\"field\":\"x\"},\"y\":{\"field\":\"y\"}},\"id\":\"edf951d9-f0d3-4c52-9f3a-864e6d6544b6\",\"type\":\"Circle\"},{\"attributes\":{\"callback\":null,\"column_names\":[\"y\",\"x\"],\"data\":{\"x\":[\"Ciudades\",\"1991\",\"2001\",\"2010\",\"2017\",\"2019\",\"2029\",\"2039\"],\"y\":[\"Camarones\",\"868\",\"1079\",\"1296\",\"1495\",\"1557\",\"1910\",\"2342\"]}},\"id\":\"1ef78557-370b-4b57-9d5d-48d12bfb7a92\",\"type\":\"ColumnDataSource\"},{\"attributes\":{\"callback\":null,\"column_names\":[\"y\",\"x\"],\"data\":{\"x\":[\"Ciudades\",\"1991\",\"2001\",\"2010\",\"2017\",\"2019\",\"2029\",\"2039\"],\"y\":[\"Dolavon\",\"2613\",\"2929\",\"3307\",\"3635\",\"3734\",\"4274\",\"4892\"]}},\"id\":\"7a497924-2ef6-4211-a683-57a08f684c54\",\"type\":\"ColumnDataSource\"},{\"attributes\":{\"callback\":null,\"column_names\":[\"y\",\"x\"],\"data\":{\"x\":[\"Ciudades\",\"1991\",\"2001\",\"2010\",\"2017\",\"2019\",\"2029\",\"2039\"],\"y\":[\"Cholila\",\"1527\",\"1981\",\"2228\",\"2442\",\"2507\",\"2858\",\"3258\"]}},\"id\":\"1c2bf2d0-353f-4d60-a363-fea3ab67de5d\",\"type\":\"ColumnDataSource\"},{\"attributes\":{\"fill_alpha\":{\"value\":0.1},\"fill_color\":{\"value\":\"#1f77b4\"},\"line_alpha\":{\"value\":0.1},\"line_color\":{\"value\":\"#1f77b4\"},\"x\":{\"field\":\"x\"},\"y\":{\"field\":\"y\"}},\"id\":\"234a7c95-c88a-4026-8812-9bb3fc5dffb7\",\"type\":\"Circle\"},{\"attributes\":{\"callback\":null,\"column_names\":[\"x\",\"y\"],\"data\":{\"x\":[\"Ciudades\",\"1991\",\"2001\",\"2010\",\"2017\",\"2019\",\"2029\",\"2039\"],\"y\":[\"Camarones\",\"868\",\"1079\",\"1296\",\"1495\",\"1557\",\"1910\",\"2342\"]}},\"id\":\"18c82a19-7c5a-4311-a641-85e1fa551f9b\",\"type\":\"ColumnDataSource\"},{\"attributes\":{\"callback\":null,\"column_names\":[\"y\",\"x\"],\"data\":{\"x\":[\"Ciudades\",\"1991\",\"2001\",\"2010\",\"2017\",\"2019\",\"2029\",\"2039\"],\"y\":[\"Gaiman\",\"4642\",\"5753\",\"6627\",\"7397\",\"7633\",\"8930\",\"10448\"]}},\"id\":\"8c479013-b401-41c3-af0d-017eb94f2500\",\"type\":\"ColumnDataSource\"},{\"attributes\":{\"overlay\":{\"id\":\"9caad977-f748-4afd-813f-6ed62b62a2bb\",\"type\":\"BoxAnnotation\"},\"plot\":{\"id\":\"1aa24e8c-8018-4553-93bb-49a3dfb9e4a6\",\"subtype\":\"Figure\",\"type\":\"Plot\"}},\"id\":\"d09af095-c7f0-4028-8cfa-9478d20c9538\",\"type\":\"BoxZoomTool\"},{\"attributes\":{\"data_source\":{\"id\":\"ab42e8a0-ac2d-4334-8f64-f402a9882b3e\",\"type\":\"ColumnDataSource\"},\"glyph\":{\"id\":\"e3298a11-4d2f-49c7-b94e-9b17007ddf63\",\"type\":\"Circle\"},\"hover_glyph\":null,\"nonselection_glyph\":{\"id\":\"987b1a2b-3a7a-4dc1-b35c-594ce35077a4\",\"type\":\"Circle\"},\"selection_glyph\":null},\"id\":\"7d757cfc-cb97-4e30-97ec-190a4bb1af65\",\"type\":\"GlyphRenderer\"},{\"attributes\":{\"plot\":{\"id\":\"1aa24e8c-8018-4553-93bb-49a3dfb9e4a6\",\"subtype\":\"Figure\",\"type\":\"Plot\"}},\"id\":\"ed531c48-930a-4206-93d4-e634c12319de\",\"type\":\"PanTool\"},{\"attributes\":{\"line_color\":{\"value\":\"cyan\"},\"line_width\":{\"value\":2},\"x\":{\"field\":\"x\"},\"y\":{\"field\":\"y\"}},\"id\":\"bd9a61d1-a92b-4549-9f3c-242b187a1054\",\"type\":\"Line\"},{\"attributes\":{\"line_color\":{\"value\":\"blue\"},\"line_width\":{\"value\":2},\"x\":{\"field\":\"x\"},\"y\":{\"field\":\"y\"}},\"id\":\"2986199b-e044-4407-864c-e8df3a369df7\",\"type\":\"Line\"},{\"attributes\":{\"axis_label\":\"Poblaci\\u00f3n\",\"formatter\":{\"id\":\"8d50d057-9502-45ab-895a-39a2786eab81\",\"type\":\"BasicTickFormatter\"},\"plot\":{\"id\":\"1aa24e8c-8018-4553-93bb-49a3dfb9e4a6\",\"subtype\":\"Figure\",\"type\":\"Plot\"},\"ticker\":{\"id\":\"21a507a5-a891-4b40-9043-8d1f9e4021fe\",\"type\":\"BasicTicker\"}},\"id\":\"9e7f2ed3-1a9d-43e7-aca5-0bb386781b43\",\"type\":\"LinearAxis\"},{\"attributes\":{\"plot\":{\"id\":\"1aa24e8c-8018-4553-93bb-49a3dfb9e4a6\",\"subtype\":\"Figure\",\"type\":\"Plot\"}},\"id\":\"c2d9e845-64a9-4203-b94a-be32a3e9c1d2\",\"type\":\"WheelZoomTool\"},{\"attributes\":{\"line_alpha\":{\"value\":0.1},\"line_color\":{\"value\":\"#1f77b4\"},\"line_width\":{\"value\":2},\"x\":{\"field\":\"x\"},\"y\":{\"field\":\"y\"}},\"id\":\"0f16c2be-5e23-4eaf-a695-e19a29fb8ed9\",\"type\":\"Line\"},{\"attributes\":{\"fill_alpha\":{\"value\":0.1},\"fill_color\":{\"value\":\"#1f77b4\"},\"line_alpha\":{\"value\":0.1},\"line_color\":{\"value\":\"#1f77b4\"},\"x\":{\"field\":\"x\"},\"y\":{\"field\":\"y\"}},\"id\":\"87307c2f-9a94-4a14-b36a-f7c1ee05ad87\",\"type\":\"Circle\"},{\"attributes\":{\"fill_color\":{\"value\":\"olive\"},\"line_color\":{\"value\":\"olive\"},\"x\":{\"field\":\"x\"},\"y\":{\"field\":\"y\"}},\"id\":\"291db983-7a32-4013-9786-85b7826252fd\",\"type\":\"Circle\"},{\"attributes\":{\"line_color\":{\"value\":\"olive\"},\"line_width\":{\"value\":2},\"x\":{\"field\":\"x\"},\"y\":{\"field\":\"y\"}},\"id\":\"9bef10a4-96a8-47d9-a603-0ddf0c121046\",\"type\":\"Line\"},{\"attributes\":{\"data_source\":{\"id\":\"7a532ca7-3b53-43d6-8e3c-ba52de1a32b2\",\"type\":\"ColumnDataSource\"},\"glyph\":{\"id\":\"ee9a7cba-aaa3-4851-9453-0f85d5e34cb6\",\"type\":\"Line\"},\"hover_glyph\":null,\"nonselection_glyph\":{\"id\":\"fee23142-8c32-405a-9421-12c5f7e3557b\",\"type\":\"Line\"},\"selection_glyph\":null},\"id\":\"5f9c8ace-a010-4ce3-8847-f6dbf42f98f3\",\"type\":\"GlyphRenderer\"},{\"attributes\":{\"callback\":null,\"column_names\":[\"x\",\"y\"],\"data\":{\"x\":[\"Ciudades\",\"1991\",\"2001\",\"2010\",\"2017\",\"2019\",\"2029\",\"2039\"],\"y\":[\"Gobernador Costa\",\"1913\",\"2185\",\"2374\",\"2532\",\"2579\",\"2827\",\"3100\"]}},\"id\":\"265c1471-2533-407d-8141-0954b89ce309\",\"type\":\"ColumnDataSource\"},{\"attributes\":{\"fill_alpha\":{\"value\":0.1},\"fill_color\":{\"value\":\"#1f77b4\"},\"line_alpha\":{\"value\":0.1},\"line_color\":{\"value\":\"#1f77b4\"},\"x\":{\"field\":\"x\"},\"y\":{\"field\":\"y\"}},\"id\":\"9a28a6c5-beea-44b9-a55d-8853d848369b\",\"type\":\"Circle\"},{\"attributes\":{\"fill_alpha\":{\"value\":0.1},\"fill_color\":{\"value\":\"#1f77b4\"},\"line_alpha\":{\"value\":0.1},\"line_color\":{\"value\":\"#1f77b4\"},\"x\":{\"field\":\"x\"},\"y\":{\"field\":\"y\"}},\"id\":\"d760d710-f55c-4978-87f1-6f6b6aa3afcf\",\"type\":\"Circle\"},{\"attributes\":{\"fill_color\":{\"value\":\"#164c71\"},\"line_color\":{\"value\":\"#164c71\"},\"x\":{\"field\":\"x\"},\"y\":{\"field\":\"y\"}},\"id\":\"f0e0ca26-0108-4ec8-b53e-0c7e2427874e\",\"type\":\"Circle\"},{\"attributes\":{\"callback\":null,\"column_names\":[\"x\",\"y\"],\"data\":{\"x\":[\"Ciudades\",\"1991\",\"2001\",\"2010\",\"2017\",\"2019\",\"2029\",\"2039\"],\"y\":[\"Gaiman\",\"4642\",\"5753\",\"6627\",\"7397\",\"7633\",\"8930\",\"10448\"]}},\"id\":\"f2338221-c921-43ea-8a8c-9322f0e3643a\",\"type\":\"ColumnDataSource\"},{\"attributes\":{},\"id\":\"67438c7d-e980-4e46-98c7-5ec1aa14c356\",\"type\":\"ToolEvents\"},{\"attributes\":{\"data_source\":{\"id\":\"18c82a19-7c5a-4311-a641-85e1fa551f9b\",\"type\":\"ColumnDataSource\"},\"glyph\":{\"id\":\"bfab91d2-06f4-4542-8335-26211cd45e74\",\"type\":\"Line\"},\"hover_glyph\":null,\"nonselection_glyph\":{\"id\":\"82654eab-5e30-4ca4-8822-bcf9441e3f1b\",\"type\":\"Line\"},\"selection_glyph\":null},\"id\":\"47e9fc49-9ac0-4ebc-8cc7-867337a9b918\",\"type\":\"GlyphRenderer\"},{\"attributes\":{\"line_alpha\":{\"value\":0.1},\"line_color\":{\"value\":\"#1f77b4\"},\"line_width\":{\"value\":2},\"x\":{\"field\":\"x\"},\"y\":{\"field\":\"y\"}},\"id\":\"529fb5c4-96b6-482c-8621-f00bdfe9c270\",\"type\":\"Line\"},{\"attributes\":{\"fill_color\":{\"value\":\"magenta\"},\"line_color\":{\"value\":\"magenta\"},\"x\":{\"field\":\"x\"},\"y\":{\"field\":\"y\"}},\"id\":\"e3298a11-4d2f-49c7-b94e-9b17007ddf63\",\"type\":\"Circle\"},{\"attributes\":{\"callback\":null,\"column_names\":[\"y\",\"x\"],\"data\":{\"x\":[\"Ciudades\",\"1991\",\"2001\",\"2010\",\"2017\",\"2019\",\"2029\",\"2039\"],\"y\":[\"Rawson\",\"20674\",\"26183\",\"31787\",\"36950\",\"38573\",\"47825\",\"59297\"]}},\"id\":\"eb238cb0-5f00-4b4b-b976-45df65e9a01c\",\"type\":\"ColumnDataSource\"},{\"attributes\":{\"callback\":null,\"column_names\":[\"x\",\"y\"],\"data\":{\"x\":[\"Ciudades\",\"1991\",\"2001\",\"2010\",\"2017\",\"2019\",\"2029\",\"2039\"],\"y\":[\"Puerto Madryn\",\"45047\",\"57791\",\"81995\",\"107658\",\"116368\",\"171702\",\"253347\"]}},\"id\":\"52dc2517-b244-427a-ab36-92d466e1cdf4\",\"type\":\"ColumnDataSource\"}],\"root_ids\":[\"1aa24e8c-8018-4553-93bb-49a3dfb9e4a6\"]},\"title\":\"Bokeh Application\",\"version\":\"0.12.0\"}};\n",
       "            var render_items = [{\"docid\":\"d31b32cd-59c1-43af-b2ac-d75a4dfa29d8\",\"elementid\":\"21338e81-370e-41d2-8fb2-31724edd8e9f\",\"modelid\":\"1aa24e8c-8018-4553-93bb-49a3dfb9e4a6\",\"notebook_comms_target\":\"32ec87a1-5782-4f3f-ad6d-d0761b972de8\"}];\n",
       "            \n",
       "            Bokeh.embed.embed_items(docs_json, render_items);\n",
       "        });\n",
       "      },\n",
       "      function(Bokeh) {\n",
       "      }\n",
       "    ];\n",
       "  \n",
       "    function run_inline_js() {\n",
       "      for (var i = 0; i < inline_js.length; i++) {\n",
       "        inline_js[i](window.Bokeh);\n",
       "      }\n",
       "    }\n",
       "  \n",
       "    if (window._bokeh_is_loading === 0) {\n",
       "      console.log(\"Bokeh: BokehJS loaded, going straight to plotting\");\n",
       "      run_inline_js();\n",
       "    } else {\n",
       "      load_libs(js_urls, function() {\n",
       "        console.log(\"Bokeh: BokehJS plotting callback run at\", now());\n",
       "        run_inline_js();\n",
       "      });\n",
       "    }\n",
       "  }(this));\n",
       "</script>"
      ]
     },
     "metadata": {},
     "output_type": "display_data"
    },
    {
     "data": {
      "text/html": [
       "<p><code>&lt;Bokeh Notebook handle for <strong>In[13]</strong>&gt;</code></p>"
      ],
      "text/plain": [
       "<bokeh.io._CommsHandle at 0xaf3db24c>"
      ]
     },
     "execution_count": 13,
     "metadata": {},
     "output_type": "execute_result"
    }
   ],
   "source": [
    "x = tiempo\n",
    "ciudades=[\"Comodoro Rivadavia\",\"Trelew\",\"Puerto Madryn\",\"Esquel\",\"Sarmiento\",\"Rawson\",\"Dolavon\",\"Gaiman\",\"Gobernador Costa\",\"Cholila\",\"Camarones\",\"Paso de Indios\",\"Paso del Sapo\"]\n",
    "colores=[\"red\",\"orange\",\"blue\",\"green\",\"yellow\",\"pink\",\"navy\",\"firebrick\",\"cyan\",\"magenta\",\"olive\",\"#164c71\",\"#7c1b65\"]\n",
    "\n",
    "p = figure(title=\"Población - Proyección Geométrica\",plot_width=900)\n",
    "p.title.align = \"center\"\n",
    "p.title.text_color = \"blue\"\n",
    "p.title.text_font = \"times\"\n",
    "p.title.text_font_style = \"italic\"\n",
    "p.title.text_font_size = \"20px\"\n",
    "\n",
    "p.left[0].formatter.use_scientific = False\n",
    "\n",
    "for i in range(len(ciudades)):\n",
    "    p.circle(x, proyecciones[i], legend=ciudades[i],fill_color=colores[i],line_color=colores[i])\n",
    "    p.line(x, proyecciones[i], legend=ciudades[i],line_color=colores[i], line_width=2)\n",
    "\n",
    "p.xaxis.axis_label = 'Tiempo'\n",
    "p.yaxis.axis_label = 'Población'\n",
    "\n",
    "show(p)"
   ]
  }
 ],
 "metadata": {
  "anaconda-cloud": {},
  "kernelspec": {
   "display_name": "Python [Root]",
   "language": "python",
   "name": "Python [Root]"
  },
  "language_info": {
   "codemirror_mode": {
    "name": "ipython",
    "version": 3
   },
   "file_extension": ".py",
   "mimetype": "text/x-python",
   "name": "python",
   "nbconvert_exporter": "python",
   "pygments_lexer": "ipython3",
   "version": "3.5.2"
  }
 },
 "nbformat": 4,
 "nbformat_minor": 2
}
