{
 "cells": [
  {
   "cell_type": "markdown",
   "metadata": {},
   "source": [
    "# # Entrada de valores de los tres últimos censos"
   ]
  },
  {
   "cell_type": "code",
   "execution_count": 1,
   "metadata": {
    "collapsed": true
   },
   "outputs": [],
   "source": [
    "censos = [1991,2001,2010]\n",
    "\n",
    "poblacion0 = [125725,137061,177083] # Comodoro Rivadavia\n",
    "poblacion1 = [79340,89547,99430] # Trelew\n",
    "poblacion2 = [45047,57791,81995] # Puerto Madryn\n",
    "poblacion3 = [23411,28486,32758] # Esquel\n",
    "poblacion4 = [7209,8292,11124] # Sarmiento\n",
    "poblacion5 = [20674,26183,31787] # Rawson\n",
    "poblacion6 = [2613,2929,3307] # Dolavon\n",
    "poblacion7 = [4642,5753,6627] # Gaiman\n",
    "poblacion8 = [1913,2185,2374] # Gobernador Costa\n",
    "poblacion9 = [1527,1981,2228] # Cholila\n",
    "poblacion10 = [868,1079,1296] # Camarones\n",
    "poblacion11 = [864,1087,1264] # Paso de Indios\n",
    "poblacion12 = [322,384,396] # Paso del sapo\n",
    "poblaciones = [poblacion0, poblacion1, poblacion2, poblacion3, poblacion4, poblacion5, poblacion6, poblacion7, poblacion8, poblacion9, poblacion10, poblacion11, poblacion12]\n",
    "\n",
    "año_actual= 2017"
   ]
  },
  {
   "cell_type": "markdown",
   "metadata": {},
   "source": [
    "# # Armamos una lista de \"tiempos\""
   ]
  },
  {
   "cell_type": "code",
   "execution_count": 2,
   "metadata": {
    "collapsed": true
   },
   "outputs": [],
   "source": [
    "tiempo = [0] * 7\n",
    "for i in range(len(censos)):\n",
    "    tiempo[i] = censos[i]\n",
    "\n",
    "tiempo[3]=año_actual\n",
    "tiempo[4]=tiempo[3]+2\n",
    "tiempo[5]=tiempo[4]+10\n",
    "tiempo[6]=tiempo[5]+10"
   ]
  },
  {
   "cell_type": "markdown",
   "metadata": {},
   "source": [
    "# # Resolvemos el método devolviendo una lista de \"datos\""
   ]
  },
  {
   "cell_type": "code",
   "execution_count": 3,
   "metadata": {
    "collapsed": true
   },
   "outputs": [],
   "source": [
    "from math import e, log, exp     #log es el logaritmo en base e y log10 es en base 10"
   ]
  },
  {
   "cell_type": "code",
   "execution_count": 4,
   "metadata": {
    "collapsed": false
   },
   "outputs": [],
   "source": [
    "def metodo_proyeccion_geometrica(poblacion, tiempo):\n",
    "\n",
    "    datos = [0] * 7\n",
    "    for i in range(len(poblacion)):\n",
    "        datos[i] = poblacion[i]\n",
    "\n",
    "\n",
    "    kg=(log(datos[2])-log(datos[1]))/(tiempo[2]-tiempo[1])\n",
    "    kg=round(kg,4)\n",
    "\n",
    "    Pa=exp(log(datos[2])+kg*(tiempo[3]-tiempo[2]))\n",
    "    Pa=round(Pa,0)\n",
    "    Pa=int(Pa)\n",
    "\n",
    "\n",
    "    P0=exp(log(datos[2])+kg*(tiempo[4]-tiempo[2]))\n",
    "    P0=round(P0,0)\n",
    "    P0=int(P0)\n",
    "\n",
    "\n",
    "    P10=exp(log(datos[2])+kg*(tiempo[5]-tiempo[2]))\n",
    "    P10=round(P10,0)\n",
    "    P10=int(P10)\n",
    "\n",
    "\n",
    "    P20=exp(log(datos[2])+kg*(tiempo[6]-tiempo[2]))\n",
    "    P20=round(P20,0)\n",
    "    P20=int(P20)\n",
    "\n",
    "\n",
    "    datos[3]=Pa\n",
    "    datos[4]=P0\n",
    "    datos[5]=P10\n",
    "    datos[6]=P20\n",
    "\n",
    "    return datos"
   ]
  },
  {
   "cell_type": "markdown",
   "metadata": {},
   "source": [
    "# # Mostramos las listas de \"tiempo\" y \"proyecciones\" para cada \"poblacion\""
   ]
  },
  {
   "cell_type": "code",
   "execution_count": 5,
   "metadata": {
    "collapsed": false,
    "scrolled": true
   },
   "outputs": [
    {
     "name": "stdout",
     "output_type": "stream",
     "text": [
      "[1991, 2001, 2010, 2017, 2019, 2029, 2039]\n",
      "[125725, 137061, 177083, 216182, 228862, 304332, 404689]\n",
      "[79340, 89547, 99430, 107841, 110372, 123947, 139192]\n",
      "[45047, 57791, 81995, 107658, 116368, 171702, 253347]\n",
      "[23411, 28486, 32758, 36512, 37662, 43976, 51349]\n",
      "[7209, 8292, 11124, 13975, 14917, 20666, 28631]\n",
      "[20674, 26183, 31787, 36950, 38573, 47825, 59297]\n",
      "[2613, 2929, 3307, 3635, 3734, 4274, 4892]\n",
      "[4642, 5753, 6627, 7397, 7633, 8930, 10448]\n",
      "[1913, 2185, 2374, 2532, 2579, 2827, 3100]\n",
      "[1527, 1981, 2228, 2442, 2507, 2858, 3258]\n",
      "[868, 1079, 1296, 1495, 1557, 1910, 2342]\n",
      "[864, 1087, 1264, 1422, 1470, 1739, 2057]\n",
      "[322, 384, 396, 406, 408, 422, 437]\n"
     ]
    }
   ],
   "source": [
    "print (tiempo)\n",
    "proyecciones = [0] * len(poblaciones)\n",
    "\n",
    "for i in range(len(poblaciones)):\n",
    "    proyecciones[i] = metodo_proyeccion_geometrica(poblaciones[i], tiempo)\n",
    "    print (proyecciones[i])\n"
   ]
  },
  {
   "cell_type": "markdown",
   "metadata": {},
   "source": [
    "# # Importamos librerias para graficar"
   ]
  },
  {
   "cell_type": "code",
   "execution_count": 6,
   "metadata": {
    "collapsed": false
   },
   "outputs": [
    {
     "data": {
      "text/html": [
       "\n",
       "    <div class=\"bk-root\">\n",
       "        <a href=\"http://bokeh.pydata.org\" target=\"_blank\" class=\"bk-logo bk-logo-small bk-logo-notebook\"></a>\n",
       "        <span id=\"d3df9f0a-0571-4d23-bb57-53cc6bb2c99d\">Loading BokehJS ...</span>\n",
       "    </div>"
      ]
     },
     "metadata": {},
     "output_type": "display_data"
    },
    {
     "data": {
      "application/javascript": [
       "\n",
       "(function(global) {\n",
       "  function now() {\n",
       "    return new Date();\n",
       "  }\n",
       "\n",
       "  if (typeof (window._bokeh_onload_callbacks) === \"undefined\") {\n",
       "    window._bokeh_onload_callbacks = [];\n",
       "  }\n",
       "\n",
       "  function run_callbacks() {\n",
       "    window._bokeh_onload_callbacks.forEach(function(callback) { callback() });\n",
       "    delete window._bokeh_onload_callbacks\n",
       "    console.info(\"Bokeh: all callbacks have finished\");\n",
       "  }\n",
       "\n",
       "  function load_libs(js_urls, callback) {\n",
       "    window._bokeh_onload_callbacks.push(callback);\n",
       "    if (window._bokeh_is_loading > 0) {\n",
       "      console.log(\"Bokeh: BokehJS is being loaded, scheduling callback at\", now());\n",
       "      return null;\n",
       "    }\n",
       "    if (js_urls == null || js_urls.length === 0) {\n",
       "      run_callbacks();\n",
       "      return null;\n",
       "    }\n",
       "    console.log(\"Bokeh: BokehJS not loaded, scheduling load and callback at\", now());\n",
       "    window._bokeh_is_loading = js_urls.length;\n",
       "    for (var i = 0; i < js_urls.length; i++) {\n",
       "      var url = js_urls[i];\n",
       "      var s = document.createElement('script');\n",
       "      s.src = url;\n",
       "      s.async = false;\n",
       "      s.onreadystatechange = s.onload = function() {\n",
       "        window._bokeh_is_loading--;\n",
       "        if (window._bokeh_is_loading === 0) {\n",
       "          console.log(\"Bokeh: all BokehJS libraries loaded\");\n",
       "          run_callbacks()\n",
       "        }\n",
       "      };\n",
       "      s.onerror = function() {\n",
       "        console.warn(\"failed to load library \" + url);\n",
       "      };\n",
       "      console.log(\"Bokeh: injecting script tag for BokehJS library: \", url);\n",
       "      document.getElementsByTagName(\"head\")[0].appendChild(s);\n",
       "    }\n",
       "  };\n",
       "\n",
       "  var js_urls = ['https://cdn.pydata.org/bokeh/release/bokeh-0.12.0.min.js', 'https://cdn.pydata.org/bokeh/release/bokeh-widgets-0.12.0.min.js', 'https://cdn.pydata.org/bokeh/release/bokeh-compiler-0.12.0.min.js'];\n",
       "\n",
       "  var inline_js = [\n",
       "    function(Bokeh) {\n",
       "      Bokeh.set_log_level(\"info\");\n",
       "    },\n",
       "    \n",
       "    function(Bokeh) {\n",
       "      Bokeh.$(\"#d3df9f0a-0571-4d23-bb57-53cc6bb2c99d\").text(\"BokehJS successfully loaded\");\n",
       "    },\n",
       "    function(Bokeh) {\n",
       "      console.log(\"Bokeh: injecting CSS: https://cdn.pydata.org/bokeh/release/bokeh-0.12.0.min.css\");\n",
       "      Bokeh.embed.inject_css(\"https://cdn.pydata.org/bokeh/release/bokeh-0.12.0.min.css\");\n",
       "      console.log(\"Bokeh: injecting CSS: https://cdn.pydata.org/bokeh/release/bokeh-widgets-0.12.0.min.css\");\n",
       "      Bokeh.embed.inject_css(\"https://cdn.pydata.org/bokeh/release/bokeh-widgets-0.12.0.min.css\");\n",
       "    }\n",
       "  ];\n",
       "\n",
       "  function run_inline_js() {\n",
       "    for (var i = 0; i < inline_js.length; i++) {\n",
       "      inline_js[i](window.Bokeh);\n",
       "    }\n",
       "  }\n",
       "\n",
       "  if (window._bokeh_is_loading === 0) {\n",
       "    console.log(\"Bokeh: BokehJS loaded, going straight to plotting\");\n",
       "    run_inline_js();\n",
       "  } else {\n",
       "    load_libs(js_urls, function() {\n",
       "      console.log(\"Bokeh: BokehJS plotting callback run at\", now());\n",
       "      run_inline_js();\n",
       "    });\n",
       "  }\n",
       "}(this));"
      ]
     },
     "metadata": {},
     "output_type": "display_data"
    }
   ],
   "source": [
    "from bokeh.io import push_notebook, show, output_notebook\n",
    "from bokeh.plotting import figure\n",
    "output_notebook()"
   ]
  },
  {
   "cell_type": "markdown",
   "metadata": {},
   "source": [
    "# # Definimos estilos para usar en los gráficos"
   ]
  },
  {
   "cell_type": "code",
   "execution_count": 7,
   "metadata": {
    "collapsed": false
   },
   "outputs": [
    {
     "data": {
      "text/html": [
       "\n",
       "\n",
       "    <div class=\"bk-root\">\n",
       "        <div class=\"plotdiv\" id=\"15cf4d9b-e224-48ed-b24f-529604a4d010\"></div>\n",
       "    </div>\n",
       "<script type=\"text/javascript\">\n",
       "  \n",
       "  (function(global) {\n",
       "    function now() {\n",
       "      return new Date();\n",
       "    }\n",
       "  \n",
       "    if (typeof (window._bokeh_onload_callbacks) === \"undefined\") {\n",
       "      window._bokeh_onload_callbacks = [];\n",
       "    }\n",
       "  \n",
       "    function run_callbacks() {\n",
       "      window._bokeh_onload_callbacks.forEach(function(callback) { callback() });\n",
       "      delete window._bokeh_onload_callbacks\n",
       "      console.info(\"Bokeh: all callbacks have finished\");\n",
       "    }\n",
       "  \n",
       "    function load_libs(js_urls, callback) {\n",
       "      window._bokeh_onload_callbacks.push(callback);\n",
       "      if (window._bokeh_is_loading > 0) {\n",
       "        console.log(\"Bokeh: BokehJS is being loaded, scheduling callback at\", now());\n",
       "        return null;\n",
       "      }\n",
       "      if (js_urls == null || js_urls.length === 0) {\n",
       "        run_callbacks();\n",
       "        return null;\n",
       "      }\n",
       "      console.log(\"Bokeh: BokehJS not loaded, scheduling load and callback at\", now());\n",
       "      window._bokeh_is_loading = js_urls.length;\n",
       "      for (var i = 0; i < js_urls.length; i++) {\n",
       "        var url = js_urls[i];\n",
       "        var s = document.createElement('script');\n",
       "        s.src = url;\n",
       "        s.async = false;\n",
       "        s.onreadystatechange = s.onload = function() {\n",
       "          window._bokeh_is_loading--;\n",
       "          if (window._bokeh_is_loading === 0) {\n",
       "            console.log(\"Bokeh: all BokehJS libraries loaded\");\n",
       "            run_callbacks()\n",
       "          }\n",
       "        };\n",
       "        s.onerror = function() {\n",
       "          console.warn(\"failed to load library \" + url);\n",
       "        };\n",
       "        console.log(\"Bokeh: injecting script tag for BokehJS library: \", url);\n",
       "        document.getElementsByTagName(\"head\")[0].appendChild(s);\n",
       "      }\n",
       "    };var element = document.getElementById(\"15cf4d9b-e224-48ed-b24f-529604a4d010\");\n",
       "    if (element == null) {\n",
       "      console.log(\"Bokeh: ERROR: autoload.js configured with elementid '15cf4d9b-e224-48ed-b24f-529604a4d010' but no matching script tag was found. \")\n",
       "      return false;\n",
       "    }\n",
       "  \n",
       "    var js_urls = [];\n",
       "  \n",
       "    var inline_js = [\n",
       "      function(Bokeh) {\n",
       "        Bokeh.$(function() {\n",
       "            var docs_json = {\"d6ba42f3-a196-431c-bc63-a9bb8394ef8c\":{\"roots\":{\"references\":[{\"attributes\":{\"data_source\":{\"id\":\"da80ea41-545c-4c91-af94-f55f3d87cf0f\",\"type\":\"ColumnDataSource\"},\"glyph\":{\"id\":\"d3525544-3447-4afc-bd00-e1c731ac89cd\",\"type\":\"Line\"},\"hover_glyph\":null,\"nonselection_glyph\":{\"id\":\"f508d4da-716a-4416-a198-af8dbded7eb2\",\"type\":\"Line\"},\"selection_glyph\":null},\"id\":\"f520d936-b1e4-4beb-81e9-da0c5293162f\",\"type\":\"GlyphRenderer\"},{\"attributes\":{\"line_color\":{\"value\":\"pink\"},\"line_width\":{\"value\":2},\"x\":{\"field\":\"x\"},\"y\":{\"field\":\"y\"}},\"id\":\"81b10760-7fa5-4375-8847-2c06c5f83609\",\"type\":\"Line\"},{\"attributes\":{\"data_source\":{\"id\":\"4e079844-5d28-4462-835b-8812a13ad637\",\"type\":\"ColumnDataSource\"},\"glyph\":{\"id\":\"f3d316e8-451f-40af-b3b0-c74535c3a3af\",\"type\":\"Circle\"},\"hover_glyph\":null,\"nonselection_glyph\":{\"id\":\"57ff92ca-d510-4c0a-8474-b98f0c220b7a\",\"type\":\"Circle\"},\"selection_glyph\":null},\"id\":\"1b3be39d-9cde-40da-9b99-c3be880dfbc7\",\"type\":\"GlyphRenderer\"},{\"attributes\":{\"below\":[{\"id\":\"056d2f8c-147a-44b9-9aa8-73720f5881d6\",\"type\":\"LinearAxis\"}],\"left\":[{\"id\":\"47be7c8b-eebe-446c-9cca-74b939917905\",\"type\":\"LinearAxis\"}],\"plot_width\":900,\"renderers\":[{\"id\":\"056d2f8c-147a-44b9-9aa8-73720f5881d6\",\"type\":\"LinearAxis\"},{\"id\":\"484033c8-2db7-48b7-8e11-a2f3ed2576bc\",\"type\":\"Grid\"},{\"id\":\"47be7c8b-eebe-446c-9cca-74b939917905\",\"type\":\"LinearAxis\"},{\"id\":\"7e241f97-6d04-48e5-85bb-340b6f60eab5\",\"type\":\"Grid\"},{\"id\":\"c70101fd-9f2d-4859-ae3d-34a547e11282\",\"type\":\"BoxAnnotation\"},{\"id\":\"d14f61cd-7b03-4633-8b04-c4673077445d\",\"type\":\"Legend\"},{\"id\":\"1b3be39d-9cde-40da-9b99-c3be880dfbc7\",\"type\":\"GlyphRenderer\"},{\"id\":\"7a5a1fc1-4105-4b65-b7e4-a0d65999570c\",\"type\":\"GlyphRenderer\"},{\"id\":\"1b03fc0c-363d-4f96-a5f4-6c6c2b8a8ef2\",\"type\":\"GlyphRenderer\"},{\"id\":\"5c116b6c-2f89-4d72-9c31-561d94777bf9\",\"type\":\"GlyphRenderer\"},{\"id\":\"4a7286f7-f910-41a0-bd51-509ca784d89d\",\"type\":\"GlyphRenderer\"},{\"id\":\"8ca87e16-ef66-4d34-8274-9d9adb085920\",\"type\":\"GlyphRenderer\"},{\"id\":\"5ecbe8ab-1d58-470f-b38f-01fc11b4f41c\",\"type\":\"GlyphRenderer\"},{\"id\":\"f520d936-b1e4-4beb-81e9-da0c5293162f\",\"type\":\"GlyphRenderer\"},{\"id\":\"e287c9f5-87ad-407b-804c-5d069df58cca\",\"type\":\"GlyphRenderer\"},{\"id\":\"2c54dcdc-267e-42bd-af30-19ad61704ab9\",\"type\":\"GlyphRenderer\"},{\"id\":\"332fd06d-15db-49c3-9bd7-d4bec9993763\",\"type\":\"GlyphRenderer\"},{\"id\":\"f37dd44f-4ad7-4771-b53f-ec6fbdf49c36\",\"type\":\"GlyphRenderer\"},{\"id\":\"6d7bee82-03a3-46b3-bac1-7d6aa1dd20fc\",\"type\":\"GlyphRenderer\"},{\"id\":\"60002a23-202d-40c4-95d8-d7abc7a94194\",\"type\":\"GlyphRenderer\"},{\"id\":\"2f53c256-3f2a-4f14-905a-7d6a0032483c\",\"type\":\"GlyphRenderer\"},{\"id\":\"74d441ac-19ed-4d55-8ace-cd15dafbd667\",\"type\":\"GlyphRenderer\"},{\"id\":\"07b82a33-a34d-4712-a9cf-6297627c8184\",\"type\":\"GlyphRenderer\"},{\"id\":\"182dfd58-f612-454a-9bad-19639a185601\",\"type\":\"GlyphRenderer\"},{\"id\":\"9e47572b-3a8f-493b-8ff9-6704836ae408\",\"type\":\"GlyphRenderer\"},{\"id\":\"cdf8994e-8835-4433-9929-fa8c9176b382\",\"type\":\"GlyphRenderer\"},{\"id\":\"a3c59ed2-1801-4dec-a650-a2bcec7546c2\",\"type\":\"GlyphRenderer\"},{\"id\":\"c62927dc-cd4d-4550-ba95-ee973f74afe6\",\"type\":\"GlyphRenderer\"},{\"id\":\"38a0143d-761a-4900-8d37-7bee294e530f\",\"type\":\"GlyphRenderer\"},{\"id\":\"46f43e49-0bc7-4dd3-81a8-b0181de313fc\",\"type\":\"GlyphRenderer\"},{\"id\":\"f9796b75-e12a-4e76-be74-74af3dee8682\",\"type\":\"GlyphRenderer\"},{\"id\":\"e1966c33-da3f-41b1-9b81-264ab5994ba7\",\"type\":\"GlyphRenderer\"}],\"title\":{\"id\":\"4d68114c-bf2f-44a3-abb6-d29f8ee711c3\",\"type\":\"Title\"},\"tool_events\":{\"id\":\"a24d8fef-7a09-4036-8f57-214876fe45c9\",\"type\":\"ToolEvents\"},\"toolbar\":{\"id\":\"cb17df47-28b0-4d47-8e11-65107d1c769c\",\"type\":\"Toolbar\"},\"x_range\":{\"id\":\"b81de037-1ea9-4c24-adf5-12d9eef080d5\",\"type\":\"DataRange1d\"},\"y_range\":{\"id\":\"d6d8da3c-3da2-412d-aa7b-17a9b4fa597f\",\"type\":\"DataRange1d\"}},\"id\":\"8e1f4443-d290-4707-87cf-6dc05432cfcd\",\"subtype\":\"Figure\",\"type\":\"Plot\"},{\"attributes\":{\"align\":\"center\",\"plot\":null,\"text\":\"Poblaci\\u00f3n - Proyecci\\u00f3n Geom\\u00e9trica\",\"text_color\":{\"value\":\"blue\"},\"text_font\":\"times\",\"text_font_size\":{\"value\":\"20px\"},\"text_font_style\":\"italic\"},\"id\":\"4d68114c-bf2f-44a3-abb6-d29f8ee711c3\",\"type\":\"Title\"},{\"attributes\":{},\"id\":\"57bb281d-e799-452e-91aa-c00a2fc62a67\",\"type\":\"BasicTicker\"},{\"attributes\":{\"data_source\":{\"id\":\"d4447ac1-3d3c-48d1-ba77-b30462970692\",\"type\":\"ColumnDataSource\"},\"glyph\":{\"id\":\"67b9cece-db40-4180-860d-c23e04576823\",\"type\":\"Circle\"},\"hover_glyph\":null,\"nonselection_glyph\":{\"id\":\"3eb35f04-7276-4e2d-929c-0459f43f1147\",\"type\":\"Circle\"},\"selection_glyph\":null},\"id\":\"e287c9f5-87ad-407b-804c-5d069df58cca\",\"type\":\"GlyphRenderer\"},{\"attributes\":{\"line_color\":{\"value\":\"navy\"},\"line_width\":{\"value\":2},\"x\":{\"field\":\"x\"},\"y\":{\"field\":\"y\"}},\"id\":\"2729287c-b575-41ce-ad58-7eeb669d6809\",\"type\":\"Line\"},{\"attributes\":{\"data_source\":{\"id\":\"a1330f20-21cf-4fdc-9f00-07edbad5b729\",\"type\":\"ColumnDataSource\"},\"glyph\":{\"id\":\"d4985611-8fae-447f-a95a-2431be998869\",\"type\":\"Line\"},\"hover_glyph\":null,\"nonselection_glyph\":{\"id\":\"5f472709-922a-4925-96b8-8fd41cac8334\",\"type\":\"Line\"},\"selection_glyph\":null},\"id\":\"74d441ac-19ed-4d55-8ace-cd15dafbd667\",\"type\":\"GlyphRenderer\"},{\"attributes\":{\"callback\":null,\"column_names\":[\"y\",\"x\"],\"data\":{\"x\":[1991,2001,2010,2017,2019,2029,2039],\"y\":[322,384,396,406,408,422,437]}},\"id\":\"bc0c9579-4923-49d2-a587-7abfdef5efdc\",\"type\":\"ColumnDataSource\"},{\"attributes\":{\"plot\":{\"id\":\"8e1f4443-d290-4707-87cf-6dc05432cfcd\",\"subtype\":\"Figure\",\"type\":\"Plot\"}},\"id\":\"0b0b8c33-b451-4246-89e6-2a3b3a858570\",\"type\":\"HelpTool\"},{\"attributes\":{\"data_source\":{\"id\":\"22649fe8-7ddf-460a-b492-c33c7914f0d2\",\"type\":\"ColumnDataSource\"},\"glyph\":{\"id\":\"fc73063a-b07d-4e49-9f3b-c41269757dee\",\"type\":\"Line\"},\"hover_glyph\":null,\"nonselection_glyph\":{\"id\":\"cc803dc1-fecd-44e1-8a36-b71e508a8e51\",\"type\":\"Line\"},\"selection_glyph\":null},\"id\":\"c62927dc-cd4d-4550-ba95-ee973f74afe6\",\"type\":\"GlyphRenderer\"},{\"attributes\":{\"fill_color\":{\"value\":\"yellow\"},\"line_color\":{\"value\":\"yellow\"},\"x\":{\"field\":\"x\"},\"y\":{\"field\":\"y\"}},\"id\":\"67b9cece-db40-4180-860d-c23e04576823\",\"type\":\"Circle\"},{\"attributes\":{\"fill_alpha\":{\"value\":0.1},\"fill_color\":{\"value\":\"#1f77b4\"},\"line_alpha\":{\"value\":0.1},\"line_color\":{\"value\":\"#1f77b4\"},\"x\":{\"field\":\"x\"},\"y\":{\"field\":\"y\"}},\"id\":\"c4bd9f94-6d88-46e0-a4b9-13bb1531023b\",\"type\":\"Circle\"},{\"attributes\":{\"line_alpha\":{\"value\":0.1},\"line_color\":{\"value\":\"#1f77b4\"},\"line_width\":{\"value\":2},\"x\":{\"field\":\"x\"},\"y\":{\"field\":\"y\"}},\"id\":\"1a94e216-5066-4b62-96ad-9af910db545c\",\"type\":\"Line\"},{\"attributes\":{\"fill_color\":{\"value\":\"firebrick\"},\"line_color\":{\"value\":\"firebrick\"},\"x\":{\"field\":\"x\"},\"y\":{\"field\":\"y\"}},\"id\":\"2e5a7ea9-e782-4391-b60d-a1a761a7f6b2\",\"type\":\"Circle\"},{\"attributes\":{},\"id\":\"78933bc7-7552-4d2c-a407-4099434043f8\",\"type\":\"BasicTicker\"},{\"attributes\":{\"data_source\":{\"id\":\"a7bdc106-5b7c-4e8d-9260-decf677716b5\",\"type\":\"ColumnDataSource\"},\"glyph\":{\"id\":\"238e6b85-5c40-408f-a97e-5e4e1a3cc525\",\"type\":\"Circle\"},\"hover_glyph\":null,\"nonselection_glyph\":{\"id\":\"f83a7e31-f653-4e32-9c62-0564a711510c\",\"type\":\"Circle\"},\"selection_glyph\":null},\"id\":\"9e47572b-3a8f-493b-8ff9-6704836ae408\",\"type\":\"GlyphRenderer\"},{\"attributes\":{\"callback\":null,\"column_names\":[\"y\",\"x\"],\"data\":{\"x\":[1991,2001,2010,2017,2019,2029,2039],\"y\":[20674,26183,31787,36950,38573,47825,59297]}},\"id\":\"44e1e84c-ea87-48ad-bb81-2681b63610d9\",\"type\":\"ColumnDataSource\"},{\"attributes\":{\"line_alpha\":{\"value\":0.1},\"line_color\":{\"value\":\"#1f77b4\"},\"line_width\":{\"value\":2},\"x\":{\"field\":\"x\"},\"y\":{\"field\":\"y\"}},\"id\":\"7461489a-ae3b-46c8-aca5-93fa0bfa8725\",\"type\":\"Line\"},{\"attributes\":{\"line_alpha\":{\"value\":0.1},\"line_color\":{\"value\":\"#1f77b4\"},\"line_width\":{\"value\":2},\"x\":{\"field\":\"x\"},\"y\":{\"field\":\"y\"}},\"id\":\"5f472709-922a-4925-96b8-8fd41cac8334\",\"type\":\"Line\"},{\"attributes\":{\"callback\":null,\"column_names\":[\"x\",\"y\"],\"data\":{\"x\":[1991,2001,2010,2017,2019,2029,2039],\"y\":[45047,57791,81995,107658,116368,171702,253347]}},\"id\":\"5bd94ab9-f8ac-4009-bf41-82562c626aa1\",\"type\":\"ColumnDataSource\"},{\"attributes\":{\"fill_color\":{\"value\":\"blue\"},\"line_color\":{\"value\":\"blue\"},\"x\":{\"field\":\"x\"},\"y\":{\"field\":\"y\"}},\"id\":\"d68655df-ef6a-4337-a7d1-224669c2befc\",\"type\":\"Circle\"},{\"attributes\":{\"line_color\":{\"value\":\"blue\"},\"line_width\":{\"value\":2},\"x\":{\"field\":\"x\"},\"y\":{\"field\":\"y\"}},\"id\":\"7673e3f1-bd3d-42fb-8057-926713ab26c6\",\"type\":\"Line\"},{\"attributes\":{\"line_color\":{\"value\":\"orange\"},\"line_width\":{\"value\":2},\"x\":{\"field\":\"x\"},\"y\":{\"field\":\"y\"}},\"id\":\"9b825ad0-7586-4564-acc1-6eeafbd3bf51\",\"type\":\"Line\"},{\"attributes\":{\"fill_color\":{\"value\":\"red\"},\"line_color\":{\"value\":\"red\"},\"x\":{\"field\":\"x\"},\"y\":{\"field\":\"y\"}},\"id\":\"f3d316e8-451f-40af-b3b0-c74535c3a3af\",\"type\":\"Circle\"},{\"attributes\":{\"data_source\":{\"id\":\"bc0c9579-4923-49d2-a587-7abfdef5efdc\",\"type\":\"ColumnDataSource\"},\"glyph\":{\"id\":\"c42b8e94-5f15-481f-9012-3c6273fd38a9\",\"type\":\"Circle\"},\"hover_glyph\":null,\"nonselection_glyph\":{\"id\":\"cab12713-8ee6-4314-9fd3-38a87ebb2b92\",\"type\":\"Circle\"},\"selection_glyph\":null},\"id\":\"f9796b75-e12a-4e76-be74-74af3dee8682\",\"type\":\"GlyphRenderer\"},{\"attributes\":{\"fill_alpha\":{\"value\":0.1},\"fill_color\":{\"value\":\"#1f77b4\"},\"line_alpha\":{\"value\":0.1},\"line_color\":{\"value\":\"#1f77b4\"},\"x\":{\"field\":\"x\"},\"y\":{\"field\":\"y\"}},\"id\":\"ec80b831-5abd-470f-a30c-945d00a94e22\",\"type\":\"Circle\"},{\"attributes\":{\"axis_label\":\"Tiempo\",\"formatter\":{\"id\":\"ae82477d-7f06-4c7e-bcfb-bee5e5b50056\",\"type\":\"BasicTickFormatter\"},\"plot\":{\"id\":\"8e1f4443-d290-4707-87cf-6dc05432cfcd\",\"subtype\":\"Figure\",\"type\":\"Plot\"},\"ticker\":{\"id\":\"78933bc7-7552-4d2c-a407-4099434043f8\",\"type\":\"BasicTicker\"}},\"id\":\"056d2f8c-147a-44b9-9aa8-73720f5881d6\",\"type\":\"LinearAxis\"},{\"attributes\":{\"data_source\":{\"id\":\"d965fdd9-f6c5-4e77-8e21-8cda760b8b44\",\"type\":\"ColumnDataSource\"},\"glyph\":{\"id\":\"015bd9cb-c779-4ebc-b797-edf5ad9b3ce9\",\"type\":\"Line\"},\"hover_glyph\":null,\"nonselection_glyph\":{\"id\":\"7461489a-ae3b-46c8-aca5-93fa0bfa8725\",\"type\":\"Line\"},\"selection_glyph\":null},\"id\":\"2c54dcdc-267e-42bd-af30-19ad61704ab9\",\"type\":\"GlyphRenderer\"},{\"attributes\":{\"data_source\":{\"id\":\"a989a8bb-117e-4f2f-a702-2bc87bc6862f\",\"type\":\"ColumnDataSource\"},\"glyph\":{\"id\":\"55f66e32-2714-4c9c-ad79-33ac36c87c07\",\"type\":\"Circle\"},\"hover_glyph\":null,\"nonselection_glyph\":{\"id\":\"9f55bb54-be40-4535-be60-b6e27e758c22\",\"type\":\"Circle\"},\"selection_glyph\":null},\"id\":\"6d7bee82-03a3-46b3-bac1-7d6aa1dd20fc\",\"type\":\"GlyphRenderer\"},{\"attributes\":{\"fill_alpha\":{\"value\":0.1},\"fill_color\":{\"value\":\"#1f77b4\"},\"line_alpha\":{\"value\":0.1},\"line_color\":{\"value\":\"#1f77b4\"},\"x\":{\"field\":\"x\"},\"y\":{\"field\":\"y\"}},\"id\":\"1cd1f634-abfc-42ad-9db5-bf6abdc2f6a1\",\"type\":\"Circle\"},{\"attributes\":{\"callback\":null,\"column_names\":[\"x\",\"y\"],\"data\":{\"x\":[1991,2001,2010,2017,2019,2029,2039],\"y\":[125725,137061,177083,216182,228862,304332,404689]}},\"id\":\"a2560b36-e015-4f57-97c0-fd7fdd301d22\",\"type\":\"ColumnDataSource\"},{\"attributes\":{\"plot\":{\"id\":\"8e1f4443-d290-4707-87cf-6dc05432cfcd\",\"subtype\":\"Figure\",\"type\":\"Plot\"}},\"id\":\"c514e683-ac0e-4595-97b5-1f8cf7b0fcf8\",\"type\":\"ResetTool\"},{\"attributes\":{\"data_source\":{\"id\":\"1ddae17f-dc7e-4346-b151-874e63c346ad\",\"type\":\"ColumnDataSource\"},\"glyph\":{\"id\":\"f9774f4f-f7e5-4b0b-9e0c-a35c114481ec\",\"type\":\"Line\"},\"hover_glyph\":null,\"nonselection_glyph\":{\"id\":\"8257d784-89d2-4515-ab4c-1e6c0c9f5b0c\",\"type\":\"Line\"},\"selection_glyph\":null},\"id\":\"e1966c33-da3f-41b1-9b81-264ab5994ba7\",\"type\":\"GlyphRenderer\"},{\"attributes\":{\"callback\":null,\"column_names\":[\"x\",\"y\"],\"data\":{\"x\":[1991,2001,2010,2017,2019,2029,2039],\"y\":[7209,8292,11124,13975,14917,20666,28631]}},\"id\":\"d965fdd9-f6c5-4e77-8e21-8cda760b8b44\",\"type\":\"ColumnDataSource\"},{\"attributes\":{\"callback\":null,\"column_names\":[\"y\",\"x\"],\"data\":{\"x\":[1991,2001,2010,2017,2019,2029,2039],\"y\":[868,1079,1296,1495,1557,1910,2342]}},\"id\":\"005584a9-e379-4825-ad68-6d147d60f4b1\",\"type\":\"ColumnDataSource\"},{\"attributes\":{\"fill_alpha\":{\"value\":0.1},\"fill_color\":{\"value\":\"#1f77b4\"},\"line_alpha\":{\"value\":0.1},\"line_color\":{\"value\":\"#1f77b4\"},\"x\":{\"field\":\"x\"},\"y\":{\"field\":\"y\"}},\"id\":\"f83a7e31-f653-4e32-9c62-0564a711510c\",\"type\":\"Circle\"},{\"attributes\":{\"line_alpha\":{\"value\":0.1},\"line_color\":{\"value\":\"#1f77b4\"},\"line_width\":{\"value\":2},\"x\":{\"field\":\"x\"},\"y\":{\"field\":\"y\"}},\"id\":\"7e0047fb-7442-4df5-8207-605f778d925b\",\"type\":\"Line\"},{\"attributes\":{\"fill_alpha\":{\"value\":0.1},\"fill_color\":{\"value\":\"#1f77b4\"},\"line_alpha\":{\"value\":0.1},\"line_color\":{\"value\":\"#1f77b4\"},\"x\":{\"field\":\"x\"},\"y\":{\"field\":\"y\"}},\"id\":\"bf2cc596-1020-42c2-8d39-fc6518f45e52\",\"type\":\"Circle\"},{\"attributes\":{\"fill_color\":{\"value\":\"olive\"},\"line_color\":{\"value\":\"olive\"},\"x\":{\"field\":\"x\"},\"y\":{\"field\":\"y\"}},\"id\":\"23262c2c-3117-441d-9fbd-3b566d5df05b\",\"type\":\"Circle\"},{\"attributes\":{\"line_alpha\":{\"value\":0.1},\"line_color\":{\"value\":\"#1f77b4\"},\"line_width\":{\"value\":2},\"x\":{\"field\":\"x\"},\"y\":{\"field\":\"y\"}},\"id\":\"70d19f85-247b-44d2-bd62-5136ea8866ff\",\"type\":\"Line\"},{\"attributes\":{\"callback\":null,\"column_names\":[\"x\",\"y\"],\"data\":{\"x\":[1991,2001,2010,2017,2019,2029,2039],\"y\":[23411,28486,32758,36512,37662,43976,51349]}},\"id\":\"da80ea41-545c-4c91-af94-f55f3d87cf0f\",\"type\":\"ColumnDataSource\"},{\"attributes\":{\"data_source\":{\"id\":\"aa6b910e-08dd-4ffe-9fd6-20c0e5509c87\",\"type\":\"ColumnDataSource\"},\"glyph\":{\"id\":\"d68655df-ef6a-4337-a7d1-224669c2befc\",\"type\":\"Circle\"},\"hover_glyph\":null,\"nonselection_glyph\":{\"id\":\"5f8ee4e3-1f72-4dbc-9d18-dbbc070b5c3c\",\"type\":\"Circle\"},\"selection_glyph\":null},\"id\":\"4a7286f7-f910-41a0-bd51-509ca784d89d\",\"type\":\"GlyphRenderer\"},{\"attributes\":{\"callback\":null,\"column_names\":[\"y\",\"x\"],\"data\":{\"x\":[1991,2001,2010,2017,2019,2029,2039],\"y\":[125725,137061,177083,216182,228862,304332,404689]}},\"id\":\"4e079844-5d28-4462-835b-8812a13ad637\",\"type\":\"ColumnDataSource\"},{\"attributes\":{\"fill_alpha\":{\"value\":0.1},\"fill_color\":{\"value\":\"#1f77b4\"},\"line_alpha\":{\"value\":0.1},\"line_color\":{\"value\":\"#1f77b4\"},\"x\":{\"field\":\"x\"},\"y\":{\"field\":\"y\"}},\"id\":\"378b8bf5-b776-44d3-bea0-1b7b9f3ff3ef\",\"type\":\"Circle\"},{\"attributes\":{\"line_alpha\":{\"value\":0.1},\"line_color\":{\"value\":\"#1f77b4\"},\"line_width\":{\"value\":2},\"x\":{\"field\":\"x\"},\"y\":{\"field\":\"y\"}},\"id\":\"cc803dc1-fecd-44e1-8a36-b71e508a8e51\",\"type\":\"Line\"},{\"attributes\":{\"callback\":null,\"column_names\":[\"x\",\"y\"],\"data\":{\"x\":[1991,2001,2010,2017,2019,2029,2039],\"y\":[864,1087,1264,1422,1470,1739,2057]}},\"id\":\"62baf0ca-8b9e-4b4a-aedb-439526ce2d00\",\"type\":\"ColumnDataSource\"},{\"attributes\":{\"line_color\":{\"value\":\"firebrick\"},\"line_width\":{\"value\":2},\"x\":{\"field\":\"x\"},\"y\":{\"field\":\"y\"}},\"id\":\"d4985611-8fae-447f-a95a-2431be998869\",\"type\":\"Line\"},{\"attributes\":{\"line_color\":{\"value\":\"yellow\"},\"line_width\":{\"value\":2},\"x\":{\"field\":\"x\"},\"y\":{\"field\":\"y\"}},\"id\":\"015bd9cb-c779-4ebc-b797-edf5ad9b3ce9\",\"type\":\"Line\"},{\"attributes\":{\"plot\":{\"id\":\"8e1f4443-d290-4707-87cf-6dc05432cfcd\",\"subtype\":\"Figure\",\"type\":\"Plot\"},\"ticker\":{\"id\":\"78933bc7-7552-4d2c-a407-4099434043f8\",\"type\":\"BasicTicker\"}},\"id\":\"484033c8-2db7-48b7-8e11-a2f3ed2576bc\",\"type\":\"Grid\"},{\"attributes\":{\"fill_alpha\":{\"value\":0.1},\"fill_color\":{\"value\":\"#1f77b4\"},\"line_alpha\":{\"value\":0.1},\"line_color\":{\"value\":\"#1f77b4\"},\"x\":{\"field\":\"x\"},\"y\":{\"field\":\"y\"}},\"id\":\"5f8ee4e3-1f72-4dbc-9d18-dbbc070b5c3c\",\"type\":\"Circle\"},{\"attributes\":{\"data_source\":{\"id\":\"30d1a529-b1a1-4cca-9477-026422370aa3\",\"type\":\"ColumnDataSource\"},\"glyph\":{\"id\":\"9b825ad0-7586-4564-acc1-6eeafbd3bf51\",\"type\":\"Line\"},\"hover_glyph\":null,\"nonselection_glyph\":{\"id\":\"1a94e216-5066-4b62-96ad-9af910db545c\",\"type\":\"Line\"},\"selection_glyph\":null},\"id\":\"5c116b6c-2f89-4d72-9c31-561d94777bf9\",\"type\":\"GlyphRenderer\"},{\"attributes\":{},\"id\":\"ae82477d-7f06-4c7e-bcfb-bee5e5b50056\",\"type\":\"BasicTickFormatter\"},{\"attributes\":{\"data_source\":{\"id\":\"44e1e84c-ea87-48ad-bb81-2681b63610d9\",\"type\":\"ColumnDataSource\"},\"glyph\":{\"id\":\"4b94f204-6fd5-4961-875f-e89de3cb633a\",\"type\":\"Circle\"},\"hover_glyph\":null,\"nonselection_glyph\":{\"id\":\"c50445cd-4e9a-4ce9-9c30-a3df74dd52dd\",\"type\":\"Circle\"},\"selection_glyph\":null},\"id\":\"332fd06d-15db-49c3-9bd7-d4bec9993763\",\"type\":\"GlyphRenderer\"},{\"attributes\":{\"line_color\":{\"value\":\"olive\"},\"line_width\":{\"value\":2},\"x\":{\"field\":\"x\"},\"y\":{\"field\":\"y\"}},\"id\":\"fc73063a-b07d-4e49-9f3b-c41269757dee\",\"type\":\"Line\"},{\"attributes\":{\"fill_color\":{\"value\":\"green\"},\"line_color\":{\"value\":\"green\"},\"x\":{\"field\":\"x\"},\"y\":{\"field\":\"y\"}},\"id\":\"95707094-9360-48f7-8adc-31967f66cfb4\",\"type\":\"Circle\"},{\"attributes\":{\"line_alpha\":{\"value\":0.1},\"line_color\":{\"value\":\"#1f77b4\"},\"line_width\":{\"value\":2},\"x\":{\"field\":\"x\"},\"y\":{\"field\":\"y\"}},\"id\":\"1561d842-90ff-40d7-b1a5-95daecfde209\",\"type\":\"Line\"},{\"attributes\":{\"fill_alpha\":{\"value\":0.1},\"fill_color\":{\"value\":\"#1f77b4\"},\"line_alpha\":{\"value\":0.1},\"line_color\":{\"value\":\"#1f77b4\"},\"x\":{\"field\":\"x\"},\"y\":{\"field\":\"y\"}},\"id\":\"8d7a415c-f7af-4f10-b35c-aaabd5bb0a89\",\"type\":\"Circle\"},{\"attributes\":{\"data_source\":{\"id\":\"005584a9-e379-4825-ad68-6d147d60f4b1\",\"type\":\"ColumnDataSource\"},\"glyph\":{\"id\":\"23262c2c-3117-441d-9fbd-3b566d5df05b\",\"type\":\"Circle\"},\"hover_glyph\":null,\"nonselection_glyph\":{\"id\":\"378b8bf5-b776-44d3-bea0-1b7b9f3ff3ef\",\"type\":\"Circle\"},\"selection_glyph\":null},\"id\":\"a3c59ed2-1801-4dec-a650-a2bcec7546c2\",\"type\":\"GlyphRenderer\"},{\"attributes\":{\"data_source\":{\"id\":\"a83b95b8-b32a-421e-a002-da2aa9caabd1\",\"type\":\"ColumnDataSource\"},\"glyph\":{\"id\":\"9e8fb261-72a2-4c47-a6f2-ce58ae7e842a\",\"type\":\"Line\"},\"hover_glyph\":null,\"nonselection_glyph\":{\"id\":\"5a3e401e-132c-4980-a17d-6e9a631b48e1\",\"type\":\"Line\"},\"selection_glyph\":null},\"id\":\"182dfd58-f612-454a-9bad-19639a185601\",\"type\":\"GlyphRenderer\"},{\"attributes\":{\"fill_color\":{\"value\":\"#7c1b65\"},\"line_color\":{\"value\":\"#7c1b65\"},\"x\":{\"field\":\"x\"},\"y\":{\"field\":\"y\"}},\"id\":\"c42b8e94-5f15-481f-9012-3c6273fd38a9\",\"type\":\"Circle\"},{\"attributes\":{\"callback\":null,\"column_names\":[\"x\",\"y\"],\"data\":{\"x\":[1991,2001,2010,2017,2019,2029,2039],\"y\":[1913,2185,2374,2532,2579,2827,3100]}},\"id\":\"a83b95b8-b32a-421e-a002-da2aa9caabd1\",\"type\":\"ColumnDataSource\"},{\"attributes\":{\"plot\":{\"id\":\"8e1f4443-d290-4707-87cf-6dc05432cfcd\",\"subtype\":\"Figure\",\"type\":\"Plot\"}},\"id\":\"271554ca-2872-4cf7-aa62-577de6161c87\",\"type\":\"SaveTool\"},{\"attributes\":{\"fill_alpha\":{\"value\":0.1},\"fill_color\":{\"value\":\"#1f77b4\"},\"line_alpha\":{\"value\":0.1},\"line_color\":{\"value\":\"#1f77b4\"},\"x\":{\"field\":\"x\"},\"y\":{\"field\":\"y\"}},\"id\":\"3eb35f04-7276-4e2d-929c-0459f43f1147\",\"type\":\"Circle\"},{\"attributes\":{\"legends\":[[\"Comodoro Rivadavia\",[{\"id\":\"1b3be39d-9cde-40da-9b99-c3be880dfbc7\",\"type\":\"GlyphRenderer\"},{\"id\":\"7a5a1fc1-4105-4b65-b7e4-a0d65999570c\",\"type\":\"GlyphRenderer\"}]],[\"Trelew\",[{\"id\":\"1b03fc0c-363d-4f96-a5f4-6c6c2b8a8ef2\",\"type\":\"GlyphRenderer\"},{\"id\":\"5c116b6c-2f89-4d72-9c31-561d94777bf9\",\"type\":\"GlyphRenderer\"}]],[\"Puerto Madryn\",[{\"id\":\"4a7286f7-f910-41a0-bd51-509ca784d89d\",\"type\":\"GlyphRenderer\"},{\"id\":\"8ca87e16-ef66-4d34-8274-9d9adb085920\",\"type\":\"GlyphRenderer\"}]],[\"Esquel\",[{\"id\":\"5ecbe8ab-1d58-470f-b38f-01fc11b4f41c\",\"type\":\"GlyphRenderer\"},{\"id\":\"f520d936-b1e4-4beb-81e9-da0c5293162f\",\"type\":\"GlyphRenderer\"}]],[\"Sarmiento\",[{\"id\":\"e287c9f5-87ad-407b-804c-5d069df58cca\",\"type\":\"GlyphRenderer\"},{\"id\":\"2c54dcdc-267e-42bd-af30-19ad61704ab9\",\"type\":\"GlyphRenderer\"}]],[\"Rawson\",[{\"id\":\"332fd06d-15db-49c3-9bd7-d4bec9993763\",\"type\":\"GlyphRenderer\"},{\"id\":\"f37dd44f-4ad7-4771-b53f-ec6fbdf49c36\",\"type\":\"GlyphRenderer\"}]],[\"Dolavon\",[{\"id\":\"6d7bee82-03a3-46b3-bac1-7d6aa1dd20fc\",\"type\":\"GlyphRenderer\"},{\"id\":\"60002a23-202d-40c4-95d8-d7abc7a94194\",\"type\":\"GlyphRenderer\"}]],[\"Gaiman\",[{\"id\":\"2f53c256-3f2a-4f14-905a-7d6a0032483c\",\"type\":\"GlyphRenderer\"},{\"id\":\"74d441ac-19ed-4d55-8ace-cd15dafbd667\",\"type\":\"GlyphRenderer\"}]],[\"Gobernador Costa\",[{\"id\":\"07b82a33-a34d-4712-a9cf-6297627c8184\",\"type\":\"GlyphRenderer\"},{\"id\":\"182dfd58-f612-454a-9bad-19639a185601\",\"type\":\"GlyphRenderer\"}]],[\"Cholila\",[{\"id\":\"9e47572b-3a8f-493b-8ff9-6704836ae408\",\"type\":\"GlyphRenderer\"},{\"id\":\"cdf8994e-8835-4433-9929-fa8c9176b382\",\"type\":\"GlyphRenderer\"}]],[\"Camarones\",[{\"id\":\"a3c59ed2-1801-4dec-a650-a2bcec7546c2\",\"type\":\"GlyphRenderer\"},{\"id\":\"c62927dc-cd4d-4550-ba95-ee973f74afe6\",\"type\":\"GlyphRenderer\"}]],[\"Paso de Indios\",[{\"id\":\"38a0143d-761a-4900-8d37-7bee294e530f\",\"type\":\"GlyphRenderer\"},{\"id\":\"46f43e49-0bc7-4dd3-81a8-b0181de313fc\",\"type\":\"GlyphRenderer\"}]],[\"Paso del Sapo\",[{\"id\":\"f9796b75-e12a-4e76-be74-74af3dee8682\",\"type\":\"GlyphRenderer\"},{\"id\":\"e1966c33-da3f-41b1-9b81-264ab5994ba7\",\"type\":\"GlyphRenderer\"}]]],\"plot\":{\"id\":\"8e1f4443-d290-4707-87cf-6dc05432cfcd\",\"subtype\":\"Figure\",\"type\":\"Plot\"}},\"id\":\"d14f61cd-7b03-4633-8b04-c4673077445d\",\"type\":\"Legend\"},{\"attributes\":{},\"id\":\"a24d8fef-7a09-4036-8f57-214876fe45c9\",\"type\":\"ToolEvents\"},{\"attributes\":{\"line_alpha\":{\"value\":0.1},\"line_color\":{\"value\":\"#1f77b4\"},\"line_width\":{\"value\":2},\"x\":{\"field\":\"x\"},\"y\":{\"field\":\"y\"}},\"id\":\"4d1f4cb7-92d9-43db-b8d6-9df5536f3879\",\"type\":\"Line\"},{\"attributes\":{\"fill_color\":{\"value\":\"orange\"},\"line_color\":{\"value\":\"orange\"},\"x\":{\"field\":\"x\"},\"y\":{\"field\":\"y\"}},\"id\":\"5e9cec31-5940-415c-8f77-7b617d554bfe\",\"type\":\"Circle\"},{\"attributes\":{\"callback\":null,\"column_names\":[\"y\",\"x\"],\"data\":{\"x\":[1991,2001,2010,2017,2019,2029,2039],\"y\":[864,1087,1264,1422,1470,1739,2057]}},\"id\":\"47150786-a242-476f-9a21-a7d3d9d3eac5\",\"type\":\"ColumnDataSource\"},{\"attributes\":{\"callback\":null,\"column_names\":[\"x\",\"y\"],\"data\":{\"x\":[1991,2001,2010,2017,2019,2029,2039],\"y\":[868,1079,1296,1495,1557,1910,2342]}},\"id\":\"22649fe8-7ddf-460a-b492-c33c7914f0d2\",\"type\":\"ColumnDataSource\"},{\"attributes\":{\"callback\":null,\"column_names\":[\"y\",\"x\"],\"data\":{\"x\":[1991,2001,2010,2017,2019,2029,2039],\"y\":[1913,2185,2374,2532,2579,2827,3100]}},\"id\":\"3a3ccc66-0896-44a0-97a8-91ef769312f2\",\"type\":\"ColumnDataSource\"},{\"attributes\":{\"line_color\":{\"value\":\"magenta\"},\"line_width\":{\"value\":2},\"x\":{\"field\":\"x\"},\"y\":{\"field\":\"y\"}},\"id\":\"9753c43a-641d-4e96-85c4-1a4c1f853d76\",\"type\":\"Line\"},{\"attributes\":{\"fill_alpha\":{\"value\":0.1},\"fill_color\":{\"value\":\"#1f77b4\"},\"line_alpha\":{\"value\":0.1},\"line_color\":{\"value\":\"#1f77b4\"},\"x\":{\"field\":\"x\"},\"y\":{\"field\":\"y\"}},\"id\":\"9f55bb54-be40-4535-be60-b6e27e758c22\",\"type\":\"Circle\"},{\"attributes\":{\"callback\":null,\"column_names\":[\"y\",\"x\"],\"data\":{\"x\":[1991,2001,2010,2017,2019,2029,2039],\"y\":[7209,8292,11124,13975,14917,20666,28631]}},\"id\":\"d4447ac1-3d3c-48d1-ba77-b30462970692\",\"type\":\"ColumnDataSource\"},{\"attributes\":{\"line_color\":{\"value\":\"#7c1b65\"},\"line_width\":{\"value\":2},\"x\":{\"field\":\"x\"},\"y\":{\"field\":\"y\"}},\"id\":\"f9774f4f-f7e5-4b0b-9e0c-a35c114481ec\",\"type\":\"Line\"},{\"attributes\":{\"line_alpha\":{\"value\":0.1},\"line_color\":{\"value\":\"#1f77b4\"},\"line_width\":{\"value\":2},\"x\":{\"field\":\"x\"},\"y\":{\"field\":\"y\"}},\"id\":\"32499711-32e4-44d3-96b4-76c2b0e38a2a\",\"type\":\"Line\"},{\"attributes\":{\"callback\":null},\"id\":\"b81de037-1ea9-4c24-adf5-12d9eef080d5\",\"type\":\"DataRange1d\"},{\"attributes\":{\"fill_color\":{\"value\":\"magenta\"},\"line_color\":{\"value\":\"magenta\"},\"x\":{\"field\":\"x\"},\"y\":{\"field\":\"y\"}},\"id\":\"238e6b85-5c40-408f-a97e-5e4e1a3cc525\",\"type\":\"Circle\"},{\"attributes\":{\"plot\":{\"id\":\"8e1f4443-d290-4707-87cf-6dc05432cfcd\",\"subtype\":\"Figure\",\"type\":\"Plot\"}},\"id\":\"fa549e84-9d54-4116-b2ec-82eb1f72d787\",\"type\":\"PanTool\"},{\"attributes\":{\"line_alpha\":{\"value\":0.1},\"line_color\":{\"value\":\"#1f77b4\"},\"line_width\":{\"value\":2},\"x\":{\"field\":\"x\"},\"y\":{\"field\":\"y\"}},\"id\":\"5a3e401e-132c-4980-a17d-6e9a631b48e1\",\"type\":\"Line\"},{\"attributes\":{\"data_source\":{\"id\":\"f3311507-5e46-4294-bf37-3a21675ea5ce\",\"type\":\"ColumnDataSource\"},\"glyph\":{\"id\":\"2e5a7ea9-e782-4391-b60d-a1a761a7f6b2\",\"type\":\"Circle\"},\"hover_glyph\":null,\"nonselection_glyph\":{\"id\":\"c4bd9f94-6d88-46e0-a4b9-13bb1531023b\",\"type\":\"Circle\"},\"selection_glyph\":null},\"id\":\"2f53c256-3f2a-4f14-905a-7d6a0032483c\",\"type\":\"GlyphRenderer\"},{\"attributes\":{\"line_alpha\":{\"value\":0.1},\"line_color\":{\"value\":\"#1f77b4\"},\"line_width\":{\"value\":2},\"x\":{\"field\":\"x\"},\"y\":{\"field\":\"y\"}},\"id\":\"f508d4da-716a-4416-a198-af8dbded7eb2\",\"type\":\"Line\"},{\"attributes\":{\"fill_color\":{\"value\":\"#164c71\"},\"line_color\":{\"value\":\"#164c71\"},\"x\":{\"field\":\"x\"},\"y\":{\"field\":\"y\"}},\"id\":\"28de7f7b-55c4-48e1-813f-d344eece98c3\",\"type\":\"Circle\"},{\"attributes\":{\"data_source\":{\"id\":\"3a3ccc66-0896-44a0-97a8-91ef769312f2\",\"type\":\"ColumnDataSource\"},\"glyph\":{\"id\":\"b36566dd-b47c-456d-86e2-84cecd28d01b\",\"type\":\"Circle\"},\"hover_glyph\":null,\"nonselection_glyph\":{\"id\":\"8d7a415c-f7af-4f10-b35c-aaabd5bb0a89\",\"type\":\"Circle\"},\"selection_glyph\":null},\"id\":\"07b82a33-a34d-4712-a9cf-6297627c8184\",\"type\":\"GlyphRenderer\"},{\"attributes\":{\"data_source\":{\"id\":\"7916c988-fce6-4e4c-a40a-5ea4c7d773a0\",\"type\":\"ColumnDataSource\"},\"glyph\":{\"id\":\"81b10760-7fa5-4375-8847-2c06c5f83609\",\"type\":\"Line\"},\"hover_glyph\":null,\"nonselection_glyph\":{\"id\":\"1561d842-90ff-40d7-b1a5-95daecfde209\",\"type\":\"Line\"},\"selection_glyph\":null},\"id\":\"f37dd44f-4ad7-4771-b53f-ec6fbdf49c36\",\"type\":\"GlyphRenderer\"},{\"attributes\":{\"data_source\":{\"id\":\"a2560b36-e015-4f57-97c0-fd7fdd301d22\",\"type\":\"ColumnDataSource\"},\"glyph\":{\"id\":\"8195a65e-652e-45af-9530-0a898a52fb88\",\"type\":\"Line\"},\"hover_glyph\":null,\"nonselection_glyph\":{\"id\":\"32499711-32e4-44d3-96b4-76c2b0e38a2a\",\"type\":\"Line\"},\"selection_glyph\":null},\"id\":\"7a5a1fc1-4105-4b65-b7e4-a0d65999570c\",\"type\":\"GlyphRenderer\"},{\"attributes\":{\"callback\":null,\"column_names\":[\"y\",\"x\"],\"data\":{\"x\":[1991,2001,2010,2017,2019,2029,2039],\"y\":[79340,89547,99430,107841,110372,123947,139192]}},\"id\":\"e17abde9-ff52-4892-a203-0633243e44bd\",\"type\":\"ColumnDataSource\"},{\"attributes\":{\"dimension\":1,\"plot\":{\"id\":\"8e1f4443-d290-4707-87cf-6dc05432cfcd\",\"subtype\":\"Figure\",\"type\":\"Plot\"},\"ticker\":{\"id\":\"57bb281d-e799-452e-91aa-c00a2fc62a67\",\"type\":\"BasicTicker\"}},\"id\":\"7e241f97-6d04-48e5-85bb-340b6f60eab5\",\"type\":\"Grid\"},{\"attributes\":{\"active_drag\":\"auto\",\"active_scroll\":\"auto\",\"active_tap\":\"auto\",\"tools\":[{\"id\":\"fa549e84-9d54-4116-b2ec-82eb1f72d787\",\"type\":\"PanTool\"},{\"id\":\"491284f0-9989-4d4d-bae8-645f89c20ae9\",\"type\":\"WheelZoomTool\"},{\"id\":\"1944fe52-6edf-45bf-9d4b-ed2d58c481d1\",\"type\":\"BoxZoomTool\"},{\"id\":\"271554ca-2872-4cf7-aa62-577de6161c87\",\"type\":\"SaveTool\"},{\"id\":\"c514e683-ac0e-4595-97b5-1f8cf7b0fcf8\",\"type\":\"ResetTool\"},{\"id\":\"0b0b8c33-b451-4246-89e6-2a3b3a858570\",\"type\":\"HelpTool\"}]},\"id\":\"cb17df47-28b0-4d47-8e11-65107d1c769c\",\"type\":\"Toolbar\"},{\"attributes\":{\"data_source\":{\"id\":\"e04e4e93-794e-4c96-908b-01c26a1fca90\",\"type\":\"ColumnDataSource\"},\"glyph\":{\"id\":\"95707094-9360-48f7-8adc-31967f66cfb4\",\"type\":\"Circle\"},\"hover_glyph\":null,\"nonselection_glyph\":{\"id\":\"ec80b831-5abd-470f-a30c-945d00a94e22\",\"type\":\"Circle\"},\"selection_glyph\":null},\"id\":\"5ecbe8ab-1d58-470f-b38f-01fc11b4f41c\",\"type\":\"GlyphRenderer\"},{\"attributes\":{\"line_color\":{\"value\":\"green\"},\"line_width\":{\"value\":2},\"x\":{\"field\":\"x\"},\"y\":{\"field\":\"y\"}},\"id\":\"d3525544-3447-4afc-bd00-e1c731ac89cd\",\"type\":\"Line\"},{\"attributes\":{\"fill_color\":{\"value\":\"navy\"},\"line_color\":{\"value\":\"navy\"},\"x\":{\"field\":\"x\"},\"y\":{\"field\":\"y\"}},\"id\":\"55f66e32-2714-4c9c-ad79-33ac36c87c07\",\"type\":\"Circle\"},{\"attributes\":{\"callback\":null,\"column_names\":[\"x\",\"y\"],\"data\":{\"x\":[1991,2001,2010,2017,2019,2029,2039],\"y\":[20674,26183,31787,36950,38573,47825,59297]}},\"id\":\"7916c988-fce6-4e4c-a40a-5ea4c7d773a0\",\"type\":\"ColumnDataSource\"},{\"attributes\":{\"line_color\":{\"value\":\"#164c71\"},\"line_width\":{\"value\":2},\"x\":{\"field\":\"x\"},\"y\":{\"field\":\"y\"}},\"id\":\"208e25b1-588a-4649-a790-d4f0e0872c17\",\"type\":\"Line\"},{\"attributes\":{\"line_alpha\":{\"value\":0.1},\"line_color\":{\"value\":\"#1f77b4\"},\"line_width\":{\"value\":2},\"x\":{\"field\":\"x\"},\"y\":{\"field\":\"y\"}},\"id\":\"a1282c46-1a0b-4659-bd17-535d752d98ce\",\"type\":\"Line\"},{\"attributes\":{\"data_source\":{\"id\":\"2cede597-4b21-4591-a552-e67833b3bb92\",\"type\":\"ColumnDataSource\"},\"glyph\":{\"id\":\"9753c43a-641d-4e96-85c4-1a4c1f853d76\",\"type\":\"Line\"},\"hover_glyph\":null,\"nonselection_glyph\":{\"id\":\"7e0047fb-7442-4df5-8207-605f778d925b\",\"type\":\"Line\"},\"selection_glyph\":null},\"id\":\"cdf8994e-8835-4433-9929-fa8c9176b382\",\"type\":\"GlyphRenderer\"},{\"attributes\":{\"plot\":{\"id\":\"8e1f4443-d290-4707-87cf-6dc05432cfcd\",\"subtype\":\"Figure\",\"type\":\"Plot\"}},\"id\":\"491284f0-9989-4d4d-bae8-645f89c20ae9\",\"type\":\"WheelZoomTool\"},{\"attributes\":{\"line_color\":{\"value\":\"red\"},\"line_width\":{\"value\":2},\"x\":{\"field\":\"x\"},\"y\":{\"field\":\"y\"}},\"id\":\"8195a65e-652e-45af-9530-0a898a52fb88\",\"type\":\"Line\"},{\"attributes\":{\"callback\":null,\"column_names\":[\"y\",\"x\"],\"data\":{\"x\":[1991,2001,2010,2017,2019,2029,2039],\"y\":[4642,5753,6627,7397,7633,8930,10448]}},\"id\":\"f3311507-5e46-4294-bf37-3a21675ea5ce\",\"type\":\"ColumnDataSource\"},{\"attributes\":{\"line_alpha\":{\"value\":0.1},\"line_color\":{\"value\":\"#1f77b4\"},\"line_width\":{\"value\":2},\"x\":{\"field\":\"x\"},\"y\":{\"field\":\"y\"}},\"id\":\"8257d784-89d2-4515-ab4c-1e6c0c9f5b0c\",\"type\":\"Line\"},{\"attributes\":{\"callback\":null,\"column_names\":[\"x\",\"y\"],\"data\":{\"x\":[1991,2001,2010,2017,2019,2029,2039],\"y\":[4642,5753,6627,7397,7633,8930,10448]}},\"id\":\"a1330f20-21cf-4fdc-9f00-07edbad5b729\",\"type\":\"ColumnDataSource\"},{\"attributes\":{\"axis_label\":\"Poblaci\\u00f3n\",\"formatter\":{\"id\":\"8fddd3e0-3fdf-48e0-b8f6-804cc9f0a611\",\"type\":\"BasicTickFormatter\"},\"plot\":{\"id\":\"8e1f4443-d290-4707-87cf-6dc05432cfcd\",\"subtype\":\"Figure\",\"type\":\"Plot\"},\"ticker\":{\"id\":\"57bb281d-e799-452e-91aa-c00a2fc62a67\",\"type\":\"BasicTicker\"}},\"id\":\"47be7c8b-eebe-446c-9cca-74b939917905\",\"type\":\"LinearAxis\"},{\"attributes\":{\"overlay\":{\"id\":\"c70101fd-9f2d-4859-ae3d-34a547e11282\",\"type\":\"BoxAnnotation\"},\"plot\":{\"id\":\"8e1f4443-d290-4707-87cf-6dc05432cfcd\",\"subtype\":\"Figure\",\"type\":\"Plot\"}},\"id\":\"1944fe52-6edf-45bf-9d4b-ed2d58c481d1\",\"type\":\"BoxZoomTool\"},{\"attributes\":{\"callback\":null,\"column_names\":[\"x\",\"y\"],\"data\":{\"x\":[1991,2001,2010,2017,2019,2029,2039],\"y\":[322,384,396,406,408,422,437]}},\"id\":\"1ddae17f-dc7e-4346-b151-874e63c346ad\",\"type\":\"ColumnDataSource\"},{\"attributes\":{\"line_color\":{\"value\":\"cyan\"},\"line_width\":{\"value\":2},\"x\":{\"field\":\"x\"},\"y\":{\"field\":\"y\"}},\"id\":\"9e8fb261-72a2-4c47-a6f2-ce58ae7e842a\",\"type\":\"Line\"},{\"attributes\":{\"callback\":null,\"column_names\":[\"x\",\"y\"],\"data\":{\"x\":[1991,2001,2010,2017,2019,2029,2039],\"y\":[1527,1981,2228,2442,2507,2858,3258]}},\"id\":\"2cede597-4b21-4591-a552-e67833b3bb92\",\"type\":\"ColumnDataSource\"},{\"attributes\":{\"callback\":null,\"column_names\":[\"y\",\"x\"],\"data\":{\"x\":[1991,2001,2010,2017,2019,2029,2039],\"y\":[2613,2929,3307,3635,3734,4274,4892]}},\"id\":\"a989a8bb-117e-4f2f-a702-2bc87bc6862f\",\"type\":\"ColumnDataSource\"},{\"attributes\":{\"callback\":null,\"column_names\":[\"x\",\"y\"],\"data\":{\"x\":[1991,2001,2010,2017,2019,2029,2039],\"y\":[79340,89547,99430,107841,110372,123947,139192]}},\"id\":\"30d1a529-b1a1-4cca-9477-026422370aa3\",\"type\":\"ColumnDataSource\"},{\"attributes\":{\"callback\":null},\"id\":\"d6d8da3c-3da2-412d-aa7b-17a9b4fa597f\",\"type\":\"DataRange1d\"},{\"attributes\":{\"fill_color\":{\"value\":\"cyan\"},\"line_color\":{\"value\":\"cyan\"},\"x\":{\"field\":\"x\"},\"y\":{\"field\":\"y\"}},\"id\":\"b36566dd-b47c-456d-86e2-84cecd28d01b\",\"type\":\"Circle\"},{\"attributes\":{\"callback\":null,\"column_names\":[\"y\",\"x\"],\"data\":{\"x\":[1991,2001,2010,2017,2019,2029,2039],\"y\":[23411,28486,32758,36512,37662,43976,51349]}},\"id\":\"e04e4e93-794e-4c96-908b-01c26a1fca90\",\"type\":\"ColumnDataSource\"},{\"attributes\":{\"data_source\":{\"id\":\"62baf0ca-8b9e-4b4a-aedb-439526ce2d00\",\"type\":\"ColumnDataSource\"},\"glyph\":{\"id\":\"208e25b1-588a-4649-a790-d4f0e0872c17\",\"type\":\"Line\"},\"hover_glyph\":null,\"nonselection_glyph\":{\"id\":\"4d1f4cb7-92d9-43db-b8d6-9df5536f3879\",\"type\":\"Line\"},\"selection_glyph\":null},\"id\":\"46f43e49-0bc7-4dd3-81a8-b0181de313fc\",\"type\":\"GlyphRenderer\"},{\"attributes\":{\"data_source\":{\"id\":\"e17abde9-ff52-4892-a203-0633243e44bd\",\"type\":\"ColumnDataSource\"},\"glyph\":{\"id\":\"5e9cec31-5940-415c-8f77-7b617d554bfe\",\"type\":\"Circle\"},\"hover_glyph\":null,\"nonselection_glyph\":{\"id\":\"bf2cc596-1020-42c2-8d39-fc6518f45e52\",\"type\":\"Circle\"},\"selection_glyph\":null},\"id\":\"1b03fc0c-363d-4f96-a5f4-6c6c2b8a8ef2\",\"type\":\"GlyphRenderer\"},{\"attributes\":{\"bottom_units\":\"screen\",\"fill_alpha\":{\"value\":0.5},\"fill_color\":{\"value\":\"lightgrey\"},\"left_units\":\"screen\",\"level\":\"overlay\",\"line_alpha\":{\"value\":1.0},\"line_color\":{\"value\":\"black\"},\"line_dash\":[4,4],\"line_width\":{\"value\":2},\"plot\":null,\"render_mode\":\"css\",\"right_units\":\"screen\",\"top_units\":\"screen\"},\"id\":\"c70101fd-9f2d-4859-ae3d-34a547e11282\",\"type\":\"BoxAnnotation\"},{\"attributes\":{\"fill_color\":{\"value\":\"pink\"},\"line_color\":{\"value\":\"pink\"},\"x\":{\"field\":\"x\"},\"y\":{\"field\":\"y\"}},\"id\":\"4b94f204-6fd5-4961-875f-e89de3cb633a\",\"type\":\"Circle\"},{\"attributes\":{\"fill_alpha\":{\"value\":0.1},\"fill_color\":{\"value\":\"#1f77b4\"},\"line_alpha\":{\"value\":0.1},\"line_color\":{\"value\":\"#1f77b4\"},\"x\":{\"field\":\"x\"},\"y\":{\"field\":\"y\"}},\"id\":\"cab12713-8ee6-4314-9fd3-38a87ebb2b92\",\"type\":\"Circle\"},{\"attributes\":{\"fill_alpha\":{\"value\":0.1},\"fill_color\":{\"value\":\"#1f77b4\"},\"line_alpha\":{\"value\":0.1},\"line_color\":{\"value\":\"#1f77b4\"},\"x\":{\"field\":\"x\"},\"y\":{\"field\":\"y\"}},\"id\":\"c50445cd-4e9a-4ce9-9c30-a3df74dd52dd\",\"type\":\"Circle\"},{\"attributes\":{\"callback\":null,\"column_names\":[\"x\",\"y\"],\"data\":{\"x\":[1991,2001,2010,2017,2019,2029,2039],\"y\":[2613,2929,3307,3635,3734,4274,4892]}},\"id\":\"b21f2ad0-6c2b-4281-b042-20f556bbe166\",\"type\":\"ColumnDataSource\"},{\"attributes\":{\"callback\":null,\"column_names\":[\"y\",\"x\"],\"data\":{\"x\":[1991,2001,2010,2017,2019,2029,2039],\"y\":[45047,57791,81995,107658,116368,171702,253347]}},\"id\":\"aa6b910e-08dd-4ffe-9fd6-20c0e5509c87\",\"type\":\"ColumnDataSource\"},{\"attributes\":{\"data_source\":{\"id\":\"b21f2ad0-6c2b-4281-b042-20f556bbe166\",\"type\":\"ColumnDataSource\"},\"glyph\":{\"id\":\"2729287c-b575-41ce-ad58-7eeb669d6809\",\"type\":\"Line\"},\"hover_glyph\":null,\"nonselection_glyph\":{\"id\":\"a1282c46-1a0b-4659-bd17-535d752d98ce\",\"type\":\"Line\"},\"selection_glyph\":null},\"id\":\"60002a23-202d-40c4-95d8-d7abc7a94194\",\"type\":\"GlyphRenderer\"},{\"attributes\":{\"data_source\":{\"id\":\"5bd94ab9-f8ac-4009-bf41-82562c626aa1\",\"type\":\"ColumnDataSource\"},\"glyph\":{\"id\":\"7673e3f1-bd3d-42fb-8057-926713ab26c6\",\"type\":\"Line\"},\"hover_glyph\":null,\"nonselection_glyph\":{\"id\":\"70d19f85-247b-44d2-bd62-5136ea8866ff\",\"type\":\"Line\"},\"selection_glyph\":null},\"id\":\"8ca87e16-ef66-4d34-8274-9d9adb085920\",\"type\":\"GlyphRenderer\"},{\"attributes\":{\"use_scientific\":false},\"id\":\"8fddd3e0-3fdf-48e0-b8f6-804cc9f0a611\",\"type\":\"BasicTickFormatter\"},{\"attributes\":{\"fill_alpha\":{\"value\":0.1},\"fill_color\":{\"value\":\"#1f77b4\"},\"line_alpha\":{\"value\":0.1},\"line_color\":{\"value\":\"#1f77b4\"},\"x\":{\"field\":\"x\"},\"y\":{\"field\":\"y\"}},\"id\":\"57ff92ca-d510-4c0a-8474-b98f0c220b7a\",\"type\":\"Circle\"},{\"attributes\":{\"callback\":null,\"column_names\":[\"y\",\"x\"],\"data\":{\"x\":[1991,2001,2010,2017,2019,2029,2039],\"y\":[1527,1981,2228,2442,2507,2858,3258]}},\"id\":\"a7bdc106-5b7c-4e8d-9260-decf677716b5\",\"type\":\"ColumnDataSource\"},{\"attributes\":{\"data_source\":{\"id\":\"47150786-a242-476f-9a21-a7d3d9d3eac5\",\"type\":\"ColumnDataSource\"},\"glyph\":{\"id\":\"28de7f7b-55c4-48e1-813f-d344eece98c3\",\"type\":\"Circle\"},\"hover_glyph\":null,\"nonselection_glyph\":{\"id\":\"1cd1f634-abfc-42ad-9db5-bf6abdc2f6a1\",\"type\":\"Circle\"},\"selection_glyph\":null},\"id\":\"38a0143d-761a-4900-8d37-7bee294e530f\",\"type\":\"GlyphRenderer\"}],\"root_ids\":[\"8e1f4443-d290-4707-87cf-6dc05432cfcd\"]},\"title\":\"Bokeh Application\",\"version\":\"0.12.0\"}};\n",
       "            var render_items = [{\"docid\":\"d6ba42f3-a196-431c-bc63-a9bb8394ef8c\",\"elementid\":\"15cf4d9b-e224-48ed-b24f-529604a4d010\",\"modelid\":\"8e1f4443-d290-4707-87cf-6dc05432cfcd\",\"notebook_comms_target\":\"3978e5e7-e075-45a7-8de7-0743aa5ba258\"}];\n",
       "            \n",
       "            Bokeh.embed.embed_items(docs_json, render_items);\n",
       "        });\n",
       "      },\n",
       "      function(Bokeh) {\n",
       "      }\n",
       "    ];\n",
       "  \n",
       "    function run_inline_js() {\n",
       "      for (var i = 0; i < inline_js.length; i++) {\n",
       "        inline_js[i](window.Bokeh);\n",
       "      }\n",
       "    }\n",
       "  \n",
       "    if (window._bokeh_is_loading === 0) {\n",
       "      console.log(\"Bokeh: BokehJS loaded, going straight to plotting\");\n",
       "      run_inline_js();\n",
       "    } else {\n",
       "      load_libs(js_urls, function() {\n",
       "        console.log(\"Bokeh: BokehJS plotting callback run at\", now());\n",
       "        run_inline_js();\n",
       "      });\n",
       "    }\n",
       "  }(this));\n",
       "</script>"
      ]
     },
     "metadata": {},
     "output_type": "display_data"
    },
    {
     "data": {
      "text/html": [
       "<p><code>&lt;Bokeh Notebook handle for <strong>In[7]</strong>&gt;</code></p>"
      ],
      "text/plain": [
       "<bokeh.io._CommsHandle at 0xaf44f06c>"
      ]
     },
     "execution_count": 7,
     "metadata": {},
     "output_type": "execute_result"
    }
   ],
   "source": [
    "x = tiempo\n",
    "ciudades=[\"Comodoro Rivadavia\",\"Trelew\",\"Puerto Madryn\",\"Esquel\",\"Sarmiento\",\"Rawson\",\"Dolavon\",\"Gaiman\",\"Gobernador Costa\",\"Cholila\",\"Camarones\",\"Paso de Indios\",\"Paso del Sapo\"]\n",
    "colores=[\"red\",\"orange\",\"blue\",\"green\",\"yellow\",\"pink\",\"navy\",\"firebrick\",\"cyan\",\"magenta\",\"olive\",\"#164c71\",\"#7c1b65\"]\n",
    "\n",
    "p = figure(title=\"Población - Proyección Geométrica\",plot_width=900)\n",
    "p.title.align = \"center\"\n",
    "p.title.text_color = \"blue\"\n",
    "p.title.text_font = \"times\"\n",
    "p.title.text_font_style = \"italic\"\n",
    "p.title.text_font_size = \"20px\"\n",
    "\n",
    "p.left[0].formatter.use_scientific = False\n",
    "\n",
    "for i in range(len(ciudades)):\n",
    "    p.circle(x, proyecciones[i], legend=ciudades[i],fill_color=colores[i],line_color=colores[i])\n",
    "    p.line(x, proyecciones[i], legend=ciudades[i],line_color=colores[i], line_width=2)\n",
    "\n",
    "p.xaxis.axis_label = 'Tiempo'\n",
    "p.yaxis.axis_label = 'Población'\n",
    "\n",
    "show(p)"
   ]
  }
 ],
 "metadata": {
  "anaconda-cloud": {},
  "kernelspec": {
   "display_name": "Python [Root]",
   "language": "python",
   "name": "Python [Root]"
  },
  "language_info": {
   "codemirror_mode": {
    "name": "ipython",
    "version": 3
   },
   "file_extension": ".py",
   "mimetype": "text/x-python",
   "name": "python",
   "nbconvert_exporter": "python",
   "pygments_lexer": "ipython3",
   "version": "3.5.2"
  }
 },
 "nbformat": 4,
 "nbformat_minor": 2
}
