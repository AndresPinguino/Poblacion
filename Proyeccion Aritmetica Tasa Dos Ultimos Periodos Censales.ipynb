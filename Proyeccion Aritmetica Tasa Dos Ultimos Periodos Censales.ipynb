{
 "cells": [
  {
   "cell_type": "code",
   "execution_count": 1,
   "metadata": {
    "collapsed": false
   },
   "outputs": [
    {
     "data": {
      "text/html": [
       "<script>\n",
       "code_show=true; \n",
       "function code_toggle() {\n",
       " if (code_show){\n",
       " $('div.input').hide();\n",
       " } else {\n",
       " $('div.input').show();\n",
       " }\n",
       " code_show = !code_show\n",
       "} \n",
       "$( document ).ready(code_toggle);\n",
       "</script>\n",
       "<form action=\"javascript:code_toggle()\"><input type=\"submit\" value=\"Click aquí para ver el código.\"></form>"
      ],
      "text/plain": [
       "<IPython.core.display.HTML object>"
      ]
     },
     "execution_count": 1,
     "metadata": {},
     "output_type": "execute_result"
    }
   ],
   "source": [
    "from IPython.display import HTML\n",
    "\n",
    "HTML('''<script>\n",
    "code_show=true; \n",
    "function code_toggle() {\n",
    " if (code_show){\n",
    " $('div.input').hide();\n",
    " } else {\n",
    " $('div.input').show();\n",
    " }\n",
    " code_show = !code_show\n",
    "} \n",
    "$( document ).ready(code_toggle);\n",
    "</script>\n",
    "<form action=\"javascript:code_toggle()\"><input type=\"submit\" value=\"Click aquí para ver el código.\"></form>''')"
   ]
  },
  {
   "cell_type": "code",
   "execution_count": 2,
   "metadata": {
    "collapsed": false
   },
   "outputs": [
    {
     "data": {
      "text/html": [
       "<p align=\"center\"> <font size=\"5\" color=\"#0404B4\" face=\"sans-serif\"> <b> Proyección Aritmética Tasa Dos Últimos Períodos Censales <b> </font> </p>"
      ],
      "text/plain": [
       "<IPython.core.display.HTML object>"
      ]
     },
     "execution_count": 2,
     "metadata": {},
     "output_type": "execute_result"
    }
   ],
   "source": [
    "HTML(\"\"\"<p align=\"center\"> <font size=\"5\" color=\"#0404B4\" face=\"sans-serif\"> <b> Proyección Aritmética Tasa Dos Últimos Períodos Censales <b> </font> </p>\"\"\")"
   ]
  },
  {
   "cell_type": "markdown",
   "metadata": {},
   "source": [
    "# # Entrada de valores de los tres últimos censos"
   ]
  },
  {
   "cell_type": "code",
   "execution_count": 3,
   "metadata": {
    "collapsed": true
   },
   "outputs": [],
   "source": [
    "censos = [1991,2001,2010]\n",
    "\n",
    "poblacion0 = [125725,137061,177083] # Comodoro Rivadavia\n",
    "poblacion1 = [79340,89547,99430] # Trelew\n",
    "poblacion2 = [45047,57791,81995] # Puerto Madryn\n",
    "poblacion3 = [23411,28486,32758] # Esquel\n",
    "poblacion4 = [7209,8292,11124] # Sarmiento\n",
    "poblacion5 = [20674,26183,31787] # Rawson\n",
    "poblacion6 = [2613,2929,3307] # Dolavon\n",
    "poblacion7 = [4642,5753,6627] # Gaiman\n",
    "poblacion8 = [1913,2185,2374] # Gobernador Costa\n",
    "poblacion9 = [1527,1981,2228] # Cholila\n",
    "poblacion10 = [868,1079,1296] # Camarones\n",
    "poblacion11 = [864,1087,1264] # Paso de Indios\n",
    "poblacion12 = [322,384,396] # Paso del sapo\n",
    "poblaciones = [poblacion0, poblacion1, poblacion2, poblacion3, poblacion4, poblacion5, poblacion6, poblacion7, poblacion8, poblacion9, poblacion10, poblacion11, poblacion12]\n",
    "\n",
    "año_actual= 2017"
   ]
  },
  {
   "cell_type": "markdown",
   "metadata": {},
   "source": [
    "# # Armamos una lista de \"tiempos\""
   ]
  },
  {
   "cell_type": "code",
   "execution_count": 4,
   "metadata": {
    "collapsed": true
   },
   "outputs": [],
   "source": [
    "tiempo = [0] * 7\n",
    "for i in range(len(censos)):\n",
    "    tiempo[i] = censos[i]\n",
    "\n",
    "tiempo[3]=año_actual\n",
    "tiempo[4]=tiempo[3]+2\n",
    "tiempo[5]=tiempo[4]+10\n",
    "tiempo[6]=tiempo[5]+10"
   ]
  },
  {
   "cell_type": "markdown",
   "metadata": {},
   "source": [
    "# # Resolvemos el método devolviendo una lista de \"datos\""
   ]
  },
  {
   "cell_type": "code",
   "execution_count": 5,
   "metadata": {
    "collapsed": false
   },
   "outputs": [],
   "source": [
    "def metodo_proyeccion_aritmetica_tasa_dos_ultimos_periodos_censales(poblacion, tiempo):\n",
    "\n",
    "    datos = [0] * 7\n",
    "    for i in range(len(poblacion)):\n",
    "        datos[i] = poblacion[i]\n",
    "\n",
    "\n",
    "    ka1=(datos[2]-datos[1])/(tiempo[2]-tiempo[1])\n",
    "    ka1=round(ka1,4)\n",
    "    \n",
    "    ka2=(datos[1]-datos[0])/(tiempo[1]-tiempo[0])\n",
    "    ka2=round(ka2,4)\n",
    "    \n",
    "    ka=(ka1+ka2)/2\n",
    "    ka=round(ka,4)\n",
    "    \n",
    "    Pa=datos[2]+ka*(tiempo[3]-tiempo[2])\n",
    "    Pa=round(Pa,0)\n",
    "    Pa=int(Pa)\n",
    "\n",
    "\n",
    "    P0=Pa+ka*(tiempo[4]-tiempo[3])\n",
    "    P0=round(P0,0)\n",
    "    P0=int(P0)\n",
    "\n",
    "\n",
    "    P10=P0+ka*(tiempo[5]-tiempo[4])\n",
    "    P10=round(P10,0)\n",
    "    P10=int(P10)\n",
    "\n",
    "\n",
    "    P20=P10+ka*(tiempo[6]-tiempo[5])\n",
    "    P20=round(P20,0)\n",
    "    P20=int(P20)\n",
    "\n",
    "\n",
    "    datos[3]=Pa\n",
    "    datos[4]=P0\n",
    "    datos[5]=P10\n",
    "    datos[6]=P20\n",
    "\n",
    "    return datos"
   ]
  },
  {
   "cell_type": "markdown",
   "metadata": {},
   "source": [
    "# # Mostramos las listas de \"tiempo\" y \"proyecciones\" para cada \"poblacion\""
   ]
  },
  {
   "cell_type": "code",
   "execution_count": 6,
   "metadata": {
    "collapsed": false,
    "scrolled": true
   },
   "outputs": [],
   "source": [
    "proyecciones = [0] * len(poblaciones)\n",
    "\n",
    "for i in range(len(poblaciones)):\n",
    "    proyecciones[i] = metodo_proyeccion_aritmetica_tasa_dos_ultimos_periodos_censales(poblaciones[i], tiempo)\n",
    "    #print (proyecciones[i])\n"
   ]
  },
  {
   "cell_type": "markdown",
   "metadata": {},
   "source": [
    "# # Armamos una tabla para mostrar los resultados"
   ]
  },
  {
   "cell_type": "code",
   "execution_count": 7,
   "metadata": {
    "collapsed": true
   },
   "outputs": [],
   "source": [
    "tabla = proyecciones\n",
    "tabla.reverse()\n",
    "tabla.append(tiempo)\n",
    "tabla.reverse()"
   ]
  },
  {
   "cell_type": "code",
   "execution_count": 8,
   "metadata": {
    "collapsed": true
   },
   "outputs": [],
   "source": [
    "ciudades=[\"Ciudades\",\"Comodoro Rivadavia\",\"Trelew\",\"Puerto Madryn\",\"Esquel\",\"Sarmiento\",\"Rawson\",\"Dolavon\",\"Gaiman\",\"Gobernador Costa\",\"Cholila\",\"Camarones\",\"Paso de Indios\",\"Paso del Sapo\"]"
   ]
  },
  {
   "cell_type": "code",
   "execution_count": 9,
   "metadata": {
    "collapsed": true
   },
   "outputs": [],
   "source": [
    "for i in range(len(ciudades)):\n",
    "    tabla[i].insert(0, ciudades[i])"
   ]
  },
  {
   "cell_type": "code",
   "execution_count": 10,
   "metadata": {
    "collapsed": false
   },
   "outputs": [
    {
     "data": {
      "text/html": [
       "<table><tr><td>Ciudades</td><td>1991</td><td>2001</td><td>2010</td><td>2017</td><td>2019</td><td>2029</td><td>2039</td></tr><tr><td>Comodoro Rivadavia</td><td>125725</td><td>137061</td><td>177083</td><td>196615</td><td>202195</td><td>230097</td><td>257999</td></tr><tr><td>Trelew</td><td>79340</td><td>89547</td><td>99430</td><td>106846</td><td>108965</td><td>119559</td><td>130153</td></tr><tr><td>Puerto Madryn</td><td>45047</td><td>57791</td><td>81995</td><td>95868</td><td>99832</td><td>119651</td><td>139470</td></tr><tr><td>Esquel</td><td>23411</td><td>28486</td><td>32758</td><td>36196</td><td>37178</td><td>42089</td><td>47000</td></tr><tr><td>Sarmiento</td><td>7209</td><td>8292</td><td>11124</td><td>12604</td><td>13027</td><td>15142</td><td>17257</td></tr><tr><td>Rawson</td><td>20674</td><td>26183</td><td>31787</td><td>35894</td><td>37068</td><td>42936</td><td>48804</td></tr><tr><td>Dolavon</td><td>2613</td><td>2929</td><td>3307</td><td>3565</td><td>3639</td><td>4007</td><td>4375</td></tr><tr><td>Gaiman</td><td>4642</td><td>5753</td><td>6627</td><td>7356</td><td>7564</td><td>8605</td><td>9646</td></tr><tr><td>Gobernador Costa</td><td>1913</td><td>2185</td><td>2374</td><td>2543</td><td>2591</td><td>2832</td><td>3073</td></tr><tr><td>Cholila</td><td>1527</td><td>1981</td><td>2228</td><td>2483</td><td>2556</td><td>2920</td><td>3284</td></tr><tr><td>Camarones</td><td>868</td><td>1079</td><td>1296</td><td>1454</td><td>1499</td><td>1725</td><td>1951</td></tr><tr><td>Paso de Indios</td><td>864</td><td>1087</td><td>1264</td><td>1411</td><td>1453</td><td>1663</td><td>1873</td></tr><tr><td>Paso del Sapo</td><td>322</td><td>384</td><td>396</td><td>422</td><td>430</td><td>468</td><td>506</td></tr></table>"
      ],
      "text/plain": [
       "<IPython.core.display.HTML object>"
      ]
     },
     "metadata": {},
     "output_type": "display_data"
    }
   ],
   "source": [
    "from IPython.display import HTML, display\n",
    "\n",
    "display(HTML(\n",
    "    '<table><tr>{}</tr></table>'.format(\n",
    "        '</tr><tr>'.join(\n",
    "            '<td>{}</td>'.format('</td><td>'.join(str(_) for _ in row)) for row in tabla)\n",
    "        )\n",
    " ))"
   ]
  },
  {
   "cell_type": "markdown",
   "metadata": {},
   "source": [
    "# # Importamos librerias para graficar"
   ]
  },
  {
   "cell_type": "code",
   "execution_count": 11,
   "metadata": {
    "collapsed": false
   },
   "outputs": [
    {
     "data": {
      "text/html": [
       "\n",
       "    <div class=\"bk-root\">\n",
       "        <a href=\"http://bokeh.pydata.org\" target=\"_blank\" class=\"bk-logo bk-logo-small bk-logo-notebook\"></a>\n",
       "        <span id=\"af259507-ac74-4aaf-8825-74fafc1591aa\">Loading BokehJS ...</span>\n",
       "    </div>"
      ]
     },
     "metadata": {},
     "output_type": "display_data"
    },
    {
     "data": {
      "application/javascript": [
       "\n",
       "(function(global) {\n",
       "  function now() {\n",
       "    return new Date();\n",
       "  }\n",
       "\n",
       "  if (typeof (window._bokeh_onload_callbacks) === \"undefined\") {\n",
       "    window._bokeh_onload_callbacks = [];\n",
       "  }\n",
       "\n",
       "  function run_callbacks() {\n",
       "    window._bokeh_onload_callbacks.forEach(function(callback) { callback() });\n",
       "    delete window._bokeh_onload_callbacks\n",
       "    console.info(\"Bokeh: all callbacks have finished\");\n",
       "  }\n",
       "\n",
       "  function load_libs(js_urls, callback) {\n",
       "    window._bokeh_onload_callbacks.push(callback);\n",
       "    if (window._bokeh_is_loading > 0) {\n",
       "      console.log(\"Bokeh: BokehJS is being loaded, scheduling callback at\", now());\n",
       "      return null;\n",
       "    }\n",
       "    if (js_urls == null || js_urls.length === 0) {\n",
       "      run_callbacks();\n",
       "      return null;\n",
       "    }\n",
       "    console.log(\"Bokeh: BokehJS not loaded, scheduling load and callback at\", now());\n",
       "    window._bokeh_is_loading = js_urls.length;\n",
       "    for (var i = 0; i < js_urls.length; i++) {\n",
       "      var url = js_urls[i];\n",
       "      var s = document.createElement('script');\n",
       "      s.src = url;\n",
       "      s.async = false;\n",
       "      s.onreadystatechange = s.onload = function() {\n",
       "        window._bokeh_is_loading--;\n",
       "        if (window._bokeh_is_loading === 0) {\n",
       "          console.log(\"Bokeh: all BokehJS libraries loaded\");\n",
       "          run_callbacks()\n",
       "        }\n",
       "      };\n",
       "      s.onerror = function() {\n",
       "        console.warn(\"failed to load library \" + url);\n",
       "      };\n",
       "      console.log(\"Bokeh: injecting script tag for BokehJS library: \", url);\n",
       "      document.getElementsByTagName(\"head\")[0].appendChild(s);\n",
       "    }\n",
       "  };\n",
       "\n",
       "  var js_urls = ['https://cdn.pydata.org/bokeh/release/bokeh-0.12.0.min.js', 'https://cdn.pydata.org/bokeh/release/bokeh-widgets-0.12.0.min.js', 'https://cdn.pydata.org/bokeh/release/bokeh-compiler-0.12.0.min.js'];\n",
       "\n",
       "  var inline_js = [\n",
       "    function(Bokeh) {\n",
       "      Bokeh.set_log_level(\"info\");\n",
       "    },\n",
       "    \n",
       "    function(Bokeh) {\n",
       "      Bokeh.$(\"#af259507-ac74-4aaf-8825-74fafc1591aa\").text(\"BokehJS successfully loaded\");\n",
       "    },\n",
       "    function(Bokeh) {\n",
       "      console.log(\"Bokeh: injecting CSS: https://cdn.pydata.org/bokeh/release/bokeh-0.12.0.min.css\");\n",
       "      Bokeh.embed.inject_css(\"https://cdn.pydata.org/bokeh/release/bokeh-0.12.0.min.css\");\n",
       "      console.log(\"Bokeh: injecting CSS: https://cdn.pydata.org/bokeh/release/bokeh-widgets-0.12.0.min.css\");\n",
       "      Bokeh.embed.inject_css(\"https://cdn.pydata.org/bokeh/release/bokeh-widgets-0.12.0.min.css\");\n",
       "    }\n",
       "  ];\n",
       "\n",
       "  function run_inline_js() {\n",
       "    for (var i = 0; i < inline_js.length; i++) {\n",
       "      inline_js[i](window.Bokeh);\n",
       "    }\n",
       "  }\n",
       "\n",
       "  if (window._bokeh_is_loading === 0) {\n",
       "    console.log(\"Bokeh: BokehJS loaded, going straight to plotting\");\n",
       "    run_inline_js();\n",
       "  } else {\n",
       "    load_libs(js_urls, function() {\n",
       "      console.log(\"Bokeh: BokehJS plotting callback run at\", now());\n",
       "      run_inline_js();\n",
       "    });\n",
       "  }\n",
       "}(this));"
      ]
     },
     "metadata": {},
     "output_type": "display_data"
    }
   ],
   "source": [
    "from bokeh.io import push_notebook, show, output_notebook\n",
    "from bokeh.plotting import figure\n",
    "output_notebook()"
   ]
  },
  {
   "cell_type": "markdown",
   "metadata": {},
   "source": [
    "# # Definimos estilos para usar en los gráficos"
   ]
  },
  {
   "cell_type": "code",
   "execution_count": 12,
   "metadata": {
    "collapsed": false
   },
   "outputs": [
    {
     "data": {
      "text/html": [
       "\n",
       "\n",
       "    <div class=\"bk-root\">\n",
       "        <div class=\"plotdiv\" id=\"79338ab0-b91b-4e94-b11f-aa062e7a8e58\"></div>\n",
       "    </div>\n",
       "<script type=\"text/javascript\">\n",
       "  \n",
       "  (function(global) {\n",
       "    function now() {\n",
       "      return new Date();\n",
       "    }\n",
       "  \n",
       "    if (typeof (window._bokeh_onload_callbacks) === \"undefined\") {\n",
       "      window._bokeh_onload_callbacks = [];\n",
       "    }\n",
       "  \n",
       "    function run_callbacks() {\n",
       "      window._bokeh_onload_callbacks.forEach(function(callback) { callback() });\n",
       "      delete window._bokeh_onload_callbacks\n",
       "      console.info(\"Bokeh: all callbacks have finished\");\n",
       "    }\n",
       "  \n",
       "    function load_libs(js_urls, callback) {\n",
       "      window._bokeh_onload_callbacks.push(callback);\n",
       "      if (window._bokeh_is_loading > 0) {\n",
       "        console.log(\"Bokeh: BokehJS is being loaded, scheduling callback at\", now());\n",
       "        return null;\n",
       "      }\n",
       "      if (js_urls == null || js_urls.length === 0) {\n",
       "        run_callbacks();\n",
       "        return null;\n",
       "      }\n",
       "      console.log(\"Bokeh: BokehJS not loaded, scheduling load and callback at\", now());\n",
       "      window._bokeh_is_loading = js_urls.length;\n",
       "      for (var i = 0; i < js_urls.length; i++) {\n",
       "        var url = js_urls[i];\n",
       "        var s = document.createElement('script');\n",
       "        s.src = url;\n",
       "        s.async = false;\n",
       "        s.onreadystatechange = s.onload = function() {\n",
       "          window._bokeh_is_loading--;\n",
       "          if (window._bokeh_is_loading === 0) {\n",
       "            console.log(\"Bokeh: all BokehJS libraries loaded\");\n",
       "            run_callbacks()\n",
       "          }\n",
       "        };\n",
       "        s.onerror = function() {\n",
       "          console.warn(\"failed to load library \" + url);\n",
       "        };\n",
       "        console.log(\"Bokeh: injecting script tag for BokehJS library: \", url);\n",
       "        document.getElementsByTagName(\"head\")[0].appendChild(s);\n",
       "      }\n",
       "    };var element = document.getElementById(\"79338ab0-b91b-4e94-b11f-aa062e7a8e58\");\n",
       "    if (element == null) {\n",
       "      console.log(\"Bokeh: ERROR: autoload.js configured with elementid '79338ab0-b91b-4e94-b11f-aa062e7a8e58' but no matching script tag was found. \")\n",
       "      return false;\n",
       "    }\n",
       "  \n",
       "    var js_urls = [];\n",
       "  \n",
       "    var inline_js = [\n",
       "      function(Bokeh) {\n",
       "        Bokeh.$(function() {\n",
       "            var docs_json = {\"5adc43af-7846-49dd-b096-4d9d6a39e13f\":{\"roots\":{\"references\":[{\"attributes\":{\"line_color\":{\"value\":\"#7c1b65\"},\"line_width\":{\"value\":2},\"x\":{\"field\":\"x\"},\"y\":{\"field\":\"y\"}},\"id\":\"281944ed-8373-4946-8c4b-0d17d50657e4\",\"type\":\"Line\"},{\"attributes\":{\"fill_alpha\":{\"value\":0.1},\"fill_color\":{\"value\":\"#1f77b4\"},\"line_alpha\":{\"value\":0.1},\"line_color\":{\"value\":\"#1f77b4\"},\"x\":{\"field\":\"x\"},\"y\":{\"field\":\"y\"}},\"id\":\"ea2aff1b-0d78-4ac7-b6b7-92323d752fde\",\"type\":\"Circle\"},{\"attributes\":{\"fill_color\":{\"value\":\"orange\"},\"line_color\":{\"value\":\"orange\"},\"x\":{\"field\":\"x\"},\"y\":{\"field\":\"y\"}},\"id\":\"18bbd1bd-5ff6-40f2-875a-72bf879b414e\",\"type\":\"Circle\"},{\"attributes\":{\"data_source\":{\"id\":\"985be780-9006-492a-806e-95bd7e190f5f\",\"type\":\"ColumnDataSource\"},\"glyph\":{\"id\":\"dc2da629-a9fc-4c0c-8561-abbb769d87fc\",\"type\":\"Line\"},\"hover_glyph\":null,\"nonselection_glyph\":{\"id\":\"1fe4fba0-eb76-49d7-b79b-739e504f8359\",\"type\":\"Line\"},\"selection_glyph\":null},\"id\":\"438f6218-3602-467f-a504-dd34b177b8a8\",\"type\":\"GlyphRenderer\"},{\"attributes\":{\"fill_color\":{\"value\":\"green\"},\"line_color\":{\"value\":\"green\"},\"x\":{\"field\":\"x\"},\"y\":{\"field\":\"y\"}},\"id\":\"66c3af65-c392-43cb-a622-055436494066\",\"type\":\"Circle\"},{\"attributes\":{\"callback\":null,\"column_names\":[\"x\",\"y\"],\"data\":{\"x\":[\"Ciudades\",\"1991\",\"2001\",\"2010\",\"2017\",\"2019\",\"2029\",\"2039\"],\"y\":[\"Sarmiento\",\"7209\",\"8292\",\"11124\",\"12604\",\"13027\",\"15142\",\"17257\"]}},\"id\":\"fca77fa2-9556-4454-b6ff-0ccddfb46792\",\"type\":\"ColumnDataSource\"},{\"attributes\":{\"line_alpha\":{\"value\":0.1},\"line_color\":{\"value\":\"#1f77b4\"},\"line_width\":{\"value\":2},\"x\":{\"field\":\"x\"},\"y\":{\"field\":\"y\"}},\"id\":\"e35a103f-a52a-4280-8183-8d7782cc93c8\",\"type\":\"Line\"},{\"attributes\":{\"line_alpha\":{\"value\":0.1},\"line_color\":{\"value\":\"#1f77b4\"},\"line_width\":{\"value\":2},\"x\":{\"field\":\"x\"},\"y\":{\"field\":\"y\"}},\"id\":\"0f9abbd2-6d64-429a-9f0d-8da1243048ba\",\"type\":\"Line\"},{\"attributes\":{\"callback\":null,\"column_names\":[\"x\",\"y\"],\"data\":{\"x\":[\"Ciudades\",\"1991\",\"2001\",\"2010\",\"2017\",\"2019\",\"2029\",\"2039\"],\"y\":[\"Sarmiento\",\"7209\",\"8292\",\"11124\",\"12604\",\"13027\",\"15142\",\"17257\"]}},\"id\":\"e388fdb6-d47f-4516-b109-fa20971d358f\",\"type\":\"ColumnDataSource\"},{\"attributes\":{\"line_color\":{\"value\":\"green\"},\"line_width\":{\"value\":2},\"x\":{\"field\":\"x\"},\"y\":{\"field\":\"y\"}},\"id\":\"f86c550e-3519-4369-9a7d-4f51769cde81\",\"type\":\"Line\"},{\"attributes\":{\"fill_color\":{\"value\":\"cyan\"},\"line_color\":{\"value\":\"cyan\"},\"x\":{\"field\":\"x\"},\"y\":{\"field\":\"y\"}},\"id\":\"69007b92-08cd-4bbb-a475-eb7980cb051f\",\"type\":\"Circle\"},{\"attributes\":{\"line_color\":{\"value\":\"firebrick\"},\"line_width\":{\"value\":2},\"x\":{\"field\":\"x\"},\"y\":{\"field\":\"y\"}},\"id\":\"3c0aa3ba-b00c-4bfa-87ba-76f64c7c725c\",\"type\":\"Line\"},{\"attributes\":{\"callback\":null,\"column_names\":[\"x\",\"y\"],\"data\":{\"x\":[\"Ciudades\",\"1991\",\"2001\",\"2010\",\"2017\",\"2019\",\"2029\",\"2039\"],\"y\":[\"Dolavon\",\"2613\",\"2929\",\"3307\",\"3565\",\"3639\",\"4007\",\"4375\"]}},\"id\":\"3da2dbab-e3eb-4eda-b42f-c23992290889\",\"type\":\"ColumnDataSource\"},{\"attributes\":{\"fill_color\":{\"value\":\"firebrick\"},\"line_color\":{\"value\":\"firebrick\"},\"x\":{\"field\":\"x\"},\"y\":{\"field\":\"y\"}},\"id\":\"0c98225e-fefa-4a10-b615-5507948b5df3\",\"type\":\"Circle\"},{\"attributes\":{\"fill_alpha\":{\"value\":0.1},\"fill_color\":{\"value\":\"#1f77b4\"},\"line_alpha\":{\"value\":0.1},\"line_color\":{\"value\":\"#1f77b4\"},\"x\":{\"field\":\"x\"},\"y\":{\"field\":\"y\"}},\"id\":\"129a7deb-9208-496f-ad7c-6c0038edc6e6\",\"type\":\"Circle\"},{\"attributes\":{\"fill_color\":{\"value\":\"red\"},\"line_color\":{\"value\":\"red\"},\"x\":{\"field\":\"x\"},\"y\":{\"field\":\"y\"}},\"id\":\"e49b0e92-cc88-495e-aa59-970543972c16\",\"type\":\"Circle\"},{\"attributes\":{\"fill_alpha\":{\"value\":0.1},\"fill_color\":{\"value\":\"#1f77b4\"},\"line_alpha\":{\"value\":0.1},\"line_color\":{\"value\":\"#1f77b4\"},\"x\":{\"field\":\"x\"},\"y\":{\"field\":\"y\"}},\"id\":\"5719bc6e-3093-40c4-9fe7-b308a61fa446\",\"type\":\"Circle\"},{\"attributes\":{\"plot\":{\"id\":\"bccfd672-8efc-499c-bb4d-b98c8ca61ce8\",\"subtype\":\"Figure\",\"type\":\"Plot\"}},\"id\":\"2a85cf5e-e255-48a4-a897-e7b7bc8f390a\",\"type\":\"SaveTool\"},{\"attributes\":{\"fill_alpha\":{\"value\":0.1},\"fill_color\":{\"value\":\"#1f77b4\"},\"line_alpha\":{\"value\":0.1},\"line_color\":{\"value\":\"#1f77b4\"},\"x\":{\"field\":\"x\"},\"y\":{\"field\":\"y\"}},\"id\":\"01a82dcb-b65e-49fe-ad81-628b3f53ec0a\",\"type\":\"Circle\"},{\"attributes\":{\"callback\":null,\"column_names\":[\"x\",\"y\"],\"data\":{\"x\":[\"Ciudades\",\"1991\",\"2001\",\"2010\",\"2017\",\"2019\",\"2029\",\"2039\"],\"y\":[\"Gaiman\",\"4642\",\"5753\",\"6627\",\"7356\",\"7564\",\"8605\",\"9646\"]}},\"id\":\"3d344e92-a257-42e7-8985-b2243089aa01\",\"type\":\"ColumnDataSource\"},{\"attributes\":{\"plot\":{\"id\":\"bccfd672-8efc-499c-bb4d-b98c8ca61ce8\",\"subtype\":\"Figure\",\"type\":\"Plot\"}},\"id\":\"19848270-12d6-44f9-8e56-e3e8cca30128\",\"type\":\"PanTool\"},{\"attributes\":{\"callback\":null,\"column_names\":[\"x\",\"y\"],\"data\":{\"x\":[\"Ciudades\",\"1991\",\"2001\",\"2010\",\"2017\",\"2019\",\"2029\",\"2039\"],\"y\":[\"Comodoro Rivadavia\",\"125725\",\"137061\",\"177083\",\"196615\",\"202195\",\"230097\",\"257999\"]}},\"id\":\"6091ed84-c93a-4570-9618-49bc8a983aeb\",\"type\":\"ColumnDataSource\"},{\"attributes\":{\"fill_color\":{\"value\":\"olive\"},\"line_color\":{\"value\":\"olive\"},\"x\":{\"field\":\"x\"},\"y\":{\"field\":\"y\"}},\"id\":\"1ada3e12-9c49-4d1e-b0a3-7f7a11f79006\",\"type\":\"Circle\"},{\"attributes\":{},\"id\":\"c2644982-df6b-4b24-9177-d3a1bc7deb8b\",\"type\":\"BasicTickFormatter\"},{\"attributes\":{\"data_source\":{\"id\":\"b9ee7d07-2b89-470a-b045-149cfc349026\",\"type\":\"ColumnDataSource\"},\"glyph\":{\"id\":\"1ada3e12-9c49-4d1e-b0a3-7f7a11f79006\",\"type\":\"Circle\"},\"hover_glyph\":null,\"nonselection_glyph\":{\"id\":\"fdd1780d-1d25-4c30-89ae-e9412416d175\",\"type\":\"Circle\"},\"selection_glyph\":null},\"id\":\"736779eb-3313-470f-9142-c2e6480d4a2e\",\"type\":\"GlyphRenderer\"},{\"attributes\":{\"data_source\":{\"id\":\"2607b15a-fd30-44e9-bc59-5ad63a0ddd4c\",\"type\":\"ColumnDataSource\"},\"glyph\":{\"id\":\"3c0aa3ba-b00c-4bfa-87ba-76f64c7c725c\",\"type\":\"Line\"},\"hover_glyph\":null,\"nonselection_glyph\":{\"id\":\"e8f75ab5-c17d-4c76-8e1c-194db5dab355\",\"type\":\"Line\"},\"selection_glyph\":null},\"id\":\"6a95e4f8-5f74-4ed4-90fa-cf2a5696a142\",\"type\":\"GlyphRenderer\"},{\"attributes\":{\"dimension\":1,\"plot\":{\"id\":\"bccfd672-8efc-499c-bb4d-b98c8ca61ce8\",\"subtype\":\"Figure\",\"type\":\"Plot\"},\"ticker\":{\"id\":\"3e7ecb51-3f2e-4ed2-8437-ae3bda3b3f8a\",\"type\":\"BasicTicker\"}},\"id\":\"3d079c36-4748-4dd7-9dc0-3c47ab82ff8d\",\"type\":\"Grid\"},{\"attributes\":{\"line_alpha\":{\"value\":0.1},\"line_color\":{\"value\":\"#1f77b4\"},\"line_width\":{\"value\":2},\"x\":{\"field\":\"x\"},\"y\":{\"field\":\"y\"}},\"id\":\"f04eaa0a-81a0-4eac-954f-89bc379d2dba\",\"type\":\"Line\"},{\"attributes\":{\"data_source\":{\"id\":\"805db716-6da5-4d88-b068-15ca31b5f340\",\"type\":\"ColumnDataSource\"},\"glyph\":{\"id\":\"281944ed-8373-4946-8c4b-0d17d50657e4\",\"type\":\"Line\"},\"hover_glyph\":null,\"nonselection_glyph\":{\"id\":\"b2bf800d-646b-411c-bfde-685bb5b6e437\",\"type\":\"Line\"},\"selection_glyph\":null},\"id\":\"b2822a42-c71d-44d2-a97d-f4462043526e\",\"type\":\"GlyphRenderer\"},{\"attributes\":{\"plot\":{\"id\":\"bccfd672-8efc-499c-bb4d-b98c8ca61ce8\",\"subtype\":\"Figure\",\"type\":\"Plot\"},\"ticker\":{\"id\":\"4e5379f5-f0f1-4b22-ab26-0a379b7eb9ba\",\"type\":\"BasicTicker\"}},\"id\":\"88d575db-fecb-4ad9-bb67-8932bd4329dd\",\"type\":\"Grid\"},{\"attributes\":{\"line_alpha\":{\"value\":0.1},\"line_color\":{\"value\":\"#1f77b4\"},\"line_width\":{\"value\":2},\"x\":{\"field\":\"x\"},\"y\":{\"field\":\"y\"}},\"id\":\"0a389cd0-23fe-451e-bd86-0661828cca28\",\"type\":\"Line\"},{\"attributes\":{\"fill_alpha\":{\"value\":0.1},\"fill_color\":{\"value\":\"#1f77b4\"},\"line_alpha\":{\"value\":0.1},\"line_color\":{\"value\":\"#1f77b4\"},\"x\":{\"field\":\"x\"},\"y\":{\"field\":\"y\"}},\"id\":\"ccfab873-4dd5-4641-a29c-f0f39446cb61\",\"type\":\"Circle\"},{\"attributes\":{\"callback\":null,\"column_names\":[\"x\",\"y\"],\"data\":{\"x\":[\"Ciudades\",\"1991\",\"2001\",\"2010\",\"2017\",\"2019\",\"2029\",\"2039\"],\"y\":[\"Paso de Indios\",\"864\",\"1087\",\"1264\",\"1411\",\"1453\",\"1663\",\"1873\"]}},\"id\":\"805db716-6da5-4d88-b068-15ca31b5f340\",\"type\":\"ColumnDataSource\"},{\"attributes\":{\"callback\":null,\"column_names\":[\"x\",\"y\"],\"data\":{\"x\":[\"Ciudades\",\"1991\",\"2001\",\"2010\",\"2017\",\"2019\",\"2029\",\"2039\"],\"y\":[\"Camarones\",\"868\",\"1079\",\"1296\",\"1454\",\"1499\",\"1725\",\"1951\"]}},\"id\":\"bd52771c-8bf5-4e73-9716-f5d744a4303f\",\"type\":\"ColumnDataSource\"},{\"attributes\":{\"line_alpha\":{\"value\":0.1},\"line_color\":{\"value\":\"#1f77b4\"},\"line_width\":{\"value\":2},\"x\":{\"field\":\"x\"},\"y\":{\"field\":\"y\"}},\"id\":\"1fe4fba0-eb76-49d7-b79b-739e504f8359\",\"type\":\"Line\"},{\"attributes\":{\"callback\":null,\"column_names\":[\"x\",\"y\"],\"data\":{\"x\":[\"Ciudades\",\"1991\",\"2001\",\"2010\",\"2017\",\"2019\",\"2029\",\"2039\"],\"y\":[\"Dolavon\",\"2613\",\"2929\",\"3307\",\"3565\",\"3639\",\"4007\",\"4375\"]}},\"id\":\"2607b15a-fd30-44e9-bc59-5ad63a0ddd4c\",\"type\":\"ColumnDataSource\"},{\"attributes\":{\"callback\":null,\"column_names\":[\"x\",\"y\"],\"data\":{\"x\":[\"Ciudades\",\"1991\",\"2001\",\"2010\",\"2017\",\"2019\",\"2029\",\"2039\"],\"y\":[\"Esquel\",\"23411\",\"28486\",\"32758\",\"36196\",\"37178\",\"42089\",\"47000\"]}},\"id\":\"e7dc7bb9-0d00-4d67-891a-ddf59c914681\",\"type\":\"ColumnDataSource\"},{\"attributes\":{\"line_alpha\":{\"value\":0.1},\"line_color\":{\"value\":\"#1f77b4\"},\"line_width\":{\"value\":2},\"x\":{\"field\":\"x\"},\"y\":{\"field\":\"y\"}},\"id\":\"e8f75ab5-c17d-4c76-8e1c-194db5dab355\",\"type\":\"Line\"},{\"attributes\":{\"data_source\":{\"id\":\"378771ab-72ce-4877-bb60-2b60e4a897fa\",\"type\":\"ColumnDataSource\"},\"glyph\":{\"id\":\"5cc513a0-cbc0-4431-9d00-b76af8d2b7ce\",\"type\":\"Circle\"},\"hover_glyph\":null,\"nonselection_glyph\":{\"id\":\"791a732c-9617-41cc-8b90-7978908fe444\",\"type\":\"Circle\"},\"selection_glyph\":null},\"id\":\"cae7e02c-5c35-4944-b70b-3a7db29bf23a\",\"type\":\"GlyphRenderer\"},{\"attributes\":{\"use_scientific\":false},\"id\":\"725bb5ff-bf0f-4765-adb2-e8999d9194af\",\"type\":\"BasicTickFormatter\"},{\"attributes\":{\"legends\":[[\"Comodoro Rivadavia\",[{\"id\":\"a5f96858-9eac-4ee2-9036-88df0be2c77e\",\"type\":\"GlyphRenderer\"},{\"id\":\"31fb15a9-2f5f-4b5b-9710-ba386fc3a821\",\"type\":\"GlyphRenderer\"}]],[\"Trelew\",[{\"id\":\"fd89e95c-2e92-4993-8a4c-7753c3a7e566\",\"type\":\"GlyphRenderer\"},{\"id\":\"438f6218-3602-467f-a504-dd34b177b8a8\",\"type\":\"GlyphRenderer\"}]],[\"Puerto Madryn\",[{\"id\":\"cae7e02c-5c35-4944-b70b-3a7db29bf23a\",\"type\":\"GlyphRenderer\"},{\"id\":\"2bb8ff81-6343-443a-969c-1436f21f1cde\",\"type\":\"GlyphRenderer\"}]],[\"Esquel\",[{\"id\":\"1e805a83-0d46-478c-a017-c5715e355525\",\"type\":\"GlyphRenderer\"},{\"id\":\"933b3e54-bb19-4a2f-91d4-0a65481be41a\",\"type\":\"GlyphRenderer\"}]],[\"Sarmiento\",[{\"id\":\"6cf5a7d7-175b-499d-aa2b-7a2fb4982abd\",\"type\":\"GlyphRenderer\"},{\"id\":\"5f3125cf-27ac-4494-80e5-974d3238277b\",\"type\":\"GlyphRenderer\"}]],[\"Rawson\",[{\"id\":\"bbc09f79-e8fd-4855-a9f1-72966e64d128\",\"type\":\"GlyphRenderer\"},{\"id\":\"a3c88be0-ddb1-422b-8e47-dab819e22ba6\",\"type\":\"GlyphRenderer\"}]],[\"Dolavon\",[{\"id\":\"326f7928-a702-4ca1-a6e7-75a8a53953eb\",\"type\":\"GlyphRenderer\"},{\"id\":\"7097ea74-7db9-43a5-9549-346852419fc7\",\"type\":\"GlyphRenderer\"}]],[\"Gaiman\",[{\"id\":\"fb4ca8ba-73bc-4ac9-bfcd-87b0f9db57d5\",\"type\":\"GlyphRenderer\"},{\"id\":\"6a95e4f8-5f74-4ed4-90fa-cf2a5696a142\",\"type\":\"GlyphRenderer\"}]],[\"Gobernador Costa\",[{\"id\":\"3e037716-14d1-4500-b855-fd1ef838738a\",\"type\":\"GlyphRenderer\"},{\"id\":\"90ca28c5-b125-4e93-b52f-63f80df65896\",\"type\":\"GlyphRenderer\"}]],[\"Cholila\",[{\"id\":\"0f34e7b9-bae8-4c64-85c2-cd119a2e7435\",\"type\":\"GlyphRenderer\"},{\"id\":\"ecb59215-5068-4bb5-8948-b65f570c603e\",\"type\":\"GlyphRenderer\"}]],[\"Camarones\",[{\"id\":\"736779eb-3313-470f-9142-c2e6480d4a2e\",\"type\":\"GlyphRenderer\"},{\"id\":\"a952100d-8f77-4159-a547-cb224d3bd3f4\",\"type\":\"GlyphRenderer\"}]],[\"Paso de Indios\",[{\"id\":\"83ed0d82-a021-4fbd-83ba-eebe79d9ffd6\",\"type\":\"GlyphRenderer\"},{\"id\":\"5f48a31a-6198-403e-936b-82180a95ad55\",\"type\":\"GlyphRenderer\"}]],[\"Paso del Sapo\",[{\"id\":\"48c9a18d-c693-4277-a761-f0a76f6c3e06\",\"type\":\"GlyphRenderer\"},{\"id\":\"b2822a42-c71d-44d2-a97d-f4462043526e\",\"type\":\"GlyphRenderer\"}]]],\"plot\":{\"id\":\"bccfd672-8efc-499c-bb4d-b98c8ca61ce8\",\"subtype\":\"Figure\",\"type\":\"Plot\"}},\"id\":\"8589b730-24a0-442d-9a3d-2b94aff6de8b\",\"type\":\"Legend\"},{\"attributes\":{\"bottom_units\":\"screen\",\"fill_alpha\":{\"value\":0.5},\"fill_color\":{\"value\":\"lightgrey\"},\"left_units\":\"screen\",\"level\":\"overlay\",\"line_alpha\":{\"value\":1.0},\"line_color\":{\"value\":\"black\"},\"line_dash\":[4,4],\"line_width\":{\"value\":2},\"plot\":null,\"render_mode\":\"css\",\"right_units\":\"screen\",\"top_units\":\"screen\"},\"id\":\"a2b941a9-a183-4575-93f7-7bd9d475aa43\",\"type\":\"BoxAnnotation\"},{\"attributes\":{\"callback\":null},\"id\":\"ee788f84-8089-40a3-bbba-626e90133b12\",\"type\":\"DataRange1d\"},{\"attributes\":{\"below\":[{\"id\":\"8dd80c22-6637-4594-86d6-cfb3a2ee51cf\",\"type\":\"LinearAxis\"}],\"left\":[{\"id\":\"1d2636ba-e2da-4ff8-86de-ccbac0f69035\",\"type\":\"LinearAxis\"}],\"plot_width\":900,\"renderers\":[{\"id\":\"8dd80c22-6637-4594-86d6-cfb3a2ee51cf\",\"type\":\"LinearAxis\"},{\"id\":\"88d575db-fecb-4ad9-bb67-8932bd4329dd\",\"type\":\"Grid\"},{\"id\":\"1d2636ba-e2da-4ff8-86de-ccbac0f69035\",\"type\":\"LinearAxis\"},{\"id\":\"3d079c36-4748-4dd7-9dc0-3c47ab82ff8d\",\"type\":\"Grid\"},{\"id\":\"a2b941a9-a183-4575-93f7-7bd9d475aa43\",\"type\":\"BoxAnnotation\"},{\"id\":\"8589b730-24a0-442d-9a3d-2b94aff6de8b\",\"type\":\"Legend\"},{\"id\":\"a5f96858-9eac-4ee2-9036-88df0be2c77e\",\"type\":\"GlyphRenderer\"},{\"id\":\"31fb15a9-2f5f-4b5b-9710-ba386fc3a821\",\"type\":\"GlyphRenderer\"},{\"id\":\"fd89e95c-2e92-4993-8a4c-7753c3a7e566\",\"type\":\"GlyphRenderer\"},{\"id\":\"438f6218-3602-467f-a504-dd34b177b8a8\",\"type\":\"GlyphRenderer\"},{\"id\":\"cae7e02c-5c35-4944-b70b-3a7db29bf23a\",\"type\":\"GlyphRenderer\"},{\"id\":\"2bb8ff81-6343-443a-969c-1436f21f1cde\",\"type\":\"GlyphRenderer\"},{\"id\":\"1e805a83-0d46-478c-a017-c5715e355525\",\"type\":\"GlyphRenderer\"},{\"id\":\"933b3e54-bb19-4a2f-91d4-0a65481be41a\",\"type\":\"GlyphRenderer\"},{\"id\":\"6cf5a7d7-175b-499d-aa2b-7a2fb4982abd\",\"type\":\"GlyphRenderer\"},{\"id\":\"5f3125cf-27ac-4494-80e5-974d3238277b\",\"type\":\"GlyphRenderer\"},{\"id\":\"bbc09f79-e8fd-4855-a9f1-72966e64d128\",\"type\":\"GlyphRenderer\"},{\"id\":\"a3c88be0-ddb1-422b-8e47-dab819e22ba6\",\"type\":\"GlyphRenderer\"},{\"id\":\"326f7928-a702-4ca1-a6e7-75a8a53953eb\",\"type\":\"GlyphRenderer\"},{\"id\":\"7097ea74-7db9-43a5-9549-346852419fc7\",\"type\":\"GlyphRenderer\"},{\"id\":\"fb4ca8ba-73bc-4ac9-bfcd-87b0f9db57d5\",\"type\":\"GlyphRenderer\"},{\"id\":\"6a95e4f8-5f74-4ed4-90fa-cf2a5696a142\",\"type\":\"GlyphRenderer\"},{\"id\":\"3e037716-14d1-4500-b855-fd1ef838738a\",\"type\":\"GlyphRenderer\"},{\"id\":\"90ca28c5-b125-4e93-b52f-63f80df65896\",\"type\":\"GlyphRenderer\"},{\"id\":\"0f34e7b9-bae8-4c64-85c2-cd119a2e7435\",\"type\":\"GlyphRenderer\"},{\"id\":\"ecb59215-5068-4bb5-8948-b65f570c603e\",\"type\":\"GlyphRenderer\"},{\"id\":\"736779eb-3313-470f-9142-c2e6480d4a2e\",\"type\":\"GlyphRenderer\"},{\"id\":\"a952100d-8f77-4159-a547-cb224d3bd3f4\",\"type\":\"GlyphRenderer\"},{\"id\":\"83ed0d82-a021-4fbd-83ba-eebe79d9ffd6\",\"type\":\"GlyphRenderer\"},{\"id\":\"5f48a31a-6198-403e-936b-82180a95ad55\",\"type\":\"GlyphRenderer\"},{\"id\":\"48c9a18d-c693-4277-a761-f0a76f6c3e06\",\"type\":\"GlyphRenderer\"},{\"id\":\"b2822a42-c71d-44d2-a97d-f4462043526e\",\"type\":\"GlyphRenderer\"}],\"title\":{\"id\":\"8b6669eb-1ae5-428e-8388-1f482a820c3e\",\"type\":\"Title\"},\"tool_events\":{\"id\":\"5d84c4ce-4a69-4053-a864-cbcf9ee4f578\",\"type\":\"ToolEvents\"},\"toolbar\":{\"id\":\"f2753109-6530-49bf-91e6-41abb5553f2b\",\"type\":\"Toolbar\"},\"x_range\":{\"id\":\"4294ef5a-8ea0-4d6f-adf8-e0ee08c6b07b\",\"type\":\"DataRange1d\"},\"y_range\":{\"id\":\"ee788f84-8089-40a3-bbba-626e90133b12\",\"type\":\"DataRange1d\"}},\"id\":\"bccfd672-8efc-499c-bb4d-b98c8ca61ce8\",\"subtype\":\"Figure\",\"type\":\"Plot\"},{\"attributes\":{\"plot\":{\"id\":\"bccfd672-8efc-499c-bb4d-b98c8ca61ce8\",\"subtype\":\"Figure\",\"type\":\"Plot\"}},\"id\":\"e5c808fd-2f0f-45dd-a977-9afbd71d66bf\",\"type\":\"HelpTool\"},{\"attributes\":{\"data_source\":{\"id\":\"3da2dbab-e3eb-4eda-b42f-c23992290889\",\"type\":\"ColumnDataSource\"},\"glyph\":{\"id\":\"0c98225e-fefa-4a10-b615-5507948b5df3\",\"type\":\"Circle\"},\"hover_glyph\":null,\"nonselection_glyph\":{\"id\":\"1a81386e-0c56-45e2-a2c6-34cfb9bda4f6\",\"type\":\"Circle\"},\"selection_glyph\":null},\"id\":\"fb4ca8ba-73bc-4ac9-bfcd-87b0f9db57d5\",\"type\":\"GlyphRenderer\"},{\"attributes\":{\"overlay\":{\"id\":\"a2b941a9-a183-4575-93f7-7bd9d475aa43\",\"type\":\"BoxAnnotation\"},\"plot\":{\"id\":\"bccfd672-8efc-499c-bb4d-b98c8ca61ce8\",\"subtype\":\"Figure\",\"type\":\"Plot\"}},\"id\":\"4fbf5c5d-69b5-4475-b487-f8287fb59c57\",\"type\":\"BoxZoomTool\"},{\"attributes\":{\"callback\":null,\"column_names\":[\"x\",\"y\"],\"data\":{\"x\":[\"Ciudades\",\"1991\",\"2001\",\"2010\",\"2017\",\"2019\",\"2029\",\"2039\"],\"y\":[\"Trelew\",\"79340\",\"89547\",\"99430\",\"106846\",\"108965\",\"119559\",\"130153\"]}},\"id\":\"378771ab-72ce-4877-bb60-2b60e4a897fa\",\"type\":\"ColumnDataSource\"},{\"attributes\":{\"data_source\":{\"id\":\"1c8b904f-da74-4a72-a2e3-f8d40e1e94fa\",\"type\":\"ColumnDataSource\"},\"glyph\":{\"id\":\"807adf81-4ba4-476f-8ffa-1d71cf07df91\",\"type\":\"Line\"},\"hover_glyph\":null,\"nonselection_glyph\":{\"id\":\"0a389cd0-23fe-451e-bd86-0661828cca28\",\"type\":\"Line\"},\"selection_glyph\":null},\"id\":\"7097ea74-7db9-43a5-9549-346852419fc7\",\"type\":\"GlyphRenderer\"},{\"attributes\":{\"fill_alpha\":{\"value\":0.1},\"fill_color\":{\"value\":\"#1f77b4\"},\"line_alpha\":{\"value\":0.1},\"line_color\":{\"value\":\"#1f77b4\"},\"x\":{\"field\":\"x\"},\"y\":{\"field\":\"y\"}},\"id\":\"1a81386e-0c56-45e2-a2c6-34cfb9bda4f6\",\"type\":\"Circle\"},{\"attributes\":{\"fill_color\":{\"value\":\"#164c71\"},\"line_color\":{\"value\":\"#164c71\"},\"x\":{\"field\":\"x\"},\"y\":{\"field\":\"y\"}},\"id\":\"fcb1f25b-2506-475b-8aef-6304899a1149\",\"type\":\"Circle\"},{\"attributes\":{\"line_alpha\":{\"value\":0.1},\"line_color\":{\"value\":\"#1f77b4\"},\"line_width\":{\"value\":2},\"x\":{\"field\":\"x\"},\"y\":{\"field\":\"y\"}},\"id\":\"6978adbb-97d4-40fa-8cc8-5e99061d426a\",\"type\":\"Line\"},{\"attributes\":{\"fill_alpha\":{\"value\":0.1},\"fill_color\":{\"value\":\"#1f77b4\"},\"line_alpha\":{\"value\":0.1},\"line_color\":{\"value\":\"#1f77b4\"},\"x\":{\"field\":\"x\"},\"y\":{\"field\":\"y\"}},\"id\":\"aa23fc8d-1a20-4fa7-a516-f9511d94e33a\",\"type\":\"Circle\"},{\"attributes\":{\"data_source\":{\"id\":\"9a936974-02ad-4821-bab6-915a41cb13fc\",\"type\":\"ColumnDataSource\"},\"glyph\":{\"id\":\"2fe07f03-dc07-43c0-8325-9615d640d419\",\"type\":\"Circle\"},\"hover_glyph\":null,\"nonselection_glyph\":{\"id\":\"d0c8a960-b7e6-4c3a-a088-c8429c6203d5\",\"type\":\"Circle\"},\"selection_glyph\":null},\"id\":\"326f7928-a702-4ca1-a6e7-75a8a53953eb\",\"type\":\"GlyphRenderer\"},{\"attributes\":{\"callback\":null,\"column_names\":[\"x\",\"y\"],\"data\":{\"x\":[\"Ciudades\",\"1991\",\"2001\",\"2010\",\"2017\",\"2019\",\"2029\",\"2039\"],\"y\":[\"Cholila\",\"1527\",\"1981\",\"2228\",\"2483\",\"2556\",\"2920\",\"3284\"]}},\"id\":\"b9ee7d07-2b89-470a-b045-149cfc349026\",\"type\":\"ColumnDataSource\"},{\"attributes\":{\"callback\":null,\"column_names\":[\"x\",\"y\"],\"data\":{\"x\":[\"Ciudades\",\"1991\",\"2001\",\"2010\",\"2017\",\"2019\",\"2029\",\"2039\"],\"y\":[\"Trelew\",\"79340\",\"89547\",\"99430\",\"106846\",\"108965\",\"119559\",\"130153\"]}},\"id\":\"e76f239a-1543-4b46-8731-4d2635565063\",\"type\":\"ColumnDataSource\"},{\"attributes\":{\"data_source\":{\"id\":\"8d128b82-73d4-418b-9449-090f374d7f5b\",\"type\":\"ColumnDataSource\"},\"glyph\":{\"id\":\"66c3af65-c392-43cb-a622-055436494066\",\"type\":\"Circle\"},\"hover_glyph\":null,\"nonselection_glyph\":{\"id\":\"129a7deb-9208-496f-ad7c-6c0038edc6e6\",\"type\":\"Circle\"},\"selection_glyph\":null},\"id\":\"1e805a83-0d46-478c-a017-c5715e355525\",\"type\":\"GlyphRenderer\"},{\"attributes\":{\"callback\":null},\"id\":\"4294ef5a-8ea0-4d6f-adf8-e0ee08c6b07b\",\"type\":\"DataRange1d\"},{\"attributes\":{\"line_alpha\":{\"value\":0.1},\"line_color\":{\"value\":\"#1f77b4\"},\"line_width\":{\"value\":2},\"x\":{\"field\":\"x\"},\"y\":{\"field\":\"y\"}},\"id\":\"b2bf800d-646b-411c-bfde-685bb5b6e437\",\"type\":\"Line\"},{\"attributes\":{\"line_alpha\":{\"value\":0.1},\"line_color\":{\"value\":\"#1f77b4\"},\"line_width\":{\"value\":2},\"x\":{\"field\":\"x\"},\"y\":{\"field\":\"y\"}},\"id\":\"907643f8-eeba-45d9-ba3f-9c6e4863c234\",\"type\":\"Line\"},{\"attributes\":{\"data_source\":{\"id\":\"37f06d1e-7fff-487d-a657-084e214c8dd7\",\"type\":\"ColumnDataSource\"},\"glyph\":{\"id\":\"55c39a2c-bd65-494f-94cc-f12934788e17\",\"type\":\"Circle\"},\"hover_glyph\":null,\"nonselection_glyph\":{\"id\":\"b719cee9-0f48-4c29-acfc-3a1b3968eb8b\",\"type\":\"Circle\"},\"selection_glyph\":null},\"id\":\"48c9a18d-c693-4277-a761-f0a76f6c3e06\",\"type\":\"GlyphRenderer\"},{\"attributes\":{\"line_color\":{\"value\":\"pink\"},\"line_width\":{\"value\":2},\"x\":{\"field\":\"x\"},\"y\":{\"field\":\"y\"}},\"id\":\"88910dd9-4816-485b-a39e-6eb41c023a1f\",\"type\":\"Line\"},{\"attributes\":{\"data_source\":{\"id\":\"0b02f420-e479-4225-afd6-ee0c22bc7a70\",\"type\":\"ColumnDataSource\"},\"glyph\":{\"id\":\"fcb1f25b-2506-475b-8aef-6304899a1149\",\"type\":\"Circle\"},\"hover_glyph\":null,\"nonselection_glyph\":{\"id\":\"01a82dcb-b65e-49fe-ad81-628b3f53ec0a\",\"type\":\"Circle\"},\"selection_glyph\":null},\"id\":\"83ed0d82-a021-4fbd-83ba-eebe79d9ffd6\",\"type\":\"GlyphRenderer\"},{\"attributes\":{\"fill_color\":{\"value\":\"blue\"},\"line_color\":{\"value\":\"blue\"},\"x\":{\"field\":\"x\"},\"y\":{\"field\":\"y\"}},\"id\":\"5cc513a0-cbc0-4431-9d00-b76af8d2b7ce\",\"type\":\"Circle\"},{\"attributes\":{\"callback\":null,\"column_names\":[\"x\",\"y\"],\"data\":{\"x\":[\"Ciudades\",\"1991\",\"2001\",\"2010\",\"2017\",\"2019\",\"2029\",\"2039\"],\"y\":[\"Rawson\",\"20674\",\"26183\",\"31787\",\"35894\",\"37068\",\"42936\",\"48804\"]}},\"id\":\"9a936974-02ad-4821-bab6-915a41cb13fc\",\"type\":\"ColumnDataSource\"},{\"attributes\":{\"callback\":null,\"column_names\":[\"x\",\"y\"],\"data\":{\"x\":[\"Ciudades\",\"1991\",\"2001\",\"2010\",\"2017\",\"2019\",\"2029\",\"2039\"],\"y\":[\"Gaiman\",\"4642\",\"5753\",\"6627\",\"7356\",\"7564\",\"8605\",\"9646\"]}},\"id\":\"2b1f8974-8ff5-4564-b470-7e6a41399c51\",\"type\":\"ColumnDataSource\"},{\"attributes\":{\"line_color\":{\"value\":\"#164c71\"},\"line_width\":{\"value\":2},\"x\":{\"field\":\"x\"},\"y\":{\"field\":\"y\"}},\"id\":\"3e5e41ab-536a-46ac-b2a7-5ae8a710a6c3\",\"type\":\"Line\"},{\"attributes\":{\"fill_alpha\":{\"value\":0.1},\"fill_color\":{\"value\":\"#1f77b4\"},\"line_alpha\":{\"value\":0.1},\"line_color\":{\"value\":\"#1f77b4\"},\"x\":{\"field\":\"x\"},\"y\":{\"field\":\"y\"}},\"id\":\"ef74cdcc-c3ec-473d-806e-db24a16f0ecc\",\"type\":\"Circle\"},{\"attributes\":{\"fill_alpha\":{\"value\":0.1},\"fill_color\":{\"value\":\"#1f77b4\"},\"line_alpha\":{\"value\":0.1},\"line_color\":{\"value\":\"#1f77b4\"},\"x\":{\"field\":\"x\"},\"y\":{\"field\":\"y\"}},\"id\":\"b719cee9-0f48-4c29-acfc-3a1b3968eb8b\",\"type\":\"Circle\"},{\"attributes\":{\"data_source\":{\"id\":\"bd52771c-8bf5-4e73-9716-f5d744a4303f\",\"type\":\"ColumnDataSource\"},\"glyph\":{\"id\":\"3e5e41ab-536a-46ac-b2a7-5ae8a710a6c3\",\"type\":\"Line\"},\"hover_glyph\":null,\"nonselection_glyph\":{\"id\":\"f04eaa0a-81a0-4eac-954f-89bc379d2dba\",\"type\":\"Line\"},\"selection_glyph\":null},\"id\":\"5f48a31a-6198-403e-936b-82180a95ad55\",\"type\":\"GlyphRenderer\"},{\"attributes\":{\"plot\":{\"id\":\"bccfd672-8efc-499c-bb4d-b98c8ca61ce8\",\"subtype\":\"Figure\",\"type\":\"Plot\"}},\"id\":\"761b8bc7-a0fd-4947-9e58-e164490bf22e\",\"type\":\"WheelZoomTool\"},{\"attributes\":{\"plot\":{\"id\":\"bccfd672-8efc-499c-bb4d-b98c8ca61ce8\",\"subtype\":\"Figure\",\"type\":\"Plot\"}},\"id\":\"6f62b281-6bb9-4475-af2c-b704c14e55e2\",\"type\":\"ResetTool\"},{\"attributes\":{\"data_source\":{\"id\":\"6091ed84-c93a-4570-9618-49bc8a983aeb\",\"type\":\"ColumnDataSource\"},\"glyph\":{\"id\":\"18bbd1bd-5ff6-40f2-875a-72bf879b414e\",\"type\":\"Circle\"},\"hover_glyph\":null,\"nonselection_glyph\":{\"id\":\"5719bc6e-3093-40c4-9fe7-b308a61fa446\",\"type\":\"Circle\"},\"selection_glyph\":null},\"id\":\"fd89e95c-2e92-4993-8a4c-7753c3a7e566\",\"type\":\"GlyphRenderer\"},{\"attributes\":{\"align\":\"center\",\"plot\":null,\"text\":\"Poblaci\\u00f3n -Proyecci\\u00f3n Aritm\\u00e9tica Tasa Dos \\u00daltimos Per\\u00edodos Censales\",\"text_color\":{\"value\":\"blue\"},\"text_font\":\"times\",\"text_font_size\":{\"value\":\"20px\"},\"text_font_style\":\"italic\"},\"id\":\"8b6669eb-1ae5-428e-8388-1f482a820c3e\",\"type\":\"Title\"},{\"attributes\":{\"callback\":null,\"column_names\":[\"x\",\"y\"],\"data\":{\"x\":[\"Ciudades\",\"1991\",\"2001\",\"2010\",\"2017\",\"2019\",\"2029\",\"2039\"],\"y\":[\"Rawson\",\"20674\",\"26183\",\"31787\",\"35894\",\"37068\",\"42936\",\"48804\"]}},\"id\":\"1c8b904f-da74-4a72-a2e3-f8d40e1e94fa\",\"type\":\"ColumnDataSource\"},{\"attributes\":{\"fill_color\":{\"value\":\"navy\"},\"line_color\":{\"value\":\"navy\"},\"x\":{\"field\":\"x\"},\"y\":{\"field\":\"y\"}},\"id\":\"2fe07f03-dc07-43c0-8325-9615d640d419\",\"type\":\"Circle\"},{\"attributes\":{\"callback\":null,\"column_names\":[\"x\",\"y\"],\"data\":{\"x\":[\"Ciudades\",\"1991\",\"2001\",\"2010\",\"2017\",\"2019\",\"2029\",\"2039\"],\"y\":[\"Gobernador Costa\",\"1913\",\"2185\",\"2374\",\"2543\",\"2591\",\"2832\",\"3073\"]}},\"id\":\"60ef823e-3025-4888-b6ad-3c4e15177626\",\"type\":\"ColumnDataSource\"},{\"attributes\":{\"line_color\":{\"value\":\"cyan\"},\"line_width\":{\"value\":2},\"x\":{\"field\":\"x\"},\"y\":{\"field\":\"y\"}},\"id\":\"e1b5ce03-b1d4-4799-979e-cc8ac84a0525\",\"type\":\"Line\"},{\"attributes\":{\"fill_alpha\":{\"value\":0.1},\"fill_color\":{\"value\":\"#1f77b4\"},\"line_alpha\":{\"value\":0.1},\"line_color\":{\"value\":\"#1f77b4\"},\"x\":{\"field\":\"x\"},\"y\":{\"field\":\"y\"}},\"id\":\"fdd1780d-1d25-4c30-89ae-e9412416d175\",\"type\":\"Circle\"},{\"attributes\":{\"data_source\":{\"id\":\"2a787f99-a05d-40aa-bdc1-85e53f6e4c24\",\"type\":\"ColumnDataSource\"},\"glyph\":{\"id\":\"ac7e01c1-3fcc-4532-bed5-60dab2b60666\",\"type\":\"Line\"},\"hover_glyph\":null,\"nonselection_glyph\":{\"id\":\"cdc1588f-b258-4a31-8f1e-4e36ca0de00f\",\"type\":\"Line\"},\"selection_glyph\":null},\"id\":\"5f3125cf-27ac-4494-80e5-974d3238277b\",\"type\":\"GlyphRenderer\"},{\"attributes\":{\"callback\":null,\"column_names\":[\"x\",\"y\"],\"data\":{\"x\":[\"Ciudades\",\"1991\",\"2001\",\"2010\",\"2017\",\"2019\",\"2029\",\"2039\"],\"y\":[\"Gobernador Costa\",\"1913\",\"2185\",\"2374\",\"2543\",\"2591\",\"2832\",\"3073\"]}},\"id\":\"1e26c4a2-8cbd-4c1c-b46f-5b53cc4a0a30\",\"type\":\"ColumnDataSource\"},{\"attributes\":{\"data_source\":{\"id\":\"e76f239a-1543-4b46-8731-4d2635565063\",\"type\":\"ColumnDataSource\"},\"glyph\":{\"id\":\"8a822cbc-d663-495a-b58a-f321906d065c\",\"type\":\"Line\"},\"hover_glyph\":null,\"nonselection_glyph\":{\"id\":\"907643f8-eeba-45d9-ba3f-9c6e4863c234\",\"type\":\"Line\"},\"selection_glyph\":null},\"id\":\"2bb8ff81-6343-443a-969c-1436f21f1cde\",\"type\":\"GlyphRenderer\"},{\"attributes\":{\"data_source\":{\"id\":\"5ca90812-7f4d-4756-a867-0e47ae39d6df\",\"type\":\"ColumnDataSource\"},\"glyph\":{\"id\":\"f86c550e-3519-4369-9a7d-4f51769cde81\",\"type\":\"Line\"},\"hover_glyph\":null,\"nonselection_glyph\":{\"id\":\"d416ca06-c87a-4760-91d2-8acd03786ba9\",\"type\":\"Line\"},\"selection_glyph\":null},\"id\":\"933b3e54-bb19-4a2f-91d4-0a65481be41a\",\"type\":\"GlyphRenderer\"},{\"attributes\":{\"line_alpha\":{\"value\":0.1},\"line_color\":{\"value\":\"#1f77b4\"},\"line_width\":{\"value\":2},\"x\":{\"field\":\"x\"},\"y\":{\"field\":\"y\"}},\"id\":\"d416ca06-c87a-4760-91d2-8acd03786ba9\",\"type\":\"Line\"},{\"attributes\":{\"callback\":null,\"column_names\":[\"x\",\"y\"],\"data\":{\"x\":[\"Ciudades\",\"1991\",\"2001\",\"2010\",\"2017\",\"2019\",\"2029\",\"2039\"],\"y\":[\"Paso de Indios\",\"864\",\"1087\",\"1264\",\"1411\",\"1453\",\"1663\",\"1873\"]}},\"id\":\"37f06d1e-7fff-487d-a657-084e214c8dd7\",\"type\":\"ColumnDataSource\"},{\"attributes\":{\"data_source\":{\"id\":\"3d344e92-a257-42e7-8985-b2243089aa01\",\"type\":\"ColumnDataSource\"},\"glyph\":{\"id\":\"69007b92-08cd-4bbb-a475-eb7980cb051f\",\"type\":\"Circle\"},\"hover_glyph\":null,\"nonselection_glyph\":{\"id\":\"ef74cdcc-c3ec-473d-806e-db24a16f0ecc\",\"type\":\"Circle\"},\"selection_glyph\":null},\"id\":\"3e037716-14d1-4500-b855-fd1ef838738a\",\"type\":\"GlyphRenderer\"},{\"attributes\":{\"line_color\":{\"value\":\"olive\"},\"line_width\":{\"value\":2},\"x\":{\"field\":\"x\"},\"y\":{\"field\":\"y\"}},\"id\":\"d0cf1c03-ce15-4914-ae47-ca881fb8d5b6\",\"type\":\"Line\"},{\"attributes\":{\"active_drag\":\"auto\",\"active_scroll\":\"auto\",\"active_tap\":\"auto\",\"tools\":[{\"id\":\"19848270-12d6-44f9-8e56-e3e8cca30128\",\"type\":\"PanTool\"},{\"id\":\"761b8bc7-a0fd-4947-9e58-e164490bf22e\",\"type\":\"WheelZoomTool\"},{\"id\":\"4fbf5c5d-69b5-4475-b487-f8287fb59c57\",\"type\":\"BoxZoomTool\"},{\"id\":\"2a85cf5e-e255-48a4-a897-e7b7bc8f390a\",\"type\":\"SaveTool\"},{\"id\":\"6f62b281-6bb9-4475-af2c-b704c14e55e2\",\"type\":\"ResetTool\"},{\"id\":\"e5c808fd-2f0f-45dd-a977-9afbd71d66bf\",\"type\":\"HelpTool\"}]},\"id\":\"f2753109-6530-49bf-91e6-41abb5553f2b\",\"type\":\"Toolbar\"},{\"attributes\":{\"callback\":null,\"column_names\":[\"x\",\"y\"],\"data\":{\"x\":[\"Ciudades\",\"1991\",\"2001\",\"2010\",\"2017\",\"2019\",\"2029\",\"2039\"],\"y\":[\"Camarones\",\"868\",\"1079\",\"1296\",\"1454\",\"1499\",\"1725\",\"1951\"]}},\"id\":\"0b02f420-e479-4225-afd6-ee0c22bc7a70\",\"type\":\"ColumnDataSource\"},{\"attributes\":{\"data_source\":{\"id\":\"e388fdb6-d47f-4516-b109-fa20971d358f\",\"type\":\"ColumnDataSource\"},\"glyph\":{\"id\":\"3db3d857-86d3-4f9d-950a-fec86c269d81\",\"type\":\"Circle\"},\"hover_glyph\":null,\"nonselection_glyph\":{\"id\":\"43c7a745-b562-416b-9ab1-6b9bbd53660b\",\"type\":\"Circle\"},\"selection_glyph\":null},\"id\":\"bbc09f79-e8fd-4855-a9f1-72966e64d128\",\"type\":\"GlyphRenderer\"},{\"attributes\":{\"data_source\":{\"id\":\"1e26c4a2-8cbd-4c1c-b46f-5b53cc4a0a30\",\"type\":\"ColumnDataSource\"},\"glyph\":{\"id\":\"b5d88665-7d8c-461f-8465-e0025c8a6ddd\",\"type\":\"Line\"},\"hover_glyph\":null,\"nonselection_glyph\":{\"id\":\"0f9abbd2-6d64-429a-9f0d-8da1243048ba\",\"type\":\"Line\"},\"selection_glyph\":null},\"id\":\"ecb59215-5068-4bb5-8948-b65f570c603e\",\"type\":\"GlyphRenderer\"},{\"attributes\":{\"fill_alpha\":{\"value\":0.1},\"fill_color\":{\"value\":\"#1f77b4\"},\"line_alpha\":{\"value\":0.1},\"line_color\":{\"value\":\"#1f77b4\"},\"x\":{\"field\":\"x\"},\"y\":{\"field\":\"y\"}},\"id\":\"d0c8a960-b7e6-4c3a-a088-c8429c6203d5\",\"type\":\"Circle\"},{\"attributes\":{\"fill_alpha\":{\"value\":0.1},\"fill_color\":{\"value\":\"#1f77b4\"},\"line_alpha\":{\"value\":0.1},\"line_color\":{\"value\":\"#1f77b4\"},\"x\":{\"field\":\"x\"},\"y\":{\"field\":\"y\"}},\"id\":\"791a732c-9617-41cc-8b90-7978908fe444\",\"type\":\"Circle\"},{\"attributes\":{\"data_source\":{\"id\":\"e5a43bf2-0b32-4d22-b880-017ff7198e3b\",\"type\":\"ColumnDataSource\"},\"glyph\":{\"id\":\"e49b0e92-cc88-495e-aa59-970543972c16\",\"type\":\"Circle\"},\"hover_glyph\":null,\"nonselection_glyph\":{\"id\":\"ccfab873-4dd5-4641-a29c-f0f39446cb61\",\"type\":\"Circle\"},\"selection_glyph\":null},\"id\":\"a5f96858-9eac-4ee2-9036-88df0be2c77e\",\"type\":\"GlyphRenderer\"},{\"attributes\":{\"callback\":null,\"column_names\":[\"x\",\"y\"],\"data\":{\"x\":[\"Ciudades\",\"1991\",\"2001\",\"2010\",\"2017\",\"2019\",\"2029\",\"2039\"],\"y\":[\"Ciudades\",\"1991\",\"2001\",\"2010\",\"2017\",\"2019\",\"2029\",\"2039\"]}},\"id\":\"db179e7c-004a-4bfa-a32c-7a335d2c62ad\",\"type\":\"ColumnDataSource\"},{\"attributes\":{\"callback\":null,\"column_names\":[\"x\",\"y\"],\"data\":{\"x\":[\"Ciudades\",\"1991\",\"2001\",\"2010\",\"2017\",\"2019\",\"2029\",\"2039\"],\"y\":[\"Puerto Madryn\",\"45047\",\"57791\",\"81995\",\"95868\",\"99832\",\"119651\",\"139470\"]}},\"id\":\"5ca90812-7f4d-4756-a867-0e47ae39d6df\",\"type\":\"ColumnDataSource\"},{\"attributes\":{\"axis_label\":\"Poblaci\\u00f3n\",\"formatter\":{\"id\":\"725bb5ff-bf0f-4765-adb2-e8999d9194af\",\"type\":\"BasicTickFormatter\"},\"plot\":{\"id\":\"bccfd672-8efc-499c-bb4d-b98c8ca61ce8\",\"subtype\":\"Figure\",\"type\":\"Plot\"},\"ticker\":{\"id\":\"3e7ecb51-3f2e-4ed2-8437-ae3bda3b3f8a\",\"type\":\"BasicTicker\"}},\"id\":\"1d2636ba-e2da-4ff8-86de-ccbac0f69035\",\"type\":\"LinearAxis\"},{\"attributes\":{\"line_alpha\":{\"value\":0.1},\"line_color\":{\"value\":\"#1f77b4\"},\"line_width\":{\"value\":2},\"x\":{\"field\":\"x\"},\"y\":{\"field\":\"y\"}},\"id\":\"cdc1588f-b258-4a31-8f1e-4e36ca0de00f\",\"type\":\"Line\"},{\"attributes\":{\"callback\":null,\"column_names\":[\"x\",\"y\"],\"data\":{\"x\":[\"Ciudades\",\"1991\",\"2001\",\"2010\",\"2017\",\"2019\",\"2029\",\"2039\"],\"y\":[\"Cholila\",\"1527\",\"1981\",\"2228\",\"2483\",\"2556\",\"2920\",\"3284\"]}},\"id\":\"229c3191-833d-487a-9c60-b86a02947638\",\"type\":\"ColumnDataSource\"},{\"attributes\":{},\"id\":\"3e7ecb51-3f2e-4ed2-8437-ae3bda3b3f8a\",\"type\":\"BasicTicker\"},{\"attributes\":{\"fill_color\":{\"value\":\"pink\"},\"line_color\":{\"value\":\"pink\"},\"x\":{\"field\":\"x\"},\"y\":{\"field\":\"y\"}},\"id\":\"3db3d857-86d3-4f9d-950a-fec86c269d81\",\"type\":\"Circle\"},{\"attributes\":{\"callback\":null,\"column_names\":[\"x\",\"y\"],\"data\":{\"x\":[\"Ciudades\",\"1991\",\"2001\",\"2010\",\"2017\",\"2019\",\"2029\",\"2039\"],\"y\":[\"Ciudades\",\"1991\",\"2001\",\"2010\",\"2017\",\"2019\",\"2029\",\"2039\"]}},\"id\":\"e5a43bf2-0b32-4d22-b880-017ff7198e3b\",\"type\":\"ColumnDataSource\"},{\"attributes\":{\"fill_color\":{\"value\":\"magenta\"},\"line_color\":{\"value\":\"magenta\"},\"x\":{\"field\":\"x\"},\"y\":{\"field\":\"y\"}},\"id\":\"4a9a9f07-90b9-4de1-a681-5893072a593a\",\"type\":\"Circle\"},{\"attributes\":{\"callback\":null,\"column_names\":[\"x\",\"y\"],\"data\":{\"x\":[\"Ciudades\",\"1991\",\"2001\",\"2010\",\"2017\",\"2019\",\"2029\",\"2039\"],\"y\":[\"Esquel\",\"23411\",\"28486\",\"32758\",\"36196\",\"37178\",\"42089\",\"47000\"]}},\"id\":\"2a787f99-a05d-40aa-bdc1-85e53f6e4c24\",\"type\":\"ColumnDataSource\"},{\"attributes\":{\"callback\":null,\"column_names\":[\"x\",\"y\"],\"data\":{\"x\":[\"Ciudades\",\"1991\",\"2001\",\"2010\",\"2017\",\"2019\",\"2029\",\"2039\"],\"y\":[\"Puerto Madryn\",\"45047\",\"57791\",\"81995\",\"95868\",\"99832\",\"119651\",\"139470\"]}},\"id\":\"8d128b82-73d4-418b-9449-090f374d7f5b\",\"type\":\"ColumnDataSource\"},{\"attributes\":{},\"id\":\"5d84c4ce-4a69-4053-a864-cbcf9ee4f578\",\"type\":\"ToolEvents\"},{\"attributes\":{\"data_source\":{\"id\":\"2b1f8974-8ff5-4564-b470-7e6a41399c51\",\"type\":\"ColumnDataSource\"},\"glyph\":{\"id\":\"e1b5ce03-b1d4-4799-979e-cc8ac84a0525\",\"type\":\"Line\"},\"hover_glyph\":null,\"nonselection_glyph\":{\"id\":\"6978adbb-97d4-40fa-8cc8-5e99061d426a\",\"type\":\"Line\"},\"selection_glyph\":null},\"id\":\"90ca28c5-b125-4e93-b52f-63f80df65896\",\"type\":\"GlyphRenderer\"},{\"attributes\":{\"line_color\":{\"value\":\"orange\"},\"line_width\":{\"value\":2},\"x\":{\"field\":\"x\"},\"y\":{\"field\":\"y\"}},\"id\":\"dc2da629-a9fc-4c0c-8561-abbb769d87fc\",\"type\":\"Line\"},{\"attributes\":{},\"id\":\"4e5379f5-f0f1-4b22-ab26-0a379b7eb9ba\",\"type\":\"BasicTicker\"},{\"attributes\":{\"line_alpha\":{\"value\":0.1},\"line_color\":{\"value\":\"#1f77b4\"},\"line_width\":{\"value\":2},\"x\":{\"field\":\"x\"},\"y\":{\"field\":\"y\"}},\"id\":\"9a9c61c5-324c-4cfb-9986-b5fe4b5ba8f5\",\"type\":\"Line\"},{\"attributes\":{\"line_color\":{\"value\":\"magenta\"},\"line_width\":{\"value\":2},\"x\":{\"field\":\"x\"},\"y\":{\"field\":\"y\"}},\"id\":\"b5d88665-7d8c-461f-8465-e0025c8a6ddd\",\"type\":\"Line\"},{\"attributes\":{\"axis_label\":\"Tiempo\",\"formatter\":{\"id\":\"c2644982-df6b-4b24-9177-d3a1bc7deb8b\",\"type\":\"BasicTickFormatter\"},\"plot\":{\"id\":\"bccfd672-8efc-499c-bb4d-b98c8ca61ce8\",\"subtype\":\"Figure\",\"type\":\"Plot\"},\"ticker\":{\"id\":\"4e5379f5-f0f1-4b22-ab26-0a379b7eb9ba\",\"type\":\"BasicTicker\"}},\"id\":\"8dd80c22-6637-4594-86d6-cfb3a2ee51cf\",\"type\":\"LinearAxis\"},{\"attributes\":{\"fill_color\":{\"value\":\"yellow\"},\"line_color\":{\"value\":\"yellow\"},\"x\":{\"field\":\"x\"},\"y\":{\"field\":\"y\"}},\"id\":\"71c9e78c-28f7-4a24-8013-2d7d483acc43\",\"type\":\"Circle\"},{\"attributes\":{\"data_source\":{\"id\":\"fca77fa2-9556-4454-b6ff-0ccddfb46792\",\"type\":\"ColumnDataSource\"},\"glyph\":{\"id\":\"88910dd9-4816-485b-a39e-6eb41c023a1f\",\"type\":\"Line\"},\"hover_glyph\":null,\"nonselection_glyph\":{\"id\":\"e35a103f-a52a-4280-8183-8d7782cc93c8\",\"type\":\"Line\"},\"selection_glyph\":null},\"id\":\"a3c88be0-ddb1-422b-8e47-dab819e22ba6\",\"type\":\"GlyphRenderer\"},{\"attributes\":{\"data_source\":{\"id\":\"60ef823e-3025-4888-b6ad-3c4e15177626\",\"type\":\"ColumnDataSource\"},\"glyph\":{\"id\":\"4a9a9f07-90b9-4de1-a681-5893072a593a\",\"type\":\"Circle\"},\"hover_glyph\":null,\"nonselection_glyph\":{\"id\":\"ea2aff1b-0d78-4ac7-b6b7-92323d752fde\",\"type\":\"Circle\"},\"selection_glyph\":null},\"id\":\"0f34e7b9-bae8-4c64-85c2-cd119a2e7435\",\"type\":\"GlyphRenderer\"},{\"attributes\":{\"data_source\":{\"id\":\"229c3191-833d-487a-9c60-b86a02947638\",\"type\":\"ColumnDataSource\"},\"glyph\":{\"id\":\"d0cf1c03-ce15-4914-ae47-ca881fb8d5b6\",\"type\":\"Line\"},\"hover_glyph\":null,\"nonselection_glyph\":{\"id\":\"9a9c61c5-324c-4cfb-9986-b5fe4b5ba8f5\",\"type\":\"Line\"},\"selection_glyph\":null},\"id\":\"a952100d-8f77-4159-a547-cb224d3bd3f4\",\"type\":\"GlyphRenderer\"},{\"attributes\":{\"line_color\":{\"value\":\"blue\"},\"line_width\":{\"value\":2},\"x\":{\"field\":\"x\"},\"y\":{\"field\":\"y\"}},\"id\":\"8a822cbc-d663-495a-b58a-f321906d065c\",\"type\":\"Line\"},{\"attributes\":{\"data_source\":{\"id\":\"e7dc7bb9-0d00-4d67-891a-ddf59c914681\",\"type\":\"ColumnDataSource\"},\"glyph\":{\"id\":\"71c9e78c-28f7-4a24-8013-2d7d483acc43\",\"type\":\"Circle\"},\"hover_glyph\":null,\"nonselection_glyph\":{\"id\":\"aa23fc8d-1a20-4fa7-a516-f9511d94e33a\",\"type\":\"Circle\"},\"selection_glyph\":null},\"id\":\"6cf5a7d7-175b-499d-aa2b-7a2fb4982abd\",\"type\":\"GlyphRenderer\"},{\"attributes\":{\"data_source\":{\"id\":\"db179e7c-004a-4bfa-a32c-7a335d2c62ad\",\"type\":\"ColumnDataSource\"},\"glyph\":{\"id\":\"cc2cf4f1-100a-4e73-a1a1-6cfd25174cce\",\"type\":\"Line\"},\"hover_glyph\":null,\"nonselection_glyph\":{\"id\":\"5e85fcd8-ac56-46d6-8846-0fac32a5a725\",\"type\":\"Line\"},\"selection_glyph\":null},\"id\":\"31fb15a9-2f5f-4b5b-9710-ba386fc3a821\",\"type\":\"GlyphRenderer\"},{\"attributes\":{\"callback\":null,\"column_names\":[\"x\",\"y\"],\"data\":{\"x\":[\"Ciudades\",\"1991\",\"2001\",\"2010\",\"2017\",\"2019\",\"2029\",\"2039\"],\"y\":[\"Comodoro Rivadavia\",\"125725\",\"137061\",\"177083\",\"196615\",\"202195\",\"230097\",\"257999\"]}},\"id\":\"985be780-9006-492a-806e-95bd7e190f5f\",\"type\":\"ColumnDataSource\"},{\"attributes\":{\"line_color\":{\"value\":\"yellow\"},\"line_width\":{\"value\":2},\"x\":{\"field\":\"x\"},\"y\":{\"field\":\"y\"}},\"id\":\"ac7e01c1-3fcc-4532-bed5-60dab2b60666\",\"type\":\"Line\"},{\"attributes\":{\"fill_color\":{\"value\":\"#7c1b65\"},\"line_color\":{\"value\":\"#7c1b65\"},\"x\":{\"field\":\"x\"},\"y\":{\"field\":\"y\"}},\"id\":\"55c39a2c-bd65-494f-94cc-f12934788e17\",\"type\":\"Circle\"},{\"attributes\":{\"line_color\":{\"value\":\"red\"},\"line_width\":{\"value\":2},\"x\":{\"field\":\"x\"},\"y\":{\"field\":\"y\"}},\"id\":\"cc2cf4f1-100a-4e73-a1a1-6cfd25174cce\",\"type\":\"Line\"},{\"attributes\":{\"line_alpha\":{\"value\":0.1},\"line_color\":{\"value\":\"#1f77b4\"},\"line_width\":{\"value\":2},\"x\":{\"field\":\"x\"},\"y\":{\"field\":\"y\"}},\"id\":\"5e85fcd8-ac56-46d6-8846-0fac32a5a725\",\"type\":\"Line\"},{\"attributes\":{\"line_color\":{\"value\":\"navy\"},\"line_width\":{\"value\":2},\"x\":{\"field\":\"x\"},\"y\":{\"field\":\"y\"}},\"id\":\"807adf81-4ba4-476f-8ffa-1d71cf07df91\",\"type\":\"Line\"},{\"attributes\":{\"fill_alpha\":{\"value\":0.1},\"fill_color\":{\"value\":\"#1f77b4\"},\"line_alpha\":{\"value\":0.1},\"line_color\":{\"value\":\"#1f77b4\"},\"x\":{\"field\":\"x\"},\"y\":{\"field\":\"y\"}},\"id\":\"43c7a745-b562-416b-9ab1-6b9bbd53660b\",\"type\":\"Circle\"}],\"root_ids\":[\"bccfd672-8efc-499c-bb4d-b98c8ca61ce8\"]},\"title\":\"Bokeh Application\",\"version\":\"0.12.0\"}};\n",
       "            var render_items = [{\"docid\":\"5adc43af-7846-49dd-b096-4d9d6a39e13f\",\"elementid\":\"79338ab0-b91b-4e94-b11f-aa062e7a8e58\",\"modelid\":\"bccfd672-8efc-499c-bb4d-b98c8ca61ce8\",\"notebook_comms_target\":\"bdb8c5e4-8155-48c5-bf32-108eda73bf22\"}];\n",
       "            \n",
       "            Bokeh.embed.embed_items(docs_json, render_items);\n",
       "        });\n",
       "      },\n",
       "      function(Bokeh) {\n",
       "      }\n",
       "    ];\n",
       "  \n",
       "    function run_inline_js() {\n",
       "      for (var i = 0; i < inline_js.length; i++) {\n",
       "        inline_js[i](window.Bokeh);\n",
       "      }\n",
       "    }\n",
       "  \n",
       "    if (window._bokeh_is_loading === 0) {\n",
       "      console.log(\"Bokeh: BokehJS loaded, going straight to plotting\");\n",
       "      run_inline_js();\n",
       "    } else {\n",
       "      load_libs(js_urls, function() {\n",
       "        console.log(\"Bokeh: BokehJS plotting callback run at\", now());\n",
       "        run_inline_js();\n",
       "      });\n",
       "    }\n",
       "  }(this));\n",
       "</script>"
      ]
     },
     "metadata": {},
     "output_type": "display_data"
    },
    {
     "data": {
      "text/html": [
       "<p><code>&lt;Bokeh Notebook handle for <strong>In[12]</strong>&gt;</code></p>"
      ],
      "text/plain": [
       "<bokeh.io._CommsHandle at 0xaf49928c>"
      ]
     },
     "execution_count": 12,
     "metadata": {},
     "output_type": "execute_result"
    }
   ],
   "source": [
    "x = tiempo\n",
    "ciudades=[\"Comodoro Rivadavia\",\"Trelew\",\"Puerto Madryn\",\"Esquel\",\"Sarmiento\",\"Rawson\",\"Dolavon\",\"Gaiman\",\"Gobernador Costa\",\"Cholila\",\"Camarones\",\"Paso de Indios\",\"Paso del Sapo\"]\n",
    "colores=[\"red\",\"orange\",\"blue\",\"green\",\"yellow\",\"pink\",\"navy\",\"firebrick\",\"cyan\",\"magenta\",\"olive\",\"#164c71\",\"#7c1b65\"]\n",
    "\n",
    "p = figure(title=\"Población -Proyección Aritmética Tasa Dos Últimos Períodos Censales\",plot_width=900)\n",
    "p.title.align = \"center\"\n",
    "p.title.text_color = \"blue\"\n",
    "p.title.text_font = \"times\"\n",
    "p.title.text_font_style = \"italic\"\n",
    "p.title.text_font_size = \"20px\"\n",
    "\n",
    "p.left[0].formatter.use_scientific = False\n",
    "\n",
    "for i in range(len(ciudades)):\n",
    "    p.circle(x, proyecciones[i], legend=ciudades[i],fill_color=colores[i],line_color=colores[i])\n",
    "    p.line(x, proyecciones[i], legend=ciudades[i],line_color=colores[i], line_width=2)\n",
    "\n",
    "p.xaxis.axis_label = 'Tiempo'\n",
    "p.yaxis.axis_label = 'Población'\n",
    "\n",
    "show(p)"
   ]
  },
  {
   "cell_type": "code",
   "execution_count": null,
   "metadata": {
    "collapsed": true
   },
   "outputs": [],
   "source": []
  }
 ],
 "metadata": {
  "anaconda-cloud": {},
  "kernelspec": {
   "display_name": "Python [Root]",
   "language": "python",
   "name": "Python [Root]"
  },
  "language_info": {
   "codemirror_mode": {
    "name": "ipython",
    "version": 3
   },
   "file_extension": ".py",
   "mimetype": "text/x-python",
   "name": "python",
   "nbconvert_exporter": "python",
   "pygments_lexer": "ipython3",
   "version": "3.5.2"
  }
 },
 "nbformat": 4,
 "nbformat_minor": 2
}
