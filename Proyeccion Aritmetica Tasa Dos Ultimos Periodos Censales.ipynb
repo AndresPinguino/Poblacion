{
 "cells": [
  {
   "cell_type": "code",
   "execution_count": 13,
   "metadata": {
    "collapsed": false
   },
   "outputs": [
    {
     "data": {
      "text/html": [
       "<script>\n",
       "code_show=true; \n",
       "function code_toggle() {\n",
       " if (code_show){\n",
       " $('div.input').hide();\n",
       " } else {\n",
       " $('div.input').show();\n",
       " }\n",
       " code_show = !code_show\n",
       "} \n",
       "$( document ).ready(code_toggle);\n",
       "</script>\n",
       "<form action=\"javascript:code_toggle()\"><input type=\"submit\" value=\"Click aquí para ver el código.\"></form>"
      ],
      "text/plain": [
       "<IPython.core.display.HTML object>"
      ]
     },
     "execution_count": 13,
     "metadata": {},
     "output_type": "execute_result"
    }
   ],
   "source": [
    "from IPython.display import HTML\n",
    "\n",
    "HTML('''<script>\n",
    "code_show=true; \n",
    "function code_toggle() {\n",
    " if (code_show){\n",
    " $('div.input').hide();\n",
    " } else {\n",
    " $('div.input').show();\n",
    " }\n",
    " code_show = !code_show\n",
    "} \n",
    "$( document ).ready(code_toggle);\n",
    "</script>\n",
    "<form action=\"javascript:code_toggle()\"><input type=\"submit\" value=\"Click aquí para ver el código.\"></form>''')"
   ]
  },
  {
   "cell_type": "code",
   "execution_count": 14,
   "metadata": {
    "collapsed": false
   },
   "outputs": [
    {
     "data": {
      "text/html": [
       "<p align=\"center\"> <font size=\"5\" color=\"#0404B4\" face=\"sans-serif\"> <b> Proyección Aritmética Tasa Dos Últimos Períodos Censales <b> </font> </p>"
      ],
      "text/plain": [
       "<IPython.core.display.HTML object>"
      ]
     },
     "execution_count": 14,
     "metadata": {},
     "output_type": "execute_result"
    }
   ],
   "source": [
    "HTML(\"\"\"<p align=\"center\"> <font size=\"5\" color=\"#0404B4\" face=\"sans-serif\"> <b> Proyección Aritmética Tasa Dos Últimos Períodos Censales <b> </font> </p>\"\"\")"
   ]
  },
  {
   "cell_type": "markdown",
   "metadata": {},
   "source": [
    "# # Entrada de valores de los tres últimos censos"
   ]
  },
  {
   "cell_type": "code",
   "execution_count": 15,
   "metadata": {
    "collapsed": true
   },
   "outputs": [],
   "source": [
    "censos = [1991,2001,2010]\n",
    "\n",
    "poblacion0 = [125725,137061,177083] # Comodoro Rivadavia\n",
    "poblacion1 = [79340,89547,99430] # Trelew\n",
    "poblacion2 = [45047,57791,81995] # Puerto Madryn\n",
    "poblacion3 = [23411,28486,32758] # Esquel\n",
    "poblacion4 = [7209,8292,11124] # Sarmiento\n",
    "poblacion5 = [20674,26183,31787] # Rawson\n",
    "poblacion6 = [2613,2929,3307] # Dolavon\n",
    "poblacion7 = [4642,5753,6627] # Gaiman\n",
    "poblacion8 = [1913,2185,2374] # Gobernador Costa\n",
    "poblacion9 = [1527,1981,2228] # Cholila\n",
    "poblacion10 = [868,1079,1296] # Camarones\n",
    "poblacion11 = [864,1087,1264] # Paso de Indios\n",
    "poblacion12 = [322,384,396] # Paso del sapo\n",
    "poblaciones = [poblacion0, poblacion1, poblacion2, poblacion3, poblacion4, poblacion5, poblacion6, poblacion7, poblacion8, poblacion9, poblacion10, poblacion11, poblacion12]\n",
    "\n",
    "año_actual= 2017"
   ]
  },
  {
   "cell_type": "markdown",
   "metadata": {},
   "source": [
    "# # Armamos una lista de \"tiempos\""
   ]
  },
  {
   "cell_type": "code",
   "execution_count": 16,
   "metadata": {
    "collapsed": true
   },
   "outputs": [],
   "source": [
    "tiempo = [0] * 7\n",
    "for i in range(len(censos)):\n",
    "    tiempo[i] = censos[i]\n",
    "\n",
    "tiempo[3]=año_actual\n",
    "tiempo[4]=tiempo[3]+2\n",
    "tiempo[5]=tiempo[4]+10\n",
    "tiempo[6]=tiempo[5]+10"
   ]
  },
  {
   "cell_type": "markdown",
   "metadata": {},
   "source": [
    "# # Resolvemos el método devolviendo una lista de \"datos\""
   ]
  },
  {
   "cell_type": "code",
   "execution_count": 17,
   "metadata": {
    "collapsed": false
   },
   "outputs": [],
   "source": [
    "def metodo_proyeccion_aritmetica_tasa_dos_ultimos_periodos_censales(poblacion, tiempo):\n",
    "\n",
    "    datos = [0] * 8\n",
    "    for i in range(len(poblacion)):\n",
    "        datos[i] = poblacion[i]\n",
    "\n",
    "\n",
    "    ka1=(datos[2]-datos[1])/(tiempo[2]-tiempo[1])\n",
    "    ka1=round(ka1,4)\n",
    "    \n",
    "    ka2=(datos[1]-datos[0])/(tiempo[1]-tiempo[0])\n",
    "    ka2=round(ka2,4)\n",
    "    \n",
    "    ka=(ka1+ka2)/2\n",
    "    ka=round(ka,4)\n",
    "    \n",
    "    Pa=datos[2]+ka*(tiempo[3]-tiempo[2])\n",
    "    Pa=round(Pa,0)\n",
    "    Pa=int(Pa)\n",
    "\n",
    "\n",
    "    P0=Pa+ka*(tiempo[4]-tiempo[3])\n",
    "    P0=round(P0,0)\n",
    "    P0=int(P0)\n",
    "\n",
    "\n",
    "    P10=P0+ka*(tiempo[5]-tiempo[4])\n",
    "    P10=round(P10,0)\n",
    "    P10=int(P10)\n",
    "\n",
    "\n",
    "    P20=P10+ka*(tiempo[6]-tiempo[5])\n",
    "    P20=round(P20,0)\n",
    "    P20=int(P20)\n",
    "\n",
    "\n",
    "    datos[3]=Pa\n",
    "    datos[4]=P0\n",
    "    datos[5]=P10\n",
    "    datos[6]=P20\n",
    "    datos[7]=ka\n",
    "\n",
    "    return datos"
   ]
  },
  {
   "cell_type": "markdown",
   "metadata": {},
   "source": [
    "# # Obtenemos las \"proyecciones\" para cada \"poblacion\""
   ]
  },
  {
   "cell_type": "code",
   "execution_count": 18,
   "metadata": {
    "collapsed": false,
    "scrolled": true
   },
   "outputs": [],
   "source": [
    "proyecciones = [0] * len(poblaciones)\n",
    "\n",
    "for i in range(len(poblaciones)):\n",
    "    proyecciones[i] = metodo_proyeccion_aritmetica_tasa_dos_ultimos_periodos_censales(poblaciones[i], tiempo)\n",
    "    #print (proyecciones[i])"
   ]
  },
  {
   "cell_type": "code",
   "execution_count": 19,
   "metadata": {
    "collapsed": true
   },
   "outputs": [],
   "source": [
    "# Para evitar que las listas se modifiquen y poder graficar, las convertimos a tuplas y de nuevo a listas\n",
    "# recortamos con pop() los datos que no usamos en los gráficos\n",
    "\n",
    "tuple_of_tuples = tuple(tuple(x) for x in proyecciones)\n",
    "\n",
    "lis_of_list = list(list(x) for x in tuple_of_tuples)\n",
    "\n",
    "for i in range(len(lis_of_list)):\n",
    "    lis_of_list[i].pop()"
   ]
  },
  {
   "cell_type": "markdown",
   "metadata": {},
   "source": [
    "# # Armamos una tabla para mostrar los resultados"
   ]
  },
  {
   "cell_type": "code",
   "execution_count": 20,
   "metadata": {
    "collapsed": true
   },
   "outputs": [],
   "source": [
    "import pandas as pd"
   ]
  },
  {
   "cell_type": "code",
   "execution_count": 21,
   "metadata": {
    "collapsed": false
   },
   "outputs": [
    {
     "data": {
      "text/html": [
       "<div>\n",
       "<table border=\"1\" class=\"dataframe\">\n",
       "  <thead>\n",
       "    <tr style=\"text-align: right;\">\n",
       "      <th></th>\n",
       "      <th>Ciudades</th>\n",
       "      <th>Censo 1</th>\n",
       "      <th>Censo 2</th>\n",
       "      <th>Censo 3</th>\n",
       "      <th>Pactual</th>\n",
       "      <th>P0</th>\n",
       "      <th>P10</th>\n",
       "      <th>P20</th>\n",
       "      <th>ka</th>\n",
       "    </tr>\n",
       "  </thead>\n",
       "  <tbody>\n",
       "    <tr>\n",
       "      <th>0</th>\n",
       "      <td>Comodoro Rivadavia</td>\n",
       "      <td>125725</td>\n",
       "      <td>137061</td>\n",
       "      <td>177083</td>\n",
       "      <td>196615</td>\n",
       "      <td>202195</td>\n",
       "      <td>230097</td>\n",
       "      <td>257999</td>\n",
       "      <td>2790.24</td>\n",
       "    </tr>\n",
       "    <tr>\n",
       "      <th>1</th>\n",
       "      <td>Trelew</td>\n",
       "      <td>79340</td>\n",
       "      <td>89547</td>\n",
       "      <td>99430</td>\n",
       "      <td>106846</td>\n",
       "      <td>108965</td>\n",
       "      <td>119559</td>\n",
       "      <td>130153</td>\n",
       "      <td>1059.41</td>\n",
       "    </tr>\n",
       "    <tr>\n",
       "      <th>2</th>\n",
       "      <td>Puerto Madryn</td>\n",
       "      <td>45047</td>\n",
       "      <td>57791</td>\n",
       "      <td>81995</td>\n",
       "      <td>95868</td>\n",
       "      <td>99832</td>\n",
       "      <td>119651</td>\n",
       "      <td>139470</td>\n",
       "      <td>1981.87</td>\n",
       "    </tr>\n",
       "    <tr>\n",
       "      <th>3</th>\n",
       "      <td>Esquel</td>\n",
       "      <td>23411</td>\n",
       "      <td>28486</td>\n",
       "      <td>32758</td>\n",
       "      <td>36196</td>\n",
       "      <td>37178</td>\n",
       "      <td>42089</td>\n",
       "      <td>47000</td>\n",
       "      <td>491.083</td>\n",
       "    </tr>\n",
       "    <tr>\n",
       "      <th>4</th>\n",
       "      <td>Sarmiento</td>\n",
       "      <td>7209</td>\n",
       "      <td>8292</td>\n",
       "      <td>11124</td>\n",
       "      <td>12604</td>\n",
       "      <td>13027</td>\n",
       "      <td>15142</td>\n",
       "      <td>17257</td>\n",
       "      <td>211.483</td>\n",
       "    </tr>\n",
       "    <tr>\n",
       "      <th>5</th>\n",
       "      <td>Rawson</td>\n",
       "      <td>20674</td>\n",
       "      <td>26183</td>\n",
       "      <td>31787</td>\n",
       "      <td>35894</td>\n",
       "      <td>37068</td>\n",
       "      <td>42936</td>\n",
       "      <td>48804</td>\n",
       "      <td>586.783</td>\n",
       "    </tr>\n",
       "    <tr>\n",
       "      <th>6</th>\n",
       "      <td>Dolavon</td>\n",
       "      <td>2613</td>\n",
       "      <td>2929</td>\n",
       "      <td>3307</td>\n",
       "      <td>3565</td>\n",
       "      <td>3639</td>\n",
       "      <td>4007</td>\n",
       "      <td>4375</td>\n",
       "      <td>36.8</td>\n",
       "    </tr>\n",
       "    <tr>\n",
       "      <th>7</th>\n",
       "      <td>Gaiman</td>\n",
       "      <td>4642</td>\n",
       "      <td>5753</td>\n",
       "      <td>6627</td>\n",
       "      <td>7356</td>\n",
       "      <td>7564</td>\n",
       "      <td>8605</td>\n",
       "      <td>9646</td>\n",
       "      <td>104.106</td>\n",
       "    </tr>\n",
       "    <tr>\n",
       "      <th>8</th>\n",
       "      <td>Gobernador Costa</td>\n",
       "      <td>1913</td>\n",
       "      <td>2185</td>\n",
       "      <td>2374</td>\n",
       "      <td>2543</td>\n",
       "      <td>2591</td>\n",
       "      <td>2832</td>\n",
       "      <td>3073</td>\n",
       "      <td>24.1</td>\n",
       "    </tr>\n",
       "    <tr>\n",
       "      <th>9</th>\n",
       "      <td>Cholila</td>\n",
       "      <td>1527</td>\n",
       "      <td>1981</td>\n",
       "      <td>2228</td>\n",
       "      <td>2483</td>\n",
       "      <td>2556</td>\n",
       "      <td>2920</td>\n",
       "      <td>3284</td>\n",
       "      <td>36.4222</td>\n",
       "    </tr>\n",
       "    <tr>\n",
       "      <th>10</th>\n",
       "      <td>Camarones</td>\n",
       "      <td>868</td>\n",
       "      <td>1079</td>\n",
       "      <td>1296</td>\n",
       "      <td>1454</td>\n",
       "      <td>1499</td>\n",
       "      <td>1725</td>\n",
       "      <td>1951</td>\n",
       "      <td>22.6056</td>\n",
       "    </tr>\n",
       "    <tr>\n",
       "      <th>11</th>\n",
       "      <td>Paso de Indios</td>\n",
       "      <td>864</td>\n",
       "      <td>1087</td>\n",
       "      <td>1264</td>\n",
       "      <td>1411</td>\n",
       "      <td>1453</td>\n",
       "      <td>1663</td>\n",
       "      <td>1873</td>\n",
       "      <td>20.9834</td>\n",
       "    </tr>\n",
       "    <tr>\n",
       "      <th>12</th>\n",
       "      <td>Paso del Sapo</td>\n",
       "      <td>322</td>\n",
       "      <td>384</td>\n",
       "      <td>396</td>\n",
       "      <td>422</td>\n",
       "      <td>430</td>\n",
       "      <td>468</td>\n",
       "      <td>506</td>\n",
       "      <td>3.7667</td>\n",
       "    </tr>\n",
       "    <tr>\n",
       "      <th>13</th>\n",
       "      <td>Años</td>\n",
       "      <td>1991</td>\n",
       "      <td>2001</td>\n",
       "      <td>2010</td>\n",
       "      <td>2017</td>\n",
       "      <td>2019</td>\n",
       "      <td>2029</td>\n",
       "      <td>2039</td>\n",
       "      <td></td>\n",
       "    </tr>\n",
       "  </tbody>\n",
       "</table>\n",
       "</div>"
      ],
      "text/plain": [
       "              Ciudades Censo 1 Censo 2 Censo 3 Pactual      P0     P10  \\\n",
       "0   Comodoro Rivadavia  125725  137061  177083  196615  202195  230097   \n",
       "1               Trelew   79340   89547   99430  106846  108965  119559   \n",
       "2        Puerto Madryn   45047   57791   81995   95868   99832  119651   \n",
       "3               Esquel   23411   28486   32758   36196   37178   42089   \n",
       "4            Sarmiento    7209    8292   11124   12604   13027   15142   \n",
       "5               Rawson   20674   26183   31787   35894   37068   42936   \n",
       "6              Dolavon    2613    2929    3307    3565    3639    4007   \n",
       "7               Gaiman    4642    5753    6627    7356    7564    8605   \n",
       "8     Gobernador Costa    1913    2185    2374    2543    2591    2832   \n",
       "9              Cholila    1527    1981    2228    2483    2556    2920   \n",
       "10           Camarones     868    1079    1296    1454    1499    1725   \n",
       "11      Paso de Indios     864    1087    1264    1411    1453    1663   \n",
       "12       Paso del Sapo     322     384     396     422     430     468   \n",
       "13                Años    1991    2001    2010    2017    2019    2029   \n",
       "\n",
       "       P20       ka  \n",
       "0   257999  2790.24  \n",
       "1   130153  1059.41  \n",
       "2   139470  1981.87  \n",
       "3    47000  491.083  \n",
       "4    17257  211.483  \n",
       "5    48804  586.783  \n",
       "6     4375     36.8  \n",
       "7     9646  104.106  \n",
       "8     3073     24.1  \n",
       "9     3284  36.4222  \n",
       "10    1951  22.6056  \n",
       "11    1873  20.9834  \n",
       "12     506   3.7667  \n",
       "13    2039           "
      ]
     },
     "execution_count": 21,
     "metadata": {},
     "output_type": "execute_result"
    }
   ],
   "source": [
    "ciudades=[\"Comodoro Rivadavia\",\"Trelew\",\"Puerto Madryn\",\"Esquel\",\"Sarmiento\",\"Rawson\",\"Dolavon\",\"Gaiman\",\"Gobernador Costa\",\"Cholila\",\"Camarones\",\"Paso de Indios\",\"Paso del Sapo\"]\n",
    "labels = ['Ciudades']\n",
    "df = pd.DataFrame(ciudades, columns=labels)\n",
    "\n",
    "labels2=['Censo 1', 'Censo 2', 'Censo 3', 'Pactual', 'P0', 'P10','P20','ka']\n",
    "df2 = pd.DataFrame.from_records(proyecciones, columns=labels2)\n",
    "\n",
    "result = pd.concat([df, df2], axis=1, join_axes=[df.index])\n",
    "\n",
    "labels3=labels+labels2\n",
    "s2 = pd.Series(['Años', '1991', '2001', '2010', '2017', '2019', '2029', '2039', ' '], index=labels3)\n",
    "\n",
    "result = result.append(s2, ignore_index=True)\n",
    "result"
   ]
  },
  {
   "cell_type": "markdown",
   "metadata": {},
   "source": [
    "# # Importamos librerias para graficar"
   ]
  },
  {
   "cell_type": "code",
   "execution_count": 22,
   "metadata": {
    "collapsed": false
   },
   "outputs": [
    {
     "data": {
      "text/html": [
       "\n",
       "    <div class=\"bk-root\">\n",
       "        <a href=\"http://bokeh.pydata.org\" target=\"_blank\" class=\"bk-logo bk-logo-small bk-logo-notebook\"></a>\n",
       "        <span id=\"ab3453b9-1f0f-43cf-9c29-e68f7caf3a27\">Loading BokehJS ...</span>\n",
       "    </div>"
      ]
     },
     "metadata": {},
     "output_type": "display_data"
    },
    {
     "data": {
      "application/javascript": [
       "\n",
       "(function(global) {\n",
       "  function now() {\n",
       "    return new Date();\n",
       "  }\n",
       "\n",
       "  if (typeof (window._bokeh_onload_callbacks) === \"undefined\") {\n",
       "    window._bokeh_onload_callbacks = [];\n",
       "  }\n",
       "\n",
       "  function run_callbacks() {\n",
       "    window._bokeh_onload_callbacks.forEach(function(callback) { callback() });\n",
       "    delete window._bokeh_onload_callbacks\n",
       "    console.info(\"Bokeh: all callbacks have finished\");\n",
       "  }\n",
       "\n",
       "  function load_libs(js_urls, callback) {\n",
       "    window._bokeh_onload_callbacks.push(callback);\n",
       "    if (window._bokeh_is_loading > 0) {\n",
       "      console.log(\"Bokeh: BokehJS is being loaded, scheduling callback at\", now());\n",
       "      return null;\n",
       "    }\n",
       "    if (js_urls == null || js_urls.length === 0) {\n",
       "      run_callbacks();\n",
       "      return null;\n",
       "    }\n",
       "    console.log(\"Bokeh: BokehJS not loaded, scheduling load and callback at\", now());\n",
       "    window._bokeh_is_loading = js_urls.length;\n",
       "    for (var i = 0; i < js_urls.length; i++) {\n",
       "      var url = js_urls[i];\n",
       "      var s = document.createElement('script');\n",
       "      s.src = url;\n",
       "      s.async = false;\n",
       "      s.onreadystatechange = s.onload = function() {\n",
       "        window._bokeh_is_loading--;\n",
       "        if (window._bokeh_is_loading === 0) {\n",
       "          console.log(\"Bokeh: all BokehJS libraries loaded\");\n",
       "          run_callbacks()\n",
       "        }\n",
       "      };\n",
       "      s.onerror = function() {\n",
       "        console.warn(\"failed to load library \" + url);\n",
       "      };\n",
       "      console.log(\"Bokeh: injecting script tag for BokehJS library: \", url);\n",
       "      document.getElementsByTagName(\"head\")[0].appendChild(s);\n",
       "    }\n",
       "  };\n",
       "\n",
       "  var js_urls = ['https://cdn.pydata.org/bokeh/release/bokeh-0.12.0.min.js', 'https://cdn.pydata.org/bokeh/release/bokeh-widgets-0.12.0.min.js', 'https://cdn.pydata.org/bokeh/release/bokeh-compiler-0.12.0.min.js'];\n",
       "\n",
       "  var inline_js = [\n",
       "    function(Bokeh) {\n",
       "      Bokeh.set_log_level(\"info\");\n",
       "    },\n",
       "    \n",
       "    function(Bokeh) {\n",
       "      Bokeh.$(\"#ab3453b9-1f0f-43cf-9c29-e68f7caf3a27\").text(\"BokehJS successfully loaded\");\n",
       "    },\n",
       "    function(Bokeh) {\n",
       "      console.log(\"Bokeh: injecting CSS: https://cdn.pydata.org/bokeh/release/bokeh-0.12.0.min.css\");\n",
       "      Bokeh.embed.inject_css(\"https://cdn.pydata.org/bokeh/release/bokeh-0.12.0.min.css\");\n",
       "      console.log(\"Bokeh: injecting CSS: https://cdn.pydata.org/bokeh/release/bokeh-widgets-0.12.0.min.css\");\n",
       "      Bokeh.embed.inject_css(\"https://cdn.pydata.org/bokeh/release/bokeh-widgets-0.12.0.min.css\");\n",
       "    }\n",
       "  ];\n",
       "\n",
       "  function run_inline_js() {\n",
       "    for (var i = 0; i < inline_js.length; i++) {\n",
       "      inline_js[i](window.Bokeh);\n",
       "    }\n",
       "  }\n",
       "\n",
       "  if (window._bokeh_is_loading === 0) {\n",
       "    console.log(\"Bokeh: BokehJS loaded, going straight to plotting\");\n",
       "    run_inline_js();\n",
       "  } else {\n",
       "    load_libs(js_urls, function() {\n",
       "      console.log(\"Bokeh: BokehJS plotting callback run at\", now());\n",
       "      run_inline_js();\n",
       "    });\n",
       "  }\n",
       "}(this));"
      ]
     },
     "metadata": {},
     "output_type": "display_data"
    }
   ],
   "source": [
    "from bokeh.io import push_notebook, show, output_notebook\n",
    "from bokeh.plotting import figure\n",
    "output_notebook()"
   ]
  },
  {
   "cell_type": "markdown",
   "metadata": {},
   "source": [
    "# # Definimos estilos para usar en los gráficos"
   ]
  },
  {
   "cell_type": "code",
   "execution_count": 23,
   "metadata": {
    "collapsed": false
   },
   "outputs": [
    {
     "data": {
      "text/html": [
       "\n",
       "\n",
       "    <div class=\"bk-root\">\n",
       "        <div class=\"plotdiv\" id=\"6d1b267f-bf61-4fdb-813d-96b066cfef01\"></div>\n",
       "    </div>\n",
       "<script type=\"text/javascript\">\n",
       "  \n",
       "  (function(global) {\n",
       "    function now() {\n",
       "      return new Date();\n",
       "    }\n",
       "  \n",
       "    if (typeof (window._bokeh_onload_callbacks) === \"undefined\") {\n",
       "      window._bokeh_onload_callbacks = [];\n",
       "    }\n",
       "  \n",
       "    function run_callbacks() {\n",
       "      window._bokeh_onload_callbacks.forEach(function(callback) { callback() });\n",
       "      delete window._bokeh_onload_callbacks\n",
       "      console.info(\"Bokeh: all callbacks have finished\");\n",
       "    }\n",
       "  \n",
       "    function load_libs(js_urls, callback) {\n",
       "      window._bokeh_onload_callbacks.push(callback);\n",
       "      if (window._bokeh_is_loading > 0) {\n",
       "        console.log(\"Bokeh: BokehJS is being loaded, scheduling callback at\", now());\n",
       "        return null;\n",
       "      }\n",
       "      if (js_urls == null || js_urls.length === 0) {\n",
       "        run_callbacks();\n",
       "        return null;\n",
       "      }\n",
       "      console.log(\"Bokeh: BokehJS not loaded, scheduling load and callback at\", now());\n",
       "      window._bokeh_is_loading = js_urls.length;\n",
       "      for (var i = 0; i < js_urls.length; i++) {\n",
       "        var url = js_urls[i];\n",
       "        var s = document.createElement('script');\n",
       "        s.src = url;\n",
       "        s.async = false;\n",
       "        s.onreadystatechange = s.onload = function() {\n",
       "          window._bokeh_is_loading--;\n",
       "          if (window._bokeh_is_loading === 0) {\n",
       "            console.log(\"Bokeh: all BokehJS libraries loaded\");\n",
       "            run_callbacks()\n",
       "          }\n",
       "        };\n",
       "        s.onerror = function() {\n",
       "          console.warn(\"failed to load library \" + url);\n",
       "        };\n",
       "        console.log(\"Bokeh: injecting script tag for BokehJS library: \", url);\n",
       "        document.getElementsByTagName(\"head\")[0].appendChild(s);\n",
       "      }\n",
       "    };var element = document.getElementById(\"6d1b267f-bf61-4fdb-813d-96b066cfef01\");\n",
       "    if (element == null) {\n",
       "      console.log(\"Bokeh: ERROR: autoload.js configured with elementid '6d1b267f-bf61-4fdb-813d-96b066cfef01' but no matching script tag was found. \")\n",
       "      return false;\n",
       "    }\n",
       "  \n",
       "    var js_urls = [];\n",
       "  \n",
       "    var inline_js = [\n",
       "      function(Bokeh) {\n",
       "        Bokeh.$(function() {\n",
       "            var docs_json = {\"7905e2e7-912a-4e9e-bede-302f5f0a684c\":{\"roots\":{\"references\":[{\"attributes\":{\"callback\":null,\"column_names\":[\"y\",\"x\"],\"data\":{\"x\":[1991,2001,2010,2017,2019,2029,2039],\"y\":[125725,137061,177083,196615,202195,230097,257999]}},\"id\":\"6152bc11-1c46-463d-af8b-5570ddf85b50\",\"type\":\"ColumnDataSource\"},{\"attributes\":{},\"id\":\"50706b17-c13b-4049-a7a3-3daf30aa9022\",\"type\":\"BasicTickFormatter\"},{\"attributes\":{\"fill_alpha\":{\"value\":0.1},\"fill_color\":{\"value\":\"#1f77b4\"},\"line_alpha\":{\"value\":0.1},\"line_color\":{\"value\":\"#1f77b4\"},\"x\":{\"field\":\"x\"},\"y\":{\"field\":\"y\"}},\"id\":\"b74c7403-507e-4582-abe5-8c06be58dcd1\",\"type\":\"Circle\"},{\"attributes\":{\"fill_alpha\":{\"value\":0.1},\"fill_color\":{\"value\":\"#1f77b4\"},\"line_alpha\":{\"value\":0.1},\"line_color\":{\"value\":\"#1f77b4\"},\"x\":{\"field\":\"x\"},\"y\":{\"field\":\"y\"}},\"id\":\"18081e9c-b95b-4c12-b088-90634069a89e\",\"type\":\"Circle\"},{\"attributes\":{\"callback\":null,\"column_names\":[\"y\",\"x\"],\"data\":{\"x\":[1991,2001,2010,2017,2019,2029,2039],\"y\":[868,1079,1296,1454,1499,1725,1951]}},\"id\":\"100679b7-f0a0-4d83-8969-d7ad91fea30a\",\"type\":\"ColumnDataSource\"},{\"attributes\":{\"callback\":null,\"column_names\":[\"y\",\"x\"],\"data\":{\"x\":[1991,2001,2010,2017,2019,2029,2039],\"y\":[79340,89547,99430,106846,108965,119559,130153]}},\"id\":\"15f0caf4-924d-4b48-9af5-45ddd954cd4c\",\"type\":\"ColumnDataSource\"},{\"attributes\":{\"callback\":null,\"column_names\":[\"y\",\"x\"],\"data\":{\"x\":[1991,2001,2010,2017,2019,2029,2039],\"y\":[868,1079,1296,1454,1499,1725,1951]}},\"id\":\"15d426a9-d710-4071-b4c3-4b7f200e2f23\",\"type\":\"ColumnDataSource\"},{\"attributes\":{\"plot\":{\"id\":\"9147d5e2-aefd-4139-813e-5ada53f80050\",\"subtype\":\"Figure\",\"type\":\"Plot\"},\"ticker\":{\"id\":\"1fdef9f7-f3a4-4e3d-ba41-ff42ec33da49\",\"type\":\"BasicTicker\"}},\"id\":\"ead84895-65a3-4a6d-a031-609235173dd0\",\"type\":\"Grid\"},{\"attributes\":{\"callback\":null,\"column_names\":[\"y\",\"x\"],\"data\":{\"x\":[1991,2001,2010,2017,2019,2029,2039],\"y\":[322,384,396,422,430,468,506]}},\"id\":\"63c914ca-862a-4976-b1ff-e12738c96776\",\"type\":\"ColumnDataSource\"},{\"attributes\":{\"fill_color\":{\"value\":\"red\"},\"line_color\":{\"value\":\"red\"},\"x\":{\"field\":\"x\"},\"y\":{\"field\":\"y\"}},\"id\":\"3b30f942-3d8a-429b-8f95-fe9a7171df79\",\"type\":\"Circle\"},{\"attributes\":{\"callback\":null,\"column_names\":[\"y\",\"x\"],\"data\":{\"x\":[1991,2001,2010,2017,2019,2029,2039],\"y\":[4642,5753,6627,7356,7564,8605,9646]}},\"id\":\"d19bf687-52a8-4f91-918b-2ce2e3357247\",\"type\":\"ColumnDataSource\"},{\"attributes\":{\"fill_alpha\":{\"value\":0.1},\"fill_color\":{\"value\":\"#1f77b4\"},\"line_alpha\":{\"value\":0.1},\"line_color\":{\"value\":\"#1f77b4\"},\"x\":{\"field\":\"x\"},\"y\":{\"field\":\"y\"}},\"id\":\"803c8885-ae15-4234-aaba-0572e43e60fa\",\"type\":\"Circle\"},{\"attributes\":{\"fill_color\":{\"value\":\"orange\"},\"line_color\":{\"value\":\"orange\"},\"x\":{\"field\":\"x\"},\"y\":{\"field\":\"y\"}},\"id\":\"557a915d-8ba8-4a5f-ab49-1d52d5afc901\",\"type\":\"Circle\"},{\"attributes\":{\"data_source\":{\"id\":\"15f0caf4-924d-4b48-9af5-45ddd954cd4c\",\"type\":\"ColumnDataSource\"},\"glyph\":{\"id\":\"557a915d-8ba8-4a5f-ab49-1d52d5afc901\",\"type\":\"Circle\"},\"hover_glyph\":null,\"nonselection_glyph\":{\"id\":\"65e751ae-f84b-49f0-8e12-0fc59a651037\",\"type\":\"Circle\"},\"selection_glyph\":null},\"id\":\"4e1945f3-2180-4111-a52d-0abbc3dfe6e3\",\"type\":\"GlyphRenderer\"},{\"attributes\":{\"fill_color\":{\"value\":\"#164c71\"},\"line_color\":{\"value\":\"#164c71\"},\"x\":{\"field\":\"x\"},\"y\":{\"field\":\"y\"}},\"id\":\"d8a5534f-1159-462b-a419-15749047f3bb\",\"type\":\"Circle\"},{\"attributes\":{\"data_source\":{\"id\":\"6152bc11-1c46-463d-af8b-5570ddf85b50\",\"type\":\"ColumnDataSource\"},\"glyph\":{\"id\":\"3b30f942-3d8a-429b-8f95-fe9a7171df79\",\"type\":\"Circle\"},\"hover_glyph\":null,\"nonselection_glyph\":{\"id\":\"7a7f00df-ac07-4286-a5b3-3f8e669e30c0\",\"type\":\"Circle\"},\"selection_glyph\":null},\"id\":\"7989e0cf-8026-411a-bfd6-63c5c23ddbea\",\"type\":\"GlyphRenderer\"},{\"attributes\":{\"plot\":{\"id\":\"9147d5e2-aefd-4139-813e-5ada53f80050\",\"subtype\":\"Figure\",\"type\":\"Plot\"}},\"id\":\"600075c8-be3c-4803-8a3f-d810d0dc1845\",\"type\":\"ResetTool\"},{\"attributes\":{\"data_source\":{\"id\":\"abcda567-6a2f-4da2-8271-1c4a7656bf9f\",\"type\":\"ColumnDataSource\"},\"glyph\":{\"id\":\"bc7451fd-311e-41f5-847e-55a9b61d6fcb\",\"type\":\"Line\"},\"hover_glyph\":null,\"nonselection_glyph\":{\"id\":\"7c17ce0c-98f4-4a88-8ec5-4ec82cf9867f\",\"type\":\"Line\"},\"selection_glyph\":null},\"id\":\"661be3b8-5fb4-40ba-826c-208e4e5eb686\",\"type\":\"GlyphRenderer\"},{\"attributes\":{\"fill_color\":{\"value\":\"magenta\"},\"line_color\":{\"value\":\"magenta\"},\"x\":{\"field\":\"x\"},\"y\":{\"field\":\"y\"}},\"id\":\"9db549c2-9e32-48ef-b9aa-ee89bc2d3590\",\"type\":\"Circle\"},{\"attributes\":{\"data_source\":{\"id\":\"1407d15e-bc8a-4780-ba7c-0c8834621c5a\",\"type\":\"ColumnDataSource\"},\"glyph\":{\"id\":\"d8a5534f-1159-462b-a419-15749047f3bb\",\"type\":\"Circle\"},\"hover_glyph\":null,\"nonselection_glyph\":{\"id\":\"803c8885-ae15-4234-aaba-0572e43e60fa\",\"type\":\"Circle\"},\"selection_glyph\":null},\"id\":\"9c44b617-7c5f-487b-8113-f6e1f695c6b5\",\"type\":\"GlyphRenderer\"},{\"attributes\":{\"callback\":null,\"column_names\":[\"y\",\"x\"],\"data\":{\"x\":[1991,2001,2010,2017,2019,2029,2039],\"y\":[864,1087,1264,1411,1453,1663,1873]}},\"id\":\"ed56c04a-4041-4d33-a1c8-adfbc3e024c3\",\"type\":\"ColumnDataSource\"},{\"attributes\":{\"line_color\":{\"value\":\"blue\"},\"line_width\":{\"value\":2},\"x\":{\"field\":\"x\"},\"y\":{\"field\":\"y\"}},\"id\":\"c526db80-566b-43f7-b33d-c32862dff3c0\",\"type\":\"Line\"},{\"attributes\":{\"line_color\":{\"value\":\"red\"},\"line_width\":{\"value\":2},\"x\":{\"field\":\"x\"},\"y\":{\"field\":\"y\"}},\"id\":\"eab4bada-a73e-4cd8-b4c6-bce534809457\",\"type\":\"Line\"},{\"attributes\":{\"fill_alpha\":{\"value\":0.1},\"fill_color\":{\"value\":\"#1f77b4\"},\"line_alpha\":{\"value\":0.1},\"line_color\":{\"value\":\"#1f77b4\"},\"x\":{\"field\":\"x\"},\"y\":{\"field\":\"y\"}},\"id\":\"9a7e808c-eb23-41f6-8d19-4232ad35d9a9\",\"type\":\"Circle\"},{\"attributes\":{\"data_source\":{\"id\":\"bda693c8-a934-4d84-bce5-df406d2329c1\",\"type\":\"ColumnDataSource\"},\"glyph\":{\"id\":\"f4130f73-6f5b-41fa-b8f9-f39363a65a25\",\"type\":\"Circle\"},\"hover_glyph\":null,\"nonselection_glyph\":{\"id\":\"b74c7403-507e-4582-abe5-8c06be58dcd1\",\"type\":\"Circle\"},\"selection_glyph\":null},\"id\":\"d231f674-f905-4579-aa67-44a463d29002\",\"type\":\"GlyphRenderer\"},{\"attributes\":{\"callback\":null,\"column_names\":[\"y\",\"x\"],\"data\":{\"x\":[1991,2001,2010,2017,2019,2029,2039],\"y\":[20674,26183,31787,35894,37068,42936,48804]}},\"id\":\"5cb30148-fd71-4806-a300-4030ebea0602\",\"type\":\"ColumnDataSource\"},{\"attributes\":{\"data_source\":{\"id\":\"d19bf687-52a8-4f91-918b-2ce2e3357247\",\"type\":\"ColumnDataSource\"},\"glyph\":{\"id\":\"e522a2a2-d6ba-41bd-b8ef-b0c947c1e691\",\"type\":\"Line\"},\"hover_glyph\":null,\"nonselection_glyph\":{\"id\":\"7647a4fe-77a1-4e20-8ee1-5c0193a54b3e\",\"type\":\"Line\"},\"selection_glyph\":null},\"id\":\"816ed483-cdc0-45b7-a847-b4c6d9c835d3\",\"type\":\"GlyphRenderer\"},{\"attributes\":{\"callback\":null,\"column_names\":[\"y\",\"x\"],\"data\":{\"x\":[1991,2001,2010,2017,2019,2029,2039],\"y\":[1527,1981,2228,2483,2556,2920,3284]}},\"id\":\"80ecbbc8-2dea-4788-9969-064dc3df8914\",\"type\":\"ColumnDataSource\"},{\"attributes\":{\"fill_alpha\":{\"value\":0.1},\"fill_color\":{\"value\":\"#1f77b4\"},\"line_alpha\":{\"value\":0.1},\"line_color\":{\"value\":\"#1f77b4\"},\"x\":{\"field\":\"x\"},\"y\":{\"field\":\"y\"}},\"id\":\"b3ab04c3-567f-47bc-becc-377760871293\",\"type\":\"Circle\"},{\"attributes\":{\"fill_alpha\":{\"value\":0.1},\"fill_color\":{\"value\":\"#1f77b4\"},\"line_alpha\":{\"value\":0.1},\"line_color\":{\"value\":\"#1f77b4\"},\"x\":{\"field\":\"x\"},\"y\":{\"field\":\"y\"}},\"id\":\"1fb98d93-81ac-4b05-b8fb-c9d15730e48e\",\"type\":\"Circle\"},{\"attributes\":{\"fill_alpha\":{\"value\":0.1},\"fill_color\":{\"value\":\"#1f77b4\"},\"line_alpha\":{\"value\":0.1},\"line_color\":{\"value\":\"#1f77b4\"},\"x\":{\"field\":\"x\"},\"y\":{\"field\":\"y\"}},\"id\":\"7a7f00df-ac07-4286-a5b3-3f8e669e30c0\",\"type\":\"Circle\"},{\"attributes\":{\"bottom_units\":\"screen\",\"fill_alpha\":{\"value\":0.5},\"fill_color\":{\"value\":\"lightgrey\"},\"left_units\":\"screen\",\"level\":\"overlay\",\"line_alpha\":{\"value\":1.0},\"line_color\":{\"value\":\"black\"},\"line_dash\":[4,4],\"line_width\":{\"value\":2},\"plot\":null,\"render_mode\":\"css\",\"right_units\":\"screen\",\"top_units\":\"screen\"},\"id\":\"83ba3c04-62c3-42a5-9d83-efac02281670\",\"type\":\"BoxAnnotation\"},{\"attributes\":{\"fill_color\":{\"value\":\"yellow\"},\"line_color\":{\"value\":\"yellow\"},\"x\":{\"field\":\"x\"},\"y\":{\"field\":\"y\"}},\"id\":\"05a9558c-ebbe-4164-be32-d7c2b8a83937\",\"type\":\"Circle\"},{\"attributes\":{\"fill_color\":{\"value\":\"firebrick\"},\"line_color\":{\"value\":\"firebrick\"},\"x\":{\"field\":\"x\"},\"y\":{\"field\":\"y\"}},\"id\":\"340eb6ca-76b6-4d44-820e-e2dce9a43bfa\",\"type\":\"Circle\"},{\"attributes\":{\"callback\":null,\"column_names\":[\"y\",\"x\"],\"data\":{\"x\":[1991,2001,2010,2017,2019,2029,2039],\"y\":[45047,57791,81995,95868,99832,119651,139470]}},\"id\":\"bda693c8-a934-4d84-bce5-df406d2329c1\",\"type\":\"ColumnDataSource\"},{\"attributes\":{\"fill_alpha\":{\"value\":0.1},\"fill_color\":{\"value\":\"#1f77b4\"},\"line_alpha\":{\"value\":0.1},\"line_color\":{\"value\":\"#1f77b4\"},\"x\":{\"field\":\"x\"},\"y\":{\"field\":\"y\"}},\"id\":\"a1348d01-33ed-48c0-9f96-455fe78abab8\",\"type\":\"Circle\"},{\"attributes\":{\"fill_color\":{\"value\":\"navy\"},\"line_color\":{\"value\":\"navy\"},\"x\":{\"field\":\"x\"},\"y\":{\"field\":\"y\"}},\"id\":\"fa8893de-3ccc-4872-af94-07c12be0562d\",\"type\":\"Circle\"},{\"attributes\":{\"callback\":null,\"column_names\":[\"y\",\"x\"],\"data\":{\"x\":[1991,2001,2010,2017,2019,2029,2039],\"y\":[23411,28486,32758,36196,37178,42089,47000]}},\"id\":\"abcda567-6a2f-4da2-8271-1c4a7656bf9f\",\"type\":\"ColumnDataSource\"},{\"attributes\":{\"data_source\":{\"id\":\"20f2a3c6-f000-428e-9b24-b944a0bf2a2d\",\"type\":\"ColumnDataSource\"},\"glyph\":{\"id\":\"c526db80-566b-43f7-b33d-c32862dff3c0\",\"type\":\"Line\"},\"hover_glyph\":null,\"nonselection_glyph\":{\"id\":\"02163da4-a8f6-476d-83db-d1367ea702d5\",\"type\":\"Line\"},\"selection_glyph\":null},\"id\":\"d1ccdf2c-b3cc-4af4-bd02-2c41387982e6\",\"type\":\"GlyphRenderer\"},{\"attributes\":{\"use_scientific\":false},\"id\":\"2ae23540-ae17-4b8f-bf92-1365bd128145\",\"type\":\"BasicTickFormatter\"},{\"attributes\":{\"data_source\":{\"id\":\"eb2b7864-f369-4386-a856-2a10ad0b2ec6\",\"type\":\"ColumnDataSource\"},\"glyph\":{\"id\":\"4018c46d-f6b1-405e-bb7a-0ccc039a18fd\",\"type\":\"Line\"},\"hover_glyph\":null,\"nonselection_glyph\":{\"id\":\"8337fdb1-ff27-4b9d-99ff-526689247d50\",\"type\":\"Line\"},\"selection_glyph\":null},\"id\":\"08758600-aff1-4ef6-90fb-692a2176eaca\",\"type\":\"GlyphRenderer\"},{\"attributes\":{\"line_alpha\":{\"value\":0.1},\"line_color\":{\"value\":\"#1f77b4\"},\"line_width\":{\"value\":2},\"x\":{\"field\":\"x\"},\"y\":{\"field\":\"y\"}},\"id\":\"b2aa540f-d7bc-40a6-ab0c-c4a5af67748f\",\"type\":\"Line\"},{\"attributes\":{\"data_source\":{\"id\":\"58c33142-8e86-4f5d-8624-21fd958647b9\",\"type\":\"ColumnDataSource\"},\"glyph\":{\"id\":\"0b1d82d8-b5b0-4eb5-8687-9a7d3d3ce816\",\"type\":\"Line\"},\"hover_glyph\":null,\"nonselection_glyph\":{\"id\":\"228037f4-be64-4b07-8297-2c0b76f4b388\",\"type\":\"Line\"},\"selection_glyph\":null},\"id\":\"4e27db9f-bd5a-4a40-af1b-474a93cfecce\",\"type\":\"GlyphRenderer\"},{\"attributes\":{\"data_source\":{\"id\":\"15d426a9-d710-4071-b4c3-4b7f200e2f23\",\"type\":\"ColumnDataSource\"},\"glyph\":{\"id\":\"11bd0b9c-e8de-4df6-9be0-a9a88a35bde6\",\"type\":\"Circle\"},\"hover_glyph\":null,\"nonselection_glyph\":{\"id\":\"b3ab04c3-567f-47bc-becc-377760871293\",\"type\":\"Circle\"},\"selection_glyph\":null},\"id\":\"ad2e3228-c301-4ea7-9a4c-eda6a835cb81\",\"type\":\"GlyphRenderer\"},{\"attributes\":{\"line_color\":{\"value\":\"cyan\"},\"line_width\":{\"value\":2},\"x\":{\"field\":\"x\"},\"y\":{\"field\":\"y\"}},\"id\":\"0b1d82d8-b5b0-4eb5-8687-9a7d3d3ce816\",\"type\":\"Line\"},{\"attributes\":{\"callback\":null,\"column_names\":[\"y\",\"x\"],\"data\":{\"x\":[1991,2001,2010,2017,2019,2029,2039],\"y\":[864,1087,1264,1411,1453,1663,1873]}},\"id\":\"1407d15e-bc8a-4780-ba7c-0c8834621c5a\",\"type\":\"ColumnDataSource\"},{\"attributes\":{\"fill_alpha\":{\"value\":0.1},\"fill_color\":{\"value\":\"#1f77b4\"},\"line_alpha\":{\"value\":0.1},\"line_color\":{\"value\":\"#1f77b4\"},\"x\":{\"field\":\"x\"},\"y\":{\"field\":\"y\"}},\"id\":\"adc80442-3af4-408b-815e-fd51dac299e1\",\"type\":\"Circle\"},{\"attributes\":{\"axis_label\":\"Tiempo\",\"formatter\":{\"id\":\"50706b17-c13b-4049-a7a3-3daf30aa9022\",\"type\":\"BasicTickFormatter\"},\"plot\":{\"id\":\"9147d5e2-aefd-4139-813e-5ada53f80050\",\"subtype\":\"Figure\",\"type\":\"Plot\"},\"ticker\":{\"id\":\"1fdef9f7-f3a4-4e3d-ba41-ff42ec33da49\",\"type\":\"BasicTicker\"}},\"id\":\"bee4b00b-12c7-4f95-b103-603da6b3605e\",\"type\":\"LinearAxis\"},{\"attributes\":{\"fill_color\":{\"value\":\"pink\"},\"line_color\":{\"value\":\"pink\"},\"x\":{\"field\":\"x\"},\"y\":{\"field\":\"y\"}},\"id\":\"bf1b52a2-6366-4f48-a807-53bd5fad14f6\",\"type\":\"Circle\"},{\"attributes\":{\"data_source\":{\"id\":\"ed56c04a-4041-4d33-a1c8-adfbc3e024c3\",\"type\":\"ColumnDataSource\"},\"glyph\":{\"id\":\"1d1c3bf4-958e-42cc-9898-74a501a3e2ce\",\"type\":\"Line\"},\"hover_glyph\":null,\"nonselection_glyph\":{\"id\":\"b2aa540f-d7bc-40a6-ab0c-c4a5af67748f\",\"type\":\"Line\"},\"selection_glyph\":null},\"id\":\"57dc298c-1a64-4758-8d5a-a6ea25a9350f\",\"type\":\"GlyphRenderer\"},{\"attributes\":{\"fill_alpha\":{\"value\":0.1},\"fill_color\":{\"value\":\"#1f77b4\"},\"line_alpha\":{\"value\":0.1},\"line_color\":{\"value\":\"#1f77b4\"},\"x\":{\"field\":\"x\"},\"y\":{\"field\":\"y\"}},\"id\":\"5bf2e642-c405-4410-92c2-d4eebbb8a475\",\"type\":\"Circle\"},{\"attributes\":{\"plot\":{\"id\":\"9147d5e2-aefd-4139-813e-5ada53f80050\",\"subtype\":\"Figure\",\"type\":\"Plot\"}},\"id\":\"30fd4fb8-f442-40d3-a531-1e787e68fc2a\",\"type\":\"HelpTool\"},{\"attributes\":{\"align\":\"center\",\"plot\":null,\"text\":\"Poblaci\\u00f3n - Proyecci\\u00f3n Aritm\\u00e9tica Tasa Dos \\u00daltimos Per\\u00edodos Censales\",\"text_color\":{\"value\":\"blue\"},\"text_font\":\"times\",\"text_font_size\":{\"value\":\"20px\"},\"text_font_style\":\"italic\"},\"id\":\"b0ffeef5-4251-4ef4-a210-d14386fedde3\",\"type\":\"Title\"},{\"attributes\":{\"callback\":null,\"column_names\":[\"y\",\"x\"],\"data\":{\"x\":[1991,2001,2010,2017,2019,2029,2039],\"y\":[4642,5753,6627,7356,7564,8605,9646]}},\"id\":\"588e6bbd-9fe9-43d1-8690-2fd4ffa02c7b\",\"type\":\"ColumnDataSource\"},{\"attributes\":{\"callback\":null,\"column_names\":[\"y\",\"x\"],\"data\":{\"x\":[1991,2001,2010,2017,2019,2029,2039],\"y\":[1527,1981,2228,2483,2556,2920,3284]}},\"id\":\"d45af748-58bb-445a-8a99-87bc55e0c1fa\",\"type\":\"ColumnDataSource\"},{\"attributes\":{\"plot\":{\"id\":\"9147d5e2-aefd-4139-813e-5ada53f80050\",\"subtype\":\"Figure\",\"type\":\"Plot\"}},\"id\":\"7e964c41-af5f-4313-a45f-ca5ab2cdc569\",\"type\":\"SaveTool\"},{\"attributes\":{\"callback\":null,\"column_names\":[\"y\",\"x\"],\"data\":{\"x\":[1991,2001,2010,2017,2019,2029,2039],\"y\":[125725,137061,177083,196615,202195,230097,257999]}},\"id\":\"8c855277-11ba-4109-8d56-f81b926a9c2f\",\"type\":\"ColumnDataSource\"},{\"attributes\":{\"dimension\":1,\"plot\":{\"id\":\"9147d5e2-aefd-4139-813e-5ada53f80050\",\"subtype\":\"Figure\",\"type\":\"Plot\"},\"ticker\":{\"id\":\"d5c9de48-92fb-4a31-a270-8e9333f4171b\",\"type\":\"BasicTicker\"}},\"id\":\"3281024d-db13-47b0-b614-897a251d5354\",\"type\":\"Grid\"},{\"attributes\":{},\"id\":\"1fdef9f7-f3a4-4e3d-ba41-ff42ec33da49\",\"type\":\"BasicTicker\"},{\"attributes\":{\"data_source\":{\"id\":\"8b77bf34-4096-4869-915f-b74c68251ad1\",\"type\":\"ColumnDataSource\"},\"glyph\":{\"id\":\"deade658-1ec8-4951-a71b-a7e0b38f2dae\",\"type\":\"Circle\"},\"hover_glyph\":null,\"nonselection_glyph\":{\"id\":\"18081e9c-b95b-4c12-b088-90634069a89e\",\"type\":\"Circle\"},\"selection_glyph\":null},\"id\":\"818d95f3-d56e-49d7-8d24-67ce5b17d7f7\",\"type\":\"GlyphRenderer\"},{\"attributes\":{\"callback\":null,\"column_names\":[\"y\",\"x\"],\"data\":{\"x\":[1991,2001,2010,2017,2019,2029,2039],\"y\":[79340,89547,99430,106846,108965,119559,130153]}},\"id\":\"77999d3e-b173-43ca-8476-39412c47c807\",\"type\":\"ColumnDataSource\"},{\"attributes\":{\"data_source\":{\"id\":\"8c855277-11ba-4109-8d56-f81b926a9c2f\",\"type\":\"ColumnDataSource\"},\"glyph\":{\"id\":\"eab4bada-a73e-4cd8-b4c6-bce534809457\",\"type\":\"Line\"},\"hover_glyph\":null,\"nonselection_glyph\":{\"id\":\"5ef83890-18e0-4b03-b15d-4fae9898c2c5\",\"type\":\"Line\"},\"selection_glyph\":null},\"id\":\"de1be383-7f1f-4ecc-9de3-3e4822f1dbf8\",\"type\":\"GlyphRenderer\"},{\"attributes\":{\"data_source\":{\"id\":\"63c914ca-862a-4976-b1ff-e12738c96776\",\"type\":\"ColumnDataSource\"},\"glyph\":{\"id\":\"1f3da65a-05e4-43af-8486-963b1a7bb434\",\"type\":\"Circle\"},\"hover_glyph\":null,\"nonselection_glyph\":{\"id\":\"7555fac2-a6be-48c9-8849-74131126be09\",\"type\":\"Circle\"},\"selection_glyph\":null},\"id\":\"bc7b442d-5420-4f03-9ba7-5c71b5ac9f0a\",\"type\":\"GlyphRenderer\"},{\"attributes\":{\"callback\":null,\"column_names\":[\"y\",\"x\"],\"data\":{\"x\":[1991,2001,2010,2017,2019,2029,2039],\"y\":[1913,2185,2374,2543,2591,2832,3073]}},\"id\":\"58c33142-8e86-4f5d-8624-21fd958647b9\",\"type\":\"ColumnDataSource\"},{\"attributes\":{\"line_color\":{\"value\":\"firebrick\"},\"line_width\":{\"value\":2},\"x\":{\"field\":\"x\"},\"y\":{\"field\":\"y\"}},\"id\":\"e522a2a2-d6ba-41bd-b8ef-b0c947c1e691\",\"type\":\"Line\"},{\"attributes\":{\"fill_color\":{\"value\":\"blue\"},\"line_color\":{\"value\":\"blue\"},\"x\":{\"field\":\"x\"},\"y\":{\"field\":\"y\"}},\"id\":\"f4130f73-6f5b-41fa-b8f9-f39363a65a25\",\"type\":\"Circle\"},{\"attributes\":{\"data_source\":{\"id\":\"77999d3e-b173-43ca-8476-39412c47c807\",\"type\":\"ColumnDataSource\"},\"glyph\":{\"id\":\"c9c01caf-c391-46b8-ae31-0addf2850f68\",\"type\":\"Line\"},\"hover_glyph\":null,\"nonselection_glyph\":{\"id\":\"d6f865a4-435b-4c5a-a753-84782688a8cb\",\"type\":\"Line\"},\"selection_glyph\":null},\"id\":\"d22eefef-da7d-4db2-8235-ddb7552adf80\",\"type\":\"GlyphRenderer\"},{\"attributes\":{\"data_source\":{\"id\":\"7594fa3c-63f7-4e39-b9ce-c9680f4f2161\",\"type\":\"ColumnDataSource\"},\"glyph\":{\"id\":\"06a6088e-c836-42d1-aaba-e5ed23592c5c\",\"type\":\"Line\"},\"hover_glyph\":null,\"nonselection_glyph\":{\"id\":\"0b4c0b8b-0149-4644-bad5-4e64d92bdda9\",\"type\":\"Line\"},\"selection_glyph\":null},\"id\":\"a9fb6484-0e78-4fb2-8f63-4b0a21eacbc3\",\"type\":\"GlyphRenderer\"},{\"attributes\":{\"line_alpha\":{\"value\":0.1},\"line_color\":{\"value\":\"#1f77b4\"},\"line_width\":{\"value\":2},\"x\":{\"field\":\"x\"},\"y\":{\"field\":\"y\"}},\"id\":\"02163da4-a8f6-476d-83db-d1367ea702d5\",\"type\":\"Line\"},{\"attributes\":{\"data_source\":{\"id\":\"80ecbbc8-2dea-4788-9969-064dc3df8914\",\"type\":\"ColumnDataSource\"},\"glyph\":{\"id\":\"9db549c2-9e32-48ef-b9aa-ee89bc2d3590\",\"type\":\"Circle\"},\"hover_glyph\":null,\"nonselection_glyph\":{\"id\":\"5bf2e642-c405-4410-92c2-d4eebbb8a475\",\"type\":\"Circle\"},\"selection_glyph\":null},\"id\":\"c3b9cce5-eef5-444e-9686-2b59eae1213f\",\"type\":\"GlyphRenderer\"},{\"attributes\":{},\"id\":\"36c7a22f-1dd8-40e8-b113-a4f114fe21ff\",\"type\":\"ToolEvents\"},{\"attributes\":{\"data_source\":{\"id\":\"a58d4f6f-35eb-4469-9933-e2ea3e03d95f\",\"type\":\"ColumnDataSource\"},\"glyph\":{\"id\":\"360e9250-d890-4fd1-8599-2ee565ef1264\",\"type\":\"Line\"},\"hover_glyph\":null,\"nonselection_glyph\":{\"id\":\"8750d59a-2b0c-4b34-89da-18638ba90881\",\"type\":\"Line\"},\"selection_glyph\":null},\"id\":\"9c55fbc2-7fbd-4ce6-83ac-38804647f826\",\"type\":\"GlyphRenderer\"},{\"attributes\":{\"fill_alpha\":{\"value\":0.1},\"fill_color\":{\"value\":\"#1f77b4\"},\"line_alpha\":{\"value\":0.1},\"line_color\":{\"value\":\"#1f77b4\"},\"x\":{\"field\":\"x\"},\"y\":{\"field\":\"y\"}},\"id\":\"d7dc347f-d203-4ff5-bd0a-136b376ac7e4\",\"type\":\"Circle\"},{\"attributes\":{\"line_color\":{\"value\":\"green\"},\"line_width\":{\"value\":2},\"x\":{\"field\":\"x\"},\"y\":{\"field\":\"y\"}},\"id\":\"bc7451fd-311e-41f5-847e-55a9b61d6fcb\",\"type\":\"Line\"},{\"attributes\":{},\"id\":\"d5c9de48-92fb-4a31-a270-8e9333f4171b\",\"type\":\"BasicTicker\"},{\"attributes\":{\"fill_color\":{\"value\":\"#7c1b65\"},\"line_color\":{\"value\":\"#7c1b65\"},\"x\":{\"field\":\"x\"},\"y\":{\"field\":\"y\"}},\"id\":\"1f3da65a-05e4-43af-8486-963b1a7bb434\",\"type\":\"Circle\"},{\"attributes\":{\"fill_alpha\":{\"value\":0.1},\"fill_color\":{\"value\":\"#1f77b4\"},\"line_alpha\":{\"value\":0.1},\"line_color\":{\"value\":\"#1f77b4\"},\"x\":{\"field\":\"x\"},\"y\":{\"field\":\"y\"}},\"id\":\"7555fac2-a6be-48c9-8849-74131126be09\",\"type\":\"Circle\"},{\"attributes\":{\"overlay\":{\"id\":\"83ba3c04-62c3-42a5-9d83-efac02281670\",\"type\":\"BoxAnnotation\"},\"plot\":{\"id\":\"9147d5e2-aefd-4139-813e-5ada53f80050\",\"subtype\":\"Figure\",\"type\":\"Plot\"}},\"id\":\"b1616fc2-c54f-4bd2-8936-6aef7d6a6d26\",\"type\":\"BoxZoomTool\"},{\"attributes\":{\"line_color\":{\"value\":\"#164c71\"},\"line_width\":{\"value\":2},\"x\":{\"field\":\"x\"},\"y\":{\"field\":\"y\"}},\"id\":\"1d1c3bf4-958e-42cc-9898-74a501a3e2ce\",\"type\":\"Line\"},{\"attributes\":{\"below\":[{\"id\":\"bee4b00b-12c7-4f95-b103-603da6b3605e\",\"type\":\"LinearAxis\"}],\"left\":[{\"id\":\"21c9237d-6584-4498-85b8-449e2939590a\",\"type\":\"LinearAxis\"}],\"plot_width\":900,\"renderers\":[{\"id\":\"bee4b00b-12c7-4f95-b103-603da6b3605e\",\"type\":\"LinearAxis\"},{\"id\":\"ead84895-65a3-4a6d-a031-609235173dd0\",\"type\":\"Grid\"},{\"id\":\"21c9237d-6584-4498-85b8-449e2939590a\",\"type\":\"LinearAxis\"},{\"id\":\"3281024d-db13-47b0-b614-897a251d5354\",\"type\":\"Grid\"},{\"id\":\"83ba3c04-62c3-42a5-9d83-efac02281670\",\"type\":\"BoxAnnotation\"},{\"id\":\"3e3c3817-f7f1-443b-adcf-bf0f7f687a21\",\"type\":\"Legend\"},{\"id\":\"7989e0cf-8026-411a-bfd6-63c5c23ddbea\",\"type\":\"GlyphRenderer\"},{\"id\":\"de1be383-7f1f-4ecc-9de3-3e4822f1dbf8\",\"type\":\"GlyphRenderer\"},{\"id\":\"4e1945f3-2180-4111-a52d-0abbc3dfe6e3\",\"type\":\"GlyphRenderer\"},{\"id\":\"d22eefef-da7d-4db2-8235-ddb7552adf80\",\"type\":\"GlyphRenderer\"},{\"id\":\"d231f674-f905-4579-aa67-44a463d29002\",\"type\":\"GlyphRenderer\"},{\"id\":\"d1ccdf2c-b3cc-4af4-bd02-2c41387982e6\",\"type\":\"GlyphRenderer\"},{\"id\":\"818d95f3-d56e-49d7-8d24-67ce5b17d7f7\",\"type\":\"GlyphRenderer\"},{\"id\":\"661be3b8-5fb4-40ba-826c-208e4e5eb686\",\"type\":\"GlyphRenderer\"},{\"id\":\"5cc4ca8a-c009-4b5e-9217-3fac652d5f4b\",\"type\":\"GlyphRenderer\"},{\"id\":\"a9fb6484-0e78-4fb2-8f63-4b0a21eacbc3\",\"type\":\"GlyphRenderer\"},{\"id\":\"eac47c2e-c891-4184-a763-68f62ca333c9\",\"type\":\"GlyphRenderer\"},{\"id\":\"d106b4d7-6185-4b10-9496-2ba9119865ba\",\"type\":\"GlyphRenderer\"},{\"id\":\"ab1bd412-15ee-4985-8e13-8323ddfb878c\",\"type\":\"GlyphRenderer\"},{\"id\":\"9c55fbc2-7fbd-4ce6-83ac-38804647f826\",\"type\":\"GlyphRenderer\"},{\"id\":\"5588e2bf-8e78-4baa-83ba-0c6d2371db55\",\"type\":\"GlyphRenderer\"},{\"id\":\"816ed483-cdc0-45b7-a847-b4c6d9c835d3\",\"type\":\"GlyphRenderer\"},{\"id\":\"d63b283a-2326-479b-a6b4-002c822cfc1a\",\"type\":\"GlyphRenderer\"},{\"id\":\"4e27db9f-bd5a-4a40-af1b-474a93cfecce\",\"type\":\"GlyphRenderer\"},{\"id\":\"c3b9cce5-eef5-444e-9686-2b59eae1213f\",\"type\":\"GlyphRenderer\"},{\"id\":\"de904b66-75d9-452e-b9b5-c1dfcd8d980c\",\"type\":\"GlyphRenderer\"},{\"id\":\"ad2e3228-c301-4ea7-9a4c-eda6a835cb81\",\"type\":\"GlyphRenderer\"},{\"id\":\"1a8122e9-b3fa-4f76-81d7-0af6f419db4f\",\"type\":\"GlyphRenderer\"},{\"id\":\"9c44b617-7c5f-487b-8113-f6e1f695c6b5\",\"type\":\"GlyphRenderer\"},{\"id\":\"57dc298c-1a64-4758-8d5a-a6ea25a9350f\",\"type\":\"GlyphRenderer\"},{\"id\":\"bc7b442d-5420-4f03-9ba7-5c71b5ac9f0a\",\"type\":\"GlyphRenderer\"},{\"id\":\"08758600-aff1-4ef6-90fb-692a2176eaca\",\"type\":\"GlyphRenderer\"}],\"title\":{\"id\":\"b0ffeef5-4251-4ef4-a210-d14386fedde3\",\"type\":\"Title\"},\"tool_events\":{\"id\":\"36c7a22f-1dd8-40e8-b113-a4f114fe21ff\",\"type\":\"ToolEvents\"},\"toolbar\":{\"id\":\"54b05695-b39b-4dcb-8fdb-8eb3c98fbcff\",\"type\":\"Toolbar\"},\"x_range\":{\"id\":\"1a4fa62f-9f8a-4ff6-95b6-fbc81488a546\",\"type\":\"DataRange1d\"},\"y_range\":{\"id\":\"dd5dcfdd-fe5d-47ca-a40e-4ec57b585252\",\"type\":\"DataRange1d\"}},\"id\":\"9147d5e2-aefd-4139-813e-5ada53f80050\",\"subtype\":\"Figure\",\"type\":\"Plot\"},{\"attributes\":{\"callback\":null,\"column_names\":[\"y\",\"x\"],\"data\":{\"x\":[1991,2001,2010,2017,2019,2029,2039],\"y\":[2613,2929,3307,3565,3639,4007,4375]}},\"id\":\"24644790-336d-4648-af29-e2a03bda7945\",\"type\":\"ColumnDataSource\"},{\"attributes\":{\"plot\":{\"id\":\"9147d5e2-aefd-4139-813e-5ada53f80050\",\"subtype\":\"Figure\",\"type\":\"Plot\"}},\"id\":\"656b857a-8709-4c90-9bf1-c0fa3e0fb306\",\"type\":\"WheelZoomTool\"},{\"attributes\":{\"line_color\":{\"value\":\"pink\"},\"line_width\":{\"value\":2},\"x\":{\"field\":\"x\"},\"y\":{\"field\":\"y\"}},\"id\":\"19a5775d-507e-44d2-9050-36564d7eb1f7\",\"type\":\"Line\"},{\"attributes\":{\"line_color\":{\"value\":\"yellow\"},\"line_width\":{\"value\":2},\"x\":{\"field\":\"x\"},\"y\":{\"field\":\"y\"}},\"id\":\"06a6088e-c836-42d1-aaba-e5ed23592c5c\",\"type\":\"Line\"},{\"attributes\":{\"line_alpha\":{\"value\":0.1},\"line_color\":{\"value\":\"#1f77b4\"},\"line_width\":{\"value\":2},\"x\":{\"field\":\"x\"},\"y\":{\"field\":\"y\"}},\"id\":\"d6f865a4-435b-4c5a-a753-84782688a8cb\",\"type\":\"Line\"},{\"attributes\":{\"axis_label\":\"Poblaci\\u00f3n\",\"formatter\":{\"id\":\"2ae23540-ae17-4b8f-bf92-1365bd128145\",\"type\":\"BasicTickFormatter\"},\"plot\":{\"id\":\"9147d5e2-aefd-4139-813e-5ada53f80050\",\"subtype\":\"Figure\",\"type\":\"Plot\"},\"ticker\":{\"id\":\"d5c9de48-92fb-4a31-a270-8e9333f4171b\",\"type\":\"BasicTicker\"}},\"id\":\"21c9237d-6584-4498-85b8-449e2939590a\",\"type\":\"LinearAxis\"},{\"attributes\":{\"data_source\":{\"id\":\"588e6bbd-9fe9-43d1-8690-2fd4ffa02c7b\",\"type\":\"ColumnDataSource\"},\"glyph\":{\"id\":\"340eb6ca-76b6-4d44-820e-e2dce9a43bfa\",\"type\":\"Circle\"},\"hover_glyph\":null,\"nonselection_glyph\":{\"id\":\"d7dc347f-d203-4ff5-bd0a-136b376ac7e4\",\"type\":\"Circle\"},\"selection_glyph\":null},\"id\":\"5588e2bf-8e78-4baa-83ba-0c6d2371db55\",\"type\":\"GlyphRenderer\"},{\"attributes\":{\"data_source\":{\"id\":\"24644790-336d-4648-af29-e2a03bda7945\",\"type\":\"ColumnDataSource\"},\"glyph\":{\"id\":\"fa8893de-3ccc-4872-af94-07c12be0562d\",\"type\":\"Circle\"},\"hover_glyph\":null,\"nonselection_glyph\":{\"id\":\"1fb98d93-81ac-4b05-b8fb-c9d15730e48e\",\"type\":\"Circle\"},\"selection_glyph\":null},\"id\":\"ab1bd412-15ee-4985-8e13-8323ddfb878c\",\"type\":\"GlyphRenderer\"},{\"attributes\":{\"line_alpha\":{\"value\":0.1},\"line_color\":{\"value\":\"#1f77b4\"},\"line_width\":{\"value\":2},\"x\":{\"field\":\"x\"},\"y\":{\"field\":\"y\"}},\"id\":\"dea3f4a5-68f4-445c-9117-ee22e5d11f60\",\"type\":\"Line\"},{\"attributes\":{\"active_drag\":\"auto\",\"active_scroll\":\"auto\",\"active_tap\":\"auto\",\"tools\":[{\"id\":\"17a7e988-75e4-4e7d-98dd-4882ae7245b6\",\"type\":\"PanTool\"},{\"id\":\"656b857a-8709-4c90-9bf1-c0fa3e0fb306\",\"type\":\"WheelZoomTool\"},{\"id\":\"b1616fc2-c54f-4bd2-8936-6aef7d6a6d26\",\"type\":\"BoxZoomTool\"},{\"id\":\"7e964c41-af5f-4313-a45f-ca5ab2cdc569\",\"type\":\"SaveTool\"},{\"id\":\"600075c8-be3c-4803-8a3f-d810d0dc1845\",\"type\":\"ResetTool\"},{\"id\":\"30fd4fb8-f442-40d3-a531-1e787e68fc2a\",\"type\":\"HelpTool\"}]},\"id\":\"54b05695-b39b-4dcb-8fdb-8eb3c98fbcff\",\"type\":\"Toolbar\"},{\"attributes\":{\"callback\":null},\"id\":\"1a4fa62f-9f8a-4ff6-95b6-fbc81488a546\",\"type\":\"DataRange1d\"},{\"attributes\":{\"line_alpha\":{\"value\":0.1},\"line_color\":{\"value\":\"#1f77b4\"},\"line_width\":{\"value\":2},\"x\":{\"field\":\"x\"},\"y\":{\"field\":\"y\"}},\"id\":\"7c17ce0c-98f4-4a88-8ec5-4ec82cf9867f\",\"type\":\"Line\"},{\"attributes\":{\"callback\":null,\"column_names\":[\"y\",\"x\"],\"data\":{\"x\":[1991,2001,2010,2017,2019,2029,2039],\"y\":[7209,8292,11124,12604,13027,15142,17257]}},\"id\":\"3d615448-9643-4d57-8ad1-0fac1d851f90\",\"type\":\"ColumnDataSource\"},{\"attributes\":{\"line_alpha\":{\"value\":0.1},\"line_color\":{\"value\":\"#1f77b4\"},\"line_width\":{\"value\":2},\"x\":{\"field\":\"x\"},\"y\":{\"field\":\"y\"}},\"id\":\"0b4c0b8b-0149-4644-bad5-4e64d92bdda9\",\"type\":\"Line\"},{\"attributes\":{\"data_source\":{\"id\":\"b2da2b41-ae87-4edc-82a4-031ef6cbddf5\",\"type\":\"ColumnDataSource\"},\"glyph\":{\"id\":\"18e7d009-343e-44b7-b0d9-50bfa106f3da\",\"type\":\"Circle\"},\"hover_glyph\":null,\"nonselection_glyph\":{\"id\":\"adc80442-3af4-408b-815e-fd51dac299e1\",\"type\":\"Circle\"},\"selection_glyph\":null},\"id\":\"d63b283a-2326-479b-a6b4-002c822cfc1a\",\"type\":\"GlyphRenderer\"},{\"attributes\":{\"callback\":null,\"column_names\":[\"y\",\"x\"],\"data\":{\"x\":[1991,2001,2010,2017,2019,2029,2039],\"y\":[1913,2185,2374,2543,2591,2832,3073]}},\"id\":\"b2da2b41-ae87-4edc-82a4-031ef6cbddf5\",\"type\":\"ColumnDataSource\"},{\"attributes\":{\"line_alpha\":{\"value\":0.1},\"line_color\":{\"value\":\"#1f77b4\"},\"line_width\":{\"value\":2},\"x\":{\"field\":\"x\"},\"y\":{\"field\":\"y\"}},\"id\":\"5ef83890-18e0-4b03-b15d-4fae9898c2c5\",\"type\":\"Line\"},{\"attributes\":{\"line_alpha\":{\"value\":0.1},\"line_color\":{\"value\":\"#1f77b4\"},\"line_width\":{\"value\":2},\"x\":{\"field\":\"x\"},\"y\":{\"field\":\"y\"}},\"id\":\"7647a4fe-77a1-4e20-8ee1-5c0193a54b3e\",\"type\":\"Line\"},{\"attributes\":{\"line_color\":{\"value\":\"magenta\"},\"line_width\":{\"value\":2},\"x\":{\"field\":\"x\"},\"y\":{\"field\":\"y\"}},\"id\":\"12577bf6-56dd-4d75-903c-caddef40c301\",\"type\":\"Line\"},{\"attributes\":{\"callback\":null,\"column_names\":[\"y\",\"x\"],\"data\":{\"x\":[1991,2001,2010,2017,2019,2029,2039],\"y\":[2613,2929,3307,3565,3639,4007,4375]}},\"id\":\"a58d4f6f-35eb-4469-9933-e2ea3e03d95f\",\"type\":\"ColumnDataSource\"},{\"attributes\":{\"data_source\":{\"id\":\"d45af748-58bb-445a-8a99-87bc55e0c1fa\",\"type\":\"ColumnDataSource\"},\"glyph\":{\"id\":\"12577bf6-56dd-4d75-903c-caddef40c301\",\"type\":\"Line\"},\"hover_glyph\":null,\"nonselection_glyph\":{\"id\":\"dea3f4a5-68f4-445c-9117-ee22e5d11f60\",\"type\":\"Line\"},\"selection_glyph\":null},\"id\":\"de904b66-75d9-452e-b9b5-c1dfcd8d980c\",\"type\":\"GlyphRenderer\"},{\"attributes\":{\"line_alpha\":{\"value\":0.1},\"line_color\":{\"value\":\"#1f77b4\"},\"line_width\":{\"value\":2},\"x\":{\"field\":\"x\"},\"y\":{\"field\":\"y\"}},\"id\":\"8750d59a-2b0c-4b34-89da-18638ba90881\",\"type\":\"Line\"},{\"attributes\":{\"fill_color\":{\"value\":\"olive\"},\"line_color\":{\"value\":\"olive\"},\"x\":{\"field\":\"x\"},\"y\":{\"field\":\"y\"}},\"id\":\"11bd0b9c-e8de-4df6-9be0-a9a88a35bde6\",\"type\":\"Circle\"},{\"attributes\":{\"data_source\":{\"id\":\"5cb30148-fd71-4806-a300-4030ebea0602\",\"type\":\"ColumnDataSource\"},\"glyph\":{\"id\":\"bf1b52a2-6366-4f48-a807-53bd5fad14f6\",\"type\":\"Circle\"},\"hover_glyph\":null,\"nonselection_glyph\":{\"id\":\"a1348d01-33ed-48c0-9f96-455fe78abab8\",\"type\":\"Circle\"},\"selection_glyph\":null},\"id\":\"eac47c2e-c891-4184-a763-68f62ca333c9\",\"type\":\"GlyphRenderer\"},{\"attributes\":{\"line_alpha\":{\"value\":0.1},\"line_color\":{\"value\":\"#1f77b4\"},\"line_width\":{\"value\":2},\"x\":{\"field\":\"x\"},\"y\":{\"field\":\"y\"}},\"id\":\"2036fba7-2360-4825-9e12-2d69be9c79f4\",\"type\":\"Line\"},{\"attributes\":{\"callback\":null,\"column_names\":[\"y\",\"x\"],\"data\":{\"x\":[1991,2001,2010,2017,2019,2029,2039],\"y\":[322,384,396,422,430,468,506]}},\"id\":\"eb2b7864-f369-4386-a856-2a10ad0b2ec6\",\"type\":\"ColumnDataSource\"},{\"attributes\":{\"data_source\":{\"id\":\"100679b7-f0a0-4d83-8969-d7ad91fea30a\",\"type\":\"ColumnDataSource\"},\"glyph\":{\"id\":\"aa66624f-87c1-490b-9a2c-fd4b4ac5af06\",\"type\":\"Line\"},\"hover_glyph\":null,\"nonselection_glyph\":{\"id\":\"c1c3d836-6d8c-41ac-bc27-96f193a9cdc5\",\"type\":\"Line\"},\"selection_glyph\":null},\"id\":\"1a8122e9-b3fa-4f76-81d7-0af6f419db4f\",\"type\":\"GlyphRenderer\"},{\"attributes\":{\"fill_color\":{\"value\":\"green\"},\"line_color\":{\"value\":\"green\"},\"x\":{\"field\":\"x\"},\"y\":{\"field\":\"y\"}},\"id\":\"deade658-1ec8-4951-a71b-a7e0b38f2dae\",\"type\":\"Circle\"},{\"attributes\":{\"callback\":null,\"column_names\":[\"y\",\"x\"],\"data\":{\"x\":[1991,2001,2010,2017,2019,2029,2039],\"y\":[23411,28486,32758,36196,37178,42089,47000]}},\"id\":\"8b77bf34-4096-4869-915f-b74c68251ad1\",\"type\":\"ColumnDataSource\"},{\"attributes\":{\"line_alpha\":{\"value\":0.1},\"line_color\":{\"value\":\"#1f77b4\"},\"line_width\":{\"value\":2},\"x\":{\"field\":\"x\"},\"y\":{\"field\":\"y\"}},\"id\":\"228037f4-be64-4b07-8297-2c0b76f4b388\",\"type\":\"Line\"},{\"attributes\":{\"line_color\":{\"value\":\"olive\"},\"line_width\":{\"value\":2},\"x\":{\"field\":\"x\"},\"y\":{\"field\":\"y\"}},\"id\":\"aa66624f-87c1-490b-9a2c-fd4b4ac5af06\",\"type\":\"Line\"},{\"attributes\":{\"line_color\":{\"value\":\"orange\"},\"line_width\":{\"value\":2},\"x\":{\"field\":\"x\"},\"y\":{\"field\":\"y\"}},\"id\":\"c9c01caf-c391-46b8-ae31-0addf2850f68\",\"type\":\"Line\"},{\"attributes\":{\"fill_alpha\":{\"value\":0.1},\"fill_color\":{\"value\":\"#1f77b4\"},\"line_alpha\":{\"value\":0.1},\"line_color\":{\"value\":\"#1f77b4\"},\"x\":{\"field\":\"x\"},\"y\":{\"field\":\"y\"}},\"id\":\"65e751ae-f84b-49f0-8e12-0fc59a651037\",\"type\":\"Circle\"},{\"attributes\":{\"legends\":[[\"Comodoro Rivadavia\",[{\"id\":\"7989e0cf-8026-411a-bfd6-63c5c23ddbea\",\"type\":\"GlyphRenderer\"},{\"id\":\"de1be383-7f1f-4ecc-9de3-3e4822f1dbf8\",\"type\":\"GlyphRenderer\"}]],[\"Trelew\",[{\"id\":\"4e1945f3-2180-4111-a52d-0abbc3dfe6e3\",\"type\":\"GlyphRenderer\"},{\"id\":\"d22eefef-da7d-4db2-8235-ddb7552adf80\",\"type\":\"GlyphRenderer\"}]],[\"Puerto Madryn\",[{\"id\":\"d231f674-f905-4579-aa67-44a463d29002\",\"type\":\"GlyphRenderer\"},{\"id\":\"d1ccdf2c-b3cc-4af4-bd02-2c41387982e6\",\"type\":\"GlyphRenderer\"}]],[\"Esquel\",[{\"id\":\"818d95f3-d56e-49d7-8d24-67ce5b17d7f7\",\"type\":\"GlyphRenderer\"},{\"id\":\"661be3b8-5fb4-40ba-826c-208e4e5eb686\",\"type\":\"GlyphRenderer\"}]],[\"Sarmiento\",[{\"id\":\"5cc4ca8a-c009-4b5e-9217-3fac652d5f4b\",\"type\":\"GlyphRenderer\"},{\"id\":\"a9fb6484-0e78-4fb2-8f63-4b0a21eacbc3\",\"type\":\"GlyphRenderer\"}]],[\"Rawson\",[{\"id\":\"eac47c2e-c891-4184-a763-68f62ca333c9\",\"type\":\"GlyphRenderer\"},{\"id\":\"d106b4d7-6185-4b10-9496-2ba9119865ba\",\"type\":\"GlyphRenderer\"}]],[\"Dolavon\",[{\"id\":\"ab1bd412-15ee-4985-8e13-8323ddfb878c\",\"type\":\"GlyphRenderer\"},{\"id\":\"9c55fbc2-7fbd-4ce6-83ac-38804647f826\",\"type\":\"GlyphRenderer\"}]],[\"Gaiman\",[{\"id\":\"5588e2bf-8e78-4baa-83ba-0c6d2371db55\",\"type\":\"GlyphRenderer\"},{\"id\":\"816ed483-cdc0-45b7-a847-b4c6d9c835d3\",\"type\":\"GlyphRenderer\"}]],[\"Gobernador Costa\",[{\"id\":\"d63b283a-2326-479b-a6b4-002c822cfc1a\",\"type\":\"GlyphRenderer\"},{\"id\":\"4e27db9f-bd5a-4a40-af1b-474a93cfecce\",\"type\":\"GlyphRenderer\"}]],[\"Cholila\",[{\"id\":\"c3b9cce5-eef5-444e-9686-2b59eae1213f\",\"type\":\"GlyphRenderer\"},{\"id\":\"de904b66-75d9-452e-b9b5-c1dfcd8d980c\",\"type\":\"GlyphRenderer\"}]],[\"Camarones\",[{\"id\":\"ad2e3228-c301-4ea7-9a4c-eda6a835cb81\",\"type\":\"GlyphRenderer\"},{\"id\":\"1a8122e9-b3fa-4f76-81d7-0af6f419db4f\",\"type\":\"GlyphRenderer\"}]],[\"Paso de Indios\",[{\"id\":\"9c44b617-7c5f-487b-8113-f6e1f695c6b5\",\"type\":\"GlyphRenderer\"},{\"id\":\"57dc298c-1a64-4758-8d5a-a6ea25a9350f\",\"type\":\"GlyphRenderer\"}]],[\"Paso del Sapo\",[{\"id\":\"bc7b442d-5420-4f03-9ba7-5c71b5ac9f0a\",\"type\":\"GlyphRenderer\"},{\"id\":\"08758600-aff1-4ef6-90fb-692a2176eaca\",\"type\":\"GlyphRenderer\"}]]],\"plot\":{\"id\":\"9147d5e2-aefd-4139-813e-5ada53f80050\",\"subtype\":\"Figure\",\"type\":\"Plot\"}},\"id\":\"3e3c3817-f7f1-443b-adcf-bf0f7f687a21\",\"type\":\"Legend\"},{\"attributes\":{\"data_source\":{\"id\":\"3d615448-9643-4d57-8ad1-0fac1d851f90\",\"type\":\"ColumnDataSource\"},\"glyph\":{\"id\":\"05a9558c-ebbe-4164-be32-d7c2b8a83937\",\"type\":\"Circle\"},\"hover_glyph\":null,\"nonselection_glyph\":{\"id\":\"9a7e808c-eb23-41f6-8d19-4232ad35d9a9\",\"type\":\"Circle\"},\"selection_glyph\":null},\"id\":\"5cc4ca8a-c009-4b5e-9217-3fac652d5f4b\",\"type\":\"GlyphRenderer\"},{\"attributes\":{\"line_color\":{\"value\":\"navy\"},\"line_width\":{\"value\":2},\"x\":{\"field\":\"x\"},\"y\":{\"field\":\"y\"}},\"id\":\"360e9250-d890-4fd1-8599-2ee565ef1264\",\"type\":\"Line\"},{\"attributes\":{\"callback\":null,\"column_names\":[\"y\",\"x\"],\"data\":{\"x\":[1991,2001,2010,2017,2019,2029,2039],\"y\":[7209,8292,11124,12604,13027,15142,17257]}},\"id\":\"7594fa3c-63f7-4e39-b9ce-c9680f4f2161\",\"type\":\"ColumnDataSource\"},{\"attributes\":{\"line_alpha\":{\"value\":0.1},\"line_color\":{\"value\":\"#1f77b4\"},\"line_width\":{\"value\":2},\"x\":{\"field\":\"x\"},\"y\":{\"field\":\"y\"}},\"id\":\"8337fdb1-ff27-4b9d-99ff-526689247d50\",\"type\":\"Line\"},{\"attributes\":{\"line_color\":{\"value\":\"#7c1b65\"},\"line_width\":{\"value\":2},\"x\":{\"field\":\"x\"},\"y\":{\"field\":\"y\"}},\"id\":\"4018c46d-f6b1-405e-bb7a-0ccc039a18fd\",\"type\":\"Line\"},{\"attributes\":{\"callback\":null,\"column_names\":[\"y\",\"x\"],\"data\":{\"x\":[1991,2001,2010,2017,2019,2029,2039],\"y\":[45047,57791,81995,95868,99832,119651,139470]}},\"id\":\"20f2a3c6-f000-428e-9b24-b944a0bf2a2d\",\"type\":\"ColumnDataSource\"},{\"attributes\":{\"data_source\":{\"id\":\"71430e84-04f2-4703-97b0-fe15cde77654\",\"type\":\"ColumnDataSource\"},\"glyph\":{\"id\":\"19a5775d-507e-44d2-9050-36564d7eb1f7\",\"type\":\"Line\"},\"hover_glyph\":null,\"nonselection_glyph\":{\"id\":\"2036fba7-2360-4825-9e12-2d69be9c79f4\",\"type\":\"Line\"},\"selection_glyph\":null},\"id\":\"d106b4d7-6185-4b10-9496-2ba9119865ba\",\"type\":\"GlyphRenderer\"},{\"attributes\":{\"line_alpha\":{\"value\":0.1},\"line_color\":{\"value\":\"#1f77b4\"},\"line_width\":{\"value\":2},\"x\":{\"field\":\"x\"},\"y\":{\"field\":\"y\"}},\"id\":\"c1c3d836-6d8c-41ac-bc27-96f193a9cdc5\",\"type\":\"Line\"},{\"attributes\":{\"fill_color\":{\"value\":\"cyan\"},\"line_color\":{\"value\":\"cyan\"},\"x\":{\"field\":\"x\"},\"y\":{\"field\":\"y\"}},\"id\":\"18e7d009-343e-44b7-b0d9-50bfa106f3da\",\"type\":\"Circle\"},{\"attributes\":{\"callback\":null,\"column_names\":[\"y\",\"x\"],\"data\":{\"x\":[1991,2001,2010,2017,2019,2029,2039],\"y\":[20674,26183,31787,35894,37068,42936,48804]}},\"id\":\"71430e84-04f2-4703-97b0-fe15cde77654\",\"type\":\"ColumnDataSource\"},{\"attributes\":{\"callback\":null},\"id\":\"dd5dcfdd-fe5d-47ca-a40e-4ec57b585252\",\"type\":\"DataRange1d\"},{\"attributes\":{\"plot\":{\"id\":\"9147d5e2-aefd-4139-813e-5ada53f80050\",\"subtype\":\"Figure\",\"type\":\"Plot\"}},\"id\":\"17a7e988-75e4-4e7d-98dd-4882ae7245b6\",\"type\":\"PanTool\"}],\"root_ids\":[\"9147d5e2-aefd-4139-813e-5ada53f80050\"]},\"title\":\"Bokeh Application\",\"version\":\"0.12.0\"}};\n",
       "            var render_items = [{\"docid\":\"7905e2e7-912a-4e9e-bede-302f5f0a684c\",\"elementid\":\"6d1b267f-bf61-4fdb-813d-96b066cfef01\",\"modelid\":\"9147d5e2-aefd-4139-813e-5ada53f80050\",\"notebook_comms_target\":\"16f598f1-2a95-497d-8353-4e66de6cc662\"}];\n",
       "            \n",
       "            Bokeh.embed.embed_items(docs_json, render_items);\n",
       "        });\n",
       "      },\n",
       "      function(Bokeh) {\n",
       "      }\n",
       "    ];\n",
       "  \n",
       "    function run_inline_js() {\n",
       "      for (var i = 0; i < inline_js.length; i++) {\n",
       "        inline_js[i](window.Bokeh);\n",
       "      }\n",
       "    }\n",
       "  \n",
       "    if (window._bokeh_is_loading === 0) {\n",
       "      console.log(\"Bokeh: BokehJS loaded, going straight to plotting\");\n",
       "      run_inline_js();\n",
       "    } else {\n",
       "      load_libs(js_urls, function() {\n",
       "        console.log(\"Bokeh: BokehJS plotting callback run at\", now());\n",
       "        run_inline_js();\n",
       "      });\n",
       "    }\n",
       "  }(this));\n",
       "</script>"
      ]
     },
     "metadata": {},
     "output_type": "display_data"
    },
    {
     "data": {
      "text/html": [
       "<p><code>&lt;Bokeh Notebook handle for <strong>In[23]</strong>&gt;</code></p>"
      ],
      "text/plain": [
       "<bokeh.io._CommsHandle at 0xaf22c44c>"
      ]
     },
     "execution_count": 23,
     "metadata": {},
     "output_type": "execute_result"
    }
   ],
   "source": [
    "x = tiempo\n",
    "colores=[\"red\",\"orange\",\"blue\",\"green\",\"yellow\",\"pink\",\"navy\",\"firebrick\",\"cyan\",\"magenta\",\"olive\",\"#164c71\",\"#7c1b65\"]\n",
    "\n",
    "p = figure(title=\"Población - Proyección Aritmética Tasa Dos Últimos Períodos Censales\",plot_width=900)\n",
    "p.title.align = \"center\"\n",
    "p.title.text_color = \"blue\"\n",
    "p.title.text_font = \"times\"\n",
    "p.title.text_font_style = \"italic\"\n",
    "p.title.text_font_size = \"20px\"\n",
    "\n",
    "p.left[0].formatter.use_scientific = False\n",
    "\n",
    "for i in range(len(ciudades)):\n",
    "    p.circle(x,lis_of_list[i], legend=ciudades[i],fill_color=colores[i],line_color=colores[i])\n",
    "    p.line(x, lis_of_list[i], legend=ciudades[i],line_color=colores[i], line_width=2)\n",
    "\n",
    "p.xaxis.axis_label = 'Tiempo'\n",
    "p.yaxis.axis_label = 'Población'\n",
    "\n",
    "show(p)"
   ]
  }
 ],
 "metadata": {
  "anaconda-cloud": {},
  "kernelspec": {
   "display_name": "Python [Root]",
   "language": "python",
   "name": "Python [Root]"
  },
  "language_info": {
   "codemirror_mode": {
    "name": "ipython",
    "version": 3
   },
   "file_extension": ".py",
   "mimetype": "text/x-python",
   "name": "python",
   "nbconvert_exporter": "python",
   "pygments_lexer": "ipython3",
   "version": "3.5.2"
  }
 },
 "nbformat": 4,
 "nbformat_minor": 2
}
