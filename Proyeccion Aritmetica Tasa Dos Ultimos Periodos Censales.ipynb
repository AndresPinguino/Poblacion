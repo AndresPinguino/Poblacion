{
 "cells": [
  {
   "cell_type": "markdown",
   "metadata": {},
   "source": [
    "# # Entrada de valores de los tres últimos censos"
   ]
  },
  {
   "cell_type": "code",
   "execution_count": 1,
   "metadata": {
    "collapsed": true
   },
   "outputs": [],
   "source": [
    "censos = [1991,2001,2010]\n",
    "\n",
    "poblacion0 = [125725,137061,177083] # Comodoro Rivadavia\n",
    "poblacion1 = [79340,89547,99430] # Trelew\n",
    "poblacion2 = [45047,57791,81995] # Puerto Madryn\n",
    "poblacion3 = [23411,28486,32758] # Esquel\n",
    "poblacion4 = [7209,8292,11124] # Sarmiento\n",
    "poblacion5 = [20674,26183,31787] # Rawson\n",
    "poblacion6 = [2613,2929,3307] # Dolavon\n",
    "poblacion7 = [4642,5753,6627] # Gaiman\n",
    "poblacion8 = [1913,2185,2374] # Gobernador Costa\n",
    "poblacion9 = [1527,1981,2228] # Cholila\n",
    "poblacion10 = [868,1079,1296] # Camarones\n",
    "poblacion11 = [864,1087,1264] # Paso de Indios\n",
    "poblacion12 = [322,384,396] # Paso del sapo\n",
    "poblaciones = [poblacion0, poblacion1, poblacion2, poblacion3, poblacion4, poblacion5, poblacion6, poblacion7, poblacion8, poblacion9, poblacion10, poblacion11, poblacion12]\n",
    "\n",
    "año_actual= 2017"
   ]
  },
  {
   "cell_type": "markdown",
   "metadata": {},
   "source": [
    "# # Armamos una lista de \"tiempos\""
   ]
  },
  {
   "cell_type": "code",
   "execution_count": 2,
   "metadata": {
    "collapsed": true
   },
   "outputs": [],
   "source": [
    "tiempo = [0] * 7\n",
    "for i in range(len(censos)):\n",
    "    tiempo[i] = censos[i]\n",
    "\n",
    "tiempo[3]=año_actual\n",
    "tiempo[4]=tiempo[3]+2\n",
    "tiempo[5]=tiempo[4]+10\n",
    "tiempo[6]=tiempo[5]+10"
   ]
  },
  {
   "cell_type": "markdown",
   "metadata": {},
   "source": [
    "# # Resolvemos el método devolviendo una lista de \"datos\""
   ]
  },
  {
   "cell_type": "code",
   "execution_count": 3,
   "metadata": {
    "collapsed": false
   },
   "outputs": [],
   "source": [
    "def metodo_proyeccion_aritmetica_tasa_dos_ultimos_periodos_censales(poblacion, tiempo):\n",
    "\n",
    "    datos = [0] * 7\n",
    "    for i in range(len(poblacion)):\n",
    "        datos[i] = poblacion[i]\n",
    "\n",
    "\n",
    "    ka1=(datos[2]-datos[1])/(tiempo[2]-tiempo[1])\n",
    "    ka1=round(ka1,4)\n",
    "    \n",
    "    ka2=(datos[1]-datos[0])/(tiempo[1]-tiempo[0])\n",
    "    ka2=round(ka2,4)\n",
    "    \n",
    "    ka=(ka1+ka2)/2\n",
    "    ka=round(ka,4)\n",
    "    \n",
    "    Pa=datos[2]+ka*(tiempo[3]-tiempo[2])\n",
    "    Pa=round(Pa,0)\n",
    "    Pa=int(Pa)\n",
    "\n",
    "\n",
    "    P0=Pa+ka*(tiempo[4]-tiempo[3])\n",
    "    P0=round(P0,0)\n",
    "    P0=int(P0)\n",
    "\n",
    "\n",
    "    P10=P0+ka*(tiempo[5]-tiempo[4])\n",
    "    P10=round(P10,0)\n",
    "    P10=int(P10)\n",
    "\n",
    "\n",
    "    P20=P10+ka*(tiempo[6]-tiempo[5])\n",
    "    P20=round(P20,0)\n",
    "    P20=int(P20)\n",
    "\n",
    "\n",
    "    datos[3]=Pa\n",
    "    datos[4]=P0\n",
    "    datos[5]=P10\n",
    "    datos[6]=P20\n",
    "\n",
    "    return datos"
   ]
  },
  {
   "cell_type": "markdown",
   "metadata": {},
   "source": [
    "# # Mostramos las listas de \"tiempo\" y \"proyecciones\" para cada \"poblacion\""
   ]
  },
  {
   "cell_type": "code",
   "execution_count": 4,
   "metadata": {
    "collapsed": false,
    "scrolled": true
   },
   "outputs": [
    {
     "name": "stdout",
     "output_type": "stream",
     "text": [
      "[1991, 2001, 2010, 2017, 2019, 2029, 2039]\n",
      "[125725, 137061, 177083, 196615, 202195, 230097, 257999]\n",
      "[79340, 89547, 99430, 106846, 108965, 119559, 130153]\n",
      "[45047, 57791, 81995, 95868, 99832, 119651, 139470]\n",
      "[23411, 28486, 32758, 36196, 37178, 42089, 47000]\n",
      "[7209, 8292, 11124, 12604, 13027, 15142, 17257]\n",
      "[20674, 26183, 31787, 35894, 37068, 42936, 48804]\n",
      "[2613, 2929, 3307, 3565, 3639, 4007, 4375]\n",
      "[4642, 5753, 6627, 7356, 7564, 8605, 9646]\n",
      "[1913, 2185, 2374, 2543, 2591, 2832, 3073]\n",
      "[1527, 1981, 2228, 2483, 2556, 2920, 3284]\n",
      "[868, 1079, 1296, 1454, 1499, 1725, 1951]\n",
      "[864, 1087, 1264, 1411, 1453, 1663, 1873]\n",
      "[322, 384, 396, 422, 430, 468, 506]\n"
     ]
    }
   ],
   "source": [
    "print (tiempo)\n",
    "proyecciones = [0] * len(poblaciones)\n",
    "\n",
    "for i in range(len(poblaciones)):\n",
    "    proyecciones[i] = metodo_proyeccion_aritmetica_tasa_dos_ultimos_periodos_censales(poblaciones[i], tiempo)\n",
    "    print (proyecciones[i])\n"
   ]
  },
  {
   "cell_type": "markdown",
   "metadata": {},
   "source": [
    "# # Importamos librerias para graficar"
   ]
  },
  {
   "cell_type": "code",
   "execution_count": 5,
   "metadata": {
    "collapsed": false
   },
   "outputs": [
    {
     "data": {
      "text/html": [
       "\n",
       "    <div class=\"bk-root\">\n",
       "        <a href=\"http://bokeh.pydata.org\" target=\"_blank\" class=\"bk-logo bk-logo-small bk-logo-notebook\"></a>\n",
       "        <span id=\"cba13ca9-6ee3-41ee-85b3-457bb6aabef4\">Loading BokehJS ...</span>\n",
       "    </div>"
      ]
     },
     "metadata": {},
     "output_type": "display_data"
    },
    {
     "data": {
      "application/javascript": [
       "\n",
       "(function(global) {\n",
       "  function now() {\n",
       "    return new Date();\n",
       "  }\n",
       "\n",
       "  if (typeof (window._bokeh_onload_callbacks) === \"undefined\") {\n",
       "    window._bokeh_onload_callbacks = [];\n",
       "  }\n",
       "\n",
       "  function run_callbacks() {\n",
       "    window._bokeh_onload_callbacks.forEach(function(callback) { callback() });\n",
       "    delete window._bokeh_onload_callbacks\n",
       "    console.info(\"Bokeh: all callbacks have finished\");\n",
       "  }\n",
       "\n",
       "  function load_libs(js_urls, callback) {\n",
       "    window._bokeh_onload_callbacks.push(callback);\n",
       "    if (window._bokeh_is_loading > 0) {\n",
       "      console.log(\"Bokeh: BokehJS is being loaded, scheduling callback at\", now());\n",
       "      return null;\n",
       "    }\n",
       "    if (js_urls == null || js_urls.length === 0) {\n",
       "      run_callbacks();\n",
       "      return null;\n",
       "    }\n",
       "    console.log(\"Bokeh: BokehJS not loaded, scheduling load and callback at\", now());\n",
       "    window._bokeh_is_loading = js_urls.length;\n",
       "    for (var i = 0; i < js_urls.length; i++) {\n",
       "      var url = js_urls[i];\n",
       "      var s = document.createElement('script');\n",
       "      s.src = url;\n",
       "      s.async = false;\n",
       "      s.onreadystatechange = s.onload = function() {\n",
       "        window._bokeh_is_loading--;\n",
       "        if (window._bokeh_is_loading === 0) {\n",
       "          console.log(\"Bokeh: all BokehJS libraries loaded\");\n",
       "          run_callbacks()\n",
       "        }\n",
       "      };\n",
       "      s.onerror = function() {\n",
       "        console.warn(\"failed to load library \" + url);\n",
       "      };\n",
       "      console.log(\"Bokeh: injecting script tag for BokehJS library: \", url);\n",
       "      document.getElementsByTagName(\"head\")[0].appendChild(s);\n",
       "    }\n",
       "  };\n",
       "\n",
       "  var js_urls = ['https://cdn.pydata.org/bokeh/release/bokeh-0.12.0.min.js', 'https://cdn.pydata.org/bokeh/release/bokeh-widgets-0.12.0.min.js', 'https://cdn.pydata.org/bokeh/release/bokeh-compiler-0.12.0.min.js'];\n",
       "\n",
       "  var inline_js = [\n",
       "    function(Bokeh) {\n",
       "      Bokeh.set_log_level(\"info\");\n",
       "    },\n",
       "    \n",
       "    function(Bokeh) {\n",
       "      Bokeh.$(\"#cba13ca9-6ee3-41ee-85b3-457bb6aabef4\").text(\"BokehJS successfully loaded\");\n",
       "    },\n",
       "    function(Bokeh) {\n",
       "      console.log(\"Bokeh: injecting CSS: https://cdn.pydata.org/bokeh/release/bokeh-0.12.0.min.css\");\n",
       "      Bokeh.embed.inject_css(\"https://cdn.pydata.org/bokeh/release/bokeh-0.12.0.min.css\");\n",
       "      console.log(\"Bokeh: injecting CSS: https://cdn.pydata.org/bokeh/release/bokeh-widgets-0.12.0.min.css\");\n",
       "      Bokeh.embed.inject_css(\"https://cdn.pydata.org/bokeh/release/bokeh-widgets-0.12.0.min.css\");\n",
       "    }\n",
       "  ];\n",
       "\n",
       "  function run_inline_js() {\n",
       "    for (var i = 0; i < inline_js.length; i++) {\n",
       "      inline_js[i](window.Bokeh);\n",
       "    }\n",
       "  }\n",
       "\n",
       "  if (window._bokeh_is_loading === 0) {\n",
       "    console.log(\"Bokeh: BokehJS loaded, going straight to plotting\");\n",
       "    run_inline_js();\n",
       "  } else {\n",
       "    load_libs(js_urls, function() {\n",
       "      console.log(\"Bokeh: BokehJS plotting callback run at\", now());\n",
       "      run_inline_js();\n",
       "    });\n",
       "  }\n",
       "}(this));"
      ]
     },
     "metadata": {},
     "output_type": "display_data"
    }
   ],
   "source": [
    "from bokeh.io import push_notebook, show, output_notebook\n",
    "from bokeh.plotting import figure\n",
    "output_notebook()"
   ]
  },
  {
   "cell_type": "markdown",
   "metadata": {},
   "source": [
    "# # Definimos estilos para usar en los gráficos"
   ]
  },
  {
   "cell_type": "code",
   "execution_count": 6,
   "metadata": {
    "collapsed": false
   },
   "outputs": [
    {
     "data": {
      "text/html": [
       "\n",
       "\n",
       "    <div class=\"bk-root\">\n",
       "        <div class=\"plotdiv\" id=\"f5769e59-0ac7-42d1-b887-edd4641823aa\"></div>\n",
       "    </div>\n",
       "<script type=\"text/javascript\">\n",
       "  \n",
       "  (function(global) {\n",
       "    function now() {\n",
       "      return new Date();\n",
       "    }\n",
       "  \n",
       "    if (typeof (window._bokeh_onload_callbacks) === \"undefined\") {\n",
       "      window._bokeh_onload_callbacks = [];\n",
       "    }\n",
       "  \n",
       "    function run_callbacks() {\n",
       "      window._bokeh_onload_callbacks.forEach(function(callback) { callback() });\n",
       "      delete window._bokeh_onload_callbacks\n",
       "      console.info(\"Bokeh: all callbacks have finished\");\n",
       "    }\n",
       "  \n",
       "    function load_libs(js_urls, callback) {\n",
       "      window._bokeh_onload_callbacks.push(callback);\n",
       "      if (window._bokeh_is_loading > 0) {\n",
       "        console.log(\"Bokeh: BokehJS is being loaded, scheduling callback at\", now());\n",
       "        return null;\n",
       "      }\n",
       "      if (js_urls == null || js_urls.length === 0) {\n",
       "        run_callbacks();\n",
       "        return null;\n",
       "      }\n",
       "      console.log(\"Bokeh: BokehJS not loaded, scheduling load and callback at\", now());\n",
       "      window._bokeh_is_loading = js_urls.length;\n",
       "      for (var i = 0; i < js_urls.length; i++) {\n",
       "        var url = js_urls[i];\n",
       "        var s = document.createElement('script');\n",
       "        s.src = url;\n",
       "        s.async = false;\n",
       "        s.onreadystatechange = s.onload = function() {\n",
       "          window._bokeh_is_loading--;\n",
       "          if (window._bokeh_is_loading === 0) {\n",
       "            console.log(\"Bokeh: all BokehJS libraries loaded\");\n",
       "            run_callbacks()\n",
       "          }\n",
       "        };\n",
       "        s.onerror = function() {\n",
       "          console.warn(\"failed to load library \" + url);\n",
       "        };\n",
       "        console.log(\"Bokeh: injecting script tag for BokehJS library: \", url);\n",
       "        document.getElementsByTagName(\"head\")[0].appendChild(s);\n",
       "      }\n",
       "    };var element = document.getElementById(\"f5769e59-0ac7-42d1-b887-edd4641823aa\");\n",
       "    if (element == null) {\n",
       "      console.log(\"Bokeh: ERROR: autoload.js configured with elementid 'f5769e59-0ac7-42d1-b887-edd4641823aa' but no matching script tag was found. \")\n",
       "      return false;\n",
       "    }\n",
       "  \n",
       "    var js_urls = [];\n",
       "  \n",
       "    var inline_js = [\n",
       "      function(Bokeh) {\n",
       "        Bokeh.$(function() {\n",
       "            var docs_json = {\"50407c97-4bd0-4ffc-864a-dce3fe230c82\":{\"roots\":{\"references\":[{\"attributes\":{\"callback\":null,\"column_names\":[\"x\",\"y\"],\"data\":{\"x\":[1991,2001,2010,2017,2019,2029,2039],\"y\":[868,1079,1296,1454,1499,1725,1951]}},\"id\":\"5343995d-6dd3-4bda-b58f-b0bd63b75237\",\"type\":\"ColumnDataSource\"},{\"attributes\":{\"fill_alpha\":{\"value\":0.1},\"fill_color\":{\"value\":\"#1f77b4\"},\"line_alpha\":{\"value\":0.1},\"line_color\":{\"value\":\"#1f77b4\"},\"x\":{\"field\":\"x\"},\"y\":{\"field\":\"y\"}},\"id\":\"0bc1c64c-67a0-4dc8-babb-a565d730aa19\",\"type\":\"Circle\"},{\"attributes\":{\"fill_alpha\":{\"value\":0.1},\"fill_color\":{\"value\":\"#1f77b4\"},\"line_alpha\":{\"value\":0.1},\"line_color\":{\"value\":\"#1f77b4\"},\"x\":{\"field\":\"x\"},\"y\":{\"field\":\"y\"}},\"id\":\"3503fd67-08b8-4b56-8c14-70af20b5189f\",\"type\":\"Circle\"},{\"attributes\":{\"fill_color\":{\"value\":\"olive\"},\"line_color\":{\"value\":\"olive\"},\"x\":{\"field\":\"x\"},\"y\":{\"field\":\"y\"}},\"id\":\"517d6e83-0f43-4dff-a407-7aef3774e118\",\"type\":\"Circle\"},{\"attributes\":{\"line_color\":{\"value\":\"cyan\"},\"line_width\":{\"value\":2},\"x\":{\"field\":\"x\"},\"y\":{\"field\":\"y\"}},\"id\":\"4f889512-9b96-4424-a706-41d7f64bcc37\",\"type\":\"Line\"},{\"attributes\":{\"data_source\":{\"id\":\"54f3b177-404b-4ff6-b195-01cbc85dabd4\",\"type\":\"ColumnDataSource\"},\"glyph\":{\"id\":\"9355355f-b4c2-4703-a489-93c50588a6c9\",\"type\":\"Line\"},\"hover_glyph\":null,\"nonselection_glyph\":{\"id\":\"a9983e8c-f3e9-45fa-b393-f1367a26fb16\",\"type\":\"Line\"},\"selection_glyph\":null},\"id\":\"2ffe72a0-a8ca-4df2-bc38-6feb4f168a7b\",\"type\":\"GlyphRenderer\"},{\"attributes\":{\"data_source\":{\"id\":\"5343995d-6dd3-4bda-b58f-b0bd63b75237\",\"type\":\"ColumnDataSource\"},\"glyph\":{\"id\":\"517d6e83-0f43-4dff-a407-7aef3774e118\",\"type\":\"Circle\"},\"hover_glyph\":null,\"nonselection_glyph\":{\"id\":\"1409836a-ab6d-48ca-8f91-344843e452ab\",\"type\":\"Circle\"},\"selection_glyph\":null},\"id\":\"e243a12a-f647-4b5c-a261-08af78181528\",\"type\":\"GlyphRenderer\"},{\"attributes\":{\"data_source\":{\"id\":\"528217e0-c2db-441e-9346-f5b930f8f96f\",\"type\":\"ColumnDataSource\"},\"glyph\":{\"id\":\"db4fccf6-64d0-4fed-ad8f-7c05da911cb6\",\"type\":\"Circle\"},\"hover_glyph\":null,\"nonselection_glyph\":{\"id\":\"35544398-3acb-454c-9d01-da2a1ef7c447\",\"type\":\"Circle\"},\"selection_glyph\":null},\"id\":\"35893772-3247-4185-8a69-7bd0f07bf661\",\"type\":\"GlyphRenderer\"},{\"attributes\":{\"plot\":{\"id\":\"a9ef25ee-5daa-4423-9af1-1a2bffe3a5a5\",\"subtype\":\"Figure\",\"type\":\"Plot\"}},\"id\":\"df60f508-5a0e-4b5b-9ece-561e7eeba133\",\"type\":\"WheelZoomTool\"},{\"attributes\":{\"callback\":null,\"column_names\":[\"x\",\"y\"],\"data\":{\"x\":[1991,2001,2010,2017,2019,2029,2039],\"y\":[868,1079,1296,1454,1499,1725,1951]}},\"id\":\"91c4c6f4-b68f-4520-944a-20a051920450\",\"type\":\"ColumnDataSource\"},{\"attributes\":{\"line_color\":{\"value\":\"red\"},\"line_width\":{\"value\":2},\"x\":{\"field\":\"x\"},\"y\":{\"field\":\"y\"}},\"id\":\"ec47626b-659e-4e43-b97e-5621d054666f\",\"type\":\"Line\"},{\"attributes\":{\"data_source\":{\"id\":\"91c4c6f4-b68f-4520-944a-20a051920450\",\"type\":\"ColumnDataSource\"},\"glyph\":{\"id\":\"14c731a8-9f67-42a3-8c1b-d67492abcdb1\",\"type\":\"Line\"},\"hover_glyph\":null,\"nonselection_glyph\":{\"id\":\"1781db9d-da1f-47ef-957a-fda985d562bd\",\"type\":\"Line\"},\"selection_glyph\":null},\"id\":\"2f4de808-f9c8-4ff9-9601-18c0e3e8cc0c\",\"type\":\"GlyphRenderer\"},{\"attributes\":{\"line_color\":{\"value\":\"yellow\"},\"line_width\":{\"value\":2},\"x\":{\"field\":\"x\"},\"y\":{\"field\":\"y\"}},\"id\":\"2b5c0b01-dcd6-44a2-ad44-36bb71f4066a\",\"type\":\"Line\"},{\"attributes\":{\"fill_color\":{\"value\":\"navy\"},\"line_color\":{\"value\":\"navy\"},\"x\":{\"field\":\"x\"},\"y\":{\"field\":\"y\"}},\"id\":\"79815fdc-24d0-4e49-9457-bb1bc80f9584\",\"type\":\"Circle\"},{\"attributes\":{\"fill_alpha\":{\"value\":0.1},\"fill_color\":{\"value\":\"#1f77b4\"},\"line_alpha\":{\"value\":0.1},\"line_color\":{\"value\":\"#1f77b4\"},\"x\":{\"field\":\"x\"},\"y\":{\"field\":\"y\"}},\"id\":\"95b934b6-f097-4ace-b26b-ffc2801bc39a\",\"type\":\"Circle\"},{\"attributes\":{\"line_alpha\":{\"value\":0.1},\"line_color\":{\"value\":\"#1f77b4\"},\"line_width\":{\"value\":2},\"x\":{\"field\":\"x\"},\"y\":{\"field\":\"y\"}},\"id\":\"6fc76b8e-cc79-4b4e-848d-2a6fc43efe83\",\"type\":\"Line\"},{\"attributes\":{\"line_alpha\":{\"value\":0.1},\"line_color\":{\"value\":\"#1f77b4\"},\"line_width\":{\"value\":2},\"x\":{\"field\":\"x\"},\"y\":{\"field\":\"y\"}},\"id\":\"b3d6dc3f-c513-4c74-96b3-b6025ab81a76\",\"type\":\"Line\"},{\"attributes\":{\"plot\":{\"id\":\"a9ef25ee-5daa-4423-9af1-1a2bffe3a5a5\",\"subtype\":\"Figure\",\"type\":\"Plot\"}},\"id\":\"069b010b-040e-429b-832f-14dd1295ec56\",\"type\":\"HelpTool\"},{\"attributes\":{\"callback\":null,\"column_names\":[\"x\",\"y\"],\"data\":{\"x\":[1991,2001,2010,2017,2019,2029,2039],\"y\":[79340,89547,99430,106846,108965,119559,130153]}},\"id\":\"4f36ad08-e126-49d7-a410-6488ca1ad1be\",\"type\":\"ColumnDataSource\"},{\"attributes\":{\"callback\":null,\"column_names\":[\"x\",\"y\"],\"data\":{\"x\":[1991,2001,2010,2017,2019,2029,2039],\"y\":[79340,89547,99430,106846,108965,119559,130153]}},\"id\":\"8feb1559-00cf-4ce9-bd3f-71e119b5a5dd\",\"type\":\"ColumnDataSource\"},{\"attributes\":{},\"id\":\"21310043-9cb7-479f-865d-87c4703d1b6f\",\"type\":\"BasicTickFormatter\"},{\"attributes\":{\"data_source\":{\"id\":\"a82c37e0-d2c9-479e-97c1-f161a9e0c2d6\",\"type\":\"ColumnDataSource\"},\"glyph\":{\"id\":\"cb31934e-bc04-406b-b4b7-1e686cf65b8b\",\"type\":\"Circle\"},\"hover_glyph\":null,\"nonselection_glyph\":{\"id\":\"725d4554-3cc9-49f1-94b7-86481ae3ec54\",\"type\":\"Circle\"},\"selection_glyph\":null},\"id\":\"c8946bfc-21c9-4a16-9c2b-ae49bb1259cd\",\"type\":\"GlyphRenderer\"},{\"attributes\":{\"callback\":null,\"column_names\":[\"x\",\"y\"],\"data\":{\"x\":[1991,2001,2010,2017,2019,2029,2039],\"y\":[4642,5753,6627,7356,7564,8605,9646]}},\"id\":\"f61b0806-9cfa-457e-88f6-51d2c7514582\",\"type\":\"ColumnDataSource\"},{\"attributes\":{\"callback\":null,\"column_names\":[\"x\",\"y\"],\"data\":{\"x\":[1991,2001,2010,2017,2019,2029,2039],\"y\":[20674,26183,31787,35894,37068,42936,48804]}},\"id\":\"d08b9e9a-1b50-4ffa-b60a-6e3872d5a4d0\",\"type\":\"ColumnDataSource\"},{\"attributes\":{\"fill_alpha\":{\"value\":0.1},\"fill_color\":{\"value\":\"#1f77b4\"},\"line_alpha\":{\"value\":0.1},\"line_color\":{\"value\":\"#1f77b4\"},\"x\":{\"field\":\"x\"},\"y\":{\"field\":\"y\"}},\"id\":\"f5233a2d-5adc-4189-aa5f-19d6b035fff5\",\"type\":\"Circle\"},{\"attributes\":{\"dimension\":1,\"plot\":{\"id\":\"a9ef25ee-5daa-4423-9af1-1a2bffe3a5a5\",\"subtype\":\"Figure\",\"type\":\"Plot\"},\"ticker\":{\"id\":\"014c0069-5023-40f4-a670-703460a0ab55\",\"type\":\"BasicTicker\"}},\"id\":\"017710e0-20b2-4d67-9dee-896927d8c1c0\",\"type\":\"Grid\"},{\"attributes\":{\"fill_color\":{\"value\":\"orange\"},\"line_color\":{\"value\":\"orange\"},\"x\":{\"field\":\"x\"},\"y\":{\"field\":\"y\"}},\"id\":\"6a1657a9-4cf3-4f4a-abd5-d6b627364240\",\"type\":\"Circle\"},{\"attributes\":{\"callback\":null,\"column_names\":[\"x\",\"y\"],\"data\":{\"x\":[1991,2001,2010,2017,2019,2029,2039],\"y\":[864,1087,1264,1411,1453,1663,1873]}},\"id\":\"132581d3-70a4-4e84-9891-5bafeb399a46\",\"type\":\"ColumnDataSource\"},{\"attributes\":{\"data_source\":{\"id\":\"d4546f75-1233-4ed5-889d-59dae557614a\",\"type\":\"ColumnDataSource\"},\"glyph\":{\"id\":\"484ebb48-719a-4eb5-9ccb-366facedc6b4\",\"type\":\"Line\"},\"hover_glyph\":null,\"nonselection_glyph\":{\"id\":\"7e1f66b5-9a9a-402e-aed2-26eecb9613bc\",\"type\":\"Line\"},\"selection_glyph\":null},\"id\":\"8a9e7bb6-6820-4f11-a962-68abc7f59be1\",\"type\":\"GlyphRenderer\"},{\"attributes\":{\"fill_alpha\":{\"value\":0.1},\"fill_color\":{\"value\":\"#1f77b4\"},\"line_alpha\":{\"value\":0.1},\"line_color\":{\"value\":\"#1f77b4\"},\"x\":{\"field\":\"x\"},\"y\":{\"field\":\"y\"}},\"id\":\"8ffe7da8-770e-48a8-80b2-439336d854d2\",\"type\":\"Circle\"},{\"attributes\":{\"line_alpha\":{\"value\":0.1},\"line_color\":{\"value\":\"#1f77b4\"},\"line_width\":{\"value\":2},\"x\":{\"field\":\"x\"},\"y\":{\"field\":\"y\"}},\"id\":\"d8c1e956-1b70-4664-baa2-d1e0be4e139f\",\"type\":\"Line\"},{\"attributes\":{\"data_source\":{\"id\":\"86682130-233d-4d36-9aee-9299b65d943a\",\"type\":\"ColumnDataSource\"},\"glyph\":{\"id\":\"b28408e0-b7f7-4402-b557-2690283e2d09\",\"type\":\"Line\"},\"hover_glyph\":null,\"nonselection_glyph\":{\"id\":\"d8c1e956-1b70-4664-baa2-d1e0be4e139f\",\"type\":\"Line\"},\"selection_glyph\":null},\"id\":\"21c10c16-22a8-4284-8f77-c117a0d42f07\",\"type\":\"GlyphRenderer\"},{\"attributes\":{},\"id\":\"33bcdd27-d0b9-407e-ba01-4454630acdd9\",\"type\":\"ToolEvents\"},{\"attributes\":{\"callback\":null,\"column_names\":[\"x\",\"y\"],\"data\":{\"x\":[1991,2001,2010,2017,2019,2029,2039],\"y\":[23411,28486,32758,36196,37178,42089,47000]}},\"id\":\"c1a2ba9a-891c-427b-afa4-a44bac7a7353\",\"type\":\"ColumnDataSource\"},{\"attributes\":{\"data_source\":{\"id\":\"b7cba87a-d11b-4214-9f9d-4e6ea8c897dc\",\"type\":\"ColumnDataSource\"},\"glyph\":{\"id\":\"79815fdc-24d0-4e49-9457-bb1bc80f9584\",\"type\":\"Circle\"},\"hover_glyph\":null,\"nonselection_glyph\":{\"id\":\"0bdb911d-062c-4f07-85b8-85e619c7ef7a\",\"type\":\"Circle\"},\"selection_glyph\":null},\"id\":\"254b0f30-3ddd-4609-adc9-21bf637b48e8\",\"type\":\"GlyphRenderer\"},{\"attributes\":{\"callback\":null,\"column_names\":[\"x\",\"y\"],\"data\":{\"x\":[1991,2001,2010,2017,2019,2029,2039],\"y\":[1527,1981,2228,2483,2556,2920,3284]}},\"id\":\"ee13c04b-352d-4381-a4ad-3821dc02345a\",\"type\":\"ColumnDataSource\"},{\"attributes\":{\"callback\":null},\"id\":\"e50a4202-edd1-4603-9237-81dd133d91d3\",\"type\":\"DataRange1d\"},{\"attributes\":{\"fill_color\":{\"value\":\"yellow\"},\"line_color\":{\"value\":\"yellow\"},\"x\":{\"field\":\"x\"},\"y\":{\"field\":\"y\"}},\"id\":\"aab7908a-9eb1-4f4e-b90e-c8b6ed3e3f29\",\"type\":\"Circle\"},{\"attributes\":{\"bottom_units\":\"screen\",\"fill_alpha\":{\"value\":0.5},\"fill_color\":{\"value\":\"lightgrey\"},\"left_units\":\"screen\",\"level\":\"overlay\",\"line_alpha\":{\"value\":1.0},\"line_color\":{\"value\":\"black\"},\"line_dash\":[4,4],\"line_width\":{\"value\":2},\"plot\":null,\"render_mode\":\"css\",\"right_units\":\"screen\",\"top_units\":\"screen\"},\"id\":\"a40e8f6b-20b8-4fc8-825f-8f9566528914\",\"type\":\"BoxAnnotation\"},{\"attributes\":{\"plot\":{\"id\":\"a9ef25ee-5daa-4423-9af1-1a2bffe3a5a5\",\"subtype\":\"Figure\",\"type\":\"Plot\"}},\"id\":\"12c92658-3d55-444e-9f9c-c03dacdc1c4d\",\"type\":\"SaveTool\"},{\"attributes\":{\"data_source\":{\"id\":\"ee13c04b-352d-4381-a4ad-3821dc02345a\",\"type\":\"ColumnDataSource\"},\"glyph\":{\"id\":\"e81b10a6-1864-4b32-9a57-be268515d9ed\",\"type\":\"Circle\"},\"hover_glyph\":null,\"nonselection_glyph\":{\"id\":\"f5233a2d-5adc-4189-aa5f-19d6b035fff5\",\"type\":\"Circle\"},\"selection_glyph\":null},\"id\":\"30f76ecd-4b44-4869-a7fb-1bc4a888ab24\",\"type\":\"GlyphRenderer\"},{\"attributes\":{\"callback\":null,\"column_names\":[\"x\",\"y\"],\"data\":{\"x\":[1991,2001,2010,2017,2019,2029,2039],\"y\":[45047,57791,81995,95868,99832,119651,139470]}},\"id\":\"86682130-233d-4d36-9aee-9299b65d943a\",\"type\":\"ColumnDataSource\"},{\"attributes\":{\"line_color\":{\"value\":\"#164c71\"},\"line_width\":{\"value\":2},\"x\":{\"field\":\"x\"},\"y\":{\"field\":\"y\"}},\"id\":\"0cdfd47b-75c3-4e3a-99f9-6cac3788ec17\",\"type\":\"Line\"},{\"attributes\":{\"line_alpha\":{\"value\":0.1},\"line_color\":{\"value\":\"#1f77b4\"},\"line_width\":{\"value\":2},\"x\":{\"field\":\"x\"},\"y\":{\"field\":\"y\"}},\"id\":\"25420332-6f07-4e3d-aa95-6a01fcef7ec8\",\"type\":\"Line\"},{\"attributes\":{\"callback\":null},\"id\":\"090d4211-5f5a-42ec-b87a-1824f04461c5\",\"type\":\"DataRange1d\"},{\"attributes\":{\"line_alpha\":{\"value\":0.1},\"line_color\":{\"value\":\"#1f77b4\"},\"line_width\":{\"value\":2},\"x\":{\"field\":\"x\"},\"y\":{\"field\":\"y\"}},\"id\":\"7f870aba-0029-49e3-bcd7-ed4653362932\",\"type\":\"Line\"},{\"attributes\":{\"data_source\":{\"id\":\"ec9c166b-4021-4a6b-af9b-e1bc3f320e6c\",\"type\":\"ColumnDataSource\"},\"glyph\":{\"id\":\"0baa57bd-8873-472a-bd6b-a8ba363611f2\",\"type\":\"Circle\"},\"hover_glyph\":null,\"nonselection_glyph\":{\"id\":\"95b934b6-f097-4ace-b26b-ffc2801bc39a\",\"type\":\"Circle\"},\"selection_glyph\":null},\"id\":\"368eff1f-9a71-4cbe-818c-b44d3a51e43a\",\"type\":\"GlyphRenderer\"},{\"attributes\":{\"line_color\":{\"value\":\"blue\"},\"line_width\":{\"value\":2},\"x\":{\"field\":\"x\"},\"y\":{\"field\":\"y\"}},\"id\":\"b28408e0-b7f7-4402-b557-2690283e2d09\",\"type\":\"Line\"},{\"attributes\":{\"data_source\":{\"id\":\"4f36ad08-e126-49d7-a410-6488ca1ad1be\",\"type\":\"ColumnDataSource\"},\"glyph\":{\"id\":\"e97a5731-b150-4602-98c3-28a304de684e\",\"type\":\"Line\"},\"hover_glyph\":null,\"nonselection_glyph\":{\"id\":\"b3d6dc3f-c513-4c74-96b3-b6025ab81a76\",\"type\":\"Line\"},\"selection_glyph\":null},\"id\":\"a99f047b-29dc-4f6b-b471-a724d9712265\",\"type\":\"GlyphRenderer\"},{\"attributes\":{\"data_source\":{\"id\":\"c1a2ba9a-891c-427b-afa4-a44bac7a7353\",\"type\":\"ColumnDataSource\"},\"glyph\":{\"id\":\"9d1a89b7-108c-4742-97a5-f12e8ce60ae3\",\"type\":\"Line\"},\"hover_glyph\":null,\"nonselection_glyph\":{\"id\":\"91555f90-e0ec-4be2-b632-39ffe38ac666\",\"type\":\"Line\"},\"selection_glyph\":null},\"id\":\"2c651aaf-ed81-49af-ab1f-4872ed063b37\",\"type\":\"GlyphRenderer\"},{\"attributes\":{\"fill_alpha\":{\"value\":0.1},\"fill_color\":{\"value\":\"#1f77b4\"},\"line_alpha\":{\"value\":0.1},\"line_color\":{\"value\":\"#1f77b4\"},\"x\":{\"field\":\"x\"},\"y\":{\"field\":\"y\"}},\"id\":\"70836ee3-b6c8-4509-8981-067989eeed47\",\"type\":\"Circle\"},{\"attributes\":{\"line_color\":{\"value\":\"firebrick\"},\"line_width\":{\"value\":2},\"x\":{\"field\":\"x\"},\"y\":{\"field\":\"y\"}},\"id\":\"c49b2b08-3007-44d0-a331-c8f7933b0d8f\",\"type\":\"Line\"},{\"attributes\":{\"line_color\":{\"value\":\"orange\"},\"line_width\":{\"value\":2},\"x\":{\"field\":\"x\"},\"y\":{\"field\":\"y\"}},\"id\":\"e97a5731-b150-4602-98c3-28a304de684e\",\"type\":\"Line\"},{\"attributes\":{\"line_color\":{\"value\":\"green\"},\"line_width\":{\"value\":2},\"x\":{\"field\":\"x\"},\"y\":{\"field\":\"y\"}},\"id\":\"9d1a89b7-108c-4742-97a5-f12e8ce60ae3\",\"type\":\"Line\"},{\"attributes\":{\"callback\":null,\"column_names\":[\"x\",\"y\"],\"data\":{\"x\":[1991,2001,2010,2017,2019,2029,2039],\"y\":[1913,2185,2374,2543,2591,2832,3073]}},\"id\":\"fc0d3496-a5fb-4475-a45b-a07251a2c895\",\"type\":\"ColumnDataSource\"},{\"attributes\":{\"callback\":null,\"column_names\":[\"x\",\"y\"],\"data\":{\"x\":[1991,2001,2010,2017,2019,2029,2039],\"y\":[1527,1981,2228,2483,2556,2920,3284]}},\"id\":\"d4546f75-1233-4ed5-889d-59dae557614a\",\"type\":\"ColumnDataSource\"},{\"attributes\":{\"fill_alpha\":{\"value\":0.1},\"fill_color\":{\"value\":\"#1f77b4\"},\"line_alpha\":{\"value\":0.1},\"line_color\":{\"value\":\"#1f77b4\"},\"x\":{\"field\":\"x\"},\"y\":{\"field\":\"y\"}},\"id\":\"35544398-3acb-454c-9d01-da2a1ef7c447\",\"type\":\"Circle\"},{\"attributes\":{\"data_source\":{\"id\":\"fc0d3496-a5fb-4475-a45b-a07251a2c895\",\"type\":\"ColumnDataSource\"},\"glyph\":{\"id\":\"c454e1fd-7d16-4330-9fd8-d35ef73cae7e\",\"type\":\"Circle\"},\"hover_glyph\":null,\"nonselection_glyph\":{\"id\":\"be340f03-2a69-4caf-91bc-4fc7dddae050\",\"type\":\"Circle\"},\"selection_glyph\":null},\"id\":\"fd0d4e48-d2d7-47f8-89af-8041c9eaf899\",\"type\":\"GlyphRenderer\"},{\"attributes\":{\"plot\":{\"id\":\"a9ef25ee-5daa-4423-9af1-1a2bffe3a5a5\",\"subtype\":\"Figure\",\"type\":\"Plot\"},\"ticker\":{\"id\":\"c8bdef2f-8b84-4ab5-bc2a-e2fe76f6282b\",\"type\":\"BasicTicker\"}},\"id\":\"d23e2872-7822-4134-8101-9d4cdcc1e6f6\",\"type\":\"Grid\"},{\"attributes\":{\"fill_alpha\":{\"value\":0.1},\"fill_color\":{\"value\":\"#1f77b4\"},\"line_alpha\":{\"value\":0.1},\"line_color\":{\"value\":\"#1f77b4\"},\"x\":{\"field\":\"x\"},\"y\":{\"field\":\"y\"}},\"id\":\"b222f370-f915-4b13-8742-70cabbc92897\",\"type\":\"Circle\"},{\"attributes\":{\"data_source\":{\"id\":\"dfa7abda-9ef0-4e7f-a82e-66f2e07cbab1\",\"type\":\"ColumnDataSource\"},\"glyph\":{\"id\":\"8b300e42-bbe1-4b79-b1f2-17da54692bda\",\"type\":\"Line\"},\"hover_glyph\":null,\"nonselection_glyph\":{\"id\":\"6fc76b8e-cc79-4b4e-848d-2a6fc43efe83\",\"type\":\"Line\"},\"selection_glyph\":null},\"id\":\"7415f7a6-2088-48b5-b56e-89ba24e2d0bc\",\"type\":\"GlyphRenderer\"},{\"attributes\":{\"data_source\":{\"id\":\"f60c305a-247d-4ec8-aa72-13649e67faee\",\"type\":\"ColumnDataSource\"},\"glyph\":{\"id\":\"ec47626b-659e-4e43-b97e-5621d054666f\",\"type\":\"Line\"},\"hover_glyph\":null,\"nonselection_glyph\":{\"id\":\"fec0283f-aedd-4fa8-84c4-9ecd3f60e110\",\"type\":\"Line\"},\"selection_glyph\":null},\"id\":\"e0a67515-f5d1-463f-97b0-fae5a7f25fcf\",\"type\":\"GlyphRenderer\"},{\"attributes\":{\"fill_color\":{\"value\":\"#7c1b65\"},\"line_color\":{\"value\":\"#7c1b65\"},\"x\":{\"field\":\"x\"},\"y\":{\"field\":\"y\"}},\"id\":\"34841f17-63bd-4cf3-9a75-105996ef6914\",\"type\":\"Circle\"},{\"attributes\":{\"fill_alpha\":{\"value\":0.1},\"fill_color\":{\"value\":\"#1f77b4\"},\"line_alpha\":{\"value\":0.1},\"line_color\":{\"value\":\"#1f77b4\"},\"x\":{\"field\":\"x\"},\"y\":{\"field\":\"y\"}},\"id\":\"be340f03-2a69-4caf-91bc-4fc7dddae050\",\"type\":\"Circle\"},{\"attributes\":{\"use_scientific\":false},\"id\":\"29516626-8a36-4b8b-add8-c8e6687d2608\",\"type\":\"BasicTickFormatter\"},{\"attributes\":{\"callback\":null,\"column_names\":[\"x\",\"y\"],\"data\":{\"x\":[1991,2001,2010,2017,2019,2029,2039],\"y\":[4642,5753,6627,7356,7564,8605,9646]}},\"id\":\"ec9c166b-4021-4a6b-af9b-e1bc3f320e6c\",\"type\":\"ColumnDataSource\"},{\"attributes\":{\"callback\":null,\"column_names\":[\"x\",\"y\"],\"data\":{\"x\":[1991,2001,2010,2017,2019,2029,2039],\"y\":[7209,8292,11124,12604,13027,15142,17257]}},\"id\":\"99e58d4d-e06a-40ac-b08a-16d9f5cfea6b\",\"type\":\"ColumnDataSource\"},{\"attributes\":{\"plot\":{\"id\":\"a9ef25ee-5daa-4423-9af1-1a2bffe3a5a5\",\"subtype\":\"Figure\",\"type\":\"Plot\"}},\"id\":\"70d8b0a6-fa03-4581-8fed-29606d5b7ce0\",\"type\":\"PanTool\"},{\"attributes\":{\"fill_color\":{\"value\":\"blue\"},\"line_color\":{\"value\":\"blue\"},\"x\":{\"field\":\"x\"},\"y\":{\"field\":\"y\"}},\"id\":\"90564914-d44a-4328-b7b5-3112814ce986\",\"type\":\"Circle\"},{\"attributes\":{\"callback\":null,\"column_names\":[\"x\",\"y\"],\"data\":{\"x\":[1991,2001,2010,2017,2019,2029,2039],\"y\":[2613,2929,3307,3565,3639,4007,4375]}},\"id\":\"b7cba87a-d11b-4214-9f9d-4e6ea8c897dc\",\"type\":\"ColumnDataSource\"},{\"attributes\":{\"callback\":null,\"column_names\":[\"x\",\"y\"],\"data\":{\"x\":[1991,2001,2010,2017,2019,2029,2039],\"y\":[23411,28486,32758,36196,37178,42089,47000]}},\"id\":\"bc25fd31-cf64-48cf-aec0-7ea57f689677\",\"type\":\"ColumnDataSource\"},{\"attributes\":{\"line_color\":{\"value\":\"#7c1b65\"},\"line_width\":{\"value\":2},\"x\":{\"field\":\"x\"},\"y\":{\"field\":\"y\"}},\"id\":\"8b300e42-bbe1-4b79-b1f2-17da54692bda\",\"type\":\"Line\"},{\"attributes\":{\"data_source\":{\"id\":\"8feb1559-00cf-4ce9-bd3f-71e119b5a5dd\",\"type\":\"ColumnDataSource\"},\"glyph\":{\"id\":\"6a1657a9-4cf3-4f4a-abd5-d6b627364240\",\"type\":\"Circle\"},\"hover_glyph\":null,\"nonselection_glyph\":{\"id\":\"8ffe7da8-770e-48a8-80b2-439336d854d2\",\"type\":\"Circle\"},\"selection_glyph\":null},\"id\":\"9d954b09-b627-413e-a366-e72d85073d1c\",\"type\":\"GlyphRenderer\"},{\"attributes\":{\"data_source\":{\"id\":\"36265fc6-e4ed-45f2-a555-46c4901d33cc\",\"type\":\"ColumnDataSource\"},\"glyph\":{\"id\":\"90564914-d44a-4328-b7b5-3112814ce986\",\"type\":\"Circle\"},\"hover_glyph\":null,\"nonselection_glyph\":{\"id\":\"70836ee3-b6c8-4509-8981-067989eeed47\",\"type\":\"Circle\"},\"selection_glyph\":null},\"id\":\"3c51ec1a-cb85-46a1-b32f-fc6f39a69ed4\",\"type\":\"GlyphRenderer\"},{\"attributes\":{\"data_source\":{\"id\":\"132581d3-70a4-4e84-9891-5bafeb399a46\",\"type\":\"ColumnDataSource\"},\"glyph\":{\"id\":\"0cdfd47b-75c3-4e3a-99f9-6cac3788ec17\",\"type\":\"Line\"},\"hover_glyph\":null,\"nonselection_glyph\":{\"id\":\"25420332-6f07-4e3d-aa95-6a01fcef7ec8\",\"type\":\"Line\"},\"selection_glyph\":null},\"id\":\"afab2464-46d9-499a-a976-71d60657d747\",\"type\":\"GlyphRenderer\"},{\"attributes\":{\"data_source\":{\"id\":\"4312c195-ff55-4f1e-afc9-935c625bd948\",\"type\":\"ColumnDataSource\"},\"glyph\":{\"id\":\"34841f17-63bd-4cf3-9a75-105996ef6914\",\"type\":\"Circle\"},\"hover_glyph\":null,\"nonselection_glyph\":{\"id\":\"0bc1c64c-67a0-4dc8-babb-a565d730aa19\",\"type\":\"Circle\"},\"selection_glyph\":null},\"id\":\"70998b55-dc8f-4874-ba33-86fe90d85409\",\"type\":\"GlyphRenderer\"},{\"attributes\":{\"line_alpha\":{\"value\":0.1},\"line_color\":{\"value\":\"#1f77b4\"},\"line_width\":{\"value\":2},\"x\":{\"field\":\"x\"},\"y\":{\"field\":\"y\"}},\"id\":\"984b539a-34ff-4c6f-ab72-65708f042521\",\"type\":\"Line\"},{\"attributes\":{\"fill_color\":{\"value\":\"green\"},\"line_color\":{\"value\":\"green\"},\"x\":{\"field\":\"x\"},\"y\":{\"field\":\"y\"}},\"id\":\"be798650-12d2-4482-b6b8-bd4b8872a1fc\",\"type\":\"Circle\"},{\"attributes\":{\"line_alpha\":{\"value\":0.1},\"line_color\":{\"value\":\"#1f77b4\"},\"line_width\":{\"value\":2},\"x\":{\"field\":\"x\"},\"y\":{\"field\":\"y\"}},\"id\":\"fec0283f-aedd-4fa8-84c4-9ecd3f60e110\",\"type\":\"Line\"},{\"attributes\":{\"data_source\":{\"id\":\"99e58d4d-e06a-40ac-b08a-16d9f5cfea6b\",\"type\":\"ColumnDataSource\"},\"glyph\":{\"id\":\"2b5c0b01-dcd6-44a2-ad44-36bb71f4066a\",\"type\":\"Line\"},\"hover_glyph\":null,\"nonselection_glyph\":{\"id\":\"559fef17-82e1-446c-85a1-52a2c1ccf7f1\",\"type\":\"Line\"},\"selection_glyph\":null},\"id\":\"57af1796-f48f-47e0-bcad-d3acdeab3cc9\",\"type\":\"GlyphRenderer\"},{\"attributes\":{\"data_source\":{\"id\":\"34493e61-66e7-4bb7-a870-5b98276fe049\",\"type\":\"ColumnDataSource\"},\"glyph\":{\"id\":\"aab7908a-9eb1-4f4e-b90e-c8b6ed3e3f29\",\"type\":\"Circle\"},\"hover_glyph\":null,\"nonselection_glyph\":{\"id\":\"b222f370-f915-4b13-8742-70cabbc92897\",\"type\":\"Circle\"},\"selection_glyph\":null},\"id\":\"9b5ce0eb-2813-4486-8b65-7c26619f6ef4\",\"type\":\"GlyphRenderer\"},{\"attributes\":{\"plot\":{\"id\":\"a9ef25ee-5daa-4423-9af1-1a2bffe3a5a5\",\"subtype\":\"Figure\",\"type\":\"Plot\"}},\"id\":\"e03cf5fb-e562-4f31-9510-f0b15e126241\",\"type\":\"ResetTool\"},{\"attributes\":{\"below\":[{\"id\":\"6afe2094-ec7a-4499-bfd6-01dd76692d4f\",\"type\":\"LinearAxis\"}],\"left\":[{\"id\":\"36efecdd-c093-409d-9090-f93d7193c676\",\"type\":\"LinearAxis\"}],\"plot_width\":900,\"renderers\":[{\"id\":\"6afe2094-ec7a-4499-bfd6-01dd76692d4f\",\"type\":\"LinearAxis\"},{\"id\":\"d23e2872-7822-4134-8101-9d4cdcc1e6f6\",\"type\":\"Grid\"},{\"id\":\"36efecdd-c093-409d-9090-f93d7193c676\",\"type\":\"LinearAxis\"},{\"id\":\"017710e0-20b2-4d67-9dee-896927d8c1c0\",\"type\":\"Grid\"},{\"id\":\"a40e8f6b-20b8-4fc8-825f-8f9566528914\",\"type\":\"BoxAnnotation\"},{\"id\":\"64df5634-788c-4ca9-bab0-96c1bf65a942\",\"type\":\"Legend\"},{\"id\":\"7093d05e-41a1-4887-ab38-9f440402d150\",\"type\":\"GlyphRenderer\"},{\"id\":\"e0a67515-f5d1-463f-97b0-fae5a7f25fcf\",\"type\":\"GlyphRenderer\"},{\"id\":\"9d954b09-b627-413e-a366-e72d85073d1c\",\"type\":\"GlyphRenderer\"},{\"id\":\"a99f047b-29dc-4f6b-b471-a724d9712265\",\"type\":\"GlyphRenderer\"},{\"id\":\"3c51ec1a-cb85-46a1-b32f-fc6f39a69ed4\",\"type\":\"GlyphRenderer\"},{\"id\":\"21c10c16-22a8-4284-8f77-c117a0d42f07\",\"type\":\"GlyphRenderer\"},{\"id\":\"cd255a9a-b93f-4a7b-9869-343a2ed6729c\",\"type\":\"GlyphRenderer\"},{\"id\":\"2c651aaf-ed81-49af-ab1f-4872ed063b37\",\"type\":\"GlyphRenderer\"},{\"id\":\"9b5ce0eb-2813-4486-8b65-7c26619f6ef4\",\"type\":\"GlyphRenderer\"},{\"id\":\"57af1796-f48f-47e0-bcad-d3acdeab3cc9\",\"type\":\"GlyphRenderer\"},{\"id\":\"c8946bfc-21c9-4a16-9c2b-ae49bb1259cd\",\"type\":\"GlyphRenderer\"},{\"id\":\"0728e054-ba27-4867-9b97-50df39f6ccfc\",\"type\":\"GlyphRenderer\"},{\"id\":\"254b0f30-3ddd-4609-adc9-21bf637b48e8\",\"type\":\"GlyphRenderer\"},{\"id\":\"2ffe72a0-a8ca-4df2-bc38-6feb4f168a7b\",\"type\":\"GlyphRenderer\"},{\"id\":\"368eff1f-9a71-4cbe-818c-b44d3a51e43a\",\"type\":\"GlyphRenderer\"},{\"id\":\"0ccb7d20-4de0-4c30-aa07-70f3334ddafb\",\"type\":\"GlyphRenderer\"},{\"id\":\"fd0d4e48-d2d7-47f8-89af-8041c9eaf899\",\"type\":\"GlyphRenderer\"},{\"id\":\"9e1e5c16-a156-4b8a-90b9-190e0c6694bc\",\"type\":\"GlyphRenderer\"},{\"id\":\"30f76ecd-4b44-4869-a7fb-1bc4a888ab24\",\"type\":\"GlyphRenderer\"},{\"id\":\"8a9e7bb6-6820-4f11-a962-68abc7f59be1\",\"type\":\"GlyphRenderer\"},{\"id\":\"e243a12a-f647-4b5c-a261-08af78181528\",\"type\":\"GlyphRenderer\"},{\"id\":\"2f4de808-f9c8-4ff9-9601-18c0e3e8cc0c\",\"type\":\"GlyphRenderer\"},{\"id\":\"35893772-3247-4185-8a69-7bd0f07bf661\",\"type\":\"GlyphRenderer\"},{\"id\":\"afab2464-46d9-499a-a976-71d60657d747\",\"type\":\"GlyphRenderer\"},{\"id\":\"70998b55-dc8f-4874-ba33-86fe90d85409\",\"type\":\"GlyphRenderer\"},{\"id\":\"7415f7a6-2088-48b5-b56e-89ba24e2d0bc\",\"type\":\"GlyphRenderer\"}],\"title\":{\"id\":\"fb1c6b6e-3a2c-485d-8d76-b2695bdd93f8\",\"type\":\"Title\"},\"tool_events\":{\"id\":\"33bcdd27-d0b9-407e-ba01-4454630acdd9\",\"type\":\"ToolEvents\"},\"toolbar\":{\"id\":\"fa4b9e1e-5bb0-4a9c-8434-81b58199d253\",\"type\":\"Toolbar\"},\"x_range\":{\"id\":\"e50a4202-edd1-4603-9237-81dd133d91d3\",\"type\":\"DataRange1d\"},\"y_range\":{\"id\":\"090d4211-5f5a-42ec-b87a-1824f04461c5\",\"type\":\"DataRange1d\"}},\"id\":\"a9ef25ee-5daa-4423-9af1-1a2bffe3a5a5\",\"subtype\":\"Figure\",\"type\":\"Plot\"},{\"attributes\":{\"line_color\":{\"value\":\"magenta\"},\"line_width\":{\"value\":2},\"x\":{\"field\":\"x\"},\"y\":{\"field\":\"y\"}},\"id\":\"484ebb48-719a-4eb5-9ccb-366facedc6b4\",\"type\":\"Line\"},{\"attributes\":{\"fill_color\":{\"value\":\"magenta\"},\"line_color\":{\"value\":\"magenta\"},\"x\":{\"field\":\"x\"},\"y\":{\"field\":\"y\"}},\"id\":\"e81b10a6-1864-4b32-9a57-be268515d9ed\",\"type\":\"Circle\"},{\"attributes\":{\"callback\":null,\"column_names\":[\"x\",\"y\"],\"data\":{\"x\":[1991,2001,2010,2017,2019,2029,2039],\"y\":[125725,137061,177083,196615,202195,230097,257999]}},\"id\":\"d9db3ae3-69cd-4a85-b994-02b8766743d9\",\"type\":\"ColumnDataSource\"},{\"attributes\":{\"fill_alpha\":{\"value\":0.1},\"fill_color\":{\"value\":\"#1f77b4\"},\"line_alpha\":{\"value\":0.1},\"line_color\":{\"value\":\"#1f77b4\"},\"x\":{\"field\":\"x\"},\"y\":{\"field\":\"y\"}},\"id\":\"0bdb911d-062c-4f07-85b8-85e619c7ef7a\",\"type\":\"Circle\"},{\"attributes\":{},\"id\":\"c8bdef2f-8b84-4ab5-bc2a-e2fe76f6282b\",\"type\":\"BasicTicker\"},{\"attributes\":{\"line_alpha\":{\"value\":0.1},\"line_color\":{\"value\":\"#1f77b4\"},\"line_width\":{\"value\":2},\"x\":{\"field\":\"x\"},\"y\":{\"field\":\"y\"}},\"id\":\"559fef17-82e1-446c-85a1-52a2c1ccf7f1\",\"type\":\"Line\"},{\"attributes\":{\"fill_color\":{\"value\":\"red\"},\"line_color\":{\"value\":\"red\"},\"x\":{\"field\":\"x\"},\"y\":{\"field\":\"y\"}},\"id\":\"ccae9f4d-efef-4a9a-a6db-359ccbc5ac8f\",\"type\":\"Circle\"},{\"attributes\":{\"fill_color\":{\"value\":\"firebrick\"},\"line_color\":{\"value\":\"firebrick\"},\"x\":{\"field\":\"x\"},\"y\":{\"field\":\"y\"}},\"id\":\"0baa57bd-8873-472a-bd6b-a8ba363611f2\",\"type\":\"Circle\"},{\"attributes\":{\"legends\":[[\"Comodoro Rivadavia\",[{\"id\":\"7093d05e-41a1-4887-ab38-9f440402d150\",\"type\":\"GlyphRenderer\"},{\"id\":\"e0a67515-f5d1-463f-97b0-fae5a7f25fcf\",\"type\":\"GlyphRenderer\"}]],[\"Trelew\",[{\"id\":\"9d954b09-b627-413e-a366-e72d85073d1c\",\"type\":\"GlyphRenderer\"},{\"id\":\"a99f047b-29dc-4f6b-b471-a724d9712265\",\"type\":\"GlyphRenderer\"}]],[\"Puerto Madryn\",[{\"id\":\"3c51ec1a-cb85-46a1-b32f-fc6f39a69ed4\",\"type\":\"GlyphRenderer\"},{\"id\":\"21c10c16-22a8-4284-8f77-c117a0d42f07\",\"type\":\"GlyphRenderer\"}]],[\"Esquel\",[{\"id\":\"cd255a9a-b93f-4a7b-9869-343a2ed6729c\",\"type\":\"GlyphRenderer\"},{\"id\":\"2c651aaf-ed81-49af-ab1f-4872ed063b37\",\"type\":\"GlyphRenderer\"}]],[\"Sarmiento\",[{\"id\":\"9b5ce0eb-2813-4486-8b65-7c26619f6ef4\",\"type\":\"GlyphRenderer\"},{\"id\":\"57af1796-f48f-47e0-bcad-d3acdeab3cc9\",\"type\":\"GlyphRenderer\"}]],[\"Rawson\",[{\"id\":\"c8946bfc-21c9-4a16-9c2b-ae49bb1259cd\",\"type\":\"GlyphRenderer\"},{\"id\":\"0728e054-ba27-4867-9b97-50df39f6ccfc\",\"type\":\"GlyphRenderer\"}]],[\"Dolavon\",[{\"id\":\"254b0f30-3ddd-4609-adc9-21bf637b48e8\",\"type\":\"GlyphRenderer\"},{\"id\":\"2ffe72a0-a8ca-4df2-bc38-6feb4f168a7b\",\"type\":\"GlyphRenderer\"}]],[\"Gaiman\",[{\"id\":\"368eff1f-9a71-4cbe-818c-b44d3a51e43a\",\"type\":\"GlyphRenderer\"},{\"id\":\"0ccb7d20-4de0-4c30-aa07-70f3334ddafb\",\"type\":\"GlyphRenderer\"}]],[\"Gobernador Costa\",[{\"id\":\"fd0d4e48-d2d7-47f8-89af-8041c9eaf899\",\"type\":\"GlyphRenderer\"},{\"id\":\"9e1e5c16-a156-4b8a-90b9-190e0c6694bc\",\"type\":\"GlyphRenderer\"}]],[\"Cholila\",[{\"id\":\"30f76ecd-4b44-4869-a7fb-1bc4a888ab24\",\"type\":\"GlyphRenderer\"},{\"id\":\"8a9e7bb6-6820-4f11-a962-68abc7f59be1\",\"type\":\"GlyphRenderer\"}]],[\"Camarones\",[{\"id\":\"e243a12a-f647-4b5c-a261-08af78181528\",\"type\":\"GlyphRenderer\"},{\"id\":\"2f4de808-f9c8-4ff9-9601-18c0e3e8cc0c\",\"type\":\"GlyphRenderer\"}]],[\"Paso de Indios\",[{\"id\":\"35893772-3247-4185-8a69-7bd0f07bf661\",\"type\":\"GlyphRenderer\"},{\"id\":\"afab2464-46d9-499a-a976-71d60657d747\",\"type\":\"GlyphRenderer\"}]],[\"Paso del Sapo\",[{\"id\":\"70998b55-dc8f-4874-ba33-86fe90d85409\",\"type\":\"GlyphRenderer\"},{\"id\":\"7415f7a6-2088-48b5-b56e-89ba24e2d0bc\",\"type\":\"GlyphRenderer\"}]]],\"plot\":{\"id\":\"a9ef25ee-5daa-4423-9af1-1a2bffe3a5a5\",\"subtype\":\"Figure\",\"type\":\"Plot\"}},\"id\":\"64df5634-788c-4ca9-bab0-96c1bf65a942\",\"type\":\"Legend\"},{\"attributes\":{\"line_alpha\":{\"value\":0.1},\"line_color\":{\"value\":\"#1f77b4\"},\"line_width\":{\"value\":2},\"x\":{\"field\":\"x\"},\"y\":{\"field\":\"y\"}},\"id\":\"a9983e8c-f3e9-45fa-b393-f1367a26fb16\",\"type\":\"Line\"},{\"attributes\":{\"fill_alpha\":{\"value\":0.1},\"fill_color\":{\"value\":\"#1f77b4\"},\"line_alpha\":{\"value\":0.1},\"line_color\":{\"value\":\"#1f77b4\"},\"x\":{\"field\":\"x\"},\"y\":{\"field\":\"y\"}},\"id\":\"1409836a-ab6d-48ca-8f91-344843e452ab\",\"type\":\"Circle\"},{\"attributes\":{\"callback\":null,\"column_names\":[\"x\",\"y\"],\"data\":{\"x\":[1991,2001,2010,2017,2019,2029,2039],\"y\":[125725,137061,177083,196615,202195,230097,257999]}},\"id\":\"f60c305a-247d-4ec8-aa72-13649e67faee\",\"type\":\"ColumnDataSource\"},{\"attributes\":{\"callback\":null,\"column_names\":[\"x\",\"y\"],\"data\":{\"x\":[1991,2001,2010,2017,2019,2029,2039],\"y\":[1913,2185,2374,2543,2591,2832,3073]}},\"id\":\"b2f6de8c-0bd5-4dee-9f94-bc03e6a14609\",\"type\":\"ColumnDataSource\"},{\"attributes\":{\"callback\":null,\"column_names\":[\"x\",\"y\"],\"data\":{\"x\":[1991,2001,2010,2017,2019,2029,2039],\"y\":[7209,8292,11124,12604,13027,15142,17257]}},\"id\":\"34493e61-66e7-4bb7-a870-5b98276fe049\",\"type\":\"ColumnDataSource\"},{\"attributes\":{\"fill_alpha\":{\"value\":0.1},\"fill_color\":{\"value\":\"#1f77b4\"},\"line_alpha\":{\"value\":0.1},\"line_color\":{\"value\":\"#1f77b4\"},\"x\":{\"field\":\"x\"},\"y\":{\"field\":\"y\"}},\"id\":\"7543cf58-554f-4000-9e22-6ff33185302e\",\"type\":\"Circle\"},{\"attributes\":{\"fill_color\":{\"value\":\"#164c71\"},\"line_color\":{\"value\":\"#164c71\"},\"x\":{\"field\":\"x\"},\"y\":{\"field\":\"y\"}},\"id\":\"db4fccf6-64d0-4fed-ad8f-7c05da911cb6\",\"type\":\"Circle\"},{\"attributes\":{\"axis_label\":\"Poblaci\\u00f3n\",\"formatter\":{\"id\":\"29516626-8a36-4b8b-add8-c8e6687d2608\",\"type\":\"BasicTickFormatter\"},\"plot\":{\"id\":\"a9ef25ee-5daa-4423-9af1-1a2bffe3a5a5\",\"subtype\":\"Figure\",\"type\":\"Plot\"},\"ticker\":{\"id\":\"014c0069-5023-40f4-a670-703460a0ab55\",\"type\":\"BasicTicker\"}},\"id\":\"36efecdd-c093-409d-9090-f93d7193c676\",\"type\":\"LinearAxis\"},{\"attributes\":{\"callback\":null,\"column_names\":[\"x\",\"y\"],\"data\":{\"x\":[1991,2001,2010,2017,2019,2029,2039],\"y\":[864,1087,1264,1411,1453,1663,1873]}},\"id\":\"528217e0-c2db-441e-9346-f5b930f8f96f\",\"type\":\"ColumnDataSource\"},{\"attributes\":{\"line_alpha\":{\"value\":0.1},\"line_color\":{\"value\":\"#1f77b4\"},\"line_width\":{\"value\":2},\"x\":{\"field\":\"x\"},\"y\":{\"field\":\"y\"}},\"id\":\"9a89562c-3f8d-4498-9944-18a74cbf256f\",\"type\":\"Line\"},{\"attributes\":{\"align\":\"center\",\"plot\":null,\"text\":\"Poblaci\\u00f3n -Proyecci\\u00f3n Aritm\\u00e9tica Tasa Dos \\u00daltimos Per\\u00edodos Censales\",\"text_color\":{\"value\":\"blue\"},\"text_font\":\"times\",\"text_font_size\":{\"value\":\"20px\"},\"text_font_style\":\"italic\"},\"id\":\"fb1c6b6e-3a2c-485d-8d76-b2695bdd93f8\",\"type\":\"Title\"},{\"attributes\":{\"callback\":null,\"column_names\":[\"x\",\"y\"],\"data\":{\"x\":[1991,2001,2010,2017,2019,2029,2039],\"y\":[2613,2929,3307,3565,3639,4007,4375]}},\"id\":\"54f3b177-404b-4ff6-b195-01cbc85dabd4\",\"type\":\"ColumnDataSource\"},{\"attributes\":{\"fill_alpha\":{\"value\":0.1},\"fill_color\":{\"value\":\"#1f77b4\"},\"line_alpha\":{\"value\":0.1},\"line_color\":{\"value\":\"#1f77b4\"},\"x\":{\"field\":\"x\"},\"y\":{\"field\":\"y\"}},\"id\":\"725d4554-3cc9-49f1-94b7-86481ae3ec54\",\"type\":\"Circle\"},{\"attributes\":{\"data_source\":{\"id\":\"d9db3ae3-69cd-4a85-b994-02b8766743d9\",\"type\":\"ColumnDataSource\"},\"glyph\":{\"id\":\"ccae9f4d-efef-4a9a-a6db-359ccbc5ac8f\",\"type\":\"Circle\"},\"hover_glyph\":null,\"nonselection_glyph\":{\"id\":\"7543cf58-554f-4000-9e22-6ff33185302e\",\"type\":\"Circle\"},\"selection_glyph\":null},\"id\":\"7093d05e-41a1-4887-ab38-9f440402d150\",\"type\":\"GlyphRenderer\"},{\"attributes\":{\"overlay\":{\"id\":\"a40e8f6b-20b8-4fc8-825f-8f9566528914\",\"type\":\"BoxAnnotation\"},\"plot\":{\"id\":\"a9ef25ee-5daa-4423-9af1-1a2bffe3a5a5\",\"subtype\":\"Figure\",\"type\":\"Plot\"}},\"id\":\"fac40c11-eee1-4a98-923c-270f2fff6706\",\"type\":\"BoxZoomTool\"},{\"attributes\":{\"line_color\":{\"value\":\"navy\"},\"line_width\":{\"value\":2},\"x\":{\"field\":\"x\"},\"y\":{\"field\":\"y\"}},\"id\":\"9355355f-b4c2-4703-a489-93c50588a6c9\",\"type\":\"Line\"},{\"attributes\":{},\"id\":\"014c0069-5023-40f4-a670-703460a0ab55\",\"type\":\"BasicTicker\"},{\"attributes\":{\"fill_color\":{\"value\":\"pink\"},\"line_color\":{\"value\":\"pink\"},\"x\":{\"field\":\"x\"},\"y\":{\"field\":\"y\"}},\"id\":\"cb31934e-bc04-406b-b4b7-1e686cf65b8b\",\"type\":\"Circle\"},{\"attributes\":{\"active_drag\":\"auto\",\"active_scroll\":\"auto\",\"active_tap\":\"auto\",\"tools\":[{\"id\":\"70d8b0a6-fa03-4581-8fed-29606d5b7ce0\",\"type\":\"PanTool\"},{\"id\":\"df60f508-5a0e-4b5b-9ece-561e7eeba133\",\"type\":\"WheelZoomTool\"},{\"id\":\"fac40c11-eee1-4a98-923c-270f2fff6706\",\"type\":\"BoxZoomTool\"},{\"id\":\"12c92658-3d55-444e-9f9c-c03dacdc1c4d\",\"type\":\"SaveTool\"},{\"id\":\"e03cf5fb-e562-4f31-9510-f0b15e126241\",\"type\":\"ResetTool\"},{\"id\":\"069b010b-040e-429b-832f-14dd1295ec56\",\"type\":\"HelpTool\"}]},\"id\":\"fa4b9e1e-5bb0-4a9c-8434-81b58199d253\",\"type\":\"Toolbar\"},{\"attributes\":{\"line_alpha\":{\"value\":0.1},\"line_color\":{\"value\":\"#1f77b4\"},\"line_width\":{\"value\":2},\"x\":{\"field\":\"x\"},\"y\":{\"field\":\"y\"}},\"id\":\"1781db9d-da1f-47ef-957a-fda985d562bd\",\"type\":\"Line\"},{\"attributes\":{\"callback\":null,\"column_names\":[\"x\",\"y\"],\"data\":{\"x\":[1991,2001,2010,2017,2019,2029,2039],\"y\":[45047,57791,81995,95868,99832,119651,139470]}},\"id\":\"36265fc6-e4ed-45f2-a555-46c4901d33cc\",\"type\":\"ColumnDataSource\"},{\"attributes\":{\"callback\":null,\"column_names\":[\"x\",\"y\"],\"data\":{\"x\":[1991,2001,2010,2017,2019,2029,2039],\"y\":[322,384,396,422,430,468,506]}},\"id\":\"4312c195-ff55-4f1e-afc9-935c625bd948\",\"type\":\"ColumnDataSource\"},{\"attributes\":{\"data_source\":{\"id\":\"b2f6de8c-0bd5-4dee-9f94-bc03e6a14609\",\"type\":\"ColumnDataSource\"},\"glyph\":{\"id\":\"4f889512-9b96-4424-a706-41d7f64bcc37\",\"type\":\"Line\"},\"hover_glyph\":null,\"nonselection_glyph\":{\"id\":\"9a89562c-3f8d-4498-9944-18a74cbf256f\",\"type\":\"Line\"},\"selection_glyph\":null},\"id\":\"9e1e5c16-a156-4b8a-90b9-190e0c6694bc\",\"type\":\"GlyphRenderer\"},{\"attributes\":{\"line_color\":{\"value\":\"pink\"},\"line_width\":{\"value\":2},\"x\":{\"field\":\"x\"},\"y\":{\"field\":\"y\"}},\"id\":\"685056f5-972f-4127-91f6-61a548f82551\",\"type\":\"Line\"},{\"attributes\":{\"line_alpha\":{\"value\":0.1},\"line_color\":{\"value\":\"#1f77b4\"},\"line_width\":{\"value\":2},\"x\":{\"field\":\"x\"},\"y\":{\"field\":\"y\"}},\"id\":\"91555f90-e0ec-4be2-b632-39ffe38ac666\",\"type\":\"Line\"},{\"attributes\":{\"data_source\":{\"id\":\"bc25fd31-cf64-48cf-aec0-7ea57f689677\",\"type\":\"ColumnDataSource\"},\"glyph\":{\"id\":\"be798650-12d2-4482-b6b8-bd4b8872a1fc\",\"type\":\"Circle\"},\"hover_glyph\":null,\"nonselection_glyph\":{\"id\":\"3503fd67-08b8-4b56-8c14-70af20b5189f\",\"type\":\"Circle\"},\"selection_glyph\":null},\"id\":\"cd255a9a-b93f-4a7b-9869-343a2ed6729c\",\"type\":\"GlyphRenderer\"},{\"attributes\":{\"callback\":null,\"column_names\":[\"x\",\"y\"],\"data\":{\"x\":[1991,2001,2010,2017,2019,2029,2039],\"y\":[20674,26183,31787,35894,37068,42936,48804]}},\"id\":\"a82c37e0-d2c9-479e-97c1-f161a9e0c2d6\",\"type\":\"ColumnDataSource\"},{\"attributes\":{\"fill_color\":{\"value\":\"cyan\"},\"line_color\":{\"value\":\"cyan\"},\"x\":{\"field\":\"x\"},\"y\":{\"field\":\"y\"}},\"id\":\"c454e1fd-7d16-4330-9fd8-d35ef73cae7e\",\"type\":\"Circle\"},{\"attributes\":{\"data_source\":{\"id\":\"f61b0806-9cfa-457e-88f6-51d2c7514582\",\"type\":\"ColumnDataSource\"},\"glyph\":{\"id\":\"c49b2b08-3007-44d0-a331-c8f7933b0d8f\",\"type\":\"Line\"},\"hover_glyph\":null,\"nonselection_glyph\":{\"id\":\"984b539a-34ff-4c6f-ab72-65708f042521\",\"type\":\"Line\"},\"selection_glyph\":null},\"id\":\"0ccb7d20-4de0-4c30-aa07-70f3334ddafb\",\"type\":\"GlyphRenderer\"},{\"attributes\":{\"callback\":null,\"column_names\":[\"x\",\"y\"],\"data\":{\"x\":[1991,2001,2010,2017,2019,2029,2039],\"y\":[322,384,396,422,430,468,506]}},\"id\":\"dfa7abda-9ef0-4e7f-a82e-66f2e07cbab1\",\"type\":\"ColumnDataSource\"},{\"attributes\":{\"line_color\":{\"value\":\"olive\"},\"line_width\":{\"value\":2},\"x\":{\"field\":\"x\"},\"y\":{\"field\":\"y\"}},\"id\":\"14c731a8-9f67-42a3-8c1b-d67492abcdb1\",\"type\":\"Line\"},{\"attributes\":{\"axis_label\":\"Tiempo\",\"formatter\":{\"id\":\"21310043-9cb7-479f-865d-87c4703d1b6f\",\"type\":\"BasicTickFormatter\"},\"plot\":{\"id\":\"a9ef25ee-5daa-4423-9af1-1a2bffe3a5a5\",\"subtype\":\"Figure\",\"type\":\"Plot\"},\"ticker\":{\"id\":\"c8bdef2f-8b84-4ab5-bc2a-e2fe76f6282b\",\"type\":\"BasicTicker\"}},\"id\":\"6afe2094-ec7a-4499-bfd6-01dd76692d4f\",\"type\":\"LinearAxis\"},{\"attributes\":{\"line_alpha\":{\"value\":0.1},\"line_color\":{\"value\":\"#1f77b4\"},\"line_width\":{\"value\":2},\"x\":{\"field\":\"x\"},\"y\":{\"field\":\"y\"}},\"id\":\"7e1f66b5-9a9a-402e-aed2-26eecb9613bc\",\"type\":\"Line\"},{\"attributes\":{\"data_source\":{\"id\":\"d08b9e9a-1b50-4ffa-b60a-6e3872d5a4d0\",\"type\":\"ColumnDataSource\"},\"glyph\":{\"id\":\"685056f5-972f-4127-91f6-61a548f82551\",\"type\":\"Line\"},\"hover_glyph\":null,\"nonselection_glyph\":{\"id\":\"7f870aba-0029-49e3-bcd7-ed4653362932\",\"type\":\"Line\"},\"selection_glyph\":null},\"id\":\"0728e054-ba27-4867-9b97-50df39f6ccfc\",\"type\":\"GlyphRenderer\"}],\"root_ids\":[\"a9ef25ee-5daa-4423-9af1-1a2bffe3a5a5\"]},\"title\":\"Bokeh Application\",\"version\":\"0.12.0\"}};\n",
       "            var render_items = [{\"docid\":\"50407c97-4bd0-4ffc-864a-dce3fe230c82\",\"elementid\":\"f5769e59-0ac7-42d1-b887-edd4641823aa\",\"modelid\":\"a9ef25ee-5daa-4423-9af1-1a2bffe3a5a5\",\"notebook_comms_target\":\"6ad0d55f-8d71-490d-b1ef-b848b4fc6ac8\"}];\n",
       "            \n",
       "            Bokeh.embed.embed_items(docs_json, render_items);\n",
       "        });\n",
       "      },\n",
       "      function(Bokeh) {\n",
       "      }\n",
       "    ];\n",
       "  \n",
       "    function run_inline_js() {\n",
       "      for (var i = 0; i < inline_js.length; i++) {\n",
       "        inline_js[i](window.Bokeh);\n",
       "      }\n",
       "    }\n",
       "  \n",
       "    if (window._bokeh_is_loading === 0) {\n",
       "      console.log(\"Bokeh: BokehJS loaded, going straight to plotting\");\n",
       "      run_inline_js();\n",
       "    } else {\n",
       "      load_libs(js_urls, function() {\n",
       "        console.log(\"Bokeh: BokehJS plotting callback run at\", now());\n",
       "        run_inline_js();\n",
       "      });\n",
       "    }\n",
       "  }(this));\n",
       "</script>"
      ]
     },
     "metadata": {},
     "output_type": "display_data"
    },
    {
     "data": {
      "text/html": [
       "<p><code>&lt;Bokeh Notebook handle for <strong>In[6]</strong>&gt;</code></p>"
      ],
      "text/plain": [
       "<bokeh.io._CommsHandle at 0xaf4b60ec>"
      ]
     },
     "execution_count": 6,
     "metadata": {},
     "output_type": "execute_result"
    }
   ],
   "source": [
    "x = tiempo\n",
    "ciudades=[\"Comodoro Rivadavia\",\"Trelew\",\"Puerto Madryn\",\"Esquel\",\"Sarmiento\",\"Rawson\",\"Dolavon\",\"Gaiman\",\"Gobernador Costa\",\"Cholila\",\"Camarones\",\"Paso de Indios\",\"Paso del Sapo\"]\n",
    "colores=[\"red\",\"orange\",\"blue\",\"green\",\"yellow\",\"pink\",\"navy\",\"firebrick\",\"cyan\",\"magenta\",\"olive\",\"#164c71\",\"#7c1b65\"]\n",
    "\n",
    "p = figure(title=\"Población -Proyección Aritmética Tasa Dos Últimos Períodos Censales\",plot_width=900)\n",
    "p.title.align = \"center\"\n",
    "p.title.text_color = \"blue\"\n",
    "p.title.text_font = \"times\"\n",
    "p.title.text_font_style = \"italic\"\n",
    "p.title.text_font_size = \"20px\"\n",
    "\n",
    "p.left[0].formatter.use_scientific = False\n",
    "\n",
    "for i in range(len(ciudades)):\n",
    "    p.circle(x, proyecciones[i], legend=ciudades[i],fill_color=colores[i],line_color=colores[i])\n",
    "    p.line(x, proyecciones[i], legend=ciudades[i],line_color=colores[i], line_width=2)\n",
    "\n",
    "p.xaxis.axis_label = 'Tiempo'\n",
    "p.yaxis.axis_label = 'Población'\n",
    "\n",
    "show(p)"
   ]
  },
  {
   "cell_type": "code",
   "execution_count": null,
   "metadata": {
    "collapsed": true
   },
   "outputs": [],
   "source": []
  }
 ],
 "metadata": {
  "anaconda-cloud": {},
  "kernelspec": {
   "display_name": "Python [Root]",
   "language": "python",
   "name": "Python [Root]"
  },
  "language_info": {
   "codemirror_mode": {
    "name": "ipython",
    "version": 3
   },
   "file_extension": ".py",
   "mimetype": "text/x-python",
   "name": "python",
   "nbconvert_exporter": "python",
   "pygments_lexer": "ipython3",
   "version": "3.5.2"
  }
 },
 "nbformat": 4,
 "nbformat_minor": 2
}
