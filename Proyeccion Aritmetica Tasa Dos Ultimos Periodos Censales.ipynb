{
 "cells": [
  {
   "cell_type": "code",
   "execution_count": 30,
   "metadata": {
    "collapsed": false
   },
   "outputs": [
    {
     "data": {
      "text/html": [
       "<script>\n",
       "code_show=true; \n",
       "function code_toggle() {\n",
       " if (code_show){\n",
       " $('div.input').hide();\n",
       " } else {\n",
       " $('div.input').show();\n",
       " }\n",
       " code_show = !code_show\n",
       "} \n",
       "$( document ).ready(code_toggle);\n",
       "</script>\n",
       "<form action=\"javascript:code_toggle()\"><input type=\"submit\" value=\"Click aquí para ver el código.\"></form>"
      ],
      "text/plain": [
       "<IPython.core.display.HTML object>"
      ]
     },
     "execution_count": 30,
     "metadata": {},
     "output_type": "execute_result"
    }
   ],
   "source": [
    "from IPython.display import HTML\n",
    "\n",
    "HTML('''<script>\n",
    "code_show=true; \n",
    "function code_toggle() {\n",
    " if (code_show){\n",
    " $('div.input').hide();\n",
    " } else {\n",
    " $('div.input').show();\n",
    " }\n",
    " code_show = !code_show\n",
    "} \n",
    "$( document ).ready(code_toggle);\n",
    "</script>\n",
    "<form action=\"javascript:code_toggle()\"><input type=\"submit\" value=\"Click aquí para ver el código.\"></form>''')"
   ]
  },
  {
   "cell_type": "code",
   "execution_count": 31,
   "metadata": {
    "collapsed": false
   },
   "outputs": [
    {
     "data": {
      "text/html": [
       "<p align=\"center\"> <font size=\"5\" color=\"#0404B4\" face=\"sans-serif\"> <b> Proyección Aritmética Tasa Dos Últimos Períodos Censales <b> </font> </p>"
      ],
      "text/plain": [
       "<IPython.core.display.HTML object>"
      ]
     },
     "execution_count": 31,
     "metadata": {},
     "output_type": "execute_result"
    }
   ],
   "source": [
    "HTML(\"\"\"<p align=\"center\"> <font size=\"5\" color=\"#0404B4\" face=\"sans-serif\"> <b> Proyección Aritmética Tasa Dos Últimos Períodos Censales <b> </font> </p>\"\"\")"
   ]
  },
  {
   "cell_type": "markdown",
   "metadata": {},
   "source": [
    "# # Entrada de valores de los tres últimos censos"
   ]
  },
  {
   "cell_type": "code",
   "execution_count": 32,
   "metadata": {
    "collapsed": true
   },
   "outputs": [],
   "source": [
    "censos = [1991,2001,2010]\n",
    "\n",
    "poblacion0 = [125725,137061,177083] # Comodoro Rivadavia\n",
    "poblacion1 = [79340,89547,99430] # Trelew\n",
    "poblacion2 = [45047,57791,81995] # Puerto Madryn\n",
    "poblacion3 = [23411,28486,32758] # Esquel\n",
    "poblacion4 = [7209,8292,11124] # Sarmiento\n",
    "poblacion5 = [20674,26183,31787] # Rawson\n",
    "poblacion6 = [2613,2929,3307] # Dolavon\n",
    "poblacion7 = [4642,5753,6627] # Gaiman\n",
    "poblacion8 = [1913,2185,2374] # Gobernador Costa\n",
    "poblacion9 = [1527,1981,2228] # Cholila\n",
    "poblacion10 = [868,1079,1296] # Camarones\n",
    "poblacion11 = [864,1087,1264] # Paso de Indios\n",
    "poblacion12 = [322,384,396] # Paso del sapo\n",
    "poblaciones = [poblacion0, poblacion1, poblacion2, poblacion3, poblacion4, poblacion5, poblacion6, poblacion7, poblacion8, poblacion9, poblacion10, poblacion11, poblacion12]\n",
    "\n",
    "año_actual= 2017"
   ]
  },
  {
   "cell_type": "markdown",
   "metadata": {},
   "source": [
    "# # Armamos una lista de \"tiempos\""
   ]
  },
  {
   "cell_type": "code",
   "execution_count": 33,
   "metadata": {
    "collapsed": true
   },
   "outputs": [],
   "source": [
    "tiempo = [0] * 7\n",
    "for i in range(len(censos)):\n",
    "    tiempo[i] = censos[i]\n",
    "\n",
    "tiempo[3]=año_actual\n",
    "tiempo[4]=tiempo[3]+2\n",
    "tiempo[5]=tiempo[4]+10\n",
    "tiempo[6]=tiempo[5]+10"
   ]
  },
  {
   "cell_type": "markdown",
   "metadata": {},
   "source": [
    "# # Resolvemos el método devolviendo una lista de \"datos\""
   ]
  },
  {
   "cell_type": "code",
   "execution_count": 34,
   "metadata": {
    "collapsed": false
   },
   "outputs": [],
   "source": [
    "def metodo_proyeccion_aritmetica_tasa_dos_ultimos_periodos_censales(poblacion, tiempo):\n",
    "\n",
    "    datos = [0] * 7\n",
    "    for i in range(len(poblacion)):\n",
    "        datos[i] = poblacion[i]\n",
    "\n",
    "\n",
    "    ka1=(datos[2]-datos[1])/(tiempo[2]-tiempo[1])\n",
    "    ka1=round(ka1,4)\n",
    "    \n",
    "    ka2=(datos[1]-datos[0])/(tiempo[1]-tiempo[0])\n",
    "    ka2=round(ka2,4)\n",
    "    \n",
    "    ka=(ka1+ka2)/2\n",
    "    ka=round(ka,4)\n",
    "    \n",
    "    Pa=datos[2]+ka*(tiempo[3]-tiempo[2])\n",
    "    Pa=round(Pa,0)\n",
    "    Pa=int(Pa)\n",
    "\n",
    "\n",
    "    P0=Pa+ka*(tiempo[4]-tiempo[3])\n",
    "    P0=round(P0,0)\n",
    "    P0=int(P0)\n",
    "\n",
    "\n",
    "    P10=P0+ka*(tiempo[5]-tiempo[4])\n",
    "    P10=round(P10,0)\n",
    "    P10=int(P10)\n",
    "\n",
    "\n",
    "    P20=P10+ka*(tiempo[6]-tiempo[5])\n",
    "    P20=round(P20,0)\n",
    "    P20=int(P20)\n",
    "\n",
    "\n",
    "    datos[3]=Pa\n",
    "    datos[4]=P0\n",
    "    datos[5]=P10\n",
    "    datos[6]=P20\n",
    "\n",
    "    return datos"
   ]
  },
  {
   "cell_type": "markdown",
   "metadata": {},
   "source": [
    "# # Mostramos las listas de \"tiempo\" y \"proyecciones\" para cada \"poblacion\""
   ]
  },
  {
   "cell_type": "code",
   "execution_count": 35,
   "metadata": {
    "collapsed": false,
    "scrolled": true
   },
   "outputs": [],
   "source": [
    "proyecciones = [0] * len(poblaciones)\n",
    "\n",
    "for i in range(len(poblaciones)):\n",
    "    proyecciones[i] = metodo_proyeccion_aritmetica_tasa_dos_ultimos_periodos_censales(poblaciones[i], tiempo)\n",
    "    #print (proyecciones[i])\n"
   ]
  },
  {
   "cell_type": "markdown",
   "metadata": {},
   "source": [
    "# # Armamos una tabla para mostrar los resultados"
   ]
  },
  {
   "cell_type": "code",
   "execution_count": 36,
   "metadata": {
    "collapsed": true
   },
   "outputs": [],
   "source": [
    "tabla = proyecciones\n",
    "tabla.reverse()\n",
    "tabla.append(tiempo)\n",
    "tabla.reverse()"
   ]
  },
  {
   "cell_type": "code",
   "execution_count": 37,
   "metadata": {
    "collapsed": true
   },
   "outputs": [],
   "source": [
    "ciudades=[\"Ciudades\",\"Comodoro Rivadavia\",\"Trelew\",\"Puerto Madryn\",\"Esquel\",\"Sarmiento\",\"Rawson\",\"Dolavon\",\"Gaiman\",\"Gobernador Costa\",\"Cholila\",\"Camarones\",\"Paso de Indios\",\"Paso del Sapo\"]"
   ]
  },
  {
   "cell_type": "code",
   "execution_count": 38,
   "metadata": {
    "collapsed": true
   },
   "outputs": [],
   "source": [
    "for i in range(len(ciudades)):\n",
    "    tabla[i].insert(0, ciudades[i])"
   ]
  },
  {
   "cell_type": "code",
   "execution_count": 39,
   "metadata": {
    "collapsed": false
   },
   "outputs": [
    {
     "data": {
      "text/html": [
       "<table><tr><td>Ciudades</td><td>1991</td><td>2001</td><td>2010</td><td>2017</td><td>2019</td><td>2029</td><td>2039</td></tr><tr><td>Comodoro Rivadavia</td><td>125725</td><td>137061</td><td>177083</td><td>196615</td><td>202195</td><td>230097</td><td>257999</td></tr><tr><td>Trelew</td><td>79340</td><td>89547</td><td>99430</td><td>106846</td><td>108965</td><td>119559</td><td>130153</td></tr><tr><td>Puerto Madryn</td><td>45047</td><td>57791</td><td>81995</td><td>95868</td><td>99832</td><td>119651</td><td>139470</td></tr><tr><td>Esquel</td><td>23411</td><td>28486</td><td>32758</td><td>36196</td><td>37178</td><td>42089</td><td>47000</td></tr><tr><td>Sarmiento</td><td>7209</td><td>8292</td><td>11124</td><td>12604</td><td>13027</td><td>15142</td><td>17257</td></tr><tr><td>Rawson</td><td>20674</td><td>26183</td><td>31787</td><td>35894</td><td>37068</td><td>42936</td><td>48804</td></tr><tr><td>Dolavon</td><td>2613</td><td>2929</td><td>3307</td><td>3565</td><td>3639</td><td>4007</td><td>4375</td></tr><tr><td>Gaiman</td><td>4642</td><td>5753</td><td>6627</td><td>7356</td><td>7564</td><td>8605</td><td>9646</td></tr><tr><td>Gobernador Costa</td><td>1913</td><td>2185</td><td>2374</td><td>2543</td><td>2591</td><td>2832</td><td>3073</td></tr><tr><td>Cholila</td><td>1527</td><td>1981</td><td>2228</td><td>2483</td><td>2556</td><td>2920</td><td>3284</td></tr><tr><td>Camarones</td><td>868</td><td>1079</td><td>1296</td><td>1454</td><td>1499</td><td>1725</td><td>1951</td></tr><tr><td>Paso de Indios</td><td>864</td><td>1087</td><td>1264</td><td>1411</td><td>1453</td><td>1663</td><td>1873</td></tr><tr><td>Paso del Sapo</td><td>322</td><td>384</td><td>396</td><td>422</td><td>430</td><td>468</td><td>506</td></tr></table>"
      ],
      "text/plain": [
       "<IPython.core.display.HTML object>"
      ]
     },
     "metadata": {},
     "output_type": "display_data"
    }
   ],
   "source": [
    "from IPython.display import HTML, display\n",
    "\n",
    "display(HTML(\n",
    "    '<table><tr>{}</tr></table>'.format(\n",
    "        '</tr><tr>'.join(\n",
    "            '<td>{}</td>'.format('</td><td>'.join(str(_) for _ in row)) for row in tabla)\n",
    "        )\n",
    " ))"
   ]
  },
  {
   "cell_type": "markdown",
   "metadata": {},
   "source": [
    "# # Importamos librerias para graficar"
   ]
  },
  {
   "cell_type": "code",
   "execution_count": 40,
   "metadata": {
    "collapsed": false
   },
   "outputs": [
    {
     "data": {
      "text/html": [
       "\n",
       "    <div class=\"bk-root\">\n",
       "        <a href=\"http://bokeh.pydata.org\" target=\"_blank\" class=\"bk-logo bk-logo-small bk-logo-notebook\"></a>\n",
       "        <span id=\"35ac608e-1c8e-408f-a339-e929a9d73a4e\">Loading BokehJS ...</span>\n",
       "    </div>"
      ]
     },
     "metadata": {},
     "output_type": "display_data"
    },
    {
     "data": {
      "application/javascript": [
       "\n",
       "(function(global) {\n",
       "  function now() {\n",
       "    return new Date();\n",
       "  }\n",
       "\n",
       "  if (typeof (window._bokeh_onload_callbacks) === \"undefined\") {\n",
       "    window._bokeh_onload_callbacks = [];\n",
       "  }\n",
       "\n",
       "  function run_callbacks() {\n",
       "    window._bokeh_onload_callbacks.forEach(function(callback) { callback() });\n",
       "    delete window._bokeh_onload_callbacks\n",
       "    console.info(\"Bokeh: all callbacks have finished\");\n",
       "  }\n",
       "\n",
       "  function load_libs(js_urls, callback) {\n",
       "    window._bokeh_onload_callbacks.push(callback);\n",
       "    if (window._bokeh_is_loading > 0) {\n",
       "      console.log(\"Bokeh: BokehJS is being loaded, scheduling callback at\", now());\n",
       "      return null;\n",
       "    }\n",
       "    if (js_urls == null || js_urls.length === 0) {\n",
       "      run_callbacks();\n",
       "      return null;\n",
       "    }\n",
       "    console.log(\"Bokeh: BokehJS not loaded, scheduling load and callback at\", now());\n",
       "    window._bokeh_is_loading = js_urls.length;\n",
       "    for (var i = 0; i < js_urls.length; i++) {\n",
       "      var url = js_urls[i];\n",
       "      var s = document.createElement('script');\n",
       "      s.src = url;\n",
       "      s.async = false;\n",
       "      s.onreadystatechange = s.onload = function() {\n",
       "        window._bokeh_is_loading--;\n",
       "        if (window._bokeh_is_loading === 0) {\n",
       "          console.log(\"Bokeh: all BokehJS libraries loaded\");\n",
       "          run_callbacks()\n",
       "        }\n",
       "      };\n",
       "      s.onerror = function() {\n",
       "        console.warn(\"failed to load library \" + url);\n",
       "      };\n",
       "      console.log(\"Bokeh: injecting script tag for BokehJS library: \", url);\n",
       "      document.getElementsByTagName(\"head\")[0].appendChild(s);\n",
       "    }\n",
       "  };\n",
       "\n",
       "  var js_urls = ['https://cdn.pydata.org/bokeh/release/bokeh-0.12.0.min.js', 'https://cdn.pydata.org/bokeh/release/bokeh-widgets-0.12.0.min.js', 'https://cdn.pydata.org/bokeh/release/bokeh-compiler-0.12.0.min.js'];\n",
       "\n",
       "  var inline_js = [\n",
       "    function(Bokeh) {\n",
       "      Bokeh.set_log_level(\"info\");\n",
       "    },\n",
       "    \n",
       "    function(Bokeh) {\n",
       "      Bokeh.$(\"#35ac608e-1c8e-408f-a339-e929a9d73a4e\").text(\"BokehJS successfully loaded\");\n",
       "    },\n",
       "    function(Bokeh) {\n",
       "      console.log(\"Bokeh: injecting CSS: https://cdn.pydata.org/bokeh/release/bokeh-0.12.0.min.css\");\n",
       "      Bokeh.embed.inject_css(\"https://cdn.pydata.org/bokeh/release/bokeh-0.12.0.min.css\");\n",
       "      console.log(\"Bokeh: injecting CSS: https://cdn.pydata.org/bokeh/release/bokeh-widgets-0.12.0.min.css\");\n",
       "      Bokeh.embed.inject_css(\"https://cdn.pydata.org/bokeh/release/bokeh-widgets-0.12.0.min.css\");\n",
       "    }\n",
       "  ];\n",
       "\n",
       "  function run_inline_js() {\n",
       "    for (var i = 0; i < inline_js.length; i++) {\n",
       "      inline_js[i](window.Bokeh);\n",
       "    }\n",
       "  }\n",
       "\n",
       "  if (window._bokeh_is_loading === 0) {\n",
       "    console.log(\"Bokeh: BokehJS loaded, going straight to plotting\");\n",
       "    run_inline_js();\n",
       "  } else {\n",
       "    load_libs(js_urls, function() {\n",
       "      console.log(\"Bokeh: BokehJS plotting callback run at\", now());\n",
       "      run_inline_js();\n",
       "    });\n",
       "  }\n",
       "}(this));"
      ]
     },
     "metadata": {},
     "output_type": "display_data"
    }
   ],
   "source": [
    "from bokeh.io import push_notebook, show, output_notebook\n",
    "from bokeh.plotting import figure\n",
    "output_notebook()"
   ]
  },
  {
   "cell_type": "markdown",
   "metadata": {},
   "source": [
    "# # Definimos estilos para usar en los gráficos"
   ]
  },
  {
   "cell_type": "code",
   "execution_count": 41,
   "metadata": {
    "collapsed": false
   },
   "outputs": [
    {
     "data": {
      "text/html": [
       "\n",
       "\n",
       "    <div class=\"bk-root\">\n",
       "        <div class=\"plotdiv\" id=\"28d5d9b1-723c-4a8f-a233-a72f5bc88679\"></div>\n",
       "    </div>\n",
       "<script type=\"text/javascript\">\n",
       "  \n",
       "  (function(global) {\n",
       "    function now() {\n",
       "      return new Date();\n",
       "    }\n",
       "  \n",
       "    if (typeof (window._bokeh_onload_callbacks) === \"undefined\") {\n",
       "      window._bokeh_onload_callbacks = [];\n",
       "    }\n",
       "  \n",
       "    function run_callbacks() {\n",
       "      window._bokeh_onload_callbacks.forEach(function(callback) { callback() });\n",
       "      delete window._bokeh_onload_callbacks\n",
       "      console.info(\"Bokeh: all callbacks have finished\");\n",
       "    }\n",
       "  \n",
       "    function load_libs(js_urls, callback) {\n",
       "      window._bokeh_onload_callbacks.push(callback);\n",
       "      if (window._bokeh_is_loading > 0) {\n",
       "        console.log(\"Bokeh: BokehJS is being loaded, scheduling callback at\", now());\n",
       "        return null;\n",
       "      }\n",
       "      if (js_urls == null || js_urls.length === 0) {\n",
       "        run_callbacks();\n",
       "        return null;\n",
       "      }\n",
       "      console.log(\"Bokeh: BokehJS not loaded, scheduling load and callback at\", now());\n",
       "      window._bokeh_is_loading = js_urls.length;\n",
       "      for (var i = 0; i < js_urls.length; i++) {\n",
       "        var url = js_urls[i];\n",
       "        var s = document.createElement('script');\n",
       "        s.src = url;\n",
       "        s.async = false;\n",
       "        s.onreadystatechange = s.onload = function() {\n",
       "          window._bokeh_is_loading--;\n",
       "          if (window._bokeh_is_loading === 0) {\n",
       "            console.log(\"Bokeh: all BokehJS libraries loaded\");\n",
       "            run_callbacks()\n",
       "          }\n",
       "        };\n",
       "        s.onerror = function() {\n",
       "          console.warn(\"failed to load library \" + url);\n",
       "        };\n",
       "        console.log(\"Bokeh: injecting script tag for BokehJS library: \", url);\n",
       "        document.getElementsByTagName(\"head\")[0].appendChild(s);\n",
       "      }\n",
       "    };var element = document.getElementById(\"28d5d9b1-723c-4a8f-a233-a72f5bc88679\");\n",
       "    if (element == null) {\n",
       "      console.log(\"Bokeh: ERROR: autoload.js configured with elementid '28d5d9b1-723c-4a8f-a233-a72f5bc88679' but no matching script tag was found. \")\n",
       "      return false;\n",
       "    }\n",
       "  \n",
       "    var js_urls = [];\n",
       "  \n",
       "    var inline_js = [\n",
       "      function(Bokeh) {\n",
       "        Bokeh.$(function() {\n",
       "            var docs_json = {\"ab9a19e2-8a87-4da0-aa0f-a47e0655c990\":{\"roots\":{\"references\":[{\"attributes\":{\"data_source\":{\"id\":\"4610b450-8d05-4010-b249-4a866560e5b3\",\"type\":\"ColumnDataSource\"},\"glyph\":{\"id\":\"9f0fb3de-99ae-4604-829f-d132c7116552\",\"type\":\"Circle\"},\"hover_glyph\":null,\"nonselection_glyph\":{\"id\":\"409c69e7-88c3-4d36-8d99-c4ae616b6a68\",\"type\":\"Circle\"},\"selection_glyph\":null},\"id\":\"a8ad2319-d691-45f3-8cdc-c00f48c7115b\",\"type\":\"GlyphRenderer\"},{\"attributes\":{\"fill_color\":{\"value\":\"#7c1b65\"},\"line_color\":{\"value\":\"#7c1b65\"},\"x\":{\"field\":\"x\"},\"y\":{\"field\":\"y\"}},\"id\":\"b555897a-4aaa-45d3-9ebb-e2426cd67c3d\",\"type\":\"Circle\"},{\"attributes\":{\"data_source\":{\"id\":\"2b05ad68-21d9-459b-b839-c469a1203b78\",\"type\":\"ColumnDataSource\"},\"glyph\":{\"id\":\"f9b75d98-e638-43cf-94da-d4ad57311cce\",\"type\":\"Circle\"},\"hover_glyph\":null,\"nonselection_glyph\":{\"id\":\"beffaa27-84cf-459d-b761-8511525a24d5\",\"type\":\"Circle\"},\"selection_glyph\":null},\"id\":\"dbf5e961-0b36-4115-9521-11bdf7eb94f3\",\"type\":\"GlyphRenderer\"},{\"attributes\":{\"data_source\":{\"id\":\"008f507e-008e-42ce-9090-96b715cd2106\",\"type\":\"ColumnDataSource\"},\"glyph\":{\"id\":\"c5af7285-9f0e-487b-b25c-69882c239529\",\"type\":\"Line\"},\"hover_glyph\":null,\"nonselection_glyph\":{\"id\":\"b75d040e-d737-4a2e-95e7-3edd77c6d3b0\",\"type\":\"Line\"},\"selection_glyph\":null},\"id\":\"e397f9a6-04f8-4ba4-bc74-94b980a5fd3e\",\"type\":\"GlyphRenderer\"},{\"attributes\":{\"dimension\":1,\"plot\":{\"id\":\"021b8d33-fea4-432c-b593-6db69a392458\",\"subtype\":\"Figure\",\"type\":\"Plot\"},\"ticker\":{\"id\":\"e76d252e-09f1-40c1-b693-d5c29aeb76a9\",\"type\":\"BasicTicker\"}},\"id\":\"d7ddf8f8-3def-4951-9bdb-f621db173bae\",\"type\":\"Grid\"},{\"attributes\":{\"data_source\":{\"id\":\"16e7fc04-3802-4ebe-91a7-df58e85fd7d8\",\"type\":\"ColumnDataSource\"},\"glyph\":{\"id\":\"6cfd0e5c-0ae4-44e9-8156-005e71a42416\",\"type\":\"Line\"},\"hover_glyph\":null,\"nonselection_glyph\":{\"id\":\"78f59d62-37b3-45d8-a930-f47c995b02d8\",\"type\":\"Line\"},\"selection_glyph\":null},\"id\":\"d7e26d75-d7c1-4706-8d57-1a1fed13b7a6\",\"type\":\"GlyphRenderer\"},{\"attributes\":{\"fill_color\":{\"value\":\"olive\"},\"line_color\":{\"value\":\"olive\"},\"x\":{\"field\":\"x\"},\"y\":{\"field\":\"y\"}},\"id\":\"318544dd-40fc-4e26-be79-4b49f96e2935\",\"type\":\"Circle\"},{\"attributes\":{\"line_alpha\":{\"value\":0.1},\"line_color\":{\"value\":\"#1f77b4\"},\"line_width\":{\"value\":2},\"x\":{\"field\":\"x\"},\"y\":{\"field\":\"y\"}},\"id\":\"a78b42ca-e806-4db3-89ec-73aea2602497\",\"type\":\"Line\"},{\"attributes\":{\"data_source\":{\"id\":\"e09b40db-d37c-425c-997f-1104edb1c713\",\"type\":\"ColumnDataSource\"},\"glyph\":{\"id\":\"1d243a87-f64a-405d-b1dd-400e232e5242\",\"type\":\"Circle\"},\"hover_glyph\":null,\"nonselection_glyph\":{\"id\":\"a5b4761c-32d1-4842-9af7-3007c0161990\",\"type\":\"Circle\"},\"selection_glyph\":null},\"id\":\"4f657df1-6844-480d-b786-702eedad7443\",\"type\":\"GlyphRenderer\"},{\"attributes\":{\"axis_label\":\"Tiempo\",\"formatter\":{\"id\":\"75a1e4c6-495e-43d3-aa4c-fa6cf6d2d49c\",\"type\":\"BasicTickFormatter\"},\"plot\":{\"id\":\"021b8d33-fea4-432c-b593-6db69a392458\",\"subtype\":\"Figure\",\"type\":\"Plot\"},\"ticker\":{\"id\":\"41e312e5-19e2-40fe-93aa-ddb84382c31c\",\"type\":\"BasicTicker\"}},\"id\":\"8fa434bc-9a9c-4fa9-96d4-15239a9a560f\",\"type\":\"LinearAxis\"},{\"attributes\":{\"data_source\":{\"id\":\"13d110fc-872e-4027-a5a1-260362f3ea50\",\"type\":\"ColumnDataSource\"},\"glyph\":{\"id\":\"175b6011-a2eb-4791-8049-b05f11cf7ce7\",\"type\":\"Line\"},\"hover_glyph\":null,\"nonselection_glyph\":{\"id\":\"9d967b4e-6600-4212-b5b7-a06666b6e70c\",\"type\":\"Line\"},\"selection_glyph\":null},\"id\":\"599db528-cd99-4422-8362-9e6c37bc583b\",\"type\":\"GlyphRenderer\"},{\"attributes\":{\"callback\":null,\"column_names\":[\"x\",\"y\"],\"data\":{\"x\":[\"Ciudades\",\"1991\",\"2001\",\"2010\",\"2017\",\"2019\",\"2029\",\"2039\"],\"y\":[\"Gaiman\",\"4642\",\"5753\",\"6627\",\"7356\",\"7564\",\"8605\",\"9646\"]}},\"id\":\"57176097-fc3a-4ffe-8230-ca4ab76bb344\",\"type\":\"ColumnDataSource\"},{\"attributes\":{\"data_source\":{\"id\":\"6b908ec9-2888-4f3f-8096-4b9b1a96c97c\",\"type\":\"ColumnDataSource\"},\"glyph\":{\"id\":\"e3b5e429-9097-406e-bc12-bf998e61f3ac\",\"type\":\"Circle\"},\"hover_glyph\":null,\"nonselection_glyph\":{\"id\":\"04711570-3e30-4c0a-ac49-a171d5603561\",\"type\":\"Circle\"},\"selection_glyph\":null},\"id\":\"ecb40892-605b-47ca-9980-ee50ddde4f48\",\"type\":\"GlyphRenderer\"},{\"attributes\":{\"line_color\":{\"value\":\"#7c1b65\"},\"line_width\":{\"value\":2},\"x\":{\"field\":\"x\"},\"y\":{\"field\":\"y\"}},\"id\":\"5c350849-60e5-4dba-9f4b-2ec29007bb31\",\"type\":\"Line\"},{\"attributes\":{\"line_alpha\":{\"value\":0.1},\"line_color\":{\"value\":\"#1f77b4\"},\"line_width\":{\"value\":2},\"x\":{\"field\":\"x\"},\"y\":{\"field\":\"y\"}},\"id\":\"ee6036fa-2fd3-4d3f-a63b-1a8e34cc4ddb\",\"type\":\"Line\"},{\"attributes\":{\"fill_color\":{\"value\":\"navy\"},\"line_color\":{\"value\":\"navy\"},\"x\":{\"field\":\"x\"},\"y\":{\"field\":\"y\"}},\"id\":\"8cab063d-a4bb-4ed8-8c7e-b795841003a2\",\"type\":\"Circle\"},{\"attributes\":{\"fill_alpha\":{\"value\":0.1},\"fill_color\":{\"value\":\"#1f77b4\"},\"line_alpha\":{\"value\":0.1},\"line_color\":{\"value\":\"#1f77b4\"},\"x\":{\"field\":\"x\"},\"y\":{\"field\":\"y\"}},\"id\":\"a5b4761c-32d1-4842-9af7-3007c0161990\",\"type\":\"Circle\"},{\"attributes\":{\"data_source\":{\"id\":\"0e6b780d-64e5-4361-82b3-a40af7fed4f3\",\"type\":\"ColumnDataSource\"},\"glyph\":{\"id\":\"318544dd-40fc-4e26-be79-4b49f96e2935\",\"type\":\"Circle\"},\"hover_glyph\":null,\"nonselection_glyph\":{\"id\":\"dbc1d38b-fbc6-4862-bef1-3b1ae33677df\",\"type\":\"Circle\"},\"selection_glyph\":null},\"id\":\"c68971e5-f628-4691-841d-5fd93588ce0e\",\"type\":\"GlyphRenderer\"},{\"attributes\":{\"use_scientific\":false},\"id\":\"a90402bc-5041-451c-bc60-66687819be36\",\"type\":\"BasicTickFormatter\"},{\"attributes\":{\"line_color\":{\"value\":\"magenta\"},\"line_width\":{\"value\":2},\"x\":{\"field\":\"x\"},\"y\":{\"field\":\"y\"}},\"id\":\"6158f478-d5ff-43be-aadd-ed08637537b3\",\"type\":\"Line\"},{\"attributes\":{\"fill_alpha\":{\"value\":0.1},\"fill_color\":{\"value\":\"#1f77b4\"},\"line_alpha\":{\"value\":0.1},\"line_color\":{\"value\":\"#1f77b4\"},\"x\":{\"field\":\"x\"},\"y\":{\"field\":\"y\"}},\"id\":\"04711570-3e30-4c0a-ac49-a171d5603561\",\"type\":\"Circle\"},{\"attributes\":{\"callback\":null,\"column_names\":[\"x\",\"y\"],\"data\":{\"x\":[\"Ciudades\",\"1991\",\"2001\",\"2010\",\"2017\",\"2019\",\"2029\",\"2039\"],\"y\":[\"Comodoro Rivadavia\",\"125725\",\"137061\",\"177083\",\"196615\",\"202195\",\"230097\",\"257999\"]}},\"id\":\"923b9f26-b96b-4070-93c0-072faf5488d2\",\"type\":\"ColumnDataSource\"},{\"attributes\":{\"line_color\":{\"value\":\"firebrick\"},\"line_width\":{\"value\":2},\"x\":{\"field\":\"x\"},\"y\":{\"field\":\"y\"}},\"id\":\"0fddb180-02df-4b03-938f-1df8ca58ac66\",\"type\":\"Line\"},{\"attributes\":{\"line_alpha\":{\"value\":0.1},\"line_color\":{\"value\":\"#1f77b4\"},\"line_width\":{\"value\":2},\"x\":{\"field\":\"x\"},\"y\":{\"field\":\"y\"}},\"id\":\"78f59d62-37b3-45d8-a930-f47c995b02d8\",\"type\":\"Line\"},{\"attributes\":{\"line_alpha\":{\"value\":0.1},\"line_color\":{\"value\":\"#1f77b4\"},\"line_width\":{\"value\":2},\"x\":{\"field\":\"x\"},\"y\":{\"field\":\"y\"}},\"id\":\"0be71716-9bc0-47f4-80bc-5e4519023fcf\",\"type\":\"Line\"},{\"attributes\":{\"data_source\":{\"id\":\"abf22166-dc1f-42fe-bb43-b5da45062393\",\"type\":\"ColumnDataSource\"},\"glyph\":{\"id\":\"0fddb180-02df-4b03-938f-1df8ca58ac66\",\"type\":\"Line\"},\"hover_glyph\":null,\"nonselection_glyph\":{\"id\":\"2ca8e61f-e5b4-42bd-9310-4cec600efb39\",\"type\":\"Line\"},\"selection_glyph\":null},\"id\":\"d6b869bb-6d94-47e1-887c-7162786ad274\",\"type\":\"GlyphRenderer\"},{\"attributes\":{\"plot\":{\"id\":\"021b8d33-fea4-432c-b593-6db69a392458\",\"subtype\":\"Figure\",\"type\":\"Plot\"}},\"id\":\"6db13325-7d43-4646-91e3-d5f543a79c17\",\"type\":\"SaveTool\"},{\"attributes\":{\"callback\":null,\"column_names\":[\"x\",\"y\"],\"data\":{\"x\":[\"Ciudades\",\"1991\",\"2001\",\"2010\",\"2017\",\"2019\",\"2029\",\"2039\"],\"y\":[\"Trelew\",\"79340\",\"89547\",\"99430\",\"106846\",\"108965\",\"119559\",\"130153\"]}},\"id\":\"f3fbe209-d22f-4811-8a9d-16504d2063ed\",\"type\":\"ColumnDataSource\"},{\"attributes\":{\"callback\":null,\"column_names\":[\"x\",\"y\"],\"data\":{\"x\":[\"Ciudades\",\"1991\",\"2001\",\"2010\",\"2017\",\"2019\",\"2029\",\"2039\"],\"y\":[\"Ciudades\",\"1991\",\"2001\",\"2010\",\"2017\",\"2019\",\"2029\",\"2039\"]}},\"id\":\"59a130e3-4fce-48db-8c55-6903e0d24fce\",\"type\":\"ColumnDataSource\"},{\"attributes\":{},\"id\":\"ab66facb-6288-40f7-9608-117da0d71c16\",\"type\":\"ToolEvents\"},{\"attributes\":{\"data_source\":{\"id\":\"9596de27-ce11-4749-8393-264e474cecdc\",\"type\":\"ColumnDataSource\"},\"glyph\":{\"id\":\"6158f478-d5ff-43be-aadd-ed08637537b3\",\"type\":\"Line\"},\"hover_glyph\":null,\"nonselection_glyph\":{\"id\":\"3ce2d065-0144-4a25-9da2-eac51a899c62\",\"type\":\"Line\"},\"selection_glyph\":null},\"id\":\"6dafc0fd-86d6-4652-9aed-c8e06df4d1c6\",\"type\":\"GlyphRenderer\"},{\"attributes\":{\"callback\":null,\"column_names\":[\"x\",\"y\"],\"data\":{\"x\":[\"Ciudades\",\"1991\",\"2001\",\"2010\",\"2017\",\"2019\",\"2029\",\"2039\"],\"y\":[\"Sarmiento\",\"7209\",\"8292\",\"11124\",\"12604\",\"13027\",\"15142\",\"17257\"]}},\"id\":\"e32ebbae-4b62-4588-a85b-5443355e6996\",\"type\":\"ColumnDataSource\"},{\"attributes\":{\"data_source\":{\"id\":\"1eb7f755-5a46-40ab-885e-5d857fa0527f\",\"type\":\"ColumnDataSource\"},\"glyph\":{\"id\":\"6d0ecc82-96e7-4bd2-8ccd-73ef4457623b\",\"type\":\"Circle\"},\"hover_glyph\":null,\"nonselection_glyph\":{\"id\":\"b006bf16-3aca-473a-b755-d0b32c55ca90\",\"type\":\"Circle\"},\"selection_glyph\":null},\"id\":\"6366ef05-d1e6-4943-8330-0b86eead663c\",\"type\":\"GlyphRenderer\"},{\"attributes\":{\"callback\":null,\"column_names\":[\"x\",\"y\"],\"data\":{\"x\":[\"Ciudades\",\"1991\",\"2001\",\"2010\",\"2017\",\"2019\",\"2029\",\"2039\"],\"y\":[\"Trelew\",\"79340\",\"89547\",\"99430\",\"106846\",\"108965\",\"119559\",\"130153\"]}},\"id\":\"a8ee08e5-4990-4123-b4f1-aa5963504e41\",\"type\":\"ColumnDataSource\"},{\"attributes\":{\"line_alpha\":{\"value\":0.1},\"line_color\":{\"value\":\"#1f77b4\"},\"line_width\":{\"value\":2},\"x\":{\"field\":\"x\"},\"y\":{\"field\":\"y\"}},\"id\":\"2ca8e61f-e5b4-42bd-9310-4cec600efb39\",\"type\":\"Line\"},{\"attributes\":{\"line_alpha\":{\"value\":0.1},\"line_color\":{\"value\":\"#1f77b4\"},\"line_width\":{\"value\":2},\"x\":{\"field\":\"x\"},\"y\":{\"field\":\"y\"}},\"id\":\"a22e253e-07d7-442d-a057-0cf0c0d3736d\",\"type\":\"Line\"},{\"attributes\":{\"callback\":null,\"column_names\":[\"x\",\"y\"],\"data\":{\"x\":[\"Ciudades\",\"1991\",\"2001\",\"2010\",\"2017\",\"2019\",\"2029\",\"2039\"],\"y\":[\"Esquel\",\"23411\",\"28486\",\"32758\",\"36196\",\"37178\",\"42089\",\"47000\"]}},\"id\":\"4610b450-8d05-4010-b249-4a866560e5b3\",\"type\":\"ColumnDataSource\"},{\"attributes\":{\"data_source\":{\"id\":\"5eab4d33-f1d4-4929-9a85-ea6b9f525e22\",\"type\":\"ColumnDataSource\"},\"glyph\":{\"id\":\"74d98fc2-6f83-41ec-967e-8b095d1d874a\",\"type\":\"Line\"},\"hover_glyph\":null,\"nonselection_glyph\":{\"id\":\"a78b42ca-e806-4db3-89ec-73aea2602497\",\"type\":\"Line\"},\"selection_glyph\":null},\"id\":\"54bf61d5-fc41-4f1e-9497-d86bd2942b57\",\"type\":\"GlyphRenderer\"},{\"attributes\":{\"plot\":{\"id\":\"021b8d33-fea4-432c-b593-6db69a392458\",\"subtype\":\"Figure\",\"type\":\"Plot\"}},\"id\":\"08b749a0-93b1-4a3c-98fd-77be5a9c11d1\",\"type\":\"WheelZoomTool\"},{\"attributes\":{\"line_color\":{\"value\":\"yellow\"},\"line_width\":{\"value\":2},\"x\":{\"field\":\"x\"},\"y\":{\"field\":\"y\"}},\"id\":\"6cfd0e5c-0ae4-44e9-8156-005e71a42416\",\"type\":\"Line\"},{\"attributes\":{\"callback\":null,\"column_names\":[\"x\",\"y\"],\"data\":{\"x\":[\"Ciudades\",\"1991\",\"2001\",\"2010\",\"2017\",\"2019\",\"2029\",\"2039\"],\"y\":[\"Paso de Indios\",\"864\",\"1087\",\"1264\",\"1411\",\"1453\",\"1663\",\"1873\"]}},\"id\":\"8691811c-521a-4ca8-bdac-2ce146f31e37\",\"type\":\"ColumnDataSource\"},{\"attributes\":{\"line_alpha\":{\"value\":0.1},\"line_color\":{\"value\":\"#1f77b4\"},\"line_width\":{\"value\":2},\"x\":{\"field\":\"x\"},\"y\":{\"field\":\"y\"}},\"id\":\"b75d040e-d737-4a2e-95e7-3edd77c6d3b0\",\"type\":\"Line\"},{\"attributes\":{\"callback\":null,\"column_names\":[\"x\",\"y\"],\"data\":{\"x\":[\"Ciudades\",\"1991\",\"2001\",\"2010\",\"2017\",\"2019\",\"2029\",\"2039\"],\"y\":[\"Cholila\",\"1527\",\"1981\",\"2228\",\"2483\",\"2556\",\"2920\",\"3284\"]}},\"id\":\"0e6b780d-64e5-4361-82b3-a40af7fed4f3\",\"type\":\"ColumnDataSource\"},{\"attributes\":{\"fill_color\":{\"value\":\"magenta\"},\"line_color\":{\"value\":\"magenta\"},\"x\":{\"field\":\"x\"},\"y\":{\"field\":\"y\"}},\"id\":\"e3b5e429-9097-406e-bc12-bf998e61f3ac\",\"type\":\"Circle\"},{\"attributes\":{\"data_source\":{\"id\":\"f3fbe209-d22f-4811-8a9d-16504d2063ed\",\"type\":\"ColumnDataSource\"},\"glyph\":{\"id\":\"85594c7a-0be5-44e8-81c2-338db2617abf\",\"type\":\"Circle\"},\"hover_glyph\":null,\"nonselection_glyph\":{\"id\":\"d6ec29b3-5b9a-4ed1-b373-29636692769b\",\"type\":\"Circle\"},\"selection_glyph\":null},\"id\":\"d3386888-173c-402b-b979-ba46b257b046\",\"type\":\"GlyphRenderer\"},{\"attributes\":{\"data_source\":{\"id\":\"a8ee08e5-4990-4123-b4f1-aa5963504e41\",\"type\":\"ColumnDataSource\"},\"glyph\":{\"id\":\"e2d46c37-a224-4f9f-8c15-5d57aebace15\",\"type\":\"Line\"},\"hover_glyph\":null,\"nonselection_glyph\":{\"id\":\"1937fcb4-14e7-419b-902f-0151eb920415\",\"type\":\"Line\"},\"selection_glyph\":null},\"id\":\"135ec160-2f07-4fd7-8542-84874a29eede\",\"type\":\"GlyphRenderer\"},{\"attributes\":{\"line_alpha\":{\"value\":0.1},\"line_color\":{\"value\":\"#1f77b4\"},\"line_width\":{\"value\":2},\"x\":{\"field\":\"x\"},\"y\":{\"field\":\"y\"}},\"id\":\"1937fcb4-14e7-419b-902f-0151eb920415\",\"type\":\"Line\"},{\"attributes\":{\"callback\":null},\"id\":\"a68859c7-df48-40e3-a748-bc2d5fe0dc7e\",\"type\":\"DataRange1d\"},{\"attributes\":{\"line_color\":{\"value\":\"#164c71\"},\"line_width\":{\"value\":2},\"x\":{\"field\":\"x\"},\"y\":{\"field\":\"y\"}},\"id\":\"88a32255-6207-48d1-8fd8-6430da7acd85\",\"type\":\"Line\"},{\"attributes\":{},\"id\":\"41e312e5-19e2-40fe-93aa-ddb84382c31c\",\"type\":\"BasicTicker\"},{\"attributes\":{\"data_source\":{\"id\":\"15418b3e-5e18-4d52-9908-dc977d0cd7b9\",\"type\":\"ColumnDataSource\"},\"glyph\":{\"id\":\"b555897a-4aaa-45d3-9ebb-e2426cd67c3d\",\"type\":\"Circle\"},\"hover_glyph\":null,\"nonselection_glyph\":{\"id\":\"e8fca50a-30f6-4371-ab9f-1b3211cf74ab\",\"type\":\"Circle\"},\"selection_glyph\":null},\"id\":\"0eddcbd6-76ae-4a5c-a32b-51a4c78fbfdb\",\"type\":\"GlyphRenderer\"},{\"attributes\":{\"fill_color\":{\"value\":\"#164c71\"},\"line_color\":{\"value\":\"#164c71\"},\"x\":{\"field\":\"x\"},\"y\":{\"field\":\"y\"}},\"id\":\"977e5679-67ee-4e55-98e3-67a993416a60\",\"type\":\"Circle\"},{\"attributes\":{\"data_source\":{\"id\":\"e32ebbae-4b62-4588-a85b-5443355e6996\",\"type\":\"ColumnDataSource\"},\"glyph\":{\"id\":\"a497e29c-7ea3-4269-b234-b3cb04efe975\",\"type\":\"Circle\"},\"hover_glyph\":null,\"nonselection_glyph\":{\"id\":\"b529fecc-058d-4c76-bd2d-1b3a00f5db2c\",\"type\":\"Circle\"},\"selection_glyph\":null},\"id\":\"1e72b23c-c1bb-4ae5-8a7a-ee9866cba3dc\",\"type\":\"GlyphRenderer\"},{\"attributes\":{\"callback\":null,\"column_names\":[\"x\",\"y\"],\"data\":{\"x\":[\"Ciudades\",\"1991\",\"2001\",\"2010\",\"2017\",\"2019\",\"2029\",\"2039\"],\"y\":[\"Camarones\",\"868\",\"1079\",\"1296\",\"1454\",\"1499\",\"1725\",\"1951\"]}},\"id\":\"9f3323cc-6452-422a-9c42-dc8e7d27d1c6\",\"type\":\"ColumnDataSource\"},{\"attributes\":{\"callback\":null,\"column_names\":[\"x\",\"y\"],\"data\":{\"x\":[\"Ciudades\",\"1991\",\"2001\",\"2010\",\"2017\",\"2019\",\"2029\",\"2039\"],\"y\":[\"Camarones\",\"868\",\"1079\",\"1296\",\"1454\",\"1499\",\"1725\",\"1951\"]}},\"id\":\"96f4f898-1a00-4a53-a4e0-0111a1c6fe52\",\"type\":\"ColumnDataSource\"},{\"attributes\":{\"axis_label\":\"Poblaci\\u00f3n\",\"formatter\":{\"id\":\"a90402bc-5041-451c-bc60-66687819be36\",\"type\":\"BasicTickFormatter\"},\"plot\":{\"id\":\"021b8d33-fea4-432c-b593-6db69a392458\",\"subtype\":\"Figure\",\"type\":\"Plot\"},\"ticker\":{\"id\":\"e76d252e-09f1-40c1-b693-d5c29aeb76a9\",\"type\":\"BasicTicker\"}},\"id\":\"477b9138-8b4c-4186-b0f6-fc0a73d6c797\",\"type\":\"LinearAxis\"},{\"attributes\":{\"line_color\":{\"value\":\"red\"},\"line_width\":{\"value\":2},\"x\":{\"field\":\"x\"},\"y\":{\"field\":\"y\"}},\"id\":\"1b2e970f-2ead-4b4c-ae32-1a9c7c116702\",\"type\":\"Line\"},{\"attributes\":{\"fill_color\":{\"value\":\"firebrick\"},\"line_color\":{\"value\":\"firebrick\"},\"x\":{\"field\":\"x\"},\"y\":{\"field\":\"y\"}},\"id\":\"b667f19d-4a87-446a-b5b5-5049c3a500ff\",\"type\":\"Circle\"},{\"attributes\":{},\"id\":\"e76d252e-09f1-40c1-b693-d5c29aeb76a9\",\"type\":\"BasicTicker\"},{\"attributes\":{\"fill_color\":{\"value\":\"red\"},\"line_color\":{\"value\":\"red\"},\"x\":{\"field\":\"x\"},\"y\":{\"field\":\"y\"}},\"id\":\"48049e83-ec2d-40f1-aace-5bd87033ca61\",\"type\":\"Circle\"},{\"attributes\":{\"line_alpha\":{\"value\":0.1},\"line_color\":{\"value\":\"#1f77b4\"},\"line_width\":{\"value\":2},\"x\":{\"field\":\"x\"},\"y\":{\"field\":\"y\"}},\"id\":\"7471b149-827e-44f6-9314-c55e57e6ac02\",\"type\":\"Line\"},{\"attributes\":{\"line_color\":{\"value\":\"navy\"},\"line_width\":{\"value\":2},\"x\":{\"field\":\"x\"},\"y\":{\"field\":\"y\"}},\"id\":\"175b6011-a2eb-4791-8049-b05f11cf7ce7\",\"type\":\"Line\"},{\"attributes\":{\"callback\":null},\"id\":\"020984c2-6e18-49c8-b2a5-9a68cd5a674f\",\"type\":\"DataRange1d\"},{\"attributes\":{\"plot\":{\"id\":\"021b8d33-fea4-432c-b593-6db69a392458\",\"subtype\":\"Figure\",\"type\":\"Plot\"}},\"id\":\"8fdafc6d-e27f-49c8-a196-c73e65addce2\",\"type\":\"PanTool\"},{\"attributes\":{\"fill_alpha\":{\"value\":0.1},\"fill_color\":{\"value\":\"#1f77b4\"},\"line_alpha\":{\"value\":0.1},\"line_color\":{\"value\":\"#1f77b4\"},\"x\":{\"field\":\"x\"},\"y\":{\"field\":\"y\"}},\"id\":\"924b9d21-76d9-4f5a-8b5f-3cc9ecd81ff3\",\"type\":\"Circle\"},{\"attributes\":{\"active_drag\":\"auto\",\"active_scroll\":\"auto\",\"active_tap\":\"auto\",\"tools\":[{\"id\":\"8fdafc6d-e27f-49c8-a196-c73e65addce2\",\"type\":\"PanTool\"},{\"id\":\"08b749a0-93b1-4a3c-98fd-77be5a9c11d1\",\"type\":\"WheelZoomTool\"},{\"id\":\"594709ba-c9dd-4d92-bf54-65fee835c310\",\"type\":\"BoxZoomTool\"},{\"id\":\"6db13325-7d43-4646-91e3-d5f543a79c17\",\"type\":\"SaveTool\"},{\"id\":\"c88b1885-c2ed-4516-af1d-bc1fa536289b\",\"type\":\"ResetTool\"},{\"id\":\"9cdd5d72-587b-4024-9e29-fbcddcb17a41\",\"type\":\"HelpTool\"}]},\"id\":\"15a001e8-363d-4885-8aa0-40a1e06d5970\",\"type\":\"Toolbar\"},{\"attributes\":{\"line_alpha\":{\"value\":0.1},\"line_color\":{\"value\":\"#1f77b4\"},\"line_width\":{\"value\":2},\"x\":{\"field\":\"x\"},\"y\":{\"field\":\"y\"}},\"id\":\"b2fcceff-2732-447d-90a1-95dc82b1b334\",\"type\":\"Line\"},{\"attributes\":{\"data_source\":{\"id\":\"923b9f26-b96b-4070-93c0-072faf5488d2\",\"type\":\"ColumnDataSource\"},\"glyph\":{\"id\":\"a160a883-3847-4417-8b54-47da86b30c38\",\"type\":\"Line\"},\"hover_glyph\":null,\"nonselection_glyph\":{\"id\":\"ee6036fa-2fd3-4d3f-a63b-1a8e34cc4ddb\",\"type\":\"Line\"},\"selection_glyph\":null},\"id\":\"bad5cbdd-3b6e-4b46-9e10-1ee1ac5c0629\",\"type\":\"GlyphRenderer\"},{\"attributes\":{\"callback\":null,\"column_names\":[\"x\",\"y\"],\"data\":{\"x\":[\"Ciudades\",\"1991\",\"2001\",\"2010\",\"2017\",\"2019\",\"2029\",\"2039\"],\"y\":[\"Rawson\",\"20674\",\"26183\",\"31787\",\"35894\",\"37068\",\"42936\",\"48804\"]}},\"id\":\"13d110fc-872e-4027-a5a1-260362f3ea50\",\"type\":\"ColumnDataSource\"},{\"attributes\":{\"data_source\":{\"id\":\"9f3323cc-6452-422a-9c42-dc8e7d27d1c6\",\"type\":\"ColumnDataSource\"},\"glyph\":{\"id\":\"977e5679-67ee-4e55-98e3-67a993416a60\",\"type\":\"Circle\"},\"hover_glyph\":null,\"nonselection_glyph\":{\"id\":\"060ca9e3-e786-4755-ba3e-2efe94f7a379\",\"type\":\"Circle\"},\"selection_glyph\":null},\"id\":\"57b74cd6-2b3e-48fe-9a40-016f0795fef0\",\"type\":\"GlyphRenderer\"},{\"attributes\":{\"align\":\"center\",\"plot\":null,\"text\":\"Poblaci\\u00f3n -Proyecci\\u00f3n Aritm\\u00e9tica Tasa Dos \\u00daltimos Per\\u00edodos Censales\",\"text_color\":{\"value\":\"blue\"},\"text_font\":\"times\",\"text_font_size\":{\"value\":\"20px\"},\"text_font_style\":\"italic\"},\"id\":\"5fd71fc1-f2a3-4be4-9c4a-ac584bf8c324\",\"type\":\"Title\"},{\"attributes\":{\"data_source\":{\"id\":\"86591ad8-f182-4575-9a1d-eb9285722008\",\"type\":\"ColumnDataSource\"},\"glyph\":{\"id\":\"7261f4f3-424d-441e-8f61-ff3b71fec4c0\",\"type\":\"Line\"},\"hover_glyph\":null,\"nonselection_glyph\":{\"id\":\"0be71716-9bc0-47f4-80bc-5e4519023fcf\",\"type\":\"Line\"},\"selection_glyph\":null},\"id\":\"8ec6d215-78ac-415a-9899-149251c3e84c\",\"type\":\"GlyphRenderer\"},{\"attributes\":{\"bottom_units\":\"screen\",\"fill_alpha\":{\"value\":0.5},\"fill_color\":{\"value\":\"lightgrey\"},\"left_units\":\"screen\",\"level\":\"overlay\",\"line_alpha\":{\"value\":1.0},\"line_color\":{\"value\":\"black\"},\"line_dash\":[4,4],\"line_width\":{\"value\":2},\"plot\":null,\"render_mode\":\"css\",\"right_units\":\"screen\",\"top_units\":\"screen\"},\"id\":\"80fc735a-d07b-463b-824e-e4b110b73b57\",\"type\":\"BoxAnnotation\"},{\"attributes\":{\"fill_color\":{\"value\":\"yellow\"},\"line_color\":{\"value\":\"yellow\"},\"x\":{\"field\":\"x\"},\"y\":{\"field\":\"y\"}},\"id\":\"9f0fb3de-99ae-4604-829f-d132c7116552\",\"type\":\"Circle\"},{\"attributes\":{\"callback\":null,\"column_names\":[\"x\",\"y\"],\"data\":{\"x\":[\"Ciudades\",\"1991\",\"2001\",\"2010\",\"2017\",\"2019\",\"2029\",\"2039\"],\"y\":[\"Cholila\",\"1527\",\"1981\",\"2228\",\"2483\",\"2556\",\"2920\",\"3284\"]}},\"id\":\"86591ad8-f182-4575-9a1d-eb9285722008\",\"type\":\"ColumnDataSource\"},{\"attributes\":{\"fill_alpha\":{\"value\":0.1},\"fill_color\":{\"value\":\"#1f77b4\"},\"line_alpha\":{\"value\":0.1},\"line_color\":{\"value\":\"#1f77b4\"},\"x\":{\"field\":\"x\"},\"y\":{\"field\":\"y\"}},\"id\":\"409c69e7-88c3-4d36-8d99-c4ae616b6a68\",\"type\":\"Circle\"},{\"attributes\":{\"line_color\":{\"value\":\"olive\"},\"line_width\":{\"value\":2},\"x\":{\"field\":\"x\"},\"y\":{\"field\":\"y\"}},\"id\":\"7261f4f3-424d-441e-8f61-ff3b71fec4c0\",\"type\":\"Line\"},{\"attributes\":{\"plot\":{\"id\":\"021b8d33-fea4-432c-b593-6db69a392458\",\"subtype\":\"Figure\",\"type\":\"Plot\"}},\"id\":\"c88b1885-c2ed-4516-af1d-bc1fa536289b\",\"type\":\"ResetTool\"},{\"attributes\":{\"callback\":null,\"column_names\":[\"x\",\"y\"],\"data\":{\"x\":[\"Ciudades\",\"1991\",\"2001\",\"2010\",\"2017\",\"2019\",\"2029\",\"2039\"],\"y\":[\"Paso de Indios\",\"864\",\"1087\",\"1264\",\"1411\",\"1453\",\"1663\",\"1873\"]}},\"id\":\"15418b3e-5e18-4d52-9908-dc977d0cd7b9\",\"type\":\"ColumnDataSource\"},{\"attributes\":{\"fill_alpha\":{\"value\":0.1},\"fill_color\":{\"value\":\"#1f77b4\"},\"line_alpha\":{\"value\":0.1},\"line_color\":{\"value\":\"#1f77b4\"},\"x\":{\"field\":\"x\"},\"y\":{\"field\":\"y\"}},\"id\":\"e8fca50a-30f6-4371-ab9f-1b3211cf74ab\",\"type\":\"Circle\"},{\"attributes\":{\"data_source\":{\"id\":\"7081ea94-68e6-4f45-a468-a9b744d58269\",\"type\":\"ColumnDataSource\"},\"glyph\":{\"id\":\"1b2e970f-2ead-4b4c-ae32-1a9c7c116702\",\"type\":\"Line\"},\"hover_glyph\":null,\"nonselection_glyph\":{\"id\":\"f27ef61f-1e1e-4411-b73c-40939c1d4d43\",\"type\":\"Line\"},\"selection_glyph\":null},\"id\":\"c25cf1be-f29f-43e0-b9fd-4f09a3a4d83c\",\"type\":\"GlyphRenderer\"},{\"attributes\":{\"fill_color\":{\"value\":\"blue\"},\"line_color\":{\"value\":\"blue\"},\"x\":{\"field\":\"x\"},\"y\":{\"field\":\"y\"}},\"id\":\"85594c7a-0be5-44e8-81c2-338db2617abf\",\"type\":\"Circle\"},{\"attributes\":{\"plot\":{\"id\":\"021b8d33-fea4-432c-b593-6db69a392458\",\"subtype\":\"Figure\",\"type\":\"Plot\"}},\"id\":\"9cdd5d72-587b-4024-9e29-fbcddcb17a41\",\"type\":\"HelpTool\"},{\"attributes\":{\"line_alpha\":{\"value\":0.1},\"line_color\":{\"value\":\"#1f77b4\"},\"line_width\":{\"value\":2},\"x\":{\"field\":\"x\"},\"y\":{\"field\":\"y\"}},\"id\":\"9d967b4e-6600-4212-b5b7-a06666b6e70c\",\"type\":\"Line\"},{\"attributes\":{\"fill_alpha\":{\"value\":0.1},\"fill_color\":{\"value\":\"#1f77b4\"},\"line_alpha\":{\"value\":0.1},\"line_color\":{\"value\":\"#1f77b4\"},\"x\":{\"field\":\"x\"},\"y\":{\"field\":\"y\"}},\"id\":\"28c6599f-9ee5-4d4b-90d7-39c99946389f\",\"type\":\"Circle\"},{\"attributes\":{\"fill_alpha\":{\"value\":0.1},\"fill_color\":{\"value\":\"#1f77b4\"},\"line_alpha\":{\"value\":0.1},\"line_color\":{\"value\":\"#1f77b4\"},\"x\":{\"field\":\"x\"},\"y\":{\"field\":\"y\"}},\"id\":\"d9e4f92c-7caf-429e-853d-6343e6dc4402\",\"type\":\"Circle\"},{\"attributes\":{\"callback\":null,\"column_names\":[\"x\",\"y\"],\"data\":{\"x\":[\"Ciudades\",\"1991\",\"2001\",\"2010\",\"2017\",\"2019\",\"2029\",\"2039\"],\"y\":[\"Dolavon\",\"2613\",\"2929\",\"3307\",\"3565\",\"3639\",\"4007\",\"4375\"]}},\"id\":\"ac992cff-dde5-448f-a489-aa3b0754dbb0\",\"type\":\"ColumnDataSource\"},{\"attributes\":{\"data_source\":{\"id\":\"59a130e3-4fce-48db-8c55-6903e0d24fce\",\"type\":\"ColumnDataSource\"},\"glyph\":{\"id\":\"48049e83-ec2d-40f1-aace-5bd87033ca61\",\"type\":\"Circle\"},\"hover_glyph\":null,\"nonselection_glyph\":{\"id\":\"924b9d21-76d9-4f5a-8b5f-3cc9ecd81ff3\",\"type\":\"Circle\"},\"selection_glyph\":null},\"id\":\"58dbd39e-7330-4b87-ad19-51a513aaff82\",\"type\":\"GlyphRenderer\"},{\"attributes\":{\"fill_alpha\":{\"value\":0.1},\"fill_color\":{\"value\":\"#1f77b4\"},\"line_alpha\":{\"value\":0.1},\"line_color\":{\"value\":\"#1f77b4\"},\"x\":{\"field\":\"x\"},\"y\":{\"field\":\"y\"}},\"id\":\"b006bf16-3aca-473a-b755-d0b32c55ca90\",\"type\":\"Circle\"},{\"attributes\":{\"callback\":null,\"column_names\":[\"x\",\"y\"],\"data\":{\"x\":[\"Ciudades\",\"1991\",\"2001\",\"2010\",\"2017\",\"2019\",\"2029\",\"2039\"],\"y\":[\"Esquel\",\"23411\",\"28486\",\"32758\",\"36196\",\"37178\",\"42089\",\"47000\"]}},\"id\":\"16e7fc04-3802-4ebe-91a7-df58e85fd7d8\",\"type\":\"ColumnDataSource\"},{\"attributes\":{\"callback\":null,\"column_names\":[\"x\",\"y\"],\"data\":{\"x\":[\"Ciudades\",\"1991\",\"2001\",\"2010\",\"2017\",\"2019\",\"2029\",\"2039\"],\"y\":[\"Dolavon\",\"2613\",\"2929\",\"3307\",\"3565\",\"3639\",\"4007\",\"4375\"]}},\"id\":\"abf22166-dc1f-42fe-bb43-b5da45062393\",\"type\":\"ColumnDataSource\"},{\"attributes\":{\"line_alpha\":{\"value\":0.1},\"line_color\":{\"value\":\"#1f77b4\"},\"line_width\":{\"value\":2},\"x\":{\"field\":\"x\"},\"y\":{\"field\":\"y\"}},\"id\":\"f27ef61f-1e1e-4411-b73c-40939c1d4d43\",\"type\":\"Line\"},{\"attributes\":{\"fill_color\":{\"value\":\"pink\"},\"line_color\":{\"value\":\"pink\"},\"x\":{\"field\":\"x\"},\"y\":{\"field\":\"y\"}},\"id\":\"a497e29c-7ea3-4269-b234-b3cb04efe975\",\"type\":\"Circle\"},{\"attributes\":{\"plot\":{\"id\":\"021b8d33-fea4-432c-b593-6db69a392458\",\"subtype\":\"Figure\",\"type\":\"Plot\"},\"ticker\":{\"id\":\"41e312e5-19e2-40fe-93aa-ddb84382c31c\",\"type\":\"BasicTicker\"}},\"id\":\"4a053293-7d7c-495d-98e3-10b6c47d9faf\",\"type\":\"Grid\"},{\"attributes\":{\"fill_color\":{\"value\":\"green\"},\"line_color\":{\"value\":\"green\"},\"x\":{\"field\":\"x\"},\"y\":{\"field\":\"y\"}},\"id\":\"6d0ecc82-96e7-4bd2-8ccd-73ef4457623b\",\"type\":\"Circle\"},{\"attributes\":{\"fill_alpha\":{\"value\":0.1},\"fill_color\":{\"value\":\"#1f77b4\"},\"line_alpha\":{\"value\":0.1},\"line_color\":{\"value\":\"#1f77b4\"},\"x\":{\"field\":\"x\"},\"y\":{\"field\":\"y\"}},\"id\":\"beffaa27-84cf-459d-b761-8511525a24d5\",\"type\":\"Circle\"},{\"attributes\":{\"fill_alpha\":{\"value\":0.1},\"fill_color\":{\"value\":\"#1f77b4\"},\"line_alpha\":{\"value\":0.1},\"line_color\":{\"value\":\"#1f77b4\"},\"x\":{\"field\":\"x\"},\"y\":{\"field\":\"y\"}},\"id\":\"b529fecc-058d-4c76-bd2d-1b3a00f5db2c\",\"type\":\"Circle\"},{\"attributes\":{\"data_source\":{\"id\":\"96f4f898-1a00-4a53-a4e0-0111a1c6fe52\",\"type\":\"ColumnDataSource\"},\"glyph\":{\"id\":\"88a32255-6207-48d1-8fd8-6430da7acd85\",\"type\":\"Line\"},\"hover_glyph\":null,\"nonselection_glyph\":{\"id\":\"a22e253e-07d7-442d-a057-0cf0c0d3736d\",\"type\":\"Line\"},\"selection_glyph\":null},\"id\":\"a41fff55-8e89-4cd7-8fa7-0118f37a11e5\",\"type\":\"GlyphRenderer\"},{\"attributes\":{\"line_color\":{\"value\":\"cyan\"},\"line_width\":{\"value\":2},\"x\":{\"field\":\"x\"},\"y\":{\"field\":\"y\"}},\"id\":\"6b3a8031-dda5-4597-9dee-55f59d9c712e\",\"type\":\"Line\"},{\"attributes\":{\"callback\":null,\"column_names\":[\"x\",\"y\"],\"data\":{\"x\":[\"Ciudades\",\"1991\",\"2001\",\"2010\",\"2017\",\"2019\",\"2029\",\"2039\"],\"y\":[\"Gobernador Costa\",\"1913\",\"2185\",\"2374\",\"2543\",\"2591\",\"2832\",\"3073\"]}},\"id\":\"6b908ec9-2888-4f3f-8096-4b9b1a96c97c\",\"type\":\"ColumnDataSource\"},{\"attributes\":{\"line_color\":{\"value\":\"orange\"},\"line_width\":{\"value\":2},\"x\":{\"field\":\"x\"},\"y\":{\"field\":\"y\"}},\"id\":\"a160a883-3847-4417-8b54-47da86b30c38\",\"type\":\"Line\"},{\"attributes\":{\"callback\":null,\"column_names\":[\"x\",\"y\"],\"data\":{\"x\":[\"Ciudades\",\"1991\",\"2001\",\"2010\",\"2017\",\"2019\",\"2029\",\"2039\"],\"y\":[\"Gobernador Costa\",\"1913\",\"2185\",\"2374\",\"2543\",\"2591\",\"2832\",\"3073\"]}},\"id\":\"9596de27-ce11-4749-8393-264e474cecdc\",\"type\":\"ColumnDataSource\"},{\"attributes\":{\"callback\":null,\"column_names\":[\"x\",\"y\"],\"data\":{\"x\":[\"Ciudades\",\"1991\",\"2001\",\"2010\",\"2017\",\"2019\",\"2029\",\"2039\"],\"y\":[\"Puerto Madryn\",\"45047\",\"57791\",\"81995\",\"95868\",\"99832\",\"119651\",\"139470\"]}},\"id\":\"008f507e-008e-42ce-9090-96b715cd2106\",\"type\":\"ColumnDataSource\"},{\"attributes\":{\"data_source\":{\"id\":\"eaa6aad5-8d23-4493-933b-0aff122d4bfa\",\"type\":\"ColumnDataSource\"},\"glyph\":{\"id\":\"8cab063d-a4bb-4ed8-8c7e-b795841003a2\",\"type\":\"Circle\"},\"hover_glyph\":null,\"nonselection_glyph\":{\"id\":\"28c6599f-9ee5-4d4b-90d7-39c99946389f\",\"type\":\"Circle\"},\"selection_glyph\":null},\"id\":\"36f838a1-35b2-4ead-9f40-3611c455ff2d\",\"type\":\"GlyphRenderer\"},{\"attributes\":{\"callback\":null,\"column_names\":[\"x\",\"y\"],\"data\":{\"x\":[\"Ciudades\",\"1991\",\"2001\",\"2010\",\"2017\",\"2019\",\"2029\",\"2039\"],\"y\":[\"Gaiman\",\"4642\",\"5753\",\"6627\",\"7356\",\"7564\",\"8605\",\"9646\"]}},\"id\":\"2b05ad68-21d9-459b-b839-c469a1203b78\",\"type\":\"ColumnDataSource\"},{\"attributes\":{\"fill_color\":{\"value\":\"cyan\"},\"line_color\":{\"value\":\"cyan\"},\"x\":{\"field\":\"x\"},\"y\":{\"field\":\"y\"}},\"id\":\"f9b75d98-e638-43cf-94da-d4ad57311cce\",\"type\":\"Circle\"},{\"attributes\":{\"fill_color\":{\"value\":\"orange\"},\"line_color\":{\"value\":\"orange\"},\"x\":{\"field\":\"x\"},\"y\":{\"field\":\"y\"}},\"id\":\"1d243a87-f64a-405d-b1dd-400e232e5242\",\"type\":\"Circle\"},{\"attributes\":{\"line_color\":{\"value\":\"pink\"},\"line_width\":{\"value\":2},\"x\":{\"field\":\"x\"},\"y\":{\"field\":\"y\"}},\"id\":\"74d98fc2-6f83-41ec-967e-8b095d1d874a\",\"type\":\"Line\"},{\"attributes\":{\"fill_alpha\":{\"value\":0.1},\"fill_color\":{\"value\":\"#1f77b4\"},\"line_alpha\":{\"value\":0.1},\"line_color\":{\"value\":\"#1f77b4\"},\"x\":{\"field\":\"x\"},\"y\":{\"field\":\"y\"}},\"id\":\"dbc1d38b-fbc6-4862-bef1-3b1ae33677df\",\"type\":\"Circle\"},{\"attributes\":{\"fill_alpha\":{\"value\":0.1},\"fill_color\":{\"value\":\"#1f77b4\"},\"line_alpha\":{\"value\":0.1},\"line_color\":{\"value\":\"#1f77b4\"},\"x\":{\"field\":\"x\"},\"y\":{\"field\":\"y\"}},\"id\":\"060ca9e3-e786-4755-ba3e-2efe94f7a379\",\"type\":\"Circle\"},{\"attributes\":{\"callback\":null,\"column_names\":[\"x\",\"y\"],\"data\":{\"x\":[\"Ciudades\",\"1991\",\"2001\",\"2010\",\"2017\",\"2019\",\"2029\",\"2039\"],\"y\":[\"Sarmiento\",\"7209\",\"8292\",\"11124\",\"12604\",\"13027\",\"15142\",\"17257\"]}},\"id\":\"5eab4d33-f1d4-4929-9a85-ea6b9f525e22\",\"type\":\"ColumnDataSource\"},{\"attributes\":{\"overlay\":{\"id\":\"80fc735a-d07b-463b-824e-e4b110b73b57\",\"type\":\"BoxAnnotation\"},\"plot\":{\"id\":\"021b8d33-fea4-432c-b593-6db69a392458\",\"subtype\":\"Figure\",\"type\":\"Plot\"}},\"id\":\"594709ba-c9dd-4d92-bf54-65fee835c310\",\"type\":\"BoxZoomTool\"},{\"attributes\":{\"line_alpha\":{\"value\":0.1},\"line_color\":{\"value\":\"#1f77b4\"},\"line_width\":{\"value\":2},\"x\":{\"field\":\"x\"},\"y\":{\"field\":\"y\"}},\"id\":\"3ce2d065-0144-4a25-9da2-eac51a899c62\",\"type\":\"Line\"},{\"attributes\":{\"below\":[{\"id\":\"8fa434bc-9a9c-4fa9-96d4-15239a9a560f\",\"type\":\"LinearAxis\"}],\"left\":[{\"id\":\"477b9138-8b4c-4186-b0f6-fc0a73d6c797\",\"type\":\"LinearAxis\"}],\"plot_width\":900,\"renderers\":[{\"id\":\"8fa434bc-9a9c-4fa9-96d4-15239a9a560f\",\"type\":\"LinearAxis\"},{\"id\":\"4a053293-7d7c-495d-98e3-10b6c47d9faf\",\"type\":\"Grid\"},{\"id\":\"477b9138-8b4c-4186-b0f6-fc0a73d6c797\",\"type\":\"LinearAxis\"},{\"id\":\"d7ddf8f8-3def-4951-9bdb-f621db173bae\",\"type\":\"Grid\"},{\"id\":\"80fc735a-d07b-463b-824e-e4b110b73b57\",\"type\":\"BoxAnnotation\"},{\"id\":\"612380b7-e598-49aa-97e8-ef9fe4533ae3\",\"type\":\"Legend\"},{\"id\":\"58dbd39e-7330-4b87-ad19-51a513aaff82\",\"type\":\"GlyphRenderer\"},{\"id\":\"c25cf1be-f29f-43e0-b9fd-4f09a3a4d83c\",\"type\":\"GlyphRenderer\"},{\"id\":\"4f657df1-6844-480d-b786-702eedad7443\",\"type\":\"GlyphRenderer\"},{\"id\":\"bad5cbdd-3b6e-4b46-9e10-1ee1ac5c0629\",\"type\":\"GlyphRenderer\"},{\"id\":\"d3386888-173c-402b-b979-ba46b257b046\",\"type\":\"GlyphRenderer\"},{\"id\":\"135ec160-2f07-4fd7-8542-84874a29eede\",\"type\":\"GlyphRenderer\"},{\"id\":\"6366ef05-d1e6-4943-8330-0b86eead663c\",\"type\":\"GlyphRenderer\"},{\"id\":\"e397f9a6-04f8-4ba4-bc74-94b980a5fd3e\",\"type\":\"GlyphRenderer\"},{\"id\":\"a8ad2319-d691-45f3-8cdc-c00f48c7115b\",\"type\":\"GlyphRenderer\"},{\"id\":\"d7e26d75-d7c1-4706-8d57-1a1fed13b7a6\",\"type\":\"GlyphRenderer\"},{\"id\":\"1e72b23c-c1bb-4ae5-8a7a-ee9866cba3dc\",\"type\":\"GlyphRenderer\"},{\"id\":\"54bf61d5-fc41-4f1e-9497-d86bd2942b57\",\"type\":\"GlyphRenderer\"},{\"id\":\"36f838a1-35b2-4ead-9f40-3611c455ff2d\",\"type\":\"GlyphRenderer\"},{\"id\":\"599db528-cd99-4422-8362-9e6c37bc583b\",\"type\":\"GlyphRenderer\"},{\"id\":\"0aa28b14-c899-4020-b7ef-9418f6a8dcc6\",\"type\":\"GlyphRenderer\"},{\"id\":\"d6b869bb-6d94-47e1-887c-7162786ad274\",\"type\":\"GlyphRenderer\"},{\"id\":\"dbf5e961-0b36-4115-9521-11bdf7eb94f3\",\"type\":\"GlyphRenderer\"},{\"id\":\"f1c5018e-46c0-4127-958f-0c1192c8943a\",\"type\":\"GlyphRenderer\"},{\"id\":\"ecb40892-605b-47ca-9980-ee50ddde4f48\",\"type\":\"GlyphRenderer\"},{\"id\":\"6dafc0fd-86d6-4652-9aed-c8e06df4d1c6\",\"type\":\"GlyphRenderer\"},{\"id\":\"c68971e5-f628-4691-841d-5fd93588ce0e\",\"type\":\"GlyphRenderer\"},{\"id\":\"8ec6d215-78ac-415a-9899-149251c3e84c\",\"type\":\"GlyphRenderer\"},{\"id\":\"57b74cd6-2b3e-48fe-9a40-016f0795fef0\",\"type\":\"GlyphRenderer\"},{\"id\":\"a41fff55-8e89-4cd7-8fa7-0118f37a11e5\",\"type\":\"GlyphRenderer\"},{\"id\":\"0eddcbd6-76ae-4a5c-a32b-51a4c78fbfdb\",\"type\":\"GlyphRenderer\"},{\"id\":\"dd8cc170-895c-444e-9b08-9e75644ed748\",\"type\":\"GlyphRenderer\"}],\"title\":{\"id\":\"5fd71fc1-f2a3-4be4-9c4a-ac584bf8c324\",\"type\":\"Title\"},\"tool_events\":{\"id\":\"ab66facb-6288-40f7-9608-117da0d71c16\",\"type\":\"ToolEvents\"},\"toolbar\":{\"id\":\"15a001e8-363d-4885-8aa0-40a1e06d5970\",\"type\":\"Toolbar\"},\"x_range\":{\"id\":\"020984c2-6e18-49c8-b2a5-9a68cd5a674f\",\"type\":\"DataRange1d\"},\"y_range\":{\"id\":\"a68859c7-df48-40e3-a748-bc2d5fe0dc7e\",\"type\":\"DataRange1d\"}},\"id\":\"021b8d33-fea4-432c-b593-6db69a392458\",\"subtype\":\"Figure\",\"type\":\"Plot\"},{\"attributes\":{\"data_source\":{\"id\":\"8691811c-521a-4ca8-bdac-2ce146f31e37\",\"type\":\"ColumnDataSource\"},\"glyph\":{\"id\":\"5c350849-60e5-4dba-9f4b-2ec29007bb31\",\"type\":\"Line\"},\"hover_glyph\":null,\"nonselection_glyph\":{\"id\":\"b2fcceff-2732-447d-90a1-95dc82b1b334\",\"type\":\"Line\"},\"selection_glyph\":null},\"id\":\"dd8cc170-895c-444e-9b08-9e75644ed748\",\"type\":\"GlyphRenderer\"},{\"attributes\":{},\"id\":\"75a1e4c6-495e-43d3-aa4c-fa6cf6d2d49c\",\"type\":\"BasicTickFormatter\"},{\"attributes\":{\"legends\":[[\"Comodoro Rivadavia\",[{\"id\":\"58dbd39e-7330-4b87-ad19-51a513aaff82\",\"type\":\"GlyphRenderer\"},{\"id\":\"c25cf1be-f29f-43e0-b9fd-4f09a3a4d83c\",\"type\":\"GlyphRenderer\"}]],[\"Trelew\",[{\"id\":\"4f657df1-6844-480d-b786-702eedad7443\",\"type\":\"GlyphRenderer\"},{\"id\":\"bad5cbdd-3b6e-4b46-9e10-1ee1ac5c0629\",\"type\":\"GlyphRenderer\"}]],[\"Puerto Madryn\",[{\"id\":\"d3386888-173c-402b-b979-ba46b257b046\",\"type\":\"GlyphRenderer\"},{\"id\":\"135ec160-2f07-4fd7-8542-84874a29eede\",\"type\":\"GlyphRenderer\"}]],[\"Esquel\",[{\"id\":\"6366ef05-d1e6-4943-8330-0b86eead663c\",\"type\":\"GlyphRenderer\"},{\"id\":\"e397f9a6-04f8-4ba4-bc74-94b980a5fd3e\",\"type\":\"GlyphRenderer\"}]],[\"Sarmiento\",[{\"id\":\"a8ad2319-d691-45f3-8cdc-c00f48c7115b\",\"type\":\"GlyphRenderer\"},{\"id\":\"d7e26d75-d7c1-4706-8d57-1a1fed13b7a6\",\"type\":\"GlyphRenderer\"}]],[\"Rawson\",[{\"id\":\"1e72b23c-c1bb-4ae5-8a7a-ee9866cba3dc\",\"type\":\"GlyphRenderer\"},{\"id\":\"54bf61d5-fc41-4f1e-9497-d86bd2942b57\",\"type\":\"GlyphRenderer\"}]],[\"Dolavon\",[{\"id\":\"36f838a1-35b2-4ead-9f40-3611c455ff2d\",\"type\":\"GlyphRenderer\"},{\"id\":\"599db528-cd99-4422-8362-9e6c37bc583b\",\"type\":\"GlyphRenderer\"}]],[\"Gaiman\",[{\"id\":\"0aa28b14-c899-4020-b7ef-9418f6a8dcc6\",\"type\":\"GlyphRenderer\"},{\"id\":\"d6b869bb-6d94-47e1-887c-7162786ad274\",\"type\":\"GlyphRenderer\"}]],[\"Gobernador Costa\",[{\"id\":\"dbf5e961-0b36-4115-9521-11bdf7eb94f3\",\"type\":\"GlyphRenderer\"},{\"id\":\"f1c5018e-46c0-4127-958f-0c1192c8943a\",\"type\":\"GlyphRenderer\"}]],[\"Cholila\",[{\"id\":\"ecb40892-605b-47ca-9980-ee50ddde4f48\",\"type\":\"GlyphRenderer\"},{\"id\":\"6dafc0fd-86d6-4652-9aed-c8e06df4d1c6\",\"type\":\"GlyphRenderer\"}]],[\"Camarones\",[{\"id\":\"c68971e5-f628-4691-841d-5fd93588ce0e\",\"type\":\"GlyphRenderer\"},{\"id\":\"8ec6d215-78ac-415a-9899-149251c3e84c\",\"type\":\"GlyphRenderer\"}]],[\"Paso de Indios\",[{\"id\":\"57b74cd6-2b3e-48fe-9a40-016f0795fef0\",\"type\":\"GlyphRenderer\"},{\"id\":\"a41fff55-8e89-4cd7-8fa7-0118f37a11e5\",\"type\":\"GlyphRenderer\"}]],[\"Paso del Sapo\",[{\"id\":\"0eddcbd6-76ae-4a5c-a32b-51a4c78fbfdb\",\"type\":\"GlyphRenderer\"},{\"id\":\"dd8cc170-895c-444e-9b08-9e75644ed748\",\"type\":\"GlyphRenderer\"}]]],\"plot\":{\"id\":\"021b8d33-fea4-432c-b593-6db69a392458\",\"subtype\":\"Figure\",\"type\":\"Plot\"}},\"id\":\"612380b7-e598-49aa-97e8-ef9fe4533ae3\",\"type\":\"Legend\"},{\"attributes\":{\"fill_alpha\":{\"value\":0.1},\"fill_color\":{\"value\":\"#1f77b4\"},\"line_alpha\":{\"value\":0.1},\"line_color\":{\"value\":\"#1f77b4\"},\"x\":{\"field\":\"x\"},\"y\":{\"field\":\"y\"}},\"id\":\"d6ec29b3-5b9a-4ed1-b373-29636692769b\",\"type\":\"Circle\"},{\"attributes\":{\"data_source\":{\"id\":\"57176097-fc3a-4ffe-8230-ca4ab76bb344\",\"type\":\"ColumnDataSource\"},\"glyph\":{\"id\":\"6b3a8031-dda5-4597-9dee-55f59d9c712e\",\"type\":\"Line\"},\"hover_glyph\":null,\"nonselection_glyph\":{\"id\":\"7471b149-827e-44f6-9314-c55e57e6ac02\",\"type\":\"Line\"},\"selection_glyph\":null},\"id\":\"f1c5018e-46c0-4127-958f-0c1192c8943a\",\"type\":\"GlyphRenderer\"},{\"attributes\":{\"line_color\":{\"value\":\"blue\"},\"line_width\":{\"value\":2},\"x\":{\"field\":\"x\"},\"y\":{\"field\":\"y\"}},\"id\":\"e2d46c37-a224-4f9f-8c15-5d57aebace15\",\"type\":\"Line\"},{\"attributes\":{\"callback\":null,\"column_names\":[\"x\",\"y\"],\"data\":{\"x\":[\"Ciudades\",\"1991\",\"2001\",\"2010\",\"2017\",\"2019\",\"2029\",\"2039\"],\"y\":[\"Rawson\",\"20674\",\"26183\",\"31787\",\"35894\",\"37068\",\"42936\",\"48804\"]}},\"id\":\"eaa6aad5-8d23-4493-933b-0aff122d4bfa\",\"type\":\"ColumnDataSource\"},{\"attributes\":{\"data_source\":{\"id\":\"ac992cff-dde5-448f-a489-aa3b0754dbb0\",\"type\":\"ColumnDataSource\"},\"glyph\":{\"id\":\"b667f19d-4a87-446a-b5b5-5049c3a500ff\",\"type\":\"Circle\"},\"hover_glyph\":null,\"nonselection_glyph\":{\"id\":\"d9e4f92c-7caf-429e-853d-6343e6dc4402\",\"type\":\"Circle\"},\"selection_glyph\":null},\"id\":\"0aa28b14-c899-4020-b7ef-9418f6a8dcc6\",\"type\":\"GlyphRenderer\"},{\"attributes\":{\"callback\":null,\"column_names\":[\"x\",\"y\"],\"data\":{\"x\":[\"Ciudades\",\"1991\",\"2001\",\"2010\",\"2017\",\"2019\",\"2029\",\"2039\"],\"y\":[\"Comodoro Rivadavia\",\"125725\",\"137061\",\"177083\",\"196615\",\"202195\",\"230097\",\"257999\"]}},\"id\":\"e09b40db-d37c-425c-997f-1104edb1c713\",\"type\":\"ColumnDataSource\"},{\"attributes\":{\"callback\":null,\"column_names\":[\"x\",\"y\"],\"data\":{\"x\":[\"Ciudades\",\"1991\",\"2001\",\"2010\",\"2017\",\"2019\",\"2029\",\"2039\"],\"y\":[\"Ciudades\",\"1991\",\"2001\",\"2010\",\"2017\",\"2019\",\"2029\",\"2039\"]}},\"id\":\"7081ea94-68e6-4f45-a468-a9b744d58269\",\"type\":\"ColumnDataSource\"},{\"attributes\":{\"line_color\":{\"value\":\"green\"},\"line_width\":{\"value\":2},\"x\":{\"field\":\"x\"},\"y\":{\"field\":\"y\"}},\"id\":\"c5af7285-9f0e-487b-b25c-69882c239529\",\"type\":\"Line\"},{\"attributes\":{\"callback\":null,\"column_names\":[\"x\",\"y\"],\"data\":{\"x\":[\"Ciudades\",\"1991\",\"2001\",\"2010\",\"2017\",\"2019\",\"2029\",\"2039\"],\"y\":[\"Puerto Madryn\",\"45047\",\"57791\",\"81995\",\"95868\",\"99832\",\"119651\",\"139470\"]}},\"id\":\"1eb7f755-5a46-40ab-885e-5d857fa0527f\",\"type\":\"ColumnDataSource\"}],\"root_ids\":[\"021b8d33-fea4-432c-b593-6db69a392458\"]},\"title\":\"Bokeh Application\",\"version\":\"0.12.0\"}};\n",
       "            var render_items = [{\"docid\":\"ab9a19e2-8a87-4da0-aa0f-a47e0655c990\",\"elementid\":\"28d5d9b1-723c-4a8f-a233-a72f5bc88679\",\"modelid\":\"021b8d33-fea4-432c-b593-6db69a392458\",\"notebook_comms_target\":\"c166853f-c9b6-441e-9103-49e0136df855\"}];\n",
       "            \n",
       "            Bokeh.embed.embed_items(docs_json, render_items);\n",
       "        });\n",
       "      },\n",
       "      function(Bokeh) {\n",
       "      }\n",
       "    ];\n",
       "  \n",
       "    function run_inline_js() {\n",
       "      for (var i = 0; i < inline_js.length; i++) {\n",
       "        inline_js[i](window.Bokeh);\n",
       "      }\n",
       "    }\n",
       "  \n",
       "    if (window._bokeh_is_loading === 0) {\n",
       "      console.log(\"Bokeh: BokehJS loaded, going straight to plotting\");\n",
       "      run_inline_js();\n",
       "    } else {\n",
       "      load_libs(js_urls, function() {\n",
       "        console.log(\"Bokeh: BokehJS plotting callback run at\", now());\n",
       "        run_inline_js();\n",
       "      });\n",
       "    }\n",
       "  }(this));\n",
       "</script>"
      ]
     },
     "metadata": {},
     "output_type": "display_data"
    },
    {
     "data": {
      "text/html": [
       "<p><code>&lt;Bokeh Notebook handle for <strong>In[41]</strong>&gt;</code></p>"
      ],
      "text/plain": [
       "<bokeh.io._CommsHandle at 0xada0d28c>"
      ]
     },
     "execution_count": 41,
     "metadata": {},
     "output_type": "execute_result"
    }
   ],
   "source": [
    "x = tiempo\n",
    "ciudades=[\"Comodoro Rivadavia\",\"Trelew\",\"Puerto Madryn\",\"Esquel\",\"Sarmiento\",\"Rawson\",\"Dolavon\",\"Gaiman\",\"Gobernador Costa\",\"Cholila\",\"Camarones\",\"Paso de Indios\",\"Paso del Sapo\"]\n",
    "colores=[\"red\",\"orange\",\"blue\",\"green\",\"yellow\",\"pink\",\"navy\",\"firebrick\",\"cyan\",\"magenta\",\"olive\",\"#164c71\",\"#7c1b65\"]\n",
    "\n",
    "p = figure(title=\"Población -Proyección Aritmética Tasa Dos Últimos Períodos Censales\",plot_width=900)\n",
    "p.title.align = \"center\"\n",
    "p.title.text_color = \"blue\"\n",
    "p.title.text_font = \"times\"\n",
    "p.title.text_font_style = \"italic\"\n",
    "p.title.text_font_size = \"20px\"\n",
    "\n",
    "p.left[0].formatter.use_scientific = False\n",
    "\n",
    "for i in range(len(ciudades)):\n",
    "    p.circle(x, proyecciones[i], legend=ciudades[i],fill_color=colores[i],line_color=colores[i])\n",
    "    p.line(x, proyecciones[i], legend=ciudades[i],line_color=colores[i], line_width=2)\n",
    "\n",
    "p.xaxis.axis_label = 'Tiempo'\n",
    "p.yaxis.axis_label = 'Población'\n",
    "\n",
    "show(p)"
   ]
  },
  {
   "cell_type": "code",
   "execution_count": null,
   "metadata": {
    "collapsed": true
   },
   "outputs": [],
   "source": []
  }
 ],
 "metadata": {
  "anaconda-cloud": {},
  "kernelspec": {
   "display_name": "Python [Root]",
   "language": "python",
   "name": "Python [Root]"
  },
  "language_info": {
   "codemirror_mode": {
    "name": "ipython",
    "version": 3
   },
   "file_extension": ".py",
   "mimetype": "text/x-python",
   "name": "python",
   "nbconvert_exporter": "python",
   "pygments_lexer": "ipython3",
   "version": "3.5.2"
  }
 },
 "nbformat": 4,
 "nbformat_minor": 2
}
