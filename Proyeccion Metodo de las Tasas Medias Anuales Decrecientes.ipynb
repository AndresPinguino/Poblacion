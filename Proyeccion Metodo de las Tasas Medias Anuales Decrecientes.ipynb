{
 "cells": [
  {
   "cell_type": "code",
   "execution_count": 1,
   "metadata": {
    "collapsed": false
   },
   "outputs": [
    {
     "data": {
      "text/html": [
       "<script>\n",
       "code_show=true; \n",
       "function code_toggle() {\n",
       " if (code_show){\n",
       " $('div.input').hide();\n",
       " } else {\n",
       " $('div.input').show();\n",
       " }\n",
       " code_show = !code_show\n",
       "} \n",
       "$( document ).ready(code_toggle);\n",
       "</script>\n",
       "<form action=\"javascript:code_toggle()\"><input type=\"submit\" value=\"Click aquí para ver el código.\"></form>"
      ],
      "text/plain": [
       "<IPython.core.display.HTML object>"
      ]
     },
     "execution_count": 1,
     "metadata": {},
     "output_type": "execute_result"
    }
   ],
   "source": [
    "from IPython.display import HTML\n",
    "\n",
    "HTML('''<script>\n",
    "code_show=true; \n",
    "function code_toggle() {\n",
    " if (code_show){\n",
    " $('div.input').hide();\n",
    " } else {\n",
    " $('div.input').show();\n",
    " }\n",
    " code_show = !code_show\n",
    "} \n",
    "$( document ).ready(code_toggle);\n",
    "</script>\n",
    "<form action=\"javascript:code_toggle()\"><input type=\"submit\" value=\"Click aquí para ver el código.\"></form>''')"
   ]
  },
  {
   "cell_type": "code",
   "execution_count": 2,
   "metadata": {
    "collapsed": false
   },
   "outputs": [
    {
     "data": {
      "text/html": [
       "<p align=\"center\"> <font size=\"5\" color=\"#0404B4\" face=\"sans-serif\"> <b> Método de las Tasas Medias Anuales Decrecientes <b> </font> </p>"
      ],
      "text/plain": [
       "<IPython.core.display.HTML object>"
      ]
     },
     "execution_count": 2,
     "metadata": {},
     "output_type": "execute_result"
    }
   ],
   "source": [
    "HTML(\"\"\"<p align=\"center\"> <font size=\"5\" color=\"#0404B4\" face=\"sans-serif\"> <b> Método de las Tasas Medias Anuales Decrecientes <b> </font> </p>\"\"\")"
   ]
  },
  {
   "cell_type": "markdown",
   "metadata": {},
   "source": [
    "# # Entrada de valores de los tres últimos censos"
   ]
  },
  {
   "cell_type": "code",
   "execution_count": 3,
   "metadata": {
    "collapsed": true
   },
   "outputs": [],
   "source": [
    "censos = [1991,2001,2010]\n",
    "\n",
    "poblacion0 = [125725,137061,177083] # Comodoro Rivadavia\n",
    "poblacion1 = [79340,89547,99430] # Trelew\n",
    "poblacion2 = [45047,57791,81995] # Puerto Madryn\n",
    "poblacion3 = [23411,28486,32758] # Esquel\n",
    "poblacion4 = [7209,8292,11124] # Sarmiento\n",
    "poblacion5 = [20674,26183,31787] # Rawson\n",
    "poblacion6 = [2613,2929,3307] # Dolavon\n",
    "poblacion7 = [4642,5753,6627] # Gaiman\n",
    "poblacion8 = [1913,2185,2374] # Gobernador Costa\n",
    "poblacion9 = [1527,1981,2228] # Cholila\n",
    "poblacion10 = [868,1079,1296] # Camarones\n",
    "poblacion11 = [864,1087,1264] # Paso de Indios\n",
    "poblacion12 = [322,384,396] # Paso del sapo\n",
    "poblaciones = [poblacion0, poblacion1, poblacion2, poblacion3, poblacion4, poblacion5, poblacion6, poblacion7, poblacion8, poblacion9, poblacion10, poblacion11, poblacion12]\n",
    "\n",
    "año_actual= 2017"
   ]
  },
  {
   "cell_type": "markdown",
   "metadata": {},
   "source": [
    "# # Armamos una lista de \"tiempos\""
   ]
  },
  {
   "cell_type": "code",
   "execution_count": 4,
   "metadata": {
    "collapsed": true
   },
   "outputs": [],
   "source": [
    "tiempo = [0] * 7\n",
    "for i in range(len(censos)):\n",
    "    tiempo[i] = censos[i]\n",
    "\n",
    "tiempo[3]=año_actual\n",
    "tiempo[4]=tiempo[3]+2\n",
    "tiempo[5]=tiempo[4]+10\n",
    "tiempo[6]=tiempo[5]+10"
   ]
  },
  {
   "cell_type": "markdown",
   "metadata": {},
   "source": [
    "# # Resolvemos el método devolviendo una lista de \"datos\""
   ]
  },
  {
   "cell_type": "code",
   "execution_count": 5,
   "metadata": {
    "collapsed": false
   },
   "outputs": [],
   "source": [
    "def metodo_tasas_medias_anuales_decrecientes(poblacion, tiempo):\n",
    "\n",
    "    datos = [0] * 7\n",
    "    for i in range(len(poblacion)):\n",
    "        datos[i] = poblacion[i]\n",
    "\n",
    "\n",
    "    iI=((datos[1]/datos[0])**(1/(tiempo[1]-tiempo[0])))-1\n",
    "    iII=((datos[2]/datos[1])**(1/(tiempo[2]-tiempo[1])))-1\n",
    "\n",
    "\n",
    "    i1=iII\n",
    "    i1=round(i1, 4)\n",
    "\n",
    "\n",
    "    Pa=datos[2]*(1+i1)**(tiempo[3]-tiempo[2])\n",
    "    Pa=round(Pa,0)\n",
    "    Pa=int(Pa)\n",
    "\n",
    "\n",
    "    P0=Pa*(1+i1)**(tiempo[4]-tiempo[3])\n",
    "    P0=round(P0,0)\n",
    "    P0=int(P0)\n",
    "\n",
    "\n",
    "    P10=P0*(1+i1)**(tiempo[5]-tiempo[4])\n",
    "    P10=round(P10,0)\n",
    "    P10=int(P10)\n",
    "\n",
    "\n",
    "    i2=(iI+iII)/2\n",
    "    i2=round(i2,4)\n",
    "\n",
    "\n",
    "    if (i2<=i1):\n",
    "        i2=i2\n",
    "    else:\n",
    "        i2=i1\n",
    "\n",
    "    P20=P10*(1+i2)**(tiempo[6]-tiempo[5])\n",
    "    P20=round(P20,0)\n",
    "    P20=int(P20)\n",
    "\n",
    "\n",
    "    datos[3]=Pa\n",
    "    datos[4]=P0\n",
    "    datos[5]=P10\n",
    "    datos[6]=P20\n",
    "\n",
    "    return datos"
   ]
  },
  {
   "cell_type": "markdown",
   "metadata": {},
   "source": [
    "# # Mostramos las listas de \"tiempo\" y \"proyecciones\" para cada \"poblacion\""
   ]
  },
  {
   "cell_type": "code",
   "execution_count": 6,
   "metadata": {
    "collapsed": false,
    "scrolled": true
   },
   "outputs": [],
   "source": [
    "proyecciones = [0] * len(poblaciones)\n",
    "\n",
    "for i in range(len(poblaciones)):\n",
    "    proyecciones[i] = metodo_tasas_medias_anuales_decrecientes(poblaciones[i], tiempo)\n",
    "    #print (proyecciones[i])\n"
   ]
  },
  {
   "cell_type": "markdown",
   "metadata": {},
   "source": [
    "# # Armamos una tabla para mostrar los resultados"
   ]
  },
  {
   "cell_type": "code",
   "execution_count": 7,
   "metadata": {
    "collapsed": false
   },
   "outputs": [],
   "source": [
    "tabla = proyecciones\n",
    "tabla.reverse()\n",
    "tabla.append(tiempo)\n",
    "tabla.reverse()\n"
   ]
  },
  {
   "cell_type": "code",
   "execution_count": 8,
   "metadata": {
    "collapsed": true
   },
   "outputs": [],
   "source": [
    "ciudades=[\"Ciudades\",\"Comodoro Rivadavia\",\"Trelew\",\"Puerto Madryn\",\"Esquel\",\"Sarmiento\",\"Rawson\",\"Dolavon\",\"Gaiman\",\"Gobernador Costa\",\"Cholila\",\"Camarones\",\"Paso de Indios\",\"Paso del Sapo\"]"
   ]
  },
  {
   "cell_type": "code",
   "execution_count": 9,
   "metadata": {
    "collapsed": false
   },
   "outputs": [],
   "source": [
    "for i in range(len(ciudades)):\n",
    "    tabla[i].insert(0, ciudades[i])"
   ]
  },
  {
   "cell_type": "code",
   "execution_count": 10,
   "metadata": {
    "collapsed": false
   },
   "outputs": [
    {
     "data": {
      "text/html": [
       "<table><tr><td>Ciudades</td><td>1991</td><td>2001</td><td>2010</td><td>2017</td><td>2019</td><td>2029</td><td>2039</td></tr><tr><td>Comodoro Rivadavia</td><td>125725</td><td>137061</td><td>177083</td><td>216167</td><td>228842</td><td>304276</td><td>366570</td></tr><tr><td>Trelew</td><td>79340</td><td>89547</td><td>99430</td><td>107865</td><td>110404</td><td>124023</td><td>139322</td></tr><tr><td>Puerto Madryn</td><td>45047</td><td>57791</td><td>81995</td><td>107610</td><td>116301</td><td>171493</td><td>235899</td></tr><tr><td>Esquel</td><td>23411</td><td>28486</td><td>32758</td><td>36507</td><td>37655</td><td>43959</td><td>51319</td></tr><tr><td>Sarmiento</td><td>7209</td><td>8292</td><td>11124</td><td>13981</td><td>14925</td><td>20690</td><td>26125</td></tr><tr><td>Rawson</td><td>20674</td><td>26183</td><td>31787</td><td>36967</td><td>38596</td><td>47885</td><td>59410</td></tr><tr><td>Dolavon</td><td>2613</td><td>2929</td><td>3307</td><td>3635</td><td>3735</td><td>4275</td><td>4840</td></tr><tr><td>Gaiman</td><td>4642</td><td>5753</td><td>6627</td><td>7396</td><td>7632</td><td>8927</td><td>10442</td></tr><tr><td>Gobernador Costa</td><td>1913</td><td>2185</td><td>2374</td><td>2533</td><td>2580</td><td>2830</td><td>3104</td></tr><tr><td>Cholila</td><td>1527</td><td>1981</td><td>2228</td><td>2441</td><td>2505</td><td>2853</td><td>3250</td></tr><tr><td>Camarones</td><td>868</td><td>1079</td><td>1296</td><td>1495</td><td>1557</td><td>1909</td><td>2341</td></tr><tr><td>Paso de Indios</td><td>864</td><td>1087</td><td>1264</td><td>1421</td><td>1469</td><td>1737</td><td>2054</td></tr><tr><td>Paso del Sapo</td><td>322</td><td>384</td><td>396</td><td>406</td><td>409</td><td>423</td><td>438</td></tr></table>"
      ],
      "text/plain": [
       "<IPython.core.display.HTML object>"
      ]
     },
     "metadata": {},
     "output_type": "display_data"
    }
   ],
   "source": [
    "from IPython.display import HTML, display\n",
    "\n",
    "display(HTML(\n",
    "    '<table><tr>{}</tr></table>'.format(\n",
    "        '</tr><tr>'.join(\n",
    "            '<td>{}</td>'.format('</td><td>'.join(str(_) for _ in row)) for row in tabla)\n",
    "        )\n",
    " ))"
   ]
  },
  {
   "cell_type": "markdown",
   "metadata": {},
   "source": [
    "# # Importamos librerias para graficar"
   ]
  },
  {
   "cell_type": "code",
   "execution_count": 11,
   "metadata": {
    "collapsed": false
   },
   "outputs": [
    {
     "data": {
      "text/html": [
       "\n",
       "    <div class=\"bk-root\">\n",
       "        <a href=\"http://bokeh.pydata.org\" target=\"_blank\" class=\"bk-logo bk-logo-small bk-logo-notebook\"></a>\n",
       "        <span id=\"0570fd9d-7099-48ca-b4cb-3b1fd1beb691\">Loading BokehJS ...</span>\n",
       "    </div>"
      ]
     },
     "metadata": {},
     "output_type": "display_data"
    },
    {
     "data": {
      "application/javascript": [
       "\n",
       "(function(global) {\n",
       "  function now() {\n",
       "    return new Date();\n",
       "  }\n",
       "\n",
       "  if (typeof (window._bokeh_onload_callbacks) === \"undefined\") {\n",
       "    window._bokeh_onload_callbacks = [];\n",
       "  }\n",
       "\n",
       "  function run_callbacks() {\n",
       "    window._bokeh_onload_callbacks.forEach(function(callback) { callback() });\n",
       "    delete window._bokeh_onload_callbacks\n",
       "    console.info(\"Bokeh: all callbacks have finished\");\n",
       "  }\n",
       "\n",
       "  function load_libs(js_urls, callback) {\n",
       "    window._bokeh_onload_callbacks.push(callback);\n",
       "    if (window._bokeh_is_loading > 0) {\n",
       "      console.log(\"Bokeh: BokehJS is being loaded, scheduling callback at\", now());\n",
       "      return null;\n",
       "    }\n",
       "    if (js_urls == null || js_urls.length === 0) {\n",
       "      run_callbacks();\n",
       "      return null;\n",
       "    }\n",
       "    console.log(\"Bokeh: BokehJS not loaded, scheduling load and callback at\", now());\n",
       "    window._bokeh_is_loading = js_urls.length;\n",
       "    for (var i = 0; i < js_urls.length; i++) {\n",
       "      var url = js_urls[i];\n",
       "      var s = document.createElement('script');\n",
       "      s.src = url;\n",
       "      s.async = false;\n",
       "      s.onreadystatechange = s.onload = function() {\n",
       "        window._bokeh_is_loading--;\n",
       "        if (window._bokeh_is_loading === 0) {\n",
       "          console.log(\"Bokeh: all BokehJS libraries loaded\");\n",
       "          run_callbacks()\n",
       "        }\n",
       "      };\n",
       "      s.onerror = function() {\n",
       "        console.warn(\"failed to load library \" + url);\n",
       "      };\n",
       "      console.log(\"Bokeh: injecting script tag for BokehJS library: \", url);\n",
       "      document.getElementsByTagName(\"head\")[0].appendChild(s);\n",
       "    }\n",
       "  };\n",
       "\n",
       "  var js_urls = ['https://cdn.pydata.org/bokeh/release/bokeh-0.12.0.min.js', 'https://cdn.pydata.org/bokeh/release/bokeh-widgets-0.12.0.min.js', 'https://cdn.pydata.org/bokeh/release/bokeh-compiler-0.12.0.min.js'];\n",
       "\n",
       "  var inline_js = [\n",
       "    function(Bokeh) {\n",
       "      Bokeh.set_log_level(\"info\");\n",
       "    },\n",
       "    \n",
       "    function(Bokeh) {\n",
       "      Bokeh.$(\"#0570fd9d-7099-48ca-b4cb-3b1fd1beb691\").text(\"BokehJS successfully loaded\");\n",
       "    },\n",
       "    function(Bokeh) {\n",
       "      console.log(\"Bokeh: injecting CSS: https://cdn.pydata.org/bokeh/release/bokeh-0.12.0.min.css\");\n",
       "      Bokeh.embed.inject_css(\"https://cdn.pydata.org/bokeh/release/bokeh-0.12.0.min.css\");\n",
       "      console.log(\"Bokeh: injecting CSS: https://cdn.pydata.org/bokeh/release/bokeh-widgets-0.12.0.min.css\");\n",
       "      Bokeh.embed.inject_css(\"https://cdn.pydata.org/bokeh/release/bokeh-widgets-0.12.0.min.css\");\n",
       "    }\n",
       "  ];\n",
       "\n",
       "  function run_inline_js() {\n",
       "    for (var i = 0; i < inline_js.length; i++) {\n",
       "      inline_js[i](window.Bokeh);\n",
       "    }\n",
       "  }\n",
       "\n",
       "  if (window._bokeh_is_loading === 0) {\n",
       "    console.log(\"Bokeh: BokehJS loaded, going straight to plotting\");\n",
       "    run_inline_js();\n",
       "  } else {\n",
       "    load_libs(js_urls, function() {\n",
       "      console.log(\"Bokeh: BokehJS plotting callback run at\", now());\n",
       "      run_inline_js();\n",
       "    });\n",
       "  }\n",
       "}(this));"
      ]
     },
     "metadata": {},
     "output_type": "display_data"
    }
   ],
   "source": [
    "from bokeh.io import push_notebook, show, output_notebook\n",
    "from bokeh.plotting import figure\n",
    "output_notebook()"
   ]
  },
  {
   "cell_type": "markdown",
   "metadata": {},
   "source": [
    "# # Definimos estilos para usar en los gráficos"
   ]
  },
  {
   "cell_type": "code",
   "execution_count": 12,
   "metadata": {
    "collapsed": false
   },
   "outputs": [
    {
     "data": {
      "text/html": [
       "\n",
       "\n",
       "    <div class=\"bk-root\">\n",
       "        <div class=\"plotdiv\" id=\"7b6f123b-58f8-4816-acbe-51ba1c16bf7c\"></div>\n",
       "    </div>\n",
       "<script type=\"text/javascript\">\n",
       "  \n",
       "  (function(global) {\n",
       "    function now() {\n",
       "      return new Date();\n",
       "    }\n",
       "  \n",
       "    if (typeof (window._bokeh_onload_callbacks) === \"undefined\") {\n",
       "      window._bokeh_onload_callbacks = [];\n",
       "    }\n",
       "  \n",
       "    function run_callbacks() {\n",
       "      window._bokeh_onload_callbacks.forEach(function(callback) { callback() });\n",
       "      delete window._bokeh_onload_callbacks\n",
       "      console.info(\"Bokeh: all callbacks have finished\");\n",
       "    }\n",
       "  \n",
       "    function load_libs(js_urls, callback) {\n",
       "      window._bokeh_onload_callbacks.push(callback);\n",
       "      if (window._bokeh_is_loading > 0) {\n",
       "        console.log(\"Bokeh: BokehJS is being loaded, scheduling callback at\", now());\n",
       "        return null;\n",
       "      }\n",
       "      if (js_urls == null || js_urls.length === 0) {\n",
       "        run_callbacks();\n",
       "        return null;\n",
       "      }\n",
       "      console.log(\"Bokeh: BokehJS not loaded, scheduling load and callback at\", now());\n",
       "      window._bokeh_is_loading = js_urls.length;\n",
       "      for (var i = 0; i < js_urls.length; i++) {\n",
       "        var url = js_urls[i];\n",
       "        var s = document.createElement('script');\n",
       "        s.src = url;\n",
       "        s.async = false;\n",
       "        s.onreadystatechange = s.onload = function() {\n",
       "          window._bokeh_is_loading--;\n",
       "          if (window._bokeh_is_loading === 0) {\n",
       "            console.log(\"Bokeh: all BokehJS libraries loaded\");\n",
       "            run_callbacks()\n",
       "          }\n",
       "        };\n",
       "        s.onerror = function() {\n",
       "          console.warn(\"failed to load library \" + url);\n",
       "        };\n",
       "        console.log(\"Bokeh: injecting script tag for BokehJS library: \", url);\n",
       "        document.getElementsByTagName(\"head\")[0].appendChild(s);\n",
       "      }\n",
       "    };var element = document.getElementById(\"7b6f123b-58f8-4816-acbe-51ba1c16bf7c\");\n",
       "    if (element == null) {\n",
       "      console.log(\"Bokeh: ERROR: autoload.js configured with elementid '7b6f123b-58f8-4816-acbe-51ba1c16bf7c' but no matching script tag was found. \")\n",
       "      return false;\n",
       "    }\n",
       "  \n",
       "    var js_urls = [];\n",
       "  \n",
       "    var inline_js = [\n",
       "      function(Bokeh) {\n",
       "        Bokeh.$(function() {\n",
       "            var docs_json = {\"d3fe6042-e874-4b36-bd93-f96338f5f369\":{\"roots\":{\"references\":[{\"attributes\":{\"data_source\":{\"id\":\"89b807e8-72a6-43d1-97b0-4daf75fbce86\",\"type\":\"ColumnDataSource\"},\"glyph\":{\"id\":\"13fad475-ddef-4d29-af53-8f0c6670b06a\",\"type\":\"Line\"},\"hover_glyph\":null,\"nonselection_glyph\":{\"id\":\"defd530d-8a80-46b4-8478-0ea7ca9036b2\",\"type\":\"Line\"},\"selection_glyph\":null},\"id\":\"5fb59239-5c74-47a8-a62c-d8db56c6d8b6\",\"type\":\"GlyphRenderer\"},{\"attributes\":{\"fill_color\":{\"value\":\"magenta\"},\"line_color\":{\"value\":\"magenta\"},\"x\":{\"field\":\"x\"},\"y\":{\"field\":\"y\"}},\"id\":\"c50f0b0b-c99f-40ea-91fa-92e1e7eb5610\",\"type\":\"Circle\"},{\"attributes\":{\"callback\":null,\"column_names\":[\"y\",\"x\"],\"data\":{\"x\":[\"Ciudades\",\"1991\",\"2001\",\"2010\",\"2017\",\"2019\",\"2029\",\"2039\"],\"y\":[\"Cholila\",\"1527\",\"1981\",\"2228\",\"2441\",\"2505\",\"2853\",\"3250\"]}},\"id\":\"d7350a59-2761-43dd-bac8-c736f5ab3b17\",\"type\":\"ColumnDataSource\"},{\"attributes\":{\"callback\":null,\"column_names\":[\"y\",\"x\"],\"data\":{\"x\":[\"Ciudades\",\"1991\",\"2001\",\"2010\",\"2017\",\"2019\",\"2029\",\"2039\"],\"y\":[\"Trelew\",\"79340\",\"89547\",\"99430\",\"107865\",\"110404\",\"124023\",\"139322\"]}},\"id\":\"5ce1c9b2-976d-4bcc-a3b0-5c6b646cad52\",\"type\":\"ColumnDataSource\"},{\"attributes\":{\"fill_alpha\":{\"value\":0.1},\"fill_color\":{\"value\":\"#1f77b4\"},\"line_alpha\":{\"value\":0.1},\"line_color\":{\"value\":\"#1f77b4\"},\"x\":{\"field\":\"x\"},\"y\":{\"field\":\"y\"}},\"id\":\"447f1532-b7c2-4e85-a834-26bd8f4bbb6e\",\"type\":\"Circle\"},{\"attributes\":{\"callback\":null},\"id\":\"ca723901-1218-4c38-920e-88ad4c3d67b6\",\"type\":\"DataRange1d\"},{\"attributes\":{\"data_source\":{\"id\":\"e63891e7-7de7-4356-b7fb-3acee5901082\",\"type\":\"ColumnDataSource\"},\"glyph\":{\"id\":\"28d70ae2-cebc-4e8c-99c4-cd2d01d28fc1\",\"type\":\"Line\"},\"hover_glyph\":null,\"nonselection_glyph\":{\"id\":\"9bc76932-2726-4c7c-9916-8a70484b1f7c\",\"type\":\"Line\"},\"selection_glyph\":null},\"id\":\"afd4cc6f-1003-44e3-bd5c-d91aa9962ab5\",\"type\":\"GlyphRenderer\"},{\"attributes\":{\"callback\":null,\"column_names\":[\"y\",\"x\"],\"data\":{\"x\":[\"Ciudades\",\"1991\",\"2001\",\"2010\",\"2017\",\"2019\",\"2029\",\"2039\"],\"y\":[\"Rawson\",\"20674\",\"26183\",\"31787\",\"36967\",\"38596\",\"47885\",\"59410\"]}},\"id\":\"882ec38f-4d84-4d6e-9557-49a8cd24ae9b\",\"type\":\"ColumnDataSource\"},{\"attributes\":{\"plot\":{\"id\":\"aecf02c4-d16b-48b9-af71-17552311003b\",\"subtype\":\"Figure\",\"type\":\"Plot\"}},\"id\":\"e9f394b8-cb2e-456e-99d9-61b99b3c8938\",\"type\":\"HelpTool\"},{\"attributes\":{\"callback\":null,\"column_names\":[\"y\",\"x\"],\"data\":{\"x\":[\"Ciudades\",\"1991\",\"2001\",\"2010\",\"2017\",\"2019\",\"2029\",\"2039\"],\"y\":[\"Sarmiento\",\"7209\",\"8292\",\"11124\",\"13981\",\"14925\",\"20690\",\"26125\"]}},\"id\":\"4df66d53-7abb-401c-951d-6fb97a8de8b4\",\"type\":\"ColumnDataSource\"},{\"attributes\":{\"line_color\":{\"value\":\"#7c1b65\"},\"line_width\":{\"value\":2},\"x\":{\"field\":\"x\"},\"y\":{\"field\":\"y\"}},\"id\":\"f0bd327d-476b-44da-ab43-0c079775e552\",\"type\":\"Line\"},{\"attributes\":{\"plot\":{\"id\":\"aecf02c4-d16b-48b9-af71-17552311003b\",\"subtype\":\"Figure\",\"type\":\"Plot\"}},\"id\":\"f5b29770-6dc3-4f49-b644-a784625bdf94\",\"type\":\"SaveTool\"},{\"attributes\":{\"data_source\":{\"id\":\"712f80c3-3e51-4f09-8409-02618ae8082c\",\"type\":\"ColumnDataSource\"},\"glyph\":{\"id\":\"14fcf16e-ccc0-41a1-b743-168c179e1016\",\"type\":\"Line\"},\"hover_glyph\":null,\"nonselection_glyph\":{\"id\":\"6c60fc19-0878-4e0c-a13a-fa36f5be7ecc\",\"type\":\"Line\"},\"selection_glyph\":null},\"id\":\"8785e0f1-4ba9-401f-a304-db4ce1e0e051\",\"type\":\"GlyphRenderer\"},{\"attributes\":{\"fill_color\":{\"value\":\"green\"},\"line_color\":{\"value\":\"green\"},\"x\":{\"field\":\"x\"},\"y\":{\"field\":\"y\"}},\"id\":\"3936fc12-bfb5-403f-b5ac-ac3af8e3411d\",\"type\":\"Circle\"},{\"attributes\":{\"callback\":null,\"column_names\":[\"y\",\"x\"],\"data\":{\"x\":[\"Ciudades\",\"1991\",\"2001\",\"2010\",\"2017\",\"2019\",\"2029\",\"2039\"],\"y\":[\"Gobernador Costa\",\"1913\",\"2185\",\"2374\",\"2533\",\"2580\",\"2830\",\"3104\"]}},\"id\":\"c1353b82-ed52-4e0b-9cd5-0fc5fc9a70a2\",\"type\":\"ColumnDataSource\"},{\"attributes\":{\"line_alpha\":{\"value\":0.1},\"line_color\":{\"value\":\"#1f77b4\"},\"line_width\":{\"value\":2},\"x\":{\"field\":\"x\"},\"y\":{\"field\":\"y\"}},\"id\":\"1479f29a-2727-43a3-981b-cc06239c00fb\",\"type\":\"Line\"},{\"attributes\":{\"line_alpha\":{\"value\":0.1},\"line_color\":{\"value\":\"#1f77b4\"},\"line_width\":{\"value\":2},\"x\":{\"field\":\"x\"},\"y\":{\"field\":\"y\"}},\"id\":\"e956d112-8be3-44ac-a03e-30269c696a81\",\"type\":\"Line\"},{\"attributes\":{\"callback\":null,\"column_names\":[\"y\",\"x\"],\"data\":{\"x\":[\"Ciudades\",\"1991\",\"2001\",\"2010\",\"2017\",\"2019\",\"2029\",\"2039\"],\"y\":[\"Esquel\",\"23411\",\"28486\",\"32758\",\"36507\",\"37655\",\"43959\",\"51319\"]}},\"id\":\"712f80c3-3e51-4f09-8409-02618ae8082c\",\"type\":\"ColumnDataSource\"},{\"attributes\":{\"callback\":null,\"column_names\":[\"y\",\"x\"],\"data\":{\"x\":[\"Ciudades\",\"1991\",\"2001\",\"2010\",\"2017\",\"2019\",\"2029\",\"2039\"],\"y\":[\"Ciudades\",\"1991\",\"2001\",\"2010\",\"2017\",\"2019\",\"2029\",\"2039\"]}},\"id\":\"d0ae3c54-92d3-4e68-bc86-aba729c97769\",\"type\":\"ColumnDataSource\"},{\"attributes\":{\"data_source\":{\"id\":\"882ec38f-4d84-4d6e-9557-49a8cd24ae9b\",\"type\":\"ColumnDataSource\"},\"glyph\":{\"id\":\"224d1769-5e06-4ee2-a8ba-986f1162cfc8\",\"type\":\"Circle\"},\"hover_glyph\":null,\"nonselection_glyph\":{\"id\":\"a397ef62-738a-4499-9ba8-2a0884c6ca7c\",\"type\":\"Circle\"},\"selection_glyph\":null},\"id\":\"c99bdd84-307c-40fc-866b-23df09a6a6fc\",\"type\":\"GlyphRenderer\"},{\"attributes\":{\"fill_alpha\":{\"value\":0.1},\"fill_color\":{\"value\":\"#1f77b4\"},\"line_alpha\":{\"value\":0.1},\"line_color\":{\"value\":\"#1f77b4\"},\"x\":{\"field\":\"x\"},\"y\":{\"field\":\"y\"}},\"id\":\"ad17d341-d704-49d8-a5df-4f6dc98d9301\",\"type\":\"Circle\"},{\"attributes\":{\"data_source\":{\"id\":\"3cf80481-6c2b-4e27-8517-fc0e9c7880e7\",\"type\":\"ColumnDataSource\"},\"glyph\":{\"id\":\"a1e668ae-63b5-407b-a7ca-f60c32b6ac60\",\"type\":\"Circle\"},\"hover_glyph\":null,\"nonselection_glyph\":{\"id\":\"447f1532-b7c2-4e85-a834-26bd8f4bbb6e\",\"type\":\"Circle\"},\"selection_glyph\":null},\"id\":\"cf2b0db2-7700-49ba-9919-1740bc087ac9\",\"type\":\"GlyphRenderer\"},{\"attributes\":{\"data_source\":{\"id\":\"5ce1c9b2-976d-4bcc-a3b0-5c6b646cad52\",\"type\":\"ColumnDataSource\"},\"glyph\":{\"id\":\"c306c71c-9389-4d6a-9ec1-9c25562dd98d\",\"type\":\"Line\"},\"hover_glyph\":null,\"nonselection_glyph\":{\"id\":\"1479f29a-2727-43a3-981b-cc06239c00fb\",\"type\":\"Line\"},\"selection_glyph\":null},\"id\":\"ba13d0d9-94fd-4b02-b5b5-9986a9bf27c3\",\"type\":\"GlyphRenderer\"},{\"attributes\":{\"line_color\":{\"value\":\"orange\"},\"line_width\":{\"value\":2},\"x\":{\"field\":\"x\"},\"y\":{\"field\":\"y\"}},\"id\":\"13fad475-ddef-4d29-af53-8f0c6670b06a\",\"type\":\"Line\"},{\"attributes\":{\"data_source\":{\"id\":\"bbd4caef-5a64-45e9-bd09-7ec173b40e00\",\"type\":\"ColumnDataSource\"},\"glyph\":{\"id\":\"0c4b48df-167d-4fff-bcd0-0b9408028564\",\"type\":\"Line\"},\"hover_glyph\":null,\"nonselection_glyph\":{\"id\":\"87380d6c-45c4-486d-ad0f-8d766dee2cbe\",\"type\":\"Line\"},\"selection_glyph\":null},\"id\":\"847f1b94-e9aa-4d4d-a298-d3104fe5f71f\",\"type\":\"GlyphRenderer\"},{\"attributes\":{\"data_source\":{\"id\":\"a9f06e98-6581-4146-be45-9de291798cda\",\"type\":\"ColumnDataSource\"},\"glyph\":{\"id\":\"9c6d76ef-5ad8-4489-83e9-897d13b6b51d\",\"type\":\"Circle\"},\"hover_glyph\":null,\"nonselection_glyph\":{\"id\":\"84a60350-95c7-424d-b5fc-639ea48afa4b\",\"type\":\"Circle\"},\"selection_glyph\":null},\"id\":\"da40da93-aa2f-443f-9616-9577642c6bf5\",\"type\":\"GlyphRenderer\"},{\"attributes\":{\"legends\":[[\"Comodoro Rivadavia\",[{\"id\":\"2084a3f0-3579-4838-9b08-e820a81191d9\",\"type\":\"GlyphRenderer\"},{\"id\":\"5df21722-7419-4bb6-8190-67fa0106f617\",\"type\":\"GlyphRenderer\"}]],[\"Trelew\",[{\"id\":\"da40da93-aa2f-443f-9616-9577642c6bf5\",\"type\":\"GlyphRenderer\"},{\"id\":\"5fb59239-5c74-47a8-a62c-d8db56c6d8b6\",\"type\":\"GlyphRenderer\"}]],[\"Puerto Madryn\",[{\"id\":\"fafcd117-5fa9-479a-8e4c-0c4fdfd8ab9b\",\"type\":\"GlyphRenderer\"},{\"id\":\"ba13d0d9-94fd-4b02-b5b5-9986a9bf27c3\",\"type\":\"GlyphRenderer\"}]],[\"Esquel\",[{\"id\":\"c678ff4e-ae06-4cf3-86e5-66746414b4df\",\"type\":\"GlyphRenderer\"},{\"id\":\"afd4cc6f-1003-44e3-bd5c-d91aa9962ab5\",\"type\":\"GlyphRenderer\"}]],[\"Sarmiento\",[{\"id\":\"a175a233-11f1-4669-899a-3972ef97331b\",\"type\":\"GlyphRenderer\"},{\"id\":\"8785e0f1-4ba9-401f-a304-db4ce1e0e051\",\"type\":\"GlyphRenderer\"}]],[\"Rawson\",[{\"id\":\"26c3a93a-a8cd-40bd-948d-2b22415631d2\",\"type\":\"GlyphRenderer\"},{\"id\":\"29be067b-de5d-4ba3-9d30-088dbdb6a0a9\",\"type\":\"GlyphRenderer\"}]],[\"Dolavon\",[{\"id\":\"c99bdd84-307c-40fc-866b-23df09a6a6fc\",\"type\":\"GlyphRenderer\"},{\"id\":\"9d315fb9-304e-4bed-82aa-98f291b4af0c\",\"type\":\"GlyphRenderer\"}]],[\"Gaiman\",[{\"id\":\"7ff5d501-84a3-4da2-a4a5-f4b237d7c198\",\"type\":\"GlyphRenderer\"},{\"id\":\"8adec4c0-77d3-499f-8f2a-60a18536b32b\",\"type\":\"GlyphRenderer\"}]],[\"Gobernador Costa\",[{\"id\":\"76ffb57b-c108-48ba-a7df-af1b70069d80\",\"type\":\"GlyphRenderer\"},{\"id\":\"98f52de5-655a-404f-97ad-5cbfd1f328e1\",\"type\":\"GlyphRenderer\"}]],[\"Cholila\",[{\"id\":\"26a0fa2c-16f3-4641-b1b0-3d8e96b99c52\",\"type\":\"GlyphRenderer\"},{\"id\":\"847f1b94-e9aa-4d4d-a298-d3104fe5f71f\",\"type\":\"GlyphRenderer\"}]],[\"Camarones\",[{\"id\":\"cf2b0db2-7700-49ba-9919-1740bc087ac9\",\"type\":\"GlyphRenderer\"},{\"id\":\"336e81bf-364e-4a3b-a31c-a29fc3f6ffbb\",\"type\":\"GlyphRenderer\"}]],[\"Paso de Indios\",[{\"id\":\"c79164cb-0512-4bee-ad42-625a0324c84f\",\"type\":\"GlyphRenderer\"},{\"id\":\"6121059e-13f5-4ff4-ab0b-b1410bf4b92c\",\"type\":\"GlyphRenderer\"}]],[\"Paso del Sapo\",[{\"id\":\"da9fcdb2-26dd-4629-8769-59e4e0072724\",\"type\":\"GlyphRenderer\"},{\"id\":\"d0e8fd3d-7530-4494-9133-4d0cee9a2481\",\"type\":\"GlyphRenderer\"}]]],\"plot\":{\"id\":\"aecf02c4-d16b-48b9-af71-17552311003b\",\"subtype\":\"Figure\",\"type\":\"Plot\"}},\"id\":\"793cd87d-ce90-46d4-80a9-d767f8a9698d\",\"type\":\"Legend\"},{\"attributes\":{\"data_source\":{\"id\":\"572b8d2f-a7af-4c54-8c3d-6a8d160f5c49\",\"type\":\"ColumnDataSource\"},\"glyph\":{\"id\":\"2c1909bb-7fbe-4f5b-988d-e50da7b70ddf\",\"type\":\"Line\"},\"hover_glyph\":null,\"nonselection_glyph\":{\"id\":\"47334473-bee5-41c8-a200-df731177fc39\",\"type\":\"Line\"},\"selection_glyph\":null},\"id\":\"8adec4c0-77d3-499f-8f2a-60a18536b32b\",\"type\":\"GlyphRenderer\"},{\"attributes\":{\"data_source\":{\"id\":\"d0ae3c54-92d3-4e68-bc86-aba729c97769\",\"type\":\"ColumnDataSource\"},\"glyph\":{\"id\":\"1c5cf8af-70fe-4dd0-8900-a29e8345fa04\",\"type\":\"Circle\"},\"hover_glyph\":null,\"nonselection_glyph\":{\"id\":\"9852f0e1-023c-411c-8fb4-55d91c603e79\",\"type\":\"Circle\"},\"selection_glyph\":null},\"id\":\"2084a3f0-3579-4838-9b08-e820a81191d9\",\"type\":\"GlyphRenderer\"},{\"attributes\":{\"line_color\":{\"value\":\"blue\"},\"line_width\":{\"value\":2},\"x\":{\"field\":\"x\"},\"y\":{\"field\":\"y\"}},\"id\":\"c306c71c-9389-4d6a-9ec1-9c25562dd98d\",\"type\":\"Line\"},{\"attributes\":{\"fill_color\":{\"value\":\"navy\"},\"line_color\":{\"value\":\"navy\"},\"x\":{\"field\":\"x\"},\"y\":{\"field\":\"y\"}},\"id\":\"224d1769-5e06-4ee2-a8ba-986f1162cfc8\",\"type\":\"Circle\"},{\"attributes\":{\"data_source\":{\"id\":\"ce31e5c8-2050-4fbd-924b-75cfcb52385b\",\"type\":\"ColumnDataSource\"},\"glyph\":{\"id\":\"3936fc12-bfb5-403f-b5ac-ac3af8e3411d\",\"type\":\"Circle\"},\"hover_glyph\":null,\"nonselection_glyph\":{\"id\":\"1b5405f9-1b61-4e76-ac5a-a1dd0e1fd4cb\",\"type\":\"Circle\"},\"selection_glyph\":null},\"id\":\"c678ff4e-ae06-4cf3-86e5-66746414b4df\",\"type\":\"GlyphRenderer\"},{\"attributes\":{\"data_source\":{\"id\":\"c9df44a5-5044-42e9-8b48-f037852818bf\",\"type\":\"ColumnDataSource\"},\"glyph\":{\"id\":\"de2b30a2-5864-4d69-b6a5-1f1de29572f6\",\"type\":\"Line\"},\"hover_glyph\":null,\"nonselection_glyph\":{\"id\":\"62f8459d-a2e6-4a79-ae30-995d5aa7029b\",\"type\":\"Line\"},\"selection_glyph\":null},\"id\":\"9d315fb9-304e-4bed-82aa-98f291b4af0c\",\"type\":\"GlyphRenderer\"},{\"attributes\":{\"callback\":null,\"column_names\":[\"y\",\"x\"],\"data\":{\"x\":[\"Ciudades\",\"1991\",\"2001\",\"2010\",\"2017\",\"2019\",\"2029\",\"2039\"],\"y\":[\"Rawson\",\"20674\",\"26183\",\"31787\",\"36967\",\"38596\",\"47885\",\"59410\"]}},\"id\":\"c9df44a5-5044-42e9-8b48-f037852818bf\",\"type\":\"ColumnDataSource\"},{\"attributes\":{\"line_color\":{\"value\":\"pink\"},\"line_width\":{\"value\":2},\"x\":{\"field\":\"x\"},\"y\":{\"field\":\"y\"}},\"id\":\"00a51a10-a46c-4b59-8181-6fd3a9c4de54\",\"type\":\"Line\"},{\"attributes\":{\"line_color\":{\"value\":\"green\"},\"line_width\":{\"value\":2},\"x\":{\"field\":\"x\"},\"y\":{\"field\":\"y\"}},\"id\":\"28d70ae2-cebc-4e8c-99c4-cd2d01d28fc1\",\"type\":\"Line\"},{\"attributes\":{\"data_source\":{\"id\":\"c1353b82-ed52-4e0b-9cd5-0fc5fc9a70a2\",\"type\":\"ColumnDataSource\"},\"glyph\":{\"id\":\"c50f0b0b-c99f-40ea-91fa-92e1e7eb5610\",\"type\":\"Circle\"},\"hover_glyph\":null,\"nonselection_glyph\":{\"id\":\"41f5f9e2-100a-4bf0-b175-69b11cf22e8c\",\"type\":\"Circle\"},\"selection_glyph\":null},\"id\":\"26a0fa2c-16f3-4641-b1b0-3d8e96b99c52\",\"type\":\"GlyphRenderer\"},{\"attributes\":{\"fill_alpha\":{\"value\":0.1},\"fill_color\":{\"value\":\"#1f77b4\"},\"line_alpha\":{\"value\":0.1},\"line_color\":{\"value\":\"#1f77b4\"},\"x\":{\"field\":\"x\"},\"y\":{\"field\":\"y\"}},\"id\":\"f5b3b7bd-9eb0-49c6-886d-2795b523b5f1\",\"type\":\"Circle\"},{\"attributes\":{\"line_color\":{\"value\":\"olive\"},\"line_width\":{\"value\":2},\"x\":{\"field\":\"x\"},\"y\":{\"field\":\"y\"}},\"id\":\"b32bf68c-48f4-4ead-bb59-72b53339a7fa\",\"type\":\"Line\"},{\"attributes\":{\"line_alpha\":{\"value\":0.1},\"line_color\":{\"value\":\"#1f77b4\"},\"line_width\":{\"value\":2},\"x\":{\"field\":\"x\"},\"y\":{\"field\":\"y\"}},\"id\":\"dd61a078-c724-4162-97aa-1cbdfe280fb1\",\"type\":\"Line\"},{\"attributes\":{\"line_color\":{\"value\":\"firebrick\"},\"line_width\":{\"value\":2},\"x\":{\"field\":\"x\"},\"y\":{\"field\":\"y\"}},\"id\":\"2c1909bb-7fbe-4f5b-988d-e50da7b70ddf\",\"type\":\"Line\"},{\"attributes\":{},\"id\":\"70f13500-745f-427d-b208-c4b08a4a4fb5\",\"type\":\"ToolEvents\"},{\"attributes\":{\"callback\":null},\"id\":\"8c00beda-a100-4fe3-b7e8-beefcb6d0c85\",\"type\":\"DataRange1d\"},{\"attributes\":{\"line_alpha\":{\"value\":0.1},\"line_color\":{\"value\":\"#1f77b4\"},\"line_width\":{\"value\":2},\"x\":{\"field\":\"x\"},\"y\":{\"field\":\"y\"}},\"id\":\"9bc76932-2726-4c7c-9916-8a70484b1f7c\",\"type\":\"Line\"},{\"attributes\":{\"fill_alpha\":{\"value\":0.1},\"fill_color\":{\"value\":\"#1f77b4\"},\"line_alpha\":{\"value\":0.1},\"line_color\":{\"value\":\"#1f77b4\"},\"x\":{\"field\":\"x\"},\"y\":{\"field\":\"y\"}},\"id\":\"6ae924c0-2434-4642-a889-91bb5ed93a67\",\"type\":\"Circle\"},{\"attributes\":{\"below\":[{\"id\":\"94be4b19-2411-44f3-bcdc-24dd377e57a2\",\"type\":\"LinearAxis\"}],\"left\":[{\"id\":\"94b79c41-0e9d-4440-95fc-080bcefb0055\",\"type\":\"LinearAxis\"}],\"plot_width\":900,\"renderers\":[{\"id\":\"94be4b19-2411-44f3-bcdc-24dd377e57a2\",\"type\":\"LinearAxis\"},{\"id\":\"b567997d-a3c0-493c-9fd9-2d1e38abcf2f\",\"type\":\"Grid\"},{\"id\":\"94b79c41-0e9d-4440-95fc-080bcefb0055\",\"type\":\"LinearAxis\"},{\"id\":\"1762eaf4-6b32-4e76-adcf-8155c1799eb2\",\"type\":\"Grid\"},{\"id\":\"0fb93cbd-f6a8-492a-b4b5-63daddf6818b\",\"type\":\"BoxAnnotation\"},{\"id\":\"793cd87d-ce90-46d4-80a9-d767f8a9698d\",\"type\":\"Legend\"},{\"id\":\"2084a3f0-3579-4838-9b08-e820a81191d9\",\"type\":\"GlyphRenderer\"},{\"id\":\"5df21722-7419-4bb6-8190-67fa0106f617\",\"type\":\"GlyphRenderer\"},{\"id\":\"da40da93-aa2f-443f-9616-9577642c6bf5\",\"type\":\"GlyphRenderer\"},{\"id\":\"5fb59239-5c74-47a8-a62c-d8db56c6d8b6\",\"type\":\"GlyphRenderer\"},{\"id\":\"fafcd117-5fa9-479a-8e4c-0c4fdfd8ab9b\",\"type\":\"GlyphRenderer\"},{\"id\":\"ba13d0d9-94fd-4b02-b5b5-9986a9bf27c3\",\"type\":\"GlyphRenderer\"},{\"id\":\"c678ff4e-ae06-4cf3-86e5-66746414b4df\",\"type\":\"GlyphRenderer\"},{\"id\":\"afd4cc6f-1003-44e3-bd5c-d91aa9962ab5\",\"type\":\"GlyphRenderer\"},{\"id\":\"a175a233-11f1-4669-899a-3972ef97331b\",\"type\":\"GlyphRenderer\"},{\"id\":\"8785e0f1-4ba9-401f-a304-db4ce1e0e051\",\"type\":\"GlyphRenderer\"},{\"id\":\"26c3a93a-a8cd-40bd-948d-2b22415631d2\",\"type\":\"GlyphRenderer\"},{\"id\":\"29be067b-de5d-4ba3-9d30-088dbdb6a0a9\",\"type\":\"GlyphRenderer\"},{\"id\":\"c99bdd84-307c-40fc-866b-23df09a6a6fc\",\"type\":\"GlyphRenderer\"},{\"id\":\"9d315fb9-304e-4bed-82aa-98f291b4af0c\",\"type\":\"GlyphRenderer\"},{\"id\":\"7ff5d501-84a3-4da2-a4a5-f4b237d7c198\",\"type\":\"GlyphRenderer\"},{\"id\":\"8adec4c0-77d3-499f-8f2a-60a18536b32b\",\"type\":\"GlyphRenderer\"},{\"id\":\"76ffb57b-c108-48ba-a7df-af1b70069d80\",\"type\":\"GlyphRenderer\"},{\"id\":\"98f52de5-655a-404f-97ad-5cbfd1f328e1\",\"type\":\"GlyphRenderer\"},{\"id\":\"26a0fa2c-16f3-4641-b1b0-3d8e96b99c52\",\"type\":\"GlyphRenderer\"},{\"id\":\"847f1b94-e9aa-4d4d-a298-d3104fe5f71f\",\"type\":\"GlyphRenderer\"},{\"id\":\"cf2b0db2-7700-49ba-9919-1740bc087ac9\",\"type\":\"GlyphRenderer\"},{\"id\":\"336e81bf-364e-4a3b-a31c-a29fc3f6ffbb\",\"type\":\"GlyphRenderer\"},{\"id\":\"c79164cb-0512-4bee-ad42-625a0324c84f\",\"type\":\"GlyphRenderer\"},{\"id\":\"6121059e-13f5-4ff4-ab0b-b1410bf4b92c\",\"type\":\"GlyphRenderer\"},{\"id\":\"da9fcdb2-26dd-4629-8769-59e4e0072724\",\"type\":\"GlyphRenderer\"},{\"id\":\"d0e8fd3d-7530-4494-9133-4d0cee9a2481\",\"type\":\"GlyphRenderer\"}],\"title\":{\"id\":\"eededd6f-69d8-4cf0-a22d-3fafe704c8b4\",\"type\":\"Title\"},\"tool_events\":{\"id\":\"70f13500-745f-427d-b208-c4b08a4a4fb5\",\"type\":\"ToolEvents\"},\"toolbar\":{\"id\":\"55329f02-7c69-4c72-a696-cbab28630606\",\"type\":\"Toolbar\"},\"x_range\":{\"id\":\"8c00beda-a100-4fe3-b7e8-beefcb6d0c85\",\"type\":\"DataRange1d\"},\"y_range\":{\"id\":\"ca723901-1218-4c38-920e-88ad4c3d67b6\",\"type\":\"DataRange1d\"}},\"id\":\"aecf02c4-d16b-48b9-af71-17552311003b\",\"subtype\":\"Figure\",\"type\":\"Plot\"},{\"attributes\":{\"line_alpha\":{\"value\":0.1},\"line_color\":{\"value\":\"#1f77b4\"},\"line_width\":{\"value\":2},\"x\":{\"field\":\"x\"},\"y\":{\"field\":\"y\"}},\"id\":\"defd530d-8a80-46b4-8478-0ea7ca9036b2\",\"type\":\"Line\"},{\"attributes\":{\"data_source\":{\"id\":\"4df66d53-7abb-401c-951d-6fb97a8de8b4\",\"type\":\"ColumnDataSource\"},\"glyph\":{\"id\":\"00a51a10-a46c-4b59-8181-6fd3a9c4de54\",\"type\":\"Line\"},\"hover_glyph\":null,\"nonselection_glyph\":{\"id\":\"5fa9ef1a-a91f-4f93-adc5-31019df9d1ed\",\"type\":\"Line\"},\"selection_glyph\":null},\"id\":\"29be067b-de5d-4ba3-9d30-088dbdb6a0a9\",\"type\":\"GlyphRenderer\"},{\"attributes\":{\"line_alpha\":{\"value\":0.1},\"line_color\":{\"value\":\"#1f77b4\"},\"line_width\":{\"value\":2},\"x\":{\"field\":\"x\"},\"y\":{\"field\":\"y\"}},\"id\":\"9829c0ac-1e61-447f-9fbf-a02228a7c61a\",\"type\":\"Line\"},{\"attributes\":{\"plot\":{\"id\":\"aecf02c4-d16b-48b9-af71-17552311003b\",\"subtype\":\"Figure\",\"type\":\"Plot\"}},\"id\":\"fc8bb78d-feca-41c4-9572-156414a2e59c\",\"type\":\"PanTool\"},{\"attributes\":{\"callback\":null,\"column_names\":[\"y\",\"x\"],\"data\":{\"x\":[\"Ciudades\",\"1991\",\"2001\",\"2010\",\"2017\",\"2019\",\"2029\",\"2039\"],\"y\":[\"Gaiman\",\"4642\",\"5753\",\"6627\",\"7396\",\"7632\",\"8927\",\"10442\"]}},\"id\":\"9a2e0118-800f-4c22-a217-81fe990a9467\",\"type\":\"ColumnDataSource\"},{\"attributes\":{\"callback\":null,\"column_names\":[\"y\",\"x\"],\"data\":{\"x\":[\"Ciudades\",\"1991\",\"2001\",\"2010\",\"2017\",\"2019\",\"2029\",\"2039\"],\"y\":[\"Gaiman\",\"4642\",\"5753\",\"6627\",\"7396\",\"7632\",\"8927\",\"10442\"]}},\"id\":\"7c18da4c-5ee5-4111-92dc-fe29744c992d\",\"type\":\"ColumnDataSource\"},{\"attributes\":{\"fill_color\":{\"value\":\"blue\"},\"line_color\":{\"value\":\"blue\"},\"x\":{\"field\":\"x\"},\"y\":{\"field\":\"y\"}},\"id\":\"0c66bedf-74d7-426a-953b-1f777fc43e8b\",\"type\":\"Circle\"},{\"attributes\":{\"line_alpha\":{\"value\":0.1},\"line_color\":{\"value\":\"#1f77b4\"},\"line_width\":{\"value\":2},\"x\":{\"field\":\"x\"},\"y\":{\"field\":\"y\"}},\"id\":\"6c60fc19-0878-4e0c-a13a-fa36f5be7ecc\",\"type\":\"Line\"},{\"attributes\":{\"use_scientific\":false},\"id\":\"f4f9f531-3f3f-470d-8a91-316d2314e9a8\",\"type\":\"BasicTickFormatter\"},{\"attributes\":{\"data_source\":{\"id\":\"6f12c9f2-7639-4318-bf15-c20eb2186ba9\",\"type\":\"ColumnDataSource\"},\"glyph\":{\"id\":\"18767c8d-dcc2-4dc3-8b68-bac5961354e7\",\"type\":\"Circle\"},\"hover_glyph\":null,\"nonselection_glyph\":{\"id\":\"6ae924c0-2434-4642-a889-91bb5ed93a67\",\"type\":\"Circle\"},\"selection_glyph\":null},\"id\":\"7ff5d501-84a3-4da2-a4a5-f4b237d7c198\",\"type\":\"GlyphRenderer\"},{\"attributes\":{},\"id\":\"e1560e68-3620-4a0f-9ec9-75593a7f39e6\",\"type\":\"BasicTicker\"},{\"attributes\":{\"fill_alpha\":{\"value\":0.1},\"fill_color\":{\"value\":\"#1f77b4\"},\"line_alpha\":{\"value\":0.1},\"line_color\":{\"value\":\"#1f77b4\"},\"x\":{\"field\":\"x\"},\"y\":{\"field\":\"y\"}},\"id\":\"15e910b9-8e93-45b5-bd2a-947138648d67\",\"type\":\"Circle\"},{\"attributes\":{\"callback\":null,\"column_names\":[\"y\",\"x\"],\"data\":{\"x\":[\"Ciudades\",\"1991\",\"2001\",\"2010\",\"2017\",\"2019\",\"2029\",\"2039\"],\"y\":[\"Puerto Madryn\",\"45047\",\"57791\",\"81995\",\"107610\",\"116301\",\"171493\",\"235899\"]}},\"id\":\"ce31e5c8-2050-4fbd-924b-75cfcb52385b\",\"type\":\"ColumnDataSource\"},{\"attributes\":{\"line_alpha\":{\"value\":0.1},\"line_color\":{\"value\":\"#1f77b4\"},\"line_width\":{\"value\":2},\"x\":{\"field\":\"x\"},\"y\":{\"field\":\"y\"}},\"id\":\"5fa9ef1a-a91f-4f93-adc5-31019df9d1ed\",\"type\":\"Line\"},{\"attributes\":{\"callback\":null,\"column_names\":[\"y\",\"x\"],\"data\":{\"x\":[\"Ciudades\",\"1991\",\"2001\",\"2010\",\"2017\",\"2019\",\"2029\",\"2039\"],\"y\":[\"Gobernador Costa\",\"1913\",\"2185\",\"2374\",\"2533\",\"2580\",\"2830\",\"3104\"]}},\"id\":\"bbd4caef-5a64-45e9-bd09-7ec173b40e00\",\"type\":\"ColumnDataSource\"},{\"attributes\":{\"callback\":null,\"column_names\":[\"y\",\"x\"],\"data\":{\"x\":[\"Ciudades\",\"1991\",\"2001\",\"2010\",\"2017\",\"2019\",\"2029\",\"2039\"],\"y\":[\"Comodoro Rivadavia\",\"125725\",\"137061\",\"177083\",\"216167\",\"228842\",\"304276\",\"366570\"]}},\"id\":\"89b807e8-72a6-43d1-97b0-4daf75fbce86\",\"type\":\"ColumnDataSource\"},{\"attributes\":{\"dimension\":1,\"plot\":{\"id\":\"aecf02c4-d16b-48b9-af71-17552311003b\",\"subtype\":\"Figure\",\"type\":\"Plot\"},\"ticker\":{\"id\":\"92a2cf29-3760-4bf9-b1ba-c4d7bb2c4c7b\",\"type\":\"BasicTicker\"}},\"id\":\"1762eaf4-6b32-4e76-adcf-8155c1799eb2\",\"type\":\"Grid\"},{\"attributes\":{},\"id\":\"92a2cf29-3760-4bf9-b1ba-c4d7bb2c4c7b\",\"type\":\"BasicTicker\"},{\"attributes\":{\"data_source\":{\"id\":\"9a2e0118-800f-4c22-a217-81fe990a9467\",\"type\":\"ColumnDataSource\"},\"glyph\":{\"id\":\"552bcf4f-0361-49df-bb9f-a434b2bdc535\",\"type\":\"Line\"},\"hover_glyph\":null,\"nonselection_glyph\":{\"id\":\"e956d112-8be3-44ac-a03e-30269c696a81\",\"type\":\"Line\"},\"selection_glyph\":null},\"id\":\"98f52de5-655a-404f-97ad-5cbfd1f328e1\",\"type\":\"GlyphRenderer\"},{\"attributes\":{\"fill_color\":{\"value\":\"orange\"},\"line_color\":{\"value\":\"orange\"},\"x\":{\"field\":\"x\"},\"y\":{\"field\":\"y\"}},\"id\":\"9c6d76ef-5ad8-4489-83e9-897d13b6b51d\",\"type\":\"Circle\"},{\"attributes\":{\"callback\":null,\"column_names\":[\"y\",\"x\"],\"data\":{\"x\":[\"Ciudades\",\"1991\",\"2001\",\"2010\",\"2017\",\"2019\",\"2029\",\"2039\"],\"y\":[\"Paso de Indios\",\"864\",\"1087\",\"1264\",\"1421\",\"1469\",\"1737\",\"2054\"]}},\"id\":\"120c310a-ed04-4f90-8bbb-467b31a3b766\",\"type\":\"ColumnDataSource\"},{\"attributes\":{\"fill_color\":{\"value\":\"olive\"},\"line_color\":{\"value\":\"olive\"},\"x\":{\"field\":\"x\"},\"y\":{\"field\":\"y\"}},\"id\":\"a1e668ae-63b5-407b-a7ca-f60c32b6ac60\",\"type\":\"Circle\"},{\"attributes\":{\"line_color\":{\"value\":\"red\"},\"line_width\":{\"value\":2},\"x\":{\"field\":\"x\"},\"y\":{\"field\":\"y\"}},\"id\":\"3b363efa-f98b-4705-8bba-f112ac3ebcd4\",\"type\":\"Line\"},{\"attributes\":{\"callback\":null,\"column_names\":[\"y\",\"x\"],\"data\":{\"x\":[\"Ciudades\",\"1991\",\"2001\",\"2010\",\"2017\",\"2019\",\"2029\",\"2039\"],\"y\":[\"Cholila\",\"1527\",\"1981\",\"2228\",\"2441\",\"2505\",\"2853\",\"3250\"]}},\"id\":\"3cf80481-6c2b-4e27-8517-fc0e9c7880e7\",\"type\":\"ColumnDataSource\"},{\"attributes\":{\"axis_label\":\"Poblaci\\u00f3n\",\"formatter\":{\"id\":\"f4f9f531-3f3f-470d-8a91-316d2314e9a8\",\"type\":\"BasicTickFormatter\"},\"plot\":{\"id\":\"aecf02c4-d16b-48b9-af71-17552311003b\",\"subtype\":\"Figure\",\"type\":\"Plot\"},\"ticker\":{\"id\":\"92a2cf29-3760-4bf9-b1ba-c4d7bb2c4c7b\",\"type\":\"BasicTicker\"}},\"id\":\"94b79c41-0e9d-4440-95fc-080bcefb0055\",\"type\":\"LinearAxis\"},{\"attributes\":{\"fill_alpha\":{\"value\":0.1},\"fill_color\":{\"value\":\"#1f77b4\"},\"line_alpha\":{\"value\":0.1},\"line_color\":{\"value\":\"#1f77b4\"},\"x\":{\"field\":\"x\"},\"y\":{\"field\":\"y\"}},\"id\":\"1b5405f9-1b61-4e76-ac5a-a1dd0e1fd4cb\",\"type\":\"Circle\"},{\"attributes\":{\"line_color\":{\"value\":\"yellow\"},\"line_width\":{\"value\":2},\"x\":{\"field\":\"x\"},\"y\":{\"field\":\"y\"}},\"id\":\"14fcf16e-ccc0-41a1-b743-168c179e1016\",\"type\":\"Line\"},{\"attributes\":{\"callback\":null,\"column_names\":[\"y\",\"x\"],\"data\":{\"x\":[\"Ciudades\",\"1991\",\"2001\",\"2010\",\"2017\",\"2019\",\"2029\",\"2039\"],\"y\":[\"Comodoro Rivadavia\",\"125725\",\"137061\",\"177083\",\"216167\",\"228842\",\"304276\",\"366570\"]}},\"id\":\"a9f06e98-6581-4146-be45-9de291798cda\",\"type\":\"ColumnDataSource\"},{\"attributes\":{\"axis_label\":\"Tiempo\",\"formatter\":{\"id\":\"92e519ec-866a-4382-9a4d-6821f423ee14\",\"type\":\"BasicTickFormatter\"},\"plot\":{\"id\":\"aecf02c4-d16b-48b9-af71-17552311003b\",\"subtype\":\"Figure\",\"type\":\"Plot\"},\"ticker\":{\"id\":\"e1560e68-3620-4a0f-9ec9-75593a7f39e6\",\"type\":\"BasicTicker\"}},\"id\":\"94be4b19-2411-44f3-bcdc-24dd377e57a2\",\"type\":\"LinearAxis\"},{\"attributes\":{\"fill_alpha\":{\"value\":0.1},\"fill_color\":{\"value\":\"#1f77b4\"},\"line_alpha\":{\"value\":0.1},\"line_color\":{\"value\":\"#1f77b4\"},\"x\":{\"field\":\"x\"},\"y\":{\"field\":\"y\"}},\"id\":\"41f5f9e2-100a-4bf0-b175-69b11cf22e8c\",\"type\":\"Circle\"},{\"attributes\":{\"fill_color\":{\"value\":\"red\"},\"line_color\":{\"value\":\"red\"},\"x\":{\"field\":\"x\"},\"y\":{\"field\":\"y\"}},\"id\":\"1c5cf8af-70fe-4dd0-8900-a29e8345fa04\",\"type\":\"Circle\"},{\"attributes\":{\"overlay\":{\"id\":\"0fb93cbd-f6a8-492a-b4b5-63daddf6818b\",\"type\":\"BoxAnnotation\"},\"plot\":{\"id\":\"aecf02c4-d16b-48b9-af71-17552311003b\",\"subtype\":\"Figure\",\"type\":\"Plot\"}},\"id\":\"6493d039-5d84-4121-abff-4fd0f8118ee6\",\"type\":\"BoxZoomTool\"},{\"attributes\":{\"fill_alpha\":{\"value\":0.1},\"fill_color\":{\"value\":\"#1f77b4\"},\"line_alpha\":{\"value\":0.1},\"line_color\":{\"value\":\"#1f77b4\"},\"x\":{\"field\":\"x\"},\"y\":{\"field\":\"y\"}},\"id\":\"5375fb01-0167-4cbd-bc4b-ce2419896423\",\"type\":\"Circle\"},{\"attributes\":{\"data_source\":{\"id\":\"120c310a-ed04-4f90-8bbb-467b31a3b766\",\"type\":\"ColumnDataSource\"},\"glyph\":{\"id\":\"f0bd327d-476b-44da-ab43-0c079775e552\",\"type\":\"Line\"},\"hover_glyph\":null,\"nonselection_glyph\":{\"id\":\"9829c0ac-1e61-447f-9fbf-a02228a7c61a\",\"type\":\"Line\"},\"selection_glyph\":null},\"id\":\"d0e8fd3d-7530-4494-9133-4d0cee9a2481\",\"type\":\"GlyphRenderer\"},{\"attributes\":{\"fill_alpha\":{\"value\":0.1},\"fill_color\":{\"value\":\"#1f77b4\"},\"line_alpha\":{\"value\":0.1},\"line_color\":{\"value\":\"#1f77b4\"},\"x\":{\"field\":\"x\"},\"y\":{\"field\":\"y\"}},\"id\":\"84a60350-95c7-424d-b5fc-639ea48afa4b\",\"type\":\"Circle\"},{\"attributes\":{\"active_drag\":\"auto\",\"active_scroll\":\"auto\",\"active_tap\":\"auto\",\"tools\":[{\"id\":\"fc8bb78d-feca-41c4-9572-156414a2e59c\",\"type\":\"PanTool\"},{\"id\":\"4bcce771-6657-4c34-ac15-791ed6041551\",\"type\":\"WheelZoomTool\"},{\"id\":\"6493d039-5d84-4121-abff-4fd0f8118ee6\",\"type\":\"BoxZoomTool\"},{\"id\":\"f5b29770-6dc3-4f49-b644-a784625bdf94\",\"type\":\"SaveTool\"},{\"id\":\"ed6a59c4-019a-4da5-bcc6-1be6218a4954\",\"type\":\"ResetTool\"},{\"id\":\"e9f394b8-cb2e-456e-99d9-61b99b3c8938\",\"type\":\"HelpTool\"}]},\"id\":\"55329f02-7c69-4c72-a696-cbab28630606\",\"type\":\"Toolbar\"},{\"attributes\":{\"line_color\":{\"value\":\"navy\"},\"line_width\":{\"value\":2},\"x\":{\"field\":\"x\"},\"y\":{\"field\":\"y\"}},\"id\":\"de2b30a2-5864-4d69-b6a5-1f1de29572f6\",\"type\":\"Line\"},{\"attributes\":{\"data_source\":{\"id\":\"3f5c90c4-302b-45ed-a33e-27da660ef8e8\",\"type\":\"ColumnDataSource\"},\"glyph\":{\"id\":\"bb583695-9107-4bae-bb8a-8f3eaa51bad7\",\"type\":\"Circle\"},\"hover_glyph\":null,\"nonselection_glyph\":{\"id\":\"f5b3b7bd-9eb0-49c6-886d-2795b523b5f1\",\"type\":\"Circle\"},\"selection_glyph\":null},\"id\":\"c79164cb-0512-4bee-ad42-625a0324c84f\",\"type\":\"GlyphRenderer\"},{\"attributes\":{\"fill_color\":{\"value\":\"#164c71\"},\"line_color\":{\"value\":\"#164c71\"},\"x\":{\"field\":\"x\"},\"y\":{\"field\":\"y\"}},\"id\":\"bb583695-9107-4bae-bb8a-8f3eaa51bad7\",\"type\":\"Circle\"},{\"attributes\":{\"data_source\":{\"id\":\"7c18da4c-5ee5-4111-92dc-fe29744c992d\",\"type\":\"ColumnDataSource\"},\"glyph\":{\"id\":\"a1591877-748d-440e-8ea1-678d73a694fe\",\"type\":\"Circle\"},\"hover_glyph\":null,\"nonselection_glyph\":{\"id\":\"dfccb3c4-18f8-4d39-9144-9dea07d6c9db\",\"type\":\"Circle\"},\"selection_glyph\":null},\"id\":\"76ffb57b-c108-48ba-a7df-af1b70069d80\",\"type\":\"GlyphRenderer\"},{\"attributes\":{\"data_source\":{\"id\":\"0688f9d3-2f98-4148-b71f-22c00a6099e2\",\"type\":\"ColumnDataSource\"},\"glyph\":{\"id\":\"e4695a56-1adf-45dc-9ab1-264e701d2eea\",\"type\":\"Circle\"},\"hover_glyph\":null,\"nonselection_glyph\":{\"id\":\"97764d1c-7836-4a3b-8f07-ab12275d1f06\",\"type\":\"Circle\"},\"selection_glyph\":null},\"id\":\"a175a233-11f1-4669-899a-3972ef97331b\",\"type\":\"GlyphRenderer\"},{\"attributes\":{\"bottom_units\":\"screen\",\"fill_alpha\":{\"value\":0.5},\"fill_color\":{\"value\":\"lightgrey\"},\"left_units\":\"screen\",\"level\":\"overlay\",\"line_alpha\":{\"value\":1.0},\"line_color\":{\"value\":\"black\"},\"line_dash\":[4,4],\"line_width\":{\"value\":2},\"plot\":null,\"render_mode\":\"css\",\"right_units\":\"screen\",\"top_units\":\"screen\"},\"id\":\"0fb93cbd-f6a8-492a-b4b5-63daddf6818b\",\"type\":\"BoxAnnotation\"},{\"attributes\":{\"callback\":null,\"column_names\":[\"y\",\"x\"],\"data\":{\"x\":[\"Ciudades\",\"1991\",\"2001\",\"2010\",\"2017\",\"2019\",\"2029\",\"2039\"],\"y\":[\"Dolavon\",\"2613\",\"2929\",\"3307\",\"3635\",\"3735\",\"4275\",\"4840\"]}},\"id\":\"6f12c9f2-7639-4318-bf15-c20eb2186ba9\",\"type\":\"ColumnDataSource\"},{\"attributes\":{\"fill_color\":{\"value\":\"firebrick\"},\"line_color\":{\"value\":\"firebrick\"},\"x\":{\"field\":\"x\"},\"y\":{\"field\":\"y\"}},\"id\":\"18767c8d-dcc2-4dc3-8b68-bac5961354e7\",\"type\":\"Circle\"},{\"attributes\":{\"data_source\":{\"id\":\"faddc941-8fb9-4b41-8399-9c023a5f8ab1\",\"type\":\"ColumnDataSource\"},\"glyph\":{\"id\":\"3b363efa-f98b-4705-8bba-f112ac3ebcd4\",\"type\":\"Line\"},\"hover_glyph\":null,\"nonselection_glyph\":{\"id\":\"317fcdf6-2c0d-466f-8228-3fee800ec458\",\"type\":\"Line\"},\"selection_glyph\":null},\"id\":\"5df21722-7419-4bb6-8190-67fa0106f617\",\"type\":\"GlyphRenderer\"},{\"attributes\":{\"line_color\":{\"value\":\"#164c71\"},\"line_width\":{\"value\":2},\"x\":{\"field\":\"x\"},\"y\":{\"field\":\"y\"}},\"id\":\"ce9ca5dd-2540-4b33-9f3e-87b44b3ac2ca\",\"type\":\"Line\"},{\"attributes\":{\"callback\":null,\"column_names\":[\"y\",\"x\"],\"data\":{\"x\":[\"Ciudades\",\"1991\",\"2001\",\"2010\",\"2017\",\"2019\",\"2029\",\"2039\"],\"y\":[\"Sarmiento\",\"7209\",\"8292\",\"11124\",\"13981\",\"14925\",\"20690\",\"26125\"]}},\"id\":\"0271aafb-f051-4277-99bd-0709149a268e\",\"type\":\"ColumnDataSource\"},{\"attributes\":{\"fill_alpha\":{\"value\":0.1},\"fill_color\":{\"value\":\"#1f77b4\"},\"line_alpha\":{\"value\":0.1},\"line_color\":{\"value\":\"#1f77b4\"},\"x\":{\"field\":\"x\"},\"y\":{\"field\":\"y\"}},\"id\":\"a397ef62-738a-4499-9ba8-2a0884c6ca7c\",\"type\":\"Circle\"},{\"attributes\":{\"line_alpha\":{\"value\":0.1},\"line_color\":{\"value\":\"#1f77b4\"},\"line_width\":{\"value\":2},\"x\":{\"field\":\"x\"},\"y\":{\"field\":\"y\"}},\"id\":\"317fcdf6-2c0d-466f-8228-3fee800ec458\",\"type\":\"Line\"},{\"attributes\":{\"plot\":{\"id\":\"aecf02c4-d16b-48b9-af71-17552311003b\",\"subtype\":\"Figure\",\"type\":\"Plot\"},\"ticker\":{\"id\":\"e1560e68-3620-4a0f-9ec9-75593a7f39e6\",\"type\":\"BasicTicker\"}},\"id\":\"b567997d-a3c0-493c-9fd9-2d1e38abcf2f\",\"type\":\"Grid\"},{\"attributes\":{\"callback\":null,\"column_names\":[\"y\",\"x\"],\"data\":{\"x\":[\"Ciudades\",\"1991\",\"2001\",\"2010\",\"2017\",\"2019\",\"2029\",\"2039\"],\"y\":[\"Ciudades\",\"1991\",\"2001\",\"2010\",\"2017\",\"2019\",\"2029\",\"2039\"]}},\"id\":\"faddc941-8fb9-4b41-8399-9c023a5f8ab1\",\"type\":\"ColumnDataSource\"},{\"attributes\":{\"data_source\":{\"id\":\"956c6bc1-dc88-4ff1-bb2c-0fdcacc3f08a\",\"type\":\"ColumnDataSource\"},\"glyph\":{\"id\":\"0c66bedf-74d7-426a-953b-1f777fc43e8b\",\"type\":\"Circle\"},\"hover_glyph\":null,\"nonselection_glyph\":{\"id\":\"ad17d341-d704-49d8-a5df-4f6dc98d9301\",\"type\":\"Circle\"},\"selection_glyph\":null},\"id\":\"fafcd117-5fa9-479a-8e4c-0c4fdfd8ab9b\",\"type\":\"GlyphRenderer\"},{\"attributes\":{\"callback\":null,\"column_names\":[\"y\",\"x\"],\"data\":{\"x\":[\"Ciudades\",\"1991\",\"2001\",\"2010\",\"2017\",\"2019\",\"2029\",\"2039\"],\"y\":[\"Puerto Madryn\",\"45047\",\"57791\",\"81995\",\"107610\",\"116301\",\"171493\",\"235899\"]}},\"id\":\"e63891e7-7de7-4356-b7fb-3acee5901082\",\"type\":\"ColumnDataSource\"},{\"attributes\":{\"fill_alpha\":{\"value\":0.1},\"fill_color\":{\"value\":\"#1f77b4\"},\"line_alpha\":{\"value\":0.1},\"line_color\":{\"value\":\"#1f77b4\"},\"x\":{\"field\":\"x\"},\"y\":{\"field\":\"y\"}},\"id\":\"97764d1c-7836-4a3b-8f07-ab12275d1f06\",\"type\":\"Circle\"},{\"attributes\":{\"line_color\":{\"value\":\"magenta\"},\"line_width\":{\"value\":2},\"x\":{\"field\":\"x\"},\"y\":{\"field\":\"y\"}},\"id\":\"0c4b48df-167d-4fff-bcd0-0b9408028564\",\"type\":\"Line\"},{\"attributes\":{\"fill_color\":{\"value\":\"yellow\"},\"line_color\":{\"value\":\"yellow\"},\"x\":{\"field\":\"x\"},\"y\":{\"field\":\"y\"}},\"id\":\"e4695a56-1adf-45dc-9ab1-264e701d2eea\",\"type\":\"Circle\"},{\"attributes\":{\"line_color\":{\"value\":\"cyan\"},\"line_width\":{\"value\":2},\"x\":{\"field\":\"x\"},\"y\":{\"field\":\"y\"}},\"id\":\"552bcf4f-0361-49df-bb9f-a434b2bdc535\",\"type\":\"Line\"},{\"attributes\":{\"fill_color\":{\"value\":\"cyan\"},\"line_color\":{\"value\":\"cyan\"},\"x\":{\"field\":\"x\"},\"y\":{\"field\":\"y\"}},\"id\":\"a1591877-748d-440e-8ea1-678d73a694fe\",\"type\":\"Circle\"},{\"attributes\":{\"callback\":null,\"column_names\":[\"y\",\"x\"],\"data\":{\"x\":[\"Ciudades\",\"1991\",\"2001\",\"2010\",\"2017\",\"2019\",\"2029\",\"2039\"],\"y\":[\"Esquel\",\"23411\",\"28486\",\"32758\",\"36507\",\"37655\",\"43959\",\"51319\"]}},\"id\":\"0688f9d3-2f98-4148-b71f-22c00a6099e2\",\"type\":\"ColumnDataSource\"},{\"attributes\":{\"line_alpha\":{\"value\":0.1},\"line_color\":{\"value\":\"#1f77b4\"},\"line_width\":{\"value\":2},\"x\":{\"field\":\"x\"},\"y\":{\"field\":\"y\"}},\"id\":\"57471765-416a-425f-8cd8-0113044c7839\",\"type\":\"Line\"},{\"attributes\":{\"line_alpha\":{\"value\":0.1},\"line_color\":{\"value\":\"#1f77b4\"},\"line_width\":{\"value\":2},\"x\":{\"field\":\"x\"},\"y\":{\"field\":\"y\"}},\"id\":\"87380d6c-45c4-486d-ad0f-8d766dee2cbe\",\"type\":\"Line\"},{\"attributes\":{\"data_source\":{\"id\":\"b9f12fdb-508b-442e-be67-e49b7bdd37dc\",\"type\":\"ColumnDataSource\"},\"glyph\":{\"id\":\"eee5163b-1ed4-4d95-b619-0c750b2a9a43\",\"type\":\"Circle\"},\"hover_glyph\":null,\"nonselection_glyph\":{\"id\":\"15e910b9-8e93-45b5-bd2a-947138648d67\",\"type\":\"Circle\"},\"selection_glyph\":null},\"id\":\"da9fcdb2-26dd-4629-8769-59e4e0072724\",\"type\":\"GlyphRenderer\"},{\"attributes\":{\"callback\":null,\"column_names\":[\"y\",\"x\"],\"data\":{\"x\":[\"Ciudades\",\"1991\",\"2001\",\"2010\",\"2017\",\"2019\",\"2029\",\"2039\"],\"y\":[\"Camarones\",\"868\",\"1079\",\"1296\",\"1495\",\"1557\",\"1909\",\"2341\"]}},\"id\":\"3f5c90c4-302b-45ed-a33e-27da660ef8e8\",\"type\":\"ColumnDataSource\"},{\"attributes\":{\"fill_alpha\":{\"value\":0.1},\"fill_color\":{\"value\":\"#1f77b4\"},\"line_alpha\":{\"value\":0.1},\"line_color\":{\"value\":\"#1f77b4\"},\"x\":{\"field\":\"x\"},\"y\":{\"field\":\"y\"}},\"id\":\"dfccb3c4-18f8-4d39-9144-9dea07d6c9db\",\"type\":\"Circle\"},{\"attributes\":{\"plot\":{\"id\":\"aecf02c4-d16b-48b9-af71-17552311003b\",\"subtype\":\"Figure\",\"type\":\"Plot\"}},\"id\":\"ed6a59c4-019a-4da5-bcc6-1be6218a4954\",\"type\":\"ResetTool\"},{\"attributes\":{\"callback\":null,\"column_names\":[\"y\",\"x\"],\"data\":{\"x\":[\"Ciudades\",\"1991\",\"2001\",\"2010\",\"2017\",\"2019\",\"2029\",\"2039\"],\"y\":[\"Paso de Indios\",\"864\",\"1087\",\"1264\",\"1421\",\"1469\",\"1737\",\"2054\"]}},\"id\":\"b9f12fdb-508b-442e-be67-e49b7bdd37dc\",\"type\":\"ColumnDataSource\"},{\"attributes\":{\"fill_alpha\":{\"value\":0.1},\"fill_color\":{\"value\":\"#1f77b4\"},\"line_alpha\":{\"value\":0.1},\"line_color\":{\"value\":\"#1f77b4\"},\"x\":{\"field\":\"x\"},\"y\":{\"field\":\"y\"}},\"id\":\"9852f0e1-023c-411c-8fb4-55d91c603e79\",\"type\":\"Circle\"},{\"attributes\":{\"line_alpha\":{\"value\":0.1},\"line_color\":{\"value\":\"#1f77b4\"},\"line_width\":{\"value\":2},\"x\":{\"field\":\"x\"},\"y\":{\"field\":\"y\"}},\"id\":\"62f8459d-a2e6-4a79-ae30-995d5aa7029b\",\"type\":\"Line\"},{\"attributes\":{\"line_alpha\":{\"value\":0.1},\"line_color\":{\"value\":\"#1f77b4\"},\"line_width\":{\"value\":2},\"x\":{\"field\":\"x\"},\"y\":{\"field\":\"y\"}},\"id\":\"47334473-bee5-41c8-a200-df731177fc39\",\"type\":\"Line\"},{\"attributes\":{\"plot\":{\"id\":\"aecf02c4-d16b-48b9-af71-17552311003b\",\"subtype\":\"Figure\",\"type\":\"Plot\"}},\"id\":\"4bcce771-6657-4c34-ac15-791ed6041551\",\"type\":\"WheelZoomTool\"},{\"attributes\":{\"callback\":null,\"column_names\":[\"y\",\"x\"],\"data\":{\"x\":[\"Ciudades\",\"1991\",\"2001\",\"2010\",\"2017\",\"2019\",\"2029\",\"2039\"],\"y\":[\"Trelew\",\"79340\",\"89547\",\"99430\",\"107865\",\"110404\",\"124023\",\"139322\"]}},\"id\":\"956c6bc1-dc88-4ff1-bb2c-0fdcacc3f08a\",\"type\":\"ColumnDataSource\"},{\"attributes\":{\"callback\":null,\"column_names\":[\"y\",\"x\"],\"data\":{\"x\":[\"Ciudades\",\"1991\",\"2001\",\"2010\",\"2017\",\"2019\",\"2029\",\"2039\"],\"y\":[\"Dolavon\",\"2613\",\"2929\",\"3307\",\"3635\",\"3735\",\"4275\",\"4840\"]}},\"id\":\"572b8d2f-a7af-4c54-8c3d-6a8d160f5c49\",\"type\":\"ColumnDataSource\"},{\"attributes\":{\"fill_color\":{\"value\":\"#7c1b65\"},\"line_color\":{\"value\":\"#7c1b65\"},\"x\":{\"field\":\"x\"},\"y\":{\"field\":\"y\"}},\"id\":\"eee5163b-1ed4-4d95-b619-0c750b2a9a43\",\"type\":\"Circle\"},{\"attributes\":{\"data_source\":{\"id\":\"d7350a59-2761-43dd-bac8-c736f5ab3b17\",\"type\":\"ColumnDataSource\"},\"glyph\":{\"id\":\"b32bf68c-48f4-4ead-bb59-72b53339a7fa\",\"type\":\"Line\"},\"hover_glyph\":null,\"nonselection_glyph\":{\"id\":\"dd61a078-c724-4162-97aa-1cbdfe280fb1\",\"type\":\"Line\"},\"selection_glyph\":null},\"id\":\"336e81bf-364e-4a3b-a31c-a29fc3f6ffbb\",\"type\":\"GlyphRenderer\"},{\"attributes\":{},\"id\":\"92e519ec-866a-4382-9a4d-6821f423ee14\",\"type\":\"BasicTickFormatter\"},{\"attributes\":{\"align\":\"center\",\"plot\":null,\"text\":\"Poblaci\\u00f3n - M\\u00e9todo de las Tasas Medias Anuales Decrecientes\",\"text_color\":{\"value\":\"blue\"},\"text_font\":\"times\",\"text_font_size\":{\"value\":\"20px\"},\"text_font_style\":\"italic\"},\"id\":\"eededd6f-69d8-4cf0-a22d-3fafe704c8b4\",\"type\":\"Title\"},{\"attributes\":{\"data_source\":{\"id\":\"0271aafb-f051-4277-99bd-0709149a268e\",\"type\":\"ColumnDataSource\"},\"glyph\":{\"id\":\"5a47ee7a-1f4d-4fe2-a270-bedbcc65ae15\",\"type\":\"Circle\"},\"hover_glyph\":null,\"nonselection_glyph\":{\"id\":\"5375fb01-0167-4cbd-bc4b-ce2419896423\",\"type\":\"Circle\"},\"selection_glyph\":null},\"id\":\"26c3a93a-a8cd-40bd-948d-2b22415631d2\",\"type\":\"GlyphRenderer\"},{\"attributes\":{\"fill_color\":{\"value\":\"pink\"},\"line_color\":{\"value\":\"pink\"},\"x\":{\"field\":\"x\"},\"y\":{\"field\":\"y\"}},\"id\":\"5a47ee7a-1f4d-4fe2-a270-bedbcc65ae15\",\"type\":\"Circle\"},{\"attributes\":{\"callback\":null,\"column_names\":[\"y\",\"x\"],\"data\":{\"x\":[\"Ciudades\",\"1991\",\"2001\",\"2010\",\"2017\",\"2019\",\"2029\",\"2039\"],\"y\":[\"Camarones\",\"868\",\"1079\",\"1296\",\"1495\",\"1557\",\"1909\",\"2341\"]}},\"id\":\"7ecd35dc-5c94-4eba-8548-33e2e1d895dc\",\"type\":\"ColumnDataSource\"},{\"attributes\":{\"data_source\":{\"id\":\"7ecd35dc-5c94-4eba-8548-33e2e1d895dc\",\"type\":\"ColumnDataSource\"},\"glyph\":{\"id\":\"ce9ca5dd-2540-4b33-9f3e-87b44b3ac2ca\",\"type\":\"Line\"},\"hover_glyph\":null,\"nonselection_glyph\":{\"id\":\"57471765-416a-425f-8cd8-0113044c7839\",\"type\":\"Line\"},\"selection_glyph\":null},\"id\":\"6121059e-13f5-4ff4-ab0b-b1410bf4b92c\",\"type\":\"GlyphRenderer\"}],\"root_ids\":[\"aecf02c4-d16b-48b9-af71-17552311003b\"]},\"title\":\"Bokeh Application\",\"version\":\"0.12.0\"}};\n",
       "            var render_items = [{\"docid\":\"d3fe6042-e874-4b36-bd93-f96338f5f369\",\"elementid\":\"7b6f123b-58f8-4816-acbe-51ba1c16bf7c\",\"modelid\":\"aecf02c4-d16b-48b9-af71-17552311003b\",\"notebook_comms_target\":\"bf6456db-3eed-47a3-bf53-d595685658ef\"}];\n",
       "            \n",
       "            Bokeh.embed.embed_items(docs_json, render_items);\n",
       "        });\n",
       "      },\n",
       "      function(Bokeh) {\n",
       "      }\n",
       "    ];\n",
       "  \n",
       "    function run_inline_js() {\n",
       "      for (var i = 0; i < inline_js.length; i++) {\n",
       "        inline_js[i](window.Bokeh);\n",
       "      }\n",
       "    }\n",
       "  \n",
       "    if (window._bokeh_is_loading === 0) {\n",
       "      console.log(\"Bokeh: BokehJS loaded, going straight to plotting\");\n",
       "      run_inline_js();\n",
       "    } else {\n",
       "      load_libs(js_urls, function() {\n",
       "        console.log(\"Bokeh: BokehJS plotting callback run at\", now());\n",
       "        run_inline_js();\n",
       "      });\n",
       "    }\n",
       "  }(this));\n",
       "</script>"
      ]
     },
     "metadata": {},
     "output_type": "display_data"
    },
    {
     "data": {
      "text/html": [
       "<p><code>&lt;Bokeh Notebook handle for <strong>In[12]</strong>&gt;</code></p>"
      ],
      "text/plain": [
       "<bokeh.io._CommsHandle at 0xaf49824c>"
      ]
     },
     "execution_count": 12,
     "metadata": {},
     "output_type": "execute_result"
    }
   ],
   "source": [
    "x = tiempo\n",
    "ciudades=[\"Comodoro Rivadavia\",\"Trelew\",\"Puerto Madryn\",\"Esquel\",\"Sarmiento\",\"Rawson\",\"Dolavon\",\"Gaiman\",\"Gobernador Costa\",\"Cholila\",\"Camarones\",\"Paso de Indios\",\"Paso del Sapo\"]\n",
    "colores=[\"red\",\"orange\",\"blue\",\"green\",\"yellow\",\"pink\",\"navy\",\"firebrick\",\"cyan\",\"magenta\",\"olive\",\"#164c71\",\"#7c1b65\"]\n",
    "\n",
    "p = figure(title=\"Población - Método de las Tasas Medias Anuales Decrecientes\",plot_width=900)\n",
    "p.title.align = \"center\"\n",
    "p.title.text_color = \"blue\"\n",
    "p.title.text_font = \"times\"\n",
    "p.title.text_font_style = \"italic\"\n",
    "p.title.text_font_size = \"20px\"\n",
    "\n",
    "p.left[0].formatter.use_scientific = False\n",
    "\n",
    "for i in range(len(ciudades)):\n",
    "    p.circle(x, proyecciones[i], legend=ciudades[i],fill_color=colores[i],line_color=colores[i])\n",
    "    p.line(x, proyecciones[i], legend=ciudades[i],line_color=colores[i], line_width=2)\n",
    "\n",
    "p.xaxis.axis_label = 'Tiempo'\n",
    "p.yaxis.axis_label = 'Población'\n",
    "\n",
    "show(p)"
   ]
  }
 ],
 "metadata": {
  "anaconda-cloud": {},
  "kernelspec": {
   "display_name": "Python [Root]",
   "language": "python",
   "name": "Python [Root]"
  },
  "language_info": {
   "codemirror_mode": {
    "name": "ipython",
    "version": 3
   },
   "file_extension": ".py",
   "mimetype": "text/x-python",
   "name": "python",
   "nbconvert_exporter": "python",
   "pygments_lexer": "ipython3",
   "version": "3.5.2"
  }
 },
 "nbformat": 4,
 "nbformat_minor": 2
}
