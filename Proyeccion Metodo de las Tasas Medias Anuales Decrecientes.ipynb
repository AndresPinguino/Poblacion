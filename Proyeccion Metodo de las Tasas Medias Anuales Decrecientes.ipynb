{
 "cells": [
  {
   "cell_type": "code",
   "execution_count": 14,
   "metadata": {
    "collapsed": false
   },
   "outputs": [
    {
     "data": {
      "text/html": [
       "<script>\n",
       "code_show=true; \n",
       "function code_toggle() {\n",
       " if (code_show){\n",
       " $('div.input').hide();\n",
       " } else {\n",
       " $('div.input').show();\n",
       " }\n",
       " code_show = !code_show\n",
       "} \n",
       "$( document ).ready(code_toggle);\n",
       "</script>\n",
       "<form action=\"javascript:code_toggle()\"><input type=\"submit\" value=\"Click aquí para ver el código.\"></form>"
      ],
      "text/plain": [
       "<IPython.core.display.HTML object>"
      ]
     },
     "execution_count": 14,
     "metadata": {},
     "output_type": "execute_result"
    }
   ],
   "source": [
    "from IPython.display import HTML\n",
    "\n",
    "HTML('''<script>\n",
    "code_show=true; \n",
    "function code_toggle() {\n",
    " if (code_show){\n",
    " $('div.input').hide();\n",
    " } else {\n",
    " $('div.input').show();\n",
    " }\n",
    " code_show = !code_show\n",
    "} \n",
    "$( document ).ready(code_toggle);\n",
    "</script>\n",
    "<form action=\"javascript:code_toggle()\"><input type=\"submit\" value=\"Click aquí para ver el código.\"></form>''')"
   ]
  },
  {
   "cell_type": "code",
   "execution_count": 15,
   "metadata": {
    "collapsed": false
   },
   "outputs": [
    {
     "data": {
      "text/html": [
       "<p align=\"center\"> <font size=\"5\" color=\"#0404B4\" face=\"sans-serif\"> <b> Método de las Tasas Medias Anuales Decrecientes <b> </font> </p>"
      ],
      "text/plain": [
       "<IPython.core.display.HTML object>"
      ]
     },
     "execution_count": 15,
     "metadata": {},
     "output_type": "execute_result"
    }
   ],
   "source": [
    "HTML(\"\"\"<p align=\"center\"> <font size=\"5\" color=\"#0404B4\" face=\"sans-serif\"> <b> Método de las Tasas Medias Anuales Decrecientes <b> </font> </p>\"\"\")"
   ]
  },
  {
   "cell_type": "markdown",
   "metadata": {},
   "source": [
    "# # Entrada de valores de los tres últimos censos"
   ]
  },
  {
   "cell_type": "code",
   "execution_count": 16,
   "metadata": {
    "collapsed": true
   },
   "outputs": [],
   "source": [
    "censos = [1991,2001,2010]\n",
    "\n",
    "poblacion0 = [125725,137061,177083] # Comodoro Rivadavia\n",
    "poblacion1 = [79340,89547,99430] # Trelew\n",
    "poblacion2 = [45047,57791,81995] # Puerto Madryn\n",
    "poblacion3 = [23411,28486,32758] # Esquel\n",
    "poblacion4 = [7209,8292,11124] # Sarmiento\n",
    "poblacion5 = [20674,26183,31787] # Rawson\n",
    "poblacion6 = [2613,2929,3307] # Dolavon\n",
    "poblacion7 = [4642,5753,6627] # Gaiman\n",
    "poblacion8 = [1913,2185,2374] # Gobernador Costa\n",
    "poblacion9 = [1527,1981,2228] # Cholila\n",
    "poblacion10 = [868,1079,1296] # Camarones\n",
    "poblacion11 = [864,1087,1264] # Paso de Indios\n",
    "poblacion12 = [322,384,396] # Paso del sapo\n",
    "poblaciones = [poblacion0, poblacion1, poblacion2, poblacion3, poblacion4, poblacion5, poblacion6, poblacion7, poblacion8, poblacion9, poblacion10, poblacion11, poblacion12]\n",
    "\n",
    "año_actual= 2017"
   ]
  },
  {
   "cell_type": "markdown",
   "metadata": {},
   "source": [
    "# # Armamos una lista de \"tiempos\""
   ]
  },
  {
   "cell_type": "code",
   "execution_count": 17,
   "metadata": {
    "collapsed": true
   },
   "outputs": [],
   "source": [
    "tiempo = [0] * 7\n",
    "for i in range(len(censos)):\n",
    "    tiempo[i] = censos[i]\n",
    "\n",
    "tiempo[3]=año_actual\n",
    "tiempo[4]=tiempo[3]+2\n",
    "tiempo[5]=tiempo[4]+10\n",
    "tiempo[6]=tiempo[5]+10"
   ]
  },
  {
   "cell_type": "markdown",
   "metadata": {},
   "source": [
    "# # Resolvemos el método devolviendo una lista de \"datos\""
   ]
  },
  {
   "cell_type": "code",
   "execution_count": 18,
   "metadata": {
    "collapsed": false
   },
   "outputs": [],
   "source": [
    "def metodo_tasas_medias_anuales_decrecientes(poblacion, tiempo):\n",
    "\n",
    "    datos = [0] * 9\n",
    "    for i in range(len(poblacion)):\n",
    "        datos[i] = poblacion[i]\n",
    "\n",
    "\n",
    "    iI=((datos[1]/datos[0])**(1/(tiempo[1]-tiempo[0])))-1\n",
    "    iII=((datos[2]/datos[1])**(1/(tiempo[2]-tiempo[1])))-1\n",
    "\n",
    "\n",
    "    i1=iII\n",
    "    i1=round(i1, 4)\n",
    "\n",
    "\n",
    "    Pa=datos[2]*(1+i1)**(tiempo[3]-tiempo[2])\n",
    "    Pa=round(Pa,0)\n",
    "    Pa=int(Pa)\n",
    "\n",
    "\n",
    "    P0=Pa*(1+i1)**(tiempo[4]-tiempo[3])\n",
    "    P0=round(P0,0)\n",
    "    P0=int(P0)\n",
    "\n",
    "\n",
    "    P10=P0*(1+i1)**(tiempo[5]-tiempo[4])\n",
    "    P10=round(P10,0)\n",
    "    P10=int(P10)\n",
    "\n",
    "\n",
    "    i2=(iI+iII)/2\n",
    "    i2=round(i2,4)\n",
    "\n",
    "\n",
    "    if (i2<=i1):\n",
    "        i2=i2\n",
    "    else:\n",
    "        i2=i1\n",
    "\n",
    "    P20=P10*(1+i2)**(tiempo[6]-tiempo[5])\n",
    "    P20=round(P20,0)\n",
    "    P20=int(P20)\n",
    "\n",
    "\n",
    "    datos[3]=Pa\n",
    "    datos[4]=P0\n",
    "    datos[5]=P10\n",
    "    datos[6]=P20\n",
    "    datos[7]=i1\n",
    "    datos[8]=i2\n",
    "\n",
    "    return datos"
   ]
  },
  {
   "cell_type": "markdown",
   "metadata": {},
   "source": [
    "# # Obtenemos las \"proyecciones\" para cada \"poblacion\""
   ]
  },
  {
   "cell_type": "code",
   "execution_count": 19,
   "metadata": {
    "collapsed": false,
    "scrolled": true
   },
   "outputs": [],
   "source": [
    "proyecciones = [0] * len(poblaciones)\n",
    "\n",
    "for i in range(len(poblaciones)):\n",
    "    proyecciones[i] = metodo_tasas_medias_anuales_decrecientes(poblaciones[i], tiempo)\n",
    "    #print (proyecciones[i])"
   ]
  },
  {
   "cell_type": "code",
   "execution_count": 20,
   "metadata": {
    "collapsed": true
   },
   "outputs": [],
   "source": [
    "# Para evitar que las listas se modifiquen y poder graficar, las convertimos a tuplas y de nuevo a listas\n",
    "# recortamos con pop() los datos que no usamos en los gráficos\n",
    "\n",
    "tuple_of_tuples = tuple(tuple(x) for x in proyecciones)\n",
    "\n",
    "lis_of_list = list(list(x) for x in tuple_of_tuples)\n",
    "\n",
    "for i in range(len(lis_of_list)):\n",
    "    lis_of_list[i].pop()\n",
    "    lis_of_list[i].pop()"
   ]
  },
  {
   "cell_type": "markdown",
   "metadata": {},
   "source": [
    "# # Armamos una tabla para mostrar los resultados"
   ]
  },
  {
   "cell_type": "code",
   "execution_count": 21,
   "metadata": {
    "collapsed": true
   },
   "outputs": [],
   "source": [
    "import pandas as pd"
   ]
  },
  {
   "cell_type": "code",
   "execution_count": 22,
   "metadata": {
    "collapsed": false
   },
   "outputs": [
    {
     "data": {
      "text/html": [
       "<div>\n",
       "<table border=\"1\" class=\"dataframe\">\n",
       "  <thead>\n",
       "    <tr style=\"text-align: right;\">\n",
       "      <th></th>\n",
       "      <th>Ciudades</th>\n",
       "      <th>Censo 1</th>\n",
       "      <th>Censo 2</th>\n",
       "      <th>Censo 3</th>\n",
       "      <th>Pactual</th>\n",
       "      <th>P0</th>\n",
       "      <th>P10</th>\n",
       "      <th>P20</th>\n",
       "      <th>i1</th>\n",
       "      <th>i2 minima</th>\n",
       "    </tr>\n",
       "  </thead>\n",
       "  <tbody>\n",
       "    <tr>\n",
       "      <th>0</th>\n",
       "      <td>Comodoro Rivadavia</td>\n",
       "      <td>125725</td>\n",
       "      <td>137061</td>\n",
       "      <td>177083</td>\n",
       "      <td>216167</td>\n",
       "      <td>228842</td>\n",
       "      <td>304276</td>\n",
       "      <td>366570</td>\n",
       "      <td>0.0289</td>\n",
       "      <td>0.0188</td>\n",
       "    </tr>\n",
       "    <tr>\n",
       "      <th>1</th>\n",
       "      <td>Trelew</td>\n",
       "      <td>79340</td>\n",
       "      <td>89547</td>\n",
       "      <td>99430</td>\n",
       "      <td>107865</td>\n",
       "      <td>110404</td>\n",
       "      <td>124023</td>\n",
       "      <td>139322</td>\n",
       "      <td>0.0117</td>\n",
       "      <td>0.0117</td>\n",
       "    </tr>\n",
       "    <tr>\n",
       "      <th>2</th>\n",
       "      <td>Puerto Madryn</td>\n",
       "      <td>45047</td>\n",
       "      <td>57791</td>\n",
       "      <td>81995</td>\n",
       "      <td>107610</td>\n",
       "      <td>116301</td>\n",
       "      <td>171493</td>\n",
       "      <td>235899</td>\n",
       "      <td>0.0396</td>\n",
       "      <td>0.0324</td>\n",
       "    </tr>\n",
       "    <tr>\n",
       "      <th>3</th>\n",
       "      <td>Esquel</td>\n",
       "      <td>23411</td>\n",
       "      <td>28486</td>\n",
       "      <td>32758</td>\n",
       "      <td>36507</td>\n",
       "      <td>37655</td>\n",
       "      <td>43959</td>\n",
       "      <td>51319</td>\n",
       "      <td>0.0156</td>\n",
       "      <td>0.0156</td>\n",
       "    </tr>\n",
       "    <tr>\n",
       "      <th>4</th>\n",
       "      <td>Sarmiento</td>\n",
       "      <td>7209</td>\n",
       "      <td>8292</td>\n",
       "      <td>11124</td>\n",
       "      <td>13981</td>\n",
       "      <td>14925</td>\n",
       "      <td>20690</td>\n",
       "      <td>26125</td>\n",
       "      <td>0.0332</td>\n",
       "      <td>0.0236</td>\n",
       "    </tr>\n",
       "    <tr>\n",
       "      <th>5</th>\n",
       "      <td>Rawson</td>\n",
       "      <td>20674</td>\n",
       "      <td>26183</td>\n",
       "      <td>31787</td>\n",
       "      <td>36967</td>\n",
       "      <td>38596</td>\n",
       "      <td>47885</td>\n",
       "      <td>59410</td>\n",
       "      <td>0.0218</td>\n",
       "      <td>0.0218</td>\n",
       "    </tr>\n",
       "    <tr>\n",
       "      <th>6</th>\n",
       "      <td>Dolavon</td>\n",
       "      <td>2613</td>\n",
       "      <td>2929</td>\n",
       "      <td>3307</td>\n",
       "      <td>3635</td>\n",
       "      <td>3735</td>\n",
       "      <td>4275</td>\n",
       "      <td>4840</td>\n",
       "      <td>0.0136</td>\n",
       "      <td>0.0125</td>\n",
       "    </tr>\n",
       "    <tr>\n",
       "      <th>7</th>\n",
       "      <td>Gaiman</td>\n",
       "      <td>4642</td>\n",
       "      <td>5753</td>\n",
       "      <td>6627</td>\n",
       "      <td>7396</td>\n",
       "      <td>7632</td>\n",
       "      <td>8927</td>\n",
       "      <td>10442</td>\n",
       "      <td>0.0158</td>\n",
       "      <td>0.0158</td>\n",
       "    </tr>\n",
       "    <tr>\n",
       "      <th>8</th>\n",
       "      <td>Gobernador Costa</td>\n",
       "      <td>1913</td>\n",
       "      <td>2185</td>\n",
       "      <td>2374</td>\n",
       "      <td>2533</td>\n",
       "      <td>2580</td>\n",
       "      <td>2830</td>\n",
       "      <td>3104</td>\n",
       "      <td>0.0093</td>\n",
       "      <td>0.0093</td>\n",
       "    </tr>\n",
       "    <tr>\n",
       "      <th>9</th>\n",
       "      <td>Cholila</td>\n",
       "      <td>1527</td>\n",
       "      <td>1981</td>\n",
       "      <td>2228</td>\n",
       "      <td>2441</td>\n",
       "      <td>2505</td>\n",
       "      <td>2853</td>\n",
       "      <td>3250</td>\n",
       "      <td>0.0131</td>\n",
       "      <td>0.0131</td>\n",
       "    </tr>\n",
       "    <tr>\n",
       "      <th>10</th>\n",
       "      <td>Camarones</td>\n",
       "      <td>868</td>\n",
       "      <td>1079</td>\n",
       "      <td>1296</td>\n",
       "      <td>1495</td>\n",
       "      <td>1557</td>\n",
       "      <td>1909</td>\n",
       "      <td>2341</td>\n",
       "      <td>0.0206</td>\n",
       "      <td>0.0206</td>\n",
       "    </tr>\n",
       "    <tr>\n",
       "      <th>11</th>\n",
       "      <td>Paso de Indios</td>\n",
       "      <td>864</td>\n",
       "      <td>1087</td>\n",
       "      <td>1264</td>\n",
       "      <td>1421</td>\n",
       "      <td>1469</td>\n",
       "      <td>1737</td>\n",
       "      <td>2054</td>\n",
       "      <td>0.0169</td>\n",
       "      <td>0.0169</td>\n",
       "    </tr>\n",
       "    <tr>\n",
       "      <th>12</th>\n",
       "      <td>Paso del Sapo</td>\n",
       "      <td>322</td>\n",
       "      <td>384</td>\n",
       "      <td>396</td>\n",
       "      <td>406</td>\n",
       "      <td>409</td>\n",
       "      <td>423</td>\n",
       "      <td>438</td>\n",
       "      <td>0.0034</td>\n",
       "      <td>0.0034</td>\n",
       "    </tr>\n",
       "    <tr>\n",
       "      <th>13</th>\n",
       "      <td>Años</td>\n",
       "      <td>1991</td>\n",
       "      <td>2001</td>\n",
       "      <td>2010</td>\n",
       "      <td>2017</td>\n",
       "      <td>2019</td>\n",
       "      <td>2029</td>\n",
       "      <td>2039</td>\n",
       "      <td></td>\n",
       "      <td></td>\n",
       "    </tr>\n",
       "  </tbody>\n",
       "</table>\n",
       "</div>"
      ],
      "text/plain": [
       "              Ciudades Censo 1 Censo 2 Censo 3 Pactual      P0     P10  \\\n",
       "0   Comodoro Rivadavia  125725  137061  177083  216167  228842  304276   \n",
       "1               Trelew   79340   89547   99430  107865  110404  124023   \n",
       "2        Puerto Madryn   45047   57791   81995  107610  116301  171493   \n",
       "3               Esquel   23411   28486   32758   36507   37655   43959   \n",
       "4            Sarmiento    7209    8292   11124   13981   14925   20690   \n",
       "5               Rawson   20674   26183   31787   36967   38596   47885   \n",
       "6              Dolavon    2613    2929    3307    3635    3735    4275   \n",
       "7               Gaiman    4642    5753    6627    7396    7632    8927   \n",
       "8     Gobernador Costa    1913    2185    2374    2533    2580    2830   \n",
       "9              Cholila    1527    1981    2228    2441    2505    2853   \n",
       "10           Camarones     868    1079    1296    1495    1557    1909   \n",
       "11      Paso de Indios     864    1087    1264    1421    1469    1737   \n",
       "12       Paso del Sapo     322     384     396     406     409     423   \n",
       "13                Años    1991    2001    2010    2017    2019    2029   \n",
       "\n",
       "       P20      i1 i2 minima  \n",
       "0   366570  0.0289    0.0188  \n",
       "1   139322  0.0117    0.0117  \n",
       "2   235899  0.0396    0.0324  \n",
       "3    51319  0.0156    0.0156  \n",
       "4    26125  0.0332    0.0236  \n",
       "5    59410  0.0218    0.0218  \n",
       "6     4840  0.0136    0.0125  \n",
       "7    10442  0.0158    0.0158  \n",
       "8     3104  0.0093    0.0093  \n",
       "9     3250  0.0131    0.0131  \n",
       "10    2341  0.0206    0.0206  \n",
       "11    2054  0.0169    0.0169  \n",
       "12     438  0.0034    0.0034  \n",
       "13    2039                    "
      ]
     },
     "execution_count": 22,
     "metadata": {},
     "output_type": "execute_result"
    }
   ],
   "source": [
    "ciudades=[\"Comodoro Rivadavia\",\"Trelew\",\"Puerto Madryn\",\"Esquel\",\"Sarmiento\",\"Rawson\",\"Dolavon\",\"Gaiman\",\"Gobernador Costa\",\"Cholila\",\"Camarones\",\"Paso de Indios\",\"Paso del Sapo\"]\n",
    "labels = ['Ciudades']\n",
    "df = pd.DataFrame(ciudades, columns=labels)\n",
    "\n",
    "labels2=['Censo 1', 'Censo 2', 'Censo 3', 'Pactual', 'P0', 'P10','P20','i1','i2 minima']\n",
    "df2 = pd.DataFrame.from_records(proyecciones, columns=labels2)\n",
    "\n",
    "result = pd.concat([df, df2], axis=1, join_axes=[df.index])\n",
    "\n",
    "labels3=labels+labels2\n",
    "s2 = pd.Series(['Años', '1991', '2001', '2010', '2017', '2019', '2029', '2039', ' ',' '], index=labels3)\n",
    "\n",
    "result = result.append(s2, ignore_index=True)\n",
    "result"
   ]
  },
  {
   "cell_type": "markdown",
   "metadata": {},
   "source": [
    "# # Importamos librerias para graficar"
   ]
  },
  {
   "cell_type": "code",
   "execution_count": 23,
   "metadata": {
    "collapsed": false
   },
   "outputs": [
    {
     "data": {
      "text/html": [
       "\n",
       "    <div class=\"bk-root\">\n",
       "        <a href=\"http://bokeh.pydata.org\" target=\"_blank\" class=\"bk-logo bk-logo-small bk-logo-notebook\"></a>\n",
       "        <span id=\"9f67f059-689e-4586-9d15-17ad9617ac4e\">Loading BokehJS ...</span>\n",
       "    </div>"
      ]
     },
     "metadata": {},
     "output_type": "display_data"
    },
    {
     "data": {
      "application/javascript": [
       "\n",
       "(function(global) {\n",
       "  function now() {\n",
       "    return new Date();\n",
       "  }\n",
       "\n",
       "  if (typeof (window._bokeh_onload_callbacks) === \"undefined\") {\n",
       "    window._bokeh_onload_callbacks = [];\n",
       "  }\n",
       "\n",
       "  function run_callbacks() {\n",
       "    window._bokeh_onload_callbacks.forEach(function(callback) { callback() });\n",
       "    delete window._bokeh_onload_callbacks\n",
       "    console.info(\"Bokeh: all callbacks have finished\");\n",
       "  }\n",
       "\n",
       "  function load_libs(js_urls, callback) {\n",
       "    window._bokeh_onload_callbacks.push(callback);\n",
       "    if (window._bokeh_is_loading > 0) {\n",
       "      console.log(\"Bokeh: BokehJS is being loaded, scheduling callback at\", now());\n",
       "      return null;\n",
       "    }\n",
       "    if (js_urls == null || js_urls.length === 0) {\n",
       "      run_callbacks();\n",
       "      return null;\n",
       "    }\n",
       "    console.log(\"Bokeh: BokehJS not loaded, scheduling load and callback at\", now());\n",
       "    window._bokeh_is_loading = js_urls.length;\n",
       "    for (var i = 0; i < js_urls.length; i++) {\n",
       "      var url = js_urls[i];\n",
       "      var s = document.createElement('script');\n",
       "      s.src = url;\n",
       "      s.async = false;\n",
       "      s.onreadystatechange = s.onload = function() {\n",
       "        window._bokeh_is_loading--;\n",
       "        if (window._bokeh_is_loading === 0) {\n",
       "          console.log(\"Bokeh: all BokehJS libraries loaded\");\n",
       "          run_callbacks()\n",
       "        }\n",
       "      };\n",
       "      s.onerror = function() {\n",
       "        console.warn(\"failed to load library \" + url);\n",
       "      };\n",
       "      console.log(\"Bokeh: injecting script tag for BokehJS library: \", url);\n",
       "      document.getElementsByTagName(\"head\")[0].appendChild(s);\n",
       "    }\n",
       "  };\n",
       "\n",
       "  var js_urls = ['https://cdn.pydata.org/bokeh/release/bokeh-0.12.0.min.js', 'https://cdn.pydata.org/bokeh/release/bokeh-widgets-0.12.0.min.js', 'https://cdn.pydata.org/bokeh/release/bokeh-compiler-0.12.0.min.js'];\n",
       "\n",
       "  var inline_js = [\n",
       "    function(Bokeh) {\n",
       "      Bokeh.set_log_level(\"info\");\n",
       "    },\n",
       "    \n",
       "    function(Bokeh) {\n",
       "      Bokeh.$(\"#9f67f059-689e-4586-9d15-17ad9617ac4e\").text(\"BokehJS successfully loaded\");\n",
       "    },\n",
       "    function(Bokeh) {\n",
       "      console.log(\"Bokeh: injecting CSS: https://cdn.pydata.org/bokeh/release/bokeh-0.12.0.min.css\");\n",
       "      Bokeh.embed.inject_css(\"https://cdn.pydata.org/bokeh/release/bokeh-0.12.0.min.css\");\n",
       "      console.log(\"Bokeh: injecting CSS: https://cdn.pydata.org/bokeh/release/bokeh-widgets-0.12.0.min.css\");\n",
       "      Bokeh.embed.inject_css(\"https://cdn.pydata.org/bokeh/release/bokeh-widgets-0.12.0.min.css\");\n",
       "    }\n",
       "  ];\n",
       "\n",
       "  function run_inline_js() {\n",
       "    for (var i = 0; i < inline_js.length; i++) {\n",
       "      inline_js[i](window.Bokeh);\n",
       "    }\n",
       "  }\n",
       "\n",
       "  if (window._bokeh_is_loading === 0) {\n",
       "    console.log(\"Bokeh: BokehJS loaded, going straight to plotting\");\n",
       "    run_inline_js();\n",
       "  } else {\n",
       "    load_libs(js_urls, function() {\n",
       "      console.log(\"Bokeh: BokehJS plotting callback run at\", now());\n",
       "      run_inline_js();\n",
       "    });\n",
       "  }\n",
       "}(this));"
      ]
     },
     "metadata": {},
     "output_type": "display_data"
    }
   ],
   "source": [
    "from bokeh.io import push_notebook, show, output_notebook\n",
    "from bokeh.plotting import figure\n",
    "output_notebook()"
   ]
  },
  {
   "cell_type": "markdown",
   "metadata": {},
   "source": [
    "# # Definimos estilos para usar en los gráficos"
   ]
  },
  {
   "cell_type": "code",
   "execution_count": 24,
   "metadata": {
    "collapsed": false
   },
   "outputs": [
    {
     "data": {
      "text/html": [
       "\n",
       "\n",
       "    <div class=\"bk-root\">\n",
       "        <div class=\"plotdiv\" id=\"d8039fa2-b461-4dc2-9b3f-4a3c332123a2\"></div>\n",
       "    </div>\n",
       "<script type=\"text/javascript\">\n",
       "  \n",
       "  (function(global) {\n",
       "    function now() {\n",
       "      return new Date();\n",
       "    }\n",
       "  \n",
       "    if (typeof (window._bokeh_onload_callbacks) === \"undefined\") {\n",
       "      window._bokeh_onload_callbacks = [];\n",
       "    }\n",
       "  \n",
       "    function run_callbacks() {\n",
       "      window._bokeh_onload_callbacks.forEach(function(callback) { callback() });\n",
       "      delete window._bokeh_onload_callbacks\n",
       "      console.info(\"Bokeh: all callbacks have finished\");\n",
       "    }\n",
       "  \n",
       "    function load_libs(js_urls, callback) {\n",
       "      window._bokeh_onload_callbacks.push(callback);\n",
       "      if (window._bokeh_is_loading > 0) {\n",
       "        console.log(\"Bokeh: BokehJS is being loaded, scheduling callback at\", now());\n",
       "        return null;\n",
       "      }\n",
       "      if (js_urls == null || js_urls.length === 0) {\n",
       "        run_callbacks();\n",
       "        return null;\n",
       "      }\n",
       "      console.log(\"Bokeh: BokehJS not loaded, scheduling load and callback at\", now());\n",
       "      window._bokeh_is_loading = js_urls.length;\n",
       "      for (var i = 0; i < js_urls.length; i++) {\n",
       "        var url = js_urls[i];\n",
       "        var s = document.createElement('script');\n",
       "        s.src = url;\n",
       "        s.async = false;\n",
       "        s.onreadystatechange = s.onload = function() {\n",
       "          window._bokeh_is_loading--;\n",
       "          if (window._bokeh_is_loading === 0) {\n",
       "            console.log(\"Bokeh: all BokehJS libraries loaded\");\n",
       "            run_callbacks()\n",
       "          }\n",
       "        };\n",
       "        s.onerror = function() {\n",
       "          console.warn(\"failed to load library \" + url);\n",
       "        };\n",
       "        console.log(\"Bokeh: injecting script tag for BokehJS library: \", url);\n",
       "        document.getElementsByTagName(\"head\")[0].appendChild(s);\n",
       "      }\n",
       "    };var element = document.getElementById(\"d8039fa2-b461-4dc2-9b3f-4a3c332123a2\");\n",
       "    if (element == null) {\n",
       "      console.log(\"Bokeh: ERROR: autoload.js configured with elementid 'd8039fa2-b461-4dc2-9b3f-4a3c332123a2' but no matching script tag was found. \")\n",
       "      return false;\n",
       "    }\n",
       "  \n",
       "    var js_urls = [];\n",
       "  \n",
       "    var inline_js = [\n",
       "      function(Bokeh) {\n",
       "        Bokeh.$(function() {\n",
       "            var docs_json = {\"c30a3d31-3caa-4286-bd4e-f39a3eee41f8\":{\"roots\":{\"references\":[{\"attributes\":{\"callback\":null,\"column_names\":[\"y\",\"x\"],\"data\":{\"x\":[1991,2001,2010,2017,2019,2029,2039],\"y\":[125725,137061,177083,216167,228842,304276,366570]}},\"id\":\"f45bf90e-01e3-482b-9d6c-3baddb4cdd5d\",\"type\":\"ColumnDataSource\"},{\"attributes\":{},\"id\":\"baf27c49-af0b-4a12-9e31-ab023d184da8\",\"type\":\"BasicTickFormatter\"},{\"attributes\":{\"data_source\":{\"id\":\"2505f4d4-a0fa-4a5c-98de-0f285c7379d6\",\"type\":\"ColumnDataSource\"},\"glyph\":{\"id\":\"e626f401-465d-49ba-ad07-cda354a5efbb\",\"type\":\"Line\"},\"hover_glyph\":null,\"nonselection_glyph\":{\"id\":\"ed017ee6-68d9-45d4-bd72-e3702b4d8154\",\"type\":\"Line\"},\"selection_glyph\":null},\"id\":\"af7dd6b7-34dd-4297-8b09-dc153a913d2e\",\"type\":\"GlyphRenderer\"},{\"attributes\":{\"line_color\":{\"value\":\"olive\"},\"line_width\":{\"value\":2},\"x\":{\"field\":\"x\"},\"y\":{\"field\":\"y\"}},\"id\":\"29a04f35-8db8-4ea4-be06-55e2fc09710e\",\"type\":\"Line\"},{\"attributes\":{\"fill_alpha\":{\"value\":0.1},\"fill_color\":{\"value\":\"#1f77b4\"},\"line_alpha\":{\"value\":0.1},\"line_color\":{\"value\":\"#1f77b4\"},\"x\":{\"field\":\"x\"},\"y\":{\"field\":\"y\"}},\"id\":\"367d2ccf-d28c-41e0-90a1-d0a771115629\",\"type\":\"Circle\"},{\"attributes\":{\"line_color\":{\"value\":\"yellow\"},\"line_width\":{\"value\":2},\"x\":{\"field\":\"x\"},\"y\":{\"field\":\"y\"}},\"id\":\"507e2c2f-20ca-4130-82a0-fa41cb1be13d\",\"type\":\"Line\"},{\"attributes\":{\"callback\":null,\"column_names\":[\"y\",\"x\"],\"data\":{\"x\":[1991,2001,2010,2017,2019,2029,2039],\"y\":[45047,57791,81995,107610,116301,171493,235899]}},\"id\":\"1aeab2f0-b564-4b1a-bd47-b6a7d93295c8\",\"type\":\"ColumnDataSource\"},{\"attributes\":{\"callback\":null,\"column_names\":[\"y\",\"x\"],\"data\":{\"x\":[1991,2001,2010,2017,2019,2029,2039],\"y\":[322,384,396,406,409,423,438]}},\"id\":\"417d9acb-2335-492b-a13a-be976a3ea3c7\",\"type\":\"ColumnDataSource\"},{\"attributes\":{\"callback\":null,\"column_names\":[\"y\",\"x\"],\"data\":{\"x\":[1991,2001,2010,2017,2019,2029,2039],\"y\":[20674,26183,31787,36967,38596,47885,59410]}},\"id\":\"74c251d3-92d2-48cf-9095-f4bdb249264c\",\"type\":\"ColumnDataSource\"},{\"attributes\":{\"fill_alpha\":{\"value\":0.1},\"fill_color\":{\"value\":\"#1f77b4\"},\"line_alpha\":{\"value\":0.1},\"line_color\":{\"value\":\"#1f77b4\"},\"x\":{\"field\":\"x\"},\"y\":{\"field\":\"y\"}},\"id\":\"cd1db2ac-ed99-4f0f-80cb-8a69c25b4e8f\",\"type\":\"Circle\"},{\"attributes\":{\"data_source\":{\"id\":\"c23b7d02-3767-426f-8ce3-7e037641b621\",\"type\":\"ColumnDataSource\"},\"glyph\":{\"id\":\"1e1cb2ea-d365-4427-a596-f6f7cd445bb5\",\"type\":\"Circle\"},\"hover_glyph\":null,\"nonselection_glyph\":{\"id\":\"69a89565-0a72-4f8f-a938-551f89c4ebe9\",\"type\":\"Circle\"},\"selection_glyph\":null},\"id\":\"99a0a538-4997-4731-b28f-74d1304256f9\",\"type\":\"GlyphRenderer\"},{\"attributes\":{\"line_color\":{\"value\":\"blue\"},\"line_width\":{\"value\":2},\"x\":{\"field\":\"x\"},\"y\":{\"field\":\"y\"}},\"id\":\"783ae624-7740-4129-8f3e-127753194ebb\",\"type\":\"Line\"},{\"attributes\":{\"callback\":null,\"column_names\":[\"y\",\"x\"],\"data\":{\"x\":[1991,2001,2010,2017,2019,2029,2039],\"y\":[20674,26183,31787,36967,38596,47885,59410]}},\"id\":\"a31e438b-f6ab-4cfa-8491-5f8c1cc44ee5\",\"type\":\"ColumnDataSource\"},{\"attributes\":{\"callback\":null,\"column_names\":[\"y\",\"x\"],\"data\":{\"x\":[1991,2001,2010,2017,2019,2029,2039],\"y\":[322,384,396,406,409,423,438]}},\"id\":\"0e37363a-a156-431f-b635-6626f4d9814e\",\"type\":\"ColumnDataSource\"},{\"attributes\":{\"data_source\":{\"id\":\"1aeab2f0-b564-4b1a-bd47-b6a7d93295c8\",\"type\":\"ColumnDataSource\"},\"glyph\":{\"id\":\"634bbfca-5cf2-44ad-8a4c-cd2c9e8b427c\",\"type\":\"Circle\"},\"hover_glyph\":null,\"nonselection_glyph\":{\"id\":\"367d2ccf-d28c-41e0-90a1-d0a771115629\",\"type\":\"Circle\"},\"selection_glyph\":null},\"id\":\"fd6abc35-a909-4569-b6a8-0df41e6af928\",\"type\":\"GlyphRenderer\"},{\"attributes\":{\"line_alpha\":{\"value\":0.1},\"line_color\":{\"value\":\"#1f77b4\"},\"line_width\":{\"value\":2},\"x\":{\"field\":\"x\"},\"y\":{\"field\":\"y\"}},\"id\":\"9a1c3192-4993-42e8-a62a-0b04ada834d9\",\"type\":\"Line\"},{\"attributes\":{\"axis_label\":\"Poblaci\\u00f3n\",\"formatter\":{\"id\":\"2d5a41c9-8590-4de1-85ef-40ab39cd112b\",\"type\":\"BasicTickFormatter\"},\"plot\":{\"id\":\"056f54da-478a-4fbf-bcf9-cfdfcb8d48e5\",\"subtype\":\"Figure\",\"type\":\"Plot\"},\"ticker\":{\"id\":\"a4a9799f-685a-4e34-bd3c-62a0ed3734d5\",\"type\":\"BasicTicker\"}},\"id\":\"c638bbb8-c5e0-4ad6-b5a5-eb317ef1446a\",\"type\":\"LinearAxis\"},{\"attributes\":{\"fill_alpha\":{\"value\":0.1},\"fill_color\":{\"value\":\"#1f77b4\"},\"line_alpha\":{\"value\":0.1},\"line_color\":{\"value\":\"#1f77b4\"},\"x\":{\"field\":\"x\"},\"y\":{\"field\":\"y\"}},\"id\":\"69a89565-0a72-4f8f-a938-551f89c4ebe9\",\"type\":\"Circle\"},{\"attributes\":{\"data_source\":{\"id\":\"2657d25a-d384-4c4e-a56b-dd5ba677fb9c\",\"type\":\"ColumnDataSource\"},\"glyph\":{\"id\":\"1bd39e76-c7a4-4a00-b2c3-51d7b192665e\",\"type\":\"Line\"},\"hover_glyph\":null,\"nonselection_glyph\":{\"id\":\"be5b2a53-aff1-4eec-b859-23f9464cd046\",\"type\":\"Line\"},\"selection_glyph\":null},\"id\":\"6f5833e4-5a9e-49a0-9e4e-058cf8c060cd\",\"type\":\"GlyphRenderer\"},{\"attributes\":{\"data_source\":{\"id\":\"aae5a587-657c-484f-ac56-627cc25e9dad\",\"type\":\"ColumnDataSource\"},\"glyph\":{\"id\":\"3bad1c38-3868-4636-809e-54b28a5b0b3f\",\"type\":\"Line\"},\"hover_glyph\":null,\"nonselection_glyph\":{\"id\":\"4bedce30-0f58-467f-95a9-8069b3325430\",\"type\":\"Line\"},\"selection_glyph\":null},\"id\":\"f00b878d-e8a5-4d7c-9c7a-923c031e6a38\",\"type\":\"GlyphRenderer\"},{\"attributes\":{\"plot\":{\"id\":\"056f54da-478a-4fbf-bcf9-cfdfcb8d48e5\",\"subtype\":\"Figure\",\"type\":\"Plot\"}},\"id\":\"100469c4-72f1-454d-a193-9b754493fea7\",\"type\":\"SaveTool\"},{\"attributes\":{\"line_alpha\":{\"value\":0.1},\"line_color\":{\"value\":\"#1f77b4\"},\"line_width\":{\"value\":2},\"x\":{\"field\":\"x\"},\"y\":{\"field\":\"y\"}},\"id\":\"2577de2b-cabd-4f7f-8504-ec6dff363bb5\",\"type\":\"Line\"},{\"attributes\":{\"fill_color\":{\"value\":\"#7c1b65\"},\"line_color\":{\"value\":\"#7c1b65\"},\"x\":{\"field\":\"x\"},\"y\":{\"field\":\"y\"}},\"id\":\"bf61f606-b77b-4e50-9bb3-2014b11ff580\",\"type\":\"Circle\"},{\"attributes\":{\"dimension\":1,\"plot\":{\"id\":\"056f54da-478a-4fbf-bcf9-cfdfcb8d48e5\",\"subtype\":\"Figure\",\"type\":\"Plot\"},\"ticker\":{\"id\":\"a4a9799f-685a-4e34-bd3c-62a0ed3734d5\",\"type\":\"BasicTicker\"}},\"id\":\"a568ecf8-a8d7-4aeb-af43-746a8f223131\",\"type\":\"Grid\"},{\"attributes\":{\"legends\":[[\"Comodoro Rivadavia\",[{\"id\":\"387ec4cc-f56d-4904-ab5c-c061d3aa847f\",\"type\":\"GlyphRenderer\"},{\"id\":\"d36a457e-196a-4d2e-a081-d3a75bf88d65\",\"type\":\"GlyphRenderer\"}]],[\"Trelew\",[{\"id\":\"927c8588-225d-40a9-9d63-25f733d62e94\",\"type\":\"GlyphRenderer\"},{\"id\":\"e4e1dd2c-001a-42c1-8d3d-ab8810774f5d\",\"type\":\"GlyphRenderer\"}]],[\"Puerto Madryn\",[{\"id\":\"fd6abc35-a909-4569-b6a8-0df41e6af928\",\"type\":\"GlyphRenderer\"},{\"id\":\"841c312c-2d44-4801-8f89-c92bbaed13d4\",\"type\":\"GlyphRenderer\"}]],[\"Esquel\",[{\"id\":\"cdb1bc13-a33c-42f3-8a60-aeb32efbc927\",\"type\":\"GlyphRenderer\"},{\"id\":\"f00b878d-e8a5-4d7c-9c7a-923c031e6a38\",\"type\":\"GlyphRenderer\"}]],[\"Sarmiento\",[{\"id\":\"33126b49-ded0-4b6d-ac7f-4000456df565\",\"type\":\"GlyphRenderer\"},{\"id\":\"b4e4dd9a-e611-4994-8128-91c8dc79a5b7\",\"type\":\"GlyphRenderer\"}]],[\"Rawson\",[{\"id\":\"05f6a471-fe4a-4b12-a332-e2f4837a19de\",\"type\":\"GlyphRenderer\"},{\"id\":\"fae426b6-4911-40e4-8c3a-bdd76226b392\",\"type\":\"GlyphRenderer\"}]],[\"Dolavon\",[{\"id\":\"7e6174ea-faaf-4135-927e-54098b270ce1\",\"type\":\"GlyphRenderer\"},{\"id\":\"0acbac3e-92cc-402c-9257-5fe86d271c00\",\"type\":\"GlyphRenderer\"}]],[\"Gaiman\",[{\"id\":\"c7f5d583-978a-476c-b45d-384d22db88c0\",\"type\":\"GlyphRenderer\"},{\"id\":\"6f5833e4-5a9e-49a0-9e4e-058cf8c060cd\",\"type\":\"GlyphRenderer\"}]],[\"Gobernador Costa\",[{\"id\":\"f0c6a34a-d827-4ce1-84b2-6fe2802a0529\",\"type\":\"GlyphRenderer\"},{\"id\":\"e985223a-6252-42c3-9e0e-bac125c20d0f\",\"type\":\"GlyphRenderer\"}]],[\"Cholila\",[{\"id\":\"b13ce40a-6467-4e95-a883-f5a4ac25ce73\",\"type\":\"GlyphRenderer\"},{\"id\":\"eb15b8ae-a29d-4e78-b9df-8bd77bbb3e6d\",\"type\":\"GlyphRenderer\"}]],[\"Camarones\",[{\"id\":\"99a0a538-4997-4731-b28f-74d1304256f9\",\"type\":\"GlyphRenderer\"},{\"id\":\"f8f9a00e-3072-40a9-94b9-f20e39cab6ba\",\"type\":\"GlyphRenderer\"}]],[\"Paso de Indios\",[{\"id\":\"0e5310a7-fe8d-44c0-addc-795a6dbcc680\",\"type\":\"GlyphRenderer\"},{\"id\":\"af7dd6b7-34dd-4297-8b09-dc153a913d2e\",\"type\":\"GlyphRenderer\"}]],[\"Paso del Sapo\",[{\"id\":\"e55c6974-5347-400c-a8e4-0be1a1331dfa\",\"type\":\"GlyphRenderer\"},{\"id\":\"7d638f45-b198-4214-8279-5cd0460e62c3\",\"type\":\"GlyphRenderer\"}]]],\"plot\":{\"id\":\"056f54da-478a-4fbf-bcf9-cfdfcb8d48e5\",\"subtype\":\"Figure\",\"type\":\"Plot\"}},\"id\":\"338c4024-81df-4cde-bdce-7846438b1e5b\",\"type\":\"Legend\"},{\"attributes\":{\"callback\":null,\"column_names\":[\"y\",\"x\"],\"data\":{\"x\":[1991,2001,2010,2017,2019,2029,2039],\"y\":[79340,89547,99430,107865,110404,124023,139322]}},\"id\":\"5fc14622-6b3c-47f1-883a-ff82129f9bdf\",\"type\":\"ColumnDataSource\"},{\"attributes\":{\"line_color\":{\"value\":\"#164c71\"},\"line_width\":{\"value\":2},\"x\":{\"field\":\"x\"},\"y\":{\"field\":\"y\"}},\"id\":\"e626f401-465d-49ba-ad07-cda354a5efbb\",\"type\":\"Line\"},{\"attributes\":{\"line_alpha\":{\"value\":0.1},\"line_color\":{\"value\":\"#1f77b4\"},\"line_width\":{\"value\":2},\"x\":{\"field\":\"x\"},\"y\":{\"field\":\"y\"}},\"id\":\"092fadc0-9cf6-489c-8149-b9ace757498f\",\"type\":\"Line\"},{\"attributes\":{\"callback\":null,\"column_names\":[\"y\",\"x\"],\"data\":{\"x\":[1991,2001,2010,2017,2019,2029,2039],\"y\":[4642,5753,6627,7396,7632,8927,10442]}},\"id\":\"f6b597c9-6d85-49f9-8b2f-161721c9588d\",\"type\":\"ColumnDataSource\"},{\"attributes\":{\"fill_alpha\":{\"value\":0.1},\"fill_color\":{\"value\":\"#1f77b4\"},\"line_alpha\":{\"value\":0.1},\"line_color\":{\"value\":\"#1f77b4\"},\"x\":{\"field\":\"x\"},\"y\":{\"field\":\"y\"}},\"id\":\"e83c7d62-8895-4443-b1e1-cae0f9cd33e9\",\"type\":\"Circle\"},{\"attributes\":{\"data_source\":{\"id\":\"945d7880-44bd-4019-8018-fe602347b529\",\"type\":\"ColumnDataSource\"},\"glyph\":{\"id\":\"a4007c88-0c64-478c-960e-77eb397763d0\",\"type\":\"Circle\"},\"hover_glyph\":null,\"nonselection_glyph\":{\"id\":\"9d89147b-d49c-4150-8eb2-e359d8a72ca6\",\"type\":\"Circle\"},\"selection_glyph\":null},\"id\":\"b13ce40a-6467-4e95-a883-f5a4ac25ce73\",\"type\":\"GlyphRenderer\"},{\"attributes\":{\"line_alpha\":{\"value\":0.1},\"line_color\":{\"value\":\"#1f77b4\"},\"line_width\":{\"value\":2},\"x\":{\"field\":\"x\"},\"y\":{\"field\":\"y\"}},\"id\":\"ed5fe2f2-1031-4ab5-a664-a308d559b1d2\",\"type\":\"Line\"},{\"attributes\":{\"use_scientific\":false},\"id\":\"2d5a41c9-8590-4de1-85ef-40ab39cd112b\",\"type\":\"BasicTickFormatter\"},{\"attributes\":{\"callback\":null,\"column_names\":[\"y\",\"x\"],\"data\":{\"x\":[1991,2001,2010,2017,2019,2029,2039],\"y\":[4642,5753,6627,7396,7632,8927,10442]}},\"id\":\"2657d25a-d384-4c4e-a56b-dd5ba677fb9c\",\"type\":\"ColumnDataSource\"},{\"attributes\":{\"fill_color\":{\"value\":\"#164c71\"},\"line_color\":{\"value\":\"#164c71\"},\"x\":{\"field\":\"x\"},\"y\":{\"field\":\"y\"}},\"id\":\"d6547dd8-146a-4fb2-a0f1-a5cba409446c\",\"type\":\"Circle\"},{\"attributes\":{\"callback\":null,\"column_names\":[\"y\",\"x\"],\"data\":{\"x\":[1991,2001,2010,2017,2019,2029,2039],\"y\":[864,1087,1264,1421,1469,1737,2054]}},\"id\":\"2505f4d4-a0fa-4a5c-98de-0f285c7379d6\",\"type\":\"ColumnDataSource\"},{\"attributes\":{\"callback\":null,\"column_names\":[\"y\",\"x\"],\"data\":{\"x\":[1991,2001,2010,2017,2019,2029,2039],\"y\":[868,1079,1296,1495,1557,1909,2341]}},\"id\":\"c23b7d02-3767-426f-8ce3-7e037641b621\",\"type\":\"ColumnDataSource\"},{\"attributes\":{\"align\":\"center\",\"plot\":null,\"text\":\"Poblaci\\u00f3n - M\\u00e9todo de las Tasas Medias Anuales Decrecientes\",\"text_color\":{\"value\":\"blue\"},\"text_font\":\"times\",\"text_font_size\":{\"value\":\"20px\"},\"text_font_style\":\"italic\"},\"id\":\"ea11fb34-260c-4cf9-876e-727b2d7c1e47\",\"type\":\"Title\"},{\"attributes\":{\"line_color\":{\"value\":\"magenta\"},\"line_width\":{\"value\":2},\"x\":{\"field\":\"x\"},\"y\":{\"field\":\"y\"}},\"id\":\"42826760-8a72-4896-b005-e87837a15712\",\"type\":\"Line\"},{\"attributes\":{\"callback\":null,\"column_names\":[\"y\",\"x\"],\"data\":{\"x\":[1991,2001,2010,2017,2019,2029,2039],\"y\":[1527,1981,2228,2441,2505,2853,3250]}},\"id\":\"6feb2933-517e-45c7-86b4-622359a0bd9d\",\"type\":\"ColumnDataSource\"},{\"attributes\":{\"callback\":null,\"column_names\":[\"y\",\"x\"],\"data\":{\"x\":[1991,2001,2010,2017,2019,2029,2039],\"y\":[79340,89547,99430,107865,110404,124023,139322]}},\"id\":\"60dd5dcb-0ee1-4037-bfca-3d7410f14945\",\"type\":\"ColumnDataSource\"},{\"attributes\":{},\"id\":\"a4a9799f-685a-4e34-bd3c-62a0ed3734d5\",\"type\":\"BasicTicker\"},{\"attributes\":{\"plot\":{\"id\":\"056f54da-478a-4fbf-bcf9-cfdfcb8d48e5\",\"subtype\":\"Figure\",\"type\":\"Plot\"}},\"id\":\"3b147bc7-17b1-4103-9702-bcec1705cf70\",\"type\":\"HelpTool\"},{\"attributes\":{\"fill_color\":{\"value\":\"red\"},\"line_color\":{\"value\":\"red\"},\"x\":{\"field\":\"x\"},\"y\":{\"field\":\"y\"}},\"id\":\"39498b2a-5091-41be-9632-3c6be3a0d426\",\"type\":\"Circle\"},{\"attributes\":{\"line_alpha\":{\"value\":0.1},\"line_color\":{\"value\":\"#1f77b4\"},\"line_width\":{\"value\":2},\"x\":{\"field\":\"x\"},\"y\":{\"field\":\"y\"}},\"id\":\"89f8491a-977f-49ce-858d-ac3ddc902ee7\",\"type\":\"Line\"},{\"attributes\":{\"line_color\":{\"value\":\"firebrick\"},\"line_width\":{\"value\":2},\"x\":{\"field\":\"x\"},\"y\":{\"field\":\"y\"}},\"id\":\"1bd39e76-c7a4-4a00-b2c3-51d7b192665e\",\"type\":\"Line\"},{\"attributes\":{\"fill_alpha\":{\"value\":0.1},\"fill_color\":{\"value\":\"#1f77b4\"},\"line_alpha\":{\"value\":0.1},\"line_color\":{\"value\":\"#1f77b4\"},\"x\":{\"field\":\"x\"},\"y\":{\"field\":\"y\"}},\"id\":\"e32c96df-2b70-46c1-bcf3-3936ccd35c88\",\"type\":\"Circle\"},{\"attributes\":{\"fill_color\":{\"value\":\"navy\"},\"line_color\":{\"value\":\"navy\"},\"x\":{\"field\":\"x\"},\"y\":{\"field\":\"y\"}},\"id\":\"9771f49b-4110-40d8-a059-b1a0eba23179\",\"type\":\"Circle\"},{\"attributes\":{\"data_source\":{\"id\":\"74c251d3-92d2-48cf-9095-f4bdb249264c\",\"type\":\"ColumnDataSource\"},\"glyph\":{\"id\":\"005c4334-356b-4de4-ba21-d3961f4e787e\",\"type\":\"Circle\"},\"hover_glyph\":null,\"nonselection_glyph\":{\"id\":\"f9086363-3606-4dea-8671-1ca0763be0ce\",\"type\":\"Circle\"},\"selection_glyph\":null},\"id\":\"05f6a471-fe4a-4b12-a332-e2f4837a19de\",\"type\":\"GlyphRenderer\"},{\"attributes\":{\"data_source\":{\"id\":\"0e37363a-a156-431f-b635-6626f4d9814e\",\"type\":\"ColumnDataSource\"},\"glyph\":{\"id\":\"31be7531-4fda-4ad4-9d31-425de06aba4e\",\"type\":\"Line\"},\"hover_glyph\":null,\"nonselection_glyph\":{\"id\":\"2577de2b-cabd-4f7f-8504-ec6dff363bb5\",\"type\":\"Line\"},\"selection_glyph\":null},\"id\":\"7d638f45-b198-4214-8279-5cd0460e62c3\",\"type\":\"GlyphRenderer\"},{\"attributes\":{\"data_source\":{\"id\":\"829a920b-4a9a-4d20-900a-29fa0be2c861\",\"type\":\"ColumnDataSource\"},\"glyph\":{\"id\":\"29a04f35-8db8-4ea4-be06-55e2fc09710e\",\"type\":\"Line\"},\"hover_glyph\":null,\"nonselection_glyph\":{\"id\":\"ed5fe2f2-1031-4ab5-a664-a308d559b1d2\",\"type\":\"Line\"},\"selection_glyph\":null},\"id\":\"f8f9a00e-3072-40a9-94b9-f20e39cab6ba\",\"type\":\"GlyphRenderer\"},{\"attributes\":{\"data_source\":{\"id\":\"5fc14622-6b3c-47f1-883a-ff82129f9bdf\",\"type\":\"ColumnDataSource\"},\"glyph\":{\"id\":\"c31a54eb-c58e-414d-ab26-285462b74549\",\"type\":\"Line\"},\"hover_glyph\":null,\"nonselection_glyph\":{\"id\":\"d1580470-32b0-4975-a7d6-c9927c420ff8\",\"type\":\"Line\"},\"selection_glyph\":null},\"id\":\"e4e1dd2c-001a-42c1-8d3d-ab8810774f5d\",\"type\":\"GlyphRenderer\"},{\"attributes\":{\"callback\":null},\"id\":\"d8f7a7e3-b7e0-4ec0-b19d-747e4d6dba9e\",\"type\":\"DataRange1d\"},{\"attributes\":{\"data_source\":{\"id\":\"faf28691-b859-4002-96be-8c39c08d80e9\",\"type\":\"ColumnDataSource\"},\"glyph\":{\"id\":\"e10ce1b6-29ae-4f1e-a489-307332a3f22f\",\"type\":\"Circle\"},\"hover_glyph\":null,\"nonselection_glyph\":{\"id\":\"4d1a1620-d621-4a9d-81dd-6427d5b1cb76\",\"type\":\"Circle\"},\"selection_glyph\":null},\"id\":\"33126b49-ded0-4b6d-ac7f-4000456df565\",\"type\":\"GlyphRenderer\"},{\"attributes\":{\"data_source\":{\"id\":\"a31e438b-f6ab-4cfa-8491-5f8c1cc44ee5\",\"type\":\"ColumnDataSource\"},\"glyph\":{\"id\":\"8e4559de-6414-4873-b52a-9d8418f2dc2d\",\"type\":\"Line\"},\"hover_glyph\":null,\"nonselection_glyph\":{\"id\":\"90633689-b285-4b9d-996e-fd8efdc82cf7\",\"type\":\"Line\"},\"selection_glyph\":null},\"id\":\"fae426b6-4911-40e4-8c3a-bdd76226b392\",\"type\":\"GlyphRenderer\"},{\"attributes\":{\"data_source\":{\"id\":\"91049c8c-d70a-4482-aabd-8280fefdeb4d\",\"type\":\"ColumnDataSource\"},\"glyph\":{\"id\":\"94c52e37-d427-4116-a0e1-a3871d095bd5\",\"type\":\"Circle\"},\"hover_glyph\":null,\"nonselection_glyph\":{\"id\":\"7e841a9a-37ce-4cf8-a098-d670fe2deba1\",\"type\":\"Circle\"},\"selection_glyph\":null},\"id\":\"f0c6a34a-d827-4ce1-84b2-6fe2802a0529\",\"type\":\"GlyphRenderer\"},{\"attributes\":{\"data_source\":{\"id\":\"78ca1314-9310-4b1f-8d0d-963a7eaf638e\",\"type\":\"ColumnDataSource\"},\"glyph\":{\"id\":\"39498b2a-5091-41be-9632-3c6be3a0d426\",\"type\":\"Circle\"},\"hover_glyph\":null,\"nonselection_glyph\":{\"id\":\"ad02305d-4a2a-41c9-a9eb-ffa4bd578185\",\"type\":\"Circle\"},\"selection_glyph\":null},\"id\":\"387ec4cc-f56d-4904-ab5c-c061d3aa847f\",\"type\":\"GlyphRenderer\"},{\"attributes\":{\"data_source\":{\"id\":\"517f6397-bd8e-4dc6-a80c-518e53458479\",\"type\":\"ColumnDataSource\"},\"glyph\":{\"id\":\"c18eaae5-673f-4380-a566-2c54bf20e303\",\"type\":\"Line\"},\"hover_glyph\":null,\"nonselection_glyph\":{\"id\":\"e2e670bb-5cb8-4800-a738-d59a77a39334\",\"type\":\"Line\"},\"selection_glyph\":null},\"id\":\"0acbac3e-92cc-402c-9257-5fe86d271c00\",\"type\":\"GlyphRenderer\"},{\"attributes\":{\"fill_color\":{\"value\":\"orange\"},\"line_color\":{\"value\":\"orange\"},\"x\":{\"field\":\"x\"},\"y\":{\"field\":\"y\"}},\"id\":\"b2cc06b5-579d-4150-b094-6dd91a49aceb\",\"type\":\"Circle\"},{\"attributes\":{\"line_alpha\":{\"value\":0.1},\"line_color\":{\"value\":\"#1f77b4\"},\"line_width\":{\"value\":2},\"x\":{\"field\":\"x\"},\"y\":{\"field\":\"y\"}},\"id\":\"90633689-b285-4b9d-996e-fd8efdc82cf7\",\"type\":\"Line\"},{\"attributes\":{\"line_alpha\":{\"value\":0.1},\"line_color\":{\"value\":\"#1f77b4\"},\"line_width\":{\"value\":2},\"x\":{\"field\":\"x\"},\"y\":{\"field\":\"y\"}},\"id\":\"b7f3fa40-7799-4b39-acf5-b2daca07eec2\",\"type\":\"Line\"},{\"attributes\":{\"fill_alpha\":{\"value\":0.1},\"fill_color\":{\"value\":\"#1f77b4\"},\"line_alpha\":{\"value\":0.1},\"line_color\":{\"value\":\"#1f77b4\"},\"x\":{\"field\":\"x\"},\"y\":{\"field\":\"y\"}},\"id\":\"69cf5d1f-abcd-4e71-a4b8-7c4fb1260dbf\",\"type\":\"Circle\"},{\"attributes\":{\"fill_color\":{\"value\":\"firebrick\"},\"line_color\":{\"value\":\"firebrick\"},\"x\":{\"field\":\"x\"},\"y\":{\"field\":\"y\"}},\"id\":\"33ea913c-0da4-4056-82c5-abe933d5f21f\",\"type\":\"Circle\"},{\"attributes\":{\"plot\":{\"id\":\"056f54da-478a-4fbf-bcf9-cfdfcb8d48e5\",\"subtype\":\"Figure\",\"type\":\"Plot\"},\"ticker\":{\"id\":\"5c4144de-a54c-477b-9efa-926456d65416\",\"type\":\"BasicTicker\"}},\"id\":\"53cbd4f1-78d1-4530-8ad6-7c34c6a6bdd3\",\"type\":\"Grid\"},{\"attributes\":{\"callback\":null,\"column_names\":[\"y\",\"x\"],\"data\":{\"x\":[1991,2001,2010,2017,2019,2029,2039],\"y\":[2613,2929,3307,3635,3735,4275,4840]}},\"id\":\"af5bb23a-8952-4ad8-b9bf-085913dff90f\",\"type\":\"ColumnDataSource\"},{\"attributes\":{},\"id\":\"3c06cba4-2948-4c96-9e86-499c7e68348e\",\"type\":\"ToolEvents\"},{\"attributes\":{\"line_color\":{\"value\":\"cyan\"},\"line_width\":{\"value\":2},\"x\":{\"field\":\"x\"},\"y\":{\"field\":\"y\"}},\"id\":\"7a639d69-4972-4711-9219-be57047e47d2\",\"type\":\"Line\"},{\"attributes\":{\"data_source\":{\"id\":\"8bfb7157-bd28-420c-b762-727c1e9c4fa8\",\"type\":\"ColumnDataSource\"},\"glyph\":{\"id\":\"d6547dd8-146a-4fb2-a0f1-a5cba409446c\",\"type\":\"Circle\"},\"hover_glyph\":null,\"nonselection_glyph\":{\"id\":\"4b1bb1cf-bb4b-48a5-bdbc-c685b583bd02\",\"type\":\"Circle\"},\"selection_glyph\":null},\"id\":\"0e5310a7-fe8d-44c0-addc-795a6dbcc680\",\"type\":\"GlyphRenderer\"},{\"attributes\":{\"fill_color\":{\"value\":\"yellow\"},\"line_color\":{\"value\":\"yellow\"},\"x\":{\"field\":\"x\"},\"y\":{\"field\":\"y\"}},\"id\":\"e10ce1b6-29ae-4f1e-a489-307332a3f22f\",\"type\":\"Circle\"},{\"attributes\":{\"plot\":{\"id\":\"056f54da-478a-4fbf-bcf9-cfdfcb8d48e5\",\"subtype\":\"Figure\",\"type\":\"Plot\"}},\"id\":\"62d101cc-b9e6-4dc0-ae42-646cc1661831\",\"type\":\"ResetTool\"},{\"attributes\":{\"fill_color\":{\"value\":\"olive\"},\"line_color\":{\"value\":\"olive\"},\"x\":{\"field\":\"x\"},\"y\":{\"field\":\"y\"}},\"id\":\"1e1cb2ea-d365-4427-a596-f6f7cd445bb5\",\"type\":\"Circle\"},{\"attributes\":{\"line_color\":{\"value\":\"red\"},\"line_width\":{\"value\":2},\"x\":{\"field\":\"x\"},\"y\":{\"field\":\"y\"}},\"id\":\"7eaee314-1e79-4ad1-9b80-b0ab13b668da\",\"type\":\"Line\"},{\"attributes\":{\"data_source\":{\"id\":\"417d9acb-2335-492b-a13a-be976a3ea3c7\",\"type\":\"ColumnDataSource\"},\"glyph\":{\"id\":\"bf61f606-b77b-4e50-9bb3-2014b11ff580\",\"type\":\"Circle\"},\"hover_glyph\":null,\"nonselection_glyph\":{\"id\":\"e32c96df-2b70-46c1-bcf3-3936ccd35c88\",\"type\":\"Circle\"},\"selection_glyph\":null},\"id\":\"e55c6974-5347-400c-a8e4-0be1a1331dfa\",\"type\":\"GlyphRenderer\"},{\"attributes\":{\"line_color\":{\"value\":\"navy\"},\"line_width\":{\"value\":2},\"x\":{\"field\":\"x\"},\"y\":{\"field\":\"y\"}},\"id\":\"c18eaae5-673f-4380-a566-2c54bf20e303\",\"type\":\"Line\"},{\"attributes\":{\"callback\":null,\"column_names\":[\"y\",\"x\"],\"data\":{\"x\":[1991,2001,2010,2017,2019,2029,2039],\"y\":[2613,2929,3307,3635,3735,4275,4840]}},\"id\":\"517f6397-bd8e-4dc6-a80c-518e53458479\",\"type\":\"ColumnDataSource\"},{\"attributes\":{},\"id\":\"5c4144de-a54c-477b-9efa-926456d65416\",\"type\":\"BasicTicker\"},{\"attributes\":{\"callback\":null,\"column_names\":[\"y\",\"x\"],\"data\":{\"x\":[1991,2001,2010,2017,2019,2029,2039],\"y\":[1913,2185,2374,2533,2580,2830,3104]}},\"id\":\"91049c8c-d70a-4482-aabd-8280fefdeb4d\",\"type\":\"ColumnDataSource\"},{\"attributes\":{\"active_drag\":\"auto\",\"active_scroll\":\"auto\",\"active_tap\":\"auto\",\"tools\":[{\"id\":\"4dff9412-5841-426d-9189-59ad26ef1815\",\"type\":\"PanTool\"},{\"id\":\"ab2b02cf-67e5-4e01-97c3-5005931a2818\",\"type\":\"WheelZoomTool\"},{\"id\":\"7603a195-916f-4516-85f3-b22860520dca\",\"type\":\"BoxZoomTool\"},{\"id\":\"100469c4-72f1-454d-a193-9b754493fea7\",\"type\":\"SaveTool\"},{\"id\":\"62d101cc-b9e6-4dc0-ae42-646cc1661831\",\"type\":\"ResetTool\"},{\"id\":\"3b147bc7-17b1-4103-9702-bcec1705cf70\",\"type\":\"HelpTool\"}]},\"id\":\"894ac1bc-cdcf-403e-a49f-a993fb8dc26e\",\"type\":\"Toolbar\"},{\"attributes\":{\"fill_alpha\":{\"value\":0.1},\"fill_color\":{\"value\":\"#1f77b4\"},\"line_alpha\":{\"value\":0.1},\"line_color\":{\"value\":\"#1f77b4\"},\"x\":{\"field\":\"x\"},\"y\":{\"field\":\"y\"}},\"id\":\"4b1bb1cf-bb4b-48a5-bdbc-c685b583bd02\",\"type\":\"Circle\"},{\"attributes\":{\"data_source\":{\"id\":\"6feb2933-517e-45c7-86b4-622359a0bd9d\",\"type\":\"ColumnDataSource\"},\"glyph\":{\"id\":\"42826760-8a72-4896-b005-e87837a15712\",\"type\":\"Line\"},\"hover_glyph\":null,\"nonselection_glyph\":{\"id\":\"4a9bc982-9d72-4d98-9f33-d2be5a9377d4\",\"type\":\"Line\"},\"selection_glyph\":null},\"id\":\"eb15b8ae-a29d-4e78-b9df-8bd77bbb3e6d\",\"type\":\"GlyphRenderer\"},{\"attributes\":{\"fill_alpha\":{\"value\":0.1},\"fill_color\":{\"value\":\"#1f77b4\"},\"line_alpha\":{\"value\":0.1},\"line_color\":{\"value\":\"#1f77b4\"},\"x\":{\"field\":\"x\"},\"y\":{\"field\":\"y\"}},\"id\":\"7e841a9a-37ce-4cf8-a098-d670fe2deba1\",\"type\":\"Circle\"},{\"attributes\":{\"fill_color\":{\"value\":\"blue\"},\"line_color\":{\"value\":\"blue\"},\"x\":{\"field\":\"x\"},\"y\":{\"field\":\"y\"}},\"id\":\"634bbfca-5cf2-44ad-8a4c-cd2c9e8b427c\",\"type\":\"Circle\"},{\"attributes\":{\"callback\":null,\"column_names\":[\"y\",\"x\"],\"data\":{\"x\":[1991,2001,2010,2017,2019,2029,2039],\"y\":[7209,8292,11124,13981,14925,20690,26125]}},\"id\":\"faf28691-b859-4002-96be-8c39c08d80e9\",\"type\":\"ColumnDataSource\"},{\"attributes\":{\"callback\":null,\"column_names\":[\"y\",\"x\"],\"data\":{\"x\":[1991,2001,2010,2017,2019,2029,2039],\"y\":[864,1087,1264,1421,1469,1737,2054]}},\"id\":\"8bfb7157-bd28-420c-b762-727c1e9c4fa8\",\"type\":\"ColumnDataSource\"},{\"attributes\":{\"plot\":{\"id\":\"056f54da-478a-4fbf-bcf9-cfdfcb8d48e5\",\"subtype\":\"Figure\",\"type\":\"Plot\"}},\"id\":\"ab2b02cf-67e5-4e01-97c3-5005931a2818\",\"type\":\"WheelZoomTool\"},{\"attributes\":{\"bottom_units\":\"screen\",\"fill_alpha\":{\"value\":0.5},\"fill_color\":{\"value\":\"lightgrey\"},\"left_units\":\"screen\",\"level\":\"overlay\",\"line_alpha\":{\"value\":1.0},\"line_color\":{\"value\":\"black\"},\"line_dash\":[4,4],\"line_width\":{\"value\":2},\"plot\":null,\"render_mode\":\"css\",\"right_units\":\"screen\",\"top_units\":\"screen\"},\"id\":\"2cb47fa8-91e3-4a88-b99c-2591cd3bdb44\",\"type\":\"BoxAnnotation\"},{\"attributes\":{\"data_source\":{\"id\":\"d902d969-aaed-4696-bdb2-bf93900a8789\",\"type\":\"ColumnDataSource\"},\"glyph\":{\"id\":\"783ae624-7740-4129-8f3e-127753194ebb\",\"type\":\"Line\"},\"hover_glyph\":null,\"nonselection_glyph\":{\"id\":\"9a1c3192-4993-42e8-a62a-0b04ada834d9\",\"type\":\"Line\"},\"selection_glyph\":null},\"id\":\"841c312c-2d44-4801-8f89-c92bbaed13d4\",\"type\":\"GlyphRenderer\"},{\"attributes\":{\"axis_label\":\"Tiempo\",\"formatter\":{\"id\":\"baf27c49-af0b-4a12-9e31-ab023d184da8\",\"type\":\"BasicTickFormatter\"},\"plot\":{\"id\":\"056f54da-478a-4fbf-bcf9-cfdfcb8d48e5\",\"subtype\":\"Figure\",\"type\":\"Plot\"},\"ticker\":{\"id\":\"5c4144de-a54c-477b-9efa-926456d65416\",\"type\":\"BasicTicker\"}},\"id\":\"7e4f2a67-6f20-4da1-b9f3-6d7febc85995\",\"type\":\"LinearAxis\"},{\"attributes\":{\"fill_alpha\":{\"value\":0.1},\"fill_color\":{\"value\":\"#1f77b4\"},\"line_alpha\":{\"value\":0.1},\"line_color\":{\"value\":\"#1f77b4\"},\"x\":{\"field\":\"x\"},\"y\":{\"field\":\"y\"}},\"id\":\"4d1a1620-d621-4a9d-81dd-6427d5b1cb76\",\"type\":\"Circle\"},{\"attributes\":{\"line_alpha\":{\"value\":0.1},\"line_color\":{\"value\":\"#1f77b4\"},\"line_width\":{\"value\":2},\"x\":{\"field\":\"x\"},\"y\":{\"field\":\"y\"}},\"id\":\"ed017ee6-68d9-45d4-bd72-e3702b4d8154\",\"type\":\"Line\"},{\"attributes\":{\"fill_color\":{\"value\":\"magenta\"},\"line_color\":{\"value\":\"magenta\"},\"x\":{\"field\":\"x\"},\"y\":{\"field\":\"y\"}},\"id\":\"a4007c88-0c64-478c-960e-77eb397763d0\",\"type\":\"Circle\"},{\"attributes\":{\"line_color\":{\"value\":\"pink\"},\"line_width\":{\"value\":2},\"x\":{\"field\":\"x\"},\"y\":{\"field\":\"y\"}},\"id\":\"8e4559de-6414-4873-b52a-9d8418f2dc2d\",\"type\":\"Line\"},{\"attributes\":{\"below\":[{\"id\":\"7e4f2a67-6f20-4da1-b9f3-6d7febc85995\",\"type\":\"LinearAxis\"}],\"left\":[{\"id\":\"c638bbb8-c5e0-4ad6-b5a5-eb317ef1446a\",\"type\":\"LinearAxis\"}],\"plot_width\":900,\"renderers\":[{\"id\":\"7e4f2a67-6f20-4da1-b9f3-6d7febc85995\",\"type\":\"LinearAxis\"},{\"id\":\"53cbd4f1-78d1-4530-8ad6-7c34c6a6bdd3\",\"type\":\"Grid\"},{\"id\":\"c638bbb8-c5e0-4ad6-b5a5-eb317ef1446a\",\"type\":\"LinearAxis\"},{\"id\":\"a568ecf8-a8d7-4aeb-af43-746a8f223131\",\"type\":\"Grid\"},{\"id\":\"2cb47fa8-91e3-4a88-b99c-2591cd3bdb44\",\"type\":\"BoxAnnotation\"},{\"id\":\"338c4024-81df-4cde-bdce-7846438b1e5b\",\"type\":\"Legend\"},{\"id\":\"387ec4cc-f56d-4904-ab5c-c061d3aa847f\",\"type\":\"GlyphRenderer\"},{\"id\":\"d36a457e-196a-4d2e-a081-d3a75bf88d65\",\"type\":\"GlyphRenderer\"},{\"id\":\"927c8588-225d-40a9-9d63-25f733d62e94\",\"type\":\"GlyphRenderer\"},{\"id\":\"e4e1dd2c-001a-42c1-8d3d-ab8810774f5d\",\"type\":\"GlyphRenderer\"},{\"id\":\"fd6abc35-a909-4569-b6a8-0df41e6af928\",\"type\":\"GlyphRenderer\"},{\"id\":\"841c312c-2d44-4801-8f89-c92bbaed13d4\",\"type\":\"GlyphRenderer\"},{\"id\":\"cdb1bc13-a33c-42f3-8a60-aeb32efbc927\",\"type\":\"GlyphRenderer\"},{\"id\":\"f00b878d-e8a5-4d7c-9c7a-923c031e6a38\",\"type\":\"GlyphRenderer\"},{\"id\":\"33126b49-ded0-4b6d-ac7f-4000456df565\",\"type\":\"GlyphRenderer\"},{\"id\":\"b4e4dd9a-e611-4994-8128-91c8dc79a5b7\",\"type\":\"GlyphRenderer\"},{\"id\":\"05f6a471-fe4a-4b12-a332-e2f4837a19de\",\"type\":\"GlyphRenderer\"},{\"id\":\"fae426b6-4911-40e4-8c3a-bdd76226b392\",\"type\":\"GlyphRenderer\"},{\"id\":\"7e6174ea-faaf-4135-927e-54098b270ce1\",\"type\":\"GlyphRenderer\"},{\"id\":\"0acbac3e-92cc-402c-9257-5fe86d271c00\",\"type\":\"GlyphRenderer\"},{\"id\":\"c7f5d583-978a-476c-b45d-384d22db88c0\",\"type\":\"GlyphRenderer\"},{\"id\":\"6f5833e4-5a9e-49a0-9e4e-058cf8c060cd\",\"type\":\"GlyphRenderer\"},{\"id\":\"f0c6a34a-d827-4ce1-84b2-6fe2802a0529\",\"type\":\"GlyphRenderer\"},{\"id\":\"e985223a-6252-42c3-9e0e-bac125c20d0f\",\"type\":\"GlyphRenderer\"},{\"id\":\"b13ce40a-6467-4e95-a883-f5a4ac25ce73\",\"type\":\"GlyphRenderer\"},{\"id\":\"eb15b8ae-a29d-4e78-b9df-8bd77bbb3e6d\",\"type\":\"GlyphRenderer\"},{\"id\":\"99a0a538-4997-4731-b28f-74d1304256f9\",\"type\":\"GlyphRenderer\"},{\"id\":\"f8f9a00e-3072-40a9-94b9-f20e39cab6ba\",\"type\":\"GlyphRenderer\"},{\"id\":\"0e5310a7-fe8d-44c0-addc-795a6dbcc680\",\"type\":\"GlyphRenderer\"},{\"id\":\"af7dd6b7-34dd-4297-8b09-dc153a913d2e\",\"type\":\"GlyphRenderer\"},{\"id\":\"e55c6974-5347-400c-a8e4-0be1a1331dfa\",\"type\":\"GlyphRenderer\"},{\"id\":\"7d638f45-b198-4214-8279-5cd0460e62c3\",\"type\":\"GlyphRenderer\"}],\"title\":{\"id\":\"ea11fb34-260c-4cf9-876e-727b2d7c1e47\",\"type\":\"Title\"},\"tool_events\":{\"id\":\"3c06cba4-2948-4c96-9e86-499c7e68348e\",\"type\":\"ToolEvents\"},\"toolbar\":{\"id\":\"894ac1bc-cdcf-403e-a49f-a993fb8dc26e\",\"type\":\"Toolbar\"},\"x_range\":{\"id\":\"1fcd1577-a531-4d71-9324-67ab4e12a038\",\"type\":\"DataRange1d\"},\"y_range\":{\"id\":\"d8f7a7e3-b7e0-4ec0-b19d-747e4d6dba9e\",\"type\":\"DataRange1d\"}},\"id\":\"056f54da-478a-4fbf-bcf9-cfdfcb8d48e5\",\"subtype\":\"Figure\",\"type\":\"Plot\"},{\"attributes\":{\"fill_alpha\":{\"value\":0.1},\"fill_color\":{\"value\":\"#1f77b4\"},\"line_alpha\":{\"value\":0.1},\"line_color\":{\"value\":\"#1f77b4\"},\"x\":{\"field\":\"x\"},\"y\":{\"field\":\"y\"}},\"id\":\"ad02305d-4a2a-41c9-a9eb-ffa4bd578185\",\"type\":\"Circle\"},{\"attributes\":{\"callback\":null,\"column_names\":[\"y\",\"x\"],\"data\":{\"x\":[1991,2001,2010,2017,2019,2029,2039],\"y\":[1913,2185,2374,2533,2580,2830,3104]}},\"id\":\"33ff1d68-5a87-4d1a-b14e-8ffac753d054\",\"type\":\"ColumnDataSource\"},{\"attributes\":{\"callback\":null,\"column_names\":[\"y\",\"x\"],\"data\":{\"x\":[1991,2001,2010,2017,2019,2029,2039],\"y\":[23411,28486,32758,36507,37655,43959,51319]}},\"id\":\"aae5a587-657c-484f-ac56-627cc25e9dad\",\"type\":\"ColumnDataSource\"},{\"attributes\":{\"line_alpha\":{\"value\":0.1},\"line_color\":{\"value\":\"#1f77b4\"},\"line_width\":{\"value\":2},\"x\":{\"field\":\"x\"},\"y\":{\"field\":\"y\"}},\"id\":\"d1580470-32b0-4975-a7d6-c9927c420ff8\",\"type\":\"Line\"},{\"attributes\":{\"fill_alpha\":{\"value\":0.1},\"fill_color\":{\"value\":\"#1f77b4\"},\"line_alpha\":{\"value\":0.1},\"line_color\":{\"value\":\"#1f77b4\"},\"x\":{\"field\":\"x\"},\"y\":{\"field\":\"y\"}},\"id\":\"f9086363-3606-4dea-8671-1ca0763be0ce\",\"type\":\"Circle\"},{\"attributes\":{\"overlay\":{\"id\":\"2cb47fa8-91e3-4a88-b99c-2591cd3bdb44\",\"type\":\"BoxAnnotation\"},\"plot\":{\"id\":\"056f54da-478a-4fbf-bcf9-cfdfcb8d48e5\",\"subtype\":\"Figure\",\"type\":\"Plot\"}},\"id\":\"7603a195-916f-4516-85f3-b22860520dca\",\"type\":\"BoxZoomTool\"},{\"attributes\":{\"line_color\":{\"value\":\"green\"},\"line_width\":{\"value\":2},\"x\":{\"field\":\"x\"},\"y\":{\"field\":\"y\"}},\"id\":\"3bad1c38-3868-4636-809e-54b28a5b0b3f\",\"type\":\"Line\"},{\"attributes\":{\"data_source\":{\"id\":\"0836ae59-af87-4f69-856b-5638c88ce4cf\",\"type\":\"ColumnDataSource\"},\"glyph\":{\"id\":\"506f57a2-d29a-408e-9156-ea2a5c83aa08\",\"type\":\"Circle\"},\"hover_glyph\":null,\"nonselection_glyph\":{\"id\":\"cd1db2ac-ed99-4f0f-80cb-8a69c25b4e8f\",\"type\":\"Circle\"},\"selection_glyph\":null},\"id\":\"cdb1bc13-a33c-42f3-8a60-aeb32efbc927\",\"type\":\"GlyphRenderer\"},{\"attributes\":{\"callback\":null,\"column_names\":[\"y\",\"x\"],\"data\":{\"x\":[1991,2001,2010,2017,2019,2029,2039],\"y\":[1527,1981,2228,2441,2505,2853,3250]}},\"id\":\"945d7880-44bd-4019-8018-fe602347b529\",\"type\":\"ColumnDataSource\"},{\"attributes\":{\"line_alpha\":{\"value\":0.1},\"line_color\":{\"value\":\"#1f77b4\"},\"line_width\":{\"value\":2},\"x\":{\"field\":\"x\"},\"y\":{\"field\":\"y\"}},\"id\":\"4a9bc982-9d72-4d98-9f33-d2be5a9377d4\",\"type\":\"Line\"},{\"attributes\":{\"fill_color\":{\"value\":\"cyan\"},\"line_color\":{\"value\":\"cyan\"},\"x\":{\"field\":\"x\"},\"y\":{\"field\":\"y\"}},\"id\":\"94c52e37-d427-4116-a0e1-a3871d095bd5\",\"type\":\"Circle\"},{\"attributes\":{\"callback\":null,\"column_names\":[\"y\",\"x\"],\"data\":{\"x\":[1991,2001,2010,2017,2019,2029,2039],\"y\":[125725,137061,177083,216167,228842,304276,366570]}},\"id\":\"78ca1314-9310-4b1f-8d0d-963a7eaf638e\",\"type\":\"ColumnDataSource\"},{\"attributes\":{\"line_alpha\":{\"value\":0.1},\"line_color\":{\"value\":\"#1f77b4\"},\"line_width\":{\"value\":2},\"x\":{\"field\":\"x\"},\"y\":{\"field\":\"y\"}},\"id\":\"e2e670bb-5cb8-4800-a738-d59a77a39334\",\"type\":\"Line\"},{\"attributes\":{\"plot\":{\"id\":\"056f54da-478a-4fbf-bcf9-cfdfcb8d48e5\",\"subtype\":\"Figure\",\"type\":\"Plot\"}},\"id\":\"4dff9412-5841-426d-9189-59ad26ef1815\",\"type\":\"PanTool\"},{\"attributes\":{\"line_color\":{\"value\":\"#7c1b65\"},\"line_width\":{\"value\":2},\"x\":{\"field\":\"x\"},\"y\":{\"field\":\"y\"}},\"id\":\"31be7531-4fda-4ad4-9d31-425de06aba4e\",\"type\":\"Line\"},{\"attributes\":{\"fill_color\":{\"value\":\"pink\"},\"line_color\":{\"value\":\"pink\"},\"x\":{\"field\":\"x\"},\"y\":{\"field\":\"y\"}},\"id\":\"005c4334-356b-4de4-ba21-d3961f4e787e\",\"type\":\"Circle\"},{\"attributes\":{\"data_source\":{\"id\":\"60dd5dcb-0ee1-4037-bfca-3d7410f14945\",\"type\":\"ColumnDataSource\"},\"glyph\":{\"id\":\"b2cc06b5-579d-4150-b094-6dd91a49aceb\",\"type\":\"Circle\"},\"hover_glyph\":null,\"nonselection_glyph\":{\"id\":\"e83c7d62-8895-4443-b1e1-cae0f9cd33e9\",\"type\":\"Circle\"},\"selection_glyph\":null},\"id\":\"927c8588-225d-40a9-9d63-25f733d62e94\",\"type\":\"GlyphRenderer\"},{\"attributes\":{\"callback\":null,\"column_names\":[\"y\",\"x\"],\"data\":{\"x\":[1991,2001,2010,2017,2019,2029,2039],\"y\":[7209,8292,11124,13981,14925,20690,26125]}},\"id\":\"3a0de684-3131-486a-8b56-b8b62fe3a585\",\"type\":\"ColumnDataSource\"},{\"attributes\":{\"line_color\":{\"value\":\"orange\"},\"line_width\":{\"value\":2},\"x\":{\"field\":\"x\"},\"y\":{\"field\":\"y\"}},\"id\":\"c31a54eb-c58e-414d-ab26-285462b74549\",\"type\":\"Line\"},{\"attributes\":{\"line_alpha\":{\"value\":0.1},\"line_color\":{\"value\":\"#1f77b4\"},\"line_width\":{\"value\":2},\"x\":{\"field\":\"x\"},\"y\":{\"field\":\"y\"}},\"id\":\"be5b2a53-aff1-4eec-b859-23f9464cd046\",\"type\":\"Line\"},{\"attributes\":{\"fill_alpha\":{\"value\":0.1},\"fill_color\":{\"value\":\"#1f77b4\"},\"line_alpha\":{\"value\":0.1},\"line_color\":{\"value\":\"#1f77b4\"},\"x\":{\"field\":\"x\"},\"y\":{\"field\":\"y\"}},\"id\":\"e9736367-469f-43c2-a4a7-b57b4727a990\",\"type\":\"Circle\"},{\"attributes\":{\"data_source\":{\"id\":\"f45bf90e-01e3-482b-9d6c-3baddb4cdd5d\",\"type\":\"ColumnDataSource\"},\"glyph\":{\"id\":\"7eaee314-1e79-4ad1-9b80-b0ab13b668da\",\"type\":\"Line\"},\"hover_glyph\":null,\"nonselection_glyph\":{\"id\":\"b7f3fa40-7799-4b39-acf5-b2daca07eec2\",\"type\":\"Line\"},\"selection_glyph\":null},\"id\":\"d36a457e-196a-4d2e-a081-d3a75bf88d65\",\"type\":\"GlyphRenderer\"},{\"attributes\":{\"callback\":null},\"id\":\"1fcd1577-a531-4d71-9324-67ab4e12a038\",\"type\":\"DataRange1d\"},{\"attributes\":{\"fill_alpha\":{\"value\":0.1},\"fill_color\":{\"value\":\"#1f77b4\"},\"line_alpha\":{\"value\":0.1},\"line_color\":{\"value\":\"#1f77b4\"},\"x\":{\"field\":\"x\"},\"y\":{\"field\":\"y\"}},\"id\":\"9d89147b-d49c-4150-8eb2-e359d8a72ca6\",\"type\":\"Circle\"},{\"attributes\":{\"data_source\":{\"id\":\"af5bb23a-8952-4ad8-b9bf-085913dff90f\",\"type\":\"ColumnDataSource\"},\"glyph\":{\"id\":\"9771f49b-4110-40d8-a059-b1a0eba23179\",\"type\":\"Circle\"},\"hover_glyph\":null,\"nonselection_glyph\":{\"id\":\"e9736367-469f-43c2-a4a7-b57b4727a990\",\"type\":\"Circle\"},\"selection_glyph\":null},\"id\":\"7e6174ea-faaf-4135-927e-54098b270ce1\",\"type\":\"GlyphRenderer\"},{\"attributes\":{\"callback\":null,\"column_names\":[\"y\",\"x\"],\"data\":{\"x\":[1991,2001,2010,2017,2019,2029,2039],\"y\":[45047,57791,81995,107610,116301,171493,235899]}},\"id\":\"d902d969-aaed-4696-bdb2-bf93900a8789\",\"type\":\"ColumnDataSource\"},{\"attributes\":{\"fill_color\":{\"value\":\"green\"},\"line_color\":{\"value\":\"green\"},\"x\":{\"field\":\"x\"},\"y\":{\"field\":\"y\"}},\"id\":\"506f57a2-d29a-408e-9156-ea2a5c83aa08\",\"type\":\"Circle\"},{\"attributes\":{\"line_alpha\":{\"value\":0.1},\"line_color\":{\"value\":\"#1f77b4\"},\"line_width\":{\"value\":2},\"x\":{\"field\":\"x\"},\"y\":{\"field\":\"y\"}},\"id\":\"4bedce30-0f58-467f-95a9-8069b3325430\",\"type\":\"Line\"},{\"attributes\":{\"data_source\":{\"id\":\"f6b597c9-6d85-49f9-8b2f-161721c9588d\",\"type\":\"ColumnDataSource\"},\"glyph\":{\"id\":\"33ea913c-0da4-4056-82c5-abe933d5f21f\",\"type\":\"Circle\"},\"hover_glyph\":null,\"nonselection_glyph\":{\"id\":\"69cf5d1f-abcd-4e71-a4b8-7c4fb1260dbf\",\"type\":\"Circle\"},\"selection_glyph\":null},\"id\":\"c7f5d583-978a-476c-b45d-384d22db88c0\",\"type\":\"GlyphRenderer\"},{\"attributes\":{\"data_source\":{\"id\":\"3a0de684-3131-486a-8b56-b8b62fe3a585\",\"type\":\"ColumnDataSource\"},\"glyph\":{\"id\":\"507e2c2f-20ca-4130-82a0-fa41cb1be13d\",\"type\":\"Line\"},\"hover_glyph\":null,\"nonselection_glyph\":{\"id\":\"092fadc0-9cf6-489c-8149-b9ace757498f\",\"type\":\"Line\"},\"selection_glyph\":null},\"id\":\"b4e4dd9a-e611-4994-8128-91c8dc79a5b7\",\"type\":\"GlyphRenderer\"},{\"attributes\":{\"data_source\":{\"id\":\"33ff1d68-5a87-4d1a-b14e-8ffac753d054\",\"type\":\"ColumnDataSource\"},\"glyph\":{\"id\":\"7a639d69-4972-4711-9219-be57047e47d2\",\"type\":\"Line\"},\"hover_glyph\":null,\"nonselection_glyph\":{\"id\":\"89f8491a-977f-49ce-858d-ac3ddc902ee7\",\"type\":\"Line\"},\"selection_glyph\":null},\"id\":\"e985223a-6252-42c3-9e0e-bac125c20d0f\",\"type\":\"GlyphRenderer\"},{\"attributes\":{\"callback\":null,\"column_names\":[\"y\",\"x\"],\"data\":{\"x\":[1991,2001,2010,2017,2019,2029,2039],\"y\":[23411,28486,32758,36507,37655,43959,51319]}},\"id\":\"0836ae59-af87-4f69-856b-5638c88ce4cf\",\"type\":\"ColumnDataSource\"},{\"attributes\":{\"callback\":null,\"column_names\":[\"y\",\"x\"],\"data\":{\"x\":[1991,2001,2010,2017,2019,2029,2039],\"y\":[868,1079,1296,1495,1557,1909,2341]}},\"id\":\"829a920b-4a9a-4d20-900a-29fa0be2c861\",\"type\":\"ColumnDataSource\"}],\"root_ids\":[\"056f54da-478a-4fbf-bcf9-cfdfcb8d48e5\"]},\"title\":\"Bokeh Application\",\"version\":\"0.12.0\"}};\n",
       "            var render_items = [{\"docid\":\"c30a3d31-3caa-4286-bd4e-f39a3eee41f8\",\"elementid\":\"d8039fa2-b461-4dc2-9b3f-4a3c332123a2\",\"modelid\":\"056f54da-478a-4fbf-bcf9-cfdfcb8d48e5\",\"notebook_comms_target\":\"cda212e4-908f-45ce-a711-fd0865b6bcae\"}];\n",
       "            \n",
       "            Bokeh.embed.embed_items(docs_json, render_items);\n",
       "        });\n",
       "      },\n",
       "      function(Bokeh) {\n",
       "      }\n",
       "    ];\n",
       "  \n",
       "    function run_inline_js() {\n",
       "      for (var i = 0; i < inline_js.length; i++) {\n",
       "        inline_js[i](window.Bokeh);\n",
       "      }\n",
       "    }\n",
       "  \n",
       "    if (window._bokeh_is_loading === 0) {\n",
       "      console.log(\"Bokeh: BokehJS loaded, going straight to plotting\");\n",
       "      run_inline_js();\n",
       "    } else {\n",
       "      load_libs(js_urls, function() {\n",
       "        console.log(\"Bokeh: BokehJS plotting callback run at\", now());\n",
       "        run_inline_js();\n",
       "      });\n",
       "    }\n",
       "  }(this));\n",
       "</script>"
      ]
     },
     "metadata": {},
     "output_type": "display_data"
    },
    {
     "data": {
      "text/html": [
       "<p><code>&lt;Bokeh Notebook handle for <strong>In[24]</strong>&gt;</code></p>"
      ],
      "text/plain": [
       "<bokeh.io._CommsHandle at 0xaf248d2c>"
      ]
     },
     "execution_count": 24,
     "metadata": {},
     "output_type": "execute_result"
    }
   ],
   "source": [
    "x = tiempo\n",
    "colores=[\"red\",\"orange\",\"blue\",\"green\",\"yellow\",\"pink\",\"navy\",\"firebrick\",\"cyan\",\"magenta\",\"olive\",\"#164c71\",\"#7c1b65\"]\n",
    "\n",
    "p = figure(title=\"Población - Método de las Tasas Medias Anuales Decrecientes\",plot_width=900)\n",
    "p.title.align = \"center\"\n",
    "p.title.text_color = \"blue\"\n",
    "p.title.text_font = \"times\"\n",
    "p.title.text_font_style = \"italic\"\n",
    "p.title.text_font_size = \"20px\"\n",
    "\n",
    "p.left[0].formatter.use_scientific = False\n",
    "\n",
    "for i in range(len(ciudades)):\n",
    "    p.circle(x,lis_of_list[i], legend=ciudades[i],fill_color=colores[i],line_color=colores[i])\n",
    "    p.line(x, lis_of_list[i], legend=ciudades[i],line_color=colores[i], line_width=2)\n",
    "\n",
    "p.xaxis.axis_label = 'Tiempo'\n",
    "p.yaxis.axis_label = 'Población'\n",
    "\n",
    "show(p)"
   ]
  }
 ],
 "metadata": {
  "anaconda-cloud": {},
  "kernelspec": {
   "display_name": "Python [Root]",
   "language": "python",
   "name": "Python [Root]"
  },
  "language_info": {
   "codemirror_mode": {
    "name": "ipython",
    "version": 3
   },
   "file_extension": ".py",
   "mimetype": "text/x-python",
   "name": "python",
   "nbconvert_exporter": "python",
   "pygments_lexer": "ipython3",
   "version": "3.5.2"
  }
 },
 "nbformat": 4,
 "nbformat_minor": 2
}
