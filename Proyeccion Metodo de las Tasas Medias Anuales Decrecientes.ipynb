{
 "cells": [
  {
   "cell_type": "markdown",
   "metadata": {},
   "source": [
    "# # Entrada de valores de los tres últimos censos"
   ]
  },
  {
   "cell_type": "code",
   "execution_count": 29,
   "metadata": {
    "collapsed": true
   },
   "outputs": [],
   "source": [
    "censos = [1991,2001,2010]\n",
    "\n",
    "poblacion0 = [125725,137061,177083] # Comodoro Rivadavia\n",
    "poblacion1 = [79340,89547,99430] # Trelew\n",
    "poblacion2 = [45047,57791,81995] # Puerto Madryn\n",
    "poblacion3 = [23411,28486,32758] # Esquel\n",
    "poblacion4 = [7209,8292,11124] # Sarmiento\n",
    "poblacion5 = [20674,26183,31787] # Rawson\n",
    "poblacion6 = [2613,2929,3307] # Dolavon\n",
    "poblacion7 = [4642,5753,6627] # Gaiman\n",
    "poblacion8 = [1913,2185,2374] # Gobernador Costa\n",
    "poblacion9 = [1527,1981,2228] # Cholila\n",
    "poblacion10 = [868,1079,1296] # Camarones\n",
    "poblacion11 = [864,1087,1264] # Paso de Indios\n",
    "poblacion12 = [322,384,396] # Paso del sapo\n",
    "poblaciones = [poblacion0, poblacion1, poblacion2, poblacion3, poblacion4, poblacion5, poblacion6, poblacion7, poblacion8, poblacion9, poblacion10, poblacion11, poblacion12]\n",
    "\n",
    "año_actual= 2017"
   ]
  },
  {
   "cell_type": "markdown",
   "metadata": {},
   "source": [
    "# # Armamos una lista de \"tiempos\""
   ]
  },
  {
   "cell_type": "code",
   "execution_count": 30,
   "metadata": {
    "collapsed": true
   },
   "outputs": [],
   "source": [
    "tiempo = [0] * 7\n",
    "for i in range(len(censos)):\n",
    "    tiempo[i] = censos[i]\n",
    "\n",
    "tiempo[3]=año_actual\n",
    "tiempo[4]=tiempo[3]+2\n",
    "tiempo[5]=tiempo[4]+10\n",
    "tiempo[6]=tiempo[5]+10"
   ]
  },
  {
   "cell_type": "markdown",
   "metadata": {},
   "source": [
    "# # Resolvemos el método devolviendo una lista de \"datos\""
   ]
  },
  {
   "cell_type": "code",
   "execution_count": 2,
   "metadata": {
    "collapsed": false
   },
   "outputs": [],
   "source": [
    "def metodo_tasas_medias_anuales_decrecientes(poblacion, tiempo):\n",
    "\n",
    "    datos = [0] * 7\n",
    "    for i in range(len(poblacion)):\n",
    "        datos[i] = poblacion[i]\n",
    "\n",
    "\n",
    "    iI=((datos[1]/datos[0])**(1/(tiempo[1]-tiempo[0])))-1\n",
    "    iII=((datos[2]/datos[1])**(1/(tiempo[2]-tiempo[1])))-1\n",
    "\n",
    "\n",
    "    i1=iII\n",
    "    i1=round(i1, 4)\n",
    "\n",
    "\n",
    "    Pa=datos[2]*(1+i1)**(tiempo[3]-tiempo[2])\n",
    "    Pa=round(Pa,0)\n",
    "    Pa=int(Pa)\n",
    "\n",
    "\n",
    "    P0=Pa*(1+i1)**(tiempo[4]-tiempo[3])\n",
    "    P0=round(P0,0)\n",
    "    P0=int(P0)\n",
    "\n",
    "\n",
    "    P10=P0*(1+i1)**(tiempo[5]-tiempo[4])\n",
    "    P10=round(P10,0)\n",
    "    P10=int(P10)\n",
    "\n",
    "\n",
    "    i2=(iI+iII)/2\n",
    "    i2=round(i2,4)\n",
    "\n",
    "\n",
    "    if (i2<=i1):\n",
    "        i2=i2\n",
    "    else:\n",
    "        i2=i1\n",
    "\n",
    "    P20=P10*(1+i2)**(tiempo[6]-tiempo[5])\n",
    "    P20=round(P20,0)\n",
    "    P20=int(P20)\n",
    "\n",
    "\n",
    "    datos[3]=Pa\n",
    "    datos[4]=P0\n",
    "    datos[5]=P10\n",
    "    datos[6]=P20\n",
    "\n",
    "    return datos"
   ]
  },
  {
   "cell_type": "markdown",
   "metadata": {},
   "source": [
    "# # Mostramos las listas de \"tiempo\" y \"proyecciones\" para cada \"poblacion\""
   ]
  },
  {
   "cell_type": "code",
   "execution_count": 32,
   "metadata": {
    "collapsed": false,
    "scrolled": true
   },
   "outputs": [
    {
     "name": "stdout",
     "output_type": "stream",
     "text": [
      "[1991, 2001, 2010, 2017, 2019, 2029, 2039]\n",
      "[125725, 137061, 177083, 216167, 228842, 304276, 366570]\n",
      "[79340, 89547, 99430, 107865, 110404, 124023, 139322]\n",
      "[45047, 57791, 81995, 107610, 116301, 171493, 235899]\n",
      "[23411, 28486, 32758, 36507, 37655, 43959, 51319]\n",
      "[7209, 8292, 11124, 13981, 14925, 20690, 26125]\n",
      "[20674, 26183, 31787, 36967, 38596, 47885, 59410]\n",
      "[2613, 2929, 3307, 3635, 3735, 4275, 4840]\n",
      "[4642, 5753, 6627, 7396, 7632, 8927, 10442]\n",
      "[1913, 2185, 2374, 2533, 2580, 2830, 3104]\n",
      "[1527, 1981, 2228, 2441, 2505, 2853, 3250]\n",
      "[868, 1079, 1296, 1495, 1557, 1909, 2341]\n",
      "[864, 1087, 1264, 1421, 1469, 1737, 2054]\n",
      "[322, 384, 396, 406, 409, 423, 438]\n"
     ]
    }
   ],
   "source": [
    "print (tiempo)\n",
    "proyecciones = [0] * len(poblaciones)\n",
    "\n",
    "for i in range(len(poblaciones)):\n",
    "    proyecciones[i] = metodo_tasas_medias_anuales_decrecientes(poblaciones[i], tiempo)\n",
    "    print (proyecciones[i])\n"
   ]
  },
  {
   "cell_type": "markdown",
   "metadata": {},
   "source": [
    "# # Importamos librerias para graficar"
   ]
  },
  {
   "cell_type": "code",
   "execution_count": 33,
   "metadata": {
    "collapsed": false
   },
   "outputs": [
    {
     "data": {
      "text/html": [
       "\n",
       "    <div class=\"bk-root\">\n",
       "        <a href=\"http://bokeh.pydata.org\" target=\"_blank\" class=\"bk-logo bk-logo-small bk-logo-notebook\"></a>\n",
       "        <span id=\"16be646a-d043-4e11-885b-aad760b77117\">Loading BokehJS ...</span>\n",
       "    </div>"
      ]
     },
     "metadata": {},
     "output_type": "display_data"
    },
    {
     "data": {
      "application/javascript": [
       "\n",
       "(function(global) {\n",
       "  function now() {\n",
       "    return new Date();\n",
       "  }\n",
       "\n",
       "  if (typeof (window._bokeh_onload_callbacks) === \"undefined\") {\n",
       "    window._bokeh_onload_callbacks = [];\n",
       "  }\n",
       "\n",
       "  function run_callbacks() {\n",
       "    window._bokeh_onload_callbacks.forEach(function(callback) { callback() });\n",
       "    delete window._bokeh_onload_callbacks\n",
       "    console.info(\"Bokeh: all callbacks have finished\");\n",
       "  }\n",
       "\n",
       "  function load_libs(js_urls, callback) {\n",
       "    window._bokeh_onload_callbacks.push(callback);\n",
       "    if (window._bokeh_is_loading > 0) {\n",
       "      console.log(\"Bokeh: BokehJS is being loaded, scheduling callback at\", now());\n",
       "      return null;\n",
       "    }\n",
       "    if (js_urls == null || js_urls.length === 0) {\n",
       "      run_callbacks();\n",
       "      return null;\n",
       "    }\n",
       "    console.log(\"Bokeh: BokehJS not loaded, scheduling load and callback at\", now());\n",
       "    window._bokeh_is_loading = js_urls.length;\n",
       "    for (var i = 0; i < js_urls.length; i++) {\n",
       "      var url = js_urls[i];\n",
       "      var s = document.createElement('script');\n",
       "      s.src = url;\n",
       "      s.async = false;\n",
       "      s.onreadystatechange = s.onload = function() {\n",
       "        window._bokeh_is_loading--;\n",
       "        if (window._bokeh_is_loading === 0) {\n",
       "          console.log(\"Bokeh: all BokehJS libraries loaded\");\n",
       "          run_callbacks()\n",
       "        }\n",
       "      };\n",
       "      s.onerror = function() {\n",
       "        console.warn(\"failed to load library \" + url);\n",
       "      };\n",
       "      console.log(\"Bokeh: injecting script tag for BokehJS library: \", url);\n",
       "      document.getElementsByTagName(\"head\")[0].appendChild(s);\n",
       "    }\n",
       "  };\n",
       "\n",
       "  var js_urls = ['https://cdn.pydata.org/bokeh/release/bokeh-0.12.0.min.js', 'https://cdn.pydata.org/bokeh/release/bokeh-widgets-0.12.0.min.js', 'https://cdn.pydata.org/bokeh/release/bokeh-compiler-0.12.0.min.js'];\n",
       "\n",
       "  var inline_js = [\n",
       "    function(Bokeh) {\n",
       "      Bokeh.set_log_level(\"info\");\n",
       "    },\n",
       "    \n",
       "    function(Bokeh) {\n",
       "      Bokeh.$(\"#16be646a-d043-4e11-885b-aad760b77117\").text(\"BokehJS successfully loaded\");\n",
       "    },\n",
       "    function(Bokeh) {\n",
       "      console.log(\"Bokeh: injecting CSS: https://cdn.pydata.org/bokeh/release/bokeh-0.12.0.min.css\");\n",
       "      Bokeh.embed.inject_css(\"https://cdn.pydata.org/bokeh/release/bokeh-0.12.0.min.css\");\n",
       "      console.log(\"Bokeh: injecting CSS: https://cdn.pydata.org/bokeh/release/bokeh-widgets-0.12.0.min.css\");\n",
       "      Bokeh.embed.inject_css(\"https://cdn.pydata.org/bokeh/release/bokeh-widgets-0.12.0.min.css\");\n",
       "    }\n",
       "  ];\n",
       "\n",
       "  function run_inline_js() {\n",
       "    for (var i = 0; i < inline_js.length; i++) {\n",
       "      inline_js[i](window.Bokeh);\n",
       "    }\n",
       "  }\n",
       "\n",
       "  if (window._bokeh_is_loading === 0) {\n",
       "    console.log(\"Bokeh: BokehJS loaded, going straight to plotting\");\n",
       "    run_inline_js();\n",
       "  } else {\n",
       "    load_libs(js_urls, function() {\n",
       "      console.log(\"Bokeh: BokehJS plotting callback run at\", now());\n",
       "      run_inline_js();\n",
       "    });\n",
       "  }\n",
       "}(this));"
      ]
     },
     "metadata": {},
     "output_type": "display_data"
    }
   ],
   "source": [
    "from bokeh.io import push_notebook, show, output_notebook\n",
    "from bokeh.plotting import figure\n",
    "output_notebook()"
   ]
  },
  {
   "cell_type": "markdown",
   "metadata": {},
   "source": [
    "# # Definimos estilos para usar en los gráficos"
   ]
  },
  {
   "cell_type": "code",
   "execution_count": 34,
   "metadata": {
    "collapsed": false
   },
   "outputs": [
    {
     "data": {
      "text/html": [
       "\n",
       "\n",
       "    <div class=\"bk-root\">\n",
       "        <div class=\"plotdiv\" id=\"2fab15ae-faaa-4296-a687-51a873dec58f\"></div>\n",
       "    </div>\n",
       "<script type=\"text/javascript\">\n",
       "  \n",
       "  (function(global) {\n",
       "    function now() {\n",
       "      return new Date();\n",
       "    }\n",
       "  \n",
       "    if (typeof (window._bokeh_onload_callbacks) === \"undefined\") {\n",
       "      window._bokeh_onload_callbacks = [];\n",
       "    }\n",
       "  \n",
       "    function run_callbacks() {\n",
       "      window._bokeh_onload_callbacks.forEach(function(callback) { callback() });\n",
       "      delete window._bokeh_onload_callbacks\n",
       "      console.info(\"Bokeh: all callbacks have finished\");\n",
       "    }\n",
       "  \n",
       "    function load_libs(js_urls, callback) {\n",
       "      window._bokeh_onload_callbacks.push(callback);\n",
       "      if (window._bokeh_is_loading > 0) {\n",
       "        console.log(\"Bokeh: BokehJS is being loaded, scheduling callback at\", now());\n",
       "        return null;\n",
       "      }\n",
       "      if (js_urls == null || js_urls.length === 0) {\n",
       "        run_callbacks();\n",
       "        return null;\n",
       "      }\n",
       "      console.log(\"Bokeh: BokehJS not loaded, scheduling load and callback at\", now());\n",
       "      window._bokeh_is_loading = js_urls.length;\n",
       "      for (var i = 0; i < js_urls.length; i++) {\n",
       "        var url = js_urls[i];\n",
       "        var s = document.createElement('script');\n",
       "        s.src = url;\n",
       "        s.async = false;\n",
       "        s.onreadystatechange = s.onload = function() {\n",
       "          window._bokeh_is_loading--;\n",
       "          if (window._bokeh_is_loading === 0) {\n",
       "            console.log(\"Bokeh: all BokehJS libraries loaded\");\n",
       "            run_callbacks()\n",
       "          }\n",
       "        };\n",
       "        s.onerror = function() {\n",
       "          console.warn(\"failed to load library \" + url);\n",
       "        };\n",
       "        console.log(\"Bokeh: injecting script tag for BokehJS library: \", url);\n",
       "        document.getElementsByTagName(\"head\")[0].appendChild(s);\n",
       "      }\n",
       "    };var element = document.getElementById(\"2fab15ae-faaa-4296-a687-51a873dec58f\");\n",
       "    if (element == null) {\n",
       "      console.log(\"Bokeh: ERROR: autoload.js configured with elementid '2fab15ae-faaa-4296-a687-51a873dec58f' but no matching script tag was found. \")\n",
       "      return false;\n",
       "    }\n",
       "  \n",
       "    var js_urls = [];\n",
       "  \n",
       "    var inline_js = [\n",
       "      function(Bokeh) {\n",
       "        Bokeh.$(function() {\n",
       "            var docs_json = {\"55d7ec24-9fdc-4793-8ec9-d4af9830b867\":{\"roots\":{\"references\":[{\"attributes\":{\"use_scientific\":false},\"id\":\"0c6257fb-6211-4635-8818-008c15fba551\",\"type\":\"BasicTickFormatter\"},{\"attributes\":{\"plot\":{\"id\":\"016945cf-af2e-4c75-a184-dd3811159ced\",\"subtype\":\"Figure\",\"type\":\"Plot\"}},\"id\":\"0e059c6a-c1c2-431d-96b0-02ebab46e3b3\",\"type\":\"WheelZoomTool\"},{\"attributes\":{\"fill_alpha\":{\"value\":0.1},\"fill_color\":{\"value\":\"#1f77b4\"},\"line_alpha\":{\"value\":0.1},\"line_color\":{\"value\":\"#1f77b4\"},\"x\":{\"field\":\"x\"},\"y\":{\"field\":\"y\"}},\"id\":\"1a68fe1a-e4af-43a0-9f12-83bc581768da\",\"type\":\"Circle\"},{\"attributes\":{\"fill_color\":{\"value\":\"yellow\"},\"line_color\":{\"value\":\"yellow\"},\"x\":{\"field\":\"x\"},\"y\":{\"field\":\"y\"}},\"id\":\"5d10255a-3bf5-405d-9ad6-98847a58036a\",\"type\":\"Circle\"},{\"attributes\":{\"line_color\":{\"value\":\"red\"},\"line_width\":{\"value\":2},\"x\":{\"field\":\"x\"},\"y\":{\"field\":\"y\"}},\"id\":\"2f57e84f-428c-42b2-b5f1-d27889719fac\",\"type\":\"Line\"},{\"attributes\":{\"callback\":null,\"column_names\":[\"y\",\"x\"],\"data\":{\"x\":[1991,2001,2010,2017,2019,2029,2039],\"y\":[1527,1981,2228,2441,2505,2853,3250]}},\"id\":\"72f58c55-9cb7-45ca-b44e-77fa100bb689\",\"type\":\"ColumnDataSource\"},{\"attributes\":{\"axis_label\":\"Tiempo\",\"formatter\":{\"id\":\"059caf03-b53f-4d9e-aa37-db77d601574b\",\"type\":\"BasicTickFormatter\"},\"plot\":{\"id\":\"016945cf-af2e-4c75-a184-dd3811159ced\",\"subtype\":\"Figure\",\"type\":\"Plot\"},\"ticker\":{\"id\":\"126d153f-e074-461a-b65c-ee7bc349e0c1\",\"type\":\"BasicTicker\"}},\"id\":\"7c9441b4-e9d5-40d9-a120-266a7f959b87\",\"type\":\"LinearAxis\"},{\"attributes\":{\"fill_alpha\":{\"value\":0.1},\"fill_color\":{\"value\":\"#1f77b4\"},\"line_alpha\":{\"value\":0.1},\"line_color\":{\"value\":\"#1f77b4\"},\"x\":{\"field\":\"x\"},\"y\":{\"field\":\"y\"}},\"id\":\"70a81f80-4d63-430a-bb5b-5e6d3381093b\",\"type\":\"Circle\"},{\"attributes\":{\"data_source\":{\"id\":\"eaca5461-7f82-4e48-9e10-6e67706d3e0b\",\"type\":\"ColumnDataSource\"},\"glyph\":{\"id\":\"4af0e5d5-50a3-4590-9a77-5c7e20d5c84a\",\"type\":\"Line\"},\"hover_glyph\":null,\"nonselection_glyph\":{\"id\":\"d787623d-f490-4016-8acc-ce32d90a51ca\",\"type\":\"Line\"},\"selection_glyph\":null},\"id\":\"299a8efd-c71e-434c-8925-053096a3c505\",\"type\":\"GlyphRenderer\"},{\"attributes\":{\"callback\":null,\"column_names\":[\"x\",\"y\"],\"data\":{\"x\":[1991,2001,2010,2017,2019,2029,2039],\"y\":[864,1087,1264,1421,1469,1737,2054]}},\"id\":\"7687fe8a-0735-4779-8602-b7f0f0656dc5\",\"type\":\"ColumnDataSource\"},{\"attributes\":{\"data_source\":{\"id\":\"7687fe8a-0735-4779-8602-b7f0f0656dc5\",\"type\":\"ColumnDataSource\"},\"glyph\":{\"id\":\"382032f8-b61b-41d5-816b-c1a79a5961f4\",\"type\":\"Circle\"},\"hover_glyph\":null,\"nonselection_glyph\":{\"id\":\"841d1ad1-9e3c-4bc4-989d-60ead598b69a\",\"type\":\"Circle\"},\"selection_glyph\":null},\"id\":\"339ab28c-d4f3-443a-b7d4-ba2897c98f39\",\"type\":\"GlyphRenderer\"},{\"attributes\":{\"data_source\":{\"id\":\"e9d851f4-d3be-4414-84e2-5e4db16ed2e4\",\"type\":\"ColumnDataSource\"},\"glyph\":{\"id\":\"cad03e21-7ee3-401e-b90e-2545ff7bd6cf\",\"type\":\"Circle\"},\"hover_glyph\":null,\"nonselection_glyph\":{\"id\":\"e5d967f1-2981-42fd-a383-65db7c228790\",\"type\":\"Circle\"},\"selection_glyph\":null},\"id\":\"f755b841-2a6d-49b2-a832-2f58fb7515f9\",\"type\":\"GlyphRenderer\"},{\"attributes\":{\"line_color\":{\"value\":\"orange\"},\"line_width\":{\"value\":2},\"x\":{\"field\":\"x\"},\"y\":{\"field\":\"y\"}},\"id\":\"3e2cf7cd-6f30-4929-b427-8b357c447a97\",\"type\":\"Line\"},{\"attributes\":{\"data_source\":{\"id\":\"cfbe6b63-686c-4bce-8ff5-15d88bc35e72\",\"type\":\"ColumnDataSource\"},\"glyph\":{\"id\":\"6ce224c0-23db-4f92-8d8d-0368ae2bcaa5\",\"type\":\"Line\"},\"hover_glyph\":null,\"nonselection_glyph\":{\"id\":\"aaebdff6-186e-44b8-8883-19a6058d4381\",\"type\":\"Line\"},\"selection_glyph\":null},\"id\":\"c5968c68-281f-4552-9a8a-2253cc2466f2\",\"type\":\"GlyphRenderer\"},{\"attributes\":{\"callback\":null,\"column_names\":[\"y\",\"x\"],\"data\":{\"x\":[1991,2001,2010,2017,2019,2029,2039],\"y\":[45047,57791,81995,107610,116301,171493,235899]}},\"id\":\"85e19482-7ba9-4f3e-b6a3-80bca4dc4acc\",\"type\":\"ColumnDataSource\"},{\"attributes\":{\"callback\":null,\"column_names\":[\"x\",\"y\"],\"data\":{\"x\":[1991,2001,2010,2017,2019,2029,2039],\"y\":[125725,137061,177083,216167,228842,304276,366570]}},\"id\":\"7a77e4db-46cc-4d4b-b634-6f5e88b541f2\",\"type\":\"ColumnDataSource\"},{\"attributes\":{\"plot\":{\"id\":\"016945cf-af2e-4c75-a184-dd3811159ced\",\"subtype\":\"Figure\",\"type\":\"Plot\"}},\"id\":\"a6145bd2-8f3d-4add-94f1-1d8b55bebd0f\",\"type\":\"SaveTool\"},{\"attributes\":{\"fill_alpha\":{\"value\":0.1},\"fill_color\":{\"value\":\"#1f77b4\"},\"line_alpha\":{\"value\":0.1},\"line_color\":{\"value\":\"#1f77b4\"},\"x\":{\"field\":\"x\"},\"y\":{\"field\":\"y\"}},\"id\":\"0022bdbc-f34d-49c3-942e-fcd65eb1dd98\",\"type\":\"Circle\"},{\"attributes\":{\"line_color\":{\"value\":\"#164c71\"},\"line_width\":{\"value\":2},\"x\":{\"field\":\"x\"},\"y\":{\"field\":\"y\"}},\"id\":\"183d1d45-3971-45e4-91bf-8c6b9d2615b1\",\"type\":\"Line\"},{\"attributes\":{\"fill_alpha\":{\"value\":0.1},\"fill_color\":{\"value\":\"#1f77b4\"},\"line_alpha\":{\"value\":0.1},\"line_color\":{\"value\":\"#1f77b4\"},\"x\":{\"field\":\"x\"},\"y\":{\"field\":\"y\"}},\"id\":\"e9ad469a-42d1-496a-a922-cce3a1846115\",\"type\":\"Circle\"},{\"attributes\":{\"callback\":null,\"column_names\":[\"y\",\"x\"],\"data\":{\"x\":[1991,2001,2010,2017,2019,2029,2039],\"y\":[79340,89547,99430,107865,110404,124023,139322]}},\"id\":\"cf4a713b-15b6-4dbe-b76e-e9c645ce2129\",\"type\":\"ColumnDataSource\"},{\"attributes\":{\"line_alpha\":{\"value\":0.1},\"line_color\":{\"value\":\"#1f77b4\"},\"line_width\":{\"value\":2},\"x\":{\"field\":\"x\"},\"y\":{\"field\":\"y\"}},\"id\":\"aaebdff6-186e-44b8-8883-19a6058d4381\",\"type\":\"Line\"},{\"attributes\":{\"fill_color\":{\"value\":\"navy\"},\"line_color\":{\"value\":\"navy\"},\"x\":{\"field\":\"x\"},\"y\":{\"field\":\"y\"}},\"id\":\"c6828377-918a-439a-b334-93d0496a8700\",\"type\":\"Circle\"},{\"attributes\":{\"data_source\":{\"id\":\"6ecbc484-84ba-4309-8a85-0f83934884c6\",\"type\":\"ColumnDataSource\"},\"glyph\":{\"id\":\"0fafe447-635b-4984-a563-654b026538f0\",\"type\":\"Circle\"},\"hover_glyph\":null,\"nonselection_glyph\":{\"id\":\"0022bdbc-f34d-49c3-942e-fcd65eb1dd98\",\"type\":\"Circle\"},\"selection_glyph\":null},\"id\":\"db125133-c749-4082-a585-e36803336662\",\"type\":\"GlyphRenderer\"},{\"attributes\":{\"callback\":null,\"column_names\":[\"x\",\"y\"],\"data\":{\"x\":[1991,2001,2010,2017,2019,2029,2039],\"y\":[322,384,396,406,409,423,438]}},\"id\":\"b16cd4da-670d-402d-b52f-17abd5e96398\",\"type\":\"ColumnDataSource\"},{\"attributes\":{\"callback\":null,\"column_names\":[\"y\",\"x\"],\"data\":{\"x\":[1991,2001,2010,2017,2019,2029,2039],\"y\":[2613,2929,3307,3635,3735,4275,4840]}},\"id\":\"330416ad-f823-4c1e-9b40-024ddf61f914\",\"type\":\"ColumnDataSource\"},{\"attributes\":{\"line_alpha\":{\"value\":0.1},\"line_color\":{\"value\":\"#1f77b4\"},\"line_width\":{\"value\":2},\"x\":{\"field\":\"x\"},\"y\":{\"field\":\"y\"}},\"id\":\"f7d8a830-c883-4abb-a7b3-568a6982775c\",\"type\":\"Line\"},{\"attributes\":{\"data_source\":{\"id\":\"c62d938a-5c82-4fa6-96f6-611b22ec4140\",\"type\":\"ColumnDataSource\"},\"glyph\":{\"id\":\"7fa84563-b020-4ad9-9690-29ab4a4b8758\",\"type\":\"Line\"},\"hover_glyph\":null,\"nonselection_glyph\":{\"id\":\"9c8e3ab6-974f-400c-beed-989b448a6734\",\"type\":\"Line\"},\"selection_glyph\":null},\"id\":\"ae74d41f-36d6-4262-820f-d36e6c0e8ff4\",\"type\":\"GlyphRenderer\"},{\"attributes\":{\"fill_alpha\":{\"value\":0.1},\"fill_color\":{\"value\":\"#1f77b4\"},\"line_alpha\":{\"value\":0.1},\"line_color\":{\"value\":\"#1f77b4\"},\"x\":{\"field\":\"x\"},\"y\":{\"field\":\"y\"}},\"id\":\"1c01dace-590d-4f97-b41b-805474c48189\",\"type\":\"Circle\"},{\"attributes\":{\"bottom_units\":\"screen\",\"fill_alpha\":{\"value\":0.5},\"fill_color\":{\"value\":\"lightgrey\"},\"left_units\":\"screen\",\"level\":\"overlay\",\"line_alpha\":{\"value\":1.0},\"line_color\":{\"value\":\"black\"},\"line_dash\":[4,4],\"line_width\":{\"value\":2},\"plot\":null,\"render_mode\":\"css\",\"right_units\":\"screen\",\"top_units\":\"screen\"},\"id\":\"ef9c670b-5c31-4a5d-a759-555edabef81e\",\"type\":\"BoxAnnotation\"},{\"attributes\":{\"callback\":null},\"id\":\"07518031-b6a0-4c24-a83f-d77fd52452bd\",\"type\":\"DataRange1d\"},{\"attributes\":{\"plot\":{\"id\":\"016945cf-af2e-4c75-a184-dd3811159ced\",\"subtype\":\"Figure\",\"type\":\"Plot\"},\"ticker\":{\"id\":\"126d153f-e074-461a-b65c-ee7bc349e0c1\",\"type\":\"BasicTicker\"}},\"id\":\"0bb58f09-e455-4aac-abd1-39760200f869\",\"type\":\"Grid\"},{\"attributes\":{\"line_alpha\":{\"value\":0.1},\"line_color\":{\"value\":\"#1f77b4\"},\"line_width\":{\"value\":2},\"x\":{\"field\":\"x\"},\"y\":{\"field\":\"y\"}},\"id\":\"a4a97226-be1b-410a-878f-e063f9796637\",\"type\":\"Line\"},{\"attributes\":{\"callback\":null,\"column_names\":[\"y\",\"x\"],\"data\":{\"x\":[1991,2001,2010,2017,2019,2029,2039],\"y\":[1913,2185,2374,2533,2580,2830,3104]}},\"id\":\"4caa4996-468e-4261-9c9b-75e404da0b7e\",\"type\":\"ColumnDataSource\"},{\"attributes\":{\"fill_alpha\":{\"value\":0.1},\"fill_color\":{\"value\":\"#1f77b4\"},\"line_alpha\":{\"value\":0.1},\"line_color\":{\"value\":\"#1f77b4\"},\"x\":{\"field\":\"x\"},\"y\":{\"field\":\"y\"}},\"id\":\"841d1ad1-9e3c-4bc4-989d-60ead598b69a\",\"type\":\"Circle\"},{\"attributes\":{\"data_source\":{\"id\":\"4caa4996-468e-4261-9c9b-75e404da0b7e\",\"type\":\"ColumnDataSource\"},\"glyph\":{\"id\":\"07532d8c-39b7-4074-b271-23901c8651cc\",\"type\":\"Line\"},\"hover_glyph\":null,\"nonselection_glyph\":{\"id\":\"a4a97226-be1b-410a-878f-e063f9796637\",\"type\":\"Line\"},\"selection_glyph\":null},\"id\":\"406d4207-6ac9-4042-bf0c-bcd3b3dd4201\",\"type\":\"GlyphRenderer\"},{\"attributes\":{\"callback\":null,\"column_names\":[\"x\",\"y\"],\"data\":{\"x\":[1991,2001,2010,2017,2019,2029,2039],\"y\":[4642,5753,6627,7396,7632,8927,10442]}},\"id\":\"e9d851f4-d3be-4414-84e2-5e4db16ed2e4\",\"type\":\"ColumnDataSource\"},{\"attributes\":{\"line_alpha\":{\"value\":0.1},\"line_color\":{\"value\":\"#1f77b4\"},\"line_width\":{\"value\":2},\"x\":{\"field\":\"x\"},\"y\":{\"field\":\"y\"}},\"id\":\"9c8e3ab6-974f-400c-beed-989b448a6734\",\"type\":\"Line\"},{\"attributes\":{\"active_drag\":\"auto\",\"active_scroll\":\"auto\",\"active_tap\":\"auto\",\"tools\":[{\"id\":\"1e7f98ec-f023-42a6-a105-2f71a6a1b0f7\",\"type\":\"PanTool\"},{\"id\":\"0e059c6a-c1c2-431d-96b0-02ebab46e3b3\",\"type\":\"WheelZoomTool\"},{\"id\":\"01caa577-2fe0-4295-9500-c44ec978addd\",\"type\":\"BoxZoomTool\"},{\"id\":\"a6145bd2-8f3d-4add-94f1-1d8b55bebd0f\",\"type\":\"SaveTool\"},{\"id\":\"eb82c970-8d2d-4f13-b3c4-3822abe122ca\",\"type\":\"ResetTool\"},{\"id\":\"98322e50-81cb-43ca-8c58-b84fabdee8da\",\"type\":\"HelpTool\"}]},\"id\":\"65c4df4e-a10a-494c-a294-2011c537f0df\",\"type\":\"Toolbar\"},{\"attributes\":{\"callback\":null,\"column_names\":[\"y\",\"x\"],\"data\":{\"x\":[1991,2001,2010,2017,2019,2029,2039],\"y\":[864,1087,1264,1421,1469,1737,2054]}},\"id\":\"92534d88-6a90-4767-ab4f-96fa5effcced\",\"type\":\"ColumnDataSource\"},{\"attributes\":{\"callback\":null,\"column_names\":[\"x\",\"y\"],\"data\":{\"x\":[1991,2001,2010,2017,2019,2029,2039],\"y\":[1913,2185,2374,2533,2580,2830,3104]}},\"id\":\"011a6b6c-c129-4970-aa27-3ff54485b9c3\",\"type\":\"ColumnDataSource\"},{\"attributes\":{\"data_source\":{\"id\":\"abdd0bc8-5cb9-44ec-90f2-6d85b9918c52\",\"type\":\"ColumnDataSource\"},\"glyph\":{\"id\":\"754c816e-5163-4eff-b124-e9bfc27f780d\",\"type\":\"Circle\"},\"hover_glyph\":null,\"nonselection_glyph\":{\"id\":\"6caa0e45-de3a-49c0-8765-a4ba117e06bf\",\"type\":\"Circle\"},\"selection_glyph\":null},\"id\":\"d6eb1a3b-75f5-4d29-b2cb-ea7f1789c552\",\"type\":\"GlyphRenderer\"},{\"attributes\":{\"line_alpha\":{\"value\":0.1},\"line_color\":{\"value\":\"#1f77b4\"},\"line_width\":{\"value\":2},\"x\":{\"field\":\"x\"},\"y\":{\"field\":\"y\"}},\"id\":\"d787623d-f490-4016-8acc-ce32d90a51ca\",\"type\":\"Line\"},{\"attributes\":{\"data_source\":{\"id\":\"816e0907-7ba7-4e48-a932-bbddb441184b\",\"type\":\"ColumnDataSource\"},\"glyph\":{\"id\":\"df53a888-5333-4799-8376-b6d70f52b90b\",\"type\":\"Circle\"},\"hover_glyph\":null,\"nonselection_glyph\":{\"id\":\"e9ad469a-42d1-496a-a922-cce3a1846115\",\"type\":\"Circle\"},\"selection_glyph\":null},\"id\":\"61c25229-d0b0-427a-9f54-552ceac8bb67\",\"type\":\"GlyphRenderer\"},{\"attributes\":{\"callback\":null,\"column_names\":[\"x\",\"y\"],\"data\":{\"x\":[1991,2001,2010,2017,2019,2029,2039],\"y\":[45047,57791,81995,107610,116301,171493,235899]}},\"id\":\"a160d4f8-1c8d-4883-bdb2-14026ba16634\",\"type\":\"ColumnDataSource\"},{\"attributes\":{\"legends\":[[\"Comodoro Rivadavia\",[{\"id\":\"d90b5460-5761-40fe-8d18-9e289ac40d04\",\"type\":\"GlyphRenderer\"},{\"id\":\"b0690f35-5ccb-400e-9766-50c8f58a369d\",\"type\":\"GlyphRenderer\"}]],[\"Trelew\",[{\"id\":\"2e6d3bbf-ba2e-4bf7-9409-652d45d3cc24\",\"type\":\"GlyphRenderer\"},{\"id\":\"e9641416-8f5a-4e1f-a84e-89ed707cfb91\",\"type\":\"GlyphRenderer\"}]],[\"Puerto Madryn\",[{\"id\":\"aade1a6c-9c64-4de1-87c3-a5057541b45d\",\"type\":\"GlyphRenderer\"},{\"id\":\"4082a90a-44c2-482f-a892-c99e42ebbad3\",\"type\":\"GlyphRenderer\"}]],[\"Esquel\",[{\"id\":\"61c25229-d0b0-427a-9f54-552ceac8bb67\",\"type\":\"GlyphRenderer\"},{\"id\":\"2d6d890c-c7cf-4af7-b28b-fd0586e28aaa\",\"type\":\"GlyphRenderer\"}]],[\"Sarmiento\",[{\"id\":\"cd7194ff-ff44-4b75-b957-0faacfc211c7\",\"type\":\"GlyphRenderer\"},{\"id\":\"5fef7deb-5ab7-4b73-a1c8-274ba826ce24\",\"type\":\"GlyphRenderer\"}]],[\"Rawson\",[{\"id\":\"d6eb1a3b-75f5-4d29-b2cb-ea7f1789c552\",\"type\":\"GlyphRenderer\"},{\"id\":\"15fef6f5-5a05-4c16-b5d2-6a893064f63b\",\"type\":\"GlyphRenderer\"}]],[\"Dolavon\",[{\"id\":\"4ed53b9b-27d5-493f-acba-5c10c3ed09ca\",\"type\":\"GlyphRenderer\"},{\"id\":\"82387054-aa9a-4418-b064-9cb3adac1ace\",\"type\":\"GlyphRenderer\"}]],[\"Gaiman\",[{\"id\":\"f755b841-2a6d-49b2-a832-2f58fb7515f9\",\"type\":\"GlyphRenderer\"},{\"id\":\"c5968c68-281f-4552-9a8a-2253cc2466f2\",\"type\":\"GlyphRenderer\"}]],[\"Gobernador Costa\",[{\"id\":\"cb6d5646-bacd-46c3-909b-6914770cdc26\",\"type\":\"GlyphRenderer\"},{\"id\":\"406d4207-6ac9-4042-bf0c-bcd3b3dd4201\",\"type\":\"GlyphRenderer\"}]],[\"Cholila\",[{\"id\":\"db125133-c749-4082-a585-e36803336662\",\"type\":\"GlyphRenderer\"},{\"id\":\"aab0ee83-af6d-4f40-9d7b-c6a302c92ce4\",\"type\":\"GlyphRenderer\"}]],[\"Camarones\",[{\"id\":\"42a32277-f332-4464-b300-a780e5aadcea\",\"type\":\"GlyphRenderer\"},{\"id\":\"ae74d41f-36d6-4262-820f-d36e6c0e8ff4\",\"type\":\"GlyphRenderer\"}]],[\"Paso de Indios\",[{\"id\":\"339ab28c-d4f3-443a-b7d4-ba2897c98f39\",\"type\":\"GlyphRenderer\"},{\"id\":\"a0afd328-9e0a-41e4-9e65-48ff08d99a32\",\"type\":\"GlyphRenderer\"}]],[\"Paso del Sapo\",[{\"id\":\"d3fa592a-5f4a-4aa2-9752-e690c4c2ad86\",\"type\":\"GlyphRenderer\"},{\"id\":\"299a8efd-c71e-434c-8925-053096a3c505\",\"type\":\"GlyphRenderer\"}]]],\"plot\":{\"id\":\"016945cf-af2e-4c75-a184-dd3811159ced\",\"subtype\":\"Figure\",\"type\":\"Plot\"}},\"id\":\"afa3aa13-c36c-4d00-ac28-adb6aa507824\",\"type\":\"Legend\"},{\"attributes\":{},\"id\":\"126d153f-e074-461a-b65c-ee7bc349e0c1\",\"type\":\"BasicTicker\"},{\"attributes\":{\"line_alpha\":{\"value\":0.1},\"line_color\":{\"value\":\"#1f77b4\"},\"line_width\":{\"value\":2},\"x\":{\"field\":\"x\"},\"y\":{\"field\":\"y\"}},\"id\":\"729a67a3-c14b-4b26-9bcf-3d6f1f180b36\",\"type\":\"Line\"},{\"attributes\":{\"callback\":null,\"column_names\":[\"x\",\"y\"],\"data\":{\"x\":[1991,2001,2010,2017,2019,2029,2039],\"y\":[79340,89547,99430,107865,110404,124023,139322]}},\"id\":\"ce157088-65bc-42c1-a0e1-6631059f7fbe\",\"type\":\"ColumnDataSource\"},{\"attributes\":{\"line_color\":{\"value\":\"navy\"},\"line_width\":{\"value\":2},\"x\":{\"field\":\"x\"},\"y\":{\"field\":\"y\"}},\"id\":\"2c8788c4-306f-426b-acae-fdd7d3203d95\",\"type\":\"Line\"},{\"attributes\":{\"line_alpha\":{\"value\":0.1},\"line_color\":{\"value\":\"#1f77b4\"},\"line_width\":{\"value\":2},\"x\":{\"field\":\"x\"},\"y\":{\"field\":\"y\"}},\"id\":\"f5c4f929-fdbd-4f90-870e-dd1559d84c34\",\"type\":\"Line\"},{\"attributes\":{\"line_color\":{\"value\":\"cyan\"},\"line_width\":{\"value\":2},\"x\":{\"field\":\"x\"},\"y\":{\"field\":\"y\"}},\"id\":\"07532d8c-39b7-4074-b271-23901c8651cc\",\"type\":\"Line\"},{\"attributes\":{\"data_source\":{\"id\":\"ce157088-65bc-42c1-a0e1-6631059f7fbe\",\"type\":\"ColumnDataSource\"},\"glyph\":{\"id\":\"ee359c6f-30ba-4e53-997f-4a9adf33a85e\",\"type\":\"Circle\"},\"hover_glyph\":null,\"nonselection_glyph\":{\"id\":\"926f42e8-a444-4cb0-803f-7f121834ac5d\",\"type\":\"Circle\"},\"selection_glyph\":null},\"id\":\"2e6d3bbf-ba2e-4bf7-9409-652d45d3cc24\",\"type\":\"GlyphRenderer\"},{\"attributes\":{\"data_source\":{\"id\":\"72f58c55-9cb7-45ca-b44e-77fa100bb689\",\"type\":\"ColumnDataSource\"},\"glyph\":{\"id\":\"e6d13ce5-e136-44af-8901-d1d00ea369d1\",\"type\":\"Line\"},\"hover_glyph\":null,\"nonselection_glyph\":{\"id\":\"89e0a932-116d-4e93-8195-d52f7d259849\",\"type\":\"Line\"},\"selection_glyph\":null},\"id\":\"aab0ee83-af6d-4f40-9d7b-c6a302c92ce4\",\"type\":\"GlyphRenderer\"},{\"attributes\":{\"plot\":{\"id\":\"016945cf-af2e-4c75-a184-dd3811159ced\",\"subtype\":\"Figure\",\"type\":\"Plot\"}},\"id\":\"1e7f98ec-f023-42a6-a105-2f71a6a1b0f7\",\"type\":\"PanTool\"},{\"attributes\":{\"fill_color\":{\"value\":\"pink\"},\"line_color\":{\"value\":\"pink\"},\"x\":{\"field\":\"x\"},\"y\":{\"field\":\"y\"}},\"id\":\"754c816e-5163-4eff-b124-e9bfc27f780d\",\"type\":\"Circle\"},{\"attributes\":{\"fill_alpha\":{\"value\":0.1},\"fill_color\":{\"value\":\"#1f77b4\"},\"line_alpha\":{\"value\":0.1},\"line_color\":{\"value\":\"#1f77b4\"},\"x\":{\"field\":\"x\"},\"y\":{\"field\":\"y\"}},\"id\":\"6caa0e45-de3a-49c0-8765-a4ba117e06bf\",\"type\":\"Circle\"},{\"attributes\":{\"callback\":null,\"column_names\":[\"y\",\"x\"],\"data\":{\"x\":[1991,2001,2010,2017,2019,2029,2039],\"y\":[20674,26183,31787,36967,38596,47885,59410]}},\"id\":\"024e5ee1-7996-43b3-90ac-457cf29e6337\",\"type\":\"ColumnDataSource\"},{\"attributes\":{\"callback\":null},\"id\":\"0e4917de-cb59-4dd5-be02-f6f64ca1212b\",\"type\":\"DataRange1d\"},{\"attributes\":{\"data_source\":{\"id\":\"b16cd4da-670d-402d-b52f-17abd5e96398\",\"type\":\"ColumnDataSource\"},\"glyph\":{\"id\":\"31fc0e32-8290-46d2-94e4-d60e95a972c9\",\"type\":\"Circle\"},\"hover_glyph\":null,\"nonselection_glyph\":{\"id\":\"70a81f80-4d63-430a-bb5b-5e6d3381093b\",\"type\":\"Circle\"},\"selection_glyph\":null},\"id\":\"d3fa592a-5f4a-4aa2-9752-e690c4c2ad86\",\"type\":\"GlyphRenderer\"},{\"attributes\":{\"line_alpha\":{\"value\":0.1},\"line_color\":{\"value\":\"#1f77b4\"},\"line_width\":{\"value\":2},\"x\":{\"field\":\"x\"},\"y\":{\"field\":\"y\"}},\"id\":\"be576b8e-aa98-45e8-a7aa-816d044530b3\",\"type\":\"Line\"},{\"attributes\":{\"data_source\":{\"id\":\"92534d88-6a90-4767-ab4f-96fa5effcced\",\"type\":\"ColumnDataSource\"},\"glyph\":{\"id\":\"183d1d45-3971-45e4-91bf-8c6b9d2615b1\",\"type\":\"Line\"},\"hover_glyph\":null,\"nonselection_glyph\":{\"id\":\"729a67a3-c14b-4b26-9bcf-3d6f1f180b36\",\"type\":\"Line\"},\"selection_glyph\":null},\"id\":\"a0afd328-9e0a-41e4-9e65-48ff08d99a32\",\"type\":\"GlyphRenderer\"},{\"attributes\":{\"fill_color\":{\"value\":\"blue\"},\"line_color\":{\"value\":\"blue\"},\"x\":{\"field\":\"x\"},\"y\":{\"field\":\"y\"}},\"id\":\"00a2df02-3c34-4c6f-bb2a-b0f97a90be5b\",\"type\":\"Circle\"},{\"attributes\":{\"callback\":null,\"column_names\":[\"x\",\"y\"],\"data\":{\"x\":[1991,2001,2010,2017,2019,2029,2039],\"y\":[20674,26183,31787,36967,38596,47885,59410]}},\"id\":\"abdd0bc8-5cb9-44ec-90f2-6d85b9918c52\",\"type\":\"ColumnDataSource\"},{\"attributes\":{\"callback\":null,\"column_names\":[\"x\",\"y\"],\"data\":{\"x\":[1991,2001,2010,2017,2019,2029,2039],\"y\":[23411,28486,32758,36507,37655,43959,51319]}},\"id\":\"816e0907-7ba7-4e48-a932-bbddb441184b\",\"type\":\"ColumnDataSource\"},{\"attributes\":{\"line_alpha\":{\"value\":0.1},\"line_color\":{\"value\":\"#1f77b4\"},\"line_width\":{\"value\":2},\"x\":{\"field\":\"x\"},\"y\":{\"field\":\"y\"}},\"id\":\"89e0a932-116d-4e93-8195-d52f7d259849\",\"type\":\"Line\"},{\"attributes\":{\"data_source\":{\"id\":\"39a37d53-b84f-4a3f-b81c-dc0bfd385a4e\",\"type\":\"ColumnDataSource\"},\"glyph\":{\"id\":\"9c323ebf-41f2-481a-a7f4-fbaed7476be5\",\"type\":\"Line\"},\"hover_glyph\":null,\"nonselection_glyph\":{\"id\":\"f7d8a830-c883-4abb-a7b3-568a6982775c\",\"type\":\"Line\"},\"selection_glyph\":null},\"id\":\"2d6d890c-c7cf-4af7-b28b-fd0586e28aaa\",\"type\":\"GlyphRenderer\"},{\"attributes\":{\"line_alpha\":{\"value\":0.1},\"line_color\":{\"value\":\"#1f77b4\"},\"line_width\":{\"value\":2},\"x\":{\"field\":\"x\"},\"y\":{\"field\":\"y\"}},\"id\":\"24bbc5a0-9bad-4077-835e-2423b90b2db3\",\"type\":\"Line\"},{\"attributes\":{},\"id\":\"059caf03-b53f-4d9e-aa37-db77d601574b\",\"type\":\"BasicTickFormatter\"},{\"attributes\":{\"data_source\":{\"id\":\"024e5ee1-7996-43b3-90ac-457cf29e6337\",\"type\":\"ColumnDataSource\"},\"glyph\":{\"id\":\"432df8d6-41b9-4aa4-b0ff-a1509c7d4331\",\"type\":\"Line\"},\"hover_glyph\":null,\"nonselection_glyph\":{\"id\":\"24bbc5a0-9bad-4077-835e-2423b90b2db3\",\"type\":\"Line\"},\"selection_glyph\":null},\"id\":\"15fef6f5-5a05-4c16-b5d2-6a893064f63b\",\"type\":\"GlyphRenderer\"},{\"attributes\":{\"fill_alpha\":{\"value\":0.1},\"fill_color\":{\"value\":\"#1f77b4\"},\"line_alpha\":{\"value\":0.1},\"line_color\":{\"value\":\"#1f77b4\"},\"x\":{\"field\":\"x\"},\"y\":{\"field\":\"y\"}},\"id\":\"926f42e8-a444-4cb0-803f-7f121834ac5d\",\"type\":\"Circle\"},{\"attributes\":{\"fill_alpha\":{\"value\":0.1},\"fill_color\":{\"value\":\"#1f77b4\"},\"line_alpha\":{\"value\":0.1},\"line_color\":{\"value\":\"#1f77b4\"},\"x\":{\"field\":\"x\"},\"y\":{\"field\":\"y\"}},\"id\":\"d71c6fa7-5e75-4845-b18f-49007ef3e56e\",\"type\":\"Circle\"},{\"attributes\":{\"data_source\":{\"id\":\"cf4a713b-15b6-4dbe-b76e-e9c645ce2129\",\"type\":\"ColumnDataSource\"},\"glyph\":{\"id\":\"3e2cf7cd-6f30-4929-b427-8b357c447a97\",\"type\":\"Line\"},\"hover_glyph\":null,\"nonselection_glyph\":{\"id\":\"f5c4f929-fdbd-4f90-870e-dd1559d84c34\",\"type\":\"Line\"},\"selection_glyph\":null},\"id\":\"e9641416-8f5a-4e1f-a84e-89ed707cfb91\",\"type\":\"GlyphRenderer\"},{\"attributes\":{\"line_color\":{\"value\":\"yellow\"},\"line_width\":{\"value\":2},\"x\":{\"field\":\"x\"},\"y\":{\"field\":\"y\"}},\"id\":\"54205b1b-46e3-4520-857b-11d68022c289\",\"type\":\"Line\"},{\"attributes\":{\"overlay\":{\"id\":\"ef9c670b-5c31-4a5d-a759-555edabef81e\",\"type\":\"BoxAnnotation\"},\"plot\":{\"id\":\"016945cf-af2e-4c75-a184-dd3811159ced\",\"subtype\":\"Figure\",\"type\":\"Plot\"}},\"id\":\"01caa577-2fe0-4295-9500-c44ec978addd\",\"type\":\"BoxZoomTool\"},{\"attributes\":{\"dimension\":1,\"plot\":{\"id\":\"016945cf-af2e-4c75-a184-dd3811159ced\",\"subtype\":\"Figure\",\"type\":\"Plot\"},\"ticker\":{\"id\":\"d1dedb4a-d068-45bf-b7a6-e57162140b09\",\"type\":\"BasicTicker\"}},\"id\":\"9a170d0c-26b2-4649-a2a4-cb07e1d00102\",\"type\":\"Grid\"},{\"attributes\":{\"callback\":null,\"column_names\":[\"y\",\"x\"],\"data\":{\"x\":[1991,2001,2010,2017,2019,2029,2039],\"y\":[23411,28486,32758,36507,37655,43959,51319]}},\"id\":\"39a37d53-b84f-4a3f-b81c-dc0bfd385a4e\",\"type\":\"ColumnDataSource\"},{\"attributes\":{\"align\":\"center\",\"plot\":null,\"text\":\"Poblaci\\u00f3n - M\\u00e9todo de las Tasas Medias Anuales Decrecientes\",\"text_color\":{\"value\":\"blue\"},\"text_font\":\"times\",\"text_font_size\":{\"value\":\"20px\"},\"text_font_style\":\"italic\"},\"id\":\"fc8bde2b-6e29-4b71-b342-421afdcfc085\",\"type\":\"Title\"},{\"attributes\":{\"data_source\":{\"id\":\"011a6b6c-c129-4970-aa27-3ff54485b9c3\",\"type\":\"ColumnDataSource\"},\"glyph\":{\"id\":\"a561d63b-481a-4c27-83ef-00d1aab19417\",\"type\":\"Circle\"},\"hover_glyph\":null,\"nonselection_glyph\":{\"id\":\"a2c99b8a-47d9-4a46-9bf6-960cfa953e7e\",\"type\":\"Circle\"},\"selection_glyph\":null},\"id\":\"cb6d5646-bacd-46c3-909b-6914770cdc26\",\"type\":\"GlyphRenderer\"},{\"attributes\":{\"fill_color\":{\"value\":\"olive\"},\"line_color\":{\"value\":\"olive\"},\"x\":{\"field\":\"x\"},\"y\":{\"field\":\"y\"}},\"id\":\"2073f5b1-230e-4d96-9040-a1dd57a8d0d3\",\"type\":\"Circle\"},{\"attributes\":{\"fill_color\":{\"value\":\"orange\"},\"line_color\":{\"value\":\"orange\"},\"x\":{\"field\":\"x\"},\"y\":{\"field\":\"y\"}},\"id\":\"ee359c6f-30ba-4e53-997f-4a9adf33a85e\",\"type\":\"Circle\"},{\"attributes\":{\"fill_alpha\":{\"value\":0.1},\"fill_color\":{\"value\":\"#1f77b4\"},\"line_alpha\":{\"value\":0.1},\"line_color\":{\"value\":\"#1f77b4\"},\"x\":{\"field\":\"x\"},\"y\":{\"field\":\"y\"}},\"id\":\"a2c99b8a-47d9-4a46-9bf6-960cfa953e7e\",\"type\":\"Circle\"},{\"attributes\":{\"line_color\":{\"value\":\"olive\"},\"line_width\":{\"value\":2},\"x\":{\"field\":\"x\"},\"y\":{\"field\":\"y\"}},\"id\":\"7fa84563-b020-4ad9-9690-29ab4a4b8758\",\"type\":\"Line\"},{\"attributes\":{\"callback\":null,\"column_names\":[\"x\",\"y\"],\"data\":{\"x\":[1991,2001,2010,2017,2019,2029,2039],\"y\":[7209,8292,11124,13981,14925,20690,26125]}},\"id\":\"08ba1c78-6247-4ffd-9917-38c104bef692\",\"type\":\"ColumnDataSource\"},{\"attributes\":{\"callback\":null,\"column_names\":[\"y\",\"x\"],\"data\":{\"x\":[1991,2001,2010,2017,2019,2029,2039],\"y\":[4642,5753,6627,7396,7632,8927,10442]}},\"id\":\"cfbe6b63-686c-4bce-8ff5-15d88bc35e72\",\"type\":\"ColumnDataSource\"},{\"attributes\":{\"data_source\":{\"id\":\"7a77e4db-46cc-4d4b-b634-6f5e88b541f2\",\"type\":\"ColumnDataSource\"},\"glyph\":{\"id\":\"4a5ee4c7-3ecf-46d2-b39f-90017467b1c3\",\"type\":\"Circle\"},\"hover_glyph\":null,\"nonselection_glyph\":{\"id\":\"d71dcacf-d19b-489d-aa89-fe01f801b07c\",\"type\":\"Circle\"},\"selection_glyph\":null},\"id\":\"d90b5460-5761-40fe-8d18-9e289ac40d04\",\"type\":\"GlyphRenderer\"},{\"attributes\":{\"line_color\":{\"value\":\"#7c1b65\"},\"line_width\":{\"value\":2},\"x\":{\"field\":\"x\"},\"y\":{\"field\":\"y\"}},\"id\":\"4af0e5d5-50a3-4590-9a77-5c7e20d5c84a\",\"type\":\"Line\"},{\"attributes\":{\"plot\":{\"id\":\"016945cf-af2e-4c75-a184-dd3811159ced\",\"subtype\":\"Figure\",\"type\":\"Plot\"}},\"id\":\"98322e50-81cb-43ca-8c58-b84fabdee8da\",\"type\":\"HelpTool\"},{\"attributes\":{\"callback\":null,\"column_names\":[\"y\",\"x\"],\"data\":{\"x\":[1991,2001,2010,2017,2019,2029,2039],\"y\":[125725,137061,177083,216167,228842,304276,366570]}},\"id\":\"677163ba-e937-4f40-a98b-5748bcbbc63e\",\"type\":\"ColumnDataSource\"},{\"attributes\":{\"data_source\":{\"id\":\"63e0ac84-4b0f-4e67-ba71-9805cbe48d3b\",\"type\":\"ColumnDataSource\"},\"glyph\":{\"id\":\"54205b1b-46e3-4520-857b-11d68022c289\",\"type\":\"Line\"},\"hover_glyph\":null,\"nonselection_glyph\":{\"id\":\"18aa17f7-044f-49e9-8274-5cfd8db7338b\",\"type\":\"Line\"},\"selection_glyph\":null},\"id\":\"5fef7deb-5ab7-4b73-a1c8-274ba826ce24\",\"type\":\"GlyphRenderer\"},{\"attributes\":{\"fill_alpha\":{\"value\":0.1},\"fill_color\":{\"value\":\"#1f77b4\"},\"line_alpha\":{\"value\":0.1},\"line_color\":{\"value\":\"#1f77b4\"},\"x\":{\"field\":\"x\"},\"y\":{\"field\":\"y\"}},\"id\":\"29eefe9d-9b88-4a17-bef8-196d27acdd50\",\"type\":\"Circle\"},{\"attributes\":{\"callback\":null,\"column_names\":[\"x\",\"y\"],\"data\":{\"x\":[1991,2001,2010,2017,2019,2029,2039],\"y\":[1527,1981,2228,2441,2505,2853,3250]}},\"id\":\"6ecbc484-84ba-4309-8a85-0f83934884c6\",\"type\":\"ColumnDataSource\"},{\"attributes\":{\"data_source\":{\"id\":\"330416ad-f823-4c1e-9b40-024ddf61f914\",\"type\":\"ColumnDataSource\"},\"glyph\":{\"id\":\"2c8788c4-306f-426b-acae-fdd7d3203d95\",\"type\":\"Line\"},\"hover_glyph\":null,\"nonselection_glyph\":{\"id\":\"aa3c737f-1a4e-4641-afe0-f065405f47b9\",\"type\":\"Line\"},\"selection_glyph\":null},\"id\":\"82387054-aa9a-4418-b064-9cb3adac1ace\",\"type\":\"GlyphRenderer\"},{\"attributes\":{\"line_alpha\":{\"value\":0.1},\"line_color\":{\"value\":\"#1f77b4\"},\"line_width\":{\"value\":2},\"x\":{\"field\":\"x\"},\"y\":{\"field\":\"y\"}},\"id\":\"aa3c737f-1a4e-4641-afe0-f065405f47b9\",\"type\":\"Line\"},{\"attributes\":{\"fill_alpha\":{\"value\":0.1},\"fill_color\":{\"value\":\"#1f77b4\"},\"line_alpha\":{\"value\":0.1},\"line_color\":{\"value\":\"#1f77b4\"},\"x\":{\"field\":\"x\"},\"y\":{\"field\":\"y\"}},\"id\":\"e5d967f1-2981-42fd-a383-65db7c228790\",\"type\":\"Circle\"},{\"attributes\":{\"callback\":null,\"column_names\":[\"x\",\"y\"],\"data\":{\"x\":[1991,2001,2010,2017,2019,2029,2039],\"y\":[868,1079,1296,1495,1557,1909,2341]}},\"id\":\"b26db0e0-9e54-4618-8949-5f4c6ec20986\",\"type\":\"ColumnDataSource\"},{\"attributes\":{\"callback\":null,\"column_names\":[\"y\",\"x\"],\"data\":{\"x\":[1991,2001,2010,2017,2019,2029,2039],\"y\":[868,1079,1296,1495,1557,1909,2341]}},\"id\":\"c62d938a-5c82-4fa6-96f6-611b22ec4140\",\"type\":\"ColumnDataSource\"},{\"attributes\":{\"fill_color\":{\"value\":\"red\"},\"line_color\":{\"value\":\"red\"},\"x\":{\"field\":\"x\"},\"y\":{\"field\":\"y\"}},\"id\":\"4a5ee4c7-3ecf-46d2-b39f-90017467b1c3\",\"type\":\"Circle\"},{\"attributes\":{\"data_source\":{\"id\":\"27b4edb2-d86c-4ed5-84e6-6fb1235bce61\",\"type\":\"ColumnDataSource\"},\"glyph\":{\"id\":\"c6828377-918a-439a-b334-93d0496a8700\",\"type\":\"Circle\"},\"hover_glyph\":null,\"nonselection_glyph\":{\"id\":\"29eefe9d-9b88-4a17-bef8-196d27acdd50\",\"type\":\"Circle\"},\"selection_glyph\":null},\"id\":\"4ed53b9b-27d5-493f-acba-5c10c3ed09ca\",\"type\":\"GlyphRenderer\"},{\"attributes\":{},\"id\":\"95e06d83-76b8-4d54-80bf-5e69eeaa2120\",\"type\":\"ToolEvents\"},{\"attributes\":{\"line_alpha\":{\"value\":0.1},\"line_color\":{\"value\":\"#1f77b4\"},\"line_width\":{\"value\":2},\"x\":{\"field\":\"x\"},\"y\":{\"field\":\"y\"}},\"id\":\"18aa17f7-044f-49e9-8274-5cfd8db7338b\",\"type\":\"Line\"},{\"attributes\":{\"fill_color\":{\"value\":\"#164c71\"},\"line_color\":{\"value\":\"#164c71\"},\"x\":{\"field\":\"x\"},\"y\":{\"field\":\"y\"}},\"id\":\"382032f8-b61b-41d5-816b-c1a79a5961f4\",\"type\":\"Circle\"},{\"attributes\":{\"line_color\":{\"value\":\"firebrick\"},\"line_width\":{\"value\":2},\"x\":{\"field\":\"x\"},\"y\":{\"field\":\"y\"}},\"id\":\"6ce224c0-23db-4f92-8d8d-0368ae2bcaa5\",\"type\":\"Line\"},{\"attributes\":{\"fill_color\":{\"value\":\"cyan\"},\"line_color\":{\"value\":\"cyan\"},\"x\":{\"field\":\"x\"},\"y\":{\"field\":\"y\"}},\"id\":\"a561d63b-481a-4c27-83ef-00d1aab19417\",\"type\":\"Circle\"},{\"attributes\":{\"data_source\":{\"id\":\"b26db0e0-9e54-4618-8949-5f4c6ec20986\",\"type\":\"ColumnDataSource\"},\"glyph\":{\"id\":\"2073f5b1-230e-4d96-9040-a1dd57a8d0d3\",\"type\":\"Circle\"},\"hover_glyph\":null,\"nonselection_glyph\":{\"id\":\"1a68fe1a-e4af-43a0-9f12-83bc581768da\",\"type\":\"Circle\"},\"selection_glyph\":null},\"id\":\"42a32277-f332-4464-b300-a780e5aadcea\",\"type\":\"GlyphRenderer\"},{\"attributes\":{\"plot\":{\"id\":\"016945cf-af2e-4c75-a184-dd3811159ced\",\"subtype\":\"Figure\",\"type\":\"Plot\"}},\"id\":\"eb82c970-8d2d-4f13-b3c4-3822abe122ca\",\"type\":\"ResetTool\"},{\"attributes\":{\"fill_alpha\":{\"value\":0.1},\"fill_color\":{\"value\":\"#1f77b4\"},\"line_alpha\":{\"value\":0.1},\"line_color\":{\"value\":\"#1f77b4\"},\"x\":{\"field\":\"x\"},\"y\":{\"field\":\"y\"}},\"id\":\"d71dcacf-d19b-489d-aa89-fe01f801b07c\",\"type\":\"Circle\"},{\"attributes\":{\"line_color\":{\"value\":\"blue\"},\"line_width\":{\"value\":2},\"x\":{\"field\":\"x\"},\"y\":{\"field\":\"y\"}},\"id\":\"73613ba0-9109-4635-a2fe-938162c86ed8\",\"type\":\"Line\"},{\"attributes\":{\"axis_label\":\"Poblaci\\u00f3n\",\"formatter\":{\"id\":\"0c6257fb-6211-4635-8818-008c15fba551\",\"type\":\"BasicTickFormatter\"},\"plot\":{\"id\":\"016945cf-af2e-4c75-a184-dd3811159ced\",\"subtype\":\"Figure\",\"type\":\"Plot\"},\"ticker\":{\"id\":\"d1dedb4a-d068-45bf-b7a6-e57162140b09\",\"type\":\"BasicTicker\"}},\"id\":\"9e145806-48af-417b-80dc-35e55b4468ab\",\"type\":\"LinearAxis\"},{\"attributes\":{\"callback\":null,\"column_names\":[\"y\",\"x\"],\"data\":{\"x\":[1991,2001,2010,2017,2019,2029,2039],\"y\":[7209,8292,11124,13981,14925,20690,26125]}},\"id\":\"63e0ac84-4b0f-4e67-ba71-9805cbe48d3b\",\"type\":\"ColumnDataSource\"},{\"attributes\":{\"line_alpha\":{\"value\":0.1},\"line_color\":{\"value\":\"#1f77b4\"},\"line_width\":{\"value\":2},\"x\":{\"field\":\"x\"},\"y\":{\"field\":\"y\"}},\"id\":\"387b08ac-9941-4b17-abcd-b53eec58d928\",\"type\":\"Line\"},{\"attributes\":{\"fill_color\":{\"value\":\"magenta\"},\"line_color\":{\"value\":\"magenta\"},\"x\":{\"field\":\"x\"},\"y\":{\"field\":\"y\"}},\"id\":\"0fafe447-635b-4984-a563-654b026538f0\",\"type\":\"Circle\"},{\"attributes\":{\"data_source\":{\"id\":\"677163ba-e937-4f40-a98b-5748bcbbc63e\",\"type\":\"ColumnDataSource\"},\"glyph\":{\"id\":\"2f57e84f-428c-42b2-b5f1-d27889719fac\",\"type\":\"Line\"},\"hover_glyph\":null,\"nonselection_glyph\":{\"id\":\"be576b8e-aa98-45e8-a7aa-816d044530b3\",\"type\":\"Line\"},\"selection_glyph\":null},\"id\":\"b0690f35-5ccb-400e-9766-50c8f58a369d\",\"type\":\"GlyphRenderer\"},{\"attributes\":{\"fill_color\":{\"value\":\"green\"},\"line_color\":{\"value\":\"green\"},\"x\":{\"field\":\"x\"},\"y\":{\"field\":\"y\"}},\"id\":\"df53a888-5333-4799-8376-b6d70f52b90b\",\"type\":\"Circle\"},{\"attributes\":{\"fill_color\":{\"value\":\"#7c1b65\"},\"line_color\":{\"value\":\"#7c1b65\"},\"x\":{\"field\":\"x\"},\"y\":{\"field\":\"y\"}},\"id\":\"31fc0e32-8290-46d2-94e4-d60e95a972c9\",\"type\":\"Circle\"},{\"attributes\":{\"fill_color\":{\"value\":\"firebrick\"},\"line_color\":{\"value\":\"firebrick\"},\"x\":{\"field\":\"x\"},\"y\":{\"field\":\"y\"}},\"id\":\"cad03e21-7ee3-401e-b90e-2545ff7bd6cf\",\"type\":\"Circle\"},{\"attributes\":{\"below\":[{\"id\":\"7c9441b4-e9d5-40d9-a120-266a7f959b87\",\"type\":\"LinearAxis\"}],\"left\":[{\"id\":\"9e145806-48af-417b-80dc-35e55b4468ab\",\"type\":\"LinearAxis\"}],\"plot_width\":900,\"renderers\":[{\"id\":\"7c9441b4-e9d5-40d9-a120-266a7f959b87\",\"type\":\"LinearAxis\"},{\"id\":\"0bb58f09-e455-4aac-abd1-39760200f869\",\"type\":\"Grid\"},{\"id\":\"9e145806-48af-417b-80dc-35e55b4468ab\",\"type\":\"LinearAxis\"},{\"id\":\"9a170d0c-26b2-4649-a2a4-cb07e1d00102\",\"type\":\"Grid\"},{\"id\":\"ef9c670b-5c31-4a5d-a759-555edabef81e\",\"type\":\"BoxAnnotation\"},{\"id\":\"afa3aa13-c36c-4d00-ac28-adb6aa507824\",\"type\":\"Legend\"},{\"id\":\"d90b5460-5761-40fe-8d18-9e289ac40d04\",\"type\":\"GlyphRenderer\"},{\"id\":\"b0690f35-5ccb-400e-9766-50c8f58a369d\",\"type\":\"GlyphRenderer\"},{\"id\":\"2e6d3bbf-ba2e-4bf7-9409-652d45d3cc24\",\"type\":\"GlyphRenderer\"},{\"id\":\"e9641416-8f5a-4e1f-a84e-89ed707cfb91\",\"type\":\"GlyphRenderer\"},{\"id\":\"aade1a6c-9c64-4de1-87c3-a5057541b45d\",\"type\":\"GlyphRenderer\"},{\"id\":\"4082a90a-44c2-482f-a892-c99e42ebbad3\",\"type\":\"GlyphRenderer\"},{\"id\":\"61c25229-d0b0-427a-9f54-552ceac8bb67\",\"type\":\"GlyphRenderer\"},{\"id\":\"2d6d890c-c7cf-4af7-b28b-fd0586e28aaa\",\"type\":\"GlyphRenderer\"},{\"id\":\"cd7194ff-ff44-4b75-b957-0faacfc211c7\",\"type\":\"GlyphRenderer\"},{\"id\":\"5fef7deb-5ab7-4b73-a1c8-274ba826ce24\",\"type\":\"GlyphRenderer\"},{\"id\":\"d6eb1a3b-75f5-4d29-b2cb-ea7f1789c552\",\"type\":\"GlyphRenderer\"},{\"id\":\"15fef6f5-5a05-4c16-b5d2-6a893064f63b\",\"type\":\"GlyphRenderer\"},{\"id\":\"4ed53b9b-27d5-493f-acba-5c10c3ed09ca\",\"type\":\"GlyphRenderer\"},{\"id\":\"82387054-aa9a-4418-b064-9cb3adac1ace\",\"type\":\"GlyphRenderer\"},{\"id\":\"f755b841-2a6d-49b2-a832-2f58fb7515f9\",\"type\":\"GlyphRenderer\"},{\"id\":\"c5968c68-281f-4552-9a8a-2253cc2466f2\",\"type\":\"GlyphRenderer\"},{\"id\":\"cb6d5646-bacd-46c3-909b-6914770cdc26\",\"type\":\"GlyphRenderer\"},{\"id\":\"406d4207-6ac9-4042-bf0c-bcd3b3dd4201\",\"type\":\"GlyphRenderer\"},{\"id\":\"db125133-c749-4082-a585-e36803336662\",\"type\":\"GlyphRenderer\"},{\"id\":\"aab0ee83-af6d-4f40-9d7b-c6a302c92ce4\",\"type\":\"GlyphRenderer\"},{\"id\":\"42a32277-f332-4464-b300-a780e5aadcea\",\"type\":\"GlyphRenderer\"},{\"id\":\"ae74d41f-36d6-4262-820f-d36e6c0e8ff4\",\"type\":\"GlyphRenderer\"},{\"id\":\"339ab28c-d4f3-443a-b7d4-ba2897c98f39\",\"type\":\"GlyphRenderer\"},{\"id\":\"a0afd328-9e0a-41e4-9e65-48ff08d99a32\",\"type\":\"GlyphRenderer\"},{\"id\":\"d3fa592a-5f4a-4aa2-9752-e690c4c2ad86\",\"type\":\"GlyphRenderer\"},{\"id\":\"299a8efd-c71e-434c-8925-053096a3c505\",\"type\":\"GlyphRenderer\"}],\"title\":{\"id\":\"fc8bde2b-6e29-4b71-b342-421afdcfc085\",\"type\":\"Title\"},\"tool_events\":{\"id\":\"95e06d83-76b8-4d54-80bf-5e69eeaa2120\",\"type\":\"ToolEvents\"},\"toolbar\":{\"id\":\"65c4df4e-a10a-494c-a294-2011c537f0df\",\"type\":\"Toolbar\"},\"x_range\":{\"id\":\"07518031-b6a0-4c24-a83f-d77fd52452bd\",\"type\":\"DataRange1d\"},\"y_range\":{\"id\":\"0e4917de-cb59-4dd5-be02-f6f64ca1212b\",\"type\":\"DataRange1d\"}},\"id\":\"016945cf-af2e-4c75-a184-dd3811159ced\",\"subtype\":\"Figure\",\"type\":\"Plot\"},{\"attributes\":{\"data_source\":{\"id\":\"08ba1c78-6247-4ffd-9917-38c104bef692\",\"type\":\"ColumnDataSource\"},\"glyph\":{\"id\":\"5d10255a-3bf5-405d-9ad6-98847a58036a\",\"type\":\"Circle\"},\"hover_glyph\":null,\"nonselection_glyph\":{\"id\":\"d71c6fa7-5e75-4845-b18f-49007ef3e56e\",\"type\":\"Circle\"},\"selection_glyph\":null},\"id\":\"cd7194ff-ff44-4b75-b957-0faacfc211c7\",\"type\":\"GlyphRenderer\"},{\"attributes\":{\"line_color\":{\"value\":\"pink\"},\"line_width\":{\"value\":2},\"x\":{\"field\":\"x\"},\"y\":{\"field\":\"y\"}},\"id\":\"432df8d6-41b9-4aa4-b0ff-a1509c7d4331\",\"type\":\"Line\"},{\"attributes\":{\"line_color\":{\"value\":\"magenta\"},\"line_width\":{\"value\":2},\"x\":{\"field\":\"x\"},\"y\":{\"field\":\"y\"}},\"id\":\"e6d13ce5-e136-44af-8901-d1d00ea369d1\",\"type\":\"Line\"},{\"attributes\":{\"callback\":null,\"column_names\":[\"y\",\"x\"],\"data\":{\"x\":[1991,2001,2010,2017,2019,2029,2039],\"y\":[322,384,396,406,409,423,438]}},\"id\":\"eaca5461-7f82-4e48-9e10-6e67706d3e0b\",\"type\":\"ColumnDataSource\"},{\"attributes\":{},\"id\":\"d1dedb4a-d068-45bf-b7a6-e57162140b09\",\"type\":\"BasicTicker\"},{\"attributes\":{\"data_source\":{\"id\":\"85e19482-7ba9-4f3e-b6a3-80bca4dc4acc\",\"type\":\"ColumnDataSource\"},\"glyph\":{\"id\":\"73613ba0-9109-4635-a2fe-938162c86ed8\",\"type\":\"Line\"},\"hover_glyph\":null,\"nonselection_glyph\":{\"id\":\"387b08ac-9941-4b17-abcd-b53eec58d928\",\"type\":\"Line\"},\"selection_glyph\":null},\"id\":\"4082a90a-44c2-482f-a892-c99e42ebbad3\",\"type\":\"GlyphRenderer\"},{\"attributes\":{\"line_color\":{\"value\":\"green\"},\"line_width\":{\"value\":2},\"x\":{\"field\":\"x\"},\"y\":{\"field\":\"y\"}},\"id\":\"9c323ebf-41f2-481a-a7f4-fbaed7476be5\",\"type\":\"Line\"},{\"attributes\":{\"callback\":null,\"column_names\":[\"x\",\"y\"],\"data\":{\"x\":[1991,2001,2010,2017,2019,2029,2039],\"y\":[2613,2929,3307,3635,3735,4275,4840]}},\"id\":\"27b4edb2-d86c-4ed5-84e6-6fb1235bce61\",\"type\":\"ColumnDataSource\"},{\"attributes\":{\"data_source\":{\"id\":\"a160d4f8-1c8d-4883-bdb2-14026ba16634\",\"type\":\"ColumnDataSource\"},\"glyph\":{\"id\":\"00a2df02-3c34-4c6f-bb2a-b0f97a90be5b\",\"type\":\"Circle\"},\"hover_glyph\":null,\"nonselection_glyph\":{\"id\":\"1c01dace-590d-4f97-b41b-805474c48189\",\"type\":\"Circle\"},\"selection_glyph\":null},\"id\":\"aade1a6c-9c64-4de1-87c3-a5057541b45d\",\"type\":\"GlyphRenderer\"}],\"root_ids\":[\"016945cf-af2e-4c75-a184-dd3811159ced\"]},\"title\":\"Bokeh Application\",\"version\":\"0.12.0\"}};\n",
       "            var render_items = [{\"docid\":\"55d7ec24-9fdc-4793-8ec9-d4af9830b867\",\"elementid\":\"2fab15ae-faaa-4296-a687-51a873dec58f\",\"modelid\":\"016945cf-af2e-4c75-a184-dd3811159ced\",\"notebook_comms_target\":\"03b969fa-c413-4966-9c7c-89487564e848\"}];\n",
       "            \n",
       "            Bokeh.embed.embed_items(docs_json, render_items);\n",
       "        });\n",
       "      },\n",
       "      function(Bokeh) {\n",
       "      }\n",
       "    ];\n",
       "  \n",
       "    function run_inline_js() {\n",
       "      for (var i = 0; i < inline_js.length; i++) {\n",
       "        inline_js[i](window.Bokeh);\n",
       "      }\n",
       "    }\n",
       "  \n",
       "    if (window._bokeh_is_loading === 0) {\n",
       "      console.log(\"Bokeh: BokehJS loaded, going straight to plotting\");\n",
       "      run_inline_js();\n",
       "    } else {\n",
       "      load_libs(js_urls, function() {\n",
       "        console.log(\"Bokeh: BokehJS plotting callback run at\", now());\n",
       "        run_inline_js();\n",
       "      });\n",
       "    }\n",
       "  }(this));\n",
       "</script>"
      ]
     },
     "metadata": {},
     "output_type": "display_data"
    },
    {
     "data": {
      "text/html": [
       "<p><code>&lt;Bokeh Notebook handle for <strong>In[34]</strong>&gt;</code></p>"
      ],
      "text/plain": [
       "<bokeh.io._CommsHandle at 0xad6163ac>"
      ]
     },
     "execution_count": 34,
     "metadata": {},
     "output_type": "execute_result"
    }
   ],
   "source": [
    "x = tiempo\n",
    "ciudades=[\"Comodoro Rivadavia\",\"Trelew\",\"Puerto Madryn\",\"Esquel\",\"Sarmiento\",\"Rawson\",\"Dolavon\",\"Gaiman\",\"Gobernador Costa\",\"Cholila\",\"Camarones\",\"Paso de Indios\",\"Paso del Sapo\"]\n",
    "colores=[\"red\",\"orange\",\"blue\",\"green\",\"yellow\",\"pink\",\"navy\",\"firebrick\",\"cyan\",\"magenta\",\"olive\",\"#164c71\",\"#7c1b65\"]\n",
    "\n",
    "p = figure(title=\"Población - Método de las Tasas Medias Anuales Decrecientes\",plot_width=900)\n",
    "p.title.align = \"center\"\n",
    "p.title.text_color = \"blue\"\n",
    "p.title.text_font = \"times\"\n",
    "p.title.text_font_style = \"italic\"\n",
    "p.title.text_font_size = \"20px\"\n",
    "\n",
    "p.left[0].formatter.use_scientific = False\n",
    "\n",
    "for i in range(len(ciudades)):\n",
    "    p.circle(x, proyecciones[i], legend=ciudades[i],fill_color=colores[i],line_color=colores[i])\n",
    "    p.line(x, proyecciones[i], legend=ciudades[i],line_color=colores[i], line_width=2)\n",
    "\n",
    "p.xaxis.axis_label = 'Tiempo'\n",
    "p.yaxis.axis_label = 'Población'\n",
    "\n",
    "show(p)"
   ]
  },
  {
   "cell_type": "code",
   "execution_count": null,
   "metadata": {
    "collapsed": true
   },
   "outputs": [],
   "source": []
  }
 ],
 "metadata": {
  "anaconda-cloud": {},
  "kernelspec": {
   "display_name": "Python 3",
   "language": "python",
   "name": "python3"
  },
  "language_info": {
   "codemirror_mode": {
    "name": "ipython",
    "version": 3
   },
   "file_extension": ".py",
   "mimetype": "text/x-python",
   "name": "python",
   "nbconvert_exporter": "python",
   "pygments_lexer": "ipython3",
   "version": "3.5.2"
  }
 },
 "nbformat": 4,
 "nbformat_minor": 2
}
