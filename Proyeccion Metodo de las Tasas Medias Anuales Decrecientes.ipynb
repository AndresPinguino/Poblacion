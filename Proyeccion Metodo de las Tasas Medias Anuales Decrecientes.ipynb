{
 "cells": [
  {
   "cell_type": "markdown",
   "metadata": {},
   "source": [
    "# # Entrada de valores de los tres últimos censos"
   ]
  },
  {
   "cell_type": "code",
   "execution_count": 1,
   "metadata": {
    "collapsed": true
   },
   "outputs": [],
   "source": [
    "censos = [1991,2001,2010]\n",
    "\n",
    "poblacion0 = [125725,137061,177083] # Comodoro Rivadavia\n",
    "poblacion1 = [79340,89547,99430] # Trelew\n",
    "poblacion2 = [45047,57791,81995] # Puerto Madryn\n",
    "poblacion3 = [23411,28486,32758] # Esquel\n",
    "poblacion4 = [7209,8292,11124] # Sarmiento\n",
    "poblacion5 = [20674,26183,31787] # Rawson\n",
    "poblacion6 = [2613,2929,3307] # Dolavon\n",
    "poblacion7 = [4642,5753,6627] # Gaiman\n",
    "poblacion8 = [1913,2185,2374] # Gobernador Costa\n",
    "poblacion9 = [1527,1981,2228] # Cholila\n",
    "poblacion10 = [868,1079,1296] # Camarones\n",
    "poblacion11 = [864,1087,1264] # Paso de Indios\n",
    "poblacion12 = [322,384,396] # Paso del sapo\n",
    "poblaciones = [poblacion0, poblacion1, poblacion2, poblacion3, poblacion4, poblacion5, poblacion6, poblacion7, poblacion8, poblacion9, poblacion10, poblacion11, poblacion12]\n",
    "\n",
    "año_actual= 2017"
   ]
  },
  {
   "cell_type": "markdown",
   "metadata": {},
   "source": [
    "# # Armamos una lista de \"tiempos\""
   ]
  },
  {
   "cell_type": "code",
   "execution_count": 2,
   "metadata": {
    "collapsed": true
   },
   "outputs": [],
   "source": [
    "tiempo = [0] * 7\n",
    "for i in range(len(censos)):\n",
    "    tiempo[i] = censos[i]\n",
    "\n",
    "tiempo[3]=año_actual\n",
    "tiempo[4]=tiempo[3]+2\n",
    "tiempo[5]=tiempo[4]+10\n",
    "tiempo[6]=tiempo[5]+10"
   ]
  },
  {
   "cell_type": "markdown",
   "metadata": {},
   "source": [
    "# # Resolvemos el método devolviendo una lista de \"datos\""
   ]
  },
  {
   "cell_type": "code",
   "execution_count": 3,
   "metadata": {
    "collapsed": false
   },
   "outputs": [],
   "source": [
    "def metodo_tasas_medias_anuales_decrecientes(poblacion, tiempo):\n",
    "\n",
    "    datos = [0] * 7\n",
    "    for i in range(len(poblacion)):\n",
    "        datos[i] = poblacion[i]\n",
    "\n",
    "\n",
    "    iI=((datos[1]/datos[0])**(1/(tiempo[1]-tiempo[0])))-1\n",
    "    iII=((datos[2]/datos[1])**(1/(tiempo[2]-tiempo[1])))-1\n",
    "\n",
    "\n",
    "    i1=iII\n",
    "    i1=round(i1, 4)\n",
    "\n",
    "\n",
    "    Pa=datos[2]*(1+i1)**(tiempo[3]-tiempo[2])\n",
    "    Pa=round(Pa,0)\n",
    "    Pa=int(Pa)\n",
    "\n",
    "\n",
    "    P0=Pa*(1+i1)**(tiempo[4]-tiempo[3])\n",
    "    P0=round(P0,0)\n",
    "    P0=int(P0)\n",
    "\n",
    "\n",
    "    P10=P0*(1+i1)**(tiempo[5]-tiempo[4])\n",
    "    P10=round(P10,0)\n",
    "    P10=int(P10)\n",
    "\n",
    "\n",
    "    i2=(iI+iII)/2\n",
    "    i2=round(i2,4)\n",
    "\n",
    "\n",
    "    if (i2<=i1):\n",
    "        i2=i2\n",
    "    else:\n",
    "        i2=i1\n",
    "\n",
    "    P20=P10*(1+i2)**(tiempo[6]-tiempo[5])\n",
    "    P20=round(P20,0)\n",
    "    P20=int(P20)\n",
    "\n",
    "\n",
    "    datos[3]=Pa\n",
    "    datos[4]=P0\n",
    "    datos[5]=P10\n",
    "    datos[6]=P20\n",
    "\n",
    "    return datos"
   ]
  },
  {
   "cell_type": "markdown",
   "metadata": {},
   "source": [
    "# # Mostramos las listas de \"tiempo\" y \"proyecciones\" para cada \"poblacion\""
   ]
  },
  {
   "cell_type": "code",
   "execution_count": 4,
   "metadata": {
    "collapsed": false,
    "scrolled": true
   },
   "outputs": [
    {
     "name": "stdout",
     "output_type": "stream",
     "text": [
      "[1991, 2001, 2010, 2017, 2019, 2029, 2039]\n",
      "[125725, 137061, 177083, 216167, 228842, 304276, 366570]\n",
      "[79340, 89547, 99430, 107865, 110404, 124023, 139322]\n",
      "[45047, 57791, 81995, 107610, 116301, 171493, 235899]\n",
      "[23411, 28486, 32758, 36507, 37655, 43959, 51319]\n",
      "[7209, 8292, 11124, 13981, 14925, 20690, 26125]\n",
      "[20674, 26183, 31787, 36967, 38596, 47885, 59410]\n",
      "[2613, 2929, 3307, 3635, 3735, 4275, 4840]\n",
      "[4642, 5753, 6627, 7396, 7632, 8927, 10442]\n",
      "[1913, 2185, 2374, 2533, 2580, 2830, 3104]\n",
      "[1527, 1981, 2228, 2441, 2505, 2853, 3250]\n",
      "[868, 1079, 1296, 1495, 1557, 1909, 2341]\n",
      "[864, 1087, 1264, 1421, 1469, 1737, 2054]\n",
      "[322, 384, 396, 406, 409, 423, 438]\n"
     ]
    }
   ],
   "source": [
    "print (tiempo)\n",
    "proyecciones = [0] * len(poblaciones)\n",
    "\n",
    "for i in range(len(poblaciones)):\n",
    "    proyecciones[i] = metodo_tasas_medias_anuales_decrecientes(poblaciones[i], tiempo)\n",
    "    print (proyecciones[i])\n"
   ]
  },
  {
   "cell_type": "markdown",
   "metadata": {},
   "source": [
    "# # Importamos librerias para graficar"
   ]
  },
  {
   "cell_type": "code",
   "execution_count": 5,
   "metadata": {
    "collapsed": false
   },
   "outputs": [
    {
     "data": {
      "text/html": [
       "\n",
       "    <div class=\"bk-root\">\n",
       "        <a href=\"http://bokeh.pydata.org\" target=\"_blank\" class=\"bk-logo bk-logo-small bk-logo-notebook\"></a>\n",
       "        <span id=\"d50aeb98-98b5-4986-bbbf-1026066b912d\">Loading BokehJS ...</span>\n",
       "    </div>"
      ]
     },
     "metadata": {},
     "output_type": "display_data"
    },
    {
     "data": {
      "application/javascript": [
       "\n",
       "(function(global) {\n",
       "  function now() {\n",
       "    return new Date();\n",
       "  }\n",
       "\n",
       "  if (typeof (window._bokeh_onload_callbacks) === \"undefined\") {\n",
       "    window._bokeh_onload_callbacks = [];\n",
       "  }\n",
       "\n",
       "  function run_callbacks() {\n",
       "    window._bokeh_onload_callbacks.forEach(function(callback) { callback() });\n",
       "    delete window._bokeh_onload_callbacks\n",
       "    console.info(\"Bokeh: all callbacks have finished\");\n",
       "  }\n",
       "\n",
       "  function load_libs(js_urls, callback) {\n",
       "    window._bokeh_onload_callbacks.push(callback);\n",
       "    if (window._bokeh_is_loading > 0) {\n",
       "      console.log(\"Bokeh: BokehJS is being loaded, scheduling callback at\", now());\n",
       "      return null;\n",
       "    }\n",
       "    if (js_urls == null || js_urls.length === 0) {\n",
       "      run_callbacks();\n",
       "      return null;\n",
       "    }\n",
       "    console.log(\"Bokeh: BokehJS not loaded, scheduling load and callback at\", now());\n",
       "    window._bokeh_is_loading = js_urls.length;\n",
       "    for (var i = 0; i < js_urls.length; i++) {\n",
       "      var url = js_urls[i];\n",
       "      var s = document.createElement('script');\n",
       "      s.src = url;\n",
       "      s.async = false;\n",
       "      s.onreadystatechange = s.onload = function() {\n",
       "        window._bokeh_is_loading--;\n",
       "        if (window._bokeh_is_loading === 0) {\n",
       "          console.log(\"Bokeh: all BokehJS libraries loaded\");\n",
       "          run_callbacks()\n",
       "        }\n",
       "      };\n",
       "      s.onerror = function() {\n",
       "        console.warn(\"failed to load library \" + url);\n",
       "      };\n",
       "      console.log(\"Bokeh: injecting script tag for BokehJS library: \", url);\n",
       "      document.getElementsByTagName(\"head\")[0].appendChild(s);\n",
       "    }\n",
       "  };\n",
       "\n",
       "  var js_urls = ['https://cdn.pydata.org/bokeh/release/bokeh-0.12.0.min.js', 'https://cdn.pydata.org/bokeh/release/bokeh-widgets-0.12.0.min.js', 'https://cdn.pydata.org/bokeh/release/bokeh-compiler-0.12.0.min.js'];\n",
       "\n",
       "  var inline_js = [\n",
       "    function(Bokeh) {\n",
       "      Bokeh.set_log_level(\"info\");\n",
       "    },\n",
       "    \n",
       "    function(Bokeh) {\n",
       "      Bokeh.$(\"#d50aeb98-98b5-4986-bbbf-1026066b912d\").text(\"BokehJS successfully loaded\");\n",
       "    },\n",
       "    function(Bokeh) {\n",
       "      console.log(\"Bokeh: injecting CSS: https://cdn.pydata.org/bokeh/release/bokeh-0.12.0.min.css\");\n",
       "      Bokeh.embed.inject_css(\"https://cdn.pydata.org/bokeh/release/bokeh-0.12.0.min.css\");\n",
       "      console.log(\"Bokeh: injecting CSS: https://cdn.pydata.org/bokeh/release/bokeh-widgets-0.12.0.min.css\");\n",
       "      Bokeh.embed.inject_css(\"https://cdn.pydata.org/bokeh/release/bokeh-widgets-0.12.0.min.css\");\n",
       "    }\n",
       "  ];\n",
       "\n",
       "  function run_inline_js() {\n",
       "    for (var i = 0; i < inline_js.length; i++) {\n",
       "      inline_js[i](window.Bokeh);\n",
       "    }\n",
       "  }\n",
       "\n",
       "  if (window._bokeh_is_loading === 0) {\n",
       "    console.log(\"Bokeh: BokehJS loaded, going straight to plotting\");\n",
       "    run_inline_js();\n",
       "  } else {\n",
       "    load_libs(js_urls, function() {\n",
       "      console.log(\"Bokeh: BokehJS plotting callback run at\", now());\n",
       "      run_inline_js();\n",
       "    });\n",
       "  }\n",
       "}(this));"
      ]
     },
     "metadata": {},
     "output_type": "display_data"
    }
   ],
   "source": [
    "from bokeh.io import push_notebook, show, output_notebook\n",
    "from bokeh.plotting import figure\n",
    "output_notebook()"
   ]
  },
  {
   "cell_type": "markdown",
   "metadata": {},
   "source": [
    "# # Definimos estilos para usar en los gráficos"
   ]
  },
  {
   "cell_type": "code",
   "execution_count": 6,
   "metadata": {
    "collapsed": false
   },
   "outputs": [
    {
     "data": {
      "text/html": [
       "\n",
       "\n",
       "    <div class=\"bk-root\">\n",
       "        <div class=\"plotdiv\" id=\"7b50589a-8566-42f6-9c5e-25d135f60c6d\"></div>\n",
       "    </div>\n",
       "<script type=\"text/javascript\">\n",
       "  \n",
       "  (function(global) {\n",
       "    function now() {\n",
       "      return new Date();\n",
       "    }\n",
       "  \n",
       "    if (typeof (window._bokeh_onload_callbacks) === \"undefined\") {\n",
       "      window._bokeh_onload_callbacks = [];\n",
       "    }\n",
       "  \n",
       "    function run_callbacks() {\n",
       "      window._bokeh_onload_callbacks.forEach(function(callback) { callback() });\n",
       "      delete window._bokeh_onload_callbacks\n",
       "      console.info(\"Bokeh: all callbacks have finished\");\n",
       "    }\n",
       "  \n",
       "    function load_libs(js_urls, callback) {\n",
       "      window._bokeh_onload_callbacks.push(callback);\n",
       "      if (window._bokeh_is_loading > 0) {\n",
       "        console.log(\"Bokeh: BokehJS is being loaded, scheduling callback at\", now());\n",
       "        return null;\n",
       "      }\n",
       "      if (js_urls == null || js_urls.length === 0) {\n",
       "        run_callbacks();\n",
       "        return null;\n",
       "      }\n",
       "      console.log(\"Bokeh: BokehJS not loaded, scheduling load and callback at\", now());\n",
       "      window._bokeh_is_loading = js_urls.length;\n",
       "      for (var i = 0; i < js_urls.length; i++) {\n",
       "        var url = js_urls[i];\n",
       "        var s = document.createElement('script');\n",
       "        s.src = url;\n",
       "        s.async = false;\n",
       "        s.onreadystatechange = s.onload = function() {\n",
       "          window._bokeh_is_loading--;\n",
       "          if (window._bokeh_is_loading === 0) {\n",
       "            console.log(\"Bokeh: all BokehJS libraries loaded\");\n",
       "            run_callbacks()\n",
       "          }\n",
       "        };\n",
       "        s.onerror = function() {\n",
       "          console.warn(\"failed to load library \" + url);\n",
       "        };\n",
       "        console.log(\"Bokeh: injecting script tag for BokehJS library: \", url);\n",
       "        document.getElementsByTagName(\"head\")[0].appendChild(s);\n",
       "      }\n",
       "    };var element = document.getElementById(\"7b50589a-8566-42f6-9c5e-25d135f60c6d\");\n",
       "    if (element == null) {\n",
       "      console.log(\"Bokeh: ERROR: autoload.js configured with elementid '7b50589a-8566-42f6-9c5e-25d135f60c6d' but no matching script tag was found. \")\n",
       "      return false;\n",
       "    }\n",
       "  \n",
       "    var js_urls = [];\n",
       "  \n",
       "    var inline_js = [\n",
       "      function(Bokeh) {\n",
       "        Bokeh.$(function() {\n",
       "            var docs_json = {\"beab073a-02c0-4ce9-bad8-072d97f10e0a\":{\"roots\":{\"references\":[{\"attributes\":{\"line_color\":{\"value\":\"navy\"},\"line_width\":{\"value\":2},\"x\":{\"field\":\"x\"},\"y\":{\"field\":\"y\"}},\"id\":\"3928fe30-0166-4407-8cf6-0d269ad264b1\",\"type\":\"Line\"},{\"attributes\":{\"callback\":null,\"column_names\":[\"x\",\"y\"],\"data\":{\"x\":[1991,2001,2010,2017,2019,2029,2039],\"y\":[1527,1981,2228,2441,2505,2853,3250]}},\"id\":\"f076337a-49a7-4766-b357-9860efbcafda\",\"type\":\"ColumnDataSource\"},{\"attributes\":{\"line_color\":{\"value\":\"#164c71\"},\"line_width\":{\"value\":2},\"x\":{\"field\":\"x\"},\"y\":{\"field\":\"y\"}},\"id\":\"2747b0ce-b2b2-467d-a955-a0d573036671\",\"type\":\"Line\"},{\"attributes\":{\"fill_color\":{\"value\":\"cyan\"},\"line_color\":{\"value\":\"cyan\"},\"x\":{\"field\":\"x\"},\"y\":{\"field\":\"y\"}},\"id\":\"abb936a0-a07a-4d3d-aacc-6cd75704f8c6\",\"type\":\"Circle\"},{\"attributes\":{\"plot\":{\"id\":\"5bb5ae8f-2655-4858-8489-bf5c7d76f834\",\"subtype\":\"Figure\",\"type\":\"Plot\"}},\"id\":\"60870b25-40e4-49ed-8100-cccc4dcca8ac\",\"type\":\"HelpTool\"},{\"attributes\":{\"fill_alpha\":{\"value\":0.1},\"fill_color\":{\"value\":\"#1f77b4\"},\"line_alpha\":{\"value\":0.1},\"line_color\":{\"value\":\"#1f77b4\"},\"x\":{\"field\":\"x\"},\"y\":{\"field\":\"y\"}},\"id\":\"7ee423f1-9f3a-4082-86bb-16a00da3910c\",\"type\":\"Circle\"},{\"attributes\":{\"data_source\":{\"id\":\"aba78cc7-7fc1-47d5-9b31-e9dd2dd49961\",\"type\":\"ColumnDataSource\"},\"glyph\":{\"id\":\"83647903-ca1a-445e-b560-c6677e1f638e\",\"type\":\"Circle\"},\"hover_glyph\":null,\"nonselection_glyph\":{\"id\":\"ef07f703-c1e8-4d90-b52b-4000bb01a07d\",\"type\":\"Circle\"},\"selection_glyph\":null},\"id\":\"7453e5fe-bdd4-460b-a246-bfb883b02b6a\",\"type\":\"GlyphRenderer\"},{\"attributes\":{\"fill_alpha\":{\"value\":0.1},\"fill_color\":{\"value\":\"#1f77b4\"},\"line_alpha\":{\"value\":0.1},\"line_color\":{\"value\":\"#1f77b4\"},\"x\":{\"field\":\"x\"},\"y\":{\"field\":\"y\"}},\"id\":\"110a3b2b-d8f5-440a-97c8-16f439f7b0db\",\"type\":\"Circle\"},{\"attributes\":{\"fill_color\":{\"value\":\"red\"},\"line_color\":{\"value\":\"red\"},\"x\":{\"field\":\"x\"},\"y\":{\"field\":\"y\"}},\"id\":\"699d48c7-bfa4-4e3e-926d-eee1288be297\",\"type\":\"Circle\"},{\"attributes\":{},\"id\":\"f49837c7-364f-41a5-b611-c13801180a29\",\"type\":\"BasicTicker\"},{\"attributes\":{\"callback\":null,\"column_names\":[\"x\",\"y\"],\"data\":{\"x\":[1991,2001,2010,2017,2019,2029,2039],\"y\":[7209,8292,11124,13981,14925,20690,26125]}},\"id\":\"6d457ef5-9da9-45e0-ac6a-3e186978c38f\",\"type\":\"ColumnDataSource\"},{\"attributes\":{\"data_source\":{\"id\":\"cf7c649a-2212-48e6-9eda-fed982ddb31a\",\"type\":\"ColumnDataSource\"},\"glyph\":{\"id\":\"699d48c7-bfa4-4e3e-926d-eee1288be297\",\"type\":\"Circle\"},\"hover_glyph\":null,\"nonselection_glyph\":{\"id\":\"7a5f7d3c-781c-4dbd-8929-5ab8b8b9c142\",\"type\":\"Circle\"},\"selection_glyph\":null},\"id\":\"b3178eff-f6f2-4401-92dc-dc28b07196f4\",\"type\":\"GlyphRenderer\"},{\"attributes\":{\"callback\":null,\"column_names\":[\"x\",\"y\"],\"data\":{\"x\":[1991,2001,2010,2017,2019,2029,2039],\"y\":[322,384,396,406,409,423,438]}},\"id\":\"c46a10af-9eb7-4d35-bdca-b46e6cc0044c\",\"type\":\"ColumnDataSource\"},{\"attributes\":{\"data_source\":{\"id\":\"f063b70b-3d69-43ae-a133-fd50f9aacc4b\",\"type\":\"ColumnDataSource\"},\"glyph\":{\"id\":\"6cfc1594-d708-4bbd-b10f-ceab77d5acc7\",\"type\":\"Line\"},\"hover_glyph\":null,\"nonselection_glyph\":{\"id\":\"ea9cc683-7cfc-42fe-8a4c-a6244f4f54ee\",\"type\":\"Line\"},\"selection_glyph\":null},\"id\":\"b76f3fb0-a755-4026-b48c-f49ed22e6f77\",\"type\":\"GlyphRenderer\"},{\"attributes\":{\"line_alpha\":{\"value\":0.1},\"line_color\":{\"value\":\"#1f77b4\"},\"line_width\":{\"value\":2},\"x\":{\"field\":\"x\"},\"y\":{\"field\":\"y\"}},\"id\":\"fad8e754-a7ab-4b5b-9fb0-60da24ee00d4\",\"type\":\"Line\"},{\"attributes\":{\"fill_color\":{\"value\":\"orange\"},\"line_color\":{\"value\":\"orange\"},\"x\":{\"field\":\"x\"},\"y\":{\"field\":\"y\"}},\"id\":\"308bf41c-7c8f-435a-a93c-251ad3e1c0e3\",\"type\":\"Circle\"},{\"attributes\":{\"data_source\":{\"id\":\"f076337a-49a7-4766-b357-9860efbcafda\",\"type\":\"ColumnDataSource\"},\"glyph\":{\"id\":\"2a4afd1a-ddb2-4a26-962a-cc439e43c942\",\"type\":\"Line\"},\"hover_glyph\":null,\"nonselection_glyph\":{\"id\":\"173f9087-730a-4530-ab54-a7e073403b4c\",\"type\":\"Line\"},\"selection_glyph\":null},\"id\":\"e03777ad-d370-4681-a818-6bd4e9e2b03f\",\"type\":\"GlyphRenderer\"},{\"attributes\":{\"data_source\":{\"id\":\"e05ede44-69c8-4fa7-af7c-961c69841fdc\",\"type\":\"ColumnDataSource\"},\"glyph\":{\"id\":\"22e849f6-7648-4bc6-aa3d-f023d07f97e5\",\"type\":\"Line\"},\"hover_glyph\":null,\"nonselection_glyph\":{\"id\":\"ec484fb0-0722-485e-93fe-cb55ff3dc516\",\"type\":\"Line\"},\"selection_glyph\":null},\"id\":\"d9f0877b-e5ad-42ea-b5a6-848101e10b7c\",\"type\":\"GlyphRenderer\"},{\"attributes\":{\"overlay\":{\"id\":\"d918ddcb-fdb9-4047-a0cb-3bab9ced4a9e\",\"type\":\"BoxAnnotation\"},\"plot\":{\"id\":\"5bb5ae8f-2655-4858-8489-bf5c7d76f834\",\"subtype\":\"Figure\",\"type\":\"Plot\"}},\"id\":\"52d72873-3b56-463e-9b4a-6cbcd59aab01\",\"type\":\"BoxZoomTool\"},{\"attributes\":{\"callback\":null},\"id\":\"2bba429a-d224-4aad-9c73-d966cd782810\",\"type\":\"DataRange1d\"},{\"attributes\":{\"callback\":null,\"column_names\":[\"x\",\"y\"],\"data\":{\"x\":[1991,2001,2010,2017,2019,2029,2039],\"y\":[79340,89547,99430,107865,110404,124023,139322]}},\"id\":\"1ded8ffb-62f9-4869-835e-a64220d094f8\",\"type\":\"ColumnDataSource\"},{\"attributes\":{\"callback\":null,\"column_names\":[\"x\",\"y\"],\"data\":{\"x\":[1991,2001,2010,2017,2019,2029,2039],\"y\":[20674,26183,31787,36967,38596,47885,59410]}},\"id\":\"2096a66a-7740-483c-a1ff-a85b02dfb202\",\"type\":\"ColumnDataSource\"},{\"attributes\":{\"callback\":null,\"column_names\":[\"x\",\"y\"],\"data\":{\"x\":[1991,2001,2010,2017,2019,2029,2039],\"y\":[7209,8292,11124,13981,14925,20690,26125]}},\"id\":\"c7c7ceb7-2995-42c8-a987-fa8cc3a2fc5d\",\"type\":\"ColumnDataSource\"},{\"attributes\":{\"fill_alpha\":{\"value\":0.1},\"fill_color\":{\"value\":\"#1f77b4\"},\"line_alpha\":{\"value\":0.1},\"line_color\":{\"value\":\"#1f77b4\"},\"x\":{\"field\":\"x\"},\"y\":{\"field\":\"y\"}},\"id\":\"ef07f703-c1e8-4d90-b52b-4000bb01a07d\",\"type\":\"Circle\"},{\"attributes\":{\"data_source\":{\"id\":\"a3031907-c30c-4852-b040-04f3dc979665\",\"type\":\"ColumnDataSource\"},\"glyph\":{\"id\":\"5883671c-5fb8-4f9b-b838-db6240aafb26\",\"type\":\"Line\"},\"hover_glyph\":null,\"nonselection_glyph\":{\"id\":\"62f6cfaa-2e10-46fe-a375-4297752419d9\",\"type\":\"Line\"},\"selection_glyph\":null},\"id\":\"5777f133-fd06-4764-baf2-958faed2903a\",\"type\":\"GlyphRenderer\"},{\"attributes\":{\"data_source\":{\"id\":\"d588d35e-8817-4230-add4-753afaeb6630\",\"type\":\"ColumnDataSource\"},\"glyph\":{\"id\":\"f82039f0-6a65-45ad-b091-08f2bebca4a2\",\"type\":\"Circle\"},\"hover_glyph\":null,\"nonselection_glyph\":{\"id\":\"11701d5d-7828-4555-b65c-29508b1e57f2\",\"type\":\"Circle\"},\"selection_glyph\":null},\"id\":\"35522023-02a1-4585-bf47-ab91411a5e01\",\"type\":\"GlyphRenderer\"},{\"attributes\":{\"callback\":null,\"column_names\":[\"x\",\"y\"],\"data\":{\"x\":[1991,2001,2010,2017,2019,2029,2039],\"y\":[45047,57791,81995,107610,116301,171493,235899]}},\"id\":\"ac9331b4-b184-4fb2-9b2b-101129041a36\",\"type\":\"ColumnDataSource\"},{\"attributes\":{\"fill_color\":{\"value\":\"olive\"},\"line_color\":{\"value\":\"olive\"},\"x\":{\"field\":\"x\"},\"y\":{\"field\":\"y\"}},\"id\":\"83647903-ca1a-445e-b560-c6677e1f638e\",\"type\":\"Circle\"},{\"attributes\":{\"line_alpha\":{\"value\":0.1},\"line_color\":{\"value\":\"#1f77b4\"},\"line_width\":{\"value\":2},\"x\":{\"field\":\"x\"},\"y\":{\"field\":\"y\"}},\"id\":\"ec484fb0-0722-485e-93fe-cb55ff3dc516\",\"type\":\"Line\"},{\"attributes\":{\"axis_label\":\"Tiempo\",\"formatter\":{\"id\":\"13745635-cdd6-4600-9091-aa73bcf1eede\",\"type\":\"BasicTickFormatter\"},\"plot\":{\"id\":\"5bb5ae8f-2655-4858-8489-bf5c7d76f834\",\"subtype\":\"Figure\",\"type\":\"Plot\"},\"ticker\":{\"id\":\"1f796a50-d68d-4d73-9dad-98479e08ab1f\",\"type\":\"BasicTicker\"}},\"id\":\"f43cc481-d330-4d6a-96f4-467555106e9b\",\"type\":\"LinearAxis\"},{\"attributes\":{\"fill_color\":{\"value\":\"#164c71\"},\"line_color\":{\"value\":\"#164c71\"},\"x\":{\"field\":\"x\"},\"y\":{\"field\":\"y\"}},\"id\":\"2096cf50-2b79-47fd-a9e1-8ae8fc919a27\",\"type\":\"Circle\"},{\"attributes\":{\"bottom_units\":\"screen\",\"fill_alpha\":{\"value\":0.5},\"fill_color\":{\"value\":\"lightgrey\"},\"left_units\":\"screen\",\"level\":\"overlay\",\"line_alpha\":{\"value\":1.0},\"line_color\":{\"value\":\"black\"},\"line_dash\":[4,4],\"line_width\":{\"value\":2},\"plot\":null,\"render_mode\":\"css\",\"right_units\":\"screen\",\"top_units\":\"screen\"},\"id\":\"d918ddcb-fdb9-4047-a0cb-3bab9ced4a9e\",\"type\":\"BoxAnnotation\"},{\"attributes\":{\"fill_alpha\":{\"value\":0.1},\"fill_color\":{\"value\":\"#1f77b4\"},\"line_alpha\":{\"value\":0.1},\"line_color\":{\"value\":\"#1f77b4\"},\"x\":{\"field\":\"x\"},\"y\":{\"field\":\"y\"}},\"id\":\"6d58d2af-23a3-4047-8ef1-4ae84ee41cc6\",\"type\":\"Circle\"},{\"attributes\":{\"fill_color\":{\"value\":\"navy\"},\"line_color\":{\"value\":\"navy\"},\"x\":{\"field\":\"x\"},\"y\":{\"field\":\"y\"}},\"id\":\"66510c6d-29a3-4eb4-8410-0f90fd5c0011\",\"type\":\"Circle\"},{\"attributes\":{\"callback\":null,\"column_names\":[\"x\",\"y\"],\"data\":{\"x\":[1991,2001,2010,2017,2019,2029,2039],\"y\":[125725,137061,177083,216167,228842,304276,366570]}},\"id\":\"9457949b-fbc7-4835-b130-1bcecea9dd73\",\"type\":\"ColumnDataSource\"},{\"attributes\":{\"line_alpha\":{\"value\":0.1},\"line_color\":{\"value\":\"#1f77b4\"},\"line_width\":{\"value\":2},\"x\":{\"field\":\"x\"},\"y\":{\"field\":\"y\"}},\"id\":\"797ac161-3904-4cd9-856f-600a0205332f\",\"type\":\"Line\"},{\"attributes\":{\"data_source\":{\"id\":\"2096a66a-7740-483c-a1ff-a85b02dfb202\",\"type\":\"ColumnDataSource\"},\"glyph\":{\"id\":\"9ac00264-f7fe-4555-8b88-fbb1fa1c3c6a\",\"type\":\"Line\"},\"hover_glyph\":null,\"nonselection_glyph\":{\"id\":\"797ac161-3904-4cd9-856f-600a0205332f\",\"type\":\"Line\"},\"selection_glyph\":null},\"id\":\"434ae45b-dba5-462b-bb0a-6534b4308468\",\"type\":\"GlyphRenderer\"},{\"attributes\":{\"callback\":null,\"column_names\":[\"x\",\"y\"],\"data\":{\"x\":[1991,2001,2010,2017,2019,2029,2039],\"y\":[125725,137061,177083,216167,228842,304276,366570]}},\"id\":\"cf7c649a-2212-48e6-9eda-fed982ddb31a\",\"type\":\"ColumnDataSource\"},{\"attributes\":{\"fill_alpha\":{\"value\":0.1},\"fill_color\":{\"value\":\"#1f77b4\"},\"line_alpha\":{\"value\":0.1},\"line_color\":{\"value\":\"#1f77b4\"},\"x\":{\"field\":\"x\"},\"y\":{\"field\":\"y\"}},\"id\":\"7e219e32-78b8-4011-ac2a-756911713d6c\",\"type\":\"Circle\"},{\"attributes\":{\"fill_color\":{\"value\":\"firebrick\"},\"line_color\":{\"value\":\"firebrick\"},\"x\":{\"field\":\"x\"},\"y\":{\"field\":\"y\"}},\"id\":\"2f8fc48a-62af-4397-b364-a69fe8164b40\",\"type\":\"Circle\"},{\"attributes\":{},\"id\":\"1f796a50-d68d-4d73-9dad-98479e08ab1f\",\"type\":\"BasicTicker\"},{\"attributes\":{\"line_color\":{\"value\":\"firebrick\"},\"line_width\":{\"value\":2},\"x\":{\"field\":\"x\"},\"y\":{\"field\":\"y\"}},\"id\":\"8be580a9-eb1e-48c1-a193-34906ecb229a\",\"type\":\"Line\"},{\"attributes\":{\"axis_label\":\"Poblaci\\u00f3n\",\"formatter\":{\"id\":\"2b84457d-fc1b-4532-84d3-234d960bc979\",\"type\":\"BasicTickFormatter\"},\"plot\":{\"id\":\"5bb5ae8f-2655-4858-8489-bf5c7d76f834\",\"subtype\":\"Figure\",\"type\":\"Plot\"},\"ticker\":{\"id\":\"f49837c7-364f-41a5-b611-c13801180a29\",\"type\":\"BasicTicker\"}},\"id\":\"8f77bccb-b48a-46d1-ad33-a2adb808004d\",\"type\":\"LinearAxis\"},{\"attributes\":{\"line_alpha\":{\"value\":0.1},\"line_color\":{\"value\":\"#1f77b4\"},\"line_width\":{\"value\":2},\"x\":{\"field\":\"x\"},\"y\":{\"field\":\"y\"}},\"id\":\"a2055b8b-bf68-49ef-a209-a3d691e47f36\",\"type\":\"Line\"},{\"attributes\":{\"callback\":null,\"column_names\":[\"x\",\"y\"],\"data\":{\"x\":[1991,2001,2010,2017,2019,2029,2039],\"y\":[864,1087,1264,1421,1469,1737,2054]}},\"id\":\"b8989b22-5e09-46af-9bbc-a9525f30e68f\",\"type\":\"ColumnDataSource\"},{\"attributes\":{\"line_alpha\":{\"value\":0.1},\"line_color\":{\"value\":\"#1f77b4\"},\"line_width\":{\"value\":2},\"x\":{\"field\":\"x\"},\"y\":{\"field\":\"y\"}},\"id\":\"2d0dd446-1e40-4991-9b9a-2bf777ca24f6\",\"type\":\"Line\"},{\"attributes\":{\"data_source\":{\"id\":\"c7c7ceb7-2995-42c8-a987-fa8cc3a2fc5d\",\"type\":\"ColumnDataSource\"},\"glyph\":{\"id\":\"9ee6a6da-2557-4deb-860e-e8ca8b6d6b89\",\"type\":\"Line\"},\"hover_glyph\":null,\"nonselection_glyph\":{\"id\":\"5c8baa08-5ce8-44a5-b57d-0daf3b0ebcb3\",\"type\":\"Line\"},\"selection_glyph\":null},\"id\":\"d148e645-1a6b-41cd-86f4-537091f392fe\",\"type\":\"GlyphRenderer\"},{\"attributes\":{\"line_color\":{\"value\":\"green\"},\"line_width\":{\"value\":2},\"x\":{\"field\":\"x\"},\"y\":{\"field\":\"y\"}},\"id\":\"2549e0d0-5cba-457e-ad4a-594f760022e1\",\"type\":\"Line\"},{\"attributes\":{\"fill_alpha\":{\"value\":0.1},\"fill_color\":{\"value\":\"#1f77b4\"},\"line_alpha\":{\"value\":0.1},\"line_color\":{\"value\":\"#1f77b4\"},\"x\":{\"field\":\"x\"},\"y\":{\"field\":\"y\"}},\"id\":\"a7f74bf1-6f40-4bc4-9e71-9e23a6addeb9\",\"type\":\"Circle\"},{\"attributes\":{\"fill_alpha\":{\"value\":0.1},\"fill_color\":{\"value\":\"#1f77b4\"},\"line_alpha\":{\"value\":0.1},\"line_color\":{\"value\":\"#1f77b4\"},\"x\":{\"field\":\"x\"},\"y\":{\"field\":\"y\"}},\"id\":\"11701d5d-7828-4555-b65c-29508b1e57f2\",\"type\":\"Circle\"},{\"attributes\":{\"callback\":null,\"column_names\":[\"x\",\"y\"],\"data\":{\"x\":[1991,2001,2010,2017,2019,2029,2039],\"y\":[2613,2929,3307,3635,3735,4275,4840]}},\"id\":\"e35c0793-fafa-4fe2-8c88-7dac3a9e527c\",\"type\":\"ColumnDataSource\"},{\"attributes\":{\"fill_alpha\":{\"value\":0.1},\"fill_color\":{\"value\":\"#1f77b4\"},\"line_alpha\":{\"value\":0.1},\"line_color\":{\"value\":\"#1f77b4\"},\"x\":{\"field\":\"x\"},\"y\":{\"field\":\"y\"}},\"id\":\"16af13cf-ce26-47d0-86b7-a8ad69b82a5c\",\"type\":\"Circle\"},{\"attributes\":{\"data_source\":{\"id\":\"2f63d982-f05a-4fee-97c6-4861a9386a2f\",\"type\":\"ColumnDataSource\"},\"glyph\":{\"id\":\"59252426-d203-4305-b8eb-55681d1c6ebc\",\"type\":\"Line\"},\"hover_glyph\":null,\"nonselection_glyph\":{\"id\":\"31a6e29d-d270-4ec9-8eee-e169794899ad\",\"type\":\"Line\"},\"selection_glyph\":null},\"id\":\"57186e32-8490-45c8-b374-cdd187bebc5a\",\"type\":\"GlyphRenderer\"},{\"attributes\":{},\"id\":\"a80de7bb-ab43-4338-bf73-4c4b89c23323\",\"type\":\"ToolEvents\"},{\"attributes\":{\"align\":\"center\",\"plot\":null,\"text\":\"Poblaci\\u00f3n - M\\u00e9todo de las Tasas Medias Anuales Decrecientes\",\"text_color\":{\"value\":\"blue\"},\"text_font\":\"times\",\"text_font_size\":{\"value\":\"20px\"},\"text_font_style\":\"italic\"},\"id\":\"8d53b2d1-e305-4d42-81c1-c01e4cab43a1\",\"type\":\"Title\"},{\"attributes\":{\"line_color\":{\"value\":\"blue\"},\"line_width\":{\"value\":2},\"x\":{\"field\":\"x\"},\"y\":{\"field\":\"y\"}},\"id\":\"6cfc1594-d708-4bbd-b10f-ceab77d5acc7\",\"type\":\"Line\"},{\"attributes\":{\"line_color\":{\"value\":\"yellow\"},\"line_width\":{\"value\":2},\"x\":{\"field\":\"x\"},\"y\":{\"field\":\"y\"}},\"id\":\"9ee6a6da-2557-4deb-860e-e8ca8b6d6b89\",\"type\":\"Line\"},{\"attributes\":{\"data_source\":{\"id\":\"ac9331b4-b184-4fb2-9b2b-101129041a36\",\"type\":\"ColumnDataSource\"},\"glyph\":{\"id\":\"f3214622-a640-46b7-91da-c24ac913da72\",\"type\":\"Circle\"},\"hover_glyph\":null,\"nonselection_glyph\":{\"id\":\"7ee423f1-9f3a-4082-86bb-16a00da3910c\",\"type\":\"Circle\"},\"selection_glyph\":null},\"id\":\"136681bd-c488-4397-b6a7-db70833c6301\",\"type\":\"GlyphRenderer\"},{\"attributes\":{\"data_source\":{\"id\":\"1ded8ffb-62f9-4869-835e-a64220d094f8\",\"type\":\"ColumnDataSource\"},\"glyph\":{\"id\":\"308bf41c-7c8f-435a-a93c-251ad3e1c0e3\",\"type\":\"Circle\"},\"hover_glyph\":null,\"nonselection_glyph\":{\"id\":\"ecc10676-58c5-4e7a-ab50-7b3e2fdaf7a4\",\"type\":\"Circle\"},\"selection_glyph\":null},\"id\":\"1e234110-33e8-4666-bf16-2cc5a0641b49\",\"type\":\"GlyphRenderer\"},{\"attributes\":{\"line_alpha\":{\"value\":0.1},\"line_color\":{\"value\":\"#1f77b4\"},\"line_width\":{\"value\":2},\"x\":{\"field\":\"x\"},\"y\":{\"field\":\"y\"}},\"id\":\"173f9087-730a-4530-ab54-a7e073403b4c\",\"type\":\"Line\"},{\"attributes\":{\"callback\":null,\"column_names\":[\"x\",\"y\"],\"data\":{\"x\":[1991,2001,2010,2017,2019,2029,2039],\"y\":[23411,28486,32758,36507,37655,43959,51319]}},\"id\":\"4903e1c6-a414-46c2-ae95-c179dc1f5347\",\"type\":\"ColumnDataSource\"},{\"attributes\":{\"callback\":null,\"column_names\":[\"x\",\"y\"],\"data\":{\"x\":[1991,2001,2010,2017,2019,2029,2039],\"y\":[868,1079,1296,1495,1557,1909,2341]}},\"id\":\"e05ede44-69c8-4fa7-af7c-961c69841fdc\",\"type\":\"ColumnDataSource\"},{\"attributes\":{\"data_source\":{\"id\":\"e35c0793-fafa-4fe2-8c88-7dac3a9e527c\",\"type\":\"ColumnDataSource\"},\"glyph\":{\"id\":\"66510c6d-29a3-4eb4-8410-0f90fd5c0011\",\"type\":\"Circle\"},\"hover_glyph\":null,\"nonselection_glyph\":{\"id\":\"a7f74bf1-6f40-4bc4-9e71-9e23a6addeb9\",\"type\":\"Circle\"},\"selection_glyph\":null},\"id\":\"3b674d95-b99a-414e-9022-e6b111cc060d\",\"type\":\"GlyphRenderer\"},{\"attributes\":{\"use_scientific\":false},\"id\":\"2b84457d-fc1b-4532-84d3-234d960bc979\",\"type\":\"BasicTickFormatter\"},{\"attributes\":{\"line_alpha\":{\"value\":0.1},\"line_color\":{\"value\":\"#1f77b4\"},\"line_width\":{\"value\":2},\"x\":{\"field\":\"x\"},\"y\":{\"field\":\"y\"}},\"id\":\"5c8baa08-5ce8-44a5-b57d-0daf3b0ebcb3\",\"type\":\"Line\"},{\"attributes\":{\"data_source\":{\"id\":\"10f1a912-db9d-461c-9935-f744e7e8890a\",\"type\":\"ColumnDataSource\"},\"glyph\":{\"id\":\"abb936a0-a07a-4d3d-aacc-6cd75704f8c6\",\"type\":\"Circle\"},\"hover_glyph\":null,\"nonselection_glyph\":{\"id\":\"a4c59143-cf4e-4d3e-8e76-f1c919ad4f5a\",\"type\":\"Circle\"},\"selection_glyph\":null},\"id\":\"f9dce2cb-f164-4cf2-ae73-1e9591e506f4\",\"type\":\"GlyphRenderer\"},{\"attributes\":{\"callback\":null,\"column_names\":[\"x\",\"y\"],\"data\":{\"x\":[1991,2001,2010,2017,2019,2029,2039],\"y\":[1527,1981,2228,2441,2505,2853,3250]}},\"id\":\"f7fc9477-8e51-4864-b46a-9bed41020fbc\",\"type\":\"ColumnDataSource\"},{\"attributes\":{\"plot\":{\"id\":\"5bb5ae8f-2655-4858-8489-bf5c7d76f834\",\"subtype\":\"Figure\",\"type\":\"Plot\"}},\"id\":\"4962510b-6f0e-437a-9335-795a9d020222\",\"type\":\"ResetTool\"},{\"attributes\":{\"line_color\":{\"value\":\"pink\"},\"line_width\":{\"value\":2},\"x\":{\"field\":\"x\"},\"y\":{\"field\":\"y\"}},\"id\":\"9ac00264-f7fe-4555-8b88-fbb1fa1c3c6a\",\"type\":\"Line\"},{\"attributes\":{\"line_alpha\":{\"value\":0.1},\"line_color\":{\"value\":\"#1f77b4\"},\"line_width\":{\"value\":2},\"x\":{\"field\":\"x\"},\"y\":{\"field\":\"y\"}},\"id\":\"cba56b82-9a69-4bfe-bcfd-a3e79c29dcc6\",\"type\":\"Line\"},{\"attributes\":{\"legends\":[[\"Comodoro Rivadavia\",[{\"id\":\"b3178eff-f6f2-4401-92dc-dc28b07196f4\",\"type\":\"GlyphRenderer\"},{\"id\":\"7866a8b8-1776-418f-b011-85f0054ecf5b\",\"type\":\"GlyphRenderer\"}]],[\"Trelew\",[{\"id\":\"1e234110-33e8-4666-bf16-2cc5a0641b49\",\"type\":\"GlyphRenderer\"},{\"id\":\"5777f133-fd06-4764-baf2-958faed2903a\",\"type\":\"GlyphRenderer\"}]],[\"Puerto Madryn\",[{\"id\":\"136681bd-c488-4397-b6a7-db70833c6301\",\"type\":\"GlyphRenderer\"},{\"id\":\"b76f3fb0-a755-4026-b48c-f49ed22e6f77\",\"type\":\"GlyphRenderer\"}]],[\"Esquel\",[{\"id\":\"429418ff-db8e-4c52-94f5-f5945eb4553f\",\"type\":\"GlyphRenderer\"},{\"id\":\"2c8de2c5-5b46-40fd-9cac-5c3f1a7cc208\",\"type\":\"GlyphRenderer\"}]],[\"Sarmiento\",[{\"id\":\"972e3b09-5814-490c-852a-e910bb00c77c\",\"type\":\"GlyphRenderer\"},{\"id\":\"d148e645-1a6b-41cd-86f4-537091f392fe\",\"type\":\"GlyphRenderer\"}]],[\"Rawson\",[{\"id\":\"35522023-02a1-4585-bf47-ab91411a5e01\",\"type\":\"GlyphRenderer\"},{\"id\":\"434ae45b-dba5-462b-bb0a-6534b4308468\",\"type\":\"GlyphRenderer\"}]],[\"Dolavon\",[{\"id\":\"3b674d95-b99a-414e-9022-e6b111cc060d\",\"type\":\"GlyphRenderer\"},{\"id\":\"950f3b82-4850-49c8-8850-6a6a60a1b329\",\"type\":\"GlyphRenderer\"}]],[\"Gaiman\",[{\"id\":\"952bfc12-242d-485c-aca4-614be8975477\",\"type\":\"GlyphRenderer\"},{\"id\":\"af8306ed-bbb5-4750-8f31-4aca5f8ddf22\",\"type\":\"GlyphRenderer\"}]],[\"Gobernador Costa\",[{\"id\":\"f9dce2cb-f164-4cf2-ae73-1e9591e506f4\",\"type\":\"GlyphRenderer\"},{\"id\":\"23ea8986-72fb-4ab1-90c7-20abf8c05215\",\"type\":\"GlyphRenderer\"}]],[\"Cholila\",[{\"id\":\"4c6cc838-c4d8-4f6f-abbe-126f9a4c3f5a\",\"type\":\"GlyphRenderer\"},{\"id\":\"e03777ad-d370-4681-a818-6bd4e9e2b03f\",\"type\":\"GlyphRenderer\"}]],[\"Camarones\",[{\"id\":\"7453e5fe-bdd4-460b-a246-bfb883b02b6a\",\"type\":\"GlyphRenderer\"},{\"id\":\"d9f0877b-e5ad-42ea-b5a6-848101e10b7c\",\"type\":\"GlyphRenderer\"}]],[\"Paso de Indios\",[{\"id\":\"c4f7e489-ed3a-4b3f-9ed2-a5f73224664f\",\"type\":\"GlyphRenderer\"},{\"id\":\"52ec72ba-355a-4e44-a286-3a57aff8e58f\",\"type\":\"GlyphRenderer\"}]],[\"Paso del Sapo\",[{\"id\":\"103f171f-528f-42c1-af09-bf1c662f05a6\",\"type\":\"GlyphRenderer\"},{\"id\":\"57186e32-8490-45c8-b374-cdd187bebc5a\",\"type\":\"GlyphRenderer\"}]]],\"plot\":{\"id\":\"5bb5ae8f-2655-4858-8489-bf5c7d76f834\",\"subtype\":\"Figure\",\"type\":\"Plot\"}},\"id\":\"fac68c27-4ca1-4764-928e-8f618dcb700c\",\"type\":\"Legend\"},{\"attributes\":{\"callback\":null,\"column_names\":[\"x\",\"y\"],\"data\":{\"x\":[1991,2001,2010,2017,2019,2029,2039],\"y\":[1913,2185,2374,2533,2580,2830,3104]}},\"id\":\"10f1a912-db9d-461c-9935-f744e7e8890a\",\"type\":\"ColumnDataSource\"},{\"attributes\":{\"line_alpha\":{\"value\":0.1},\"line_color\":{\"value\":\"#1f77b4\"},\"line_width\":{\"value\":2},\"x\":{\"field\":\"x\"},\"y\":{\"field\":\"y\"}},\"id\":\"62f6cfaa-2e10-46fe-a375-4297752419d9\",\"type\":\"Line\"},{\"attributes\":{\"fill_color\":{\"value\":\"blue\"},\"line_color\":{\"value\":\"blue\"},\"x\":{\"field\":\"x\"},\"y\":{\"field\":\"y\"}},\"id\":\"f3214622-a640-46b7-91da-c24ac913da72\",\"type\":\"Circle\"},{\"attributes\":{\"line_alpha\":{\"value\":0.1},\"line_color\":{\"value\":\"#1f77b4\"},\"line_width\":{\"value\":2},\"x\":{\"field\":\"x\"},\"y\":{\"field\":\"y\"}},\"id\":\"31a6e29d-d270-4ec9-8eee-e169794899ad\",\"type\":\"Line\"},{\"attributes\":{\"dimension\":1,\"plot\":{\"id\":\"5bb5ae8f-2655-4858-8489-bf5c7d76f834\",\"subtype\":\"Figure\",\"type\":\"Plot\"},\"ticker\":{\"id\":\"f49837c7-364f-41a5-b611-c13801180a29\",\"type\":\"BasicTicker\"}},\"id\":\"862c2f8b-e6f2-4f11-aa8d-0a13558b4c02\",\"type\":\"Grid\"},{\"attributes\":{\"fill_alpha\":{\"value\":0.1},\"fill_color\":{\"value\":\"#1f77b4\"},\"line_alpha\":{\"value\":0.1},\"line_color\":{\"value\":\"#1f77b4\"},\"x\":{\"field\":\"x\"},\"y\":{\"field\":\"y\"}},\"id\":\"a632f8f9-554b-4ec5-9fed-75490ab15fd8\",\"type\":\"Circle\"},{\"attributes\":{\"line_alpha\":{\"value\":0.1},\"line_color\":{\"value\":\"#1f77b4\"},\"line_width\":{\"value\":2},\"x\":{\"field\":\"x\"},\"y\":{\"field\":\"y\"}},\"id\":\"a26aec19-8d9a-4d31-9716-5ed674bf5335\",\"type\":\"Line\"},{\"attributes\":{\"plot\":{\"id\":\"5bb5ae8f-2655-4858-8489-bf5c7d76f834\",\"subtype\":\"Figure\",\"type\":\"Plot\"}},\"id\":\"d9875467-e7e7-4333-b450-682d5f59fb75\",\"type\":\"SaveTool\"},{\"attributes\":{\"data_source\":{\"id\":\"f7fc9477-8e51-4864-b46a-9bed41020fbc\",\"type\":\"ColumnDataSource\"},\"glyph\":{\"id\":\"b059817b-0c8f-4efc-888a-9e71adc2c474\",\"type\":\"Circle\"},\"hover_glyph\":null,\"nonselection_glyph\":{\"id\":\"a632f8f9-554b-4ec5-9fed-75490ab15fd8\",\"type\":\"Circle\"},\"selection_glyph\":null},\"id\":\"4c6cc838-c4d8-4f6f-abbe-126f9a4c3f5a\",\"type\":\"GlyphRenderer\"},{\"attributes\":{\"line_alpha\":{\"value\":0.1},\"line_color\":{\"value\":\"#1f77b4\"},\"line_width\":{\"value\":2},\"x\":{\"field\":\"x\"},\"y\":{\"field\":\"y\"}},\"id\":\"6aaa3f76-405d-4d91-a2b3-bd9718775a74\",\"type\":\"Line\"},{\"attributes\":{\"callback\":null,\"column_names\":[\"x\",\"y\"],\"data\":{\"x\":[1991,2001,2010,2017,2019,2029,2039],\"y\":[868,1079,1296,1495,1557,1909,2341]}},\"id\":\"aba78cc7-7fc1-47d5-9b31-e9dd2dd49961\",\"type\":\"ColumnDataSource\"},{\"attributes\":{\"callback\":null,\"column_names\":[\"x\",\"y\"],\"data\":{\"x\":[1991,2001,2010,2017,2019,2029,2039],\"y\":[23411,28486,32758,36507,37655,43959,51319]}},\"id\":\"53c85108-ff63-4b3f-8256-5081b1d95e64\",\"type\":\"ColumnDataSource\"},{\"attributes\":{\"plot\":{\"id\":\"5bb5ae8f-2655-4858-8489-bf5c7d76f834\",\"subtype\":\"Figure\",\"type\":\"Plot\"}},\"id\":\"9d70a239-3ff8-46e5-8814-357f22beccc7\",\"type\":\"WheelZoomTool\"},{\"attributes\":{\"line_color\":{\"value\":\"red\"},\"line_width\":{\"value\":2},\"x\":{\"field\":\"x\"},\"y\":{\"field\":\"y\"}},\"id\":\"0cc769a8-5006-495e-95b8-9e90b03c8e34\",\"type\":\"Line\"},{\"attributes\":{\"line_color\":{\"value\":\"magenta\"},\"line_width\":{\"value\":2},\"x\":{\"field\":\"x\"},\"y\":{\"field\":\"y\"}},\"id\":\"2a4afd1a-ddb2-4a26-962a-cc439e43c942\",\"type\":\"Line\"},{\"attributes\":{\"data_source\":{\"id\":\"82931872-8d6b-4c0b-874c-58968333e593\",\"type\":\"ColumnDataSource\"},\"glyph\":{\"id\":\"8be580a9-eb1e-48c1-a193-34906ecb229a\",\"type\":\"Line\"},\"hover_glyph\":null,\"nonselection_glyph\":{\"id\":\"cba56b82-9a69-4bfe-bcfd-a3e79c29dcc6\",\"type\":\"Line\"},\"selection_glyph\":null},\"id\":\"af8306ed-bbb5-4750-8f31-4aca5f8ddf22\",\"type\":\"GlyphRenderer\"},{\"attributes\":{\"callback\":null,\"column_names\":[\"x\",\"y\"],\"data\":{\"x\":[1991,2001,2010,2017,2019,2029,2039],\"y\":[45047,57791,81995,107610,116301,171493,235899]}},\"id\":\"f063b70b-3d69-43ae-a133-fd50f9aacc4b\",\"type\":\"ColumnDataSource\"},{\"attributes\":{\"callback\":null,\"column_names\":[\"x\",\"y\"],\"data\":{\"x\":[1991,2001,2010,2017,2019,2029,2039],\"y\":[4642,5753,6627,7396,7632,8927,10442]}},\"id\":\"82931872-8d6b-4c0b-874c-58968333e593\",\"type\":\"ColumnDataSource\"},{\"attributes\":{\"data_source\":{\"id\":\"9457949b-fbc7-4835-b130-1bcecea9dd73\",\"type\":\"ColumnDataSource\"},\"glyph\":{\"id\":\"0cc769a8-5006-495e-95b8-9e90b03c8e34\",\"type\":\"Line\"},\"hover_glyph\":null,\"nonselection_glyph\":{\"id\":\"a26aec19-8d9a-4d31-9716-5ed674bf5335\",\"type\":\"Line\"},\"selection_glyph\":null},\"id\":\"7866a8b8-1776-418f-b011-85f0054ecf5b\",\"type\":\"GlyphRenderer\"},{\"attributes\":{\"line_color\":{\"value\":\"olive\"},\"line_width\":{\"value\":2},\"x\":{\"field\":\"x\"},\"y\":{\"field\":\"y\"}},\"id\":\"22e849f6-7648-4bc6-aa3d-f023d07f97e5\",\"type\":\"Line\"},{\"attributes\":{\"data_source\":{\"id\":\"79250f51-8324-45cc-81cf-94c23ee6872f\",\"type\":\"ColumnDataSource\"},\"glyph\":{\"id\":\"3928fe30-0166-4407-8cf6-0d269ad264b1\",\"type\":\"Line\"},\"hover_glyph\":null,\"nonselection_glyph\":{\"id\":\"6aaa3f76-405d-4d91-a2b3-bd9718775a74\",\"type\":\"Line\"},\"selection_glyph\":null},\"id\":\"950f3b82-4850-49c8-8850-6a6a60a1b329\",\"type\":\"GlyphRenderer\"},{\"attributes\":{\"data_source\":{\"id\":\"c46a10af-9eb7-4d35-bdca-b46e6cc0044c\",\"type\":\"ColumnDataSource\"},\"glyph\":{\"id\":\"c2228a96-70ac-4e11-bec7-52be1966f8f2\",\"type\":\"Circle\"},\"hover_glyph\":null,\"nonselection_glyph\":{\"id\":\"110a3b2b-d8f5-440a-97c8-16f439f7b0db\",\"type\":\"Circle\"},\"selection_glyph\":null},\"id\":\"103f171f-528f-42c1-af09-bf1c662f05a6\",\"type\":\"GlyphRenderer\"},{\"attributes\":{\"fill_color\":{\"value\":\"#7c1b65\"},\"line_color\":{\"value\":\"#7c1b65\"},\"x\":{\"field\":\"x\"},\"y\":{\"field\":\"y\"}},\"id\":\"c2228a96-70ac-4e11-bec7-52be1966f8f2\",\"type\":\"Circle\"},{\"attributes\":{\"data_source\":{\"id\":\"99f97a2d-3578-45f0-8aec-4b29cfd8080b\",\"type\":\"ColumnDataSource\"},\"glyph\":{\"id\":\"2f8fc48a-62af-4397-b364-a69fe8164b40\",\"type\":\"Circle\"},\"hover_glyph\":null,\"nonselection_glyph\":{\"id\":\"6d58d2af-23a3-4047-8ef1-4ae84ee41cc6\",\"type\":\"Circle\"},\"selection_glyph\":null},\"id\":\"952bfc12-242d-485c-aca4-614be8975477\",\"type\":\"GlyphRenderer\"},{\"attributes\":{\"fill_alpha\":{\"value\":0.1},\"fill_color\":{\"value\":\"#1f77b4\"},\"line_alpha\":{\"value\":0.1},\"line_color\":{\"value\":\"#1f77b4\"},\"x\":{\"field\":\"x\"},\"y\":{\"field\":\"y\"}},\"id\":\"dc409be1-0711-4470-9cd9-ae18e0f09ed0\",\"type\":\"Circle\"},{\"attributes\":{\"line_color\":{\"value\":\"cyan\"},\"line_width\":{\"value\":2},\"x\":{\"field\":\"x\"},\"y\":{\"field\":\"y\"}},\"id\":\"96bb1490-2470-4304-a75b-3d9a77510e64\",\"type\":\"Line\"},{\"attributes\":{\"data_source\":{\"id\":\"53c85108-ff63-4b3f-8256-5081b1d95e64\",\"type\":\"ColumnDataSource\"},\"glyph\":{\"id\":\"f2065a98-364c-490f-aaf0-e6c3bc82d24e\",\"type\":\"Circle\"},\"hover_glyph\":null,\"nonselection_glyph\":{\"id\":\"16af13cf-ce26-47d0-86b7-a8ad69b82a5c\",\"type\":\"Circle\"},\"selection_glyph\":null},\"id\":\"429418ff-db8e-4c52-94f5-f5945eb4553f\",\"type\":\"GlyphRenderer\"},{\"attributes\":{\"data_source\":{\"id\":\"6d457ef5-9da9-45e0-ac6a-3e186978c38f\",\"type\":\"ColumnDataSource\"},\"glyph\":{\"id\":\"f34b4656-593e-4344-a617-e3250c1d178f\",\"type\":\"Circle\"},\"hover_glyph\":null,\"nonselection_glyph\":{\"id\":\"7e219e32-78b8-4011-ac2a-756911713d6c\",\"type\":\"Circle\"},\"selection_glyph\":null},\"id\":\"972e3b09-5814-490c-852a-e910bb00c77c\",\"type\":\"GlyphRenderer\"},{\"attributes\":{\"fill_color\":{\"value\":\"yellow\"},\"line_color\":{\"value\":\"yellow\"},\"x\":{\"field\":\"x\"},\"y\":{\"field\":\"y\"}},\"id\":\"f34b4656-593e-4344-a617-e3250c1d178f\",\"type\":\"Circle\"},{\"attributes\":{\"line_color\":{\"value\":\"#7c1b65\"},\"line_width\":{\"value\":2},\"x\":{\"field\":\"x\"},\"y\":{\"field\":\"y\"}},\"id\":\"59252426-d203-4305-b8eb-55681d1c6ebc\",\"type\":\"Line\"},{\"attributes\":{\"data_source\":{\"id\":\"b8989b22-5e09-46af-9bbc-a9525f30e68f\",\"type\":\"ColumnDataSource\"},\"glyph\":{\"id\":\"2096cf50-2b79-47fd-a9e1-8ae8fc919a27\",\"type\":\"Circle\"},\"hover_glyph\":null,\"nonselection_glyph\":{\"id\":\"dc409be1-0711-4470-9cd9-ae18e0f09ed0\",\"type\":\"Circle\"},\"selection_glyph\":null},\"id\":\"c4f7e489-ed3a-4b3f-9ed2-a5f73224664f\",\"type\":\"GlyphRenderer\"},{\"attributes\":{\"data_source\":{\"id\":\"3780478a-80b6-4574-8367-3b542b501378\",\"type\":\"ColumnDataSource\"},\"glyph\":{\"id\":\"2747b0ce-b2b2-467d-a955-a0d573036671\",\"type\":\"Line\"},\"hover_glyph\":null,\"nonselection_glyph\":{\"id\":\"a2055b8b-bf68-49ef-a209-a3d691e47f36\",\"type\":\"Line\"},\"selection_glyph\":null},\"id\":\"52ec72ba-355a-4e44-a286-3a57aff8e58f\",\"type\":\"GlyphRenderer\"},{\"attributes\":{\"callback\":null,\"column_names\":[\"x\",\"y\"],\"data\":{\"x\":[1991,2001,2010,2017,2019,2029,2039],\"y\":[2613,2929,3307,3635,3735,4275,4840]}},\"id\":\"79250f51-8324-45cc-81cf-94c23ee6872f\",\"type\":\"ColumnDataSource\"},{\"attributes\":{\"fill_color\":{\"value\":\"magenta\"},\"line_color\":{\"value\":\"magenta\"},\"x\":{\"field\":\"x\"},\"y\":{\"field\":\"y\"}},\"id\":\"b059817b-0c8f-4efc-888a-9e71adc2c474\",\"type\":\"Circle\"},{\"attributes\":{\"data_source\":{\"id\":\"62aa7a71-18ea-45dd-afb9-20da64e4fed5\",\"type\":\"ColumnDataSource\"},\"glyph\":{\"id\":\"96bb1490-2470-4304-a75b-3d9a77510e64\",\"type\":\"Line\"},\"hover_glyph\":null,\"nonselection_glyph\":{\"id\":\"2d0dd446-1e40-4991-9b9a-2bf777ca24f6\",\"type\":\"Line\"},\"selection_glyph\":null},\"id\":\"23ea8986-72fb-4ab1-90c7-20abf8c05215\",\"type\":\"GlyphRenderer\"},{\"attributes\":{\"fill_alpha\":{\"value\":0.1},\"fill_color\":{\"value\":\"#1f77b4\"},\"line_alpha\":{\"value\":0.1},\"line_color\":{\"value\":\"#1f77b4\"},\"x\":{\"field\":\"x\"},\"y\":{\"field\":\"y\"}},\"id\":\"a4c59143-cf4e-4d3e-8e76-f1c919ad4f5a\",\"type\":\"Circle\"},{\"attributes\":{\"fill_alpha\":{\"value\":0.1},\"fill_color\":{\"value\":\"#1f77b4\"},\"line_alpha\":{\"value\":0.1},\"line_color\":{\"value\":\"#1f77b4\"},\"x\":{\"field\":\"x\"},\"y\":{\"field\":\"y\"}},\"id\":\"ecc10676-58c5-4e7a-ab50-7b3e2fdaf7a4\",\"type\":\"Circle\"},{\"attributes\":{\"plot\":{\"id\":\"5bb5ae8f-2655-4858-8489-bf5c7d76f834\",\"subtype\":\"Figure\",\"type\":\"Plot\"},\"ticker\":{\"id\":\"1f796a50-d68d-4d73-9dad-98479e08ab1f\",\"type\":\"BasicTicker\"}},\"id\":\"c3705146-06f1-4c34-8bc0-a6b577515806\",\"type\":\"Grid\"},{\"attributes\":{\"line_color\":{\"value\":\"orange\"},\"line_width\":{\"value\":2},\"x\":{\"field\":\"x\"},\"y\":{\"field\":\"y\"}},\"id\":\"5883671c-5fb8-4f9b-b838-db6240aafb26\",\"type\":\"Line\"},{\"attributes\":{\"callback\":null,\"column_names\":[\"x\",\"y\"],\"data\":{\"x\":[1991,2001,2010,2017,2019,2029,2039],\"y\":[20674,26183,31787,36967,38596,47885,59410]}},\"id\":\"d588d35e-8817-4230-add4-753afaeb6630\",\"type\":\"ColumnDataSource\"},{\"attributes\":{\"callback\":null,\"column_names\":[\"x\",\"y\"],\"data\":{\"x\":[1991,2001,2010,2017,2019,2029,2039],\"y\":[864,1087,1264,1421,1469,1737,2054]}},\"id\":\"3780478a-80b6-4574-8367-3b542b501378\",\"type\":\"ColumnDataSource\"},{\"attributes\":{\"fill_color\":{\"value\":\"pink\"},\"line_color\":{\"value\":\"pink\"},\"x\":{\"field\":\"x\"},\"y\":{\"field\":\"y\"}},\"id\":\"f82039f0-6a65-45ad-b091-08f2bebca4a2\",\"type\":\"Circle\"},{\"attributes\":{\"line_alpha\":{\"value\":0.1},\"line_color\":{\"value\":\"#1f77b4\"},\"line_width\":{\"value\":2},\"x\":{\"field\":\"x\"},\"y\":{\"field\":\"y\"}},\"id\":\"ea9cc683-7cfc-42fe-8a4c-a6244f4f54ee\",\"type\":\"Line\"},{\"attributes\":{\"plot\":{\"id\":\"5bb5ae8f-2655-4858-8489-bf5c7d76f834\",\"subtype\":\"Figure\",\"type\":\"Plot\"}},\"id\":\"751a9509-574d-4bc9-80d5-193e27d7d718\",\"type\":\"PanTool\"},{\"attributes\":{\"callback\":null,\"column_names\":[\"x\",\"y\"],\"data\":{\"x\":[1991,2001,2010,2017,2019,2029,2039],\"y\":[4642,5753,6627,7396,7632,8927,10442]}},\"id\":\"99f97a2d-3578-45f0-8aec-4b29cfd8080b\",\"type\":\"ColumnDataSource\"},{\"attributes\":{\"active_drag\":\"auto\",\"active_scroll\":\"auto\",\"active_tap\":\"auto\",\"tools\":[{\"id\":\"751a9509-574d-4bc9-80d5-193e27d7d718\",\"type\":\"PanTool\"},{\"id\":\"9d70a239-3ff8-46e5-8814-357f22beccc7\",\"type\":\"WheelZoomTool\"},{\"id\":\"52d72873-3b56-463e-9b4a-6cbcd59aab01\",\"type\":\"BoxZoomTool\"},{\"id\":\"d9875467-e7e7-4333-b450-682d5f59fb75\",\"type\":\"SaveTool\"},{\"id\":\"4962510b-6f0e-437a-9335-795a9d020222\",\"type\":\"ResetTool\"},{\"id\":\"60870b25-40e4-49ed-8100-cccc4dcca8ac\",\"type\":\"HelpTool\"}]},\"id\":\"462f0d95-c4f5-466e-b586-c3a3d684f7bc\",\"type\":\"Toolbar\"},{\"attributes\":{\"callback\":null,\"column_names\":[\"x\",\"y\"],\"data\":{\"x\":[1991,2001,2010,2017,2019,2029,2039],\"y\":[1913,2185,2374,2533,2580,2830,3104]}},\"id\":\"62aa7a71-18ea-45dd-afb9-20da64e4fed5\",\"type\":\"ColumnDataSource\"},{\"attributes\":{\"below\":[{\"id\":\"f43cc481-d330-4d6a-96f4-467555106e9b\",\"type\":\"LinearAxis\"}],\"left\":[{\"id\":\"8f77bccb-b48a-46d1-ad33-a2adb808004d\",\"type\":\"LinearAxis\"}],\"plot_width\":900,\"renderers\":[{\"id\":\"f43cc481-d330-4d6a-96f4-467555106e9b\",\"type\":\"LinearAxis\"},{\"id\":\"c3705146-06f1-4c34-8bc0-a6b577515806\",\"type\":\"Grid\"},{\"id\":\"8f77bccb-b48a-46d1-ad33-a2adb808004d\",\"type\":\"LinearAxis\"},{\"id\":\"862c2f8b-e6f2-4f11-aa8d-0a13558b4c02\",\"type\":\"Grid\"},{\"id\":\"d918ddcb-fdb9-4047-a0cb-3bab9ced4a9e\",\"type\":\"BoxAnnotation\"},{\"id\":\"fac68c27-4ca1-4764-928e-8f618dcb700c\",\"type\":\"Legend\"},{\"id\":\"b3178eff-f6f2-4401-92dc-dc28b07196f4\",\"type\":\"GlyphRenderer\"},{\"id\":\"7866a8b8-1776-418f-b011-85f0054ecf5b\",\"type\":\"GlyphRenderer\"},{\"id\":\"1e234110-33e8-4666-bf16-2cc5a0641b49\",\"type\":\"GlyphRenderer\"},{\"id\":\"5777f133-fd06-4764-baf2-958faed2903a\",\"type\":\"GlyphRenderer\"},{\"id\":\"136681bd-c488-4397-b6a7-db70833c6301\",\"type\":\"GlyphRenderer\"},{\"id\":\"b76f3fb0-a755-4026-b48c-f49ed22e6f77\",\"type\":\"GlyphRenderer\"},{\"id\":\"429418ff-db8e-4c52-94f5-f5945eb4553f\",\"type\":\"GlyphRenderer\"},{\"id\":\"2c8de2c5-5b46-40fd-9cac-5c3f1a7cc208\",\"type\":\"GlyphRenderer\"},{\"id\":\"972e3b09-5814-490c-852a-e910bb00c77c\",\"type\":\"GlyphRenderer\"},{\"id\":\"d148e645-1a6b-41cd-86f4-537091f392fe\",\"type\":\"GlyphRenderer\"},{\"id\":\"35522023-02a1-4585-bf47-ab91411a5e01\",\"type\":\"GlyphRenderer\"},{\"id\":\"434ae45b-dba5-462b-bb0a-6534b4308468\",\"type\":\"GlyphRenderer\"},{\"id\":\"3b674d95-b99a-414e-9022-e6b111cc060d\",\"type\":\"GlyphRenderer\"},{\"id\":\"950f3b82-4850-49c8-8850-6a6a60a1b329\",\"type\":\"GlyphRenderer\"},{\"id\":\"952bfc12-242d-485c-aca4-614be8975477\",\"type\":\"GlyphRenderer\"},{\"id\":\"af8306ed-bbb5-4750-8f31-4aca5f8ddf22\",\"type\":\"GlyphRenderer\"},{\"id\":\"f9dce2cb-f164-4cf2-ae73-1e9591e506f4\",\"type\":\"GlyphRenderer\"},{\"id\":\"23ea8986-72fb-4ab1-90c7-20abf8c05215\",\"type\":\"GlyphRenderer\"},{\"id\":\"4c6cc838-c4d8-4f6f-abbe-126f9a4c3f5a\",\"type\":\"GlyphRenderer\"},{\"id\":\"e03777ad-d370-4681-a818-6bd4e9e2b03f\",\"type\":\"GlyphRenderer\"},{\"id\":\"7453e5fe-bdd4-460b-a246-bfb883b02b6a\",\"type\":\"GlyphRenderer\"},{\"id\":\"d9f0877b-e5ad-42ea-b5a6-848101e10b7c\",\"type\":\"GlyphRenderer\"},{\"id\":\"c4f7e489-ed3a-4b3f-9ed2-a5f73224664f\",\"type\":\"GlyphRenderer\"},{\"id\":\"52ec72ba-355a-4e44-a286-3a57aff8e58f\",\"type\":\"GlyphRenderer\"},{\"id\":\"103f171f-528f-42c1-af09-bf1c662f05a6\",\"type\":\"GlyphRenderer\"},{\"id\":\"57186e32-8490-45c8-b374-cdd187bebc5a\",\"type\":\"GlyphRenderer\"}],\"title\":{\"id\":\"8d53b2d1-e305-4d42-81c1-c01e4cab43a1\",\"type\":\"Title\"},\"tool_events\":{\"id\":\"a80de7bb-ab43-4338-bf73-4c4b89c23323\",\"type\":\"ToolEvents\"},\"toolbar\":{\"id\":\"462f0d95-c4f5-466e-b586-c3a3d684f7bc\",\"type\":\"Toolbar\"},\"x_range\":{\"id\":\"2bba429a-d224-4aad-9c73-d966cd782810\",\"type\":\"DataRange1d\"},\"y_range\":{\"id\":\"b5bd59cd-d0d1-47d2-ae55-409790fb8b50\",\"type\":\"DataRange1d\"}},\"id\":\"5bb5ae8f-2655-4858-8489-bf5c7d76f834\",\"subtype\":\"Figure\",\"type\":\"Plot\"},{\"attributes\":{\"callback\":null},\"id\":\"b5bd59cd-d0d1-47d2-ae55-409790fb8b50\",\"type\":\"DataRange1d\"},{\"attributes\":{\"callback\":null,\"column_names\":[\"x\",\"y\"],\"data\":{\"x\":[1991,2001,2010,2017,2019,2029,2039],\"y\":[79340,89547,99430,107865,110404,124023,139322]}},\"id\":\"a3031907-c30c-4852-b040-04f3dc979665\",\"type\":\"ColumnDataSource\"},{\"attributes\":{\"data_source\":{\"id\":\"4903e1c6-a414-46c2-ae95-c179dc1f5347\",\"type\":\"ColumnDataSource\"},\"glyph\":{\"id\":\"2549e0d0-5cba-457e-ad4a-594f760022e1\",\"type\":\"Line\"},\"hover_glyph\":null,\"nonselection_glyph\":{\"id\":\"fad8e754-a7ab-4b5b-9fb0-60da24ee00d4\",\"type\":\"Line\"},\"selection_glyph\":null},\"id\":\"2c8de2c5-5b46-40fd-9cac-5c3f1a7cc208\",\"type\":\"GlyphRenderer\"},{\"attributes\":{\"fill_alpha\":{\"value\":0.1},\"fill_color\":{\"value\":\"#1f77b4\"},\"line_alpha\":{\"value\":0.1},\"line_color\":{\"value\":\"#1f77b4\"},\"x\":{\"field\":\"x\"},\"y\":{\"field\":\"y\"}},\"id\":\"7a5f7d3c-781c-4dbd-8929-5ab8b8b9c142\",\"type\":\"Circle\"},{\"attributes\":{\"fill_color\":{\"value\":\"green\"},\"line_color\":{\"value\":\"green\"},\"x\":{\"field\":\"x\"},\"y\":{\"field\":\"y\"}},\"id\":\"f2065a98-364c-490f-aaf0-e6c3bc82d24e\",\"type\":\"Circle\"},{\"attributes\":{\"callback\":null,\"column_names\":[\"x\",\"y\"],\"data\":{\"x\":[1991,2001,2010,2017,2019,2029,2039],\"y\":[322,384,396,406,409,423,438]}},\"id\":\"2f63d982-f05a-4fee-97c6-4861a9386a2f\",\"type\":\"ColumnDataSource\"},{\"attributes\":{},\"id\":\"13745635-cdd6-4600-9091-aa73bcf1eede\",\"type\":\"BasicTickFormatter\"}],\"root_ids\":[\"5bb5ae8f-2655-4858-8489-bf5c7d76f834\"]},\"title\":\"Bokeh Application\",\"version\":\"0.12.0\"}};\n",
       "            var render_items = [{\"docid\":\"beab073a-02c0-4ce9-bad8-072d97f10e0a\",\"elementid\":\"7b50589a-8566-42f6-9c5e-25d135f60c6d\",\"modelid\":\"5bb5ae8f-2655-4858-8489-bf5c7d76f834\",\"notebook_comms_target\":\"bd072942-cad2-4f73-b399-5c89d31fbb6e\"}];\n",
       "            \n",
       "            Bokeh.embed.embed_items(docs_json, render_items);\n",
       "        });\n",
       "      },\n",
       "      function(Bokeh) {\n",
       "      }\n",
       "    ];\n",
       "  \n",
       "    function run_inline_js() {\n",
       "      for (var i = 0; i < inline_js.length; i++) {\n",
       "        inline_js[i](window.Bokeh);\n",
       "      }\n",
       "    }\n",
       "  \n",
       "    if (window._bokeh_is_loading === 0) {\n",
       "      console.log(\"Bokeh: BokehJS loaded, going straight to plotting\");\n",
       "      run_inline_js();\n",
       "    } else {\n",
       "      load_libs(js_urls, function() {\n",
       "        console.log(\"Bokeh: BokehJS plotting callback run at\", now());\n",
       "        run_inline_js();\n",
       "      });\n",
       "    }\n",
       "  }(this));\n",
       "</script>"
      ]
     },
     "metadata": {},
     "output_type": "display_data"
    },
    {
     "data": {
      "text/html": [
       "<p><code>&lt;Bokeh Notebook handle for <strong>In[6]</strong>&gt;</code></p>"
      ],
      "text/plain": [
       "<bokeh.io._CommsHandle at 0xaf48e02c>"
      ]
     },
     "execution_count": 6,
     "metadata": {},
     "output_type": "execute_result"
    }
   ],
   "source": [
    "x = tiempo\n",
    "ciudades=[\"Comodoro Rivadavia\",\"Trelew\",\"Puerto Madryn\",\"Esquel\",\"Sarmiento\",\"Rawson\",\"Dolavon\",\"Gaiman\",\"Gobernador Costa\",\"Cholila\",\"Camarones\",\"Paso de Indios\",\"Paso del Sapo\"]\n",
    "colores=[\"red\",\"orange\",\"blue\",\"green\",\"yellow\",\"pink\",\"navy\",\"firebrick\",\"cyan\",\"magenta\",\"olive\",\"#164c71\",\"#7c1b65\"]\n",
    "\n",
    "p = figure(title=\"Población - Método de las Tasas Medias Anuales Decrecientes\",plot_width=900)\n",
    "p.title.align = \"center\"\n",
    "p.title.text_color = \"blue\"\n",
    "p.title.text_font = \"times\"\n",
    "p.title.text_font_style = \"italic\"\n",
    "p.title.text_font_size = \"20px\"\n",
    "\n",
    "p.left[0].formatter.use_scientific = False\n",
    "\n",
    "for i in range(len(ciudades)):\n",
    "    p.circle(x, proyecciones[i], legend=ciudades[i],fill_color=colores[i],line_color=colores[i])\n",
    "    p.line(x, proyecciones[i], legend=ciudades[i],line_color=colores[i], line_width=2)\n",
    "\n",
    "p.xaxis.axis_label = 'Tiempo'\n",
    "p.yaxis.axis_label = 'Población'\n",
    "\n",
    "show(p)"
   ]
  },
  {
   "cell_type": "code",
   "execution_count": null,
   "metadata": {
    "collapsed": true
   },
   "outputs": [],
   "source": []
  }
 ],
 "metadata": {
  "anaconda-cloud": {},
  "kernelspec": {
   "display_name": "Python [Root]",
   "language": "python",
   "name": "Python [Root]"
  },
  "language_info": {
   "codemirror_mode": {
    "name": "ipython",
    "version": 3
   },
   "file_extension": ".py",
   "mimetype": "text/x-python",
   "name": "python",
   "nbconvert_exporter": "python",
   "pygments_lexer": "ipython3",
   "version": "3.5.2"
  }
 },
 "nbformat": 4,
 "nbformat_minor": 2
}
