{
 "cells": [
  {
   "cell_type": "code",
   "execution_count": 54,
   "metadata": {
    "collapsed": false
   },
   "outputs": [
    {
     "data": {
      "text/html": [
       "<script>\n",
       "code_show=true; \n",
       "function code_toggle() {\n",
       " if (code_show){\n",
       " $('div.input').hide();\n",
       " } else {\n",
       " $('div.input').show();\n",
       " }\n",
       " code_show = !code_show\n",
       "} \n",
       "$( document ).ready(code_toggle);\n",
       "</script>\n",
       "<form action=\"javascript:code_toggle()\"><input type=\"submit\" value=\"Click aquí para ver el código.\"></form>"
      ],
      "text/plain": [
       "<IPython.core.display.HTML object>"
      ]
     },
     "execution_count": 54,
     "metadata": {},
     "output_type": "execute_result"
    }
   ],
   "source": [
    "from IPython.display import HTML\n",
    "\n",
    "HTML('''<script>\n",
    "code_show=true; \n",
    "function code_toggle() {\n",
    " if (code_show){\n",
    " $('div.input').hide();\n",
    " } else {\n",
    " $('div.input').show();\n",
    " }\n",
    " code_show = !code_show\n",
    "} \n",
    "$( document ).ready(code_toggle);\n",
    "</script>\n",
    "<form action=\"javascript:code_toggle()\"><input type=\"submit\" value=\"Click aquí para ver el código.\"></form>''')"
   ]
  },
  {
   "cell_type": "code",
   "execution_count": 55,
   "metadata": {
    "collapsed": false
   },
   "outputs": [
    {
     "data": {
      "text/html": [
       "<p align=\"center\"> <font size=\"6\" color=\"#0404B4\" face=\"sans-serif\"> <b> Método de las Tasas Medias Anuales Decrecientes <b> </font> </p>"
      ],
      "text/plain": [
       "<IPython.core.display.HTML object>"
      ]
     },
     "execution_count": 55,
     "metadata": {},
     "output_type": "execute_result"
    }
   ],
   "source": [
    "HTML(\"\"\"<p align=\"center\"> <font size=\"6\" color=\"#0404B4\" face=\"sans-serif\"> <b> Método de las Tasas Medias Anuales Decrecientes <b> </font> </p>\"\"\")"
   ]
  },
  {
   "cell_type": "markdown",
   "metadata": {},
   "source": [
    "# # Entrada de valores de los tres últimos censos"
   ]
  },
  {
   "cell_type": "code",
   "execution_count": 56,
   "metadata": {
    "collapsed": true
   },
   "outputs": [],
   "source": [
    "censos = [1991,2001,2010]\n",
    "\n",
    "poblacion0 = [125725,137061,177083] # Comodoro Rivadavia\n",
    "poblacion1 = [79340,89547,99430] # Trelew\n",
    "poblacion2 = [45047,57791,81995] # Puerto Madryn\n",
    "poblacion3 = [23411,28486,32758] # Esquel\n",
    "poblacion4 = [7209,8292,11124] # Sarmiento\n",
    "poblacion5 = [20674,26183,31787] # Rawson\n",
    "poblacion6 = [2613,2929,3307] # Dolavon\n",
    "poblacion7 = [4642,5753,6627] # Gaiman\n",
    "poblacion8 = [1913,2185,2374] # Gobernador Costa\n",
    "poblacion9 = [1527,1981,2228] # Cholila\n",
    "poblacion10 = [868,1079,1296] # Camarones\n",
    "poblacion11 = [864,1087,1264] # Paso de Indios\n",
    "poblacion12 = [322,384,396] # Paso del sapo\n",
    "poblaciones = [poblacion0, poblacion1, poblacion2, poblacion3, poblacion4, poblacion5, poblacion6, poblacion7, poblacion8, poblacion9, poblacion10, poblacion11, poblacion12]\n",
    "\n",
    "año_actual= 2017"
   ]
  },
  {
   "cell_type": "markdown",
   "metadata": {},
   "source": [
    "# # Armamos una lista de \"tiempos\""
   ]
  },
  {
   "cell_type": "code",
   "execution_count": 57,
   "metadata": {
    "collapsed": true
   },
   "outputs": [],
   "source": [
    "tiempo = [0] * 7\n",
    "for i in range(len(censos)):\n",
    "    tiempo[i] = censos[i]\n",
    "\n",
    "tiempo[3]=año_actual\n",
    "tiempo[4]=tiempo[3]+2\n",
    "tiempo[5]=tiempo[4]+10\n",
    "tiempo[6]=tiempo[5]+10"
   ]
  },
  {
   "cell_type": "markdown",
   "metadata": {},
   "source": [
    "# # Resolvemos el método devolviendo una lista de \"datos\""
   ]
  },
  {
   "cell_type": "code",
   "execution_count": 58,
   "metadata": {
    "collapsed": false
   },
   "outputs": [],
   "source": [
    "def metodo_tasas_medias_anuales_decrecientes(poblacion, tiempo):\n",
    "\n",
    "    datos = [0] * 7\n",
    "    for i in range(len(poblacion)):\n",
    "        datos[i] = poblacion[i]\n",
    "\n",
    "\n",
    "    iI=((datos[1]/datos[0])**(1/(tiempo[1]-tiempo[0])))-1\n",
    "    iII=((datos[2]/datos[1])**(1/(tiempo[2]-tiempo[1])))-1\n",
    "\n",
    "\n",
    "    i1=iII\n",
    "    i1=round(i1, 4)\n",
    "\n",
    "\n",
    "    Pa=datos[2]*(1+i1)**(tiempo[3]-tiempo[2])\n",
    "    Pa=round(Pa,0)\n",
    "    Pa=int(Pa)\n",
    "\n",
    "\n",
    "    P0=Pa*(1+i1)**(tiempo[4]-tiempo[3])\n",
    "    P0=round(P0,0)\n",
    "    P0=int(P0)\n",
    "\n",
    "\n",
    "    P10=P0*(1+i1)**(tiempo[5]-tiempo[4])\n",
    "    P10=round(P10,0)\n",
    "    P10=int(P10)\n",
    "\n",
    "\n",
    "    i2=(iI+iII)/2\n",
    "    i2=round(i2,4)\n",
    "\n",
    "\n",
    "    if (i2<=i1):\n",
    "        i2=i2\n",
    "    else:\n",
    "        i2=i1\n",
    "\n",
    "    P20=P10*(1+i2)**(tiempo[6]-tiempo[5])\n",
    "    P20=round(P20,0)\n",
    "    P20=int(P20)\n",
    "\n",
    "\n",
    "    datos[3]=Pa\n",
    "    datos[4]=P0\n",
    "    datos[5]=P10\n",
    "    datos[6]=P20\n",
    "\n",
    "    return datos"
   ]
  },
  {
   "cell_type": "markdown",
   "metadata": {},
   "source": [
    "# # Mostramos las listas de \"tiempo\" y \"proyecciones\" para cada \"poblacion\""
   ]
  },
  {
   "cell_type": "code",
   "execution_count": 59,
   "metadata": {
    "collapsed": false,
    "scrolled": true
   },
   "outputs": [],
   "source": [
    "proyecciones = [0] * len(poblaciones)\n",
    "\n",
    "for i in range(len(poblaciones)):\n",
    "    proyecciones[i] = metodo_tasas_medias_anuales_decrecientes(poblaciones[i], tiempo)\n",
    "    #print (proyecciones[i])\n"
   ]
  },
  {
   "cell_type": "markdown",
   "metadata": {},
   "source": [
    "# # Armamos una tabla para mostrar los resultados"
   ]
  },
  {
   "cell_type": "code",
   "execution_count": 60,
   "metadata": {
    "collapsed": false
   },
   "outputs": [],
   "source": [
    "tabla = proyecciones\n",
    "tabla.reverse()\n",
    "tabla.append(tiempo)\n",
    "tabla.reverse()\n"
   ]
  },
  {
   "cell_type": "code",
   "execution_count": 61,
   "metadata": {
    "collapsed": true
   },
   "outputs": [],
   "source": [
    "ciudades=[\"Ciudades\",\"Comodoro Rivadavia\",\"Trelew\",\"Puerto Madryn\",\"Esquel\",\"Sarmiento\",\"Rawson\",\"Dolavon\",\"Gaiman\",\"Gobernador Costa\",\"Cholila\",\"Camarones\",\"Paso de Indios\",\"Paso del Sapo\"]"
   ]
  },
  {
   "cell_type": "code",
   "execution_count": 62,
   "metadata": {
    "collapsed": false
   },
   "outputs": [],
   "source": [
    "for i in range(len(ciudades)):\n",
    "    tabla[i].insert(0, ciudades[i])"
   ]
  },
  {
   "cell_type": "code",
   "execution_count": 63,
   "metadata": {
    "collapsed": false
   },
   "outputs": [
    {
     "data": {
      "text/html": [
       "<table><tr><td>Ciudades</td><td>1991</td><td>2001</td><td>2010</td><td>2017</td><td>2019</td><td>2029</td><td>2039</td></tr><tr><td>Comodoro Rivadavia</td><td>125725</td><td>137061</td><td>177083</td><td>216167</td><td>228842</td><td>304276</td><td>366570</td></tr><tr><td>Trelew</td><td>79340</td><td>89547</td><td>99430</td><td>107865</td><td>110404</td><td>124023</td><td>139322</td></tr><tr><td>Puerto Madryn</td><td>45047</td><td>57791</td><td>81995</td><td>107610</td><td>116301</td><td>171493</td><td>235899</td></tr><tr><td>Esquel</td><td>23411</td><td>28486</td><td>32758</td><td>36507</td><td>37655</td><td>43959</td><td>51319</td></tr><tr><td>Sarmiento</td><td>7209</td><td>8292</td><td>11124</td><td>13981</td><td>14925</td><td>20690</td><td>26125</td></tr><tr><td>Rawson</td><td>20674</td><td>26183</td><td>31787</td><td>36967</td><td>38596</td><td>47885</td><td>59410</td></tr><tr><td>Dolavon</td><td>2613</td><td>2929</td><td>3307</td><td>3635</td><td>3735</td><td>4275</td><td>4840</td></tr><tr><td>Gaiman</td><td>4642</td><td>5753</td><td>6627</td><td>7396</td><td>7632</td><td>8927</td><td>10442</td></tr><tr><td>Gobernador Costa</td><td>1913</td><td>2185</td><td>2374</td><td>2533</td><td>2580</td><td>2830</td><td>3104</td></tr><tr><td>Cholila</td><td>1527</td><td>1981</td><td>2228</td><td>2441</td><td>2505</td><td>2853</td><td>3250</td></tr><tr><td>Camarones</td><td>868</td><td>1079</td><td>1296</td><td>1495</td><td>1557</td><td>1909</td><td>2341</td></tr><tr><td>Paso de Indios</td><td>864</td><td>1087</td><td>1264</td><td>1421</td><td>1469</td><td>1737</td><td>2054</td></tr><tr><td>Paso del Sapo</td><td>322</td><td>384</td><td>396</td><td>406</td><td>409</td><td>423</td><td>438</td></tr></table>"
      ],
      "text/plain": [
       "<IPython.core.display.HTML object>"
      ]
     },
     "metadata": {},
     "output_type": "display_data"
    }
   ],
   "source": [
    "from IPython.display import HTML, display\n",
    "\n",
    "display(HTML(\n",
    "    '<table><tr>{}</tr></table>'.format(\n",
    "        '</tr><tr>'.join(\n",
    "            '<td>{}</td>'.format('</td><td>'.join(str(_) for _ in row)) for row in tabla)\n",
    "        )\n",
    " ))"
   ]
  },
  {
   "cell_type": "markdown",
   "metadata": {},
   "source": [
    "# # Importamos librerias para graficar"
   ]
  },
  {
   "cell_type": "code",
   "execution_count": 64,
   "metadata": {
    "collapsed": false
   },
   "outputs": [
    {
     "data": {
      "text/html": [
       "\n",
       "    <div class=\"bk-root\">\n",
       "        <a href=\"http://bokeh.pydata.org\" target=\"_blank\" class=\"bk-logo bk-logo-small bk-logo-notebook\"></a>\n",
       "        <span id=\"8ffa1323-954b-49ce-aa57-26b7d30932d0\">Loading BokehJS ...</span>\n",
       "    </div>"
      ]
     },
     "metadata": {},
     "output_type": "display_data"
    },
    {
     "data": {
      "application/javascript": [
       "\n",
       "(function(global) {\n",
       "  function now() {\n",
       "    return new Date();\n",
       "  }\n",
       "\n",
       "  if (typeof (window._bokeh_onload_callbacks) === \"undefined\") {\n",
       "    window._bokeh_onload_callbacks = [];\n",
       "  }\n",
       "\n",
       "  function run_callbacks() {\n",
       "    window._bokeh_onload_callbacks.forEach(function(callback) { callback() });\n",
       "    delete window._bokeh_onload_callbacks\n",
       "    console.info(\"Bokeh: all callbacks have finished\");\n",
       "  }\n",
       "\n",
       "  function load_libs(js_urls, callback) {\n",
       "    window._bokeh_onload_callbacks.push(callback);\n",
       "    if (window._bokeh_is_loading > 0) {\n",
       "      console.log(\"Bokeh: BokehJS is being loaded, scheduling callback at\", now());\n",
       "      return null;\n",
       "    }\n",
       "    if (js_urls == null || js_urls.length === 0) {\n",
       "      run_callbacks();\n",
       "      return null;\n",
       "    }\n",
       "    console.log(\"Bokeh: BokehJS not loaded, scheduling load and callback at\", now());\n",
       "    window._bokeh_is_loading = js_urls.length;\n",
       "    for (var i = 0; i < js_urls.length; i++) {\n",
       "      var url = js_urls[i];\n",
       "      var s = document.createElement('script');\n",
       "      s.src = url;\n",
       "      s.async = false;\n",
       "      s.onreadystatechange = s.onload = function() {\n",
       "        window._bokeh_is_loading--;\n",
       "        if (window._bokeh_is_loading === 0) {\n",
       "          console.log(\"Bokeh: all BokehJS libraries loaded\");\n",
       "          run_callbacks()\n",
       "        }\n",
       "      };\n",
       "      s.onerror = function() {\n",
       "        console.warn(\"failed to load library \" + url);\n",
       "      };\n",
       "      console.log(\"Bokeh: injecting script tag for BokehJS library: \", url);\n",
       "      document.getElementsByTagName(\"head\")[0].appendChild(s);\n",
       "    }\n",
       "  };\n",
       "\n",
       "  var js_urls = ['https://cdn.pydata.org/bokeh/release/bokeh-0.12.0.min.js', 'https://cdn.pydata.org/bokeh/release/bokeh-widgets-0.12.0.min.js', 'https://cdn.pydata.org/bokeh/release/bokeh-compiler-0.12.0.min.js'];\n",
       "\n",
       "  var inline_js = [\n",
       "    function(Bokeh) {\n",
       "      Bokeh.set_log_level(\"info\");\n",
       "    },\n",
       "    \n",
       "    function(Bokeh) {\n",
       "      Bokeh.$(\"#8ffa1323-954b-49ce-aa57-26b7d30932d0\").text(\"BokehJS successfully loaded\");\n",
       "    },\n",
       "    function(Bokeh) {\n",
       "      console.log(\"Bokeh: injecting CSS: https://cdn.pydata.org/bokeh/release/bokeh-0.12.0.min.css\");\n",
       "      Bokeh.embed.inject_css(\"https://cdn.pydata.org/bokeh/release/bokeh-0.12.0.min.css\");\n",
       "      console.log(\"Bokeh: injecting CSS: https://cdn.pydata.org/bokeh/release/bokeh-widgets-0.12.0.min.css\");\n",
       "      Bokeh.embed.inject_css(\"https://cdn.pydata.org/bokeh/release/bokeh-widgets-0.12.0.min.css\");\n",
       "    }\n",
       "  ];\n",
       "\n",
       "  function run_inline_js() {\n",
       "    for (var i = 0; i < inline_js.length; i++) {\n",
       "      inline_js[i](window.Bokeh);\n",
       "    }\n",
       "  }\n",
       "\n",
       "  if (window._bokeh_is_loading === 0) {\n",
       "    console.log(\"Bokeh: BokehJS loaded, going straight to plotting\");\n",
       "    run_inline_js();\n",
       "  } else {\n",
       "    load_libs(js_urls, function() {\n",
       "      console.log(\"Bokeh: BokehJS plotting callback run at\", now());\n",
       "      run_inline_js();\n",
       "    });\n",
       "  }\n",
       "}(this));"
      ]
     },
     "metadata": {},
     "output_type": "display_data"
    }
   ],
   "source": [
    "from bokeh.io import push_notebook, show, output_notebook\n",
    "from bokeh.plotting import figure\n",
    "output_notebook()"
   ]
  },
  {
   "cell_type": "markdown",
   "metadata": {},
   "source": [
    "# # Definimos estilos para usar en los gráficos"
   ]
  },
  {
   "cell_type": "code",
   "execution_count": 65,
   "metadata": {
    "collapsed": false
   },
   "outputs": [
    {
     "data": {
      "text/html": [
       "\n",
       "\n",
       "    <div class=\"bk-root\">\n",
       "        <div class=\"plotdiv\" id=\"0e840431-495a-4cca-8d1f-5ef84eb95f75\"></div>\n",
       "    </div>\n",
       "<script type=\"text/javascript\">\n",
       "  \n",
       "  (function(global) {\n",
       "    function now() {\n",
       "      return new Date();\n",
       "    }\n",
       "  \n",
       "    if (typeof (window._bokeh_onload_callbacks) === \"undefined\") {\n",
       "      window._bokeh_onload_callbacks = [];\n",
       "    }\n",
       "  \n",
       "    function run_callbacks() {\n",
       "      window._bokeh_onload_callbacks.forEach(function(callback) { callback() });\n",
       "      delete window._bokeh_onload_callbacks\n",
       "      console.info(\"Bokeh: all callbacks have finished\");\n",
       "    }\n",
       "  \n",
       "    function load_libs(js_urls, callback) {\n",
       "      window._bokeh_onload_callbacks.push(callback);\n",
       "      if (window._bokeh_is_loading > 0) {\n",
       "        console.log(\"Bokeh: BokehJS is being loaded, scheduling callback at\", now());\n",
       "        return null;\n",
       "      }\n",
       "      if (js_urls == null || js_urls.length === 0) {\n",
       "        run_callbacks();\n",
       "        return null;\n",
       "      }\n",
       "      console.log(\"Bokeh: BokehJS not loaded, scheduling load and callback at\", now());\n",
       "      window._bokeh_is_loading = js_urls.length;\n",
       "      for (var i = 0; i < js_urls.length; i++) {\n",
       "        var url = js_urls[i];\n",
       "        var s = document.createElement('script');\n",
       "        s.src = url;\n",
       "        s.async = false;\n",
       "        s.onreadystatechange = s.onload = function() {\n",
       "          window._bokeh_is_loading--;\n",
       "          if (window._bokeh_is_loading === 0) {\n",
       "            console.log(\"Bokeh: all BokehJS libraries loaded\");\n",
       "            run_callbacks()\n",
       "          }\n",
       "        };\n",
       "        s.onerror = function() {\n",
       "          console.warn(\"failed to load library \" + url);\n",
       "        };\n",
       "        console.log(\"Bokeh: injecting script tag for BokehJS library: \", url);\n",
       "        document.getElementsByTagName(\"head\")[0].appendChild(s);\n",
       "      }\n",
       "    };var element = document.getElementById(\"0e840431-495a-4cca-8d1f-5ef84eb95f75\");\n",
       "    if (element == null) {\n",
       "      console.log(\"Bokeh: ERROR: autoload.js configured with elementid '0e840431-495a-4cca-8d1f-5ef84eb95f75' but no matching script tag was found. \")\n",
       "      return false;\n",
       "    }\n",
       "  \n",
       "    var js_urls = [];\n",
       "  \n",
       "    var inline_js = [\n",
       "      function(Bokeh) {\n",
       "        Bokeh.$(function() {\n",
       "            var docs_json = {\"8ca71355-cce2-44e7-9cfc-904caa060218\":{\"roots\":{\"references\":[{\"attributes\":{\"callback\":null,\"column_names\":[\"x\",\"y\"],\"data\":{\"x\":[\"Ciudades\",\"1991\",\"2001\",\"2010\",\"2017\",\"2019\",\"2029\",\"2039\"],\"y\":[\"Paso de Indios\",\"864\",\"1087\",\"1264\",\"1421\",\"1469\",\"1737\",\"2054\"]}},\"id\":\"7748fb88-c11f-4e13-8e6c-512f79889048\",\"type\":\"ColumnDataSource\"},{\"attributes\":{\"callback\":null,\"column_names\":[\"x\",\"y\"],\"data\":{\"x\":[\"Ciudades\",\"1991\",\"2001\",\"2010\",\"2017\",\"2019\",\"2029\",\"2039\"],\"y\":[\"Gaiman\",\"4642\",\"5753\",\"6627\",\"7396\",\"7632\",\"8927\",\"10442\"]}},\"id\":\"4ebb2184-ca4c-44c6-b57a-c1669dc896d1\",\"type\":\"ColumnDataSource\"},{\"attributes\":{\"fill_color\":{\"value\":\"green\"},\"line_color\":{\"value\":\"green\"},\"x\":{\"field\":\"x\"},\"y\":{\"field\":\"y\"}},\"id\":\"0538599b-1798-4323-aca4-e3c410a3e88a\",\"type\":\"Circle\"},{\"attributes\":{\"callback\":null,\"column_names\":[\"x\",\"y\"],\"data\":{\"x\":[\"Ciudades\",\"1991\",\"2001\",\"2010\",\"2017\",\"2019\",\"2029\",\"2039\"],\"y\":[\"Cholila\",\"1527\",\"1981\",\"2228\",\"2441\",\"2505\",\"2853\",\"3250\"]}},\"id\":\"1687fbcb-9b30-4348-8e4c-057daf113b38\",\"type\":\"ColumnDataSource\"},{\"attributes\":{\"line_alpha\":{\"value\":0.1},\"line_color\":{\"value\":\"#1f77b4\"},\"line_width\":{\"value\":2},\"x\":{\"field\":\"x\"},\"y\":{\"field\":\"y\"}},\"id\":\"ead9c0e7-9fc2-4ca9-beb8-b36aab9814ee\",\"type\":\"Line\"},{\"attributes\":{\"data_source\":{\"id\":\"4619d2aa-2c24-4aa1-8334-1b1b4e2f2ab0\",\"type\":\"ColumnDataSource\"},\"glyph\":{\"id\":\"f09a6535-1114-4072-a64e-36fad653ccd0\",\"type\":\"Circle\"},\"hover_glyph\":null,\"nonselection_glyph\":{\"id\":\"3c0de697-c858-4d5a-8118-6d7a4320f3f8\",\"type\":\"Circle\"},\"selection_glyph\":null},\"id\":\"eba93761-5c08-4715-b52d-a9a1793e5f1b\",\"type\":\"GlyphRenderer\"},{\"attributes\":{\"line_alpha\":{\"value\":0.1},\"line_color\":{\"value\":\"#1f77b4\"},\"line_width\":{\"value\":2},\"x\":{\"field\":\"x\"},\"y\":{\"field\":\"y\"}},\"id\":\"c2469fe1-a52b-42aa-bc57-7a1258c981d2\",\"type\":\"Line\"},{\"attributes\":{\"plot\":{\"id\":\"88cadaa5-54fd-4658-bfe0-318070df695d\",\"subtype\":\"Figure\",\"type\":\"Plot\"}},\"id\":\"27710f1a-3cd2-475d-b989-cebc7e547a2c\",\"type\":\"WheelZoomTool\"},{\"attributes\":{\"line_alpha\":{\"value\":0.1},\"line_color\":{\"value\":\"#1f77b4\"},\"line_width\":{\"value\":2},\"x\":{\"field\":\"x\"},\"y\":{\"field\":\"y\"}},\"id\":\"6144e249-9c20-4976-bd07-aca716ed2021\",\"type\":\"Line\"},{\"attributes\":{\"axis_label\":\"Tiempo\",\"formatter\":{\"id\":\"43cc1e47-3ed2-4a0d-99c2-54f9bc4522fc\",\"type\":\"BasicTickFormatter\"},\"plot\":{\"id\":\"88cadaa5-54fd-4658-bfe0-318070df695d\",\"subtype\":\"Figure\",\"type\":\"Plot\"},\"ticker\":{\"id\":\"87361a67-5e3a-47c2-96a8-7992ecffa12f\",\"type\":\"BasicTicker\"}},\"id\":\"15720e53-35b8-4434-bc01-d209fe3fe33d\",\"type\":\"LinearAxis\"},{\"attributes\":{\"callback\":null,\"column_names\":[\"x\",\"y\"],\"data\":{\"x\":[\"Ciudades\",\"1991\",\"2001\",\"2010\",\"2017\",\"2019\",\"2029\",\"2039\"],\"y\":[\"Puerto Madryn\",\"45047\",\"57791\",\"81995\",\"107610\",\"116301\",\"171493\",\"235899\"]}},\"id\":\"20a20bec-ebb4-4bcd-88eb-cc385065f67f\",\"type\":\"ColumnDataSource\"},{\"attributes\":{\"plot\":{\"id\":\"88cadaa5-54fd-4658-bfe0-318070df695d\",\"subtype\":\"Figure\",\"type\":\"Plot\"}},\"id\":\"1754a407-36e8-40ac-9d62-f25ed09ee36e\",\"type\":\"PanTool\"},{\"attributes\":{},\"id\":\"08031928-57a9-4a1a-8483-67e6c37d72c0\",\"type\":\"ToolEvents\"},{\"attributes\":{\"fill_alpha\":{\"value\":0.1},\"fill_color\":{\"value\":\"#1f77b4\"},\"line_alpha\":{\"value\":0.1},\"line_color\":{\"value\":\"#1f77b4\"},\"x\":{\"field\":\"x\"},\"y\":{\"field\":\"y\"}},\"id\":\"c0990818-5a7e-4cc2-baa1-d834e69e2857\",\"type\":\"Circle\"},{\"attributes\":{\"line_alpha\":{\"value\":0.1},\"line_color\":{\"value\":\"#1f77b4\"},\"line_width\":{\"value\":2},\"x\":{\"field\":\"x\"},\"y\":{\"field\":\"y\"}},\"id\":\"fd4e5351-ab03-4a4d-9a06-00ad1c9db743\",\"type\":\"Line\"},{\"attributes\":{\"callback\":null,\"column_names\":[\"x\",\"y\"],\"data\":{\"x\":[\"Ciudades\",\"1991\",\"2001\",\"2010\",\"2017\",\"2019\",\"2029\",\"2039\"],\"y\":[\"Puerto Madryn\",\"45047\",\"57791\",\"81995\",\"107610\",\"116301\",\"171493\",\"235899\"]}},\"id\":\"d16aa96f-2ab2-4e0c-955b-c85ef63ef7d0\",\"type\":\"ColumnDataSource\"},{\"attributes\":{\"fill_alpha\":{\"value\":0.1},\"fill_color\":{\"value\":\"#1f77b4\"},\"line_alpha\":{\"value\":0.1},\"line_color\":{\"value\":\"#1f77b4\"},\"x\":{\"field\":\"x\"},\"y\":{\"field\":\"y\"}},\"id\":\"696cba48-18b2-4165-a124-296fc042216f\",\"type\":\"Circle\"},{\"attributes\":{\"bottom_units\":\"screen\",\"fill_alpha\":{\"value\":0.5},\"fill_color\":{\"value\":\"lightgrey\"},\"left_units\":\"screen\",\"level\":\"overlay\",\"line_alpha\":{\"value\":1.0},\"line_color\":{\"value\":\"black\"},\"line_dash\":[4,4],\"line_width\":{\"value\":2},\"plot\":null,\"render_mode\":\"css\",\"right_units\":\"screen\",\"top_units\":\"screen\"},\"id\":\"de91330d-a71a-4f27-92f6-e6829cf1c18f\",\"type\":\"BoxAnnotation\"},{\"attributes\":{\"line_alpha\":{\"value\":0.1},\"line_color\":{\"value\":\"#1f77b4\"},\"line_width\":{\"value\":2},\"x\":{\"field\":\"x\"},\"y\":{\"field\":\"y\"}},\"id\":\"88cf7de5-b736-4256-b641-20706d455d44\",\"type\":\"Line\"},{\"attributes\":{\"line_color\":{\"value\":\"magenta\"},\"line_width\":{\"value\":2},\"x\":{\"field\":\"x\"},\"y\":{\"field\":\"y\"}},\"id\":\"8a8537db-5cbc-430e-936b-ee7b86e9fe89\",\"type\":\"Line\"},{\"attributes\":{\"fill_color\":{\"value\":\"magenta\"},\"line_color\":{\"value\":\"magenta\"},\"x\":{\"field\":\"x\"},\"y\":{\"field\":\"y\"}},\"id\":\"ff4132e5-9f5f-450a-bd01-75cb7f622587\",\"type\":\"Circle\"},{\"attributes\":{\"line_color\":{\"value\":\"blue\"},\"line_width\":{\"value\":2},\"x\":{\"field\":\"x\"},\"y\":{\"field\":\"y\"}},\"id\":\"626001b8-494a-4d8d-9a20-47fae53ad5cd\",\"type\":\"Line\"},{\"attributes\":{\"fill_color\":{\"value\":\"yellow\"},\"line_color\":{\"value\":\"yellow\"},\"x\":{\"field\":\"x\"},\"y\":{\"field\":\"y\"}},\"id\":\"a85e6e79-3d2a-4898-ba4a-a5ab289ee9c2\",\"type\":\"Circle\"},{\"attributes\":{\"fill_color\":{\"value\":\"#7c1b65\"},\"line_color\":{\"value\":\"#7c1b65\"},\"x\":{\"field\":\"x\"},\"y\":{\"field\":\"y\"}},\"id\":\"c731f137-7540-40b1-ab14-86bb87a57616\",\"type\":\"Circle\"},{\"attributes\":{\"data_source\":{\"id\":\"c8b95244-9d4d-464a-8f16-622ae816a4ab\",\"type\":\"ColumnDataSource\"},\"glyph\":{\"id\":\"73d847d8-2b1d-4ae3-a9d7-ae630db45afd\",\"type\":\"Circle\"},\"hover_glyph\":null,\"nonselection_glyph\":{\"id\":\"c600c986-5e79-4b92-ac6d-eafe647df27f\",\"type\":\"Circle\"},\"selection_glyph\":null},\"id\":\"92c95990-109c-4a5d-95b5-15992d84f334\",\"type\":\"GlyphRenderer\"},{\"attributes\":{\"use_scientific\":false},\"id\":\"8445857d-b849-4263-a5d5-bf6d8cce3f37\",\"type\":\"BasicTickFormatter\"},{\"attributes\":{\"overlay\":{\"id\":\"de91330d-a71a-4f27-92f6-e6829cf1c18f\",\"type\":\"BoxAnnotation\"},\"plot\":{\"id\":\"88cadaa5-54fd-4658-bfe0-318070df695d\",\"subtype\":\"Figure\",\"type\":\"Plot\"}},\"id\":\"21f13f60-4ade-490c-b368-31575ad35fcb\",\"type\":\"BoxZoomTool\"},{\"attributes\":{\"line_alpha\":{\"value\":0.1},\"line_color\":{\"value\":\"#1f77b4\"},\"line_width\":{\"value\":2},\"x\":{\"field\":\"x\"},\"y\":{\"field\":\"y\"}},\"id\":\"dc41c010-61e4-45ba-82f8-cf505a29a9da\",\"type\":\"Line\"},{\"attributes\":{\"data_source\":{\"id\":\"6dde0aa9-836e-41b4-b3f7-bab00d95f678\",\"type\":\"ColumnDataSource\"},\"glyph\":{\"id\":\"db336348-0e84-4497-8039-7014f3548066\",\"type\":\"Circle\"},\"hover_glyph\":null,\"nonselection_glyph\":{\"id\":\"3a060d0a-9314-4534-b338-58f913dd14dd\",\"type\":\"Circle\"},\"selection_glyph\":null},\"id\":\"896676df-10e0-443a-8782-fd9da47be8fa\",\"type\":\"GlyphRenderer\"},{\"attributes\":{\"data_source\":{\"id\":\"d16aa96f-2ab2-4e0c-955b-c85ef63ef7d0\",\"type\":\"ColumnDataSource\"},\"glyph\":{\"id\":\"55d4a230-d7e8-456f-94eb-c9d012f45268\",\"type\":\"Line\"},\"hover_glyph\":null,\"nonselection_glyph\":{\"id\":\"6144e249-9c20-4976-bd07-aca716ed2021\",\"type\":\"Line\"},\"selection_glyph\":null},\"id\":\"fb57d4f4-6b67-4b31-8865-19684bab966e\",\"type\":\"GlyphRenderer\"},{\"attributes\":{\"data_source\":{\"id\":\"6d168e61-9e60-4374-8054-64cae98284cd\",\"type\":\"ColumnDataSource\"},\"glyph\":{\"id\":\"0fa59f70-a8e6-4b2b-a276-c3c421f63a9a\",\"type\":\"Line\"},\"hover_glyph\":null,\"nonselection_glyph\":{\"id\":\"16e8eb29-8b29-45cc-9b58-8cbc38cd96c5\",\"type\":\"Line\"},\"selection_glyph\":null},\"id\":\"e3bf3b87-e822-4a81-a0d6-17aa003a8371\",\"type\":\"GlyphRenderer\"},{\"attributes\":{\"data_source\":{\"id\":\"7748fb88-c11f-4e13-8e6c-512f79889048\",\"type\":\"ColumnDataSource\"},\"glyph\":{\"id\":\"c731f137-7540-40b1-ab14-86bb87a57616\",\"type\":\"Circle\"},\"hover_glyph\":null,\"nonselection_glyph\":{\"id\":\"c0990818-5a7e-4cc2-baa1-d834e69e2857\",\"type\":\"Circle\"},\"selection_glyph\":null},\"id\":\"e7c157ed-3b35-48e9-ad8e-6704d8e70c1f\",\"type\":\"GlyphRenderer\"},{\"attributes\":{\"line_color\":{\"value\":\"olive\"},\"line_width\":{\"value\":2},\"x\":{\"field\":\"x\"},\"y\":{\"field\":\"y\"}},\"id\":\"77e6ed0e-d3a0-4096-9387-da00800d7b05\",\"type\":\"Line\"},{\"attributes\":{\"line_color\":{\"value\":\"cyan\"},\"line_width\":{\"value\":2},\"x\":{\"field\":\"x\"},\"y\":{\"field\":\"y\"}},\"id\":\"14b844cf-6ebb-4def-810c-1be96a77a43a\",\"type\":\"Line\"},{\"attributes\":{\"data_source\":{\"id\":\"168ea9a8-b360-438f-b450-bddc7ca79904\",\"type\":\"ColumnDataSource\"},\"glyph\":{\"id\":\"816fd262-27cb-40d7-8ea4-00b215fe3b80\",\"type\":\"Circle\"},\"hover_glyph\":null,\"nonselection_glyph\":{\"id\":\"745c3e59-5cb6-4e2d-ab75-1bb6b7a7978f\",\"type\":\"Circle\"},\"selection_glyph\":null},\"id\":\"6eecd759-cd70-41c7-9c54-7a97a6241b81\",\"type\":\"GlyphRenderer\"},{\"attributes\":{\"data_source\":{\"id\":\"67ab3f05-95ab-4c7c-8391-8826c698d656\",\"type\":\"ColumnDataSource\"},\"glyph\":{\"id\":\"b7402fdb-b2a1-4afd-875c-af8265019e00\",\"type\":\"Line\"},\"hover_glyph\":null,\"nonselection_glyph\":{\"id\":\"4ee7ccbf-bc92-4fe8-a10c-bdb28ce3acf5\",\"type\":\"Line\"},\"selection_glyph\":null},\"id\":\"dbc78b20-0c58-4c0b-989b-c7dbe9baf377\",\"type\":\"GlyphRenderer\"},{\"attributes\":{\"fill_color\":{\"value\":\"red\"},\"line_color\":{\"value\":\"red\"},\"x\":{\"field\":\"x\"},\"y\":{\"field\":\"y\"}},\"id\":\"28787b7e-605b-4350-8aae-9984c42a5ec1\",\"type\":\"Circle\"},{\"attributes\":{\"line_alpha\":{\"value\":0.1},\"line_color\":{\"value\":\"#1f77b4\"},\"line_width\":{\"value\":2},\"x\":{\"field\":\"x\"},\"y\":{\"field\":\"y\"}},\"id\":\"4ee7ccbf-bc92-4fe8-a10c-bdb28ce3acf5\",\"type\":\"Line\"},{\"attributes\":{\"fill_alpha\":{\"value\":0.1},\"fill_color\":{\"value\":\"#1f77b4\"},\"line_alpha\":{\"value\":0.1},\"line_color\":{\"value\":\"#1f77b4\"},\"x\":{\"field\":\"x\"},\"y\":{\"field\":\"y\"}},\"id\":\"0a0f3b40-e297-4c53-b218-90e0289ead58\",\"type\":\"Circle\"},{\"attributes\":{\"callback\":null,\"column_names\":[\"x\",\"y\"],\"data\":{\"x\":[\"Ciudades\",\"1991\",\"2001\",\"2010\",\"2017\",\"2019\",\"2029\",\"2039\"],\"y\":[\"Ciudades\",\"1991\",\"2001\",\"2010\",\"2017\",\"2019\",\"2029\",\"2039\"]}},\"id\":\"97701ae5-368c-4435-a091-e410230b7061\",\"type\":\"ColumnDataSource\"},{\"attributes\":{\"callback\":null,\"column_names\":[\"x\",\"y\"],\"data\":{\"x\":[\"Ciudades\",\"1991\",\"2001\",\"2010\",\"2017\",\"2019\",\"2029\",\"2039\"],\"y\":[\"Paso de Indios\",\"864\",\"1087\",\"1264\",\"1421\",\"1469\",\"1737\",\"2054\"]}},\"id\":\"6d168e61-9e60-4374-8054-64cae98284cd\",\"type\":\"ColumnDataSource\"},{\"attributes\":{\"callback\":null,\"column_names\":[\"x\",\"y\"],\"data\":{\"x\":[\"Ciudades\",\"1991\",\"2001\",\"2010\",\"2017\",\"2019\",\"2029\",\"2039\"],\"y\":[\"Gobernador Costa\",\"1913\",\"2185\",\"2374\",\"2533\",\"2580\",\"2830\",\"3104\"]}},\"id\":\"62882f23-e1da-441d-ba03-1583d479ca1b\",\"type\":\"ColumnDataSource\"},{\"attributes\":{\"callback\":null,\"column_names\":[\"x\",\"y\"],\"data\":{\"x\":[\"Ciudades\",\"1991\",\"2001\",\"2010\",\"2017\",\"2019\",\"2029\",\"2039\"],\"y\":[\"Ciudades\",\"1991\",\"2001\",\"2010\",\"2017\",\"2019\",\"2029\",\"2039\"]}},\"id\":\"e2717c87-96dc-4fd7-a405-2a8a0eccb490\",\"type\":\"ColumnDataSource\"},{\"attributes\":{\"line_alpha\":{\"value\":0.1},\"line_color\":{\"value\":\"#1f77b4\"},\"line_width\":{\"value\":2},\"x\":{\"field\":\"x\"},\"y\":{\"field\":\"y\"}},\"id\":\"411a3232-8b07-48cd-80b9-0b22dd76ac15\",\"type\":\"Line\"},{\"attributes\":{\"callback\":null,\"column_names\":[\"x\",\"y\"],\"data\":{\"x\":[\"Ciudades\",\"1991\",\"2001\",\"2010\",\"2017\",\"2019\",\"2029\",\"2039\"],\"y\":[\"Comodoro Rivadavia\",\"125725\",\"137061\",\"177083\",\"216167\",\"228842\",\"304276\",\"366570\"]}},\"id\":\"718f39be-8469-4c77-9ab3-d633c51aae42\",\"type\":\"ColumnDataSource\"},{\"attributes\":{\"data_source\":{\"id\":\"124ecaa2-b9c5-48ae-815b-c53b5305b4ae\",\"type\":\"ColumnDataSource\"},\"glyph\":{\"id\":\"2d5dd49c-5415-4b27-a787-4e5af8d28397\",\"type\":\"Circle\"},\"hover_glyph\":null,\"nonselection_glyph\":{\"id\":\"e8bdcee3-afae-4811-9d50-a920a765e454\",\"type\":\"Circle\"},\"selection_glyph\":null},\"id\":\"ee74ccb1-bb84-46f8-8d99-141a5996cc24\",\"type\":\"GlyphRenderer\"},{\"attributes\":{\"line_color\":{\"value\":\"yellow\"},\"line_width\":{\"value\":2},\"x\":{\"field\":\"x\"},\"y\":{\"field\":\"y\"}},\"id\":\"53c95d2a-9752-4aa0-97f0-fae672cfd9b6\",\"type\":\"Line\"},{\"attributes\":{\"line_alpha\":{\"value\":0.1},\"line_color\":{\"value\":\"#1f77b4\"},\"line_width\":{\"value\":2},\"x\":{\"field\":\"x\"},\"y\":{\"field\":\"y\"}},\"id\":\"edac1220-2eab-42e4-8ae3-5dafae39370b\",\"type\":\"Line\"},{\"attributes\":{\"dimension\":1,\"plot\":{\"id\":\"88cadaa5-54fd-4658-bfe0-318070df695d\",\"subtype\":\"Figure\",\"type\":\"Plot\"},\"ticker\":{\"id\":\"904ef424-8c16-4e0c-8a04-7735ff3c70f3\",\"type\":\"BasicTicker\"}},\"id\":\"76630a2b-b768-436f-a475-daa93e897d4e\",\"type\":\"Grid\"},{\"attributes\":{\"callback\":null,\"column_names\":[\"x\",\"y\"],\"data\":{\"x\":[\"Ciudades\",\"1991\",\"2001\",\"2010\",\"2017\",\"2019\",\"2029\",\"2039\"],\"y\":[\"Trelew\",\"79340\",\"89547\",\"99430\",\"107865\",\"110404\",\"124023\",\"139322\"]}},\"id\":\"345f1bac-d7a3-4eb7-99f8-79b64d2ff431\",\"type\":\"ColumnDataSource\"},{\"attributes\":{\"data_source\":{\"id\":\"dabc6519-701e-4446-ad7d-a4b7cc043acd\",\"type\":\"ColumnDataSource\"},\"glyph\":{\"id\":\"53c95d2a-9752-4aa0-97f0-fae672cfd9b6\",\"type\":\"Line\"},\"hover_glyph\":null,\"nonselection_glyph\":{\"id\":\"dc41c010-61e4-45ba-82f8-cf505a29a9da\",\"type\":\"Line\"},\"selection_glyph\":null},\"id\":\"0d8bf4c1-592c-41cc-a882-5f9727351000\",\"type\":\"GlyphRenderer\"},{\"attributes\":{\"fill_alpha\":{\"value\":0.1},\"fill_color\":{\"value\":\"#1f77b4\"},\"line_alpha\":{\"value\":0.1},\"line_color\":{\"value\":\"#1f77b4\"},\"x\":{\"field\":\"x\"},\"y\":{\"field\":\"y\"}},\"id\":\"3c0de697-c858-4d5a-8118-6d7a4320f3f8\",\"type\":\"Circle\"},{\"attributes\":{\"callback\":null,\"column_names\":[\"x\",\"y\"],\"data\":{\"x\":[\"Ciudades\",\"1991\",\"2001\",\"2010\",\"2017\",\"2019\",\"2029\",\"2039\"],\"y\":[\"Cholila\",\"1527\",\"1981\",\"2228\",\"2441\",\"2505\",\"2853\",\"3250\"]}},\"id\":\"51437e41-1921-4498-9105-b277affcbe58\",\"type\":\"ColumnDataSource\"},{\"attributes\":{\"line_alpha\":{\"value\":0.1},\"line_color\":{\"value\":\"#1f77b4\"},\"line_width\":{\"value\":2},\"x\":{\"field\":\"x\"},\"y\":{\"field\":\"y\"}},\"id\":\"16e8eb29-8b29-45cc-9b58-8cbc38cd96c5\",\"type\":\"Line\"},{\"attributes\":{\"active_drag\":\"auto\",\"active_scroll\":\"auto\",\"active_tap\":\"auto\",\"tools\":[{\"id\":\"1754a407-36e8-40ac-9d62-f25ed09ee36e\",\"type\":\"PanTool\"},{\"id\":\"27710f1a-3cd2-475d-b989-cebc7e547a2c\",\"type\":\"WheelZoomTool\"},{\"id\":\"21f13f60-4ade-490c-b368-31575ad35fcb\",\"type\":\"BoxZoomTool\"},{\"id\":\"401a2a9f-cb4f-4307-a039-2d420f4e6489\",\"type\":\"SaveTool\"},{\"id\":\"5f197970-9abc-481d-80f5-98d94eece320\",\"type\":\"ResetTool\"},{\"id\":\"064e7889-6222-4182-8377-a47eef8c577d\",\"type\":\"HelpTool\"}]},\"id\":\"28721ba3-9020-43b9-b96f-dc9dc400133d\",\"type\":\"Toolbar\"},{\"attributes\":{\"callback\":null,\"column_names\":[\"x\",\"y\"],\"data\":{\"x\":[\"Ciudades\",\"1991\",\"2001\",\"2010\",\"2017\",\"2019\",\"2029\",\"2039\"],\"y\":[\"Sarmiento\",\"7209\",\"8292\",\"11124\",\"13981\",\"14925\",\"20690\",\"26125\"]}},\"id\":\"6dde0aa9-836e-41b4-b3f7-bab00d95f678\",\"type\":\"ColumnDataSource\"},{\"attributes\":{\"callback\":null,\"column_names\":[\"x\",\"y\"],\"data\":{\"x\":[\"Ciudades\",\"1991\",\"2001\",\"2010\",\"2017\",\"2019\",\"2029\",\"2039\"],\"y\":[\"Rawson\",\"20674\",\"26183\",\"31787\",\"36967\",\"38596\",\"47885\",\"59410\"]}},\"id\":\"168ea9a8-b360-438f-b450-bddc7ca79904\",\"type\":\"ColumnDataSource\"},{\"attributes\":{\"data_source\":{\"id\":\"345f1bac-d7a3-4eb7-99f8-79b64d2ff431\",\"type\":\"ColumnDataSource\"},\"glyph\":{\"id\":\"626001b8-494a-4d8d-9a20-47fae53ad5cd\",\"type\":\"Line\"},\"hover_glyph\":null,\"nonselection_glyph\":{\"id\":\"427648dd-1ce7-4ae1-8a41-ae5cb86a5cd2\",\"type\":\"Line\"},\"selection_glyph\":null},\"id\":\"135a8569-f8b1-41d8-ba7f-b1f0a827c88c\",\"type\":\"GlyphRenderer\"},{\"attributes\":{\"callback\":null,\"column_names\":[\"x\",\"y\"],\"data\":{\"x\":[\"Ciudades\",\"1991\",\"2001\",\"2010\",\"2017\",\"2019\",\"2029\",\"2039\"],\"y\":[\"Esquel\",\"23411\",\"28486\",\"32758\",\"36507\",\"37655\",\"43959\",\"51319\"]}},\"id\":\"51543099-bac0-49a0-aa17-30f3bababcdf\",\"type\":\"ColumnDataSource\"},{\"attributes\":{\"fill_color\":{\"value\":\"olive\"},\"line_color\":{\"value\":\"olive\"},\"x\":{\"field\":\"x\"},\"y\":{\"field\":\"y\"}},\"id\":\"2c39a01d-7e31-46ad-9f10-58227c41d718\",\"type\":\"Circle\"},{\"attributes\":{\"axis_label\":\"Poblaci\\u00f3n\",\"formatter\":{\"id\":\"8445857d-b849-4263-a5d5-bf6d8cce3f37\",\"type\":\"BasicTickFormatter\"},\"plot\":{\"id\":\"88cadaa5-54fd-4658-bfe0-318070df695d\",\"subtype\":\"Figure\",\"type\":\"Plot\"},\"ticker\":{\"id\":\"904ef424-8c16-4e0c-8a04-7735ff3c70f3\",\"type\":\"BasicTicker\"}},\"id\":\"0fc1b8a6-3791-4cc6-95b9-f4c19e8e48d9\",\"type\":\"LinearAxis\"},{\"attributes\":{\"callback\":null,\"column_names\":[\"x\",\"y\"],\"data\":{\"x\":[\"Ciudades\",\"1991\",\"2001\",\"2010\",\"2017\",\"2019\",\"2029\",\"2039\"],\"y\":[\"Gobernador Costa\",\"1913\",\"2185\",\"2374\",\"2533\",\"2580\",\"2830\",\"3104\"]}},\"id\":\"7f6b0651-eaff-410f-8a44-e3d22e309497\",\"type\":\"ColumnDataSource\"},{\"attributes\":{\"callback\":null,\"column_names\":[\"x\",\"y\"],\"data\":{\"x\":[\"Ciudades\",\"1991\",\"2001\",\"2010\",\"2017\",\"2019\",\"2029\",\"2039\"],\"y\":[\"Comodoro Rivadavia\",\"125725\",\"137061\",\"177083\",\"216167\",\"228842\",\"304276\",\"366570\"]}},\"id\":\"6031aaa2-0550-45e9-b044-d2f48519d8a5\",\"type\":\"ColumnDataSource\"},{\"attributes\":{\"fill_color\":{\"value\":\"orange\"},\"line_color\":{\"value\":\"orange\"},\"x\":{\"field\":\"x\"},\"y\":{\"field\":\"y\"}},\"id\":\"3a1940c9-dc4d-41a8-b391-386badb059fb\",\"type\":\"Circle\"},{\"attributes\":{\"callback\":null,\"column_names\":[\"x\",\"y\"],\"data\":{\"x\":[\"Ciudades\",\"1991\",\"2001\",\"2010\",\"2017\",\"2019\",\"2029\",\"2039\"],\"y\":[\"Rawson\",\"20674\",\"26183\",\"31787\",\"36967\",\"38596\",\"47885\",\"59410\"]}},\"id\":\"32b10efe-1906-47bd-a415-170ae677fe49\",\"type\":\"ColumnDataSource\"},{\"attributes\":{\"line_color\":{\"value\":\"pink\"},\"line_width\":{\"value\":2},\"x\":{\"field\":\"x\"},\"y\":{\"field\":\"y\"}},\"id\":\"b7402fdb-b2a1-4afd-875c-af8265019e00\",\"type\":\"Line\"},{\"attributes\":{\"line_color\":{\"value\":\"navy\"},\"line_width\":{\"value\":2},\"x\":{\"field\":\"x\"},\"y\":{\"field\":\"y\"}},\"id\":\"27bbb212-6e20-4654-bf86-6e90edd88db0\",\"type\":\"Line\"},{\"attributes\":{\"callback\":null,\"column_names\":[\"x\",\"y\"],\"data\":{\"x\":[\"Ciudades\",\"1991\",\"2001\",\"2010\",\"2017\",\"2019\",\"2029\",\"2039\"],\"y\":[\"Dolavon\",\"2613\",\"2929\",\"3307\",\"3635\",\"3735\",\"4275\",\"4840\"]}},\"id\":\"c8b95244-9d4d-464a-8f16-622ae816a4ab\",\"type\":\"ColumnDataSource\"},{\"attributes\":{\"data_source\":{\"id\":\"4ebb2184-ca4c-44c6-b57a-c1669dc896d1\",\"type\":\"ColumnDataSource\"},\"glyph\":{\"id\":\"032f12a2-6ec9-435a-93e2-162bb28ff229\",\"type\":\"Circle\"},\"hover_glyph\":null,\"nonselection_glyph\":{\"id\":\"b285fff6-88ad-47b4-84b8-058b9ab529ba\",\"type\":\"Circle\"},\"selection_glyph\":null},\"id\":\"49f1e862-a514-4cfc-bae5-7320e0d2120f\",\"type\":\"GlyphRenderer\"},{\"attributes\":{\"legends\":[[\"Comodoro Rivadavia\",[{\"id\":\"ae664b8b-1981-4258-a36b-812cf4da70e2\",\"type\":\"GlyphRenderer\"},{\"id\":\"0ee22e7c-5479-4865-b182-710d56dcc242\",\"type\":\"GlyphRenderer\"}]],[\"Trelew\",[{\"id\":\"8f6305a3-0711-4120-a53f-a7fa5ed944a4\",\"type\":\"GlyphRenderer\"},{\"id\":\"10c2d678-f942-4038-a646-e2fa83b0106d\",\"type\":\"GlyphRenderer\"}]],[\"Puerto Madryn\",[{\"id\":\"eba93761-5c08-4715-b52d-a9a1793e5f1b\",\"type\":\"GlyphRenderer\"},{\"id\":\"135a8569-f8b1-41d8-ba7f-b1f0a827c88c\",\"type\":\"GlyphRenderer\"}]],[\"Esquel\",[{\"id\":\"7e5937b1-ac85-4f2a-9f4e-f46bff5cd289\",\"type\":\"GlyphRenderer\"},{\"id\":\"fb57d4f4-6b67-4b31-8865-19684bab966e\",\"type\":\"GlyphRenderer\"}]],[\"Sarmiento\",[{\"id\":\"b3810d7c-02f1-4598-be33-44d9f939a647\",\"type\":\"GlyphRenderer\"},{\"id\":\"0d8bf4c1-592c-41cc-a882-5f9727351000\",\"type\":\"GlyphRenderer\"}]],[\"Rawson\",[{\"id\":\"896676df-10e0-443a-8782-fd9da47be8fa\",\"type\":\"GlyphRenderer\"},{\"id\":\"dbc78b20-0c58-4c0b-989b-c7dbe9baf377\",\"type\":\"GlyphRenderer\"}]],[\"Dolavon\",[{\"id\":\"6eecd759-cd70-41c7-9c54-7a97a6241b81\",\"type\":\"GlyphRenderer\"},{\"id\":\"5cc23e06-fdbd-442b-a0f9-90865134c94d\",\"type\":\"GlyphRenderer\"}]],[\"Gaiman\",[{\"id\":\"92c95990-109c-4a5d-95b5-15992d84f334\",\"type\":\"GlyphRenderer\"},{\"id\":\"b87d0ebd-2c14-4fff-9bb6-745481c2842c\",\"type\":\"GlyphRenderer\"}]],[\"Gobernador Costa\",[{\"id\":\"49f1e862-a514-4cfc-bae5-7320e0d2120f\",\"type\":\"GlyphRenderer\"},{\"id\":\"27953b49-d012-435a-8164-45426ce83dd3\",\"type\":\"GlyphRenderer\"}]],[\"Cholila\",[{\"id\":\"89ea1c1d-6347-4672-847a-f62f04101e19\",\"type\":\"GlyphRenderer\"},{\"id\":\"ca785e32-2b20-4de6-bbd0-befbc7d5e734\",\"type\":\"GlyphRenderer\"}]],[\"Camarones\",[{\"id\":\"049688c6-84db-496a-b5bd-9b28d42a973e\",\"type\":\"GlyphRenderer\"},{\"id\":\"a33d7c8d-6955-46e2-9fd8-6d245c78a03f\",\"type\":\"GlyphRenderer\"}]],[\"Paso de Indios\",[{\"id\":\"ee74ccb1-bb84-46f8-8d99-141a5996cc24\",\"type\":\"GlyphRenderer\"},{\"id\":\"3c936e12-59ed-462a-9623-e7193e60bc3a\",\"type\":\"GlyphRenderer\"}]],[\"Paso del Sapo\",[{\"id\":\"e7c157ed-3b35-48e9-ad8e-6704d8e70c1f\",\"type\":\"GlyphRenderer\"},{\"id\":\"e3bf3b87-e822-4a81-a0d6-17aa003a8371\",\"type\":\"GlyphRenderer\"}]]],\"plot\":{\"id\":\"88cadaa5-54fd-4658-bfe0-318070df695d\",\"subtype\":\"Figure\",\"type\":\"Plot\"}},\"id\":\"4e38fe37-8a4a-4aec-b658-22a7a3944917\",\"type\":\"Legend\"},{\"attributes\":{\"line_color\":{\"value\":\"orange\"},\"line_width\":{\"value\":2},\"x\":{\"field\":\"x\"},\"y\":{\"field\":\"y\"}},\"id\":\"0a64993a-c9c5-42f8-bea4-1933425f484a\",\"type\":\"Line\"},{\"attributes\":{\"data_source\":{\"id\":\"e2717c87-96dc-4fd7-a405-2a8a0eccb490\",\"type\":\"ColumnDataSource\"},\"glyph\":{\"id\":\"fb10d18b-5366-4e95-9b78-44159c755e84\",\"type\":\"Line\"},\"hover_glyph\":null,\"nonselection_glyph\":{\"id\":\"44d2c0cd-ed53-4ffc-8a17-9ad18388e75d\",\"type\":\"Line\"},\"selection_glyph\":null},\"id\":\"0ee22e7c-5479-4865-b182-710d56dcc242\",\"type\":\"GlyphRenderer\"},{\"attributes\":{\"callback\":null,\"column_names\":[\"x\",\"y\"],\"data\":{\"x\":[\"Ciudades\",\"1991\",\"2001\",\"2010\",\"2017\",\"2019\",\"2029\",\"2039\"],\"y\":[\"Sarmiento\",\"7209\",\"8292\",\"11124\",\"13981\",\"14925\",\"20690\",\"26125\"]}},\"id\":\"67ab3f05-95ab-4c7c-8391-8826c698d656\",\"type\":\"ColumnDataSource\"},{\"attributes\":{\"fill_color\":{\"value\":\"#164c71\"},\"line_color\":{\"value\":\"#164c71\"},\"x\":{\"field\":\"x\"},\"y\":{\"field\":\"y\"}},\"id\":\"2d5dd49c-5415-4b27-a787-4e5af8d28397\",\"type\":\"Circle\"},{\"attributes\":{\"data_source\":{\"id\":\"4c48bb10-6488-45da-ba04-a0da76c49019\",\"type\":\"ColumnDataSource\"},\"glyph\":{\"id\":\"648cadba-8870-4cdf-abd5-730304afc1ae\",\"type\":\"Line\"},\"hover_glyph\":null,\"nonselection_glyph\":{\"id\":\"c2469fe1-a52b-42aa-bc57-7a1258c981d2\",\"type\":\"Line\"},\"selection_glyph\":null},\"id\":\"b87d0ebd-2c14-4fff-9bb6-745481c2842c\",\"type\":\"GlyphRenderer\"},{\"attributes\":{\"fill_alpha\":{\"value\":0.1},\"fill_color\":{\"value\":\"#1f77b4\"},\"line_alpha\":{\"value\":0.1},\"line_color\":{\"value\":\"#1f77b4\"},\"x\":{\"field\":\"x\"},\"y\":{\"field\":\"y\"}},\"id\":\"745c3e59-5cb6-4e2d-ab75-1bb6b7a7978f\",\"type\":\"Circle\"},{\"attributes\":{\"below\":[{\"id\":\"15720e53-35b8-4434-bc01-d209fe3fe33d\",\"type\":\"LinearAxis\"}],\"left\":[{\"id\":\"0fc1b8a6-3791-4cc6-95b9-f4c19e8e48d9\",\"type\":\"LinearAxis\"}],\"plot_width\":900,\"renderers\":[{\"id\":\"15720e53-35b8-4434-bc01-d209fe3fe33d\",\"type\":\"LinearAxis\"},{\"id\":\"a72358cd-6b48-4dfa-b56e-012a3179d12a\",\"type\":\"Grid\"},{\"id\":\"0fc1b8a6-3791-4cc6-95b9-f4c19e8e48d9\",\"type\":\"LinearAxis\"},{\"id\":\"76630a2b-b768-436f-a475-daa93e897d4e\",\"type\":\"Grid\"},{\"id\":\"de91330d-a71a-4f27-92f6-e6829cf1c18f\",\"type\":\"BoxAnnotation\"},{\"id\":\"4e38fe37-8a4a-4aec-b658-22a7a3944917\",\"type\":\"Legend\"},{\"id\":\"ae664b8b-1981-4258-a36b-812cf4da70e2\",\"type\":\"GlyphRenderer\"},{\"id\":\"0ee22e7c-5479-4865-b182-710d56dcc242\",\"type\":\"GlyphRenderer\"},{\"id\":\"8f6305a3-0711-4120-a53f-a7fa5ed944a4\",\"type\":\"GlyphRenderer\"},{\"id\":\"10c2d678-f942-4038-a646-e2fa83b0106d\",\"type\":\"GlyphRenderer\"},{\"id\":\"eba93761-5c08-4715-b52d-a9a1793e5f1b\",\"type\":\"GlyphRenderer\"},{\"id\":\"135a8569-f8b1-41d8-ba7f-b1f0a827c88c\",\"type\":\"GlyphRenderer\"},{\"id\":\"7e5937b1-ac85-4f2a-9f4e-f46bff5cd289\",\"type\":\"GlyphRenderer\"},{\"id\":\"fb57d4f4-6b67-4b31-8865-19684bab966e\",\"type\":\"GlyphRenderer\"},{\"id\":\"b3810d7c-02f1-4598-be33-44d9f939a647\",\"type\":\"GlyphRenderer\"},{\"id\":\"0d8bf4c1-592c-41cc-a882-5f9727351000\",\"type\":\"GlyphRenderer\"},{\"id\":\"896676df-10e0-443a-8782-fd9da47be8fa\",\"type\":\"GlyphRenderer\"},{\"id\":\"dbc78b20-0c58-4c0b-989b-c7dbe9baf377\",\"type\":\"GlyphRenderer\"},{\"id\":\"6eecd759-cd70-41c7-9c54-7a97a6241b81\",\"type\":\"GlyphRenderer\"},{\"id\":\"5cc23e06-fdbd-442b-a0f9-90865134c94d\",\"type\":\"GlyphRenderer\"},{\"id\":\"92c95990-109c-4a5d-95b5-15992d84f334\",\"type\":\"GlyphRenderer\"},{\"id\":\"b87d0ebd-2c14-4fff-9bb6-745481c2842c\",\"type\":\"GlyphRenderer\"},{\"id\":\"49f1e862-a514-4cfc-bae5-7320e0d2120f\",\"type\":\"GlyphRenderer\"},{\"id\":\"27953b49-d012-435a-8164-45426ce83dd3\",\"type\":\"GlyphRenderer\"},{\"id\":\"89ea1c1d-6347-4672-847a-f62f04101e19\",\"type\":\"GlyphRenderer\"},{\"id\":\"ca785e32-2b20-4de6-bbd0-befbc7d5e734\",\"type\":\"GlyphRenderer\"},{\"id\":\"049688c6-84db-496a-b5bd-9b28d42a973e\",\"type\":\"GlyphRenderer\"},{\"id\":\"a33d7c8d-6955-46e2-9fd8-6d245c78a03f\",\"type\":\"GlyphRenderer\"},{\"id\":\"ee74ccb1-bb84-46f8-8d99-141a5996cc24\",\"type\":\"GlyphRenderer\"},{\"id\":\"3c936e12-59ed-462a-9623-e7193e60bc3a\",\"type\":\"GlyphRenderer\"},{\"id\":\"e7c157ed-3b35-48e9-ad8e-6704d8e70c1f\",\"type\":\"GlyphRenderer\"},{\"id\":\"e3bf3b87-e822-4a81-a0d6-17aa003a8371\",\"type\":\"GlyphRenderer\"}],\"title\":{\"id\":\"36c2e31d-70f2-4df0-b559-faaf57aca394\",\"type\":\"Title\"},\"tool_events\":{\"id\":\"08031928-57a9-4a1a-8483-67e6c37d72c0\",\"type\":\"ToolEvents\"},\"toolbar\":{\"id\":\"28721ba3-9020-43b9-b96f-dc9dc400133d\",\"type\":\"Toolbar\"},\"x_range\":{\"id\":\"57d8d647-0f56-4a9b-beb6-a9915e4eb9c1\",\"type\":\"DataRange1d\"},\"y_range\":{\"id\":\"afb4e5f4-fdb8-47e7-977c-c3be35790cc0\",\"type\":\"DataRange1d\"}},\"id\":\"88cadaa5-54fd-4658-bfe0-318070df695d\",\"subtype\":\"Figure\",\"type\":\"Plot\"},{\"attributes\":{\"data_source\":{\"id\":\"62882f23-e1da-441d-ba03-1583d479ca1b\",\"type\":\"ColumnDataSource\"},\"glyph\":{\"id\":\"8a8537db-5cbc-430e-936b-ee7b86e9fe89\",\"type\":\"Line\"},\"hover_glyph\":null,\"nonselection_glyph\":{\"id\":\"edac1220-2eab-42e4-8ae3-5dafae39370b\",\"type\":\"Line\"},\"selection_glyph\":null},\"id\":\"ca785e32-2b20-4de6-bbd0-befbc7d5e734\",\"type\":\"GlyphRenderer\"},{\"attributes\":{\"line_color\":{\"value\":\"#164c71\"},\"line_width\":{\"value\":2},\"x\":{\"field\":\"x\"},\"y\":{\"field\":\"y\"}},\"id\":\"ce66cb77-cae0-4c5f-8e79-988f4b61b748\",\"type\":\"Line\"},{\"attributes\":{\"data_source\":{\"id\":\"6031aaa2-0550-45e9-b044-d2f48519d8a5\",\"type\":\"ColumnDataSource\"},\"glyph\":{\"id\":\"0a64993a-c9c5-42f8-bea4-1933425f484a\",\"type\":\"Line\"},\"hover_glyph\":null,\"nonselection_glyph\":{\"id\":\"411a3232-8b07-48cd-80b9-0b22dd76ac15\",\"type\":\"Line\"},\"selection_glyph\":null},\"id\":\"10c2d678-f942-4038-a646-e2fa83b0106d\",\"type\":\"GlyphRenderer\"},{\"attributes\":{\"line_color\":{\"value\":\"red\"},\"line_width\":{\"value\":2},\"x\":{\"field\":\"x\"},\"y\":{\"field\":\"y\"}},\"id\":\"fb10d18b-5366-4e95-9b78-44159c755e84\",\"type\":\"Line\"},{\"attributes\":{\"data_source\":{\"id\":\"51543099-bac0-49a0-aa17-30f3bababcdf\",\"type\":\"ColumnDataSource\"},\"glyph\":{\"id\":\"a85e6e79-3d2a-4898-ba4a-a5ab289ee9c2\",\"type\":\"Circle\"},\"hover_glyph\":null,\"nonselection_glyph\":{\"id\":\"696cba48-18b2-4165-a124-296fc042216f\",\"type\":\"Circle\"},\"selection_glyph\":null},\"id\":\"b3810d7c-02f1-4598-be33-44d9f939a647\",\"type\":\"GlyphRenderer\"},{\"attributes\":{\"callback\":null,\"column_names\":[\"x\",\"y\"],\"data\":{\"x\":[\"Ciudades\",\"1991\",\"2001\",\"2010\",\"2017\",\"2019\",\"2029\",\"2039\"],\"y\":[\"Dolavon\",\"2613\",\"2929\",\"3307\",\"3635\",\"3735\",\"4275\",\"4840\"]}},\"id\":\"4c48bb10-6488-45da-ba04-a0da76c49019\",\"type\":\"ColumnDataSource\"},{\"attributes\":{\"line_alpha\":{\"value\":0.1},\"line_color\":{\"value\":\"#1f77b4\"},\"line_width\":{\"value\":2},\"x\":{\"field\":\"x\"},\"y\":{\"field\":\"y\"}},\"id\":\"44d2c0cd-ed53-4ffc-8a17-9ad18388e75d\",\"type\":\"Line\"},{\"attributes\":{\"data_source\":{\"id\":\"97701ae5-368c-4435-a091-e410230b7061\",\"type\":\"ColumnDataSource\"},\"glyph\":{\"id\":\"28787b7e-605b-4350-8aae-9984c42a5ec1\",\"type\":\"Circle\"},\"hover_glyph\":null,\"nonselection_glyph\":{\"id\":\"7cb0da62-14cf-40b8-bce5-aa84315dfc9e\",\"type\":\"Circle\"},\"selection_glyph\":null},\"id\":\"ae664b8b-1981-4258-a36b-812cf4da70e2\",\"type\":\"GlyphRenderer\"},{\"attributes\":{\"data_source\":{\"id\":\"1687fbcb-9b30-4348-8e4c-057daf113b38\",\"type\":\"ColumnDataSource\"},\"glyph\":{\"id\":\"77e6ed0e-d3a0-4096-9387-da00800d7b05\",\"type\":\"Line\"},\"hover_glyph\":null,\"nonselection_glyph\":{\"id\":\"fd4e5351-ab03-4a4d-9a06-00ad1c9db743\",\"type\":\"Line\"},\"selection_glyph\":null},\"id\":\"a33d7c8d-6955-46e2-9fd8-6d245c78a03f\",\"type\":\"GlyphRenderer\"},{\"attributes\":{\"fill_alpha\":{\"value\":0.1},\"fill_color\":{\"value\":\"#1f77b4\"},\"line_alpha\":{\"value\":0.1},\"line_color\":{\"value\":\"#1f77b4\"},\"x\":{\"field\":\"x\"},\"y\":{\"field\":\"y\"}},\"id\":\"72ff7ffe-2e4f-40cd-b5aa-34dedf7ac9d1\",\"type\":\"Circle\"},{\"attributes\":{\"callback\":null,\"column_names\":[\"x\",\"y\"],\"data\":{\"x\":[\"Ciudades\",\"1991\",\"2001\",\"2010\",\"2017\",\"2019\",\"2029\",\"2039\"],\"y\":[\"Esquel\",\"23411\",\"28486\",\"32758\",\"36507\",\"37655\",\"43959\",\"51319\"]}},\"id\":\"dabc6519-701e-4446-ad7d-a4b7cc043acd\",\"type\":\"ColumnDataSource\"},{\"attributes\":{},\"id\":\"43cc1e47-3ed2-4a0d-99c2-54f9bc4522fc\",\"type\":\"BasicTickFormatter\"},{\"attributes\":{\"fill_color\":{\"value\":\"pink\"},\"line_color\":{\"value\":\"pink\"},\"x\":{\"field\":\"x\"},\"y\":{\"field\":\"y\"}},\"id\":\"db336348-0e84-4497-8039-7014f3548066\",\"type\":\"Circle\"},{\"attributes\":{\"data_source\":{\"id\":\"7f6b0651-eaff-410f-8a44-e3d22e309497\",\"type\":\"ColumnDataSource\"},\"glyph\":{\"id\":\"ff4132e5-9f5f-450a-bd01-75cb7f622587\",\"type\":\"Circle\"},\"hover_glyph\":null,\"nonselection_glyph\":{\"id\":\"72ff7ffe-2e4f-40cd-b5aa-34dedf7ac9d1\",\"type\":\"Circle\"},\"selection_glyph\":null},\"id\":\"89ea1c1d-6347-4672-847a-f62f04101e19\",\"type\":\"GlyphRenderer\"},{\"attributes\":{\"fill_alpha\":{\"value\":0.1},\"fill_color\":{\"value\":\"#1f77b4\"},\"line_alpha\":{\"value\":0.1},\"line_color\":{\"value\":\"#1f77b4\"},\"x\":{\"field\":\"x\"},\"y\":{\"field\":\"y\"}},\"id\":\"3a060d0a-9314-4534-b338-58f913dd14dd\",\"type\":\"Circle\"},{\"attributes\":{\"fill_color\":{\"value\":\"cyan\"},\"line_color\":{\"value\":\"cyan\"},\"x\":{\"field\":\"x\"},\"y\":{\"field\":\"y\"}},\"id\":\"032f12a2-6ec9-435a-93e2-162bb28ff229\",\"type\":\"Circle\"},{\"attributes\":{\"data_source\":{\"id\":\"5cfcb379-1ac1-4e9d-a3be-0e5c51fb56f5\",\"type\":\"ColumnDataSource\"},\"glyph\":{\"id\":\"ce66cb77-cae0-4c5f-8e79-988f4b61b748\",\"type\":\"Line\"},\"hover_glyph\":null,\"nonselection_glyph\":{\"id\":\"ead9c0e7-9fc2-4ca9-beb8-b36aab9814ee\",\"type\":\"Line\"},\"selection_glyph\":null},\"id\":\"3c936e12-59ed-462a-9623-e7193e60bc3a\",\"type\":\"GlyphRenderer\"},{\"attributes\":{\"fill_color\":{\"value\":\"navy\"},\"line_color\":{\"value\":\"navy\"},\"x\":{\"field\":\"x\"},\"y\":{\"field\":\"y\"}},\"id\":\"816fd262-27cb-40d7-8ea4-00b215fe3b80\",\"type\":\"Circle\"},{\"attributes\":{\"fill_alpha\":{\"value\":0.1},\"fill_color\":{\"value\":\"#1f77b4\"},\"line_alpha\":{\"value\":0.1},\"line_color\":{\"value\":\"#1f77b4\"},\"x\":{\"field\":\"x\"},\"y\":{\"field\":\"y\"}},\"id\":\"1232ca93-fb3b-4a75-ae75-ea2443ed50c2\",\"type\":\"Circle\"},{\"attributes\":{\"line_color\":{\"value\":\"#7c1b65\"},\"line_width\":{\"value\":2},\"x\":{\"field\":\"x\"},\"y\":{\"field\":\"y\"}},\"id\":\"0fa59f70-a8e6-4b2b-a276-c3c421f63a9a\",\"type\":\"Line\"},{\"attributes\":{\"data_source\":{\"id\":\"718f39be-8469-4c77-9ab3-d633c51aae42\",\"type\":\"ColumnDataSource\"},\"glyph\":{\"id\":\"3a1940c9-dc4d-41a8-b391-386badb059fb\",\"type\":\"Circle\"},\"hover_glyph\":null,\"nonselection_glyph\":{\"id\":\"be7eb264-da7f-43e3-ba98-e78c061e6be3\",\"type\":\"Circle\"},\"selection_glyph\":null},\"id\":\"8f6305a3-0711-4120-a53f-a7fa5ed944a4\",\"type\":\"GlyphRenderer\"},{\"attributes\":{\"callback\":null,\"column_names\":[\"x\",\"y\"],\"data\":{\"x\":[\"Ciudades\",\"1991\",\"2001\",\"2010\",\"2017\",\"2019\",\"2029\",\"2039\"],\"y\":[\"Trelew\",\"79340\",\"89547\",\"99430\",\"107865\",\"110404\",\"124023\",\"139322\"]}},\"id\":\"4619d2aa-2c24-4aa1-8334-1b1b4e2f2ab0\",\"type\":\"ColumnDataSource\"},{\"attributes\":{},\"id\":\"87361a67-5e3a-47c2-96a8-7992ecffa12f\",\"type\":\"BasicTicker\"},{\"attributes\":{\"callback\":null,\"column_names\":[\"x\",\"y\"],\"data\":{\"x\":[\"Ciudades\",\"1991\",\"2001\",\"2010\",\"2017\",\"2019\",\"2029\",\"2039\"],\"y\":[\"Gaiman\",\"4642\",\"5753\",\"6627\",\"7396\",\"7632\",\"8927\",\"10442\"]}},\"id\":\"7a683a92-e69a-47cc-b554-c086293aa084\",\"type\":\"ColumnDataSource\"},{\"attributes\":{\"data_source\":{\"id\":\"51437e41-1921-4498-9105-b277affcbe58\",\"type\":\"ColumnDataSource\"},\"glyph\":{\"id\":\"2c39a01d-7e31-46ad-9f10-58227c41d718\",\"type\":\"Circle\"},\"hover_glyph\":null,\"nonselection_glyph\":{\"id\":\"1232ca93-fb3b-4a75-ae75-ea2443ed50c2\",\"type\":\"Circle\"},\"selection_glyph\":null},\"id\":\"049688c6-84db-496a-b5bd-9b28d42a973e\",\"type\":\"GlyphRenderer\"},{\"attributes\":{\"fill_alpha\":{\"value\":0.1},\"fill_color\":{\"value\":\"#1f77b4\"},\"line_alpha\":{\"value\":0.1},\"line_color\":{\"value\":\"#1f77b4\"},\"x\":{\"field\":\"x\"},\"y\":{\"field\":\"y\"}},\"id\":\"e8bdcee3-afae-4811-9d50-a920a765e454\",\"type\":\"Circle\"},{\"attributes\":{\"fill_color\":{\"value\":\"firebrick\"},\"line_color\":{\"value\":\"firebrick\"},\"x\":{\"field\":\"x\"},\"y\":{\"field\":\"y\"}},\"id\":\"73d847d8-2b1d-4ae3-a9d7-ae630db45afd\",\"type\":\"Circle\"},{\"attributes\":{\"line_color\":{\"value\":\"firebrick\"},\"line_width\":{\"value\":2},\"x\":{\"field\":\"x\"},\"y\":{\"field\":\"y\"}},\"id\":\"648cadba-8870-4cdf-abd5-730304afc1ae\",\"type\":\"Line\"},{\"attributes\":{\"callback\":null},\"id\":\"57d8d647-0f56-4a9b-beb6-a9915e4eb9c1\",\"type\":\"DataRange1d\"},{\"attributes\":{\"line_alpha\":{\"value\":0.1},\"line_color\":{\"value\":\"#1f77b4\"},\"line_width\":{\"value\":2},\"x\":{\"field\":\"x\"},\"y\":{\"field\":\"y\"}},\"id\":\"427648dd-1ce7-4ae1-8a41-ae5cb86a5cd2\",\"type\":\"Line\"},{\"attributes\":{\"fill_alpha\":{\"value\":0.1},\"fill_color\":{\"value\":\"#1f77b4\"},\"line_alpha\":{\"value\":0.1},\"line_color\":{\"value\":\"#1f77b4\"},\"x\":{\"field\":\"x\"},\"y\":{\"field\":\"y\"}},\"id\":\"c600c986-5e79-4b92-ac6d-eafe647df27f\",\"type\":\"Circle\"},{\"attributes\":{\"data_source\":{\"id\":\"20a20bec-ebb4-4bcd-88eb-cc385065f67f\",\"type\":\"ColumnDataSource\"},\"glyph\":{\"id\":\"0538599b-1798-4323-aca4-e3c410a3e88a\",\"type\":\"Circle\"},\"hover_glyph\":null,\"nonselection_glyph\":{\"id\":\"0a0f3b40-e297-4c53-b218-90e0289ead58\",\"type\":\"Circle\"},\"selection_glyph\":null},\"id\":\"7e5937b1-ac85-4f2a-9f4e-f46bff5cd289\",\"type\":\"GlyphRenderer\"},{\"attributes\":{\"fill_alpha\":{\"value\":0.1},\"fill_color\":{\"value\":\"#1f77b4\"},\"line_alpha\":{\"value\":0.1},\"line_color\":{\"value\":\"#1f77b4\"},\"x\":{\"field\":\"x\"},\"y\":{\"field\":\"y\"}},\"id\":\"7cb0da62-14cf-40b8-bce5-aa84315dfc9e\",\"type\":\"Circle\"},{\"attributes\":{\"plot\":{\"id\":\"88cadaa5-54fd-4658-bfe0-318070df695d\",\"subtype\":\"Figure\",\"type\":\"Plot\"}},\"id\":\"5f197970-9abc-481d-80f5-98d94eece320\",\"type\":\"ResetTool\"},{\"attributes\":{\"data_source\":{\"id\":\"32b10efe-1906-47bd-a415-170ae677fe49\",\"type\":\"ColumnDataSource\"},\"glyph\":{\"id\":\"27bbb212-6e20-4654-bf86-6e90edd88db0\",\"type\":\"Line\"},\"hover_glyph\":null,\"nonselection_glyph\":{\"id\":\"502c0f8d-bfff-4d2a-a970-9d0837f851d6\",\"type\":\"Line\"},\"selection_glyph\":null},\"id\":\"5cc23e06-fdbd-442b-a0f9-90865134c94d\",\"type\":\"GlyphRenderer\"},{\"attributes\":{\"fill_alpha\":{\"value\":0.1},\"fill_color\":{\"value\":\"#1f77b4\"},\"line_alpha\":{\"value\":0.1},\"line_color\":{\"value\":\"#1f77b4\"},\"x\":{\"field\":\"x\"},\"y\":{\"field\":\"y\"}},\"id\":\"be7eb264-da7f-43e3-ba98-e78c061e6be3\",\"type\":\"Circle\"},{\"attributes\":{\"line_alpha\":{\"value\":0.1},\"line_color\":{\"value\":\"#1f77b4\"},\"line_width\":{\"value\":2},\"x\":{\"field\":\"x\"},\"y\":{\"field\":\"y\"}},\"id\":\"502c0f8d-bfff-4d2a-a970-9d0837f851d6\",\"type\":\"Line\"},{\"attributes\":{\"plot\":{\"id\":\"88cadaa5-54fd-4658-bfe0-318070df695d\",\"subtype\":\"Figure\",\"type\":\"Plot\"}},\"id\":\"064e7889-6222-4182-8377-a47eef8c577d\",\"type\":\"HelpTool\"},{\"attributes\":{\"data_source\":{\"id\":\"7a683a92-e69a-47cc-b554-c086293aa084\",\"type\":\"ColumnDataSource\"},\"glyph\":{\"id\":\"14b844cf-6ebb-4def-810c-1be96a77a43a\",\"type\":\"Line\"},\"hover_glyph\":null,\"nonselection_glyph\":{\"id\":\"88cf7de5-b736-4256-b641-20706d455d44\",\"type\":\"Line\"},\"selection_glyph\":null},\"id\":\"27953b49-d012-435a-8164-45426ce83dd3\",\"type\":\"GlyphRenderer\"},{\"attributes\":{\"line_color\":{\"value\":\"green\"},\"line_width\":{\"value\":2},\"x\":{\"field\":\"x\"},\"y\":{\"field\":\"y\"}},\"id\":\"55d4a230-d7e8-456f-94eb-c9d012f45268\",\"type\":\"Line\"},{\"attributes\":{\"align\":\"center\",\"plot\":null,\"text\":\"Poblaci\\u00f3n - M\\u00e9todo de las Tasas Medias Anuales Decrecientes\",\"text_color\":{\"value\":\"blue\"},\"text_font\":\"times\",\"text_font_size\":{\"value\":\"20px\"},\"text_font_style\":\"italic\"},\"id\":\"36c2e31d-70f2-4df0-b559-faaf57aca394\",\"type\":\"Title\"},{\"attributes\":{\"fill_color\":{\"value\":\"blue\"},\"line_color\":{\"value\":\"blue\"},\"x\":{\"field\":\"x\"},\"y\":{\"field\":\"y\"}},\"id\":\"f09a6535-1114-4072-a64e-36fad653ccd0\",\"type\":\"Circle\"},{\"attributes\":{\"plot\":{\"id\":\"88cadaa5-54fd-4658-bfe0-318070df695d\",\"subtype\":\"Figure\",\"type\":\"Plot\"},\"ticker\":{\"id\":\"87361a67-5e3a-47c2-96a8-7992ecffa12f\",\"type\":\"BasicTicker\"}},\"id\":\"a72358cd-6b48-4dfa-b56e-012a3179d12a\",\"type\":\"Grid\"},{\"attributes\":{\"fill_alpha\":{\"value\":0.1},\"fill_color\":{\"value\":\"#1f77b4\"},\"line_alpha\":{\"value\":0.1},\"line_color\":{\"value\":\"#1f77b4\"},\"x\":{\"field\":\"x\"},\"y\":{\"field\":\"y\"}},\"id\":\"b285fff6-88ad-47b4-84b8-058b9ab529ba\",\"type\":\"Circle\"},{\"attributes\":{\"callback\":null,\"column_names\":[\"x\",\"y\"],\"data\":{\"x\":[\"Ciudades\",\"1991\",\"2001\",\"2010\",\"2017\",\"2019\",\"2029\",\"2039\"],\"y\":[\"Camarones\",\"868\",\"1079\",\"1296\",\"1495\",\"1557\",\"1909\",\"2341\"]}},\"id\":\"124ecaa2-b9c5-48ae-815b-c53b5305b4ae\",\"type\":\"ColumnDataSource\"},{\"attributes\":{\"callback\":null,\"column_names\":[\"x\",\"y\"],\"data\":{\"x\":[\"Ciudades\",\"1991\",\"2001\",\"2010\",\"2017\",\"2019\",\"2029\",\"2039\"],\"y\":[\"Camarones\",\"868\",\"1079\",\"1296\",\"1495\",\"1557\",\"1909\",\"2341\"]}},\"id\":\"5cfcb379-1ac1-4e9d-a3be-0e5c51fb56f5\",\"type\":\"ColumnDataSource\"},{\"attributes\":{},\"id\":\"904ef424-8c16-4e0c-8a04-7735ff3c70f3\",\"type\":\"BasicTicker\"},{\"attributes\":{\"plot\":{\"id\":\"88cadaa5-54fd-4658-bfe0-318070df695d\",\"subtype\":\"Figure\",\"type\":\"Plot\"}},\"id\":\"401a2a9f-cb4f-4307-a039-2d420f4e6489\",\"type\":\"SaveTool\"},{\"attributes\":{\"callback\":null},\"id\":\"afb4e5f4-fdb8-47e7-977c-c3be35790cc0\",\"type\":\"DataRange1d\"}],\"root_ids\":[\"88cadaa5-54fd-4658-bfe0-318070df695d\"]},\"title\":\"Bokeh Application\",\"version\":\"0.12.0\"}};\n",
       "            var render_items = [{\"docid\":\"8ca71355-cce2-44e7-9cfc-904caa060218\",\"elementid\":\"0e840431-495a-4cca-8d1f-5ef84eb95f75\",\"modelid\":\"88cadaa5-54fd-4658-bfe0-318070df695d\",\"notebook_comms_target\":\"e1728602-5cea-48ee-8957-0a4ab193b690\"}];\n",
       "            \n",
       "            Bokeh.embed.embed_items(docs_json, render_items);\n",
       "        });\n",
       "      },\n",
       "      function(Bokeh) {\n",
       "      }\n",
       "    ];\n",
       "  \n",
       "    function run_inline_js() {\n",
       "      for (var i = 0; i < inline_js.length; i++) {\n",
       "        inline_js[i](window.Bokeh);\n",
       "      }\n",
       "    }\n",
       "  \n",
       "    if (window._bokeh_is_loading === 0) {\n",
       "      console.log(\"Bokeh: BokehJS loaded, going straight to plotting\");\n",
       "      run_inline_js();\n",
       "    } else {\n",
       "      load_libs(js_urls, function() {\n",
       "        console.log(\"Bokeh: BokehJS plotting callback run at\", now());\n",
       "        run_inline_js();\n",
       "      });\n",
       "    }\n",
       "  }(this));\n",
       "</script>"
      ]
     },
     "metadata": {},
     "output_type": "display_data"
    },
    {
     "data": {
      "text/html": [
       "<p><code>&lt;Bokeh Notebook handle for <strong>In[36]</strong>&gt;</code></p>"
      ],
      "text/plain": [
       "<bokeh.io._CommsHandle at 0xad9dde4c>"
      ]
     },
     "execution_count": 65,
     "metadata": {},
     "output_type": "execute_result"
    }
   ],
   "source": [
    "x = tiempo\n",
    "ciudades=[\"Comodoro Rivadavia\",\"Trelew\",\"Puerto Madryn\",\"Esquel\",\"Sarmiento\",\"Rawson\",\"Dolavon\",\"Gaiman\",\"Gobernador Costa\",\"Cholila\",\"Camarones\",\"Paso de Indios\",\"Paso del Sapo\"]\n",
    "colores=[\"red\",\"orange\",\"blue\",\"green\",\"yellow\",\"pink\",\"navy\",\"firebrick\",\"cyan\",\"magenta\",\"olive\",\"#164c71\",\"#7c1b65\"]\n",
    "\n",
    "p = figure(title=\"Población - Método de las Tasas Medias Anuales Decrecientes\",plot_width=900)\n",
    "p.title.align = \"center\"\n",
    "p.title.text_color = \"blue\"\n",
    "p.title.text_font = \"times\"\n",
    "p.title.text_font_style = \"italic\"\n",
    "p.title.text_font_size = \"20px\"\n",
    "\n",
    "p.left[0].formatter.use_scientific = False\n",
    "\n",
    "for i in range(len(ciudades)):\n",
    "    p.circle(x, proyecciones[i], legend=ciudades[i],fill_color=colores[i],line_color=colores[i])\n",
    "    p.line(x, proyecciones[i], legend=ciudades[i],line_color=colores[i], line_width=2)\n",
    "\n",
    "p.xaxis.axis_label = 'Tiempo'\n",
    "p.yaxis.axis_label = 'Población'\n",
    "\n",
    "show(p)"
   ]
  }
 ],
 "metadata": {
  "anaconda-cloud": {},
  "kernelspec": {
   "display_name": "Python [Root]",
   "language": "python",
   "name": "Python [Root]"
  },
  "language_info": {
   "codemirror_mode": {
    "name": "ipython",
    "version": 3
   },
   "file_extension": ".py",
   "mimetype": "text/x-python",
   "name": "python",
   "nbconvert_exporter": "python",
   "pygments_lexer": "ipython3",
   "version": "3.5.2"
  }
 },
 "nbformat": 4,
 "nbformat_minor": 2
}
