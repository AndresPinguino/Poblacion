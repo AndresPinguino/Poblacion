{
 "cells": [
  {
   "cell_type": "code",
   "execution_count": 2,
   "metadata": {
    "collapsed": false
   },
   "outputs": [
    {
     "ename": "ImportError",
     "evalue": "No module named 'bokeh'",
     "output_type": "error",
     "traceback": [
      "\u001b[0;31m---------------------------------------------------------------------------\u001b[0m",
      "\u001b[0;31mImportError\u001b[0m                               Traceback (most recent call last)",
      "\u001b[0;32m<ipython-input-2-dcbbd4eab75b>\u001b[0m in \u001b[0;36m<module>\u001b[0;34m()\u001b[0m\n\u001b[1;32m      1\u001b[0m \u001b[0;32mimport\u001b[0m \u001b[0mnumpy\u001b[0m \u001b[0;32mas\u001b[0m \u001b[0mnp\u001b[0m\u001b[0;34m\u001b[0m\u001b[0m\n\u001b[0;32m----> 2\u001b[0;31m \u001b[0;32mfrom\u001b[0m \u001b[0mbokeh\u001b[0m\u001b[0;34m.\u001b[0m\u001b[0mio\u001b[0m \u001b[0;32mimport\u001b[0m \u001b[0mpush_notebook\u001b[0m\u001b[0;34m,\u001b[0m \u001b[0mshow\u001b[0m\u001b[0;34m,\u001b[0m \u001b[0moutput_notebook\u001b[0m\u001b[0;34m\u001b[0m\u001b[0m\n\u001b[0m\u001b[1;32m      3\u001b[0m \u001b[0;32mfrom\u001b[0m \u001b[0mbokeh\u001b[0m\u001b[0;34m.\u001b[0m\u001b[0mplotting\u001b[0m \u001b[0;32mimport\u001b[0m \u001b[0mfigure\u001b[0m\u001b[0;34m\u001b[0m\u001b[0m\n\u001b[1;32m      4\u001b[0m \u001b[0moutput_notebook\u001b[0m\u001b[0;34m(\u001b[0m\u001b[0;34m)\u001b[0m\u001b[0;34m\u001b[0m\u001b[0m\n",
      "\u001b[0;31mImportError\u001b[0m: No module named 'bokeh'"
     ]
    }
   ],
   "source": [
    "import numpy as np\n",
    "from bokeh.io import push_notebook, show, output_notebook\n",
    "from bokeh.plotting import figure\n",
    "output_notebook()"
   ]
  },
  {
   "cell_type": "code",
   "execution_count": 4,
   "metadata": {
    "collapsed": false
   },
   "outputs": [
    {
     "data": {
      "text/html": [
       "\n",
       "\n",
       "    <div class=\"bk-root\">\n",
       "        <div class=\"bk-plotdiv\" id=\"1d886d0d-753e-4209-af59-7423b4ba760b\"></div>\n",
       "    </div>\n",
       "<script type=\"text/javascript\">\n",
       "  \n",
       "  (function(global) {\n",
       "    function now() {\n",
       "      return new Date();\n",
       "    }\n",
       "  \n",
       "    var force = false;\n",
       "  \n",
       "    if (typeof (window._bokeh_onload_callbacks) === \"undefined\" || force === true) {\n",
       "      window._bokeh_onload_callbacks = [];\n",
       "      window._bokeh_is_loading = undefined;\n",
       "    }\n",
       "  \n",
       "  \n",
       "    \n",
       "    if (typeof (window._bokeh_timeout) === \"undefined\" || force === true) {\n",
       "      window._bokeh_timeout = Date.now() + 0;\n",
       "      window._bokeh_failed_load = false;\n",
       "    }\n",
       "  \n",
       "    var NB_LOAD_WARNING = {'data': {'text/html':\n",
       "       \"<div style='background-color: #fdd'>\\n\"+\n",
       "       \"<p>\\n\"+\n",
       "       \"BokehJS does not appear to have successfully loaded. If loading BokehJS from CDN, this \\n\"+\n",
       "       \"may be due to a slow or bad network connection. Possible fixes:\\n\"+\n",
       "       \"</p>\\n\"+\n",
       "       \"<ul>\\n\"+\n",
       "       \"<li>re-rerun `output_notebook()` to attempt to load from CDN again, or</li>\\n\"+\n",
       "       \"<li>use INLINE resources instead, as so:</li>\\n\"+\n",
       "       \"</ul>\\n\"+\n",
       "       \"<code>\\n\"+\n",
       "       \"from bokeh.resources import INLINE\\n\"+\n",
       "       \"output_notebook(resources=INLINE)\\n\"+\n",
       "       \"</code>\\n\"+\n",
       "       \"</div>\"}};\n",
       "  \n",
       "    function display_loaded() {\n",
       "      if (window.Bokeh !== undefined) {\n",
       "        document.getElementById(\"1d886d0d-753e-4209-af59-7423b4ba760b\").textContent = \"BokehJS successfully loaded.\";\n",
       "      } else if (Date.now() < window._bokeh_timeout) {\n",
       "        setTimeout(display_loaded, 100)\n",
       "      }\n",
       "    }if ((window.Jupyter !== undefined) && Jupyter.notebook.kernel) {\n",
       "      comm_manager = Jupyter.notebook.kernel.comm_manager\n",
       "      comm_manager.register_target(\"65940a17-934a-402d-b501-cc08bbfd7d1d\", function () {});\n",
       "    }\n",
       "  \n",
       "    function run_callbacks() {\n",
       "      window._bokeh_onload_callbacks.forEach(function(callback) { callback() });\n",
       "      delete window._bokeh_onload_callbacks\n",
       "      console.info(\"Bokeh: all callbacks have finished\");\n",
       "    }\n",
       "  \n",
       "    function load_libs(js_urls, callback) {\n",
       "      window._bokeh_onload_callbacks.push(callback);\n",
       "      if (window._bokeh_is_loading > 0) {\n",
       "        console.log(\"Bokeh: BokehJS is being loaded, scheduling callback at\", now());\n",
       "        return null;\n",
       "      }\n",
       "      if (js_urls == null || js_urls.length === 0) {\n",
       "        run_callbacks();\n",
       "        return null;\n",
       "      }\n",
       "      console.log(\"Bokeh: BokehJS not loaded, scheduling load and callback at\", now());\n",
       "      window._bokeh_is_loading = js_urls.length;\n",
       "      for (var i = 0; i < js_urls.length; i++) {\n",
       "        var url = js_urls[i];\n",
       "        var s = document.createElement('script');\n",
       "        s.src = url;\n",
       "        s.async = false;\n",
       "        s.onreadystatechange = s.onload = function() {\n",
       "          window._bokeh_is_loading--;\n",
       "          if (window._bokeh_is_loading === 0) {\n",
       "            console.log(\"Bokeh: all BokehJS libraries loaded\");\n",
       "            run_callbacks()\n",
       "          }\n",
       "        };\n",
       "        s.onerror = function() {\n",
       "          console.warn(\"failed to load library \" + url);\n",
       "        };\n",
       "        console.log(\"Bokeh: injecting script tag for BokehJS library: \", url);\n",
       "        document.getElementsByTagName(\"head\")[0].appendChild(s);\n",
       "      }\n",
       "    };var element = document.getElementById(\"1d886d0d-753e-4209-af59-7423b4ba760b\");\n",
       "    if (element == null) {\n",
       "      console.log(\"Bokeh: ERROR: autoload.js configured with elementid '1d886d0d-753e-4209-af59-7423b4ba760b' but no matching script tag was found. \")\n",
       "      return false;\n",
       "    }\n",
       "  \n",
       "    var js_urls = [];\n",
       "  \n",
       "    var inline_js = [\n",
       "      function(Bokeh) {\n",
       "        (function() {\n",
       "          var fn = function() {\n",
       "            var docs_json = {\"ba62e2c0-3d9b-469c-8442-cef30f4a7361\":{\"roots\":{\"references\":[{\"attributes\":{\"label\":{\"value\":\"Puerto Madryn\"},\"renderers\":[{\"id\":\"c48f5a31-8750-4268-9710-1c4e4f4e7e2a\",\"type\":\"GlyphRenderer\"},{\"id\":\"de17c60b-e09e-4394-8616-5cd8aec15a37\",\"type\":\"GlyphRenderer\"}]},\"id\":\"de578ad1-93eb-4493-8886-c1e01c96f798\",\"type\":\"LegendItem\"},{\"attributes\":{},\"id\":\"c4cfc5e2-7a79-481f-aea8-3beb7e9a122f\",\"type\":\"BasicTickFormatter\"},{\"attributes\":{\"plot\":{\"id\":\"25ad9911-f2f3-4c8e-8011-68af65c9203b\",\"subtype\":\"Figure\",\"type\":\"Plot\"}},\"id\":\"c4d6a444-e2b7-4519-8265-1c7a2fb66919\",\"type\":\"ResetTool\"},{\"attributes\":{\"fill_alpha\":{\"value\":0.1},\"fill_color\":{\"value\":\"#1f77b4\"},\"line_alpha\":{\"value\":0.1},\"line_color\":{\"value\":\"#1f77b4\"},\"x\":{\"field\":\"x\"},\"y\":{\"field\":\"y\"}},\"id\":\"0e52ccfd-ed06-48ef-8067-14d959aeb8a4\",\"type\":\"Square\"},{\"attributes\":{\"callback\":null},\"id\":\"57b1e8f0-348e-401a-8851-0533018fe4f6\",\"type\":\"DataRange1d\"},{\"attributes\":{\"bottom_units\":\"screen\",\"fill_alpha\":{\"value\":0.5},\"fill_color\":{\"value\":\"lightgrey\"},\"left_units\":\"screen\",\"level\":\"overlay\",\"line_alpha\":{\"value\":1.0},\"line_color\":{\"value\":\"black\"},\"line_dash\":[4,4],\"line_width\":{\"value\":2},\"plot\":null,\"render_mode\":\"css\",\"right_units\":\"screen\",\"top_units\":\"screen\"},\"id\":\"067aa8ff-b2dd-4d55-9e38-a1bdac5fa741\",\"type\":\"BoxAnnotation\"},{\"attributes\":{\"callback\":null},\"id\":\"eb2e4d28-3093-4f75-9df7-d7ca5365a0e7\",\"type\":\"DataRange1d\"},{\"attributes\":{\"label\":{\"value\":\"Comodoro Rivadavia\"},\"renderers\":[{\"id\":\"d7d4e930-89a8-44c9-ac62-fdb7ef5e7bb1\",\"type\":\"GlyphRenderer\"},{\"id\":\"c42ccbb7-153a-4fce-aeea-89de1a8ab3f6\",\"type\":\"GlyphRenderer\"}]},\"id\":\"8e9a805d-8382-4df5-8b45-57032a0835b1\",\"type\":\"LegendItem\"},{\"attributes\":{\"plot\":{\"id\":\"25ad9911-f2f3-4c8e-8011-68af65c9203b\",\"subtype\":\"Figure\",\"type\":\"Plot\"}},\"id\":\"6edab529-6b0c-4400-8bcb-f76266180342\",\"type\":\"WheelZoomTool\"},{\"attributes\":{\"label\":{\"value\":\"Trelew\"},\"renderers\":[{\"id\":\"512ddec5-9226-41e4-8fb5-4b399571c0e2\",\"type\":\"GlyphRenderer\"}]},\"id\":\"15dc05d9-8a0f-4ccb-84d7-15e99e142d72\",\"type\":\"LegendItem\"},{\"attributes\":{\"active_drag\":\"auto\",\"active_scroll\":\"auto\",\"active_tap\":\"auto\",\"tools\":[{\"id\":\"442c364b-ee15-4962-ac4c-6fa0d34343ee\",\"type\":\"PanTool\"},{\"id\":\"6edab529-6b0c-4400-8bcb-f76266180342\",\"type\":\"WheelZoomTool\"},{\"id\":\"3692cccd-3992-4b27-9e9b-eef8b0c839db\",\"type\":\"BoxZoomTool\"},{\"id\":\"f54e3be7-d3c6-4cea-94bc-6d00c741947a\",\"type\":\"SaveTool\"},{\"id\":\"c4d6a444-e2b7-4519-8265-1c7a2fb66919\",\"type\":\"ResetTool\"},{\"id\":\"f1ffd914-8615-4fe5-bf5c-51be92d39551\",\"type\":\"HelpTool\"}]},\"id\":\"6e46fb3f-88ff-40cf-ad0d-8ffffcda9df1\",\"type\":\"Toolbar\"},{\"attributes\":{\"data_source\":{\"id\":\"10757da4-be71-4a35-b93a-a8170ab55123\",\"type\":\"ColumnDataSource\"},\"glyph\":{\"id\":\"d8afcf3e-9581-4a87-bfc9-c57b7669454d\",\"type\":\"Line\"},\"hover_glyph\":null,\"nonselection_glyph\":{\"id\":\"dd9390ef-b129-4990-a3df-ee97437b7a89\",\"type\":\"Line\"},\"selection_glyph\":null},\"id\":\"512ddec5-9226-41e4-8fb5-4b399571c0e2\",\"type\":\"GlyphRenderer\"},{\"attributes\":{\"line_alpha\":{\"value\":0.1},\"line_color\":{\"value\":\"#1f77b4\"},\"line_width\":{\"value\":2},\"x\":{\"field\":\"x\"},\"y\":{\"field\":\"y\"}},\"id\":\"c4ea41c9-df43-4cf1-949a-1e2c595af036\",\"type\":\"Line\"},{\"attributes\":{\"plot\":null,\"text\":\"\"},\"id\":\"8f17822c-757d-4348-afa7-8e77f70434b2\",\"type\":\"Title\"},{\"attributes\":{\"line_color\":{\"value\":\"green\"},\"x\":{\"field\":\"x\"},\"y\":{\"field\":\"y\"}},\"id\":\"05ffdb69-1873-4ccc-8ec4-7ac878894a6d\",\"type\":\"Line\"},{\"attributes\":{\"overlay\":{\"id\":\"067aa8ff-b2dd-4d55-9e38-a1bdac5fa741\",\"type\":\"BoxAnnotation\"},\"plot\":{\"id\":\"25ad9911-f2f3-4c8e-8011-68af65c9203b\",\"subtype\":\"Figure\",\"type\":\"Plot\"}},\"id\":\"3692cccd-3992-4b27-9e9b-eef8b0c839db\",\"type\":\"BoxZoomTool\"},{\"attributes\":{\"callback\":null,\"column_names\":[\"x\",\"y\"],\"data\":{\"x\":[1991,2001,2010,2017,2019,2029,2039],\"y\":[125725,137061,177083,216130,228791,304134,366301]}},\"id\":\"09db41fa-600b-4d02-85f7-c5747b4ba66d\",\"type\":\"ColumnDataSource\"},{\"attributes\":{\"formatter\":{\"id\":\"c4cfc5e2-7a79-481f-aea8-3beb7e9a122f\",\"type\":\"BasicTickFormatter\"},\"plot\":{\"id\":\"25ad9911-f2f3-4c8e-8011-68af65c9203b\",\"subtype\":\"Figure\",\"type\":\"Plot\"},\"ticker\":{\"id\":\"a08631d9-e304-4029-b964-866adb6342d3\",\"type\":\"BasicTicker\"}},\"id\":\"13905547-0433-4d8d-901d-d8458e1e19e6\",\"type\":\"LinearAxis\"},{\"attributes\":{},\"id\":\"3379d7c8-3649-4a77-b113-9566a9e15323\",\"type\":\"ToolEvents\"},{\"attributes\":{\"items\":[{\"id\":\"8e9a805d-8382-4df5-8b45-57032a0835b1\",\"type\":\"LegendItem\"},{\"id\":\"15dc05d9-8a0f-4ccb-84d7-15e99e142d72\",\"type\":\"LegendItem\"},{\"id\":\"de578ad1-93eb-4493-8886-c1e01c96f798\",\"type\":\"LegendItem\"}],\"plot\":{\"id\":\"25ad9911-f2f3-4c8e-8011-68af65c9203b\",\"subtype\":\"Figure\",\"type\":\"Plot\"}},\"id\":\"14f2b5b3-bf9f-49c5-8445-fc375ee66eac\",\"type\":\"Legend\"},{\"attributes\":{\"plot\":{\"id\":\"25ad9911-f2f3-4c8e-8011-68af65c9203b\",\"subtype\":\"Figure\",\"type\":\"Plot\"}},\"id\":\"f1ffd914-8615-4fe5-bf5c-51be92d39551\",\"type\":\"HelpTool\"},{\"attributes\":{\"callback\":null,\"column_names\":[\"y\",\"x\"],\"data\":{\"x\":[1991,2001,2010,2017,2019,2029,2039],\"y\":[45047,57791,81995,107635,116336,171602,236118]}},\"id\":\"8a5e6c7c-691c-4e39-8c74-7c2b5638c018\",\"type\":\"ColumnDataSource\"},{\"attributes\":{},\"id\":\"a08631d9-e304-4029-b964-866adb6342d3\",\"type\":\"BasicTicker\"},{\"attributes\":{},\"id\":\"0dc279bc-dae3-4fb4-bcd4-9e18425e2889\",\"type\":\"BasicTickFormatter\"},{\"attributes\":{\"callback\":null,\"column_names\":[\"y\",\"x\"],\"data\":{\"x\":[1991,2001,2010,2017,2019,2029,2039],\"y\":[79340,89547,99430,107865,110404,124023,139322]}},\"id\":\"10757da4-be71-4a35-b93a-a8170ab55123\",\"type\":\"ColumnDataSource\"},{\"attributes\":{\"fill_alpha\":{\"value\":0.1},\"fill_color\":{\"value\":\"#1f77b4\"},\"line_alpha\":{\"value\":0.1},\"line_color\":{\"value\":\"#1f77b4\"},\"x\":{\"field\":\"x\"},\"y\":{\"field\":\"y\"}},\"id\":\"76f19020-4e66-4f3f-88b1-cce41ba8e1f9\",\"type\":\"Circle\"},{\"attributes\":{\"data_source\":{\"id\":\"16d27bb6-5bdd-40c8-ab4b-128cf0330c86\",\"type\":\"ColumnDataSource\"},\"glyph\":{\"id\":\"05ffdb69-1873-4ccc-8ec4-7ac878894a6d\",\"type\":\"Line\"},\"hover_glyph\":null,\"nonselection_glyph\":{\"id\":\"24ca1837-8b7b-417e-ae27-917248c07e7b\",\"type\":\"Line\"},\"selection_glyph\":null},\"id\":\"de17c60b-e09e-4394-8616-5cd8aec15a37\",\"type\":\"GlyphRenderer\"},{\"attributes\":{\"dimension\":1,\"plot\":{\"id\":\"25ad9911-f2f3-4c8e-8011-68af65c9203b\",\"subtype\":\"Figure\",\"type\":\"Plot\"},\"ticker\":{\"id\":\"a08631d9-e304-4029-b964-866adb6342d3\",\"type\":\"BasicTicker\"}},\"id\":\"5c1454d1-8407-41c4-8ace-114ac75a7739\",\"type\":\"Grid\"},{\"attributes\":{\"line_color\":{\"value\":\"orange\"},\"line_dash\":[4,4],\"line_width\":{\"value\":2},\"x\":{\"field\":\"x\"},\"y\":{\"field\":\"y\"}},\"id\":\"d8afcf3e-9581-4a87-bfc9-c57b7669454d\",\"type\":\"Line\"},{\"attributes\":{\"line_alpha\":{\"value\":0.1},\"line_color\":{\"value\":\"#1f77b4\"},\"x\":{\"field\":\"x\"},\"y\":{\"field\":\"y\"}},\"id\":\"24ca1837-8b7b-417e-ae27-917248c07e7b\",\"type\":\"Line\"},{\"attributes\":{\"callback\":null,\"column_names\":[\"x\",\"y\"],\"data\":{\"x\":[1991,2001,2010,2017,2019,2029,2039],\"y\":[45047,57791,81995,107635,116336,171602,236118]}},\"id\":\"16d27bb6-5bdd-40c8-ab4b-128cf0330c86\",\"type\":\"ColumnDataSource\"},{\"attributes\":{\"data_source\":{\"id\":\"09db41fa-600b-4d02-85f7-c5747b4ba66d\",\"type\":\"ColumnDataSource\"},\"glyph\":{\"id\":\"3787cc63-ceff-4366-b2d2-adb1c1d947ed\",\"type\":\"Circle\"},\"hover_glyph\":null,\"nonselection_glyph\":{\"id\":\"76f19020-4e66-4f3f-88b1-cce41ba8e1f9\",\"type\":\"Circle\"},\"selection_glyph\":null},\"id\":\"d7d4e930-89a8-44c9-ac62-fdb7ef5e7bb1\",\"type\":\"GlyphRenderer\"},{\"attributes\":{\"callback\":null,\"column_names\":[\"x\",\"y\"],\"data\":{\"x\":[1991,2001,2010,2017,2019,2029,2039],\"y\":[125725,137061,177083,216130,228791,304134,366301]}},\"id\":\"432c550b-cd47-47d3-8dfd-df1b2839df13\",\"type\":\"ColumnDataSource\"},{\"attributes\":{\"plot\":{\"id\":\"25ad9911-f2f3-4c8e-8011-68af65c9203b\",\"subtype\":\"Figure\",\"type\":\"Plot\"}},\"id\":\"442c364b-ee15-4962-ac4c-6fa0d34343ee\",\"type\":\"PanTool\"},{\"attributes\":{\"fill_color\":{\"value\":\"green\"},\"line_color\":{\"value\":\"green\"},\"x\":{\"field\":\"x\"},\"y\":{\"field\":\"y\"}},\"id\":\"14db3e97-e33f-48da-a30c-9d6b31a20eb6\",\"type\":\"Square\"},{\"attributes\":{\"fill_color\":{\"value\":\"red\"},\"line_color\":{\"value\":\"red\"},\"x\":{\"field\":\"x\"},\"y\":{\"field\":\"y\"}},\"id\":\"3787cc63-ceff-4366-b2d2-adb1c1d947ed\",\"type\":\"Circle\"},{\"attributes\":{\"line_alpha\":{\"value\":0.1},\"line_color\":{\"value\":\"#1f77b4\"},\"line_dash\":[4,4],\"line_width\":{\"value\":2},\"x\":{\"field\":\"x\"},\"y\":{\"field\":\"y\"}},\"id\":\"dd9390ef-b129-4990-a3df-ee97437b7a89\",\"type\":\"Line\"},{\"attributes\":{\"plot\":{\"id\":\"25ad9911-f2f3-4c8e-8011-68af65c9203b\",\"subtype\":\"Figure\",\"type\":\"Plot\"},\"ticker\":{\"id\":\"052b7be4-0f6b-4ce4-b022-356acb27a238\",\"type\":\"BasicTicker\"}},\"id\":\"ba4fcf38-79ab-41d4-be8c-125b520c21b3\",\"type\":\"Grid\"},{\"attributes\":{\"plot\":{\"id\":\"25ad9911-f2f3-4c8e-8011-68af65c9203b\",\"subtype\":\"Figure\",\"type\":\"Plot\"}},\"id\":\"f54e3be7-d3c6-4cea-94bc-6d00c741947a\",\"type\":\"SaveTool\"},{\"attributes\":{\"data_source\":{\"id\":\"432c550b-cd47-47d3-8dfd-df1b2839df13\",\"type\":\"ColumnDataSource\"},\"glyph\":{\"id\":\"798878c5-73eb-4078-8219-697efe2288d0\",\"type\":\"Line\"},\"hover_glyph\":null,\"nonselection_glyph\":{\"id\":\"c4ea41c9-df43-4cf1-949a-1e2c595af036\",\"type\":\"Line\"},\"selection_glyph\":null},\"id\":\"c42ccbb7-153a-4fce-aeea-89de1a8ab3f6\",\"type\":\"GlyphRenderer\"},{\"attributes\":{\"below\":[{\"id\":\"b1688cb7-e61d-4fa1-b7fa-4201c569a373\",\"type\":\"LinearAxis\"}],\"left\":[{\"id\":\"13905547-0433-4d8d-901d-d8458e1e19e6\",\"type\":\"LinearAxis\"}],\"renderers\":[{\"id\":\"b1688cb7-e61d-4fa1-b7fa-4201c569a373\",\"type\":\"LinearAxis\"},{\"id\":\"ba4fcf38-79ab-41d4-be8c-125b520c21b3\",\"type\":\"Grid\"},{\"id\":\"13905547-0433-4d8d-901d-d8458e1e19e6\",\"type\":\"LinearAxis\"},{\"id\":\"5c1454d1-8407-41c4-8ace-114ac75a7739\",\"type\":\"Grid\"},{\"id\":\"067aa8ff-b2dd-4d55-9e38-a1bdac5fa741\",\"type\":\"BoxAnnotation\"},{\"id\":\"14f2b5b3-bf9f-49c5-8445-fc375ee66eac\",\"type\":\"Legend\"},{\"id\":\"d7d4e930-89a8-44c9-ac62-fdb7ef5e7bb1\",\"type\":\"GlyphRenderer\"},{\"id\":\"c42ccbb7-153a-4fce-aeea-89de1a8ab3f6\",\"type\":\"GlyphRenderer\"},{\"id\":\"512ddec5-9226-41e4-8fb5-4b399571c0e2\",\"type\":\"GlyphRenderer\"},{\"id\":\"c48f5a31-8750-4268-9710-1c4e4f4e7e2a\",\"type\":\"GlyphRenderer\"},{\"id\":\"de17c60b-e09e-4394-8616-5cd8aec15a37\",\"type\":\"GlyphRenderer\"}],\"title\":{\"id\":\"8f17822c-757d-4348-afa7-8e77f70434b2\",\"type\":\"Title\"},\"tool_events\":{\"id\":\"3379d7c8-3649-4a77-b113-9566a9e15323\",\"type\":\"ToolEvents\"},\"toolbar\":{\"id\":\"6e46fb3f-88ff-40cf-ad0d-8ffffcda9df1\",\"type\":\"Toolbar\"},\"x_range\":{\"id\":\"eb2e4d28-3093-4f75-9df7-d7ca5365a0e7\",\"type\":\"DataRange1d\"},\"y_range\":{\"id\":\"57b1e8f0-348e-401a-8851-0533018fe4f6\",\"type\":\"DataRange1d\"}},\"id\":\"25ad9911-f2f3-4c8e-8011-68af65c9203b\",\"subtype\":\"Figure\",\"type\":\"Plot\"},{\"attributes\":{\"line_color\":{\"value\":\"red\"},\"line_width\":{\"value\":2},\"x\":{\"field\":\"x\"},\"y\":{\"field\":\"y\"}},\"id\":\"798878c5-73eb-4078-8219-697efe2288d0\",\"type\":\"Line\"},{\"attributes\":{},\"id\":\"052b7be4-0f6b-4ce4-b022-356acb27a238\",\"type\":\"BasicTicker\"},{\"attributes\":{\"formatter\":{\"id\":\"0dc279bc-dae3-4fb4-bcd4-9e18425e2889\",\"type\":\"BasicTickFormatter\"},\"plot\":{\"id\":\"25ad9911-f2f3-4c8e-8011-68af65c9203b\",\"subtype\":\"Figure\",\"type\":\"Plot\"},\"ticker\":{\"id\":\"052b7be4-0f6b-4ce4-b022-356acb27a238\",\"type\":\"BasicTicker\"}},\"id\":\"b1688cb7-e61d-4fa1-b7fa-4201c569a373\",\"type\":\"LinearAxis\"},{\"attributes\":{\"data_source\":{\"id\":\"8a5e6c7c-691c-4e39-8c74-7c2b5638c018\",\"type\":\"ColumnDataSource\"},\"glyph\":{\"id\":\"14db3e97-e33f-48da-a30c-9d6b31a20eb6\",\"type\":\"Square\"},\"hover_glyph\":null,\"nonselection_glyph\":{\"id\":\"0e52ccfd-ed06-48ef-8067-14d959aeb8a4\",\"type\":\"Square\"},\"selection_glyph\":null},\"id\":\"c48f5a31-8750-4268-9710-1c4e4f4e7e2a\",\"type\":\"GlyphRenderer\"}],\"root_ids\":[\"25ad9911-f2f3-4c8e-8011-68af65c9203b\"]},\"title\":\"Bokeh Application\",\"version\":\"0.12.4\"}};\n",
       "            var render_items = [{\"docid\":\"ba62e2c0-3d9b-469c-8442-cef30f4a7361\",\"elementid\":\"1d886d0d-753e-4209-af59-7423b4ba760b\",\"modelid\":\"25ad9911-f2f3-4c8e-8011-68af65c9203b\",\"notebook_comms_target\":\"65940a17-934a-402d-b501-cc08bbfd7d1d\"}];\n",
       "            \n",
       "            Bokeh.embed.embed_items(docs_json, render_items);\n",
       "          };\n",
       "          if (document.readyState != \"loading\") fn();\n",
       "          else document.addEventListener(\"DOMContentLoaded\", fn);\n",
       "        })();\n",
       "      },\n",
       "      function(Bokeh) {\n",
       "      }\n",
       "    ];\n",
       "  \n",
       "    function run_inline_js() {\n",
       "      \n",
       "      if ((window.Bokeh !== undefined) || (force === true)) {\n",
       "        for (var i = 0; i < inline_js.length; i++) {\n",
       "          inline_js[i](window.Bokeh);\n",
       "        }if (force === true) {\n",
       "          display_loaded();\n",
       "        }} else if (Date.now() < window._bokeh_timeout) {\n",
       "        setTimeout(run_inline_js, 100);\n",
       "      } else if (!window._bokeh_failed_load) {\n",
       "        console.log(\"Bokeh: BokehJS failed to load within specified timeout.\");\n",
       "        window._bokeh_failed_load = true;\n",
       "      } else if (force !== true) {\n",
       "        var cell = $(document.getElementById(\"1d886d0d-753e-4209-af59-7423b4ba760b\")).parents('.cell').data().cell;\n",
       "        cell.output_area.append_execute_result(NB_LOAD_WARNING)\n",
       "      }\n",
       "  \n",
       "    }\n",
       "  \n",
       "    if (window._bokeh_is_loading === 0) {\n",
       "      console.log(\"Bokeh: BokehJS loaded, going straight to plotting\");\n",
       "      run_inline_js();\n",
       "    } else {\n",
       "      load_libs(js_urls, function() {\n",
       "        console.log(\"Bokeh: BokehJS plotting callback run at\", now());\n",
       "        run_inline_js();\n",
       "      });\n",
       "    }\n",
       "  }(this));\n",
       "</script>"
      ]
     },
     "metadata": {},
     "output_type": "display_data"
    },
    {
     "data": {
      "text/html": [
       "<p><code>&lt;Bokeh Notebook handle for <strong>In[4]</strong>&gt;</code></p>"
      ],
      "text/plain": [
       "<bokeh.io._CommsHandle at 0xaca3afec>"
      ]
     },
     "execution_count": 4,
     "metadata": {},
     "output_type": "execute_result"
    }
   ],
   "source": [
    "x = [1991,2001,2010,2017,2019,2029,2039]\n",
    "y1 = [125725,137061,177083,216130,228791,304134,366301]\n",
    "y2 = [79340,89547,99430,107865,110404,124023,139322]\n",
    "y3 = [45047,57791,81995,107635,116336,171602,236118]\n",
    "\n",
    "p = figure()\n",
    "\n",
    "p.circle(x, y1, legend=\"Comodoro Rivadavia\",fill_color=\"red\",line_color=\"red\")\n",
    "p.line(x, y1, legend=\"Comodoro Rivadavia\",line_color=\"red\", line_width=2)\n",
    "\n",
    "\n",
    "p.line(x, y2, legend=\"Trelew\",line_dash=[4, 4], line_color=\"orange\", line_width=2)\n",
    "\n",
    "p.square(x, y3, legend=\"Puerto Madryn\", fill_color=\"green\", line_color=\"green\")\n",
    "p.line(x, y3, legend=\"Puerto Madryn\", line_color=\"green\")\n",
    "\n",
    "show(p, notebook_handle=True)"
   ]
  },
  {
   "cell_type": "code",
   "execution_count": null,
   "metadata": {
    "collapsed": true
   },
   "outputs": [],
   "source": []
  }
 ],
 "metadata": {
  "kernelspec": {
   "display_name": "Python 3",
   "language": "python",
   "name": "python3"
  },
  "language_info": {
   "codemirror_mode": {
    "name": "ipython",
    "version": 3
   },
   "file_extension": ".py",
   "mimetype": "text/x-python",
   "name": "python",
   "nbconvert_exporter": "python",
   "pygments_lexer": "ipython3",
   "version": "3.5.2"
  }
 },
 "nbformat": 4,
 "nbformat_minor": 2
}
