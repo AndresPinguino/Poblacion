{
 "cells": [
  {
   "cell_type": "code",
   "execution_count": 1,
   "metadata": {
    "collapsed": false
   },
   "outputs": [
    {
     "data": {
      "text/html": [
       "\n",
       "    <div class=\"bk-banner\">\n",
       "        <a href=\"http://bokeh.pydata.org\" target=\"_blank\" class=\"bk-logo bk-logo-small bk-logo-notebook\"></a>\n",
       "        <span id=\"4d2583ab-c52e-4919-8d26-f23e77825af4\">Loading BokehJS ...</span>\n",
       "    </div>"
      ]
     },
     "metadata": {},
     "output_type": "display_data"
    },
    {
     "data": {
      "application/javascript": [
       "\n",
       "(function(global) {\n",
       "  function now() {\n",
       "    return new Date();\n",
       "  }\n",
       "\n",
       "  if (typeof (window._bokeh_onload_callbacks) === \"undefined\") {\n",
       "    window._bokeh_onload_callbacks = [];\n",
       "  }\n",
       "\n",
       "  function run_callbacks() {\n",
       "    window._bokeh_onload_callbacks.forEach(function(callback) { callback() });\n",
       "    delete window._bokeh_onload_callbacks\n",
       "    console.info(\"Bokeh: all callbacks have finished\");\n",
       "  }\n",
       "\n",
       "  function load_libs(js_urls, callback) {\n",
       "    window._bokeh_onload_callbacks.push(callback);\n",
       "    if (window._bokeh_is_loading > 0) {\n",
       "      console.log(\"Bokeh: BokehJS is being loaded, scheduling callback at\", now());\n",
       "      return null;\n",
       "    }\n",
       "    if (js_urls == null || js_urls.length === 0) {\n",
       "      run_callbacks();\n",
       "      return null;\n",
       "    }\n",
       "    console.log(\"Bokeh: BokehJS not loaded, scheduling load and callback at\", now());\n",
       "    window._bokeh_is_loading = js_urls.length;\n",
       "    for (var i = 0; i < js_urls.length; i++) {\n",
       "      var url = js_urls[i];\n",
       "      var s = document.createElement('script');\n",
       "      s.src = url;\n",
       "      s.async = false;\n",
       "      s.onreadystatechange = s.onload = function() {\n",
       "        window._bokeh_is_loading--;\n",
       "        if (window._bokeh_is_loading === 0) {\n",
       "          console.log(\"Bokeh: all BokehJS libraries loaded\");\n",
       "          run_callbacks()\n",
       "        }\n",
       "      };\n",
       "      s.onerror = function() {\n",
       "        console.warn(\"failed to load library \" + url);\n",
       "      };\n",
       "      console.log(\"Bokeh: injecting script tag for BokehJS library: \", url);\n",
       "      document.getElementsByTagName(\"head\")[0].appendChild(s);\n",
       "    }\n",
       "  };\n",
       "\n",
       "  var js_urls = ['https://cdn.pydata.org/bokeh/release/bokeh-0.11.1.min.js', 'https://cdn.pydata.org/bokeh/release/bokeh-widgets-0.11.1.min.js', 'https://cdn.pydata.org/bokeh/release/bokeh-compiler-0.11.1.min.js'];\n",
       "\n",
       "  var inline_js = [\n",
       "    function(Bokeh) {\n",
       "      Bokeh.set_log_level(\"info\");\n",
       "    },\n",
       "    \n",
       "    function(Bokeh) {\n",
       "      Bokeh.$(\"#4d2583ab-c52e-4919-8d26-f23e77825af4\").text(\"BokehJS successfully loaded\");\n",
       "    },\n",
       "    function(Bokeh) {\n",
       "      console.log(\"Bokeh: injecting CSS: https://cdn.pydata.org/bokeh/release/bokeh-0.11.1.min.css\");\n",
       "      Bokeh.embed.inject_css(\"https://cdn.pydata.org/bokeh/release/bokeh-0.11.1.min.css\");\n",
       "      console.log(\"Bokeh: injecting CSS: https://cdn.pydata.org/bokeh/release/bokeh-widgets-0.11.1.min.css\");\n",
       "      Bokeh.embed.inject_css(\"https://cdn.pydata.org/bokeh/release/bokeh-widgets-0.11.1.min.css\");\n",
       "    }\n",
       "  ];\n",
       "\n",
       "  function run_inline_js() {\n",
       "    for (var i = 0; i < inline_js.length; i++) {\n",
       "      inline_js[i](window.Bokeh);\n",
       "    }\n",
       "  }\n",
       "\n",
       "  if (window._bokeh_is_loading === 0) {\n",
       "    console.log(\"Bokeh: BokehJS loaded, going straight to plotting\");\n",
       "    run_inline_js();\n",
       "  } else {\n",
       "    load_libs(js_urls, function() {\n",
       "      console.log(\"Bokeh: BokehJS plotting callback run at\", now());\n",
       "      run_inline_js();\n",
       "    });\n",
       "  }\n",
       "}(this));"
      ]
     },
     "metadata": {},
     "output_type": "display_data"
    }
   ],
   "source": [
    "import numpy as np\n",
    "from bokeh.io import push_notebook, show, output_notebook\n",
    "from bokeh.plotting import figure\n",
    "output_notebook()"
   ]
  },
  {
   "cell_type": "code",
   "execution_count": 2,
   "metadata": {
    "collapsed": false
   },
   "outputs": [
    {
     "data": {
      "text/html": [
       "\n",
       "\n",
       "    <div class=\"plotdiv\" id=\"062875b9-2138-407d-ade8-4cb68009a34a\"></div>\n",
       "<script type=\"text/javascript\">\n",
       "  \n",
       "  (function(global) {\n",
       "    function now() {\n",
       "      return new Date();\n",
       "    }\n",
       "  \n",
       "    if (typeof (window._bokeh_onload_callbacks) === \"undefined\") {\n",
       "      window._bokeh_onload_callbacks = [];\n",
       "    }\n",
       "  \n",
       "    function run_callbacks() {\n",
       "      window._bokeh_onload_callbacks.forEach(function(callback) { callback() });\n",
       "      delete window._bokeh_onload_callbacks\n",
       "      console.info(\"Bokeh: all callbacks have finished\");\n",
       "    }\n",
       "  \n",
       "    function load_libs(js_urls, callback) {\n",
       "      window._bokeh_onload_callbacks.push(callback);\n",
       "      if (window._bokeh_is_loading > 0) {\n",
       "        console.log(\"Bokeh: BokehJS is being loaded, scheduling callback at\", now());\n",
       "        return null;\n",
       "      }\n",
       "      if (js_urls == null || js_urls.length === 0) {\n",
       "        run_callbacks();\n",
       "        return null;\n",
       "      }\n",
       "      console.log(\"Bokeh: BokehJS not loaded, scheduling load and callback at\", now());\n",
       "      window._bokeh_is_loading = js_urls.length;\n",
       "      for (var i = 0; i < js_urls.length; i++) {\n",
       "        var url = js_urls[i];\n",
       "        var s = document.createElement('script');\n",
       "        s.src = url;\n",
       "        s.async = false;\n",
       "        s.onreadystatechange = s.onload = function() {\n",
       "          window._bokeh_is_loading--;\n",
       "          if (window._bokeh_is_loading === 0) {\n",
       "            console.log(\"Bokeh: all BokehJS libraries loaded\");\n",
       "            run_callbacks()\n",
       "          }\n",
       "        };\n",
       "        s.onerror = function() {\n",
       "          console.warn(\"failed to load library \" + url);\n",
       "        };\n",
       "        console.log(\"Bokeh: injecting script tag for BokehJS library: \", url);\n",
       "        document.getElementsByTagName(\"head\")[0].appendChild(s);\n",
       "      }\n",
       "    };var element = document.getElementById(\"062875b9-2138-407d-ade8-4cb68009a34a\");\n",
       "    if (element == null) {\n",
       "      console.log(\"Bokeh: ERROR: autoload.js configured with elementid '062875b9-2138-407d-ade8-4cb68009a34a' but no matching script tag was found. \")\n",
       "      return false;\n",
       "    }\n",
       "  \n",
       "    var js_urls = [];\n",
       "  \n",
       "    var inline_js = [\n",
       "      function(Bokeh) {\n",
       "        Bokeh.$(function() {\n",
       "            var docs_json = {\"6c2bdcc6-ceb9-4c22-9a59-a4c17f0d8389\":{\"roots\":{\"references\":[{\"attributes\":{\"data_source\":{\"id\":\"6ab446e2-df84-4916-be28-672567ed497f\",\"type\":\"ColumnDataSource\"},\"glyph\":{\"id\":\"5990350e-b3ad-4fd3-9213-9e12e09f65c7\",\"type\":\"Line\"},\"hover_glyph\":null,\"nonselection_glyph\":{\"id\":\"f77952b3-0332-49f9-8e22-2689070147ba\",\"type\":\"Line\"},\"selection_glyph\":null},\"id\":\"00bf95dd-8817-4ee3-be23-dee9dd9dc550\",\"type\":\"GlyphRenderer\"},{\"attributes\":{\"line_alpha\":{\"value\":0.1},\"line_color\":{\"value\":\"#1f77b4\"},\"line_width\":{\"value\":2},\"x\":{\"field\":\"x\"},\"y\":{\"field\":\"y\"}},\"id\":\"f77952b3-0332-49f9-8e22-2689070147ba\",\"type\":\"Line\"},{\"attributes\":{\"callback\":null,\"column_names\":[\"y\",\"x\"],\"data\":{\"x\":[1991,2001,2010,2017,2019,2029,2039],\"y\":[125725,137061,177083,216130,228791,304134,366301]}},\"id\":\"22114f23-9346-422c-b11f-21c5f773f590\",\"type\":\"ColumnDataSource\"},{\"attributes\":{\"plot\":{\"id\":\"e327ba70-0050-426e-9578-2b8e44a3ee61\",\"subtype\":\"Figure\",\"type\":\"Plot\"}},\"id\":\"edd2a2ed-9cb9-4602-967d-348133b2425d\",\"type\":\"PreviewSaveTool\"},{\"attributes\":{\"plot\":{\"id\":\"e327ba70-0050-426e-9578-2b8e44a3ee61\",\"subtype\":\"Figure\",\"type\":\"Plot\"}},\"id\":\"94a8128e-724b-4a4d-a145-e109d74a6c49\",\"type\":\"ResetTool\"},{\"attributes\":{\"callback\":null},\"id\":\"6c536903-1773-4ce2-b124-fdc7ab97d088\",\"type\":\"DataRange1d\"},{\"attributes\":{\"plot\":{\"id\":\"e327ba70-0050-426e-9578-2b8e44a3ee61\",\"subtype\":\"Figure\",\"type\":\"Plot\"}},\"id\":\"d4eab5ff-d1be-4d9b-b9d3-cde6574dd416\",\"type\":\"WheelZoomTool\"},{\"attributes\":{\"fill_color\":{\"value\":\"green\"},\"line_color\":{\"value\":\"green\"},\"x\":{\"field\":\"x\"},\"y\":{\"field\":\"y\"}},\"id\":\"f8fd9726-33d8-4633-88a6-31476b93b68f\",\"type\":\"Square\"},{\"attributes\":{\"bottom_units\":\"screen\",\"fill_alpha\":{\"value\":0.5},\"fill_color\":{\"value\":\"lightgrey\"},\"left_units\":\"screen\",\"level\":\"overlay\",\"line_alpha\":{\"value\":1.0},\"line_color\":{\"value\":\"black\"},\"line_dash\":[4,4],\"line_width\":{\"value\":2},\"plot\":null,\"render_mode\":\"css\",\"right_units\":\"screen\",\"top_units\":\"screen\"},\"id\":\"f449ebb6-67e8-4d37-8898-23b65c94f123\",\"type\":\"BoxAnnotation\"},{\"attributes\":{\"callback\":null},\"id\":\"22ddc656-1501-4964-8360-9948de8a9d0c\",\"type\":\"DataRange1d\"},{\"attributes\":{\"line_alpha\":{\"value\":0.1},\"line_color\":{\"value\":\"#1f77b4\"},\"x\":{\"field\":\"x\"},\"y\":{\"field\":\"y\"}},\"id\":\"a2085307-9d2b-4a96-89c3-c8cc008130a0\",\"type\":\"Line\"},{\"attributes\":{},\"id\":\"3b39a47b-2f94-4c9b-82bb-e4bc26a39002\",\"type\":\"BasicTicker\"},{\"attributes\":{\"overlay\":{\"id\":\"f449ebb6-67e8-4d37-8898-23b65c94f123\",\"type\":\"BoxAnnotation\"},\"plot\":{\"id\":\"e327ba70-0050-426e-9578-2b8e44a3ee61\",\"subtype\":\"Figure\",\"type\":\"Plot\"}},\"id\":\"53b54c3d-e1cd-4622-89e6-087405c05e6a\",\"type\":\"BoxZoomTool\"},{\"attributes\":{\"below\":[{\"id\":\"b7f8f6cd-8f42-41f5-b428-73e22e2e46bd\",\"type\":\"LinearAxis\"}],\"left\":[{\"id\":\"aa59d58c-2a6c-4b7e-9095-47c9449dce43\",\"type\":\"LinearAxis\"}],\"renderers\":[{\"id\":\"b7f8f6cd-8f42-41f5-b428-73e22e2e46bd\",\"type\":\"LinearAxis\"},{\"id\":\"ee7e4537-2729-489e-98c4-3699348c20e8\",\"type\":\"Grid\"},{\"id\":\"aa59d58c-2a6c-4b7e-9095-47c9449dce43\",\"type\":\"LinearAxis\"},{\"id\":\"fc956012-eb07-4294-979f-81ffe6bd53b8\",\"type\":\"Grid\"},{\"id\":\"f449ebb6-67e8-4d37-8898-23b65c94f123\",\"type\":\"BoxAnnotation\"},{\"id\":\"36d6d066-5822-4112-87f8-a7d584145b98\",\"type\":\"Legend\"},{\"id\":\"4da04e7d-2121-47c3-928b-8ccb9e956594\",\"type\":\"GlyphRenderer\"},{\"id\":\"00bf95dd-8817-4ee3-be23-dee9dd9dc550\",\"type\":\"GlyphRenderer\"},{\"id\":\"e6de5c1a-443c-42b1-a770-10e7c5ea14fa\",\"type\":\"GlyphRenderer\"},{\"id\":\"f68f711d-10be-42b7-95bc-5f31067e5c03\",\"type\":\"GlyphRenderer\"},{\"id\":\"e5926818-02ee-4b4d-817a-a4fb4caf7180\",\"type\":\"GlyphRenderer\"}],\"tool_events\":{\"id\":\"4e8bbcb8-6a00-45cb-9d99-f81ff15bf96d\",\"type\":\"ToolEvents\"},\"tools\":[{\"id\":\"03d67e7c-3d3f-4be5-a5c9-73f1a2ddf5b3\",\"type\":\"PanTool\"},{\"id\":\"d4eab5ff-d1be-4d9b-b9d3-cde6574dd416\",\"type\":\"WheelZoomTool\"},{\"id\":\"53b54c3d-e1cd-4622-89e6-087405c05e6a\",\"type\":\"BoxZoomTool\"},{\"id\":\"edd2a2ed-9cb9-4602-967d-348133b2425d\",\"type\":\"PreviewSaveTool\"},{\"id\":\"28e086d2-2239-4d9e-8be6-ffd2cd1ad70e\",\"type\":\"ResizeTool\"},{\"id\":\"94a8128e-724b-4a4d-a145-e109d74a6c49\",\"type\":\"ResetTool\"},{\"id\":\"b74660f1-f19f-4013-a450-c2fd5e2b3067\",\"type\":\"HelpTool\"}],\"x_range\":{\"id\":\"6c536903-1773-4ce2-b124-fdc7ab97d088\",\"type\":\"DataRange1d\"},\"y_range\":{\"id\":\"22ddc656-1501-4964-8360-9948de8a9d0c\",\"type\":\"DataRange1d\"}},\"id\":\"e327ba70-0050-426e-9578-2b8e44a3ee61\",\"subtype\":\"Figure\",\"type\":\"Plot\"},{\"attributes\":{\"line_color\":{\"value\":\"orange\"},\"line_dash\":[4,4],\"line_width\":{\"value\":2},\"x\":{\"field\":\"x\"},\"y\":{\"field\":\"y\"}},\"id\":\"d6dc3e2e-b3be-45d9-b51a-0add4b45e894\",\"type\":\"Line\"},{\"attributes\":{\"callback\":null,\"column_names\":[\"x\",\"y\"],\"data\":{\"x\":[1991,2001,2010,2017,2019,2029,2039],\"y\":[125725,137061,177083,216130,228791,304134,366301]}},\"id\":\"6ab446e2-df84-4916-be28-672567ed497f\",\"type\":\"ColumnDataSource\"},{\"attributes\":{\"fill_color\":{\"value\":\"red\"},\"line_color\":{\"value\":\"red\"},\"x\":{\"field\":\"x\"},\"y\":{\"field\":\"y\"}},\"id\":\"bab78b0d-9f49-400d-afa5-3dfafc3f6c75\",\"type\":\"Circle\"},{\"attributes\":{\"data_source\":{\"id\":\"50fb60b4-5ecf-47e8-bcc2-4d37f44da278\",\"type\":\"ColumnDataSource\"},\"glyph\":{\"id\":\"d6dc3e2e-b3be-45d9-b51a-0add4b45e894\",\"type\":\"Line\"},\"hover_glyph\":null,\"nonselection_glyph\":{\"id\":\"80e3aac8-223a-49b5-b904-721634491f1a\",\"type\":\"Line\"},\"selection_glyph\":null},\"id\":\"e6de5c1a-443c-42b1-a770-10e7c5ea14fa\",\"type\":\"GlyphRenderer\"},{\"attributes\":{\"line_color\":{\"value\":\"green\"},\"x\":{\"field\":\"x\"},\"y\":{\"field\":\"y\"}},\"id\":\"c7cf6d95-4e7f-49a5-bb2b-b56652a22cfa\",\"type\":\"Line\"},{\"attributes\":{\"plot\":{\"id\":\"e327ba70-0050-426e-9578-2b8e44a3ee61\",\"subtype\":\"Figure\",\"type\":\"Plot\"},\"ticker\":{\"id\":\"3b39a47b-2f94-4c9b-82bb-e4bc26a39002\",\"type\":\"BasicTicker\"}},\"id\":\"ee7e4537-2729-489e-98c4-3699348c20e8\",\"type\":\"Grid\"},{\"attributes\":{},\"id\":\"ce5cf83e-4226-49ce-a0b4-6719c5d654f9\",\"type\":\"BasicTickFormatter\"},{\"attributes\":{\"data_source\":{\"id\":\"2aff0487-c0ae-482d-aa54-7ea815b6f24d\",\"type\":\"ColumnDataSource\"},\"glyph\":{\"id\":\"c7cf6d95-4e7f-49a5-bb2b-b56652a22cfa\",\"type\":\"Line\"},\"hover_glyph\":null,\"nonselection_glyph\":{\"id\":\"a2085307-9d2b-4a96-89c3-c8cc008130a0\",\"type\":\"Line\"},\"selection_glyph\":null},\"id\":\"e5926818-02ee-4b4d-817a-a4fb4caf7180\",\"type\":\"GlyphRenderer\"},{\"attributes\":{\"callback\":null,\"column_names\":[\"y\",\"x\"],\"data\":{\"x\":[1991,2001,2010,2017,2019,2029,2039],\"y\":[45047,57791,81995,107635,116336,171602,236118]}},\"id\":\"397d9861-3c0a-40f7-89cf-ce7fdbb2cad8\",\"type\":\"ColumnDataSource\"},{\"attributes\":{\"data_source\":{\"id\":\"397d9861-3c0a-40f7-89cf-ce7fdbb2cad8\",\"type\":\"ColumnDataSource\"},\"glyph\":{\"id\":\"f8fd9726-33d8-4633-88a6-31476b93b68f\",\"type\":\"Square\"},\"hover_glyph\":null,\"nonselection_glyph\":{\"id\":\"0ef862fe-55cc-4f40-bcee-0d618b153fb5\",\"type\":\"Square\"},\"selection_glyph\":null},\"id\":\"f68f711d-10be-42b7-95bc-5f31067e5c03\",\"type\":\"GlyphRenderer\"},{\"attributes\":{\"fill_alpha\":{\"value\":0.1},\"fill_color\":{\"value\":\"#1f77b4\"},\"line_alpha\":{\"value\":0.1},\"line_color\":{\"value\":\"#1f77b4\"},\"x\":{\"field\":\"x\"},\"y\":{\"field\":\"y\"}},\"id\":\"62964fe2-6af0-446b-91f9-95e4b6da154c\",\"type\":\"Circle\"},{\"attributes\":{\"plot\":{\"id\":\"e327ba70-0050-426e-9578-2b8e44a3ee61\",\"subtype\":\"Figure\",\"type\":\"Plot\"}},\"id\":\"28e086d2-2239-4d9e-8be6-ffd2cd1ad70e\",\"type\":\"ResizeTool\"},{\"attributes\":{},\"id\":\"10f82f0d-24e2-4e2a-a217-b6f888d2b727\",\"type\":\"BasicTicker\"},{\"attributes\":{\"dimension\":1,\"plot\":{\"id\":\"e327ba70-0050-426e-9578-2b8e44a3ee61\",\"subtype\":\"Figure\",\"type\":\"Plot\"},\"ticker\":{\"id\":\"10f82f0d-24e2-4e2a-a217-b6f888d2b727\",\"type\":\"BasicTicker\"}},\"id\":\"fc956012-eb07-4294-979f-81ffe6bd53b8\",\"type\":\"Grid\"},{\"attributes\":{},\"id\":\"67732f15-c2ad-4418-a6a8-8e30f77ddd60\",\"type\":\"BasicTickFormatter\"},{\"attributes\":{\"legends\":[[\"Comodoro Rivadavia\",[{\"id\":\"4da04e7d-2121-47c3-928b-8ccb9e956594\",\"type\":\"GlyphRenderer\"},{\"id\":\"00bf95dd-8817-4ee3-be23-dee9dd9dc550\",\"type\":\"GlyphRenderer\"}]],[\"Trelew\",[{\"id\":\"e6de5c1a-443c-42b1-a770-10e7c5ea14fa\",\"type\":\"GlyphRenderer\"}]],[\"Puerto Madryn\",[{\"id\":\"f68f711d-10be-42b7-95bc-5f31067e5c03\",\"type\":\"GlyphRenderer\"},{\"id\":\"e5926818-02ee-4b4d-817a-a4fb4caf7180\",\"type\":\"GlyphRenderer\"}]]],\"plot\":{\"id\":\"e327ba70-0050-426e-9578-2b8e44a3ee61\",\"subtype\":\"Figure\",\"type\":\"Plot\"}},\"id\":\"36d6d066-5822-4112-87f8-a7d584145b98\",\"type\":\"Legend\"},{\"attributes\":{\"callback\":null,\"column_names\":[\"y\",\"x\"],\"data\":{\"x\":[1991,2001,2010,2017,2019,2029,2039],\"y\":[79340,89547,99430,107865,110404,124023,139322]}},\"id\":\"50fb60b4-5ecf-47e8-bcc2-4d37f44da278\",\"type\":\"ColumnDataSource\"},{\"attributes\":{\"data_source\":{\"id\":\"22114f23-9346-422c-b11f-21c5f773f590\",\"type\":\"ColumnDataSource\"},\"glyph\":{\"id\":\"bab78b0d-9f49-400d-afa5-3dfafc3f6c75\",\"type\":\"Circle\"},\"hover_glyph\":null,\"nonselection_glyph\":{\"id\":\"62964fe2-6af0-446b-91f9-95e4b6da154c\",\"type\":\"Circle\"},\"selection_glyph\":null},\"id\":\"4da04e7d-2121-47c3-928b-8ccb9e956594\",\"type\":\"GlyphRenderer\"},{\"attributes\":{\"line_color\":{\"value\":\"red\"},\"line_width\":{\"value\":2},\"x\":{\"field\":\"x\"},\"y\":{\"field\":\"y\"}},\"id\":\"5990350e-b3ad-4fd3-9213-9e12e09f65c7\",\"type\":\"Line\"},{\"attributes\":{\"formatter\":{\"id\":\"ce5cf83e-4226-49ce-a0b4-6719c5d654f9\",\"type\":\"BasicTickFormatter\"},\"plot\":{\"id\":\"e327ba70-0050-426e-9578-2b8e44a3ee61\",\"subtype\":\"Figure\",\"type\":\"Plot\"},\"ticker\":{\"id\":\"3b39a47b-2f94-4c9b-82bb-e4bc26a39002\",\"type\":\"BasicTicker\"}},\"id\":\"b7f8f6cd-8f42-41f5-b428-73e22e2e46bd\",\"type\":\"LinearAxis\"},{\"attributes\":{\"fill_alpha\":{\"value\":0.1},\"fill_color\":{\"value\":\"#1f77b4\"},\"line_alpha\":{\"value\":0.1},\"line_color\":{\"value\":\"#1f77b4\"},\"x\":{\"field\":\"x\"},\"y\":{\"field\":\"y\"}},\"id\":\"0ef862fe-55cc-4f40-bcee-0d618b153fb5\",\"type\":\"Square\"},{\"attributes\":{},\"id\":\"4e8bbcb8-6a00-45cb-9d99-f81ff15bf96d\",\"type\":\"ToolEvents\"},{\"attributes\":{\"formatter\":{\"id\":\"67732f15-c2ad-4418-a6a8-8e30f77ddd60\",\"type\":\"BasicTickFormatter\"},\"plot\":{\"id\":\"e327ba70-0050-426e-9578-2b8e44a3ee61\",\"subtype\":\"Figure\",\"type\":\"Plot\"},\"ticker\":{\"id\":\"10f82f0d-24e2-4e2a-a217-b6f888d2b727\",\"type\":\"BasicTicker\"}},\"id\":\"aa59d58c-2a6c-4b7e-9095-47c9449dce43\",\"type\":\"LinearAxis\"},{\"attributes\":{\"plot\":{\"id\":\"e327ba70-0050-426e-9578-2b8e44a3ee61\",\"subtype\":\"Figure\",\"type\":\"Plot\"}},\"id\":\"b74660f1-f19f-4013-a450-c2fd5e2b3067\",\"type\":\"HelpTool\"},{\"attributes\":{\"callback\":null,\"column_names\":[\"y\",\"x\"],\"data\":{\"x\":[1991,2001,2010,2017,2019,2029,2039],\"y\":[45047,57791,81995,107635,116336,171602,236118]}},\"id\":\"2aff0487-c0ae-482d-aa54-7ea815b6f24d\",\"type\":\"ColumnDataSource\"},{\"attributes\":{\"plot\":{\"id\":\"e327ba70-0050-426e-9578-2b8e44a3ee61\",\"subtype\":\"Figure\",\"type\":\"Plot\"}},\"id\":\"03d67e7c-3d3f-4be5-a5c9-73f1a2ddf5b3\",\"type\":\"PanTool\"},{\"attributes\":{\"line_alpha\":{\"value\":0.1},\"line_color\":{\"value\":\"#1f77b4\"},\"line_dash\":[4,4],\"line_width\":{\"value\":2},\"x\":{\"field\":\"x\"},\"y\":{\"field\":\"y\"}},\"id\":\"80e3aac8-223a-49b5-b904-721634491f1a\",\"type\":\"Line\"}],\"root_ids\":[\"e327ba70-0050-426e-9578-2b8e44a3ee61\"]},\"title\":\"Bokeh Application\",\"version\":\"0.11.1\"}};\n",
       "            var render_items = [{\"docid\":\"6c2bdcc6-ceb9-4c22-9a59-a4c17f0d8389\",\"elementid\":\"062875b9-2138-407d-ade8-4cb68009a34a\",\"modelid\":\"e327ba70-0050-426e-9578-2b8e44a3ee61\",\"notebook_comms_target\":\"03f352bf-33e5-414a-9ede-3d4c907c20dc\"}];\n",
       "            \n",
       "            Bokeh.embed.embed_items(docs_json, render_items);\n",
       "        });\n",
       "      },\n",
       "      function(Bokeh) {\n",
       "      }\n",
       "    ];\n",
       "  \n",
       "    function run_inline_js() {\n",
       "      for (var i = 0; i < inline_js.length; i++) {\n",
       "        inline_js[i](window.Bokeh);\n",
       "      }\n",
       "    }\n",
       "  \n",
       "    if (window._bokeh_is_loading === 0) {\n",
       "      console.log(\"Bokeh: BokehJS loaded, going straight to plotting\");\n",
       "      run_inline_js();\n",
       "    } else {\n",
       "      load_libs(js_urls, function() {\n",
       "        console.log(\"Bokeh: BokehJS plotting callback run at\", now());\n",
       "        run_inline_js();\n",
       "      });\n",
       "    }\n",
       "  }(this));\n",
       "</script>"
      ]
     },
     "metadata": {},
     "output_type": "display_data"
    },
    {
     "data": {
      "text/html": [
       "<p><code>&lt;Bokeh Notebook handle for <strong>In[2]</strong>&gt;</code></p>"
      ],
      "text/plain": [
       "<bokeh.io._CommsHandle at 0x7f5c0aee1d30>"
      ]
     },
     "execution_count": 2,
     "metadata": {},
     "output_type": "execute_result"
    }
   ],
   "source": [
    "x = [1991,2001,2010,2017,2019,2029,2039]\n",
    "y1 = [125725,137061,177083,216130,228791,304134,366301]\n",
    "y2 = [79340,89547,99430,107865,110404,124023,139322]\n",
    "y3 = [45047,57791,81995,107635,116336,171602,236118]\n",
    "\n",
    "p = figure()\n",
    "\n",
    "p.circle(x, y1, legend=\"Comodoro Rivadavia\",fill_color=\"red\",line_color=\"red\")\n",
    "p.line(x, y1, legend=\"Comodoro Rivadavia\",line_color=\"red\", line_width=2)\n",
    "\n",
    "\n",
    "p.line(x, y2, legend=\"Trelew\",line_dash=[4, 4], line_color=\"orange\", line_width=2)\n",
    "\n",
    "p.square(x, y3, legend=\"Puerto Madryn\", fill_color=\"green\", line_color=\"green\")\n",
    "p.line(x, y3, legend=\"Puerto Madryn\", line_color=\"green\")\n",
    "\n",
    "show(p)"
   ]
  },
  {
   "cell_type": "code",
   "execution_count": null,
   "metadata": {
    "collapsed": true
   },
   "outputs": [],
   "source": []
  }
 ],
 "metadata": {
  "kernelspec": {
   "display_name": "Python 3",
   "language": "python",
   "name": "python3"
  },
  "language_info": {
   "codemirror_mode": {
    "name": "ipython",
    "version": 3
   },
   "file_extension": ".py",
   "mimetype": "text/x-python",
   "name": "python",
   "nbconvert_exporter": "python",
   "pygments_lexer": "ipython3",
   "version": "3.5.2"
  }
 },
 "nbformat": 4,
 "nbformat_minor": 2
}
