{
 "cells": [
  {
   "cell_type": "code",
   "execution_count": 3,
   "metadata": {
    "collapsed": false
   },
   "outputs": [
    {
     "data": {
      "text/html": [
       "\n",
       "    <div class=\"bk-banner\">\n",
       "        <a href=\"http://bokeh.pydata.org\" target=\"_blank\" class=\"bk-logo bk-logo-small bk-logo-notebook\"></a>\n",
       "        <span id=\"24d1e104-767a-408b-bd8d-e933ae708a8e\">Loading BokehJS ...</span>\n",
       "    </div>"
      ]
     },
     "metadata": {},
     "output_type": "display_data"
    },
    {
     "data": {
      "application/javascript": [
       "\n",
       "(function(global) {\n",
       "  function now() {\n",
       "    return new Date();\n",
       "  }\n",
       "\n",
       "  if (typeof (window._bokeh_onload_callbacks) === \"undefined\") {\n",
       "    window._bokeh_onload_callbacks = [];\n",
       "  }\n",
       "\n",
       "  function run_callbacks() {\n",
       "    window._bokeh_onload_callbacks.forEach(function(callback) { callback() });\n",
       "    delete window._bokeh_onload_callbacks\n",
       "    console.info(\"Bokeh: all callbacks have finished\");\n",
       "  }\n",
       "\n",
       "  function load_libs(js_urls, callback) {\n",
       "    window._bokeh_onload_callbacks.push(callback);\n",
       "    if (window._bokeh_is_loading > 0) {\n",
       "      console.log(\"Bokeh: BokehJS is being loaded, scheduling callback at\", now());\n",
       "      return null;\n",
       "    }\n",
       "    if (js_urls == null || js_urls.length === 0) {\n",
       "      run_callbacks();\n",
       "      return null;\n",
       "    }\n",
       "    console.log(\"Bokeh: BokehJS not loaded, scheduling load and callback at\", now());\n",
       "    window._bokeh_is_loading = js_urls.length;\n",
       "    for (var i = 0; i < js_urls.length; i++) {\n",
       "      var url = js_urls[i];\n",
       "      var s = document.createElement('script');\n",
       "      s.src = url;\n",
       "      s.async = false;\n",
       "      s.onreadystatechange = s.onload = function() {\n",
       "        window._bokeh_is_loading--;\n",
       "        if (window._bokeh_is_loading === 0) {\n",
       "          console.log(\"Bokeh: all BokehJS libraries loaded\");\n",
       "          run_callbacks()\n",
       "        }\n",
       "      };\n",
       "      s.onerror = function() {\n",
       "        console.warn(\"failed to load library \" + url);\n",
       "      };\n",
       "      console.log(\"Bokeh: injecting script tag for BokehJS library: \", url);\n",
       "      document.getElementsByTagName(\"head\")[0].appendChild(s);\n",
       "    }\n",
       "  };\n",
       "\n",
       "  var js_urls = ['https://cdn.pydata.org/bokeh/release/bokeh-0.11.1.min.js', 'https://cdn.pydata.org/bokeh/release/bokeh-widgets-0.11.1.min.js', 'https://cdn.pydata.org/bokeh/release/bokeh-compiler-0.11.1.min.js'];\n",
       "\n",
       "  var inline_js = [\n",
       "    function(Bokeh) {\n",
       "      Bokeh.set_log_level(\"info\");\n",
       "    },\n",
       "    \n",
       "    function(Bokeh) {\n",
       "      Bokeh.$(\"#24d1e104-767a-408b-bd8d-e933ae708a8e\").text(\"BokehJS successfully loaded\");\n",
       "    },\n",
       "    function(Bokeh) {\n",
       "      console.log(\"Bokeh: injecting CSS: https://cdn.pydata.org/bokeh/release/bokeh-0.11.1.min.css\");\n",
       "      Bokeh.embed.inject_css(\"https://cdn.pydata.org/bokeh/release/bokeh-0.11.1.min.css\");\n",
       "      console.log(\"Bokeh: injecting CSS: https://cdn.pydata.org/bokeh/release/bokeh-widgets-0.11.1.min.css\");\n",
       "      Bokeh.embed.inject_css(\"https://cdn.pydata.org/bokeh/release/bokeh-widgets-0.11.1.min.css\");\n",
       "    }\n",
       "  ];\n",
       "\n",
       "  function run_inline_js() {\n",
       "    for (var i = 0; i < inline_js.length; i++) {\n",
       "      inline_js[i](window.Bokeh);\n",
       "    }\n",
       "  }\n",
       "\n",
       "  if (window._bokeh_is_loading === 0) {\n",
       "    console.log(\"Bokeh: BokehJS loaded, going straight to plotting\");\n",
       "    run_inline_js();\n",
       "  } else {\n",
       "    load_libs(js_urls, function() {\n",
       "      console.log(\"Bokeh: BokehJS plotting callback run at\", now());\n",
       "      run_inline_js();\n",
       "    });\n",
       "  }\n",
       "}(this));"
      ]
     },
     "metadata": {},
     "output_type": "display_data"
    }
   ],
   "source": [
    "import numpy as np\n",
    "from bokeh.io import push_notebook, show, output_notebook\n",
    "from bokeh.plotting import figure\n",
    "output_notebook()"
   ]
  },
  {
   "cell_type": "code",
   "execution_count": 4,
   "metadata": {
    "collapsed": false
   },
   "outputs": [
    {
     "data": {
      "text/html": [
       "\n",
       "\n",
       "    <div class=\"plotdiv\" id=\"ec782450-8cec-4791-bfac-5551ea432b24\"></div>\n",
       "<script type=\"text/javascript\">\n",
       "  \n",
       "  (function(global) {\n",
       "    function now() {\n",
       "      return new Date();\n",
       "    }\n",
       "  \n",
       "    if (typeof (window._bokeh_onload_callbacks) === \"undefined\") {\n",
       "      window._bokeh_onload_callbacks = [];\n",
       "    }\n",
       "  \n",
       "    function run_callbacks() {\n",
       "      window._bokeh_onload_callbacks.forEach(function(callback) { callback() });\n",
       "      delete window._bokeh_onload_callbacks\n",
       "      console.info(\"Bokeh: all callbacks have finished\");\n",
       "    }\n",
       "  \n",
       "    function load_libs(js_urls, callback) {\n",
       "      window._bokeh_onload_callbacks.push(callback);\n",
       "      if (window._bokeh_is_loading > 0) {\n",
       "        console.log(\"Bokeh: BokehJS is being loaded, scheduling callback at\", now());\n",
       "        return null;\n",
       "      }\n",
       "      if (js_urls == null || js_urls.length === 0) {\n",
       "        run_callbacks();\n",
       "        return null;\n",
       "      }\n",
       "      console.log(\"Bokeh: BokehJS not loaded, scheduling load and callback at\", now());\n",
       "      window._bokeh_is_loading = js_urls.length;\n",
       "      for (var i = 0; i < js_urls.length; i++) {\n",
       "        var url = js_urls[i];\n",
       "        var s = document.createElement('script');\n",
       "        s.src = url;\n",
       "        s.async = false;\n",
       "        s.onreadystatechange = s.onload = function() {\n",
       "          window._bokeh_is_loading--;\n",
       "          if (window._bokeh_is_loading === 0) {\n",
       "            console.log(\"Bokeh: all BokehJS libraries loaded\");\n",
       "            run_callbacks()\n",
       "          }\n",
       "        };\n",
       "        s.onerror = function() {\n",
       "          console.warn(\"failed to load library \" + url);\n",
       "        };\n",
       "        console.log(\"Bokeh: injecting script tag for BokehJS library: \", url);\n",
       "        document.getElementsByTagName(\"head\")[0].appendChild(s);\n",
       "      }\n",
       "    };var element = document.getElementById(\"ec782450-8cec-4791-bfac-5551ea432b24\");\n",
       "    if (element == null) {\n",
       "      console.log(\"Bokeh: ERROR: autoload.js configured with elementid 'ec782450-8cec-4791-bfac-5551ea432b24' but no matching script tag was found. \")\n",
       "      return false;\n",
       "    }\n",
       "  \n",
       "    var js_urls = [];\n",
       "  \n",
       "    var inline_js = [\n",
       "      function(Bokeh) {\n",
       "        Bokeh.$(function() {\n",
       "            var docs_json = {\"82483cd7-2bff-4a8c-be2a-afcfdee26004\":{\"roots\":{\"references\":[{\"attributes\":{\"line_alpha\":{\"value\":0.1},\"line_color\":{\"value\":\"#1f77b4\"},\"x\":{\"field\":\"x\"},\"y\":{\"field\":\"y\"}},\"id\":\"ae07b3f8-a6a7-4c73-88c0-e1afa1620432\",\"type\":\"Line\"},{\"attributes\":{\"data_source\":{\"id\":\"fe855d25-9baf-4c2d-9d0c-b0c7c45b4d59\",\"type\":\"ColumnDataSource\"},\"glyph\":{\"id\":\"ccda6b89-f521-42a9-ba4c-8b371061fe01\",\"type\":\"Line\"},\"hover_glyph\":null,\"nonselection_glyph\":{\"id\":\"4c2f1e2b-dee1-4549-9fcd-99b4cb29602a\",\"type\":\"Line\"},\"selection_glyph\":null},\"id\":\"fc559266-dfa9-4249-b2ad-84eb821c84a1\",\"type\":\"GlyphRenderer\"},{\"attributes\":{\"callback\":null,\"column_names\":[\"x\",\"y\"],\"data\":{\"x\":[1991,2001,2010,2017,2019,2029,2039],\"y\":[79340,89547,99430,107865,110404,124023,139322]}},\"id\":\"ae1f1d02-f805-4ea4-8b27-6ba945103507\",\"type\":\"ColumnDataSource\"},{\"attributes\":{\"plot\":{\"id\":\"3ac7c2ad-f23f-496b-a235-b6dbc3a2384f\",\"subtype\":\"Figure\",\"type\":\"Plot\"}},\"id\":\"c7663ac9-224b-4eba-9227-4add2af986fe\",\"type\":\"ResizeTool\"},{\"attributes\":{\"data_source\":{\"id\":\"28d7a1df-f66d-40f6-9d0e-62a5d488f004\",\"type\":\"ColumnDataSource\"},\"glyph\":{\"id\":\"c57d4c35-e102-470a-b1e7-2b2cba26d264\",\"type\":\"Square\"},\"hover_glyph\":null,\"nonselection_glyph\":{\"id\":\"c57e69ed-0d4d-4ef7-b5a0-0b50c9a2352d\",\"type\":\"Square\"},\"selection_glyph\":null},\"id\":\"65f93e7c-fdfc-4de7-8a91-ee5d904c726b\",\"type\":\"GlyphRenderer\"},{\"attributes\":{\"data_source\":{\"id\":\"ae1f1d02-f805-4ea4-8b27-6ba945103507\",\"type\":\"ColumnDataSource\"},\"glyph\":{\"id\":\"98def9d4-6c88-4534-b7bc-24bf7da1bb5b\",\"type\":\"Line\"},\"hover_glyph\":null,\"nonselection_glyph\":{\"id\":\"4d98dca4-f522-410c-890a-4991f4cea781\",\"type\":\"Line\"},\"selection_glyph\":null},\"id\":\"e90c8288-0360-499a-b0e2-1f3640c67d3a\",\"type\":\"GlyphRenderer\"},{\"attributes\":{\"plot\":{\"id\":\"3ac7c2ad-f23f-496b-a235-b6dbc3a2384f\",\"subtype\":\"Figure\",\"type\":\"Plot\"},\"ticker\":{\"id\":\"fb3a78a9-ac70-4c68-bb5d-ab965c03ab73\",\"type\":\"BasicTicker\"}},\"id\":\"fb53c08f-14a2-4f27-9ec2-f7f8be2e1372\",\"type\":\"Grid\"},{\"attributes\":{},\"id\":\"2f8d5d1d-5f02-4ecc-ad8b-163998d580a7\",\"type\":\"ToolEvents\"},{\"attributes\":{\"line_color\":{\"value\":\"green\"},\"x\":{\"field\":\"x\"},\"y\":{\"field\":\"y\"}},\"id\":\"1dff0313-f2d3-4024-88b1-6d3a69cd2ad5\",\"type\":\"Line\"},{\"attributes\":{\"fill_color\":{\"value\":\"green\"},\"line_color\":{\"value\":\"green\"},\"x\":{\"field\":\"x\"},\"y\":{\"field\":\"y\"}},\"id\":\"c57d4c35-e102-470a-b1e7-2b2cba26d264\",\"type\":\"Square\"},{\"attributes\":{\"callback\":null},\"id\":\"1683ef1c-e695-4d74-a697-59220f5d2dd0\",\"type\":\"DataRange1d\"},{\"attributes\":{\"plot\":{\"id\":\"3ac7c2ad-f23f-496b-a235-b6dbc3a2384f\",\"subtype\":\"Figure\",\"type\":\"Plot\"}},\"id\":\"59851595-66ca-4dfb-b94b-62a40e375d4f\",\"type\":\"WheelZoomTool\"},{\"attributes\":{\"line_alpha\":{\"value\":0.1},\"line_color\":{\"value\":\"#1f77b4\"},\"line_dash\":[4,4],\"line_width\":{\"value\":2},\"x\":{\"field\":\"x\"},\"y\":{\"field\":\"y\"}},\"id\":\"4d98dca4-f522-410c-890a-4991f4cea781\",\"type\":\"Line\"},{\"attributes\":{\"plot\":{\"id\":\"3ac7c2ad-f23f-496b-a235-b6dbc3a2384f\",\"subtype\":\"Figure\",\"type\":\"Plot\"}},\"id\":\"8aabc9cc-f597-4d30-84a7-a3b3a9bea2a6\",\"type\":\"HelpTool\"},{\"attributes\":{\"callback\":null,\"column_names\":[\"y\",\"x\"],\"data\":{\"x\":[1991,2001,2010,2017,2019,2029,2039],\"y\":[125725,137061,177083,216130,228791,304134,366301]}},\"id\":\"d7285412-2e54-472a-8f53-40c13ab33624\",\"type\":\"ColumnDataSource\"},{\"attributes\":{\"line_color\":{\"value\":\"orange\"},\"line_dash\":[4,4],\"line_width\":{\"value\":2},\"x\":{\"field\":\"x\"},\"y\":{\"field\":\"y\"}},\"id\":\"98def9d4-6c88-4534-b7bc-24bf7da1bb5b\",\"type\":\"Line\"},{\"attributes\":{\"dimension\":1,\"plot\":{\"id\":\"3ac7c2ad-f23f-496b-a235-b6dbc3a2384f\",\"subtype\":\"Figure\",\"type\":\"Plot\"},\"ticker\":{\"id\":\"01ec0bde-8411-47ea-9385-c94cf6d388f9\",\"type\":\"BasicTicker\"}},\"id\":\"3a2d65a5-b544-4894-bd21-ca99bb4627b7\",\"type\":\"Grid\"},{\"attributes\":{\"plot\":{\"id\":\"3ac7c2ad-f23f-496b-a235-b6dbc3a2384f\",\"subtype\":\"Figure\",\"type\":\"Plot\"}},\"id\":\"f0ab91ca-ea54-46c1-aede-5a4cb8e185e6\",\"type\":\"PanTool\"},{\"attributes\":{\"plot\":{\"id\":\"3ac7c2ad-f23f-496b-a235-b6dbc3a2384f\",\"subtype\":\"Figure\",\"type\":\"Plot\"}},\"id\":\"e5af6df3-dc3f-4aa4-9701-0510aab86730\",\"type\":\"PreviewSaveTool\"},{\"attributes\":{\"callback\":null,\"column_names\":[\"y\",\"x\"],\"data\":{\"x\":[1991,2001,2010,2017,2019,2029,2039],\"y\":[125725,137061,177083,216130,228791,304134,366301]}},\"id\":\"fe855d25-9baf-4c2d-9d0c-b0c7c45b4d59\",\"type\":\"ColumnDataSource\"},{\"attributes\":{\"plot\":{\"id\":\"3ac7c2ad-f23f-496b-a235-b6dbc3a2384f\",\"subtype\":\"Figure\",\"type\":\"Plot\"}},\"id\":\"9bfb7b5a-7a9a-47e1-9d5e-96d42c1eafe3\",\"type\":\"ResetTool\"},{\"attributes\":{\"callback\":null},\"id\":\"7978cd36-4052-4282-9276-ddf349fd5247\",\"type\":\"DataRange1d\"},{\"attributes\":{\"axis_label\":\"Poblacion\",\"formatter\":{\"id\":\"f300a9aa-f27c-4faf-abb1-3352a54d7e30\",\"type\":\"BasicTickFormatter\"},\"plot\":{\"id\":\"3ac7c2ad-f23f-496b-a235-b6dbc3a2384f\",\"subtype\":\"Figure\",\"type\":\"Plot\"},\"ticker\":{\"id\":\"01ec0bde-8411-47ea-9385-c94cf6d388f9\",\"type\":\"BasicTicker\"}},\"id\":\"1d22b192-8b95-4850-b5b0-5d22d65efe52\",\"type\":\"LinearAxis\"},{\"attributes\":{\"below\":[{\"id\":\"3fd604b8-abbb-4aa6-a171-63fdfa1f26cf\",\"type\":\"LinearAxis\"}],\"left\":[{\"id\":\"1d22b192-8b95-4850-b5b0-5d22d65efe52\",\"type\":\"LinearAxis\"}],\"renderers\":[{\"id\":\"3fd604b8-abbb-4aa6-a171-63fdfa1f26cf\",\"type\":\"LinearAxis\"},{\"id\":\"fb53c08f-14a2-4f27-9ec2-f7f8be2e1372\",\"type\":\"Grid\"},{\"id\":\"1d22b192-8b95-4850-b5b0-5d22d65efe52\",\"type\":\"LinearAxis\"},{\"id\":\"3a2d65a5-b544-4894-bd21-ca99bb4627b7\",\"type\":\"Grid\"},{\"id\":\"0217a02e-41d5-46ff-9231-d80999009a18\",\"type\":\"BoxAnnotation\"},{\"id\":\"6defe930-a893-4162-84af-addbeedf1a5f\",\"type\":\"Legend\"},{\"id\":\"2b0d3560-5692-4ea4-86eb-8e25b45966ef\",\"type\":\"GlyphRenderer\"},{\"id\":\"fc559266-dfa9-4249-b2ad-84eb821c84a1\",\"type\":\"GlyphRenderer\"},{\"id\":\"e90c8288-0360-499a-b0e2-1f3640c67d3a\",\"type\":\"GlyphRenderer\"},{\"id\":\"65f93e7c-fdfc-4de7-8a91-ee5d904c726b\",\"type\":\"GlyphRenderer\"},{\"id\":\"22732311-5439-40fe-b236-6b2ebb4fd8ef\",\"type\":\"GlyphRenderer\"}],\"title\":\"Poblacion\",\"tool_events\":{\"id\":\"2f8d5d1d-5f02-4ecc-ad8b-163998d580a7\",\"type\":\"ToolEvents\"},\"tools\":[{\"id\":\"f0ab91ca-ea54-46c1-aede-5a4cb8e185e6\",\"type\":\"PanTool\"},{\"id\":\"59851595-66ca-4dfb-b94b-62a40e375d4f\",\"type\":\"WheelZoomTool\"},{\"id\":\"900520f5-3d8e-45b3-829a-0530d0663856\",\"type\":\"BoxZoomTool\"},{\"id\":\"e5af6df3-dc3f-4aa4-9701-0510aab86730\",\"type\":\"PreviewSaveTool\"},{\"id\":\"c7663ac9-224b-4eba-9227-4add2af986fe\",\"type\":\"ResizeTool\"},{\"id\":\"9bfb7b5a-7a9a-47e1-9d5e-96d42c1eafe3\",\"type\":\"ResetTool\"},{\"id\":\"8aabc9cc-f597-4d30-84a7-a3b3a9bea2a6\",\"type\":\"HelpTool\"}],\"x_range\":{\"id\":\"7978cd36-4052-4282-9276-ddf349fd5247\",\"type\":\"DataRange1d\"},\"y_range\":{\"id\":\"1683ef1c-e695-4d74-a697-59220f5d2dd0\",\"type\":\"DataRange1d\"}},\"id\":\"3ac7c2ad-f23f-496b-a235-b6dbc3a2384f\",\"subtype\":\"Figure\",\"type\":\"Plot\"},{\"attributes\":{\"line_color\":{\"value\":\"red\"},\"line_width\":{\"value\":2},\"x\":{\"field\":\"x\"},\"y\":{\"field\":\"y\"}},\"id\":\"ccda6b89-f521-42a9-ba4c-8b371061fe01\",\"type\":\"Line\"},{\"attributes\":{\"fill_alpha\":{\"value\":0.1},\"fill_color\":{\"value\":\"#1f77b4\"},\"line_alpha\":{\"value\":0.1},\"line_color\":{\"value\":\"#1f77b4\"},\"x\":{\"field\":\"x\"},\"y\":{\"field\":\"y\"}},\"id\":\"c57e69ed-0d4d-4ef7-b5a0-0b50c9a2352d\",\"type\":\"Square\"},{\"attributes\":{\"line_alpha\":{\"value\":0.1},\"line_color\":{\"value\":\"#1f77b4\"},\"line_width\":{\"value\":2},\"x\":{\"field\":\"x\"},\"y\":{\"field\":\"y\"}},\"id\":\"4c2f1e2b-dee1-4549-9fcd-99b4cb29602a\",\"type\":\"Line\"},{\"attributes\":{\"fill_color\":{\"value\":\"red\"},\"line_color\":{\"value\":\"red\"},\"x\":{\"field\":\"x\"},\"y\":{\"field\":\"y\"}},\"id\":\"6f2eb496-a2d9-4120-a205-c41070e2596b\",\"type\":\"Circle\"},{\"attributes\":{\"use_scientific\":false},\"id\":\"f300a9aa-f27c-4faf-abb1-3352a54d7e30\",\"type\":\"BasicTickFormatter\"},{\"attributes\":{},\"id\":\"fb3a78a9-ac70-4c68-bb5d-ab965c03ab73\",\"type\":\"BasicTicker\"},{\"attributes\":{\"bottom_units\":\"screen\",\"fill_alpha\":{\"value\":0.5},\"fill_color\":{\"value\":\"lightgrey\"},\"left_units\":\"screen\",\"level\":\"overlay\",\"line_alpha\":{\"value\":1.0},\"line_color\":{\"value\":\"black\"},\"line_dash\":[4,4],\"line_width\":{\"value\":2},\"plot\":null,\"render_mode\":\"css\",\"right_units\":\"screen\",\"top_units\":\"screen\"},\"id\":\"0217a02e-41d5-46ff-9231-d80999009a18\",\"type\":\"BoxAnnotation\"},{\"attributes\":{\"callback\":null,\"column_names\":[\"y\",\"x\"],\"data\":{\"x\":[1991,2001,2010,2017,2019,2029,2039],\"y\":[45047,57791,81995,107635,116336,171602,236118]}},\"id\":\"28d7a1df-f66d-40f6-9d0e-62a5d488f004\",\"type\":\"ColumnDataSource\"},{\"attributes\":{\"data_source\":{\"id\":\"4ac39f6b-3d96-4dca-b9d7-76c21b887160\",\"type\":\"ColumnDataSource\"},\"glyph\":{\"id\":\"1dff0313-f2d3-4024-88b1-6d3a69cd2ad5\",\"type\":\"Line\"},\"hover_glyph\":null,\"nonselection_glyph\":{\"id\":\"ae07b3f8-a6a7-4c73-88c0-e1afa1620432\",\"type\":\"Line\"},\"selection_glyph\":null},\"id\":\"22732311-5439-40fe-b236-6b2ebb4fd8ef\",\"type\":\"GlyphRenderer\"},{\"attributes\":{\"callback\":null,\"column_names\":[\"y\",\"x\"],\"data\":{\"x\":[1991,2001,2010,2017,2019,2029,2039],\"y\":[45047,57791,81995,107635,116336,171602,236118]}},\"id\":\"4ac39f6b-3d96-4dca-b9d7-76c21b887160\",\"type\":\"ColumnDataSource\"},{\"attributes\":{\"overlay\":{\"id\":\"0217a02e-41d5-46ff-9231-d80999009a18\",\"type\":\"BoxAnnotation\"},\"plot\":{\"id\":\"3ac7c2ad-f23f-496b-a235-b6dbc3a2384f\",\"subtype\":\"Figure\",\"type\":\"Plot\"}},\"id\":\"900520f5-3d8e-45b3-829a-0530d0663856\",\"type\":\"BoxZoomTool\"},{\"attributes\":{},\"id\":\"fbeccdb1-f989-4f16-92f6-cc34cadb4b52\",\"type\":\"BasicTickFormatter\"},{\"attributes\":{\"legends\":[[\"Comodoro Rivadavia\",[{\"id\":\"2b0d3560-5692-4ea4-86eb-8e25b45966ef\",\"type\":\"GlyphRenderer\"},{\"id\":\"fc559266-dfa9-4249-b2ad-84eb821c84a1\",\"type\":\"GlyphRenderer\"}]],[\"Trelew\",[{\"id\":\"e90c8288-0360-499a-b0e2-1f3640c67d3a\",\"type\":\"GlyphRenderer\"}]],[\"Puerto Madryn\",[{\"id\":\"65f93e7c-fdfc-4de7-8a91-ee5d904c726b\",\"type\":\"GlyphRenderer\"},{\"id\":\"22732311-5439-40fe-b236-6b2ebb4fd8ef\",\"type\":\"GlyphRenderer\"}]]],\"plot\":{\"id\":\"3ac7c2ad-f23f-496b-a235-b6dbc3a2384f\",\"subtype\":\"Figure\",\"type\":\"Plot\"}},\"id\":\"6defe930-a893-4162-84af-addbeedf1a5f\",\"type\":\"Legend\"},{\"attributes\":{\"data_source\":{\"id\":\"d7285412-2e54-472a-8f53-40c13ab33624\",\"type\":\"ColumnDataSource\"},\"glyph\":{\"id\":\"6f2eb496-a2d9-4120-a205-c41070e2596b\",\"type\":\"Circle\"},\"hover_glyph\":null,\"nonselection_glyph\":{\"id\":\"5666295a-4ac3-49a1-a17a-6d5d3b99a42e\",\"type\":\"Circle\"},\"selection_glyph\":null},\"id\":\"2b0d3560-5692-4ea4-86eb-8e25b45966ef\",\"type\":\"GlyphRenderer\"},{\"attributes\":{\"fill_alpha\":{\"value\":0.1},\"fill_color\":{\"value\":\"#1f77b4\"},\"line_alpha\":{\"value\":0.1},\"line_color\":{\"value\":\"#1f77b4\"},\"x\":{\"field\":\"x\"},\"y\":{\"field\":\"y\"}},\"id\":\"5666295a-4ac3-49a1-a17a-6d5d3b99a42e\",\"type\":\"Circle\"},{\"attributes\":{},\"id\":\"01ec0bde-8411-47ea-9385-c94cf6d388f9\",\"type\":\"BasicTicker\"},{\"attributes\":{\"axis_label\":\"Tiempo\",\"formatter\":{\"id\":\"fbeccdb1-f989-4f16-92f6-cc34cadb4b52\",\"type\":\"BasicTickFormatter\"},\"plot\":{\"id\":\"3ac7c2ad-f23f-496b-a235-b6dbc3a2384f\",\"subtype\":\"Figure\",\"type\":\"Plot\"},\"ticker\":{\"id\":\"fb3a78a9-ac70-4c68-bb5d-ab965c03ab73\",\"type\":\"BasicTicker\"}},\"id\":\"3fd604b8-abbb-4aa6-a171-63fdfa1f26cf\",\"type\":\"LinearAxis\"}],\"root_ids\":[\"3ac7c2ad-f23f-496b-a235-b6dbc3a2384f\"]},\"title\":\"Bokeh Application\",\"version\":\"0.11.1\"}};\n",
       "            var render_items = [{\"docid\":\"82483cd7-2bff-4a8c-be2a-afcfdee26004\",\"elementid\":\"ec782450-8cec-4791-bfac-5551ea432b24\",\"modelid\":\"3ac7c2ad-f23f-496b-a235-b6dbc3a2384f\",\"notebook_comms_target\":\"172d340c-af2c-48f0-8a24-4640a9ac66d5\"}];\n",
       "            \n",
       "            Bokeh.embed.embed_items(docs_json, render_items);\n",
       "        });\n",
       "      },\n",
       "      function(Bokeh) {\n",
       "      }\n",
       "    ];\n",
       "  \n",
       "    function run_inline_js() {\n",
       "      for (var i = 0; i < inline_js.length; i++) {\n",
       "        inline_js[i](window.Bokeh);\n",
       "      }\n",
       "    }\n",
       "  \n",
       "    if (window._bokeh_is_loading === 0) {\n",
       "      console.log(\"Bokeh: BokehJS loaded, going straight to plotting\");\n",
       "      run_inline_js();\n",
       "    } else {\n",
       "      load_libs(js_urls, function() {\n",
       "        console.log(\"Bokeh: BokehJS plotting callback run at\", now());\n",
       "        run_inline_js();\n",
       "      });\n",
       "    }\n",
       "  }(this));\n",
       "</script>"
      ]
     },
     "metadata": {},
     "output_type": "display_data"
    },
    {
     "data": {
      "text/html": [
       "<p><code>&lt;Bokeh Notebook handle for <strong>In[4]</strong>&gt;</code></p>"
      ],
      "text/plain": [
       "<bokeh.io._CommsHandle at 0x7f4e4b251710>"
      ]
     },
     "execution_count": 4,
     "metadata": {},
     "output_type": "execute_result"
    }
   ],
   "source": [
    "x = [1991,2001,2010,2017,2019,2029,2039]\n",
    "y1 = [125725,137061,177083,216130,228791,304134,366301]\n",
    "y2 = [79340,89547,99430,107865,110404,124023,139322]\n",
    "y3 = [45047,57791,81995,107635,116336,171602,236118]\n",
    "\n",
    "p = figure(title=\"Poblacion\")\n",
    "p.left[0].formatter.use_scientific = False\n",
    "\n",
    "p.circle(x, y1, legend=\"Comodoro Rivadavia\",fill_color=\"red\",line_color=\"red\")\n",
    "p.line(x, y1, legend=\"Comodoro Rivadavia\",line_color=\"red\", line_width=2)\n",
    "\n",
    "\n",
    "p.line(x, y2, legend=\"Trelew\",line_dash=[4, 4], line_color=\"orange\", line_width=2)\n",
    "\n",
    "p.square(x, y3, legend=\"Puerto Madryn\", fill_color=\"green\", line_color=\"green\")\n",
    "p.line(x, y3, legend=\"Puerto Madryn\", line_color=\"green\")\n",
    "\n",
    "p.xaxis.axis_label = 'Tiempo'\n",
    "p.yaxis.axis_label = 'Poblacion'\n",
    "\n",
    "show(p)"
   ]
  },
  {
   "cell_type": "code",
   "execution_count": null,
   "metadata": {
    "collapsed": true
   },
   "outputs": [],
   "source": []
  }
 ],
 "metadata": {
  "kernelspec": {
   "display_name": "Python 3",
   "language": "python",
   "name": "python3"
  },
  "language_info": {
   "codemirror_mode": {
    "name": "ipython",
    "version": 3
   },
   "file_extension": ".py",
   "mimetype": "text/x-python",
   "name": "python",
   "nbconvert_exporter": "python",
   "pygments_lexer": "ipython3",
   "version": "3.5.2"
  }
 },
 "nbformat": 4,
 "nbformat_minor": 2
}
